{
 "cells": [
  {
   "cell_type": "code",
   "execution_count": 1,
   "metadata": {
    "collapsed": false
   },
   "outputs": [
    {
     "name": "stderr",
     "output_type": "stream",
     "text": [
      "//anaconda/lib/python3.4/site-packages/sklearn/cross_validation.py:44: DeprecationWarning: This module was deprecated in version 0.18 in favor of the model_selection module into which all the refactored classes and functions are moved. Also note that the interface of the new CV iterators are different from that of this module. This module will be removed in 0.20.\n",
      "  \"This module will be removed in 0.20.\", DeprecationWarning)\n"
     ]
    }
   ],
   "source": [
    "import pandas as pd\n",
    "import numpy as np\n",
    "import matplotlib.pyplot as plt\n",
    "from collections import Counter\n",
    "from collections import defaultdict\n",
    "from functools import partial\n",
    "from itertools import count\n",
    "from nltk.stem.wordnet import WordNetLemmatizer\n",
    "from nltk.stem import PorterStemmer\n",
    "from nltk.corpus import stopwords\n",
    "from nltk import pos_tag\n",
    "import string\n",
    "import re\n",
    "from sklearn import preprocessing\n",
    "from sklearn.neighbors import NearestNeighbors\n",
    "from sklearn.cross_validation import KFold\n",
    "from sklearn.svm import SVC\n",
    "import re\n",
    "from sklearn.decomposition import PCA\n",
    "from sklearn.multiclass import OneVsRestClassifier\n",
    "from sklearn.svm import LinearSVC,SVC\n",
    "import heapq\n",
    "from sklearn.linear_model import LogisticRegression\n",
    "from sklearn.preprocessing import MultiLabelBinarizer\n",
    "%matplotlib inline"
   ]
  },
  {
   "cell_type": "code",
   "execution_count": 2,
   "metadata": {
    "collapsed": true
   },
   "outputs": [],
   "source": [
    "# imageDF2 = pd.read_csv(\"../../final/data/features_train/features_resnet1000intermediate_train.csv\", header =None)"
   ]
  },
  {
   "cell_type": "code",
   "execution_count": 5,
   "metadata": {
    "collapsed": false
   },
   "outputs": [
    {
     "data": {
      "text/html": [
       "<div>\n",
       "<table border=\"1\" class=\"dataframe\">\n",
       "  <thead>\n",
       "    <tr style=\"text-align: right;\">\n",
       "      <th></th>\n",
       "      <th>0</th>\n",
       "      <th>1</th>\n",
       "      <th>2</th>\n",
       "      <th>3</th>\n",
       "      <th>4</th>\n",
       "      <th>5</th>\n",
       "      <th>6</th>\n",
       "      <th>7</th>\n",
       "      <th>8</th>\n",
       "      <th>9</th>\n",
       "      <th>...</th>\n",
       "      <th>2039</th>\n",
       "      <th>2040</th>\n",
       "      <th>2041</th>\n",
       "      <th>2042</th>\n",
       "      <th>2043</th>\n",
       "      <th>2044</th>\n",
       "      <th>2045</th>\n",
       "      <th>2046</th>\n",
       "      <th>2047</th>\n",
       "      <th>2048</th>\n",
       "    </tr>\n",
       "  </thead>\n",
       "  <tbody>\n",
       "    <tr>\n",
       "      <th>0</th>\n",
       "      <td>images_train/5373.jpg</td>\n",
       "      <td>0.460352</td>\n",
       "      <td>1.018530</td>\n",
       "      <td>0.283533</td>\n",
       "      <td>0.053866</td>\n",
       "      <td>1.071661</td>\n",
       "      <td>0.017668</td>\n",
       "      <td>0.330733</td>\n",
       "      <td>0.092461</td>\n",
       "      <td>0.611386</td>\n",
       "      <td>...</td>\n",
       "      <td>0.164259</td>\n",
       "      <td>0.422783</td>\n",
       "      <td>0.592163</td>\n",
       "      <td>0.349664</td>\n",
       "      <td>0.130692</td>\n",
       "      <td>0.245438</td>\n",
       "      <td>0.021640</td>\n",
       "      <td>0.412349</td>\n",
       "      <td>0.443392</td>\n",
       "      <td>0.035718</td>\n",
       "    </tr>\n",
       "    <tr>\n",
       "      <th>1</th>\n",
       "      <td>images_train/984.jpg</td>\n",
       "      <td>1.498549</td>\n",
       "      <td>0.295754</td>\n",
       "      <td>0.266695</td>\n",
       "      <td>0.265754</td>\n",
       "      <td>0.793800</td>\n",
       "      <td>0.115943</td>\n",
       "      <td>0.237539</td>\n",
       "      <td>0.612437</td>\n",
       "      <td>1.229246</td>\n",
       "      <td>...</td>\n",
       "      <td>0.421009</td>\n",
       "      <td>0.462610</td>\n",
       "      <td>0.552496</td>\n",
       "      <td>0.138283</td>\n",
       "      <td>0.205361</td>\n",
       "      <td>0.343715</td>\n",
       "      <td>0.160027</td>\n",
       "      <td>0.172050</td>\n",
       "      <td>0.106674</td>\n",
       "      <td>0.054805</td>\n",
       "    </tr>\n",
       "    <tr>\n",
       "      <th>2</th>\n",
       "      <td>images_train/7127.jpg</td>\n",
       "      <td>0.460160</td>\n",
       "      <td>0.570405</td>\n",
       "      <td>0.535643</td>\n",
       "      <td>0.073016</td>\n",
       "      <td>0.158414</td>\n",
       "      <td>0.391194</td>\n",
       "      <td>0.088051</td>\n",
       "      <td>1.249013</td>\n",
       "      <td>0.032401</td>\n",
       "      <td>...</td>\n",
       "      <td>0.232817</td>\n",
       "      <td>0.338647</td>\n",
       "      <td>0.925935</td>\n",
       "      <td>0.150575</td>\n",
       "      <td>0.220055</td>\n",
       "      <td>0.008997</td>\n",
       "      <td>0.135737</td>\n",
       "      <td>0.325504</td>\n",
       "      <td>0.006667</td>\n",
       "      <td>0.432770</td>\n",
       "    </tr>\n",
       "    <tr>\n",
       "      <th>3</th>\n",
       "      <td>images_train/5293.jpg</td>\n",
       "      <td>0.626306</td>\n",
       "      <td>0.095554</td>\n",
       "      <td>0.175943</td>\n",
       "      <td>0.096139</td>\n",
       "      <td>0.063999</td>\n",
       "      <td>0.761737</td>\n",
       "      <td>0.107138</td>\n",
       "      <td>0.120813</td>\n",
       "      <td>1.628744</td>\n",
       "      <td>...</td>\n",
       "      <td>0.157466</td>\n",
       "      <td>0.148046</td>\n",
       "      <td>1.304605</td>\n",
       "      <td>0.556068</td>\n",
       "      <td>0.032862</td>\n",
       "      <td>0.906909</td>\n",
       "      <td>0.105638</td>\n",
       "      <td>0.230118</td>\n",
       "      <td>0.785661</td>\n",
       "      <td>0.175187</td>\n",
       "    </tr>\n",
       "    <tr>\n",
       "      <th>4</th>\n",
       "      <td>images_train/3688.jpg</td>\n",
       "      <td>0.253012</td>\n",
       "      <td>1.743208</td>\n",
       "      <td>0.359000</td>\n",
       "      <td>0.486566</td>\n",
       "      <td>0.473813</td>\n",
       "      <td>0.141680</td>\n",
       "      <td>0.164890</td>\n",
       "      <td>0.533619</td>\n",
       "      <td>0.268889</td>\n",
       "      <td>...</td>\n",
       "      <td>0.317842</td>\n",
       "      <td>0.260543</td>\n",
       "      <td>0.374608</td>\n",
       "      <td>0.043875</td>\n",
       "      <td>0.453899</td>\n",
       "      <td>0.265805</td>\n",
       "      <td>0.106244</td>\n",
       "      <td>0.038468</td>\n",
       "      <td>0.539088</td>\n",
       "      <td>0.176292</td>\n",
       "    </tr>\n",
       "  </tbody>\n",
       "</table>\n",
       "<p>5 rows × 2049 columns</p>\n",
       "</div>"
      ],
      "text/plain": [
       "                    0         1         2         3         4         5     \\\n",
       "0  images_train/5373.jpg  0.460352  1.018530  0.283533  0.053866  1.071661   \n",
       "1   images_train/984.jpg  1.498549  0.295754  0.266695  0.265754  0.793800   \n",
       "2  images_train/7127.jpg  0.460160  0.570405  0.535643  0.073016  0.158414   \n",
       "3  images_train/5293.jpg  0.626306  0.095554  0.175943  0.096139  0.063999   \n",
       "4  images_train/3688.jpg  0.253012  1.743208  0.359000  0.486566  0.473813   \n",
       "\n",
       "       6         7         8         9       ...         2039      2040  \\\n",
       "0  0.017668  0.330733  0.092461  0.611386    ...     0.164259  0.422783   \n",
       "1  0.115943  0.237539  0.612437  1.229246    ...     0.421009  0.462610   \n",
       "2  0.391194  0.088051  1.249013  0.032401    ...     0.232817  0.338647   \n",
       "3  0.761737  0.107138  0.120813  1.628744    ...     0.157466  0.148046   \n",
       "4  0.141680  0.164890  0.533619  0.268889    ...     0.317842  0.260543   \n",
       "\n",
       "       2041      2042      2043      2044      2045      2046      2047  \\\n",
       "0  0.592163  0.349664  0.130692  0.245438  0.021640  0.412349  0.443392   \n",
       "1  0.552496  0.138283  0.205361  0.343715  0.160027  0.172050  0.106674   \n",
       "2  0.925935  0.150575  0.220055  0.008997  0.135737  0.325504  0.006667   \n",
       "3  1.304605  0.556068  0.032862  0.906909  0.105638  0.230118  0.785661   \n",
       "4  0.374608  0.043875  0.453899  0.265805  0.106244  0.038468  0.539088   \n",
       "\n",
       "       2048  \n",
       "0  0.035718  \n",
       "1  0.054805  \n",
       "2  0.432770  \n",
       "3  0.175187  \n",
       "4  0.176292  \n",
       "\n",
       "[5 rows x 2049 columns]"
      ]
     },
     "execution_count": 5,
     "metadata": {},
     "output_type": "execute_result"
    }
   ],
   "source": [
    "# imageDF2.head(5)"
   ]
  },
  {
   "cell_type": "markdown",
   "metadata": {},
   "source": [
    "# image features cleaning"
   ]
  },
  {
   "cell_type": "code",
   "execution_count": 139,
   "metadata": {
    "collapsed": true
   },
   "outputs": [],
   "source": [
    "def softmax(x):\n",
    "    \"\"\"Compute softmax values for each sets of scores in x.\"\"\"\n",
    "    return np.exp(x) / np.sum(np.exp(x), axis=0)"
   ]
  },
  {
   "cell_type": "code",
   "execution_count": 6,
   "metadata": {
    "collapsed": false
   },
   "outputs": [],
   "source": [
    "def cleanImageFeatures(filename):\n",
    "    features_df = pd.read_csv(filename, header =None)\n",
    "    split= features_df[0].str.split('/', 1, expand=True)\n",
    "    split2= split[1].str.split('.', 1, expand=True).drop([1], axis=1)\n",
    "    split2 = split2.rename(columns={0: \"index\"})\n",
    "    result = pd.concat([split2, features_df], axis=1)\n",
    "    result[\"index\"] = result[\"index\"].astype(float)\n",
    "    result = result.sort([\"index\"], ascending = 1)\n",
    "    imageDF = result.drop([\"index\", 0], axis=1)\n",
    "    return imageDF"
   ]
  },
  {
   "cell_type": "code",
   "execution_count": 8,
   "metadata": {
    "collapsed": true
   },
   "outputs": [],
   "source": [
    "imageDF2 = cleanImageFeatures(\"../../final/data/features_train/features_resnet1000intermediate_train.csv\")"
   ]
  },
  {
   "cell_type": "code",
   "execution_count": 9,
   "metadata": {
    "collapsed": false
   },
   "outputs": [
    {
     "data": {
      "text/html": [
       "<div>\n",
       "<table border=\"1\" class=\"dataframe\">\n",
       "  <thead>\n",
       "    <tr style=\"text-align: right;\">\n",
       "      <th></th>\n",
       "      <th>1</th>\n",
       "      <th>2</th>\n",
       "      <th>3</th>\n",
       "      <th>4</th>\n",
       "      <th>5</th>\n",
       "      <th>6</th>\n",
       "      <th>7</th>\n",
       "      <th>8</th>\n",
       "      <th>9</th>\n",
       "      <th>10</th>\n",
       "      <th>...</th>\n",
       "      <th>2039</th>\n",
       "      <th>2040</th>\n",
       "      <th>2041</th>\n",
       "      <th>2042</th>\n",
       "      <th>2043</th>\n",
       "      <th>2044</th>\n",
       "      <th>2045</th>\n",
       "      <th>2046</th>\n",
       "      <th>2047</th>\n",
       "      <th>2048</th>\n",
       "    </tr>\n",
       "  </thead>\n",
       "  <tbody>\n",
       "    <tr>\n",
       "      <th>6657</th>\n",
       "      <td>1.033151</td>\n",
       "      <td>0.148754</td>\n",
       "      <td>0.046420</td>\n",
       "      <td>0.632246</td>\n",
       "      <td>0.197316</td>\n",
       "      <td>0.118780</td>\n",
       "      <td>0.018461</td>\n",
       "      <td>0.411929</td>\n",
       "      <td>0.373641</td>\n",
       "      <td>0.418879</td>\n",
       "      <td>...</td>\n",
       "      <td>0.272065</td>\n",
       "      <td>0.441035</td>\n",
       "      <td>0.052343</td>\n",
       "      <td>0.098968</td>\n",
       "      <td>0.065239</td>\n",
       "      <td>0.157963</td>\n",
       "      <td>0.466948</td>\n",
       "      <td>0.073168</td>\n",
       "      <td>0.417260</td>\n",
       "      <td>0.197421</td>\n",
       "    </tr>\n",
       "    <tr>\n",
       "      <th>2262</th>\n",
       "      <td>0.231844</td>\n",
       "      <td>0.120033</td>\n",
       "      <td>0.090788</td>\n",
       "      <td>2.702421</td>\n",
       "      <td>0.078323</td>\n",
       "      <td>0.118689</td>\n",
       "      <td>0.082481</td>\n",
       "      <td>0.551316</td>\n",
       "      <td>0.349153</td>\n",
       "      <td>0.025956</td>\n",
       "      <td>...</td>\n",
       "      <td>0.340837</td>\n",
       "      <td>1.147933</td>\n",
       "      <td>0.115111</td>\n",
       "      <td>0.434928</td>\n",
       "      <td>0.149249</td>\n",
       "      <td>0.961460</td>\n",
       "      <td>0.454123</td>\n",
       "      <td>0.275787</td>\n",
       "      <td>3.496572</td>\n",
       "      <td>0.064758</td>\n",
       "    </tr>\n",
       "    <tr>\n",
       "      <th>8604</th>\n",
       "      <td>0.622825</td>\n",
       "      <td>0.250918</td>\n",
       "      <td>0.684800</td>\n",
       "      <td>0.353135</td>\n",
       "      <td>0.206132</td>\n",
       "      <td>0.372666</td>\n",
       "      <td>0.351718</td>\n",
       "      <td>0.368863</td>\n",
       "      <td>0.473741</td>\n",
       "      <td>0.609137</td>\n",
       "      <td>...</td>\n",
       "      <td>0.209662</td>\n",
       "      <td>0.271140</td>\n",
       "      <td>0.243121</td>\n",
       "      <td>0.322765</td>\n",
       "      <td>0.160171</td>\n",
       "      <td>0.119762</td>\n",
       "      <td>0.083643</td>\n",
       "      <td>0.469481</td>\n",
       "      <td>0.703994</td>\n",
       "      <td>0.236596</td>\n",
       "    </tr>\n",
       "    <tr>\n",
       "      <th>9240</th>\n",
       "      <td>0.217636</td>\n",
       "      <td>0.160995</td>\n",
       "      <td>0.194709</td>\n",
       "      <td>0.151695</td>\n",
       "      <td>0.847316</td>\n",
       "      <td>0.199789</td>\n",
       "      <td>0.062209</td>\n",
       "      <td>0.273318</td>\n",
       "      <td>0.415511</td>\n",
       "      <td>0.058361</td>\n",
       "      <td>...</td>\n",
       "      <td>0.243974</td>\n",
       "      <td>0.039672</td>\n",
       "      <td>0.124741</td>\n",
       "      <td>0.394077</td>\n",
       "      <td>0.247958</td>\n",
       "      <td>0.184193</td>\n",
       "      <td>0.125048</td>\n",
       "      <td>0.001572</td>\n",
       "      <td>0.284012</td>\n",
       "      <td>0.439271</td>\n",
       "    </tr>\n",
       "    <tr>\n",
       "      <th>8416</th>\n",
       "      <td>0.024831</td>\n",
       "      <td>0.134998</td>\n",
       "      <td>0.421444</td>\n",
       "      <td>0.007382</td>\n",
       "      <td>0.406867</td>\n",
       "      <td>0.029426</td>\n",
       "      <td>0.023142</td>\n",
       "      <td>0.690656</td>\n",
       "      <td>0.551485</td>\n",
       "      <td>0.092373</td>\n",
       "      <td>...</td>\n",
       "      <td>0.054694</td>\n",
       "      <td>0.044801</td>\n",
       "      <td>0.207174</td>\n",
       "      <td>0.073178</td>\n",
       "      <td>0.113475</td>\n",
       "      <td>0.092909</td>\n",
       "      <td>0.380200</td>\n",
       "      <td>0.039977</td>\n",
       "      <td>0.053494</td>\n",
       "      <td>0.078288</td>\n",
       "    </tr>\n",
       "  </tbody>\n",
       "</table>\n",
       "<p>5 rows × 2048 columns</p>\n",
       "</div>"
      ],
      "text/plain": [
       "          1         2         3         4         5         6         7     \\\n",
       "6657  1.033151  0.148754  0.046420  0.632246  0.197316  0.118780  0.018461   \n",
       "2262  0.231844  0.120033  0.090788  2.702421  0.078323  0.118689  0.082481   \n",
       "8604  0.622825  0.250918  0.684800  0.353135  0.206132  0.372666  0.351718   \n",
       "9240  0.217636  0.160995  0.194709  0.151695  0.847316  0.199789  0.062209   \n",
       "8416  0.024831  0.134998  0.421444  0.007382  0.406867  0.029426  0.023142   \n",
       "\n",
       "          8         9         10      ...         2039      2040      2041  \\\n",
       "6657  0.411929  0.373641  0.418879    ...     0.272065  0.441035  0.052343   \n",
       "2262  0.551316  0.349153  0.025956    ...     0.340837  1.147933  0.115111   \n",
       "8604  0.368863  0.473741  0.609137    ...     0.209662  0.271140  0.243121   \n",
       "9240  0.273318  0.415511  0.058361    ...     0.243974  0.039672  0.124741   \n",
       "8416  0.690656  0.551485  0.092373    ...     0.054694  0.044801  0.207174   \n",
       "\n",
       "          2042      2043      2044      2045      2046      2047      2048  \n",
       "6657  0.098968  0.065239  0.157963  0.466948  0.073168  0.417260  0.197421  \n",
       "2262  0.434928  0.149249  0.961460  0.454123  0.275787  3.496572  0.064758  \n",
       "8604  0.322765  0.160171  0.119762  0.083643  0.469481  0.703994  0.236596  \n",
       "9240  0.394077  0.247958  0.184193  0.125048  0.001572  0.284012  0.439271  \n",
       "8416  0.073178  0.113475  0.092909  0.380200  0.039977  0.053494  0.078288  \n",
       "\n",
       "[5 rows x 2048 columns]"
      ]
     },
     "execution_count": 9,
     "metadata": {},
     "output_type": "execute_result"
    }
   ],
   "source": [
    "imageDF2.head(5)"
   ]
  },
  {
   "cell_type": "markdown",
   "metadata": {},
   "source": [
    "# Take top 20 columns and one hot encode"
   ]
  },
  {
   "cell_type": "code",
   "execution_count": 76,
   "metadata": {
    "collapsed": true
   },
   "outputs": [],
   "source": [
    "def getMaxClasses(matrix, maxColumns):\n",
    "    ##Not sorted values\n",
    "    consolMatrix = []\n",
    "    for row in matrix:\n",
    "        maxIndArr = np.argpartition(row, -maxColumns)[-maxColumns:]\n",
    "        consolMatrix.append(maxIndArr)\n",
    "    return consolMatrix"
   ]
  },
  {
   "cell_type": "code",
   "execution_count": 125,
   "metadata": {
    "collapsed": false
   },
   "outputs": [],
   "source": [
    "# consolMatrix = getMaxClasses(softMaxDF.as_matrix(), 20)\n",
    "consolMatrix = getMaxClasses(softMaxDF.as_matrix(), 20)"
   ]
  },
  {
   "cell_type": "code",
   "execution_count": 126,
   "metadata": {
    "collapsed": false
   },
   "outputs": [
    {
     "data": {
      "text/plain": [
       "20"
      ]
     },
     "execution_count": 126,
     "metadata": {},
     "output_type": "execute_result"
    }
   ],
   "source": [
    "len(consolMatrix[0])"
   ]
  },
  {
   "cell_type": "code",
   "execution_count": 127,
   "metadata": {
    "collapsed": false
   },
   "outputs": [],
   "source": [
    "mlb = MultiLabelBinarizer()\n",
    "binImages20 = mlb.fit_transform(consolMatrix)\n",
    "binImages20DF = pd.DataFrame(binImages20)"
   ]
  },
  {
   "cell_type": "code",
   "execution_count": 112,
   "metadata": {
    "collapsed": true
   },
   "outputs": [],
   "source": [
    "## after taking top 20 probability indices there are only 993 columns that are important in the entire data set.\n",
    "## 7 columns become irrelevant"
   ]
  },
  {
   "cell_type": "code",
   "execution_count": null,
   "metadata": {
    "collapsed": true
   },
   "outputs": [],
   "source": []
  },
  {
   "cell_type": "code",
   "execution_count": 128,
   "metadata": {
    "collapsed": false
   },
   "outputs": [
    {
     "data": {
      "text/plain": [
       "993"
      ]
     },
     "execution_count": 128,
     "metadata": {},
     "output_type": "execute_result"
    }
   ],
   "source": [
    "len(binImages20[0])"
   ]
  },
  {
   "cell_type": "code",
   "execution_count": 129,
   "metadata": {
    "collapsed": true
   },
   "outputs": [],
   "source": [
    "binImages20DF = pd.DataFrame(binImages20)"
   ]
  },
  {
   "cell_type": "code",
   "execution_count": null,
   "metadata": {
    "collapsed": true
   },
   "outputs": [],
   "source": []
  },
  {
   "cell_type": "code",
   "execution_count": null,
   "metadata": {
    "collapsed": true
   },
   "outputs": [],
   "source": []
  },
  {
   "cell_type": "markdown",
   "metadata": {},
   "source": [
    "# Read Files, set train and test "
   ]
  },
  {
   "cell_type": "code",
   "execution_count": 10,
   "metadata": {
    "collapsed": true
   },
   "outputs": [],
   "source": [
    "descriptionTrainFolder = \"../../final/data/descriptions_train\"\n",
    "featuresTrainFolder = \"../../final/data/features_train\"\n",
    "imagesTrainFolder = \"../../final/data/images_train\"\n",
    "tagsTrainFolder = \"../../final/data/tags_train\""
   ]
  },
  {
   "cell_type": "code",
   "execution_count": 11,
   "metadata": {
    "collapsed": true
   },
   "outputs": [],
   "source": [
    "descriptionTestFolder = \"../../final/data/descriptions_test\"\n",
    "featureTestFolder = \"../../final/data/features_test\"\n",
    "imagesTestFolder = \"../../final/data/images_test\"\n",
    "tagsTestFolder = \"../../final/data/tags_test\""
   ]
  },
  {
   "cell_type": "code",
   "execution_count": 12,
   "metadata": {
    "collapsed": true
   },
   "outputs": [],
   "source": [
    "numTrain = 10000\n",
    "numTest = 2000"
   ]
  },
  {
   "cell_type": "code",
   "execution_count": 13,
   "metadata": {
    "collapsed": true
   },
   "outputs": [],
   "source": [
    "def readTagsFile(fileName):\n",
    "    tags = []\n",
    "    f = open(fileName,\"r\")\n",
    "    for line in f:\n",
    "        line = line.split(\":\") # possibly also consider using the keys in each line(vehicle,outdoor etc..)\n",
    "        tag = line[-1].replace(\"\\n\",\"\")\n",
    "        tags.append(tag)\n",
    "    return tags\n",
    "\n",
    "def readDescriptionFile(fileName):\n",
    "    desc = []\n",
    "    f = open(fileName,\"r\")\n",
    "    for line in f:\n",
    "        noPuncSentence = stripPunctuation(line)\n",
    "        desc.append(noPuncSentence)\n",
    "    return desc\n",
    "\n",
    "def stripPunctuation(s):\n",
    "    regex = re.compile('[%s]' % re.escape(string.punctuation))\n",
    "    return regex.sub(' ', s)"
   ]
  },
  {
   "cell_type": "markdown",
   "metadata": {},
   "source": [
    "# Tag Analysis"
   ]
  },
  {
   "cell_type": "code",
   "execution_count": 14,
   "metadata": {
    "collapsed": true
   },
   "outputs": [],
   "source": [
    "def getTagDict(num,tagFolder):\n",
    "    tags = {}\n",
    "    for n in range(num):\n",
    "        f = tagFolder +\"/\" + str(n) + \".txt\"\n",
    "        fileTags = readTagsFile(f)\n",
    "        #newTags = stemTags(fileTags)\n",
    "        for tag in fileTags:\n",
    "            if str(tag) not in tags.keys():\n",
    "                tags[str(tag)] = 0\n",
    "            else:\n",
    "                tags[str(tag)] +=1\n",
    "    return tags"
   ]
  },
  {
   "cell_type": "code",
   "execution_count": 15,
   "metadata": {
    "collapsed": false
   },
   "outputs": [],
   "source": [
    "tagDict = getTagDict(numTrain,tagsTrainFolder)"
   ]
  },
  {
   "cell_type": "code",
   "execution_count": 16,
   "metadata": {
    "collapsed": false
   },
   "outputs": [
    {
     "name": "stdout",
     "output_type": "stream",
     "text": [
      "{'traffic light': 327, 'fire hydrant': 151, 'scissors': 72, 'clock': 441, 'surfboard': 321, 'microwave': 112, 'remote': 239, 'vase': 310, 'couch': 344, 'bed': 314, 'bird': 305, 'bear': 86, 'cat': 354, 'bottle': 707, 'orange': 130, 'backpack': 428, 'umbrella': 357, 'donut': 117, 'hair drier': 11, 'person': 5322, 'cell phone': 436, 'tie': 305, 'bicycle': 284, 'banana': 169, 'baseball glove': 198, 'tv': 351, 'giraffe': 217, 'kite': 200, 'potted plant': 356, 'stop sign': 141, 'fork': 267, 'bench': 475, 'apple': 106, 'spoon': 292, 'bowl': 592, 'car': 1021, 'zebra': 168, 'handbag': 597, 'laptop': 303, 'elephant': 178, 'cow': 177, 'chair': 1029, 'truck': 498, 'bus': 330, 'sports ball': 339, 'mouse': 158, 'broccoli': 162, 'airplane': 221, 'refrigerator': 204, 'toaster': 23, 'toothbrush': 79, 'dog': 391, 'pizza': 265, 'parking meter': 57, 'train': 330, 'suitcase': 188, 'skis': 237, 'hot dog': 121, 'book': 446, 'toilet': 287, 'skateboard': 256, 'snowboard': 128, 'knife': 331, 'motorcycle': 327, 'horse': 218, 'keyboard': 169, 'wine glass': 214, 'cup': 746, 'frisbee': 194, 'teddy bear': 183, 'boat': 276, 'sheep': 122, 'sink': 389, 'carrot': 138, 'baseball bat': 193, 'oven': 246, 'sandwich': 207, 'dining table': 959, 'tennis racket': 293, 'cake': 216}\n"
     ]
    }
   ],
   "source": [
    "print (tagDict)"
   ]
  },
  {
   "cell_type": "code",
   "execution_count": 17,
   "metadata": {
    "collapsed": false
   },
   "outputs": [
    {
     "name": "stdout",
     "output_type": "stream",
     "text": [
      "dict_keys(['traffic light', 'fire hydrant', 'scissors', 'clock', 'surfboard', 'microwave', 'remote', 'vase', 'couch', 'bed', 'bird', 'bear', 'cat', 'bottle', 'orange', 'backpack', 'umbrella', 'donut', 'hair drier', 'person', 'cell phone', 'tie', 'bicycle', 'banana', 'baseball glove', 'tv', 'giraffe', 'kite', 'potted plant', 'stop sign', 'fork', 'bench', 'apple', 'spoon', 'bowl', 'car', 'zebra', 'handbag', 'laptop', 'elephant', 'cow', 'chair', 'truck', 'bus', 'sports ball', 'mouse', 'broccoli', 'airplane', 'refrigerator', 'toaster', 'toothbrush', 'dog', 'pizza', 'parking meter', 'train', 'suitcase', 'skis', 'hot dog', 'book', 'toilet', 'skateboard', 'snowboard', 'knife', 'motorcycle', 'horse', 'keyboard', 'wine glass', 'cup', 'frisbee', 'teddy bear', 'boat', 'sheep', 'sink', 'carrot', 'baseball bat', 'oven', 'sandwich', 'dining table', 'tennis racket', 'cake'])\n"
     ]
    }
   ],
   "source": [
    "print (tagDict.keys())"
   ]
  },
  {
   "cell_type": "code",
   "execution_count": 37,
   "metadata": {
    "collapsed": false
   },
   "outputs": [
    {
     "name": "stdout",
     "output_type": "stream",
     "text": [
      "dict_values([287, 218, 79, 314, 1021, 441, 428, 389, 276, 169, 128, 498, 293, 327, 357, 1029, 5322, 305, 162, 188, 267, 391, 23, 217, 86, 436, 330, 959, 138, 177, 121, 168, 117, 141, 746, 122, 237, 72, 11, 57, 446, 339, 284, 198, 169, 305, 321, 246, 178, 239, 310, 265, 707, 592, 151, 214, 330, 130, 221, 194, 183, 200, 597, 158, 106, 204, 216, 331, 354, 112, 292, 327, 351, 344, 256, 475, 356, 303, 207, 193])\n"
     ]
    }
   ],
   "source": [
    "print (tagDict.values())"
   ]
  },
  {
   "cell_type": "code",
   "execution_count": null,
   "metadata": {
    "collapsed": true
   },
   "outputs": [],
   "source": []
  },
  {
   "cell_type": "code",
   "execution_count": 18,
   "metadata": {
    "collapsed": false
   },
   "outputs": [],
   "source": [
    "def createBag(num,tagFolder):\n",
    "    tags = {}\n",
    "    for n in range(num):\n",
    "        f = tagFolder +\"/\" + str(n) + \".txt\"\n",
    "        fileTags = readTagsFile(f)\n",
    "        #newTags = stemTags(fileTags) - maybe add stemming - Francesco\n",
    "        for t in fileTags:\n",
    "            if t not in tags.keys():\n",
    "                tags[t] = 0\n",
    "    return tags\n",
    "\n",
    "def stemTags(lst):\n",
    "    newTags = []\n",
    "    for word in lst:\n",
    "        stem = str(PorterStemmer().stem(word))\n",
    "        newTags.append(stem)\n",
    "    return newTags\n",
    "\n",
    "def indexBag(bag):\n",
    "    idx = 0\n",
    "    for tag in bag.keys():\n",
    "        bag[tag] = idx\n",
    "        idx+=1\n",
    "    return bag\n",
    "\n",
    "def getTagVectors(num,tagFolder,indexedTagBag):\n",
    "    tagVecs = np.zeros((num,len(indexedTagBag.keys()))) #2D Array of size (file number, len(indexedBagTag.keys))\n",
    "    for n in range(num):\n",
    "        f = tagFolder +\"/\" + str(n) + \".txt\"\n",
    "        fileTags = readTagsFile(f)\n",
    "        #newTags = stemTags(fileTags) - maybe add stemming - Francesco\n",
    "        for tag in fileTags:\n",
    "            if tag in indexedTagBag.keys():\n",
    "                tagVecs[n,indexedTagBag[tag]] = 1\n",
    "            else:\n",
    "                print (str(tag) + \" is not in the tag BOW\")\n",
    "    return pd.DataFrame(tagVecs,columns = indexedTagBag.keys())"
   ]
  },
  {
   "cell_type": "code",
   "execution_count": 20,
   "metadata": {
    "collapsed": true
   },
   "outputs": [],
   "source": [
    "tagBag = createBag(numTrain,tagsTrainFolder)\n",
    "indexedTagBag = indexBag(tagBag)"
   ]
  },
  {
   "cell_type": "code",
   "execution_count": 21,
   "metadata": {
    "collapsed": false
   },
   "outputs": [],
   "source": [
    "tagVectors = getTagVectors(numTrain,tagsTrainFolder,indexedTagBag)"
   ]
  },
  {
   "cell_type": "code",
   "execution_count": 22,
   "metadata": {
    "collapsed": false
   },
   "outputs": [
    {
     "data": {
      "text/plain": [
       "(10000, 80)"
      ]
     },
     "execution_count": 22,
     "metadata": {},
     "output_type": "execute_result"
    }
   ],
   "source": [
    "tagVectors.shape"
   ]
  },
  {
   "cell_type": "markdown",
   "metadata": {},
   "source": [
    "# Descriptions Processing"
   ]
  },
  {
   "cell_type": "code",
   "execution_count": 23,
   "metadata": {
    "collapsed": true
   },
   "outputs": [],
   "source": [
    "def getStopWords():\n",
    "    return set(stopwords.words(\"english\"))\n",
    "\n",
    "def lowerCase(x):\n",
    "    return x.lower()\n",
    "\n",
    "def lemmatize(lmt,x):\n",
    "    return lmt.lemmatize(x)\n",
    "\n",
    "def getPos(line):\n",
    "    return pos_tag(line)\n",
    "\n",
    "def tokenize(line):\n",
    "    return line.split()\n",
    "\n",
    "def stripPunctuation(s):\n",
    "    regex = re.compile('[%s]' % re.escape(string.punctuation))\n",
    "    return regex.sub(' ', s)\n",
    "\n",
    "def stemmer(line):\n",
    "    stemmer = PorterStemmer()\n",
    "    stemmedLine = []\n",
    "    for word in line:\n",
    "        #if pos == \"NN\": #only stem nouns\n",
    "        stem = stemmer.stem(word)\n",
    "        stemmedLine.append(stem)\n",
    "    return stemmedLine \n",
    "\n",
    "def stemmedDescriptions(lst):\n",
    "    stemmedDescriptions = []\n",
    "    for line in lst:\n",
    "        tokenizedLine = tokenize(line)\n",
    "        stemmedDescriptions.append(stemmer(tokenizedLine))\n",
    "    return stemmedDescriptions\n"
   ]
  },
  {
   "cell_type": "code",
   "execution_count": 24,
   "metadata": {
    "collapsed": true
   },
   "outputs": [],
   "source": [
    "def createBag(num,descFolder):\n",
    "    bag = {}\n",
    "    stopWords = getStopWords()\n",
    "    for n in range(num):\n",
    "        f = descFolder +\"/\" + str(n) + \".txt\"\n",
    "        fileDescriptions = readDescriptionFile(f) #2D Array\n",
    "        stemDescriptions = stemmedDescriptions(fileDescriptions) #applying stemming so to aggregate similar words\n",
    "        for desc in stemDescriptions:\n",
    "            for word in desc:\n",
    "                lowerWord = lowerCase(word)\n",
    "                if str(lowerWord) not in bag.keys() and str(lowerWord) != \"\" and str(lowerWord) not in stopWords:\n",
    "                    bag[str(lowerWord)] = 0 \n",
    "    return bag\n",
    "\n",
    "def indexBag(bag):\n",
    "    idx = 0\n",
    "    for tag in bag.keys():\n",
    "        bag[tag] = idx\n",
    "        idx+=1\n",
    "    return bag\n",
    "\n",
    "def binaryVectorizeDescriptions(num,descFolder,indexedDescBag):\n",
    "    stopWords = getStopWords()\n",
    "    featureVectorList = []\n",
    "    for n in range(num):\n",
    "        imageTagVec = [0.0 for tag in range(len(indexedDescBag.keys()))]\n",
    "        f = descFolder +\"/\" + str(n) + \".txt\"\n",
    "        fileDescriptions = readDescriptionFile(f) #2D Array\n",
    "        stemDescriptions = stemmedDescriptions(fileDescriptions) #applying stemming so to aggregate similar words\n",
    "        for desc in stemDescriptions:\n",
    "            for word in desc:\n",
    "                lowerWord = lowerCase(word)\n",
    "                if str(lowerWord) in indexedDescBag.keys() and str(lowerWord) != \"\" and str(lowerWord) not in stopWords:\n",
    "                    imageTagVec[indexedDescBag[str(lowerWord)]] +=1.0\n",
    "        featureVectorList.append(imageTagVec)\n",
    "    return pd.DataFrame(featureVectorList,columns = indexedDescBag.keys())"
   ]
  },
  {
   "cell_type": "code",
   "execution_count": 25,
   "metadata": {
    "collapsed": true
   },
   "outputs": [],
   "source": [
    "descBag = createBag(numTrain,descriptionTrainFolder)\n",
    "indexedDescBag = indexBag(descBag)"
   ]
  },
  {
   "cell_type": "code",
   "execution_count": 26,
   "metadata": {
    "collapsed": true
   },
   "outputs": [],
   "source": [
    "descVectors = binaryVectorizeDescriptions(numTrain,descriptionTrainFolder,indexedDescBag)"
   ]
  },
  {
   "cell_type": "code",
   "execution_count": 27,
   "metadata": {
    "collapsed": true
   },
   "outputs": [],
   "source": [
    "normalizedDescVector = descVectors.div(descVectors.sum(axis=1), axis=0)"
   ]
  },
  {
   "cell_type": "code",
   "execution_count": 28,
   "metadata": {
    "collapsed": false
   },
   "outputs": [
    {
     "name": "stdout",
     "output_type": "stream",
     "text": [
      "(10000, 6456)\n"
     ]
    }
   ],
   "source": [
    "print (normalizedDescVector.shape)"
   ]
  },
  {
   "cell_type": "code",
   "execution_count": 32,
   "metadata": {
    "collapsed": false
   },
   "outputs": [],
   "source": [
    "allFeatures = pd.concat([normalizedDescVector, imageDF2], axis=1)"
   ]
  },
  {
   "cell_type": "code",
   "execution_count": 33,
   "metadata": {
    "collapsed": false
   },
   "outputs": [],
   "source": [
    "allFeaturesNonNorm =pd.concat([descVectors, imageDF2], axis=1)"
   ]
  },
  {
   "cell_type": "code",
   "execution_count": 34,
   "metadata": {
    "collapsed": false
   },
   "outputs": [
    {
     "data": {
      "text/html": [
       "<div>\n",
       "<table border=\"1\" class=\"dataframe\">\n",
       "  <thead>\n",
       "    <tr style=\"text-align: right;\">\n",
       "      <th></th>\n",
       "      <th>nun</th>\n",
       "      <th>bland</th>\n",
       "      <th>cappuccino</th>\n",
       "      <th>salomi</th>\n",
       "      <th>nintendo</th>\n",
       "      <th>trespass</th>\n",
       "      <th>chain</th>\n",
       "      <th>lift</th>\n",
       "      <th>aqua</th>\n",
       "      <th>lot</th>\n",
       "      <th>...</th>\n",
       "      <th>2039</th>\n",
       "      <th>2040</th>\n",
       "      <th>2041</th>\n",
       "      <th>2042</th>\n",
       "      <th>2043</th>\n",
       "      <th>2044</th>\n",
       "      <th>2045</th>\n",
       "      <th>2046</th>\n",
       "      <th>2047</th>\n",
       "      <th>2048</th>\n",
       "    </tr>\n",
       "  </thead>\n",
       "  <tbody>\n",
       "    <tr>\n",
       "      <th>0</th>\n",
       "      <td>0</td>\n",
       "      <td>0</td>\n",
       "      <td>0</td>\n",
       "      <td>0</td>\n",
       "      <td>0</td>\n",
       "      <td>0</td>\n",
       "      <td>0</td>\n",
       "      <td>0</td>\n",
       "      <td>0</td>\n",
       "      <td>0</td>\n",
       "      <td>...</td>\n",
       "      <td>0.164259</td>\n",
       "      <td>0.422783</td>\n",
       "      <td>0.592163</td>\n",
       "      <td>0.349664</td>\n",
       "      <td>0.130692</td>\n",
       "      <td>0.245438</td>\n",
       "      <td>0.021640</td>\n",
       "      <td>0.412349</td>\n",
       "      <td>0.443392</td>\n",
       "      <td>0.035718</td>\n",
       "    </tr>\n",
       "    <tr>\n",
       "      <th>1</th>\n",
       "      <td>0</td>\n",
       "      <td>0</td>\n",
       "      <td>0</td>\n",
       "      <td>0</td>\n",
       "      <td>0</td>\n",
       "      <td>0</td>\n",
       "      <td>0</td>\n",
       "      <td>0</td>\n",
       "      <td>0</td>\n",
       "      <td>0</td>\n",
       "      <td>...</td>\n",
       "      <td>0.421009</td>\n",
       "      <td>0.462610</td>\n",
       "      <td>0.552496</td>\n",
       "      <td>0.138283</td>\n",
       "      <td>0.205361</td>\n",
       "      <td>0.343715</td>\n",
       "      <td>0.160027</td>\n",
       "      <td>0.172050</td>\n",
       "      <td>0.106674</td>\n",
       "      <td>0.054805</td>\n",
       "    </tr>\n",
       "    <tr>\n",
       "      <th>2</th>\n",
       "      <td>0</td>\n",
       "      <td>0</td>\n",
       "      <td>0</td>\n",
       "      <td>0</td>\n",
       "      <td>0</td>\n",
       "      <td>0</td>\n",
       "      <td>0</td>\n",
       "      <td>0</td>\n",
       "      <td>0</td>\n",
       "      <td>0</td>\n",
       "      <td>...</td>\n",
       "      <td>0.232817</td>\n",
       "      <td>0.338647</td>\n",
       "      <td>0.925935</td>\n",
       "      <td>0.150575</td>\n",
       "      <td>0.220055</td>\n",
       "      <td>0.008997</td>\n",
       "      <td>0.135737</td>\n",
       "      <td>0.325504</td>\n",
       "      <td>0.006667</td>\n",
       "      <td>0.432770</td>\n",
       "    </tr>\n",
       "    <tr>\n",
       "      <th>3</th>\n",
       "      <td>0</td>\n",
       "      <td>0</td>\n",
       "      <td>0</td>\n",
       "      <td>0</td>\n",
       "      <td>0</td>\n",
       "      <td>0</td>\n",
       "      <td>0</td>\n",
       "      <td>0</td>\n",
       "      <td>0</td>\n",
       "      <td>0</td>\n",
       "      <td>...</td>\n",
       "      <td>0.157466</td>\n",
       "      <td>0.148046</td>\n",
       "      <td>1.304605</td>\n",
       "      <td>0.556068</td>\n",
       "      <td>0.032862</td>\n",
       "      <td>0.906909</td>\n",
       "      <td>0.105638</td>\n",
       "      <td>0.230118</td>\n",
       "      <td>0.785661</td>\n",
       "      <td>0.175187</td>\n",
       "    </tr>\n",
       "    <tr>\n",
       "      <th>4</th>\n",
       "      <td>0</td>\n",
       "      <td>0</td>\n",
       "      <td>0</td>\n",
       "      <td>0</td>\n",
       "      <td>0</td>\n",
       "      <td>0</td>\n",
       "      <td>0</td>\n",
       "      <td>0</td>\n",
       "      <td>0</td>\n",
       "      <td>0</td>\n",
       "      <td>...</td>\n",
       "      <td>0.317842</td>\n",
       "      <td>0.260543</td>\n",
       "      <td>0.374608</td>\n",
       "      <td>0.043875</td>\n",
       "      <td>0.453899</td>\n",
       "      <td>0.265805</td>\n",
       "      <td>0.106244</td>\n",
       "      <td>0.038468</td>\n",
       "      <td>0.539088</td>\n",
       "      <td>0.176292</td>\n",
       "    </tr>\n",
       "  </tbody>\n",
       "</table>\n",
       "<p>5 rows × 8504 columns</p>\n",
       "</div>"
      ],
      "text/plain": [
       "   nun  bland  cappuccino  salomi  nintendo  trespass  chain  lift  aqua  lot  \\\n",
       "0    0      0           0       0         0         0      0     0     0    0   \n",
       "1    0      0           0       0         0         0      0     0     0    0   \n",
       "2    0      0           0       0         0         0      0     0     0    0   \n",
       "3    0      0           0       0         0         0      0     0     0    0   \n",
       "4    0      0           0       0         0         0      0     0     0    0   \n",
       "\n",
       "     ...         2039      2040      2041      2042      2043      2044  \\\n",
       "0    ...     0.164259  0.422783  0.592163  0.349664  0.130692  0.245438   \n",
       "1    ...     0.421009  0.462610  0.552496  0.138283  0.205361  0.343715   \n",
       "2    ...     0.232817  0.338647  0.925935  0.150575  0.220055  0.008997   \n",
       "3    ...     0.157466  0.148046  1.304605  0.556068  0.032862  0.906909   \n",
       "4    ...     0.317842  0.260543  0.374608  0.043875  0.453899  0.265805   \n",
       "\n",
       "       2045      2046      2047      2048  \n",
       "0  0.021640  0.412349  0.443392  0.035718  \n",
       "1  0.160027  0.172050  0.106674  0.054805  \n",
       "2  0.135737  0.325504  0.006667  0.432770  \n",
       "3  0.105638  0.230118  0.785661  0.175187  \n",
       "4  0.106244  0.038468  0.539088  0.176292  \n",
       "\n",
       "[5 rows x 8504 columns]"
      ]
     },
     "execution_count": 34,
     "metadata": {},
     "output_type": "execute_result"
    }
   ],
   "source": [
    "allFeatures.head(5)"
   ]
  },
  {
   "cell_type": "code",
   "execution_count": null,
   "metadata": {
    "collapsed": true
   },
   "outputs": [],
   "source": []
  },
  {
   "cell_type": "code",
   "execution_count": null,
   "metadata": {
    "collapsed": true
   },
   "outputs": [],
   "source": []
  },
  {
   "cell_type": "markdown",
   "metadata": {},
   "source": [
    "# reducing dimensions of Image Features"
   ]
  },
  {
   "cell_type": "code",
   "execution_count": 35,
   "metadata": {
    "collapsed": true
   },
   "outputs": [],
   "source": [
    "def reduceDimensions(x,ncomp):\n",
    "    #ncomp = number of components\n",
    "    pca = PCA(ncomp)\n",
    "    pca.fit(x)\n",
    "    newX = pca.transform(x)\n",
    "    return newX"
   ]
  },
  {
   "cell_type": "code",
   "execution_count": 37,
   "metadata": {
    "collapsed": false
   },
   "outputs": [
    {
     "data": {
      "text/plain": [
       "array([[ 1.03315091,  0.14875449,  0.04642047, ...,  0.07316806,\n",
       "         0.41725951,  0.19742125],\n",
       "       [ 0.23184368,  0.12003349,  0.09078766, ...,  0.27578694,\n",
       "         3.49657249,  0.06475818]])"
      ]
     },
     "execution_count": 37,
     "metadata": {},
     "output_type": "execute_result"
    }
   ],
   "source": [
    "imageMatrix[0:2]"
   ]
  },
  {
   "cell_type": "code",
   "execution_count": 38,
   "metadata": {
    "collapsed": false
   },
   "outputs": [],
   "source": [
    "imageMatrix = imageDF2.values\n",
    "imagePCAArray= reduceDimensions(imageMatrix,200) #PCA rray\n",
    "PCAimageDF = pd.DataFrame(imagePCAArray)"
   ]
  },
  {
   "cell_type": "code",
   "execution_count": 39,
   "metadata": {
    "collapsed": true
   },
   "outputs": [],
   "source": [
    "PCAimageDF = pd.DataFrame(imagePCAArray)"
   ]
  },
  {
   "cell_type": "code",
   "execution_count": 40,
   "metadata": {
    "collapsed": false
   },
   "outputs": [
    {
     "data": {
      "text/html": [
       "<div>\n",
       "<table border=\"1\" class=\"dataframe\">\n",
       "  <thead>\n",
       "    <tr style=\"text-align: right;\">\n",
       "      <th></th>\n",
       "      <th>0</th>\n",
       "      <th>1</th>\n",
       "      <th>2</th>\n",
       "      <th>3</th>\n",
       "      <th>4</th>\n",
       "      <th>5</th>\n",
       "      <th>6</th>\n",
       "      <th>7</th>\n",
       "      <th>8</th>\n",
       "      <th>9</th>\n",
       "      <th>...</th>\n",
       "      <th>190</th>\n",
       "      <th>191</th>\n",
       "      <th>192</th>\n",
       "      <th>193</th>\n",
       "      <th>194</th>\n",
       "      <th>195</th>\n",
       "      <th>196</th>\n",
       "      <th>197</th>\n",
       "      <th>198</th>\n",
       "      <th>199</th>\n",
       "    </tr>\n",
       "  </thead>\n",
       "  <tbody>\n",
       "    <tr>\n",
       "      <th>0</th>\n",
       "      <td>-3.193823</td>\n",
       "      <td>-2.544107</td>\n",
       "      <td>4.162731</td>\n",
       "      <td>-2.599161</td>\n",
       "      <td>-1.081485</td>\n",
       "      <td>0.076148</td>\n",
       "      <td>-0.777699</td>\n",
       "      <td>1.328824</td>\n",
       "      <td>-2.777116</td>\n",
       "      <td>2.430451</td>\n",
       "      <td>...</td>\n",
       "      <td>-0.328161</td>\n",
       "      <td>-0.295681</td>\n",
       "      <td>0.113946</td>\n",
       "      <td>0.208139</td>\n",
       "      <td>0.141831</td>\n",
       "      <td>-0.680605</td>\n",
       "      <td>0.229988</td>\n",
       "      <td>0.008179</td>\n",
       "      <td>-0.532108</td>\n",
       "      <td>-0.029908</td>\n",
       "    </tr>\n",
       "    <tr>\n",
       "      <th>1</th>\n",
       "      <td>6.983278</td>\n",
       "      <td>7.675341</td>\n",
       "      <td>0.421564</td>\n",
       "      <td>3.424779</td>\n",
       "      <td>-3.477012</td>\n",
       "      <td>-2.391737</td>\n",
       "      <td>0.931485</td>\n",
       "      <td>0.652373</td>\n",
       "      <td>0.301433</td>\n",
       "      <td>-0.905873</td>\n",
       "      <td>...</td>\n",
       "      <td>0.267460</td>\n",
       "      <td>0.538417</td>\n",
       "      <td>0.206171</td>\n",
       "      <td>-0.864754</td>\n",
       "      <td>-0.430793</td>\n",
       "      <td>-0.094253</td>\n",
       "      <td>0.122241</td>\n",
       "      <td>-0.243546</td>\n",
       "      <td>0.441761</td>\n",
       "      <td>0.372010</td>\n",
       "    </tr>\n",
       "    <tr>\n",
       "      <th>2</th>\n",
       "      <td>-2.802618</td>\n",
       "      <td>-2.880028</td>\n",
       "      <td>-3.852303</td>\n",
       "      <td>4.063761</td>\n",
       "      <td>0.793723</td>\n",
       "      <td>1.646609</td>\n",
       "      <td>1.688386</td>\n",
       "      <td>-0.463323</td>\n",
       "      <td>0.403869</td>\n",
       "      <td>-2.071888</td>\n",
       "      <td>...</td>\n",
       "      <td>-1.020064</td>\n",
       "      <td>-0.453968</td>\n",
       "      <td>-0.525977</td>\n",
       "      <td>1.065285</td>\n",
       "      <td>0.002763</td>\n",
       "      <td>-0.415029</td>\n",
       "      <td>0.022073</td>\n",
       "      <td>-0.347206</td>\n",
       "      <td>-0.610579</td>\n",
       "      <td>0.289724</td>\n",
       "    </tr>\n",
       "    <tr>\n",
       "      <th>3</th>\n",
       "      <td>-4.828281</td>\n",
       "      <td>-0.965742</td>\n",
       "      <td>5.291376</td>\n",
       "      <td>-1.299416</td>\n",
       "      <td>-1.821444</td>\n",
       "      <td>-4.864280</td>\n",
       "      <td>-0.343451</td>\n",
       "      <td>2.174800</td>\n",
       "      <td>2.447302</td>\n",
       "      <td>-1.095995</td>\n",
       "      <td>...</td>\n",
       "      <td>-0.235653</td>\n",
       "      <td>0.717497</td>\n",
       "      <td>-0.610170</td>\n",
       "      <td>-0.391610</td>\n",
       "      <td>-0.323196</td>\n",
       "      <td>-0.543469</td>\n",
       "      <td>0.290943</td>\n",
       "      <td>0.176371</td>\n",
       "      <td>1.049895</td>\n",
       "      <td>0.355192</td>\n",
       "    </tr>\n",
       "    <tr>\n",
       "      <th>4</th>\n",
       "      <td>-7.256905</td>\n",
       "      <td>-3.420302</td>\n",
       "      <td>4.366480</td>\n",
       "      <td>-2.275647</td>\n",
       "      <td>-1.305588</td>\n",
       "      <td>-5.945203</td>\n",
       "      <td>3.302023</td>\n",
       "      <td>4.620326</td>\n",
       "      <td>2.759217</td>\n",
       "      <td>0.339189</td>\n",
       "      <td>...</td>\n",
       "      <td>0.298021</td>\n",
       "      <td>-0.699408</td>\n",
       "      <td>-0.282086</td>\n",
       "      <td>0.198434</td>\n",
       "      <td>0.516776</td>\n",
       "      <td>-0.206123</td>\n",
       "      <td>0.088123</td>\n",
       "      <td>0.483210</td>\n",
       "      <td>-0.257304</td>\n",
       "      <td>0.515638</td>\n",
       "    </tr>\n",
       "  </tbody>\n",
       "</table>\n",
       "<p>5 rows × 200 columns</p>\n",
       "</div>"
      ],
      "text/plain": [
       "        0         1         2         3         4         5         6    \\\n",
       "0 -3.193823 -2.544107  4.162731 -2.599161 -1.081485  0.076148 -0.777699   \n",
       "1  6.983278  7.675341  0.421564  3.424779 -3.477012 -2.391737  0.931485   \n",
       "2 -2.802618 -2.880028 -3.852303  4.063761  0.793723  1.646609  1.688386   \n",
       "3 -4.828281 -0.965742  5.291376 -1.299416 -1.821444 -4.864280 -0.343451   \n",
       "4 -7.256905 -3.420302  4.366480 -2.275647 -1.305588 -5.945203  3.302023   \n",
       "\n",
       "        7         8         9      ...          190       191       192  \\\n",
       "0  1.328824 -2.777116  2.430451    ...    -0.328161 -0.295681  0.113946   \n",
       "1  0.652373  0.301433 -0.905873    ...     0.267460  0.538417  0.206171   \n",
       "2 -0.463323  0.403869 -2.071888    ...    -1.020064 -0.453968 -0.525977   \n",
       "3  2.174800  2.447302 -1.095995    ...    -0.235653  0.717497 -0.610170   \n",
       "4  4.620326  2.759217  0.339189    ...     0.298021 -0.699408 -0.282086   \n",
       "\n",
       "        193       194       195       196       197       198       199  \n",
       "0  0.208139  0.141831 -0.680605  0.229988  0.008179 -0.532108 -0.029908  \n",
       "1 -0.864754 -0.430793 -0.094253  0.122241 -0.243546  0.441761  0.372010  \n",
       "2  1.065285  0.002763 -0.415029  0.022073 -0.347206 -0.610579  0.289724  \n",
       "3 -0.391610 -0.323196 -0.543469  0.290943  0.176371  1.049895  0.355192  \n",
       "4  0.198434  0.516776 -0.206123  0.088123  0.483210 -0.257304  0.515638  \n",
       "\n",
       "[5 rows x 200 columns]"
      ]
     },
     "execution_count": 40,
     "metadata": {},
     "output_type": "execute_result"
    }
   ],
   "source": [
    "PCAimageDF.head(5)"
   ]
  },
  {
   "cell_type": "code",
   "execution_count": 41,
   "metadata": {
    "collapsed": true
   },
   "outputs": [],
   "source": [
    "allFeaturesRedNorm = pd.concat([normalizedDescVector, PCAimageDF], axis=1)"
   ]
  },
  {
   "cell_type": "code",
   "execution_count": 42,
   "metadata": {
    "collapsed": false
   },
   "outputs": [],
   "source": [
    "allFeaturesRed = pd.concat([descVectors, PCAimageDF], axis=1)"
   ]
  },
  {
   "cell_type": "code",
   "execution_count": 43,
   "metadata": {
    "collapsed": false
   },
   "outputs": [
    {
     "ename": "NameError",
     "evalue": "name 'binImages20DF' is not defined",
     "output_type": "error",
     "traceback": [
      "\u001b[0;31m---------------------------------------------------------------------------\u001b[0m",
      "\u001b[0;31mNameError\u001b[0m                                 Traceback (most recent call last)",
      "\u001b[0;32m<ipython-input-43-6f5ff630be70>\u001b[0m in \u001b[0;36m<module>\u001b[0;34m()\u001b[0m\n\u001b[0;32m----> 1\u001b[0;31m \u001b[0mallFeaturesTopNorm\u001b[0m \u001b[0;34m=\u001b[0m \u001b[0mpd\u001b[0m\u001b[0;34m.\u001b[0m\u001b[0mconcat\u001b[0m\u001b[0;34m(\u001b[0m\u001b[0;34m[\u001b[0m\u001b[0mnormalizedDescVector\u001b[0m\u001b[0;34m,\u001b[0m \u001b[0mbinImages20DF\u001b[0m\u001b[0;34m]\u001b[0m\u001b[0;34m,\u001b[0m \u001b[0maxis\u001b[0m\u001b[0;34m=\u001b[0m\u001b[0;36m1\u001b[0m\u001b[0;34m)\u001b[0m\u001b[0;34m\u001b[0m\u001b[0m\n\u001b[0m",
      "\u001b[0;31mNameError\u001b[0m: name 'binImages20DF' is not defined"
     ]
    }
   ],
   "source": [
    "allFeaturesTopNorm = pd.concat([normalizedDescVector, binImages20DF], axis=1)"
   ]
  },
  {
   "cell_type": "code",
   "execution_count": 132,
   "metadata": {
    "collapsed": true
   },
   "outputs": [],
   "source": [
    "allFeaturesTop = pd.concat([descVectors, binImages20DF], axis=1)"
   ]
  },
  {
   "cell_type": "markdown",
   "metadata": {
    "collapsed": true
   },
   "source": [
    "# Binary representation of images"
   ]
  },
  {
   "cell_type": "code",
   "execution_count": 95,
   "metadata": {
    "collapsed": false
   },
   "outputs": [],
   "source": [
    "mlb = MultiLabelBinarizer()\n",
    "binImages = mlb.fit_transform(consolMatrix)"
   ]
  },
  {
   "cell_type": "code",
   "execution_count": 96,
   "metadata": {
    "collapsed": false
   },
   "outputs": [
    {
     "data": {
      "text/plain": [
       "993"
      ]
     },
     "execution_count": 96,
     "metadata": {},
     "output_type": "execute_result"
    }
   ],
   "source": [
    "len(binImages[0])"
   ]
  },
  {
   "cell_type": "code",
   "execution_count": 89,
   "metadata": {
    "collapsed": false
   },
   "outputs": [
    {
     "data": {
      "text/plain": [
       "(10000, 1000)"
      ]
     },
     "execution_count": 89,
     "metadata": {},
     "output_type": "execute_result"
    }
   ],
   "source": [
    "binImages.shape"
   ]
  },
  {
   "cell_type": "markdown",
   "metadata": {},
   "source": [
    "# SVM"
   ]
  },
  {
   "cell_type": "code",
   "execution_count": 46,
   "metadata": {
    "collapsed": true
   },
   "outputs": [],
   "source": [
    "def SVM(train,trainLabel,test):\n",
    "#     clf = SVC()\n",
    "#     clf.fit(train,trainLabel)\n",
    "#     preds = clf.predict(test)\n",
    "    preds = OneVsRestClassifier(LinearSVC(random_state=0)).fit(train, trainLabel).predict(test)\n",
    "    return preds"
   ]
  },
  {
   "cell_type": "code",
   "execution_count": 45,
   "metadata": {
    "collapsed": true
   },
   "outputs": [],
   "source": [
    "def crossValidate(data,labels, classifier):\n",
    "    kf = KFold(len(data),3)\n",
    "    for trainIdx,testIdx in kf:\n",
    "        c = 0\n",
    "        train = np.array([data[idx] for idx in trainIdx])\n",
    "        test = np.array([data[idx] for idx in testIdx])\n",
    "        trainLabels = np.array([labels[idx] for idx in trainIdx])\n",
    "        testLabels = np.array([labels[idx] for idx in testIdx])\n",
    "        print (train.shape,trainLabels.shape)\n",
    "        testPreds = classifier(train,trainLabels,test)\n",
    "        for i in range(len(testPreds)):\n",
    "            if np.array_equal(testPreds[i],testLabels[i]):\n",
    "                c+=1\n",
    "        print (c)\n",
    "        print (float(len(testPreds)))\n",
    "        print (\"Accuracy: \" + str(c/float(len(testPreds))))"
   ]
  },
  {
   "cell_type": "code",
   "execution_count": 47,
   "metadata": {
    "collapsed": false
   },
   "outputs": [
    {
     "data": {
      "text/plain": [
       "((10000, 8504), (10000, 80))"
      ]
     },
     "execution_count": 47,
     "metadata": {},
     "output_type": "execute_result"
    }
   ],
   "source": [
    "allFeatures.shape, tagVectors.shape"
   ]
  },
  {
   "cell_type": "code",
   "execution_count": 50,
   "metadata": {
    "collapsed": false
   },
   "outputs": [
    {
     "name": "stdout",
     "output_type": "stream",
     "text": [
      "(6666, 8504) (6666, 80)\n",
      "55\n",
      "3334.0\n",
      "Accuracy: 0.016496700659868028\n",
      "(6667, 8504) (6667, 80)\n"
     ]
    },
    {
     "ename": "KeyboardInterrupt",
     "evalue": "",
     "output_type": "error",
     "traceback": [
      "\u001b[0;31m---------------------------------------------------------------------------\u001b[0m",
      "\u001b[0;31mKeyboardInterrupt\u001b[0m                         Traceback (most recent call last)",
      "\u001b[0;32m<ipython-input-50-526f78b111c1>\u001b[0m in \u001b[0;36m<module>\u001b[0;34m()\u001b[0m\n\u001b[0;32m----> 1\u001b[0;31m \u001b[0mcrossValidate\u001b[0m\u001b[0;34m(\u001b[0m\u001b[0mallFeatures\u001b[0m\u001b[0;34m.\u001b[0m\u001b[0mvalues\u001b[0m\u001b[0;34m,\u001b[0m\u001b[0mtagVectors\u001b[0m\u001b[0;34m.\u001b[0m\u001b[0mvalues\u001b[0m\u001b[0;34m,\u001b[0m \u001b[0mSVM\u001b[0m\u001b[0;34m)\u001b[0m\u001b[0;34m\u001b[0m\u001b[0m\n\u001b[0m",
      "\u001b[0;32m<ipython-input-45-d9f2d78ed89a>\u001b[0m in \u001b[0;36mcrossValidate\u001b[0;34m(data, labels, classifier)\u001b[0m\n\u001b[1;32m      8\u001b[0m         \u001b[0mtestLabels\u001b[0m \u001b[0;34m=\u001b[0m \u001b[0mnp\u001b[0m\u001b[0;34m.\u001b[0m\u001b[0marray\u001b[0m\u001b[0;34m(\u001b[0m\u001b[0;34m[\u001b[0m\u001b[0mlabels\u001b[0m\u001b[0;34m[\u001b[0m\u001b[0midx\u001b[0m\u001b[0;34m]\u001b[0m \u001b[0;32mfor\u001b[0m \u001b[0midx\u001b[0m \u001b[0;32min\u001b[0m \u001b[0mtestIdx\u001b[0m\u001b[0;34m]\u001b[0m\u001b[0;34m)\u001b[0m\u001b[0;34m\u001b[0m\u001b[0m\n\u001b[1;32m      9\u001b[0m         \u001b[0mprint\u001b[0m \u001b[0;34m(\u001b[0m\u001b[0mtrain\u001b[0m\u001b[0;34m.\u001b[0m\u001b[0mshape\u001b[0m\u001b[0;34m,\u001b[0m\u001b[0mtrainLabels\u001b[0m\u001b[0;34m.\u001b[0m\u001b[0mshape\u001b[0m\u001b[0;34m)\u001b[0m\u001b[0;34m\u001b[0m\u001b[0m\n\u001b[0;32m---> 10\u001b[0;31m         \u001b[0mtestPreds\u001b[0m \u001b[0;34m=\u001b[0m \u001b[0mclassifier\u001b[0m\u001b[0;34m(\u001b[0m\u001b[0mtrain\u001b[0m\u001b[0;34m,\u001b[0m\u001b[0mtrainLabels\u001b[0m\u001b[0;34m,\u001b[0m\u001b[0mtest\u001b[0m\u001b[0;34m)\u001b[0m\u001b[0;34m\u001b[0m\u001b[0m\n\u001b[0m\u001b[1;32m     11\u001b[0m         \u001b[0;32mfor\u001b[0m \u001b[0mi\u001b[0m \u001b[0;32min\u001b[0m \u001b[0mrange\u001b[0m\u001b[0;34m(\u001b[0m\u001b[0mlen\u001b[0m\u001b[0;34m(\u001b[0m\u001b[0mtestPreds\u001b[0m\u001b[0;34m)\u001b[0m\u001b[0;34m)\u001b[0m\u001b[0;34m:\u001b[0m\u001b[0;34m\u001b[0m\u001b[0m\n\u001b[1;32m     12\u001b[0m             \u001b[0;32mif\u001b[0m \u001b[0mnp\u001b[0m\u001b[0;34m.\u001b[0m\u001b[0marray_equal\u001b[0m\u001b[0;34m(\u001b[0m\u001b[0mtestPreds\u001b[0m\u001b[0;34m[\u001b[0m\u001b[0mi\u001b[0m\u001b[0;34m]\u001b[0m\u001b[0;34m,\u001b[0m\u001b[0mtestLabels\u001b[0m\u001b[0;34m[\u001b[0m\u001b[0mi\u001b[0m\u001b[0;34m]\u001b[0m\u001b[0;34m)\u001b[0m\u001b[0;34m:\u001b[0m\u001b[0;34m\u001b[0m\u001b[0m\n",
      "\u001b[0;32m<ipython-input-46-78c4f09da3c1>\u001b[0m in \u001b[0;36mSVM\u001b[0;34m(train, trainLabel, test)\u001b[0m\n\u001b[1;32m      3\u001b[0m \u001b[0;31m#     clf.fit(train,trainLabel)\u001b[0m\u001b[0;34m\u001b[0m\u001b[0;34m\u001b[0m\u001b[0m\n\u001b[1;32m      4\u001b[0m \u001b[0;31m#     preds = clf.predict(test)\u001b[0m\u001b[0;34m\u001b[0m\u001b[0;34m\u001b[0m\u001b[0m\n\u001b[0;32m----> 5\u001b[0;31m     \u001b[0mpreds\u001b[0m \u001b[0;34m=\u001b[0m \u001b[0mOneVsRestClassifier\u001b[0m\u001b[0;34m(\u001b[0m\u001b[0mLinearSVC\u001b[0m\u001b[0;34m(\u001b[0m\u001b[0mrandom_state\u001b[0m\u001b[0;34m=\u001b[0m\u001b[0;36m0\u001b[0m\u001b[0;34m)\u001b[0m\u001b[0;34m)\u001b[0m\u001b[0;34m.\u001b[0m\u001b[0mfit\u001b[0m\u001b[0;34m(\u001b[0m\u001b[0mtrain\u001b[0m\u001b[0;34m,\u001b[0m \u001b[0mtrainLabel\u001b[0m\u001b[0;34m)\u001b[0m\u001b[0;34m.\u001b[0m\u001b[0mpredict\u001b[0m\u001b[0;34m(\u001b[0m\u001b[0mtest\u001b[0m\u001b[0;34m)\u001b[0m\u001b[0;34m\u001b[0m\u001b[0m\n\u001b[0m\u001b[1;32m      6\u001b[0m     \u001b[0;32mreturn\u001b[0m \u001b[0mpreds\u001b[0m\u001b[0;34m\u001b[0m\u001b[0m\n",
      "\u001b[0;32m//anaconda/lib/python3.4/site-packages/sklearn/multiclass.py\u001b[0m in \u001b[0;36mfit\u001b[0;34m(self, X, y)\u001b[0m\n\u001b[1;32m    214\u001b[0m                 \u001b[0;34m\"not %s\"\u001b[0m \u001b[0;34m%\u001b[0m \u001b[0mself\u001b[0m\u001b[0;34m.\u001b[0m\u001b[0mlabel_binarizer_\u001b[0m\u001b[0;34m.\u001b[0m\u001b[0mclasses_\u001b[0m\u001b[0;34m[\u001b[0m\u001b[0mi\u001b[0m\u001b[0;34m]\u001b[0m\u001b[0;34m,\u001b[0m\u001b[0;34m\u001b[0m\u001b[0m\n\u001b[1;32m    215\u001b[0m                 self.label_binarizer_.classes_[i]])\n\u001b[0;32m--> 216\u001b[0;31m             for i, column in enumerate(columns))\n\u001b[0m\u001b[1;32m    217\u001b[0m \u001b[0;34m\u001b[0m\u001b[0m\n\u001b[1;32m    218\u001b[0m         \u001b[0;32mreturn\u001b[0m \u001b[0mself\u001b[0m\u001b[0;34m\u001b[0m\u001b[0m\n",
      "\u001b[0;32m//anaconda/lib/python3.4/site-packages/sklearn/externals/joblib/parallel.py\u001b[0m in \u001b[0;36m__call__\u001b[0;34m(self, iterable)\u001b[0m\n\u001b[1;32m    756\u001b[0m             \u001b[0;31m# was dispatched. In particular this covers the edge\u001b[0m\u001b[0;34m\u001b[0m\u001b[0;34m\u001b[0m\u001b[0m\n\u001b[1;32m    757\u001b[0m             \u001b[0;31m# case of Parallel used with an exhausted iterator.\u001b[0m\u001b[0;34m\u001b[0m\u001b[0;34m\u001b[0m\u001b[0m\n\u001b[0;32m--> 758\u001b[0;31m             \u001b[0;32mwhile\u001b[0m \u001b[0mself\u001b[0m\u001b[0;34m.\u001b[0m\u001b[0mdispatch_one_batch\u001b[0m\u001b[0;34m(\u001b[0m\u001b[0miterator\u001b[0m\u001b[0;34m)\u001b[0m\u001b[0;34m:\u001b[0m\u001b[0;34m\u001b[0m\u001b[0m\n\u001b[0m\u001b[1;32m    759\u001b[0m                 \u001b[0mself\u001b[0m\u001b[0;34m.\u001b[0m\u001b[0m_iterating\u001b[0m \u001b[0;34m=\u001b[0m \u001b[0;32mTrue\u001b[0m\u001b[0;34m\u001b[0m\u001b[0m\n\u001b[1;32m    760\u001b[0m             \u001b[0;32melse\u001b[0m\u001b[0;34m:\u001b[0m\u001b[0;34m\u001b[0m\u001b[0m\n",
      "\u001b[0;32m//anaconda/lib/python3.4/site-packages/sklearn/externals/joblib/parallel.py\u001b[0m in \u001b[0;36mdispatch_one_batch\u001b[0;34m(self, iterator)\u001b[0m\n\u001b[1;32m    606\u001b[0m                 \u001b[0;32mreturn\u001b[0m \u001b[0;32mFalse\u001b[0m\u001b[0;34m\u001b[0m\u001b[0m\n\u001b[1;32m    607\u001b[0m             \u001b[0;32melse\u001b[0m\u001b[0;34m:\u001b[0m\u001b[0;34m\u001b[0m\u001b[0m\n\u001b[0;32m--> 608\u001b[0;31m                 \u001b[0mself\u001b[0m\u001b[0;34m.\u001b[0m\u001b[0m_dispatch\u001b[0m\u001b[0;34m(\u001b[0m\u001b[0mtasks\u001b[0m\u001b[0;34m)\u001b[0m\u001b[0;34m\u001b[0m\u001b[0m\n\u001b[0m\u001b[1;32m    609\u001b[0m                 \u001b[0;32mreturn\u001b[0m \u001b[0;32mTrue\u001b[0m\u001b[0;34m\u001b[0m\u001b[0m\n\u001b[1;32m    610\u001b[0m \u001b[0;34m\u001b[0m\u001b[0m\n",
      "\u001b[0;32m//anaconda/lib/python3.4/site-packages/sklearn/externals/joblib/parallel.py\u001b[0m in \u001b[0;36m_dispatch\u001b[0;34m(self, batch)\u001b[0m\n\u001b[1;32m    569\u001b[0m         \u001b[0mdispatch_timestamp\u001b[0m \u001b[0;34m=\u001b[0m \u001b[0mtime\u001b[0m\u001b[0;34m.\u001b[0m\u001b[0mtime\u001b[0m\u001b[0;34m(\u001b[0m\u001b[0;34m)\u001b[0m\u001b[0;34m\u001b[0m\u001b[0m\n\u001b[1;32m    570\u001b[0m         \u001b[0mcb\u001b[0m \u001b[0;34m=\u001b[0m \u001b[0mBatchCompletionCallBack\u001b[0m\u001b[0;34m(\u001b[0m\u001b[0mdispatch_timestamp\u001b[0m\u001b[0;34m,\u001b[0m \u001b[0mlen\u001b[0m\u001b[0;34m(\u001b[0m\u001b[0mbatch\u001b[0m\u001b[0;34m)\u001b[0m\u001b[0;34m,\u001b[0m \u001b[0mself\u001b[0m\u001b[0;34m)\u001b[0m\u001b[0;34m\u001b[0m\u001b[0m\n\u001b[0;32m--> 571\u001b[0;31m         \u001b[0mjob\u001b[0m \u001b[0;34m=\u001b[0m \u001b[0mself\u001b[0m\u001b[0;34m.\u001b[0m\u001b[0m_backend\u001b[0m\u001b[0;34m.\u001b[0m\u001b[0mapply_async\u001b[0m\u001b[0;34m(\u001b[0m\u001b[0mbatch\u001b[0m\u001b[0;34m,\u001b[0m \u001b[0mcallback\u001b[0m\u001b[0;34m=\u001b[0m\u001b[0mcb\u001b[0m\u001b[0;34m)\u001b[0m\u001b[0;34m\u001b[0m\u001b[0m\n\u001b[0m\u001b[1;32m    572\u001b[0m         \u001b[0mself\u001b[0m\u001b[0;34m.\u001b[0m\u001b[0m_jobs\u001b[0m\u001b[0;34m.\u001b[0m\u001b[0mappend\u001b[0m\u001b[0;34m(\u001b[0m\u001b[0mjob\u001b[0m\u001b[0;34m)\u001b[0m\u001b[0;34m\u001b[0m\u001b[0m\n\u001b[1;32m    573\u001b[0m \u001b[0;34m\u001b[0m\u001b[0m\n",
      "\u001b[0;32m//anaconda/lib/python3.4/site-packages/sklearn/externals/joblib/_parallel_backends.py\u001b[0m in \u001b[0;36mapply_async\u001b[0;34m(self, func, callback)\u001b[0m\n\u001b[1;32m    107\u001b[0m     \u001b[0;32mdef\u001b[0m \u001b[0mapply_async\u001b[0m\u001b[0;34m(\u001b[0m\u001b[0mself\u001b[0m\u001b[0;34m,\u001b[0m \u001b[0mfunc\u001b[0m\u001b[0;34m,\u001b[0m \u001b[0mcallback\u001b[0m\u001b[0;34m=\u001b[0m\u001b[0;32mNone\u001b[0m\u001b[0;34m)\u001b[0m\u001b[0;34m:\u001b[0m\u001b[0;34m\u001b[0m\u001b[0m\n\u001b[1;32m    108\u001b[0m         \u001b[0;34m\"\"\"Schedule a func to be run\"\"\"\u001b[0m\u001b[0;34m\u001b[0m\u001b[0m\n\u001b[0;32m--> 109\u001b[0;31m         \u001b[0mresult\u001b[0m \u001b[0;34m=\u001b[0m \u001b[0mImmediateResult\u001b[0m\u001b[0;34m(\u001b[0m\u001b[0mfunc\u001b[0m\u001b[0;34m)\u001b[0m\u001b[0;34m\u001b[0m\u001b[0m\n\u001b[0m\u001b[1;32m    110\u001b[0m         \u001b[0;32mif\u001b[0m \u001b[0mcallback\u001b[0m\u001b[0;34m:\u001b[0m\u001b[0;34m\u001b[0m\u001b[0m\n\u001b[1;32m    111\u001b[0m             \u001b[0mcallback\u001b[0m\u001b[0;34m(\u001b[0m\u001b[0mresult\u001b[0m\u001b[0;34m)\u001b[0m\u001b[0;34m\u001b[0m\u001b[0m\n",
      "\u001b[0;32m//anaconda/lib/python3.4/site-packages/sklearn/externals/joblib/_parallel_backends.py\u001b[0m in \u001b[0;36m__init__\u001b[0;34m(self, batch)\u001b[0m\n\u001b[1;32m    320\u001b[0m         \u001b[0;31m# Don't delay the application, to avoid keeping the input\u001b[0m\u001b[0;34m\u001b[0m\u001b[0;34m\u001b[0m\u001b[0m\n\u001b[1;32m    321\u001b[0m         \u001b[0;31m# arguments in memory\u001b[0m\u001b[0;34m\u001b[0m\u001b[0;34m\u001b[0m\u001b[0m\n\u001b[0;32m--> 322\u001b[0;31m         \u001b[0mself\u001b[0m\u001b[0;34m.\u001b[0m\u001b[0mresults\u001b[0m \u001b[0;34m=\u001b[0m \u001b[0mbatch\u001b[0m\u001b[0;34m(\u001b[0m\u001b[0;34m)\u001b[0m\u001b[0;34m\u001b[0m\u001b[0m\n\u001b[0m\u001b[1;32m    323\u001b[0m \u001b[0;34m\u001b[0m\u001b[0m\n\u001b[1;32m    324\u001b[0m     \u001b[0;32mdef\u001b[0m \u001b[0mget\u001b[0m\u001b[0;34m(\u001b[0m\u001b[0mself\u001b[0m\u001b[0;34m)\u001b[0m\u001b[0;34m:\u001b[0m\u001b[0;34m\u001b[0m\u001b[0m\n",
      "\u001b[0;32m//anaconda/lib/python3.4/site-packages/sklearn/externals/joblib/parallel.py\u001b[0m in \u001b[0;36m__call__\u001b[0;34m(self)\u001b[0m\n\u001b[1;32m    129\u001b[0m \u001b[0;34m\u001b[0m\u001b[0m\n\u001b[1;32m    130\u001b[0m     \u001b[0;32mdef\u001b[0m \u001b[0m__call__\u001b[0m\u001b[0;34m(\u001b[0m\u001b[0mself\u001b[0m\u001b[0;34m)\u001b[0m\u001b[0;34m:\u001b[0m\u001b[0;34m\u001b[0m\u001b[0m\n\u001b[0;32m--> 131\u001b[0;31m         \u001b[0;32mreturn\u001b[0m \u001b[0;34m[\u001b[0m\u001b[0mfunc\u001b[0m\u001b[0;34m(\u001b[0m\u001b[0;34m*\u001b[0m\u001b[0margs\u001b[0m\u001b[0;34m,\u001b[0m \u001b[0;34m**\u001b[0m\u001b[0mkwargs\u001b[0m\u001b[0;34m)\u001b[0m \u001b[0;32mfor\u001b[0m \u001b[0mfunc\u001b[0m\u001b[0;34m,\u001b[0m \u001b[0margs\u001b[0m\u001b[0;34m,\u001b[0m \u001b[0mkwargs\u001b[0m \u001b[0;32min\u001b[0m \u001b[0mself\u001b[0m\u001b[0;34m.\u001b[0m\u001b[0mitems\u001b[0m\u001b[0;34m]\u001b[0m\u001b[0;34m\u001b[0m\u001b[0m\n\u001b[0m\u001b[1;32m    132\u001b[0m \u001b[0;34m\u001b[0m\u001b[0m\n\u001b[1;32m    133\u001b[0m     \u001b[0;32mdef\u001b[0m \u001b[0m__len__\u001b[0m\u001b[0;34m(\u001b[0m\u001b[0mself\u001b[0m\u001b[0;34m)\u001b[0m\u001b[0;34m:\u001b[0m\u001b[0;34m\u001b[0m\u001b[0m\n",
      "\u001b[0;32m//anaconda/lib/python3.4/site-packages/sklearn/externals/joblib/parallel.py\u001b[0m in \u001b[0;36m<listcomp>\u001b[0;34m(.0)\u001b[0m\n\u001b[1;32m    129\u001b[0m \u001b[0;34m\u001b[0m\u001b[0m\n\u001b[1;32m    130\u001b[0m     \u001b[0;32mdef\u001b[0m \u001b[0m__call__\u001b[0m\u001b[0;34m(\u001b[0m\u001b[0mself\u001b[0m\u001b[0;34m)\u001b[0m\u001b[0;34m:\u001b[0m\u001b[0;34m\u001b[0m\u001b[0m\n\u001b[0;32m--> 131\u001b[0;31m         \u001b[0;32mreturn\u001b[0m \u001b[0;34m[\u001b[0m\u001b[0mfunc\u001b[0m\u001b[0;34m(\u001b[0m\u001b[0;34m*\u001b[0m\u001b[0margs\u001b[0m\u001b[0;34m,\u001b[0m \u001b[0;34m**\u001b[0m\u001b[0mkwargs\u001b[0m\u001b[0;34m)\u001b[0m \u001b[0;32mfor\u001b[0m \u001b[0mfunc\u001b[0m\u001b[0;34m,\u001b[0m \u001b[0margs\u001b[0m\u001b[0;34m,\u001b[0m \u001b[0mkwargs\u001b[0m \u001b[0;32min\u001b[0m \u001b[0mself\u001b[0m\u001b[0;34m.\u001b[0m\u001b[0mitems\u001b[0m\u001b[0;34m]\u001b[0m\u001b[0;34m\u001b[0m\u001b[0m\n\u001b[0m\u001b[1;32m    132\u001b[0m \u001b[0;34m\u001b[0m\u001b[0m\n\u001b[1;32m    133\u001b[0m     \u001b[0;32mdef\u001b[0m \u001b[0m__len__\u001b[0m\u001b[0;34m(\u001b[0m\u001b[0mself\u001b[0m\u001b[0;34m)\u001b[0m\u001b[0;34m:\u001b[0m\u001b[0;34m\u001b[0m\u001b[0m\n",
      "\u001b[0;32m//anaconda/lib/python3.4/site-packages/sklearn/multiclass.py\u001b[0m in \u001b[0;36m_fit_binary\u001b[0;34m(estimator, X, y, classes)\u001b[0m\n\u001b[1;32m     78\u001b[0m     \u001b[0;32melse\u001b[0m\u001b[0;34m:\u001b[0m\u001b[0;34m\u001b[0m\u001b[0m\n\u001b[1;32m     79\u001b[0m         \u001b[0mestimator\u001b[0m \u001b[0;34m=\u001b[0m \u001b[0mclone\u001b[0m\u001b[0;34m(\u001b[0m\u001b[0mestimator\u001b[0m\u001b[0;34m)\u001b[0m\u001b[0;34m\u001b[0m\u001b[0m\n\u001b[0;32m---> 80\u001b[0;31m         \u001b[0mestimator\u001b[0m\u001b[0;34m.\u001b[0m\u001b[0mfit\u001b[0m\u001b[0;34m(\u001b[0m\u001b[0mX\u001b[0m\u001b[0;34m,\u001b[0m \u001b[0my\u001b[0m\u001b[0;34m)\u001b[0m\u001b[0;34m\u001b[0m\u001b[0m\n\u001b[0m\u001b[1;32m     81\u001b[0m     \u001b[0;32mreturn\u001b[0m \u001b[0mestimator\u001b[0m\u001b[0;34m\u001b[0m\u001b[0m\n\u001b[1;32m     82\u001b[0m \u001b[0;34m\u001b[0m\u001b[0m\n",
      "\u001b[0;32m//anaconda/lib/python3.4/site-packages/sklearn/svm/classes.py\u001b[0m in \u001b[0;36mfit\u001b[0;34m(self, X, y, sample_weight)\u001b[0m\n\u001b[1;32m    213\u001b[0m             \u001b[0mself\u001b[0m\u001b[0;34m.\u001b[0m\u001b[0mclass_weight\u001b[0m\u001b[0;34m,\u001b[0m \u001b[0mself\u001b[0m\u001b[0;34m.\u001b[0m\u001b[0mpenalty\u001b[0m\u001b[0;34m,\u001b[0m \u001b[0mself\u001b[0m\u001b[0;34m.\u001b[0m\u001b[0mdual\u001b[0m\u001b[0;34m,\u001b[0m \u001b[0mself\u001b[0m\u001b[0;34m.\u001b[0m\u001b[0mverbose\u001b[0m\u001b[0;34m,\u001b[0m\u001b[0;34m\u001b[0m\u001b[0m\n\u001b[1;32m    214\u001b[0m             \u001b[0mself\u001b[0m\u001b[0;34m.\u001b[0m\u001b[0mmax_iter\u001b[0m\u001b[0;34m,\u001b[0m \u001b[0mself\u001b[0m\u001b[0;34m.\u001b[0m\u001b[0mtol\u001b[0m\u001b[0;34m,\u001b[0m \u001b[0mself\u001b[0m\u001b[0;34m.\u001b[0m\u001b[0mrandom_state\u001b[0m\u001b[0;34m,\u001b[0m \u001b[0mself\u001b[0m\u001b[0;34m.\u001b[0m\u001b[0mmulti_class\u001b[0m\u001b[0;34m,\u001b[0m\u001b[0;34m\u001b[0m\u001b[0m\n\u001b[0;32m--> 215\u001b[0;31m             self.loss, sample_weight=sample_weight)\n\u001b[0m\u001b[1;32m    216\u001b[0m \u001b[0;34m\u001b[0m\u001b[0m\n\u001b[1;32m    217\u001b[0m         \u001b[0;32mif\u001b[0m \u001b[0mself\u001b[0m\u001b[0;34m.\u001b[0m\u001b[0mmulti_class\u001b[0m \u001b[0;34m==\u001b[0m \u001b[0;34m\"crammer_singer\"\u001b[0m \u001b[0;32mand\u001b[0m \u001b[0mlen\u001b[0m\u001b[0;34m(\u001b[0m\u001b[0mself\u001b[0m\u001b[0;34m.\u001b[0m\u001b[0mclasses_\u001b[0m\u001b[0;34m)\u001b[0m \u001b[0;34m==\u001b[0m \u001b[0;36m2\u001b[0m\u001b[0;34m:\u001b[0m\u001b[0;34m\u001b[0m\u001b[0m\n",
      "\u001b[0;32m//anaconda/lib/python3.4/site-packages/sklearn/svm/base.py\u001b[0m in \u001b[0;36m_fit_liblinear\u001b[0;34m(X, y, C, fit_intercept, intercept_scaling, class_weight, penalty, dual, verbose, max_iter, tol, random_state, multi_class, loss, epsilon, sample_weight)\u001b[0m\n\u001b[1;32m    910\u001b[0m         \u001b[0mX\u001b[0m\u001b[0;34m,\u001b[0m \u001b[0my_ind\u001b[0m\u001b[0;34m,\u001b[0m \u001b[0msp\u001b[0m\u001b[0;34m.\u001b[0m\u001b[0misspmatrix\u001b[0m\u001b[0;34m(\u001b[0m\u001b[0mX\u001b[0m\u001b[0;34m)\u001b[0m\u001b[0;34m,\u001b[0m \u001b[0msolver_type\u001b[0m\u001b[0;34m,\u001b[0m \u001b[0mtol\u001b[0m\u001b[0;34m,\u001b[0m \u001b[0mbias\u001b[0m\u001b[0;34m,\u001b[0m \u001b[0mC\u001b[0m\u001b[0;34m,\u001b[0m\u001b[0;34m\u001b[0m\u001b[0m\n\u001b[1;32m    911\u001b[0m         \u001b[0mclass_weight_\u001b[0m\u001b[0;34m,\u001b[0m \u001b[0mmax_iter\u001b[0m\u001b[0;34m,\u001b[0m \u001b[0mrnd\u001b[0m\u001b[0;34m.\u001b[0m\u001b[0mrandint\u001b[0m\u001b[0;34m(\u001b[0m\u001b[0mnp\u001b[0m\u001b[0;34m.\u001b[0m\u001b[0miinfo\u001b[0m\u001b[0;34m(\u001b[0m\u001b[0;34m'i'\u001b[0m\u001b[0;34m)\u001b[0m\u001b[0;34m.\u001b[0m\u001b[0mmax\u001b[0m\u001b[0;34m)\u001b[0m\u001b[0;34m,\u001b[0m\u001b[0;34m\u001b[0m\u001b[0m\n\u001b[0;32m--> 912\u001b[0;31m         epsilon, sample_weight)\n\u001b[0m\u001b[1;32m    913\u001b[0m     \u001b[0;31m# Regarding rnd.randint(..) in the above signature:\u001b[0m\u001b[0;34m\u001b[0m\u001b[0;34m\u001b[0m\u001b[0m\n\u001b[1;32m    914\u001b[0m     \u001b[0;31m# seed for srand in range [0..INT_MAX); due to limitations in Numpy\u001b[0m\u001b[0;34m\u001b[0m\u001b[0;34m\u001b[0m\u001b[0m\n",
      "\u001b[0;31mKeyboardInterrupt\u001b[0m: "
     ]
    }
   ],
   "source": [
    "crossValidate(allFeatures.values,tagVectors.values, SVM)"
   ]
  },
  {
   "cell_type": "code",
   "execution_count": null,
   "metadata": {
    "collapsed": false
   },
   "outputs": [],
   "source": [
    "crossValidate(allFeaturesNonNorm.values,tagVectors.values, SVM)"
   ]
  },
  {
   "cell_type": "markdown",
   "metadata": {},
   "source": [
    "# Logistic Regression"
   ]
  },
  {
   "cell_type": "code",
   "execution_count": 51,
   "metadata": {
    "collapsed": false
   },
   "outputs": [],
   "source": [
    "def logRegression(train,trainLabel,test):\n",
    "    preds = OneVsRestClassifier(LogisticRegression(C = .1)).fit(train, trainLabel).predict(test)\n",
    "    return preds"
   ]
  },
  {
   "cell_type": "code",
   "execution_count": 74,
   "metadata": {
    "collapsed": false
   },
   "outputs": [],
   "source": [
    "# crossValidate(allFeatures.values,tagVectors.values, logRegression)"
   ]
  },
  {
   "cell_type": "code",
   "execution_count": null,
   "metadata": {
    "collapsed": false
   },
   "outputs": [
    {
     "name": "stdout",
     "output_type": "stream",
     "text": [
      "(6666, 8504) (6666, 80)\n",
      "1196\n",
      "3334.0\n",
      "Accuracy: 0.3587282543491302\n",
      "(6667, 8504) (6667, 80)\n"
     ]
    }
   ],
   "source": [
    "crossValidate(allFeaturesNonNorm.values,tagVectors.values, logRegression)"
   ]
  },
  {
   "cell_type": "markdown",
   "metadata": {},
   "source": [
    "# After PCA on Image"
   ]
  },
  {
   "cell_type": "code",
   "execution_count": null,
   "metadata": {
    "collapsed": false
   },
   "outputs": [],
   "source": [
    "crossValidate(allFeaturesRedNorm.values,tagVectors.values, SVM)"
   ]
  },
  {
   "cell_type": "code",
   "execution_count": null,
   "metadata": {
    "collapsed": false
   },
   "outputs": [],
   "source": [
    "crossValidate(allFeaturesRed.values,tagVectors.values, SVM)"
   ]
  },
  {
   "cell_type": "code",
   "execution_count": 100,
   "metadata": {
    "collapsed": false
   },
   "outputs": [],
   "source": [
    "# crossValidate(allFeaturesRedNorm.values,tagVectors.values, logRegression)"
   ]
  },
  {
   "cell_type": "code",
   "execution_count": null,
   "metadata": {
    "collapsed": false
   },
   "outputs": [],
   "source": [
    "crossValidate(allFeaturesRed.values,tagVectors.values, logRegression)"
   ]
  },
  {
   "cell_type": "markdown",
   "metadata": {},
   "source": [
    "# After One Hot Encoding Top 20 probable classes for each row for Images"
   ]
  },
  {
   "cell_type": "code",
   "execution_count": null,
   "metadata": {
    "collapsed": false
   },
   "outputs": [],
   "source": [
    "crossValidate(allFeaturesTopNorm.values,tagVectors.values, SVM)"
   ]
  },
  {
   "cell_type": "code",
   "execution_count": 102,
   "metadata": {
    "collapsed": false
   },
   "outputs": [
    {
     "name": "stdout",
     "output_type": "stream",
     "text": [
      "(6666, 7449) (6666, 80)\n",
      "1001\n",
      "3334.0\n",
      "Accuracy: 0.3002399520095981\n",
      "(6667, 7449) (6667, 80)\n",
      "993\n",
      "3333.0\n",
      "Accuracy: 0.29792979297929795\n",
      "(6667, 7449) (6667, 80)\n",
      "958\n",
      "3333.0\n",
      "Accuracy: 0.28742874287428744\n"
     ]
    }
   ],
   "source": [
    "crossValidate(allFeaturesTop.values,tagVectors.values, SVM)"
   ]
  },
  {
   "cell_type": "code",
   "execution_count": null,
   "metadata": {
    "collapsed": true
   },
   "outputs": [],
   "source": [
    "# crossValidate(allFeaturesTopNorm.values,tagVectors.values, logRegression)"
   ]
  },
  {
   "cell_type": "code",
   "execution_count": 205,
   "metadata": {
    "collapsed": false
   },
   "outputs": [
    {
     "name": "stdout",
     "output_type": "stream",
     "text": [
      "(6666, 7449) (6666, 80)\n",
      "1359\n",
      "3334.0\n",
      "Accuracy: 0.4076184763047391\n",
      "(6667, 7449) (6667, 80)\n",
      "1431\n",
      "3333.0\n",
      "Accuracy: 0.42934293429342935\n",
      "(6667, 7449) (6667, 80)\n",
      "1400\n",
      "3333.0\n",
      "Accuracy: 0.42004200420042004\n"
     ]
    }
   ],
   "source": [
    "crossValidate(allFeaturesTop.values,tagVectors.values, logRegression)"
   ]
  },
  {
   "cell_type": "code",
   "execution_count": null,
   "metadata": {
    "collapsed": true
   },
   "outputs": [],
   "source": []
  },
  {
   "cell_type": "markdown",
   "metadata": {},
   "source": [
    "# Generate Test Description Vectors"
   ]
  },
  {
   "cell_type": "code",
   "execution_count": 134,
   "metadata": {
    "collapsed": true
   },
   "outputs": [],
   "source": [
    "testDescVectors = binaryVectorizeDescriptions(numTest,descriptionTestFolder,indexedDescBag)"
   ]
  },
  {
   "cell_type": "code",
   "execution_count": 135,
   "metadata": {
    "collapsed": true
   },
   "outputs": [],
   "source": [
    "normalizedTestDescVector =testDescVectors.div(testDescVectors.sum(axis=1), axis=0) "
   ]
  },
  {
   "cell_type": "code",
   "execution_count": null,
   "metadata": {
    "collapsed": true
   },
   "outputs": [],
   "source": [
    "print (normalizedDescVector.shape,tagVectors.shape,normalizedTestDescVector.shape)"
   ]
  },
  {
   "cell_type": "markdown",
   "metadata": {},
   "source": [
    "# Generate Image Features"
   ]
  },
  {
   "cell_type": "code",
   "execution_count": 159,
   "metadata": {
    "collapsed": false
   },
   "outputs": [],
   "source": [
    "test_features_df  = cleanImageFeatures(\"../../final/data/features_test/features_resnet1000_test.csv\")"
   ]
  },
  {
   "cell_type": "code",
   "execution_count": 160,
   "metadata": {
    "collapsed": false
   },
   "outputs": [
    {
     "data": {
      "text/html": [
       "<div>\n",
       "<table border=\"1\" class=\"dataframe\">\n",
       "  <thead>\n",
       "    <tr style=\"text-align: right;\">\n",
       "      <th></th>\n",
       "      <th>1</th>\n",
       "      <th>2</th>\n",
       "      <th>3</th>\n",
       "      <th>4</th>\n",
       "      <th>5</th>\n",
       "      <th>6</th>\n",
       "      <th>7</th>\n",
       "      <th>8</th>\n",
       "      <th>9</th>\n",
       "      <th>10</th>\n",
       "      <th>...</th>\n",
       "      <th>991</th>\n",
       "      <th>992</th>\n",
       "      <th>993</th>\n",
       "      <th>994</th>\n",
       "      <th>995</th>\n",
       "      <th>996</th>\n",
       "      <th>997</th>\n",
       "      <th>998</th>\n",
       "      <th>999</th>\n",
       "      <th>1000</th>\n",
       "    </tr>\n",
       "  </thead>\n",
       "  <tbody>\n",
       "    <tr>\n",
       "      <th>523</th>\n",
       "      <td>0.000004</td>\n",
       "      <td>0.000020</td>\n",
       "      <td>0.000005</td>\n",
       "      <td>0.000005</td>\n",
       "      <td>0.000008</td>\n",
       "      <td>0.000009</td>\n",
       "      <td>1.787713e-07</td>\n",
       "      <td>0.000004</td>\n",
       "      <td>0.000002</td>\n",
       "      <td>7.082508e-07</td>\n",
       "      <td>...</td>\n",
       "      <td>6.326978e-07</td>\n",
       "      <td>2.368942e-06</td>\n",
       "      <td>6.305951e-06</td>\n",
       "      <td>0.000008</td>\n",
       "      <td>0.000011</td>\n",
       "      <td>0.000070</td>\n",
       "      <td>0.000185</td>\n",
       "      <td>3.289636e-06</td>\n",
       "      <td>0.000068</td>\n",
       "      <td>0.000019</td>\n",
       "    </tr>\n",
       "    <tr>\n",
       "      <th>1485</th>\n",
       "      <td>0.000048</td>\n",
       "      <td>0.000004</td>\n",
       "      <td>0.000011</td>\n",
       "      <td>0.000019</td>\n",
       "      <td>0.000010</td>\n",
       "      <td>0.000050</td>\n",
       "      <td>7.752077e-07</td>\n",
       "      <td>0.000039</td>\n",
       "      <td>0.000026</td>\n",
       "      <td>3.737710e-05</td>\n",
       "      <td>...</td>\n",
       "      <td>1.992100e-04</td>\n",
       "      <td>1.325652e-05</td>\n",
       "      <td>6.158723e-06</td>\n",
       "      <td>0.000024</td>\n",
       "      <td>0.000009</td>\n",
       "      <td>0.000313</td>\n",
       "      <td>0.000046</td>\n",
       "      <td>8.189401e-06</td>\n",
       "      <td>0.000245</td>\n",
       "      <td>0.000044</td>\n",
       "    </tr>\n",
       "    <tr>\n",
       "      <th>798</th>\n",
       "      <td>0.000177</td>\n",
       "      <td>0.000006</td>\n",
       "      <td>0.000019</td>\n",
       "      <td>0.000009</td>\n",
       "      <td>0.000296</td>\n",
       "      <td>0.000209</td>\n",
       "      <td>1.162106e-05</td>\n",
       "      <td>0.000003</td>\n",
       "      <td>0.000002</td>\n",
       "      <td>1.963639e-06</td>\n",
       "      <td>...</td>\n",
       "      <td>2.046373e-06</td>\n",
       "      <td>7.960216e-07</td>\n",
       "      <td>1.174392e-06</td>\n",
       "      <td>0.000008</td>\n",
       "      <td>0.000006</td>\n",
       "      <td>0.000017</td>\n",
       "      <td>0.000214</td>\n",
       "      <td>2.569785e-06</td>\n",
       "      <td>0.000198</td>\n",
       "      <td>0.000255</td>\n",
       "    </tr>\n",
       "    <tr>\n",
       "      <th>1910</th>\n",
       "      <td>0.000013</td>\n",
       "      <td>0.000058</td>\n",
       "      <td>0.000009</td>\n",
       "      <td>0.000007</td>\n",
       "      <td>0.000027</td>\n",
       "      <td>0.000093</td>\n",
       "      <td>6.085262e-06</td>\n",
       "      <td>0.000019</td>\n",
       "      <td>0.000004</td>\n",
       "      <td>6.307517e-06</td>\n",
       "      <td>...</td>\n",
       "      <td>5.351767e-06</td>\n",
       "      <td>6.359755e-06</td>\n",
       "      <td>1.501927e-06</td>\n",
       "      <td>0.000008</td>\n",
       "      <td>0.000008</td>\n",
       "      <td>0.000013</td>\n",
       "      <td>0.000079</td>\n",
       "      <td>2.049569e-06</td>\n",
       "      <td>0.000064</td>\n",
       "      <td>0.000007</td>\n",
       "    </tr>\n",
       "    <tr>\n",
       "      <th>765</th>\n",
       "      <td>0.000012</td>\n",
       "      <td>0.000999</td>\n",
       "      <td>0.000004</td>\n",
       "      <td>0.000006</td>\n",
       "      <td>0.000005</td>\n",
       "      <td>0.000078</td>\n",
       "      <td>1.300293e-06</td>\n",
       "      <td>0.000005</td>\n",
       "      <td>0.000017</td>\n",
       "      <td>5.445326e-07</td>\n",
       "      <td>...</td>\n",
       "      <td>1.537307e-04</td>\n",
       "      <td>2.446943e-06</td>\n",
       "      <td>8.829573e-07</td>\n",
       "      <td>0.000003</td>\n",
       "      <td>0.000001</td>\n",
       "      <td>0.000010</td>\n",
       "      <td>0.000014</td>\n",
       "      <td>3.782963e-07</td>\n",
       "      <td>0.000157</td>\n",
       "      <td>0.000115</td>\n",
       "    </tr>\n",
       "  </tbody>\n",
       "</table>\n",
       "<p>5 rows × 1000 columns</p>\n",
       "</div>"
      ],
      "text/plain": [
       "          1         2         3         4         5         6     \\\n",
       "523   0.000004  0.000020  0.000005  0.000005  0.000008  0.000009   \n",
       "1485  0.000048  0.000004  0.000011  0.000019  0.000010  0.000050   \n",
       "798   0.000177  0.000006  0.000019  0.000009  0.000296  0.000209   \n",
       "1910  0.000013  0.000058  0.000009  0.000007  0.000027  0.000093   \n",
       "765   0.000012  0.000999  0.000004  0.000006  0.000005  0.000078   \n",
       "\n",
       "              7         8         9             10      ...             991   \\\n",
       "523   1.787713e-07  0.000004  0.000002  7.082508e-07    ...     6.326978e-07   \n",
       "1485  7.752077e-07  0.000039  0.000026  3.737710e-05    ...     1.992100e-04   \n",
       "798   1.162106e-05  0.000003  0.000002  1.963639e-06    ...     2.046373e-06   \n",
       "1910  6.085262e-06  0.000019  0.000004  6.307517e-06    ...     5.351767e-06   \n",
       "765   1.300293e-06  0.000005  0.000017  5.445326e-07    ...     1.537307e-04   \n",
       "\n",
       "              992           993       994       995       996       997   \\\n",
       "523   2.368942e-06  6.305951e-06  0.000008  0.000011  0.000070  0.000185   \n",
       "1485  1.325652e-05  6.158723e-06  0.000024  0.000009  0.000313  0.000046   \n",
       "798   7.960216e-07  1.174392e-06  0.000008  0.000006  0.000017  0.000214   \n",
       "1910  6.359755e-06  1.501927e-06  0.000008  0.000008  0.000013  0.000079   \n",
       "765   2.446943e-06  8.829573e-07  0.000003  0.000001  0.000010  0.000014   \n",
       "\n",
       "              998       999       1000  \n",
       "523   3.289636e-06  0.000068  0.000019  \n",
       "1485  8.189401e-06  0.000245  0.000044  \n",
       "798   2.569785e-06  0.000198  0.000255  \n",
       "1910  2.049569e-06  0.000064  0.000007  \n",
       "765   3.782963e-07  0.000157  0.000115  \n",
       "\n",
       "[5 rows x 1000 columns]"
      ]
     },
     "execution_count": 160,
     "metadata": {},
     "output_type": "execute_result"
    }
   ],
   "source": [
    "test_features_df.head(5)"
   ]
  },
  {
   "cell_type": "code",
   "execution_count": 168,
   "metadata": {
    "collapsed": false
   },
   "outputs": [],
   "source": [
    "imageMatrix_test = test_features_df.values\n",
    "imagePCAArray_test= reduceDimensions(imageMatrix_test,200) #PCA rray\n",
    "PCAimageDF_test = pd.DataFrame(imagePCAArray_test)"
   ]
  },
  {
   "cell_type": "code",
   "execution_count": 178,
   "metadata": {
    "collapsed": false
   },
   "outputs": [
    {
     "data": {
      "text/plain": [
       "(2000, 6456)"
      ]
     },
     "execution_count": 178,
     "metadata": {},
     "output_type": "execute_result"
    }
   ],
   "source": [
    "testDescVectors.shape"
   ]
  },
  {
   "cell_type": "code",
   "execution_count": 206,
   "metadata": {
    "collapsed": false
   },
   "outputs": [],
   "source": [
    "allFeaturesTest = pd.concat([testDescVectors, PCAimageDF_test], axis=1)"
   ]
  },
  {
   "cell_type": "code",
   "execution_count": 207,
   "metadata": {
    "collapsed": false
   },
   "outputs": [
    {
     "data": {
      "text/plain": [
       "((10000, 6656), (10000, 80), (2000, 6656))"
      ]
     },
     "execution_count": 207,
     "metadata": {},
     "output_type": "execute_result"
    }
   ],
   "source": [
    "allFeaturesRed.shape, tagVectors.shape, allFeaturesTest.shape"
   ]
  },
  {
   "cell_type": "code",
   "execution_count": 210,
   "metadata": {
    "collapsed": true
   },
   "outputs": [],
   "source": [
    "testPreds = logRegression(allFeaturesRed.values,tagVectors.values,allFeaturesTest.values)"
   ]
  },
  {
   "cell_type": "code",
   "execution_count": 211,
   "metadata": {
    "collapsed": false
   },
   "outputs": [
    {
     "name": "stdout",
     "output_type": "stream",
     "text": [
      "(2000, 80)\n"
     ]
    }
   ],
   "source": [
    "print (testPreds.shape)"
   ]
  },
  {
   "cell_type": "markdown",
   "metadata": {},
   "source": [
    "# Generate Test Tag Vectors"
   ]
  },
  {
   "cell_type": "code",
   "execution_count": 212,
   "metadata": {
    "collapsed": true
   },
   "outputs": [],
   "source": [
    "testTagVectors = getTagVectors(numTest,tagsTestFolder,indexedTagBag)"
   ]
  },
  {
   "cell_type": "markdown",
   "metadata": {},
   "source": [
    "# Use kNN to find the 20 closest tag vectors for each test prediction vector"
   ]
  },
  {
   "cell_type": "code",
   "execution_count": 213,
   "metadata": {
    "collapsed": true
   },
   "outputs": [],
   "source": [
    "def kNN(tags,k,preds):\n",
    "    model = NearestNeighbors(n_neighbors= k , algorithm='kd_tree').fit(tags)\n",
    "    dist,idxs = model.kneighbors(preds)\n",
    "    return dist,idxs"
   ]
  },
  {
   "cell_type": "code",
   "execution_count": 214,
   "metadata": {
    "collapsed": false
   },
   "outputs": [],
   "source": [
    "dist,preds = kNN(testTagVectors,20,testPreds)"
   ]
  },
  {
   "cell_type": "code",
   "execution_count": 215,
   "metadata": {
    "collapsed": true
   },
   "outputs": [],
   "source": [
    "def saveResults(res,name):\n",
    "    f = open(name,'w')\n",
    "    f.write('Descritpion_ID,Top_20_Image_IDs\\n')\n",
    "    for i in range(2000):\n",
    "        f.write(str(i)+'.txt,')\n",
    "        for j in range(20):\n",
    "            if j == 19:\n",
    "                f.write(str(res[i,j])+'.jpg\\n')\n",
    "            else:\n",
    "                f.write(str(res[i,j])+'.jpg ')\n",
    "    f.close()"
   ]
  },
  {
   "cell_type": "code",
   "execution_count": 216,
   "metadata": {
    "collapsed": false
   },
   "outputs": [],
   "source": [
    "saveResults(preds,\"log+images+kNN.csv\")"
   ]
  },
  {
   "cell_type": "code",
   "execution_count": null,
   "metadata": {
    "collapsed": true
   },
   "outputs": [],
   "source": []
  }
 ],
 "metadata": {
  "kernelspec": {
   "display_name": "Python 3",
   "language": "python",
   "name": "python3"
  },
  "language_info": {
   "codemirror_mode": {
    "name": "ipython",
    "version": 3
   },
   "file_extension": ".py",
   "mimetype": "text/x-python",
   "name": "python",
   "nbconvert_exporter": "python",
   "pygments_lexer": "ipython3",
   "version": "3.4.5"
  }
 },
 "nbformat": 4,
 "nbformat_minor": 0
}
