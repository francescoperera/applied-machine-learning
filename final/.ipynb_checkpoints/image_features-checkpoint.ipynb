{
 "cells": [
  {
   "cell_type": "code",
   "execution_count": 3,
   "metadata": {
    "collapsed": false
   },
   "outputs": [
    {
     "name": "stderr",
     "output_type": "stream",
     "text": [
      "//anaconda/lib/python3.4/site-packages/sklearn/cross_validation.py:44: DeprecationWarning: This module was deprecated in version 0.18 in favor of the model_selection module into which all the refactored classes and functions are moved. Also note that the interface of the new CV iterators are different from that of this module. This module will be removed in 0.20.\n",
      "  \"This module will be removed in 0.20.\", DeprecationWarning)\n"
     ]
    }
   ],
   "source": [
    "import pandas as pd\n",
    "import numpy as np\n",
    "import matplotlib.pyplot as plt\n",
    "from collections import Counter\n",
    "from collections import defaultdict\n",
    "from functools import partial\n",
    "from itertools import count\n",
    "from nltk.stem.wordnet import WordNetLemmatizer\n",
    "from nltk.stem import PorterStemmer\n",
    "from nltk.corpus import stopwords\n",
    "from nltk import pos_tag\n",
    "import string\n",
    "import re\n",
    "from sklearn import preprocessing\n",
    "from sklearn.neighbors import NearestNeighbors\n",
    "from sklearn.cross_validation import KFold\n",
    "from sklearn.svm import SVC\n",
    "import re\n",
    "from sklearn.decomposition import PCA\n",
    "from sklearn.multiclass import OneVsRestClassifier\n",
    "from sklearn.svm import LinearSVC,SVC\n",
    "%matplotlib inline"
   ]
  },
  {
   "cell_type": "markdown",
   "metadata": {},
   "source": [
    "# image features cleaning"
   ]
  },
  {
   "cell_type": "code",
   "execution_count": 4,
   "metadata": {
    "collapsed": true
   },
   "outputs": [],
   "source": [
    "features_df = pd.read_csv(\"../../final/data/features_train/features_resnet1000_train.csv\", header = None )"
   ]
  },
  {
   "cell_type": "code",
   "execution_count": 5,
   "metadata": {
    "collapsed": false
   },
   "outputs": [
    {
     "data": {
      "text/html": [
       "<div>\n",
       "<table border=\"1\" class=\"dataframe\">\n",
       "  <thead>\n",
       "    <tr style=\"text-align: right;\">\n",
       "      <th></th>\n",
       "      <th>0</th>\n",
       "      <th>1</th>\n",
       "      <th>2</th>\n",
       "      <th>3</th>\n",
       "      <th>4</th>\n",
       "      <th>5</th>\n",
       "      <th>6</th>\n",
       "      <th>7</th>\n",
       "      <th>8</th>\n",
       "      <th>9</th>\n",
       "      <th>...</th>\n",
       "      <th>991</th>\n",
       "      <th>992</th>\n",
       "      <th>993</th>\n",
       "      <th>994</th>\n",
       "      <th>995</th>\n",
       "      <th>996</th>\n",
       "      <th>997</th>\n",
       "      <th>998</th>\n",
       "      <th>999</th>\n",
       "      <th>1000</th>\n",
       "    </tr>\n",
       "  </thead>\n",
       "  <tbody>\n",
       "    <tr>\n",
       "      <th>0</th>\n",
       "      <td>images_train/5373.jpg</td>\n",
       "      <td>-0.899450</td>\n",
       "      <td>-0.930470</td>\n",
       "      <td>-2.503365</td>\n",
       "      <td>-3.172499</td>\n",
       "      <td>-2.819133</td>\n",
       "      <td>0.992159</td>\n",
       "      <td>-3.698863</td>\n",
       "      <td>0.619991</td>\n",
       "      <td>0.956148</td>\n",
       "      <td>...</td>\n",
       "      <td>-3.021916</td>\n",
       "      <td>2.214253</td>\n",
       "      <td>-1.382491</td>\n",
       "      <td>1.672911</td>\n",
       "      <td>1.014233</td>\n",
       "      <td>2.599949</td>\n",
       "      <td>2.773284</td>\n",
       "      <td>-2.066632</td>\n",
       "      <td>0.385754</td>\n",
       "      <td>-3.241320</td>\n",
       "    </tr>\n",
       "    <tr>\n",
       "      <th>1</th>\n",
       "      <td>images_train/984.jpg</td>\n",
       "      <td>-1.346954</td>\n",
       "      <td>-3.119461</td>\n",
       "      <td>-0.765971</td>\n",
       "      <td>-1.382550</td>\n",
       "      <td>-1.104675</td>\n",
       "      <td>-3.656271</td>\n",
       "      <td>-4.815436</td>\n",
       "      <td>-0.556942</td>\n",
       "      <td>-1.402286</td>\n",
       "      <td>...</td>\n",
       "      <td>0.011003</td>\n",
       "      <td>-3.968805</td>\n",
       "      <td>-2.694711</td>\n",
       "      <td>-4.196480</td>\n",
       "      <td>-2.880234</td>\n",
       "      <td>-1.210742</td>\n",
       "      <td>-1.605143</td>\n",
       "      <td>-4.859987</td>\n",
       "      <td>-0.837670</td>\n",
       "      <td>-0.967604</td>\n",
       "    </tr>\n",
       "    <tr>\n",
       "      <th>2</th>\n",
       "      <td>images_train/7127.jpg</td>\n",
       "      <td>-3.445498</td>\n",
       "      <td>-1.524573</td>\n",
       "      <td>-1.001654</td>\n",
       "      <td>-3.668335</td>\n",
       "      <td>-1.805517</td>\n",
       "      <td>-1.633496</td>\n",
       "      <td>-7.127826</td>\n",
       "      <td>-1.147802</td>\n",
       "      <td>-1.055816</td>\n",
       "      <td>...</td>\n",
       "      <td>-2.991777</td>\n",
       "      <td>-2.628053</td>\n",
       "      <td>-2.971074</td>\n",
       "      <td>-2.537039</td>\n",
       "      <td>-1.707429</td>\n",
       "      <td>1.013672</td>\n",
       "      <td>0.608460</td>\n",
       "      <td>-3.714998</td>\n",
       "      <td>-0.484735</td>\n",
       "      <td>0.138767</td>\n",
       "    </tr>\n",
       "    <tr>\n",
       "      <th>3</th>\n",
       "      <td>images_train/9609.jpg</td>\n",
       "      <td>1.114650</td>\n",
       "      <td>-2.167102</td>\n",
       "      <td>0.097881</td>\n",
       "      <td>-1.336255</td>\n",
       "      <td>0.853483</td>\n",
       "      <td>-0.374885</td>\n",
       "      <td>-2.369090</td>\n",
       "      <td>-2.273191</td>\n",
       "      <td>-1.143788</td>\n",
       "      <td>...</td>\n",
       "      <td>-1.248134</td>\n",
       "      <td>-0.633126</td>\n",
       "      <td>-1.723514</td>\n",
       "      <td>-2.638832</td>\n",
       "      <td>0.097149</td>\n",
       "      <td>4.647974</td>\n",
       "      <td>1.030138</td>\n",
       "      <td>-2.193836</td>\n",
       "      <td>1.044024</td>\n",
       "      <td>0.176043</td>\n",
       "    </tr>\n",
       "    <tr>\n",
       "      <th>4</th>\n",
       "      <td>images_train/5293.jpg</td>\n",
       "      <td>1.602650</td>\n",
       "      <td>-1.505817</td>\n",
       "      <td>3.029409</td>\n",
       "      <td>4.092412</td>\n",
       "      <td>1.711755</td>\n",
       "      <td>6.271253</td>\n",
       "      <td>4.173686</td>\n",
       "      <td>-2.177313</td>\n",
       "      <td>0.747789</td>\n",
       "      <td>...</td>\n",
       "      <td>-1.285806</td>\n",
       "      <td>-2.266481</td>\n",
       "      <td>-3.898053</td>\n",
       "      <td>2.295787</td>\n",
       "      <td>-1.749552</td>\n",
       "      <td>0.974188</td>\n",
       "      <td>1.258117</td>\n",
       "      <td>-1.975622</td>\n",
       "      <td>-1.278643</td>\n",
       "      <td>-1.941441</td>\n",
       "    </tr>\n",
       "  </tbody>\n",
       "</table>\n",
       "<p>5 rows × 1001 columns</p>\n",
       "</div>"
      ],
      "text/plain": [
       "                    0         1         2         3         4         5     \\\n",
       "0  images_train/5373.jpg -0.899450 -0.930470 -2.503365 -3.172499 -2.819133   \n",
       "1   images_train/984.jpg -1.346954 -3.119461 -0.765971 -1.382550 -1.104675   \n",
       "2  images_train/7127.jpg -3.445498 -1.524573 -1.001654 -3.668335 -1.805517   \n",
       "3  images_train/9609.jpg  1.114650 -2.167102  0.097881 -1.336255  0.853483   \n",
       "4  images_train/5293.jpg  1.602650 -1.505817  3.029409  4.092412  1.711755   \n",
       "\n",
       "       6         7         8         9       ...         991       992   \\\n",
       "0  0.992159 -3.698863  0.619991  0.956148    ...    -3.021916  2.214253   \n",
       "1 -3.656271 -4.815436 -0.556942 -1.402286    ...     0.011003 -3.968805   \n",
       "2 -1.633496 -7.127826 -1.147802 -1.055816    ...    -2.991777 -2.628053   \n",
       "3 -0.374885 -2.369090 -2.273191 -1.143788    ...    -1.248134 -0.633126   \n",
       "4  6.271253  4.173686 -2.177313  0.747789    ...    -1.285806 -2.266481   \n",
       "\n",
       "       993       994       995       996       997       998       999   \\\n",
       "0 -1.382491  1.672911  1.014233  2.599949  2.773284 -2.066632  0.385754   \n",
       "1 -2.694711 -4.196480 -2.880234 -1.210742 -1.605143 -4.859987 -0.837670   \n",
       "2 -2.971074 -2.537039 -1.707429  1.013672  0.608460 -3.714998 -0.484735   \n",
       "3 -1.723514 -2.638832  0.097149  4.647974  1.030138 -2.193836  1.044024   \n",
       "4 -3.898053  2.295787 -1.749552  0.974188  1.258117 -1.975622 -1.278643   \n",
       "\n",
       "       1000  \n",
       "0 -3.241320  \n",
       "1 -0.967604  \n",
       "2  0.138767  \n",
       "3  0.176043  \n",
       "4 -1.941441  \n",
       "\n",
       "[5 rows x 1001 columns]"
      ]
     },
     "execution_count": 5,
     "metadata": {},
     "output_type": "execute_result"
    }
   ],
   "source": [
    "features_df.head(5)"
   ]
  },
  {
   "cell_type": "code",
   "execution_count": 6,
   "metadata": {
    "collapsed": false
   },
   "outputs": [],
   "source": [
    "features_df2 = features_df.sort([0], ascending = 1)"
   ]
  },
  {
   "cell_type": "code",
   "execution_count": 8,
   "metadata": {
    "collapsed": false
   },
   "outputs": [],
   "source": [
    "split= features_df2[0].str.split('/', 1, expand=True)"
   ]
  },
  {
   "cell_type": "code",
   "execution_count": 9,
   "metadata": {
    "collapsed": false
   },
   "outputs": [
    {
     "data": {
      "text/html": [
       "<div>\n",
       "<table border=\"1\" class=\"dataframe\">\n",
       "  <thead>\n",
       "    <tr style=\"text-align: right;\">\n",
       "      <th></th>\n",
       "      <th>0</th>\n",
       "      <th>1</th>\n",
       "    </tr>\n",
       "  </thead>\n",
       "  <tbody>\n",
       "    <tr>\n",
       "      <th>6643</th>\n",
       "      <td>images_train</td>\n",
       "      <td>0.jpg</td>\n",
       "    </tr>\n",
       "    <tr>\n",
       "      <th>2273</th>\n",
       "      <td>images_train</td>\n",
       "      <td>1.jpg</td>\n",
       "    </tr>\n",
       "    <tr>\n",
       "      <th>7719</th>\n",
       "      <td>images_train</td>\n",
       "      <td>10.jpg</td>\n",
       "    </tr>\n",
       "    <tr>\n",
       "      <th>9839</th>\n",
       "      <td>images_train</td>\n",
       "      <td>100.jpg</td>\n",
       "    </tr>\n",
       "    <tr>\n",
       "      <th>9966</th>\n",
       "      <td>images_train</td>\n",
       "      <td>1000.jpg</td>\n",
       "    </tr>\n",
       "  </tbody>\n",
       "</table>\n",
       "</div>"
      ],
      "text/plain": [
       "                 0         1\n",
       "6643  images_train     0.jpg\n",
       "2273  images_train     1.jpg\n",
       "7719  images_train    10.jpg\n",
       "9839  images_train   100.jpg\n",
       "9966  images_train  1000.jpg"
      ]
     },
     "execution_count": 9,
     "metadata": {},
     "output_type": "execute_result"
    }
   ],
   "source": [
    "split.head(5)"
   ]
  },
  {
   "cell_type": "code",
   "execution_count": 10,
   "metadata": {
    "collapsed": false
   },
   "outputs": [],
   "source": [
    "split2= split[1].str.split('.', 1, expand=True)"
   ]
  },
  {
   "cell_type": "code",
   "execution_count": 11,
   "metadata": {
    "collapsed": false
   },
   "outputs": [],
   "source": [
    "del split2[1]"
   ]
  },
  {
   "cell_type": "code",
   "execution_count": 13,
   "metadata": {
    "collapsed": true
   },
   "outputs": [],
   "source": [
    "split2 = split2.rename(columns={0: \"index\"})"
   ]
  },
  {
   "cell_type": "code",
   "execution_count": 14,
   "metadata": {
    "collapsed": true
   },
   "outputs": [],
   "source": [
    "result = pd.concat([split2, features_df2], axis=1)"
   ]
  },
  {
   "cell_type": "code",
   "execution_count": 15,
   "metadata": {
    "collapsed": false
   },
   "outputs": [
    {
     "data": {
      "text/html": [
       "<div>\n",
       "<table border=\"1\" class=\"dataframe\">\n",
       "  <thead>\n",
       "    <tr style=\"text-align: right;\">\n",
       "      <th></th>\n",
       "      <th>index</th>\n",
       "      <th>0</th>\n",
       "      <th>1</th>\n",
       "      <th>2</th>\n",
       "      <th>3</th>\n",
       "      <th>4</th>\n",
       "      <th>5</th>\n",
       "      <th>6</th>\n",
       "      <th>7</th>\n",
       "      <th>8</th>\n",
       "      <th>...</th>\n",
       "      <th>991</th>\n",
       "      <th>992</th>\n",
       "      <th>993</th>\n",
       "      <th>994</th>\n",
       "      <th>995</th>\n",
       "      <th>996</th>\n",
       "      <th>997</th>\n",
       "      <th>998</th>\n",
       "      <th>999</th>\n",
       "      <th>1000</th>\n",
       "    </tr>\n",
       "  </thead>\n",
       "  <tbody>\n",
       "    <tr>\n",
       "      <th>6643</th>\n",
       "      <td>0</td>\n",
       "      <td>images_train/0.jpg</td>\n",
       "      <td>-4.552913</td>\n",
       "      <td>-3.339373</td>\n",
       "      <td>0.739805</td>\n",
       "      <td>-1.064960</td>\n",
       "      <td>-0.385821</td>\n",
       "      <td>-1.374796</td>\n",
       "      <td>-3.172979</td>\n",
       "      <td>-1.216543</td>\n",
       "      <td>...</td>\n",
       "      <td>-2.021026</td>\n",
       "      <td>-4.752773</td>\n",
       "      <td>-4.072814</td>\n",
       "      <td>-3.873384</td>\n",
       "      <td>-3.553856</td>\n",
       "      <td>-2.005920</td>\n",
       "      <td>-2.187191</td>\n",
       "      <td>-4.325321</td>\n",
       "      <td>-1.361008</td>\n",
       "      <td>-0.184895</td>\n",
       "    </tr>\n",
       "    <tr>\n",
       "      <th>2273</th>\n",
       "      <td>1</td>\n",
       "      <td>images_train/1.jpg</td>\n",
       "      <td>1.055800</td>\n",
       "      <td>1.345920</td>\n",
       "      <td>-4.621484</td>\n",
       "      <td>-3.391327</td>\n",
       "      <td>-2.474905</td>\n",
       "      <td>-0.765481</td>\n",
       "      <td>-3.783750</td>\n",
       "      <td>-3.479563</td>\n",
       "      <td>...</td>\n",
       "      <td>0.447561</td>\n",
       "      <td>-1.310622</td>\n",
       "      <td>-1.228498</td>\n",
       "      <td>-0.492747</td>\n",
       "      <td>0.690989</td>\n",
       "      <td>1.746380</td>\n",
       "      <td>3.944386</td>\n",
       "      <td>-0.335490</td>\n",
       "      <td>4.469384</td>\n",
       "      <td>-0.193547</td>\n",
       "    </tr>\n",
       "    <tr>\n",
       "      <th>7719</th>\n",
       "      <td>10</td>\n",
       "      <td>images_train/10.jpg</td>\n",
       "      <td>-1.601292</td>\n",
       "      <td>-2.199482</td>\n",
       "      <td>-0.254420</td>\n",
       "      <td>-1.865104</td>\n",
       "      <td>-1.763441</td>\n",
       "      <td>0.254424</td>\n",
       "      <td>-1.573081</td>\n",
       "      <td>0.463559</td>\n",
       "      <td>...</td>\n",
       "      <td>-0.095754</td>\n",
       "      <td>-3.099477</td>\n",
       "      <td>-3.825321</td>\n",
       "      <td>0.554782</td>\n",
       "      <td>-0.601681</td>\n",
       "      <td>1.979488</td>\n",
       "      <td>1.848149</td>\n",
       "      <td>-1.287298</td>\n",
       "      <td>-0.238974</td>\n",
       "      <td>-2.143847</td>\n",
       "    </tr>\n",
       "    <tr>\n",
       "      <th>9839</th>\n",
       "      <td>100</td>\n",
       "      <td>images_train/100.jpg</td>\n",
       "      <td>-0.596288</td>\n",
       "      <td>-0.154158</td>\n",
       "      <td>2.084059</td>\n",
       "      <td>0.038803</td>\n",
       "      <td>1.274306</td>\n",
       "      <td>2.841651</td>\n",
       "      <td>1.819926</td>\n",
       "      <td>-1.501671</td>\n",
       "      <td>...</td>\n",
       "      <td>-0.568154</td>\n",
       "      <td>0.881252</td>\n",
       "      <td>-0.578756</td>\n",
       "      <td>-1.408792</td>\n",
       "      <td>-0.834128</td>\n",
       "      <td>-0.082579</td>\n",
       "      <td>-0.261926</td>\n",
       "      <td>2.478882</td>\n",
       "      <td>0.054818</td>\n",
       "      <td>0.820606</td>\n",
       "    </tr>\n",
       "    <tr>\n",
       "      <th>9966</th>\n",
       "      <td>1000</td>\n",
       "      <td>images_train/1000.jpg</td>\n",
       "      <td>-1.329414</td>\n",
       "      <td>-2.590716</td>\n",
       "      <td>-0.110130</td>\n",
       "      <td>-0.800338</td>\n",
       "      <td>-2.679732</td>\n",
       "      <td>0.630098</td>\n",
       "      <td>-2.879541</td>\n",
       "      <td>1.048122</td>\n",
       "      <td>...</td>\n",
       "      <td>3.146122</td>\n",
       "      <td>-2.295155</td>\n",
       "      <td>-1.682396</td>\n",
       "      <td>-2.140283</td>\n",
       "      <td>-2.799133</td>\n",
       "      <td>-0.214362</td>\n",
       "      <td>0.524082</td>\n",
       "      <td>-2.281344</td>\n",
       "      <td>2.344166</td>\n",
       "      <td>-2.472890</td>\n",
       "    </tr>\n",
       "  </tbody>\n",
       "</table>\n",
       "<p>5 rows × 1002 columns</p>\n",
       "</div>"
      ],
      "text/plain": [
       "     index                      0         1         2         3         4  \\\n",
       "6643     0     images_train/0.jpg -4.552913 -3.339373  0.739805 -1.064960   \n",
       "2273     1     images_train/1.jpg  1.055800  1.345920 -4.621484 -3.391327   \n",
       "7719    10    images_train/10.jpg -1.601292 -2.199482 -0.254420 -1.865104   \n",
       "9839   100   images_train/100.jpg -0.596288 -0.154158  2.084059  0.038803   \n",
       "9966  1000  images_train/1000.jpg -1.329414 -2.590716 -0.110130 -0.800338   \n",
       "\n",
       "             5         6         7         8    ...          991       992  \\\n",
       "6643 -0.385821 -1.374796 -3.172979 -1.216543    ...    -2.021026 -4.752773   \n",
       "2273 -2.474905 -0.765481 -3.783750 -3.479563    ...     0.447561 -1.310622   \n",
       "7719 -1.763441  0.254424 -1.573081  0.463559    ...    -0.095754 -3.099477   \n",
       "9839  1.274306  2.841651  1.819926 -1.501671    ...    -0.568154  0.881252   \n",
       "9966 -2.679732  0.630098 -2.879541  1.048122    ...     3.146122 -2.295155   \n",
       "\n",
       "           993       994       995       996       997       998       999  \\\n",
       "6643 -4.072814 -3.873384 -3.553856 -2.005920 -2.187191 -4.325321 -1.361008   \n",
       "2273 -1.228498 -0.492747  0.690989  1.746380  3.944386 -0.335490  4.469384   \n",
       "7719 -3.825321  0.554782 -0.601681  1.979488  1.848149 -1.287298 -0.238974   \n",
       "9839 -0.578756 -1.408792 -0.834128 -0.082579 -0.261926  2.478882  0.054818   \n",
       "9966 -1.682396 -2.140283 -2.799133 -0.214362  0.524082 -2.281344  2.344166   \n",
       "\n",
       "          1000  \n",
       "6643 -0.184895  \n",
       "2273 -0.193547  \n",
       "7719 -2.143847  \n",
       "9839  0.820606  \n",
       "9966 -2.472890  \n",
       "\n",
       "[5 rows x 1002 columns]"
      ]
     },
     "execution_count": 15,
     "metadata": {},
     "output_type": "execute_result"
    }
   ],
   "source": [
    "result.head(5)"
   ]
  },
  {
   "cell_type": "code",
   "execution_count": 16,
   "metadata": {
    "collapsed": true
   },
   "outputs": [],
   "source": [
    "result[\"index\"] = result[\"index\"].astype(float)"
   ]
  },
  {
   "cell_type": "code",
   "execution_count": 17,
   "metadata": {
    "collapsed": false
   },
   "outputs": [],
   "source": [
    "result = result.sort([\"index\"], ascending = 1)"
   ]
  },
  {
   "cell_type": "code",
   "execution_count": 18,
   "metadata": {
    "collapsed": false
   },
   "outputs": [
    {
     "data": {
      "text/html": [
       "<div>\n",
       "<table border=\"1\" class=\"dataframe\">\n",
       "  <thead>\n",
       "    <tr style=\"text-align: right;\">\n",
       "      <th></th>\n",
       "      <th>index</th>\n",
       "      <th>0</th>\n",
       "      <th>1</th>\n",
       "      <th>2</th>\n",
       "      <th>3</th>\n",
       "      <th>4</th>\n",
       "      <th>5</th>\n",
       "      <th>6</th>\n",
       "      <th>7</th>\n",
       "      <th>8</th>\n",
       "      <th>...</th>\n",
       "      <th>991</th>\n",
       "      <th>992</th>\n",
       "      <th>993</th>\n",
       "      <th>994</th>\n",
       "      <th>995</th>\n",
       "      <th>996</th>\n",
       "      <th>997</th>\n",
       "      <th>998</th>\n",
       "      <th>999</th>\n",
       "      <th>1000</th>\n",
       "    </tr>\n",
       "  </thead>\n",
       "  <tbody>\n",
       "    <tr>\n",
       "      <th>6643</th>\n",
       "      <td>0</td>\n",
       "      <td>images_train/0.jpg</td>\n",
       "      <td>-4.552913</td>\n",
       "      <td>-3.339373</td>\n",
       "      <td>0.739805</td>\n",
       "      <td>-1.064960</td>\n",
       "      <td>-0.385821</td>\n",
       "      <td>-1.374796</td>\n",
       "      <td>-3.172979</td>\n",
       "      <td>-1.216543</td>\n",
       "      <td>...</td>\n",
       "      <td>-2.021026</td>\n",
       "      <td>-4.752773</td>\n",
       "      <td>-4.072814</td>\n",
       "      <td>-3.873384</td>\n",
       "      <td>-3.553856</td>\n",
       "      <td>-2.005920</td>\n",
       "      <td>-2.187191</td>\n",
       "      <td>-4.325321</td>\n",
       "      <td>-1.361008</td>\n",
       "      <td>-0.184895</td>\n",
       "    </tr>\n",
       "    <tr>\n",
       "      <th>2273</th>\n",
       "      <td>1</td>\n",
       "      <td>images_train/1.jpg</td>\n",
       "      <td>1.055800</td>\n",
       "      <td>1.345920</td>\n",
       "      <td>-4.621484</td>\n",
       "      <td>-3.391327</td>\n",
       "      <td>-2.474905</td>\n",
       "      <td>-0.765481</td>\n",
       "      <td>-3.783750</td>\n",
       "      <td>-3.479563</td>\n",
       "      <td>...</td>\n",
       "      <td>0.447561</td>\n",
       "      <td>-1.310622</td>\n",
       "      <td>-1.228498</td>\n",
       "      <td>-0.492747</td>\n",
       "      <td>0.690989</td>\n",
       "      <td>1.746380</td>\n",
       "      <td>3.944386</td>\n",
       "      <td>-0.335490</td>\n",
       "      <td>4.469384</td>\n",
       "      <td>-0.193547</td>\n",
       "    </tr>\n",
       "    <tr>\n",
       "      <th>8598</th>\n",
       "      <td>2</td>\n",
       "      <td>images_train/2.jpg</td>\n",
       "      <td>-1.323054</td>\n",
       "      <td>-1.990459</td>\n",
       "      <td>-2.646253</td>\n",
       "      <td>-2.555408</td>\n",
       "      <td>0.194242</td>\n",
       "      <td>0.360438</td>\n",
       "      <td>-2.450288</td>\n",
       "      <td>-1.364834</td>\n",
       "      <td>...</td>\n",
       "      <td>-1.727636</td>\n",
       "      <td>-4.679168</td>\n",
       "      <td>-4.418219</td>\n",
       "      <td>-1.780263</td>\n",
       "      <td>-2.594645</td>\n",
       "      <td>-1.229027</td>\n",
       "      <td>0.516662</td>\n",
       "      <td>-3.346858</td>\n",
       "      <td>0.924743</td>\n",
       "      <td>-0.353018</td>\n",
       "    </tr>\n",
       "    <tr>\n",
       "      <th>9239</th>\n",
       "      <td>3</td>\n",
       "      <td>images_train/3.jpg</td>\n",
       "      <td>1.642971</td>\n",
       "      <td>-0.591986</td>\n",
       "      <td>-2.008492</td>\n",
       "      <td>-1.683242</td>\n",
       "      <td>0.152383</td>\n",
       "      <td>-0.580315</td>\n",
       "      <td>-2.876101</td>\n",
       "      <td>-2.001029</td>\n",
       "      <td>...</td>\n",
       "      <td>2.253989</td>\n",
       "      <td>-1.823335</td>\n",
       "      <td>-0.135379</td>\n",
       "      <td>-2.881580</td>\n",
       "      <td>-1.125049</td>\n",
       "      <td>1.979692</td>\n",
       "      <td>0.571415</td>\n",
       "      <td>-2.186887</td>\n",
       "      <td>2.552499</td>\n",
       "      <td>2.634879</td>\n",
       "    </tr>\n",
       "    <tr>\n",
       "      <th>8410</th>\n",
       "      <td>4</td>\n",
       "      <td>images_train/4.jpg</td>\n",
       "      <td>-0.690964</td>\n",
       "      <td>-3.641853</td>\n",
       "      <td>-1.879540</td>\n",
       "      <td>0.208626</td>\n",
       "      <td>0.236147</td>\n",
       "      <td>-3.154541</td>\n",
       "      <td>-3.594615</td>\n",
       "      <td>0.742241</td>\n",
       "      <td>...</td>\n",
       "      <td>-1.286898</td>\n",
       "      <td>-4.253161</td>\n",
       "      <td>-3.368766</td>\n",
       "      <td>-3.720367</td>\n",
       "      <td>-3.813512</td>\n",
       "      <td>-1.947907</td>\n",
       "      <td>-2.103985</td>\n",
       "      <td>-4.788396</td>\n",
       "      <td>-0.305454</td>\n",
       "      <td>1.142632</td>\n",
       "    </tr>\n",
       "  </tbody>\n",
       "</table>\n",
       "<p>5 rows × 1002 columns</p>\n",
       "</div>"
      ],
      "text/plain": [
       "      index                   0         1         2         3         4  \\\n",
       "6643      0  images_train/0.jpg -4.552913 -3.339373  0.739805 -1.064960   \n",
       "2273      1  images_train/1.jpg  1.055800  1.345920 -4.621484 -3.391327   \n",
       "8598      2  images_train/2.jpg -1.323054 -1.990459 -2.646253 -2.555408   \n",
       "9239      3  images_train/3.jpg  1.642971 -0.591986 -2.008492 -1.683242   \n",
       "8410      4  images_train/4.jpg -0.690964 -3.641853 -1.879540  0.208626   \n",
       "\n",
       "             5         6         7         8    ...          991       992  \\\n",
       "6643 -0.385821 -1.374796 -3.172979 -1.216543    ...    -2.021026 -4.752773   \n",
       "2273 -2.474905 -0.765481 -3.783750 -3.479563    ...     0.447561 -1.310622   \n",
       "8598  0.194242  0.360438 -2.450288 -1.364834    ...    -1.727636 -4.679168   \n",
       "9239  0.152383 -0.580315 -2.876101 -2.001029    ...     2.253989 -1.823335   \n",
       "8410  0.236147 -3.154541 -3.594615  0.742241    ...    -1.286898 -4.253161   \n",
       "\n",
       "           993       994       995       996       997       998       999  \\\n",
       "6643 -4.072814 -3.873384 -3.553856 -2.005920 -2.187191 -4.325321 -1.361008   \n",
       "2273 -1.228498 -0.492747  0.690989  1.746380  3.944386 -0.335490  4.469384   \n",
       "8598 -4.418219 -1.780263 -2.594645 -1.229027  0.516662 -3.346858  0.924743   \n",
       "9239 -0.135379 -2.881580 -1.125049  1.979692  0.571415 -2.186887  2.552499   \n",
       "8410 -3.368766 -3.720367 -3.813512 -1.947907 -2.103985 -4.788396 -0.305454   \n",
       "\n",
       "          1000  \n",
       "6643 -0.184895  \n",
       "2273 -0.193547  \n",
       "8598 -0.353018  \n",
       "9239  2.634879  \n",
       "8410  1.142632  \n",
       "\n",
       "[5 rows x 1002 columns]"
      ]
     },
     "execution_count": 18,
     "metadata": {},
     "output_type": "execute_result"
    }
   ],
   "source": [
    "result.head(5)"
   ]
  },
  {
   "cell_type": "markdown",
   "metadata": {},
   "source": [
    "# Description BOW"
   ]
  },
  {
   "cell_type": "code",
   "execution_count": 19,
   "metadata": {
    "collapsed": true
   },
   "outputs": [],
   "source": [
    "descriptionTrainFolder = \"../../final/data/descriptions_train\"\n",
    "featuresTrainFolder = \"../../final/data/features_train\"\n",
    "imagesTrainFolder = \"../../AML/final/data/images_train\"\n",
    "tagsTrainFolder = \"../../AML/final/data/tags_train\""
   ]
  },
  {
   "cell_type": "code",
   "execution_count": 20,
   "metadata": {
    "collapsed": true
   },
   "outputs": [],
   "source": [
    "numTrain = 10000\n",
    "numTest = 2000"
   ]
  },
  {
   "cell_type": "code",
   "execution_count": 21,
   "metadata": {
    "collapsed": true
   },
   "outputs": [],
   "source": [
    "def readTagsFile(fileName):\n",
    "    tags = []\n",
    "    f = open(fileName,\"r\")\n",
    "    for line in f:\n",
    "        line = line.split(\":\") # possibly also consider using the keys in each line(vehicle,outdoor etc..)\n",
    "        tag = line[-1].replace(\"\\n\",\"\")\n",
    "        tags.append(tag)\n",
    "    return tags\n",
    "\n",
    "def readDescriptionFile(fileName):\n",
    "    desc = []\n",
    "    f = open(fileName,\"r\")\n",
    "    for line in f:\n",
    "        noPuncSentence = stripPunctuation(line)\n",
    "        desc.append(noPuncSentence)\n",
    "    return desc\n",
    "\n",
    "def stripPunctuation(s):\n",
    "    regex = re.compile('[%s]' % re.escape(string.punctuation))\n",
    "    return regex.sub(' ', s)"
   ]
  },
  {
   "cell_type": "code",
   "execution_count": 22,
   "metadata": {
    "collapsed": true
   },
   "outputs": [],
   "source": [
    "def getStopWords():\n",
    "    return set(stopwords.words(\"english\"))\n",
    "\n",
    "def lowerCase(x):\n",
    "    return x.lower()\n",
    "\n",
    "def lemmatize(lmt,x):\n",
    "    return lmt.lemmatize(x)\n",
    "\n",
    "def getPos(line):\n",
    "    return pos_tag(line)\n",
    "\n",
    "def tokenize(line):\n",
    "    return line.split()\n",
    "\n",
    "def stripPunctuation(s):\n",
    "    regex = re.compile('[%s]' % re.escape(string.punctuation))\n",
    "    return regex.sub(' ', s)\n",
    "\n",
    "def stemmer(line):\n",
    "    stemmer = PorterStemmer()\n",
    "    stemmedLine = []\n",
    "    for word in line:\n",
    "        #if pos == \"NN\": #only stem nouns\n",
    "        stem = stemmer.stem(word)\n",
    "        stemmedLine.append(stem)\n",
    "    return stemmedLine \n",
    "\n",
    "def stemmedDescriptions(lst):\n",
    "    stemmedDescriptions = []\n",
    "    for line in lst:\n",
    "        tokenizedLine = tokenize(line)\n",
    "        stemmedDescriptions.append(stemmer(tokenizedLine))\n",
    "    return stemmedDescriptions\n"
   ]
  },
  {
   "cell_type": "code",
   "execution_count": 23,
   "metadata": {
    "collapsed": true
   },
   "outputs": [],
   "source": [
    "def createBag(num,descFolder):\n",
    "    bag = {}\n",
    "    stopWords = getStopWords()\n",
    "    for n in range(num):\n",
    "        f = descFolder +\"/\" + str(n) + \".txt\"\n",
    "        fileDescriptions = readDescriptionFile(f) #2D Array\n",
    "        stemDescriptions = stemmedDescriptions(fileDescriptions) #applying stemming so to aggregate similar words\n",
    "        for desc in stemDescriptions:\n",
    "            for word in desc:\n",
    "                lowerWord = lowerCase(word)\n",
    "                if str(lowerWord) not in bag.keys() and str(lowerWord) != \"\" and str(lowerWord) not in stopWords:\n",
    "                    bag[str(lowerWord)] = 0 \n",
    "    return bag\n",
    "\n",
    "def indexBag(bag):\n",
    "    idx = 0\n",
    "    for tag in bag.keys():\n",
    "        bag[tag] = idx\n",
    "        idx+=1\n",
    "    return bag\n",
    "\n",
    "def binaryVectorizeDescriptions(num,descFolder,indexedDescBag):\n",
    "    stopWords = getStopWords()\n",
    "    featureVectorList = []\n",
    "    for n in range(num):\n",
    "        imageTagVec = [0.0 for tag in range(len(indexedDescBag.keys()))]\n",
    "        f = descFolder +\"/\" + str(n) + \".txt\"\n",
    "        fileDescriptions = readDescriptionFile(f) #2D Array\n",
    "        stemDescriptions = stemmedDescriptions(fileDescriptions) #applying stemming so to aggregate similar words\n",
    "        for desc in stemDescriptions:\n",
    "            for word in desc:\n",
    "                lowerWord = lowerCase(word)\n",
    "                if str(lowerWord) in indexedDescBag.keys() and str(lowerWord) != \"\" and str(lowerWord) not in stopWords:\n",
    "                    imageTagVec[indexedDescBag[str(lowerWord)]] +=1.0\n",
    "        featureVectorList.append(imageTagVec)\n",
    "    return pd.DataFrame(featureVectorList,columns = indexedDescBag.keys())\n",
    "\n",
    "def tfIdfVectorizeDecriptions(num,descFolder):\n",
    "    \"\"\"\n",
    "    this technique will be very sparse - consider using dimensionality reduction here\n",
    "    \"\"\"\n",
    "    tf = TfidfVectorizer(analyzer='word', \n",
    "                         ngram_range=(1,1), \n",
    "                         min_df = 1,\n",
    "                         stop_words = 'english',\n",
    "                         lowercase = True) #add norm=\"l1\" or \"l2\" to normalize vectors\n",
    "    descCorpus = []\n",
    "    for n in range(num):\n",
    "        f = descFolder +\"/\" + str(n) + \".txt\"\n",
    "        fileDescriptions = readDescriptionFile(f) #2D Array\n",
    "        stemDescriptions = stemmedDescriptions(fileDescriptions) #applying stemming so to aggregate similar words\n",
    "        for desc in stemDescriptions:\n",
    "            descCorpus.append(\" \".join(desc))\n",
    "    return tf,tf.fit_transform(descCorpus) #TfIdfVectorizer uses unicode strings for column names.\n",
    "    #return tf"
   ]
  },
  {
   "cell_type": "code",
   "execution_count": 24,
   "metadata": {
    "collapsed": true
   },
   "outputs": [],
   "source": [
    "descBag = createBag(numTrain,descriptionTrainFolder)\n",
    "indexedDescBag = indexBag(descBag)"
   ]
  },
  {
   "cell_type": "code",
   "execution_count": 25,
   "metadata": {
    "collapsed": false
   },
   "outputs": [],
   "source": [
    "descVectors = binaryVectorizeDescriptions(numTrain,descriptionTrainFolder,indexedDescBag)"
   ]
  },
  {
   "cell_type": "code",
   "execution_count": 26,
   "metadata": {
    "collapsed": true
   },
   "outputs": [],
   "source": [
    "normalizedDescVector = descVectors.div(descVectors.sum(axis=1), axis=0)"
   ]
  },
  {
   "cell_type": "code",
   "execution_count": 27,
   "metadata": {
    "collapsed": false
   },
   "outputs": [
    {
     "name": "stdout",
     "output_type": "stream",
     "text": [
      "(10000, 6456)\n"
     ]
    }
   ],
   "source": [
    "print (normalizedDescVector.shape)"
   ]
  },
  {
   "cell_type": "markdown",
   "metadata": {},
   "source": [
    "# reducing dimensions of Image Features"
   ]
  },
  {
   "cell_type": "code",
   "execution_count": 28,
   "metadata": {
    "collapsed": true
   },
   "outputs": [],
   "source": [
    "def reduceDimensions(x,ncomp):\n",
    "    #ncomp = number of components\n",
    "    pca = PCA(ncomp)\n",
    "    pca.fit(x)\n",
    "    newX = pca.transform(x)\n",
    "    return newX"
   ]
  },
  {
   "cell_type": "code",
   "execution_count": 29,
   "metadata": {
    "collapsed": true
   },
   "outputs": [],
   "source": [
    "imageDF = result\n",
    "del imageDF[0]\n",
    "del imageDF[\"index\"]"
   ]
  },
  {
   "cell_type": "code",
   "execution_count": 30,
   "metadata": {
    "collapsed": true
   },
   "outputs": [],
   "source": [
    "imageMatrix = imageDF.values"
   ]
  },
  {
   "cell_type": "code",
   "execution_count": 31,
   "metadata": {
    "collapsed": false
   },
   "outputs": [
    {
     "data": {
      "text/plain": [
       "array([[-4.55291319, -3.33937263,  0.73980451, ..., -4.32532072,\n",
       "        -1.36100817, -0.1848945 ],\n",
       "       [ 1.05579996,  1.34591961, -4.62148428, ..., -0.33549014,\n",
       "         4.46938419, -0.19354703]])"
      ]
     },
     "execution_count": 31,
     "metadata": {},
     "output_type": "execute_result"
    }
   ],
   "source": [
    "imageMatrix[0:2]"
   ]
  },
  {
   "cell_type": "code",
   "execution_count": 33,
   "metadata": {
    "collapsed": false
   },
   "outputs": [],
   "source": [
    "imagePCAArray= reduceDimensions(imageMatrix,200) #PCA rray"
   ]
  },
  {
   "cell_type": "code",
   "execution_count": 34,
   "metadata": {
    "collapsed": false
   },
   "outputs": [
    {
     "data": {
      "text/plain": [
       "((10000, 6456), (10000, 200))"
      ]
     },
     "execution_count": 34,
     "metadata": {},
     "output_type": "execute_result"
    }
   ],
   "source": [
    "descVectors.shape , imagePCAArray.shape"
   ]
  },
  {
   "cell_type": "code",
   "execution_count": 35,
   "metadata": {
    "collapsed": false
   },
   "outputs": [
    {
     "data": {
      "text/plain": [
       "array([[ 0.,  0.,  0., ...,  0.,  0.,  0.],\n",
       "       [ 0.,  0.,  0., ...,  0.,  1.,  0.],\n",
       "       [ 0.,  0.,  0., ...,  0.,  0.,  0.],\n",
       "       ..., \n",
       "       [ 0.,  0.,  0., ...,  0.,  0.,  0.],\n",
       "       [ 0.,  0.,  0., ...,  0.,  0.,  0.],\n",
       "       [ 0.,  0.,  0., ...,  0.,  0.,  0.]])"
      ]
     },
     "execution_count": 35,
     "metadata": {},
     "output_type": "execute_result"
    }
   ],
   "source": [
    "descVectors.values"
   ]
  },
  {
   "cell_type": "code",
   "execution_count": 41,
   "metadata": {
    "collapsed": true
   },
   "outputs": [],
   "source": [
    "from sklearn.preprocessing import MultiLabelBinarizer"
   ]
  },
  {
   "cell_type": "code",
   "execution_count": 43,
   "metadata": {
    "collapsed": false
   },
   "outputs": [],
   "source": [
    " mlb = MultiLabelBinarizer()\n",
    "binImages = mlb.fit_transform(imagePCAArray)"
   ]
  },
  {
   "cell_type": "code",
   "execution_count": 44,
   "metadata": {
    "collapsed": false
   },
   "outputs": [
    {
     "data": {
      "text/plain": [
       "array([[0, 0, 0, ..., 0, 0, 0],\n",
       "       [0, 0, 0, ..., 0, 0, 0]])"
      ]
     },
     "execution_count": 44,
     "metadata": {},
     "output_type": "execute_result"
    }
   ],
   "source": [
    "binImages[0:2]"
   ]
  },
  {
   "cell_type": "markdown",
   "metadata": {},
   "source": [
    "# SVM"
   ]
  },
  {
   "cell_type": "code",
   "execution_count": 36,
   "metadata": {
    "collapsed": true
   },
   "outputs": [],
   "source": [
    "def SVM(train,trainLabel,test):\n",
    "#     clf = SVC()\n",
    "#     clf.fit(train,trainLabel)\n",
    "#     preds = clf.predict(test)\n",
    "    preds = OneVsRestClassifier(LinearSVC(random_state=0)).fit(train, trainLabel).predict(test)\n",
    "    return preds"
   ]
  },
  {
   "cell_type": "code",
   "execution_count": 37,
   "metadata": {
    "collapsed": true
   },
   "outputs": [],
   "source": [
    "def crossValidate(data,labels):\n",
    "    kf = KFold(len(data),3)\n",
    "    for trainIdx,testIdx in kf:\n",
    "        c = 0\n",
    "        train = np.array([data[idx] for idx in trainIdx])\n",
    "        test = np.array([data[idx] for idx in testIdx])\n",
    "        trainLabels = np.array([labels[idx] for idx in trainIdx])\n",
    "        testLabels = np.array([labels[idx] for idx in testIdx])\n",
    "        print (train.shape,trainLabels.shape)\n",
    "        testPreds = SVM(train,trainLabels,test)\n",
    "        for i in range(len(testPreds)):\n",
    "            if np.array_equal(testPreds[i],testLabels[i]):\n",
    "                c+=1\n",
    "        print (c)\n",
    "        print (float(len(testPreds)))\n",
    "        print (\"Accuracy: \" + str(c/float(len(testPreds))))"
   ]
  },
  {
   "cell_type": "code",
   "execution_count": null,
   "metadata": {
    "collapsed": false
   },
   "outputs": [],
   "source": [
    "crossValidate(descVectors.values, binImages)"
   ]
  },
  {
   "cell_type": "code",
   "execution_count": null,
   "metadata": {
    "collapsed": true
   },
   "outputs": [],
   "source": []
  }
 ],
 "metadata": {
  "kernelspec": {
   "display_name": "Python 3",
   "language": "python",
   "name": "python3"
  },
  "language_info": {
   "codemirror_mode": {
    "name": "ipython",
    "version": 3
   },
   "file_extension": ".py",
   "mimetype": "text/x-python",
   "name": "python",
   "nbconvert_exporter": "python",
   "pygments_lexer": "ipython3",
   "version": "3.4.5"
  }
 },
 "nbformat": 4,
 "nbformat_minor": 0
}
