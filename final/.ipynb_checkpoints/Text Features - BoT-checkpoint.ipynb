{
 "cells": [
  {
   "cell_type": "code",
   "execution_count": null,
   "metadata": {
    "collapsed": true
   },
   "outputs": [],
   "source": []
  },
  {
   "cell_type": "code",
   "execution_count": 1,
   "metadata": {
    "collapsed": true
   },
   "outputs": [],
   "source": [
    "import pandas as pd\n",
    "import numpy as np\n",
    "from nltk.stem.wordnet import WordNetLemmatizer\n",
    "from nltk.stem import PorterStemmer\n",
    "from nltk.corpus import stopwords\n",
    "from nltk import pos_tag\n",
    "import string\n",
    "import re\n",
    "from sklearn import preprocessing\n",
    "from sklearn.neighbors import KNeighborsClassifier"
   ]
  },
  {
   "cell_type": "code",
   "execution_count": null,
   "metadata": {
    "collapsed": true
   },
   "outputs": [],
   "source": []
  },
  {
   "cell_type": "code",
   "execution_count": 2,
   "metadata": {
    "collapsed": true
   },
   "outputs": [],
   "source": [
    "descriptionTrainFolder = \"/Users/francescoperera/Desktop/data/descriptions_train\"\n",
    "featuresTrainFolder = \"/Users/francescoperera/Desktop/data/features_train\"\n",
    "imagesTrainFolder = \"/Users/francescoperera/Desktop/data/images_train\"\n",
    "tagsTrainFolder = \"/Users/francescoperera/Desktop/data/tags_train\""
   ]
  },
  {
   "cell_type": "code",
   "execution_count": null,
   "metadata": {
    "collapsed": true
   },
   "outputs": [],
   "source": []
  },
  {
   "cell_type": "code",
   "execution_count": 3,
   "metadata": {
    "collapsed": true
   },
   "outputs": [],
   "source": [
    "descriptionTestFolder = \"/Users/francescoperera/Desktop/data/descriptions_test\"\n",
    "featuresTestFolder = \"/Users/francescoperera/Desktop/data/features_test\"\n",
    "imagesTestFolder = \"/Users/francescoperera/Desktop/data/images_test\"\n",
    "tagsTestFolder = \"/Users/francescoperera/Desktop/data/tags_test\""
   ]
  },
  {
   "cell_type": "code",
   "execution_count": null,
   "metadata": {
    "collapsed": true
   },
   "outputs": [],
   "source": []
  },
  {
   "cell_type": "code",
   "execution_count": 4,
   "metadata": {
    "collapsed": true
   },
   "outputs": [],
   "source": [
    "numTrain = 10000\n",
    "numTest = 2000"
   ]
  },
  {
   "cell_type": "markdown",
   "metadata": {},
   "source": [
    "## Read Files"
   ]
  },
  {
   "cell_type": "code",
   "execution_count": 5,
   "metadata": {
    "collapsed": true
   },
   "outputs": [],
   "source": [
    "def readTagsFile(fileName):\n",
    "    tags = []\n",
    "    f = open(fileName,\"r\")\n",
    "    for line in f:\n",
    "        line = line.split(\":\") # possibly also consider using the keys in each line(vehicle,outdoor etc..)\n",
    "        tag = line[-1].replace(\"\\n\",\"\")\n",
    "        tags.append(tag)\n",
    "    return tags\n",
    "\n",
    "def readDescriptionFile(fileName):\n",
    "    desc = []\n",
    "    f = open(fileName,\"r\")\n",
    "    for line in f:\n",
    "        noPuncSentence = stripPunctuation(line.replace(\"\\n\",\"\"))\n",
    "        desc.append(noPuncSentence)\n",
    "    return desc\n"
   ]
  },
  {
   "cell_type": "markdown",
   "metadata": {},
   "source": [
    "## Process Descriptions ( POS & Stemming)"
   ]
  },
  {
   "cell_type": "code",
   "execution_count": 17,
   "metadata": {
    "collapsed": true
   },
   "outputs": [],
   "source": [
    "def stemmedDescriptions(lst):\n",
    "    stemmedDescriptions = []\n",
    "    for line in lst:\n",
    "        posLine = pos(line.split(\" \"))\n",
    "        #print posLine\n",
    "        stemmedDescriptions.append(stemmer(posLine))\n",
    "    return stemmedDescriptions\n",
    "\n",
    "def stemmer(line):\n",
    "    stemmer = PorterStemmer()\n",
    "    stemmedLine = []\n",
    "    for word,pos in line:\n",
    "        if pos == \"NN\": #only stem nouns\n",
    "            stem = stemmer.stem(word)\n",
    "            stemmedLine.append(stem)\n",
    "    return stemmedLine \n",
    "\n",
    "def pos(line):\n",
    "    return pos_tag(line)\n",
    "\n",
    "def stripPunctuation(s):\n",
    "    regex = re.compile('[%s]' % re.escape(string.punctuation))\n",
    "    return regex.sub(' ', s)"
   ]
  },
  {
   "cell_type": "markdown",
   "metadata": {},
   "source": [
    "## Process Tags ( Stemming)"
   ]
  },
  {
   "cell_type": "code",
   "execution_count": 7,
   "metadata": {
    "collapsed": true
   },
   "outputs": [],
   "source": [
    "def stemTags(lst):\n",
    "    newTags = []\n",
    "    for word in lst:\n",
    "        stem = PorterStemmer().stem(word)\n",
    "        newTags.append(stem)\n",
    "    return newTags "
   ]
  },
  {
   "cell_type": "markdown",
   "metadata": {},
   "source": [
    "## BoT"
   ]
  },
  {
   "cell_type": "code",
   "execution_count": 21,
   "metadata": {
    "collapsed": true
   },
   "outputs": [],
   "source": [
    "def createBag(num,tagFolder):\n",
    "    bag = {}\n",
    "    for n in range(num):\n",
    "        f = tagFolder +\"/\" + str(n) + \".txt\"\n",
    "        fileTags = readTagsFile(f)\n",
    "        newTags = stemTags(fileTags)\n",
    "        for tag in newTags:\n",
    "            if str(tag) not in bag.keys():\n",
    "                bag[str(tag)] = 0\n",
    "    return bag\n",
    "\n",
    "def indexBag(bag):\n",
    "    idx = 0\n",
    "    for tag in bag.keys():\n",
    "        bag[tag] = idx\n",
    "        idx+=1\n",
    "    return bag\n",
    "\n",
    "def tagFrequency(num,descFolder,bag):\n",
    "    featureVectorList = []\n",
    "    for n in range(num):\n",
    "        imageTagVec = [0.0 for tag in range(len(bag.keys()))]\n",
    "        f = descFolder +\"/\" + str(n) + \".txt\"\n",
    "        fileDescriptions = readDescriptionFile(f) #2D Array\n",
    "        stemDescriptions = stemmedDescriptions(fileDescriptions)\n",
    "        for desc in stemDescriptions:\n",
    "            for word in desc:\n",
    "                if str(word) in bag.keys() and str(word) != \"\":\n",
    "                    imageTagVec[bag[str(word)]] +=1.0\n",
    "        featureVectorList.append(imageTagVec)\n",
    "    return pd.DataFrame(featureVectorList,columns = bag.keys())"
   ]
  },
  {
   "cell_type": "code",
   "execution_count": 13,
   "metadata": {
    "collapsed": false
   },
   "outputs": [],
   "source": [
    "bagOfTags = createBag(numTrain,tagsTrainFolder)"
   ]
  },
  {
   "cell_type": "code",
   "execution_count": 14,
   "metadata": {
    "collapsed": false
   },
   "outputs": [
    {
     "name": "stdout",
     "output_type": "stream",
     "text": [
      "80\n"
     ]
    }
   ],
   "source": [
    "print len(bagOfTags)"
   ]
  },
  {
   "cell_type": "code",
   "execution_count": 15,
   "metadata": {
    "collapsed": true
   },
   "outputs": [],
   "source": [
    "indexedBag = indexBag(bagOfTags)"
   ]
  },
  {
   "cell_type": "code",
   "execution_count": 22,
   "metadata": {
    "collapsed": false
   },
   "outputs": [],
   "source": [
    "vectorizedTrain = tagFrequency(numTrain,descriptionTrainFolder,indexedBag)"
   ]
  },
  {
   "cell_type": "code",
   "execution_count": 23,
   "metadata": {
    "collapsed": false
   },
   "outputs": [
    {
     "data": {
      "text/html": [
       "<div>\n",
       "<table border=\"1\" class=\"dataframe\">\n",
       "  <thead>\n",
       "    <tr style=\"text-align: right;\">\n",
       "      <th></th>\n",
       "      <th>toilet</th>\n",
       "      <th>teddy bear</th>\n",
       "      <th>kite</th>\n",
       "      <th>train</th>\n",
       "      <th>laptop</th>\n",
       "      <th>tennis racket</th>\n",
       "      <th>sports bal</th>\n",
       "      <th>donut</th>\n",
       "      <th>snowboard</th>\n",
       "      <th>carrot</th>\n",
       "      <th>...</th>\n",
       "      <th>bed</th>\n",
       "      <th>cat</th>\n",
       "      <th>hot dog</th>\n",
       "      <th>person</th>\n",
       "      <th>dining t</th>\n",
       "      <th>truck</th>\n",
       "      <th>car</th>\n",
       "      <th>cake</th>\n",
       "      <th>wine glass</th>\n",
       "      <th>traffic light</th>\n",
       "    </tr>\n",
       "  </thead>\n",
       "  <tbody>\n",
       "    <tr>\n",
       "      <th>0</th>\n",
       "      <td>0</td>\n",
       "      <td>0</td>\n",
       "      <td>0</td>\n",
       "      <td>0</td>\n",
       "      <td>0</td>\n",
       "      <td>0</td>\n",
       "      <td>0</td>\n",
       "      <td>0</td>\n",
       "      <td>0</td>\n",
       "      <td>0</td>\n",
       "      <td>...</td>\n",
       "      <td>0</td>\n",
       "      <td>0</td>\n",
       "      <td>0</td>\n",
       "      <td>1</td>\n",
       "      <td>0</td>\n",
       "      <td>0</td>\n",
       "      <td>0</td>\n",
       "      <td>0</td>\n",
       "      <td>0</td>\n",
       "      <td>0</td>\n",
       "    </tr>\n",
       "  </tbody>\n",
       "</table>\n",
       "<p>1 rows × 80 columns</p>\n",
       "</div>"
      ],
      "text/plain": [
       "   toilet  teddy bear  kite  train  laptop  tennis racket  sports bal  donut  \\\n",
       "0       0           0     0      0       0              0           0      0   \n",
       "\n",
       "   snowboard  carrot      ...        bed  cat  hot dog  person  dining t  \\\n",
       "0          0       0      ...          0    0        0       1         0   \n",
       "\n",
       "   truck  car  cake  wine glass  traffic light  \n",
       "0      0    0     0           0              0  \n",
       "\n",
       "[1 rows x 80 columns]"
      ]
     },
     "execution_count": 23,
     "metadata": {},
     "output_type": "execute_result"
    }
   ],
   "source": [
    "vectorizedTrain.head(1)"
   ]
  },
  {
   "cell_type": "code",
   "execution_count": null,
   "metadata": {
    "collapsed": true
   },
   "outputs": [],
   "source": []
  }
 ],
 "metadata": {
  "kernelspec": {
   "display_name": "Python 2",
   "language": "python",
   "name": "python2"
  },
  "language_info": {
   "codemirror_mode": {
    "name": "ipython",
    "version": 2
   },
   "file_extension": ".py",
   "mimetype": "text/x-python",
   "name": "python",
   "nbconvert_exporter": "python",
   "pygments_lexer": "ipython2",
   "version": "2.7.11"
  }
 },
 "nbformat": 4,
 "nbformat_minor": 0
}
