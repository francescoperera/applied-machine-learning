{
 "cells": [
  {
   "cell_type": "code",
   "execution_count": 1,
   "metadata": {
    "collapsed": false
   },
   "outputs": [
    {
     "name": "stderr",
     "output_type": "stream",
     "text": [
      "//anaconda/lib/python3.4/site-packages/sklearn/cross_validation.py:44: DeprecationWarning: This module was deprecated in version 0.18 in favor of the model_selection module into which all the refactored classes and functions are moved. Also note that the interface of the new CV iterators are different from that of this module. This module will be removed in 0.20.\n",
      "  \"This module will be removed in 0.20.\", DeprecationWarning)\n"
     ]
    }
   ],
   "source": [
    "import pandas as pd\n",
    "import numpy as np\n",
    "import matplotlib.pyplot as plt\n",
    "from collections import Counter\n",
    "from collections import defaultdict\n",
    "from functools import partial\n",
    "from itertools import count\n",
    "from nltk.stem.wordnet import WordNetLemmatizer\n",
    "from nltk.stem import PorterStemmer\n",
    "from nltk.corpus import stopwords\n",
    "from nltk import pos_tag\n",
    "import string\n",
    "import re\n",
    "from sklearn import preprocessing\n",
    "from sklearn.neighbors import NearestNeighbors\n",
    "from sklearn.cross_validation import KFold\n",
    "from sklearn.svm import SVC\n",
    "import re\n",
    "from sklearn.decomposition import PCA\n",
    "from sklearn.multiclass import OneVsRestClassifier\n",
    "from sklearn.svm import LinearSVC,SVC\n",
    "import heapq\n",
    "from sklearn.linear_model import LogisticRegression\n",
    "from sklearn.preprocessing import MultiLabelBinarizer\n",
    "from sklearn.cluster import KMeans\n",
    "%matplotlib inline"
   ]
  },
  {
   "cell_type": "markdown",
   "metadata": {},
   "source": [
    "# image features cleaning"
   ]
  },
  {
   "cell_type": "code",
   "execution_count": 2,
   "metadata": {
    "collapsed": true
   },
   "outputs": [],
   "source": [
    "def softmax(x):\n",
    "    \"\"\"Compute softmax values for each sets of scores in x.\"\"\"\n",
    "    return np.exp(x) / np.sum(np.exp(x), axis=0)"
   ]
  },
  {
   "cell_type": "code",
   "execution_count": 4,
   "metadata": {
    "collapsed": false
   },
   "outputs": [],
   "source": [
    "def cleanImageFeatures(filename):\n",
    "    features_df = pd.read_csv(filename, header =None)\n",
    "    split= features_df[0].str.split('/', 1, expand=True)\n",
    "    split2= split[1].str.split('.', 1, expand=True).drop([1], axis=1)\n",
    "    split2 = split2.rename(columns={0: \"index\"})\n",
    "    result = pd.concat([split2, features_df], axis=1)\n",
    "    result[\"index\"] = result[\"index\"].astype(float)\n",
    "    result = result.sort([\"index\"], ascending = 1)\n",
    "    imageDF = result.drop([\"index\", 0], axis=1)\n",
    "    softMaxDF = imageDF.apply(softmax, axis = 1)\n",
    "    return softMaxDF"
   ]
  },
  {
   "cell_type": "code",
   "execution_count": 5,
   "metadata": {
    "collapsed": true
   },
   "outputs": [],
   "source": [
    "softMaxDF = cleanImageFeatures(\"../../final/data/features_train/features_resnet1000_train.csv\")"
   ]
  },
  {
   "cell_type": "code",
   "execution_count": 6,
   "metadata": {
    "collapsed": false
   },
   "outputs": [
    {
     "data": {
      "text/html": [
       "<div>\n",
       "<table border=\"1\" class=\"dataframe\">\n",
       "  <thead>\n",
       "    <tr style=\"text-align: right;\">\n",
       "      <th></th>\n",
       "      <th>1</th>\n",
       "      <th>2</th>\n",
       "      <th>3</th>\n",
       "      <th>4</th>\n",
       "      <th>5</th>\n",
       "      <th>6</th>\n",
       "      <th>7</th>\n",
       "      <th>8</th>\n",
       "      <th>9</th>\n",
       "      <th>10</th>\n",
       "      <th>...</th>\n",
       "      <th>991</th>\n",
       "      <th>992</th>\n",
       "      <th>993</th>\n",
       "      <th>994</th>\n",
       "      <th>995</th>\n",
       "      <th>996</th>\n",
       "      <th>997</th>\n",
       "      <th>998</th>\n",
       "      <th>999</th>\n",
       "      <th>1000</th>\n",
       "    </tr>\n",
       "  </thead>\n",
       "  <tbody>\n",
       "    <tr>\n",
       "      <th>6643</th>\n",
       "      <td>4.690518e-07</td>\n",
       "      <td>1.578537e-06</td>\n",
       "      <td>9.328652e-05</td>\n",
       "      <td>1.534686e-05</td>\n",
       "      <td>3.026676e-05</td>\n",
       "      <td>1.125796e-05</td>\n",
       "      <td>1.864312e-06</td>\n",
       "      <td>1.318828e-05</td>\n",
       "      <td>7.214815e-07</td>\n",
       "      <td>2.772918e-05</td>\n",
       "      <td>...</td>\n",
       "      <td>0.000006</td>\n",
       "      <td>3.840809e-07</td>\n",
       "      <td>7.580978e-07</td>\n",
       "      <td>9.254151e-07</td>\n",
       "      <td>1.273813e-06</td>\n",
       "      <td>0.000006</td>\n",
       "      <td>0.000005</td>\n",
       "      <td>5.889290e-07</td>\n",
       "      <td>0.000011</td>\n",
       "      <td>0.000037</td>\n",
       "    </tr>\n",
       "    <tr>\n",
       "      <th>2273</th>\n",
       "      <td>4.467573e-06</td>\n",
       "      <td>5.971302e-06</td>\n",
       "      <td>1.529179e-08</td>\n",
       "      <td>5.232497e-08</td>\n",
       "      <td>1.308296e-07</td>\n",
       "      <td>7.229350e-07</td>\n",
       "      <td>3.534124e-08</td>\n",
       "      <td>4.790586e-08</td>\n",
       "      <td>5.903218e-07</td>\n",
       "      <td>1.991982e-07</td>\n",
       "      <td>...</td>\n",
       "      <td>0.000002</td>\n",
       "      <td>4.191289e-07</td>\n",
       "      <td>4.550022e-07</td>\n",
       "      <td>9.496120e-07</td>\n",
       "      <td>3.101960e-06</td>\n",
       "      <td>0.000009</td>\n",
       "      <td>0.000080</td>\n",
       "      <td>1.111328e-06</td>\n",
       "      <td>0.000136</td>\n",
       "      <td>0.000001</td>\n",
       "    </tr>\n",
       "    <tr>\n",
       "      <th>8598</th>\n",
       "      <td>2.713387e-06</td>\n",
       "      <td>1.392071e-06</td>\n",
       "      <td>7.225265e-07</td>\n",
       "      <td>7.912383e-07</td>\n",
       "      <td>1.237272e-05</td>\n",
       "      <td>1.460976e-05</td>\n",
       "      <td>8.789415e-07</td>\n",
       "      <td>2.602356e-06</td>\n",
       "      <td>1.653813e-06</td>\n",
       "      <td>8.984420e-07</td>\n",
       "      <td>...</td>\n",
       "      <td>0.000002</td>\n",
       "      <td>9.461717e-08</td>\n",
       "      <td>1.228283e-07</td>\n",
       "      <td>1.717705e-06</td>\n",
       "      <td>7.607935e-07</td>\n",
       "      <td>0.000003</td>\n",
       "      <td>0.000017</td>\n",
       "      <td>3.585788e-07</td>\n",
       "      <td>0.000026</td>\n",
       "      <td>0.000007</td>\n",
       "    </tr>\n",
       "    <tr>\n",
       "      <th>9239</th>\n",
       "      <td>1.217408e-04</td>\n",
       "      <td>1.302585e-05</td>\n",
       "      <td>3.159552e-06</td>\n",
       "      <td>4.374011e-06</td>\n",
       "      <td>2.742091e-05</td>\n",
       "      <td>1.317878e-05</td>\n",
       "      <td>1.326868e-06</td>\n",
       "      <td>3.183221e-06</td>\n",
       "      <td>2.773982e-06</td>\n",
       "      <td>1.025100e-05</td>\n",
       "      <td>...</td>\n",
       "      <td>0.000224</td>\n",
       "      <td>3.802230e-06</td>\n",
       "      <td>2.056403e-05</td>\n",
       "      <td>1.319618e-06</td>\n",
       "      <td>7.643639e-06</td>\n",
       "      <td>0.000170</td>\n",
       "      <td>0.000042</td>\n",
       "      <td>2.643319e-06</td>\n",
       "      <td>0.000302</td>\n",
       "      <td>0.000328</td>\n",
       "    </tr>\n",
       "    <tr>\n",
       "      <th>8410</th>\n",
       "      <td>1.894039e-05</td>\n",
       "      <td>9.904532e-07</td>\n",
       "      <td>5.770281e-06</td>\n",
       "      <td>4.656676e-05</td>\n",
       "      <td>4.786610e-05</td>\n",
       "      <td>1.612394e-06</td>\n",
       "      <td>1.038364e-06</td>\n",
       "      <td>7.940026e-05</td>\n",
       "      <td>2.456297e-05</td>\n",
       "      <td>3.643926e-05</td>\n",
       "      <td>...</td>\n",
       "      <td>0.000010</td>\n",
       "      <td>5.374604e-07</td>\n",
       "      <td>1.301471e-06</td>\n",
       "      <td>9.156633e-07</td>\n",
       "      <td>8.342256e-07</td>\n",
       "      <td>0.000005</td>\n",
       "      <td>0.000005</td>\n",
       "      <td>3.147001e-07</td>\n",
       "      <td>0.000028</td>\n",
       "      <td>0.000118</td>\n",
       "    </tr>\n",
       "  </tbody>\n",
       "</table>\n",
       "<p>5 rows × 1000 columns</p>\n",
       "</div>"
      ],
      "text/plain": [
       "              1             2             3             4             5     \\\n",
       "6643  4.690518e-07  1.578537e-06  9.328652e-05  1.534686e-05  3.026676e-05   \n",
       "2273  4.467573e-06  5.971302e-06  1.529179e-08  5.232497e-08  1.308296e-07   \n",
       "8598  2.713387e-06  1.392071e-06  7.225265e-07  7.912383e-07  1.237272e-05   \n",
       "9239  1.217408e-04  1.302585e-05  3.159552e-06  4.374011e-06  2.742091e-05   \n",
       "8410  1.894039e-05  9.904532e-07  5.770281e-06  4.656676e-05  4.786610e-05   \n",
       "\n",
       "              6             7             8             9             10    \\\n",
       "6643  1.125796e-05  1.864312e-06  1.318828e-05  7.214815e-07  2.772918e-05   \n",
       "2273  7.229350e-07  3.534124e-08  4.790586e-08  5.903218e-07  1.991982e-07   \n",
       "8598  1.460976e-05  8.789415e-07  2.602356e-06  1.653813e-06  8.984420e-07   \n",
       "9239  1.317878e-05  1.326868e-06  3.183221e-06  2.773982e-06  1.025100e-05   \n",
       "8410  1.612394e-06  1.038364e-06  7.940026e-05  2.456297e-05  3.643926e-05   \n",
       "\n",
       "        ...         991           992           993           994   \\\n",
       "6643    ...     0.000006  3.840809e-07  7.580978e-07  9.254151e-07   \n",
       "2273    ...     0.000002  4.191289e-07  4.550022e-07  9.496120e-07   \n",
       "8598    ...     0.000002  9.461717e-08  1.228283e-07  1.717705e-06   \n",
       "9239    ...     0.000224  3.802230e-06  2.056403e-05  1.319618e-06   \n",
       "8410    ...     0.000010  5.374604e-07  1.301471e-06  9.156633e-07   \n",
       "\n",
       "              995       996       997           998       999       1000  \n",
       "6643  1.273813e-06  0.000006  0.000005  5.889290e-07  0.000011  0.000037  \n",
       "2273  3.101960e-06  0.000009  0.000080  1.111328e-06  0.000136  0.000001  \n",
       "8598  7.607935e-07  0.000003  0.000017  3.585788e-07  0.000026  0.000007  \n",
       "9239  7.643639e-06  0.000170  0.000042  2.643319e-06  0.000302  0.000328  \n",
       "8410  8.342256e-07  0.000005  0.000005  3.147001e-07  0.000028  0.000118  \n",
       "\n",
       "[5 rows x 1000 columns]"
      ]
     },
     "execution_count": 6,
     "metadata": {},
     "output_type": "execute_result"
    }
   ],
   "source": [
    "softMaxDF.head(5)"
   ]
  },
  {
   "cell_type": "code",
   "execution_count": 9,
   "metadata": {
    "collapsed": true
   },
   "outputs": [],
   "source": [
    "arr=softMaxDF.sum()"
   ]
  },
  {
   "cell_type": "code",
   "execution_count": 10,
   "metadata": {
    "collapsed": false
   },
   "outputs": [
    {
     "data": {
      "text/plain": [
       "1         3.897984\n",
       "2         0.793449\n",
       "3         0.804736\n",
       "4         0.491656\n",
       "5         0.767258\n",
       "6         1.479282\n",
       "7         0.207902\n",
       "8         0.421039\n",
       "9         0.829220\n",
       "10        5.865051\n",
       "11        5.463220\n",
       "12        2.784162\n",
       "13        5.241980\n",
       "14        0.461788\n",
       "15        2.903939\n",
       "16        1.469648\n",
       "17        2.861448\n",
       "18        0.787667\n",
       "19        0.332526\n",
       "20        0.743686\n",
       "21        1.081647\n",
       "22        7.257168\n",
       "23        0.342249\n",
       "24        1.281327\n",
       "25        0.252651\n",
       "26        0.108913\n",
       "27        0.679277\n",
       "28        0.126886\n",
       "29        0.088318\n",
       "30        1.401380\n",
       "           ...    \n",
       "971      73.344958\n",
       "972       2.930076\n",
       "973      14.992070\n",
       "974       1.085375\n",
       "975       7.403062\n",
       "976      91.816636\n",
       "977      11.107013\n",
       "978      47.081154\n",
       "979     164.447727\n",
       "980      23.356375\n",
       "981       5.589546\n",
       "982     175.105845\n",
       "983       2.957639\n",
       "984       0.461508\n",
       "985       1.146737\n",
       "986       0.625688\n",
       "987       0.331685\n",
       "988       4.092261\n",
       "989       0.380839\n",
       "990       0.513525\n",
       "991       1.586742\n",
       "992       0.286990\n",
       "993       0.102950\n",
       "994       1.007947\n",
       "995       0.661883\n",
       "996       3.081997\n",
       "997      10.837613\n",
       "998       0.693372\n",
       "999       6.744832\n",
       "1000      7.653459\n",
       "dtype: float64"
      ]
     },
     "execution_count": 10,
     "metadata": {},
     "output_type": "execute_result"
    }
   ],
   "source": [
    "arr"
   ]
  },
  {
   "cell_type": "code",
   "execution_count": 8,
   "metadata": {
    "collapsed": false
   },
   "outputs": [
    {
     "data": {
      "image/png": "[encoded data removed]",
      "text/plain": [
       "<matplotlib.figure.Figure at 0x10b910908>"
      ]
     },
     "metadata": {},
     "output_type": "display_data"
    }
   ],
   "source": [
    "# arr.plot(kind = \"bar\",figsize=(18, 16),)\n",
    "ax = arr.plot(kind = \"bar\",figsize=(18, 16),)\n",
    "# savefig('resnetFeatures.png')\n",
    "fig = ax.get_figure()\n",
    "fig.savefig('feature_sums.png')"
   ]
  },
  {
   "cell_type": "code",
   "execution_count": 11,
   "metadata": {
    "collapsed": false
   },
   "outputs": [],
   "source": [
    "x = arr.tolist()"
   ]
  },
  {
   "cell_type": "code",
   "execution_count": 12,
   "metadata": {
    "collapsed": false
   },
   "outputs": [],
   "source": [
    "colsToKeep = []\n",
    "for i in range(len(x)):\n",
    "    if x[i] > 40:\n",
    "#         print(\"column:\" , i+1 , x[i])\n",
    "        colsToKeep.append(i+1)\n",
    "        "
   ]
  },
  {
   "cell_type": "code",
   "execution_count": 13,
   "metadata": {
    "collapsed": false
   },
   "outputs": [],
   "source": [
    "condensImageDF = softMaxDF[colsToKeep]"
   ]
  },
  {
   "cell_type": "code",
   "execution_count": 14,
   "metadata": {
    "collapsed": false
   },
   "outputs": [
    {
     "data": {
      "text/html": [
       "<div>\n",
       "<table border=\"1\" class=\"dataframe\">\n",
       "  <thead>\n",
       "    <tr style=\"text-align: right;\">\n",
       "      <th></th>\n",
       "      <th>102</th>\n",
       "      <th>340</th>\n",
       "      <th>341</th>\n",
       "      <th>346</th>\n",
       "      <th>386</th>\n",
       "      <th>405</th>\n",
       "      <th>410</th>\n",
       "      <th>416</th>\n",
       "      <th>443</th>\n",
       "      <th>527</th>\n",
       "      <th>...</th>\n",
       "      <th>921</th>\n",
       "      <th>924</th>\n",
       "      <th>935</th>\n",
       "      <th>964</th>\n",
       "      <th>965</th>\n",
       "      <th>971</th>\n",
       "      <th>976</th>\n",
       "      <th>978</th>\n",
       "      <th>979</th>\n",
       "      <th>982</th>\n",
       "    </tr>\n",
       "  </thead>\n",
       "  <tbody>\n",
       "    <tr>\n",
       "      <th>count</th>\n",
       "      <td>1.000000e+04</td>\n",
       "      <td>1.000000e+04</td>\n",
       "      <td>1.000000e+04</td>\n",
       "      <td>1.000000e+04</td>\n",
       "      <td>1.000000e+04</td>\n",
       "      <td>1.000000e+04</td>\n",
       "      <td>1.000000e+04</td>\n",
       "      <td>1.000000e+04</td>\n",
       "      <td>1.000000e+04</td>\n",
       "      <td>1.000000e+04</td>\n",
       "      <td>...</td>\n",
       "      <td>1.000000e+04</td>\n",
       "      <td>1.000000e+04</td>\n",
       "      <td>1.000000e+04</td>\n",
       "      <td>1.000000e+04</td>\n",
       "      <td>1.000000e+04</td>\n",
       "      <td>1.000000e+04</td>\n",
       "      <td>1.000000e+04</td>\n",
       "      <td>1.000000e+04</td>\n",
       "      <td>1.000000e+04</td>\n",
       "      <td>1.000000e+04</td>\n",
       "    </tr>\n",
       "    <tr>\n",
       "      <th>mean</th>\n",
       "      <td>4.223076e-03</td>\n",
       "      <td>4.380119e-03</td>\n",
       "      <td>1.333895e-02</td>\n",
       "      <td>5.269791e-03</td>\n",
       "      <td>8.795038e-03</td>\n",
       "      <td>7.919147e-03</td>\n",
       "      <td>4.273037e-03</td>\n",
       "      <td>4.780540e-03</td>\n",
       "      <td>7.076876e-03</td>\n",
       "      <td>6.916449e-03</td>\n",
       "      <td>...</td>\n",
       "      <td>6.935440e-03</td>\n",
       "      <td>1.251038e-02</td>\n",
       "      <td>4.778759e-03</td>\n",
       "      <td>6.554481e-03</td>\n",
       "      <td>5.473378e-03</td>\n",
       "      <td>7.334496e-03</td>\n",
       "      <td>9.181664e-03</td>\n",
       "      <td>4.708115e-03</td>\n",
       "      <td>1.644477e-02</td>\n",
       "      <td>1.751058e-02</td>\n",
       "    </tr>\n",
       "    <tr>\n",
       "      <th>std</th>\n",
       "      <td>3.751969e-02</td>\n",
       "      <td>5.168693e-02</td>\n",
       "      <td>1.094344e-01</td>\n",
       "      <td>4.784506e-02</td>\n",
       "      <td>7.499231e-02</td>\n",
       "      <td>7.666696e-02</td>\n",
       "      <td>4.618187e-02</td>\n",
       "      <td>4.716791e-02</td>\n",
       "      <td>6.379472e-02</td>\n",
       "      <td>5.386427e-02</td>\n",
       "      <td>...</td>\n",
       "      <td>6.548214e-02</td>\n",
       "      <td>7.442100e-02</td>\n",
       "      <td>5.648028e-02</td>\n",
       "      <td>6.908275e-02</td>\n",
       "      <td>4.581087e-02</td>\n",
       "      <td>5.600529e-02</td>\n",
       "      <td>5.174625e-02</td>\n",
       "      <td>3.220949e-02</td>\n",
       "      <td>8.837117e-02</td>\n",
       "      <td>1.144298e-01</td>\n",
       "    </tr>\n",
       "    <tr>\n",
       "      <th>min</th>\n",
       "      <td>4.975433e-16</td>\n",
       "      <td>7.430665e-14</td>\n",
       "      <td>2.136255e-14</td>\n",
       "      <td>8.288424e-14</td>\n",
       "      <td>1.326179e-14</td>\n",
       "      <td>9.866686e-15</td>\n",
       "      <td>1.212917e-13</td>\n",
       "      <td>8.449005e-14</td>\n",
       "      <td>1.017913e-14</td>\n",
       "      <td>1.750723e-15</td>\n",
       "      <td>...</td>\n",
       "      <td>5.474023e-14</td>\n",
       "      <td>6.363925e-14</td>\n",
       "      <td>4.545488e-15</td>\n",
       "      <td>1.128377e-16</td>\n",
       "      <td>5.380719e-15</td>\n",
       "      <td>2.954735e-15</td>\n",
       "      <td>1.363446e-13</td>\n",
       "      <td>2.265379e-13</td>\n",
       "      <td>3.043919e-14</td>\n",
       "      <td>5.992964e-13</td>\n",
       "    </tr>\n",
       "    <tr>\n",
       "      <th>25%</th>\n",
       "      <td>6.739661e-07</td>\n",
       "      <td>4.209182e-07</td>\n",
       "      <td>3.013899e-07</td>\n",
       "      <td>1.138667e-06</td>\n",
       "      <td>7.544921e-07</td>\n",
       "      <td>5.189948e-07</td>\n",
       "      <td>3.023912e-06</td>\n",
       "      <td>1.121684e-06</td>\n",
       "      <td>1.233237e-06</td>\n",
       "      <td>1.037996e-06</td>\n",
       "      <td>...</td>\n",
       "      <td>4.436377e-07</td>\n",
       "      <td>8.376129e-07</td>\n",
       "      <td>4.331211e-07</td>\n",
       "      <td>7.590274e-08</td>\n",
       "      <td>3.472214e-07</td>\n",
       "      <td>2.339573e-06</td>\n",
       "      <td>3.616016e-06</td>\n",
       "      <td>2.103574e-06</td>\n",
       "      <td>4.183207e-06</td>\n",
       "      <td>7.785734e-07</td>\n",
       "    </tr>\n",
       "    <tr>\n",
       "      <th>50%</th>\n",
       "      <td>6.644554e-06</td>\n",
       "      <td>4.207203e-06</td>\n",
       "      <td>3.399837e-06</td>\n",
       "      <td>1.274712e-05</td>\n",
       "      <td>8.540267e-06</td>\n",
       "      <td>5.346884e-06</td>\n",
       "      <td>2.667485e-05</td>\n",
       "      <td>1.571522e-05</td>\n",
       "      <td>1.420339e-05</td>\n",
       "      <td>1.274198e-05</td>\n",
       "      <td>...</td>\n",
       "      <td>4.506552e-06</td>\n",
       "      <td>7.475680e-06</td>\n",
       "      <td>4.062480e-06</td>\n",
       "      <td>7.734255e-07</td>\n",
       "      <td>3.334580e-06</td>\n",
       "      <td>2.457912e-05</td>\n",
       "      <td>4.130695e-05</td>\n",
       "      <td>1.799163e-05</td>\n",
       "      <td>3.772429e-05</td>\n",
       "      <td>7.251310e-06</td>\n",
       "    </tr>\n",
       "    <tr>\n",
       "      <th>75%</th>\n",
       "      <td>5.120723e-05</td>\n",
       "      <td>3.343300e-05</td>\n",
       "      <td>3.095044e-05</td>\n",
       "      <td>1.203528e-04</td>\n",
       "      <td>7.474059e-05</td>\n",
       "      <td>4.697009e-05</td>\n",
       "      <td>1.528663e-04</td>\n",
       "      <td>1.680223e-04</td>\n",
       "      <td>1.289408e-04</td>\n",
       "      <td>1.605209e-04</td>\n",
       "      <td>...</td>\n",
       "      <td>4.762284e-05</td>\n",
       "      <td>6.520702e-05</td>\n",
       "      <td>2.835304e-05</td>\n",
       "      <td>5.542218e-06</td>\n",
       "      <td>2.432424e-05</td>\n",
       "      <td>2.868541e-04</td>\n",
       "      <td>7.822698e-04</td>\n",
       "      <td>1.921765e-04</td>\n",
       "      <td>5.074922e-04</td>\n",
       "      <td>6.506245e-05</td>\n",
       "    </tr>\n",
       "    <tr>\n",
       "      <th>max</th>\n",
       "      <td>8.912532e-01</td>\n",
       "      <td>9.993799e-01</td>\n",
       "      <td>9.999972e-01</td>\n",
       "      <td>9.636395e-01</td>\n",
       "      <td>9.851134e-01</td>\n",
       "      <td>9.988626e-01</td>\n",
       "      <td>9.431721e-01</td>\n",
       "      <td>9.992297e-01</td>\n",
       "      <td>9.980947e-01</td>\n",
       "      <td>9.415581e-01</td>\n",
       "      <td>...</td>\n",
       "      <td>9.999976e-01</td>\n",
       "      <td>9.657642e-01</td>\n",
       "      <td>9.998308e-01</td>\n",
       "      <td>9.994251e-01</td>\n",
       "      <td>9.830461e-01</td>\n",
       "      <td>9.729146e-01</td>\n",
       "      <td>9.246372e-01</td>\n",
       "      <td>7.883632e-01</td>\n",
       "      <td>9.819246e-01</td>\n",
       "      <td>9.917215e-01</td>\n",
       "    </tr>\n",
       "  </tbody>\n",
       "</table>\n",
       "<p>8 rows × 54 columns</p>\n",
       "</div>"
      ],
      "text/plain": [
       "                102           340           341           346           386  \\\n",
       "count  1.000000e+04  1.000000e+04  1.000000e+04  1.000000e+04  1.000000e+04   \n",
       "mean   4.223076e-03  4.380119e-03  1.333895e-02  5.269791e-03  8.795038e-03   \n",
       "std    3.751969e-02  5.168693e-02  1.094344e-01  4.784506e-02  7.499231e-02   \n",
       "min    4.975433e-16  7.430665e-14  2.136255e-14  8.288424e-14  1.326179e-14   \n",
       "25%    6.739661e-07  4.209182e-07  3.013899e-07  1.138667e-06  7.544921e-07   \n",
       "50%    6.644554e-06  4.207203e-06  3.399837e-06  1.274712e-05  8.540267e-06   \n",
       "75%    5.120723e-05  3.343300e-05  3.095044e-05  1.203528e-04  7.474059e-05   \n",
       "max    8.912532e-01  9.993799e-01  9.999972e-01  9.636395e-01  9.851134e-01   \n",
       "\n",
       "                405           410           416           443           527  \\\n",
       "count  1.000000e+04  1.000000e+04  1.000000e+04  1.000000e+04  1.000000e+04   \n",
       "mean   7.919147e-03  4.273037e-03  4.780540e-03  7.076876e-03  6.916449e-03   \n",
       "std    7.666696e-02  4.618187e-02  4.716791e-02  6.379472e-02  5.386427e-02   \n",
       "min    9.866686e-15  1.212917e-13  8.449005e-14  1.017913e-14  1.750723e-15   \n",
       "25%    5.189948e-07  3.023912e-06  1.121684e-06  1.233237e-06  1.037996e-06   \n",
       "50%    5.346884e-06  2.667485e-05  1.571522e-05  1.420339e-05  1.274198e-05   \n",
       "75%    4.697009e-05  1.528663e-04  1.680223e-04  1.289408e-04  1.605209e-04   \n",
       "max    9.988626e-01  9.431721e-01  9.992297e-01  9.980947e-01  9.415581e-01   \n",
       "\n",
       "           ...                921           924           935           964  \\\n",
       "count      ...       1.000000e+04  1.000000e+04  1.000000e+04  1.000000e+04   \n",
       "mean       ...       6.935440e-03  1.251038e-02  4.778759e-03  6.554481e-03   \n",
       "std        ...       6.548214e-02  7.442100e-02  5.648028e-02  6.908275e-02   \n",
       "min        ...       5.474023e-14  6.363925e-14  4.545488e-15  1.128377e-16   \n",
       "25%        ...       4.436377e-07  8.376129e-07  4.331211e-07  7.590274e-08   \n",
       "50%        ...       4.506552e-06  7.475680e-06  4.062480e-06  7.734255e-07   \n",
       "75%        ...       4.762284e-05  6.520702e-05  2.835304e-05  5.542218e-06   \n",
       "max        ...       9.999976e-01  9.657642e-01  9.998308e-01  9.994251e-01   \n",
       "\n",
       "                965           971           976           978           979  \\\n",
       "count  1.000000e+04  1.000000e+04  1.000000e+04  1.000000e+04  1.000000e+04   \n",
       "mean   5.473378e-03  7.334496e-03  9.181664e-03  4.708115e-03  1.644477e-02   \n",
       "std    4.581087e-02  5.600529e-02  5.174625e-02  3.220949e-02  8.837117e-02   \n",
       "min    5.380719e-15  2.954735e-15  1.363446e-13  2.265379e-13  3.043919e-14   \n",
       "25%    3.472214e-07  2.339573e-06  3.616016e-06  2.103574e-06  4.183207e-06   \n",
       "50%    3.334580e-06  2.457912e-05  4.130695e-05  1.799163e-05  3.772429e-05   \n",
       "75%    2.432424e-05  2.868541e-04  7.822698e-04  1.921765e-04  5.074922e-04   \n",
       "max    9.830461e-01  9.729146e-01  9.246372e-01  7.883632e-01  9.819246e-01   \n",
       "\n",
       "                982  \n",
       "count  1.000000e+04  \n",
       "mean   1.751058e-02  \n",
       "std    1.144298e-01  \n",
       "min    5.992964e-13  \n",
       "25%    7.785734e-07  \n",
       "50%    7.251310e-06  \n",
       "75%    6.506245e-05  \n",
       "max    9.917215e-01  \n",
       "\n",
       "[8 rows x 54 columns]"
      ]
     },
     "execution_count": 14,
     "metadata": {},
     "output_type": "execute_result"
    }
   ],
   "source": [
    "condensImageDF.describe()"
   ]
  },
  {
   "cell_type": "code",
   "execution_count": 17,
   "metadata": {
    "collapsed": true
   },
   "outputs": [],
   "source": [
    "def GMM_KMeans(k = 50):\n",
    "    ##RUN KMEANS ##\n",
    "    ## initialize K means using scikitlearn\n",
    "    kmeans = KMeans(n_clusters= 50)\n",
    "    ## fit K means to the data, and then get the labels from the hard cluster assignments, and append this to our df\n",
    "    softMaxDF['label'] = kmeans.fit_predict(softMaxDF)"
   ]
  },
  {
   "cell_type": "code",
   "execution_count": 18,
   "metadata": {
    "collapsed": false
   },
   "outputs": [],
   "source": [
    "GMM_KMeans()"
   ]
  },
  {
   "cell_type": "code",
   "execution_count": 19,
   "metadata": {
    "collapsed": false
   },
   "outputs": [
    {
     "data": {
      "text/html": [
       "<div>\n",
       "<table border=\"1\" class=\"dataframe\">\n",
       "  <thead>\n",
       "    <tr style=\"text-align: right;\">\n",
       "      <th></th>\n",
       "      <th>1</th>\n",
       "      <th>2</th>\n",
       "      <th>3</th>\n",
       "      <th>4</th>\n",
       "      <th>5</th>\n",
       "      <th>6</th>\n",
       "      <th>7</th>\n",
       "      <th>8</th>\n",
       "      <th>9</th>\n",
       "      <th>10</th>\n",
       "      <th>...</th>\n",
       "      <th>992</th>\n",
       "      <th>993</th>\n",
       "      <th>994</th>\n",
       "      <th>995</th>\n",
       "      <th>996</th>\n",
       "      <th>997</th>\n",
       "      <th>998</th>\n",
       "      <th>999</th>\n",
       "      <th>1000</th>\n",
       "      <th>label</th>\n",
       "    </tr>\n",
       "  </thead>\n",
       "  <tbody>\n",
       "    <tr>\n",
       "      <th>2808</th>\n",
       "      <td>4.941979e-08</td>\n",
       "      <td>1.195760e-05</td>\n",
       "      <td>1.605203e-07</td>\n",
       "      <td>8.647646e-08</td>\n",
       "      <td>1.196340e-06</td>\n",
       "      <td>5.031790e-07</td>\n",
       "      <td>9.769057e-07</td>\n",
       "      <td>3.636337e-06</td>\n",
       "      <td>5.423206e-07</td>\n",
       "      <td>1.076278e-07</td>\n",
       "      <td>...</td>\n",
       "      <td>2.787000e-07</td>\n",
       "      <td>2.222139e-07</td>\n",
       "      <td>5.219102e-06</td>\n",
       "      <td>5.741520e-07</td>\n",
       "      <td>2.869706e-06</td>\n",
       "      <td>8.546921e-05</td>\n",
       "      <td>1.302564e-06</td>\n",
       "      <td>2.561472e-05</td>\n",
       "      <td>7.832109e-06</td>\n",
       "      <td>45</td>\n",
       "    </tr>\n",
       "    <tr>\n",
       "      <th>6979</th>\n",
       "      <td>2.034671e-05</td>\n",
       "      <td>1.705875e-04</td>\n",
       "      <td>1.644949e-06</td>\n",
       "      <td>3.396346e-06</td>\n",
       "      <td>7.004337e-06</td>\n",
       "      <td>4.951292e-06</td>\n",
       "      <td>8.442018e-06</td>\n",
       "      <td>8.403669e-04</td>\n",
       "      <td>2.624018e-04</td>\n",
       "      <td>6.228316e-05</td>\n",
       "      <td>...</td>\n",
       "      <td>1.158555e-04</td>\n",
       "      <td>1.244464e-05</td>\n",
       "      <td>1.156505e-03</td>\n",
       "      <td>1.132541e-04</td>\n",
       "      <td>4.495472e-04</td>\n",
       "      <td>5.849728e-04</td>\n",
       "      <td>1.361021e-04</td>\n",
       "      <td>2.017255e-02</td>\n",
       "      <td>1.110490e-05</td>\n",
       "      <td>30</td>\n",
       "    </tr>\n",
       "    <tr>\n",
       "      <th>6180</th>\n",
       "      <td>1.686520e-07</td>\n",
       "      <td>2.319884e-07</td>\n",
       "      <td>3.286634e-08</td>\n",
       "      <td>1.274318e-07</td>\n",
       "      <td>4.699880e-08</td>\n",
       "      <td>5.005754e-07</td>\n",
       "      <td>4.568947e-08</td>\n",
       "      <td>3.408478e-08</td>\n",
       "      <td>8.900476e-08</td>\n",
       "      <td>2.116789e-08</td>\n",
       "      <td>...</td>\n",
       "      <td>5.050970e-08</td>\n",
       "      <td>1.475663e-08</td>\n",
       "      <td>4.220957e-08</td>\n",
       "      <td>1.626092e-08</td>\n",
       "      <td>6.237014e-07</td>\n",
       "      <td>1.721713e-06</td>\n",
       "      <td>7.936345e-08</td>\n",
       "      <td>1.418431e-07</td>\n",
       "      <td>4.388533e-06</td>\n",
       "      <td>7</td>\n",
       "    </tr>\n",
       "    <tr>\n",
       "      <th>1123</th>\n",
       "      <td>5.898275e-09</td>\n",
       "      <td>1.168908e-09</td>\n",
       "      <td>4.243329e-10</td>\n",
       "      <td>5.837492e-10</td>\n",
       "      <td>2.756456e-10</td>\n",
       "      <td>6.402701e-08</td>\n",
       "      <td>1.987454e-10</td>\n",
       "      <td>1.315632e-09</td>\n",
       "      <td>1.345269e-09</td>\n",
       "      <td>3.186547e-09</td>\n",
       "      <td>...</td>\n",
       "      <td>7.527485e-09</td>\n",
       "      <td>7.249035e-10</td>\n",
       "      <td>1.169309e-08</td>\n",
       "      <td>2.686176e-09</td>\n",
       "      <td>1.482029e-07</td>\n",
       "      <td>3.530598e-08</td>\n",
       "      <td>8.076276e-10</td>\n",
       "      <td>1.197151e-08</td>\n",
       "      <td>2.223944e-10</td>\n",
       "      <td>14</td>\n",
       "    </tr>\n",
       "    <tr>\n",
       "      <th>1224</th>\n",
       "      <td>3.670408e-05</td>\n",
       "      <td>8.224323e-06</td>\n",
       "      <td>2.334052e-04</td>\n",
       "      <td>6.299538e-05</td>\n",
       "      <td>2.222982e-04</td>\n",
       "      <td>2.619324e-04</td>\n",
       "      <td>1.555163e-05</td>\n",
       "      <td>2.105010e-04</td>\n",
       "      <td>1.250903e-04</td>\n",
       "      <td>9.693530e-04</td>\n",
       "      <td>...</td>\n",
       "      <td>4.029188e-05</td>\n",
       "      <td>4.177351e-06</td>\n",
       "      <td>1.701676e-05</td>\n",
       "      <td>2.260401e-05</td>\n",
       "      <td>8.902761e-05</td>\n",
       "      <td>1.058616e-04</td>\n",
       "      <td>3.970284e-06</td>\n",
       "      <td>6.491152e-05</td>\n",
       "      <td>1.823137e-05</td>\n",
       "      <td>30</td>\n",
       "    </tr>\n",
       "  </tbody>\n",
       "</table>\n",
       "<p>5 rows × 1001 columns</p>\n",
       "</div>"
      ],
      "text/plain": [
       "                 1             2             3             4             5  \\\n",
       "2808  4.941979e-08  1.195760e-05  1.605203e-07  8.647646e-08  1.196340e-06   \n",
       "6979  2.034671e-05  1.705875e-04  1.644949e-06  3.396346e-06  7.004337e-06   \n",
       "6180  1.686520e-07  2.319884e-07  3.286634e-08  1.274318e-07  4.699880e-08   \n",
       "1123  5.898275e-09  1.168908e-09  4.243329e-10  5.837492e-10  2.756456e-10   \n",
       "1224  3.670408e-05  8.224323e-06  2.334052e-04  6.299538e-05  2.222982e-04   \n",
       "\n",
       "                 6             7             8             9            10  \\\n",
       "2808  5.031790e-07  9.769057e-07  3.636337e-06  5.423206e-07  1.076278e-07   \n",
       "6979  4.951292e-06  8.442018e-06  8.403669e-04  2.624018e-04  6.228316e-05   \n",
       "6180  5.005754e-07  4.568947e-08  3.408478e-08  8.900476e-08  2.116789e-08   \n",
       "1123  6.402701e-08  1.987454e-10  1.315632e-09  1.345269e-09  3.186547e-09   \n",
       "1224  2.619324e-04  1.555163e-05  2.105010e-04  1.250903e-04  9.693530e-04   \n",
       "\n",
       "      ...             992           993           994           995  \\\n",
       "2808  ...    2.787000e-07  2.222139e-07  5.219102e-06  5.741520e-07   \n",
       "6979  ...    1.158555e-04  1.244464e-05  1.156505e-03  1.132541e-04   \n",
       "6180  ...    5.050970e-08  1.475663e-08  4.220957e-08  1.626092e-08   \n",
       "1123  ...    7.527485e-09  7.249035e-10  1.169309e-08  2.686176e-09   \n",
       "1224  ...    4.029188e-05  4.177351e-06  1.701676e-05  2.260401e-05   \n",
       "\n",
       "               996           997           998           999          1000  \\\n",
       "2808  2.869706e-06  8.546921e-05  1.302564e-06  2.561472e-05  7.832109e-06   \n",
       "6979  4.495472e-04  5.849728e-04  1.361021e-04  2.017255e-02  1.110490e-05   \n",
       "6180  6.237014e-07  1.721713e-06  7.936345e-08  1.418431e-07  4.388533e-06   \n",
       "1123  1.482029e-07  3.530598e-08  8.076276e-10  1.197151e-08  2.223944e-10   \n",
       "1224  8.902761e-05  1.058616e-04  3.970284e-06  6.491152e-05  1.823137e-05   \n",
       "\n",
       "      label  \n",
       "2808     45  \n",
       "6979     30  \n",
       "6180      7  \n",
       "1123     14  \n",
       "1224     30  \n",
       "\n",
       "[5 rows x 1001 columns]"
      ]
     },
     "execution_count": 19,
     "metadata": {},
     "output_type": "execute_result"
    }
   ],
   "source": [
    "softMaxDF.tail(5)"
   ]
  },
  {
   "cell_type": "code",
   "execution_count": 20,
   "metadata": {
    "collapsed": false
   },
   "outputs": [],
   "source": [
    "resnetLabels = softMaxDF[\"label\"].tolist()"
   ]
  },
  {
   "cell_type": "code",
   "execution_count": 25,
   "metadata": {
    "collapsed": false
   },
   "outputs": [
    {
     "data": {
      "text/plain": [
       "10000"
      ]
     },
     "execution_count": 25,
     "metadata": {},
     "output_type": "execute_result"
    }
   ],
   "source": [
    "len(resnetLabels)"
   ]
  },
  {
   "cell_type": "code",
   "execution_count": null,
   "metadata": {
    "collapsed": true
   },
   "outputs": [],
   "source": []
  },
  {
   "cell_type": "markdown",
   "metadata": {},
   "source": [
    "# Take columns with sums above 40 and one hot encode"
   ]
  },
  {
   "cell_type": "code",
   "execution_count": 46,
   "metadata": {
    "collapsed": true
   },
   "outputs": [],
   "source": [
    "imageMatrix = condensImageDF.as_matrix()"
   ]
  },
  {
   "cell_type": "code",
   "execution_count": null,
   "metadata": {
    "collapsed": true
   },
   "outputs": [],
   "source": []
  },
  {
   "cell_type": "code",
   "execution_count": 47,
   "metadata": {
    "collapsed": false
   },
   "outputs": [],
   "source": [
    "mlb = MultiLabelBinarizer()\n",
    "binImages = mlb.fit_transform(imageMatrix)"
   ]
  },
  {
   "cell_type": "code",
   "execution_count": null,
   "metadata": {
    "collapsed": true
   },
   "outputs": [],
   "source": [
    "binImages = pd.DataFrame(binImages20)"
   ]
  },
  {
   "cell_type": "code",
   "execution_count": 128,
   "metadata": {
    "collapsed": false
   },
   "outputs": [
    {
     "data": {
      "text/plain": [
       "993"
      ]
     },
     "execution_count": 128,
     "metadata": {},
     "output_type": "execute_result"
    }
   ],
   "source": [
    "len(binImages20[0])"
   ]
  },
  {
   "cell_type": "code",
   "execution_count": 129,
   "metadata": {
    "collapsed": true
   },
   "outputs": [],
   "source": [
    "binImages20DF = pd.DataFrame(binImages20)"
   ]
  },
  {
   "cell_type": "code",
   "execution_count": null,
   "metadata": {
    "collapsed": true
   },
   "outputs": [],
   "source": []
  },
  {
   "cell_type": "code",
   "execution_count": null,
   "metadata": {
    "collapsed": true
   },
   "outputs": [],
   "source": []
  },
  {
   "cell_type": "markdown",
   "metadata": {},
   "source": [
    "# Read Files, set train and test "
   ]
  },
  {
   "cell_type": "code",
   "execution_count": 22,
   "metadata": {
    "collapsed": true
   },
   "outputs": [],
   "source": [
    "descriptionTrainFolder = \"../../final/data/descriptions_train\"\n",
    "featuresTrainFolder = \"../../final/data/features_train\"\n",
    "imagesTrainFolder = \"../../final/data/images_train\"\n",
    "tagsTrainFolder = \"../../final/data/tags_train\""
   ]
  },
  {
   "cell_type": "code",
   "execution_count": 23,
   "metadata": {
    "collapsed": true
   },
   "outputs": [],
   "source": [
    "descriptionTestFolder = \"../../final/data/descriptions_test\"\n",
    "featureTestFolder = \"../../final/data/features_test\"\n",
    "imagesTestFolder = \"../../final/data/images_test\"\n",
    "tagsTestFolder = \"../../final/data/tags_test\""
   ]
  },
  {
   "cell_type": "code",
   "execution_count": 24,
   "metadata": {
    "collapsed": true
   },
   "outputs": [],
   "source": [
    "numTrain = 10000\n",
    "numTest = 2000"
   ]
  },
  {
   "cell_type": "code",
   "execution_count": 26,
   "metadata": {
    "collapsed": true
   },
   "outputs": [],
   "source": [
    "def readTagsFile(fileName):\n",
    "    tags = []\n",
    "    f = open(fileName,\"r\")\n",
    "    for line in f:\n",
    "        line = line.split(\":\") # possibly also consider using the keys in each line(vehicle,outdoor etc..)\n",
    "        tag = line[-1].replace(\"\\n\",\"\")\n",
    "        tags.append(tag)\n",
    "    return tags\n",
    "\n",
    "def readDescriptionFile(fileName):\n",
    "    desc = []\n",
    "    f = open(fileName,\"r\")\n",
    "    for line in f:\n",
    "        noPuncSentence = stripPunctuation(line)\n",
    "        desc.append(noPuncSentence)\n",
    "    return desc\n",
    "\n",
    "def stripPunctuation(s):\n",
    "    regex = re.compile('[%s]' % re.escape(string.punctuation))\n",
    "    return regex.sub(' ', s)"
   ]
  },
  {
   "cell_type": "markdown",
   "metadata": {},
   "source": [
    "# Tag Analysis"
   ]
  },
  {
   "cell_type": "code",
   "execution_count": 27,
   "metadata": {
    "collapsed": true
   },
   "outputs": [],
   "source": [
    "def getTagDict(num,tagFolder):\n",
    "    tags = {}\n",
    "    for n in range(num):\n",
    "        f = tagFolder +\"/\" + str(n) + \".txt\"\n",
    "        fileTags = readTagsFile(f)\n",
    "        #newTags = stemTags(fileTags)\n",
    "        for tag in fileTags:\n",
    "            if str(tag) not in tags.keys():\n",
    "                tags[str(tag)] = 0\n",
    "            else:\n",
    "                tags[str(tag)] +=1\n",
    "    return tags"
   ]
  },
  {
   "cell_type": "code",
   "execution_count": 28,
   "metadata": {
    "collapsed": false
   },
   "outputs": [],
   "source": [
    "tagDict = getTagDict(numTrain,tagsTrainFolder)"
   ]
  },
  {
   "cell_type": "code",
   "execution_count": 29,
   "metadata": {
    "collapsed": false
   },
   "outputs": [
    {
     "name": "stdout",
     "output_type": "stream",
     "text": [
      "{'couch': 344, 'toilet': 287, 'bus': 330, 'truck': 498, 'sink': 389, 'cat': 354, 'tennis racket': 293, 'horse': 218, 'elephant': 178, 'remote': 239, 'knife': 331, 'bird': 305, 'bear': 86, 'giraffe': 217, 'zebra': 168, 'orange': 130, 'broccoli': 162, 'boat': 276, 'bottle': 707, 'oven': 246, 'carrot': 138, 'donut': 117, 'wine glass': 214, 'tv': 351, 'cup': 746, 'laptop': 303, 'vase': 310, 'mouse': 158, 'refrigerator': 204, 'bicycle': 284, 'microwave': 112, 'chair': 1029, 'apple': 106, 'clock': 441, 'baseball glove': 198, 'backpack': 428, 'sheep': 122, 'traffic light': 327, 'cell phone': 436, 'airplane': 221, 'bench': 475, 'pizza': 265, 'hair drier': 11, 'sports ball': 339, 'baseball bat': 193, 'tie': 305, 'fire hydrant': 151, 'hot dog': 121, 'book': 446, 'dog': 391, 'toothbrush': 79, 'motorcycle': 327, 'surfboard': 321, 'person': 5322, 'scissors': 72, 'bowl': 592, 'cake': 216, 'handbag': 597, 'train': 330, 'skateboard': 256, 'potted plant': 356, 'snowboard': 128, 'cow': 177, 'teddy bear': 183, 'bed': 314, 'umbrella': 357, 'skis': 237, 'sandwich': 207, 'toaster': 23, 'suitcase': 188, 'frisbee': 194, 'keyboard': 169, 'banana': 169, 'car': 1021, 'kite': 200, 'stop sign': 141, 'fork': 267, 'dining table': 959, 'parking meter': 57, 'spoon': 292}\n"
     ]
    }
   ],
   "source": [
    "print (tagDict)"
   ]
  },
  {
   "cell_type": "code",
   "execution_count": 30,
   "metadata": {
    "collapsed": false
   },
   "outputs": [
    {
     "name": "stdout",
     "output_type": "stream",
     "text": [
      "dict_keys(['couch', 'toilet', 'bus', 'truck', 'sink', 'cat', 'tennis racket', 'horse', 'elephant', 'remote', 'knife', 'bird', 'bear', 'giraffe', 'zebra', 'orange', 'broccoli', 'boat', 'bottle', 'oven', 'carrot', 'donut', 'wine glass', 'tv', 'cup', 'laptop', 'vase', 'mouse', 'refrigerator', 'bicycle', 'microwave', 'chair', 'apple', 'clock', 'baseball glove', 'backpack', 'sheep', 'traffic light', 'cell phone', 'airplane', 'bench', 'pizza', 'hair drier', 'sports ball', 'baseball bat', 'tie', 'fire hydrant', 'hot dog', 'book', 'dog', 'toothbrush', 'motorcycle', 'surfboard', 'person', 'scissors', 'bowl', 'cake', 'handbag', 'train', 'skateboard', 'potted plant', 'snowboard', 'cow', 'teddy bear', 'bed', 'umbrella', 'skis', 'sandwich', 'toaster', 'suitcase', 'frisbee', 'keyboard', 'banana', 'car', 'kite', 'stop sign', 'fork', 'dining table', 'parking meter', 'spoon'])\n"
     ]
    }
   ],
   "source": [
    "print (tagDict.keys())"
   ]
  },
  {
   "cell_type": "code",
   "execution_count": 31,
   "metadata": {
    "collapsed": false
   },
   "outputs": [
    {
     "name": "stdout",
     "output_type": "stream",
     "text": [
      "dict_values([344, 287, 330, 498, 389, 354, 293, 218, 178, 239, 331, 305, 86, 217, 168, 130, 162, 276, 707, 246, 138, 117, 214, 351, 746, 303, 310, 158, 204, 284, 112, 1029, 106, 441, 198, 428, 122, 327, 436, 221, 475, 265, 11, 339, 193, 305, 151, 121, 446, 391, 79, 327, 321, 5322, 72, 592, 216, 597, 330, 256, 356, 128, 177, 183, 314, 357, 237, 207, 23, 188, 194, 169, 169, 1021, 200, 141, 267, 959, 57, 292])\n"
     ]
    }
   ],
   "source": [
    "print (tagDict.values())"
   ]
  },
  {
   "cell_type": "code",
   "execution_count": 32,
   "metadata": {
    "collapsed": false
   },
   "outputs": [],
   "source": [
    "def createBag(num,tagFolder):\n",
    "    tags = {}\n",
    "    for n in range(num):\n",
    "        f = tagFolder +\"/\" + str(n) + \".txt\"\n",
    "        fileTags = readTagsFile(f)\n",
    "        #newTags = stemTags(fileTags) - maybe add stemming - Francesco\n",
    "        for t in fileTags:\n",
    "            if t not in tags.keys():\n",
    "                tags[t] = 0\n",
    "    return tags\n",
    "\n",
    "def stemTags(lst):\n",
    "    newTags = []\n",
    "    for word in lst:\n",
    "        stem = str(PorterStemmer().stem(word))\n",
    "        newTags.append(stem)\n",
    "    return newTags\n",
    "\n",
    "def indexBag(bag):\n",
    "    idx = 0\n",
    "    for tag in bag.keys():\n",
    "        bag[tag] = idx\n",
    "        idx+=1\n",
    "    return bag\n",
    "\n",
    "def getTagVectors(num,tagFolder,indexedTagBag):\n",
    "    tagVecs = np.zeros((num,len(indexedTagBag.keys()))) #2D Array of size (file number, len(indexedBagTag.keys))\n",
    "    for n in range(num):\n",
    "        f = tagFolder +\"/\" + str(n) + \".txt\"\n",
    "        fileTags = readTagsFile(f)\n",
    "        #newTags = stemTags(fileTags) - maybe add stemming - Francesco\n",
    "        for tag in fileTags:\n",
    "            if tag in indexedTagBag.keys():\n",
    "                tagVecs[n,indexedTagBag[tag]] = 1\n",
    "            else:\n",
    "                print (str(tag) + \" is not in the tag BOW\")\n",
    "    return pd.DataFrame(tagVecs,columns = indexedTagBag.keys())"
   ]
  },
  {
   "cell_type": "code",
   "execution_count": 33,
   "metadata": {
    "collapsed": true
   },
   "outputs": [],
   "source": [
    "tagBag = createBag(numTrain,tagsTrainFolder)\n",
    "indexedTagBag = indexBag(tagBag)"
   ]
  },
  {
   "cell_type": "code",
   "execution_count": 34,
   "metadata": {
    "collapsed": true
   },
   "outputs": [],
   "source": [
    "tagVectors = getTagVectors(numTrain,tagsTrainFolder,indexedTagBag)"
   ]
  },
  {
   "cell_type": "code",
   "execution_count": 35,
   "metadata": {
    "collapsed": false
   },
   "outputs": [
    {
     "data": {
      "text/plain": [
       "(10000, 80)"
      ]
     },
     "execution_count": 35,
     "metadata": {},
     "output_type": "execute_result"
    }
   ],
   "source": [
    "tagVectors.shape"
   ]
  },
  {
   "cell_type": "markdown",
   "metadata": {},
   "source": [
    "# Descriptions Processing"
   ]
  },
  {
   "cell_type": "code",
   "execution_count": 36,
   "metadata": {
    "collapsed": true
   },
   "outputs": [],
   "source": [
    "def getStopWords():\n",
    "    return set(stopwords.words(\"english\"))\n",
    "\n",
    "def lowerCase(x):\n",
    "    return x.lower()\n",
    "\n",
    "def lemmatize(lmt,x):\n",
    "    return lmt.lemmatize(x)\n",
    "\n",
    "def getPos(line):\n",
    "    return pos_tag(line)\n",
    "\n",
    "def tokenize(line):\n",
    "    return line.split()\n",
    "\n",
    "def stripPunctuation(s):\n",
    "    regex = re.compile('[%s]' % re.escape(string.punctuation))\n",
    "    return regex.sub(' ', s)\n",
    "\n",
    "def stemmer(line):\n",
    "    stemmer = PorterStemmer()\n",
    "    stemmedLine = []\n",
    "    for word in line:\n",
    "        #if pos == \"NN\": #only stem nouns\n",
    "        stem = stemmer.stem(word)\n",
    "        stemmedLine.append(stem)\n",
    "    return stemmedLine \n",
    "\n",
    "def stemmedDescriptions(lst):\n",
    "    stemmedDescriptions = []\n",
    "    for line in lst:\n",
    "        tokenizedLine = tokenize(line)\n",
    "        stemmedDescriptions.append(stemmer(tokenizedLine))\n",
    "    return stemmedDescriptions\n"
   ]
  },
  {
   "cell_type": "code",
   "execution_count": 40,
   "metadata": {
    "collapsed": true
   },
   "outputs": [],
   "source": [
    "def createBag(num,descFolder):\n",
    "    bag = {}\n",
    "    stopWords = getStopWords()\n",
    "    for n in range(num):\n",
    "        f = descFolder +\"/\" + str(n) + \".txt\"\n",
    "        fileDescriptions = readDescriptionFile(f) #2D Array\n",
    "        stemDescriptions = stemmedDescriptions(fileDescriptions) #applying stemming so to aggregate similar words\n",
    "        for desc in stemDescriptions:\n",
    "            for word in desc:\n",
    "                lowerWord = lowerCase(word)\n",
    "                if str(lowerWord) not in bag.keys() and str(lowerWord) != \"\" and str(lowerWord) not in stopWords:\n",
    "                    bag[str(lowerWord)] = 0 \n",
    "    return bag\n",
    "\n",
    "def indexBag(bag):\n",
    "    idx = 0\n",
    "    for tag in bag.keys():\n",
    "        bag[tag] = idx\n",
    "        idx+=1\n",
    "    return bag\n",
    "\n",
    "def binaryVectorizeDescriptions(num,descFolder,indexedDescBag):\n",
    "    stopWords = getStopWords()\n",
    "    featureVectorList = []\n",
    "    for n in range(num):\n",
    "        imageTagVec = [0.0 for tag in range(len(indexedDescBag.keys()))]\n",
    "        f = descFolder +\"/\" + str(n) + \".txt\"\n",
    "        fileDescriptions = readDescriptionFile(f) #2D Array\n",
    "        stemDescriptions = stemmedDescriptions(fileDescriptions) #applying stemming so to aggregate similar words\n",
    "        for desc in stemDescriptions:\n",
    "            for word in desc:\n",
    "                lowerWord = lowerCase(word)\n",
    "                if str(lowerWord) in indexedDescBag.keys() and str(lowerWord) != \"\" and str(lowerWord) not in stopWords:\n",
    "                    imageTagVec[indexedDescBag[str(lowerWord)]] +=1.0\n",
    "        featureVectorList.append(imageTagVec)\n",
    "    return pd.DataFrame(featureVectorList,columns = indexedDescBag.keys())"
   ]
  },
  {
   "cell_type": "code",
   "execution_count": 41,
   "metadata": {
    "collapsed": true
   },
   "outputs": [],
   "source": [
    "descBag = createBag(numTrain,descriptionTrainFolder)\n",
    "indexedDescBag = indexBag(descBag)"
   ]
  },
  {
   "cell_type": "code",
   "execution_count": 42,
   "metadata": {
    "collapsed": false
   },
   "outputs": [],
   "source": [
    "descVectors = binaryVectorizeDescriptions(numTrain,descriptionTrainFolder,indexedDescBag)"
   ]
  },
  {
   "cell_type": "code",
   "execution_count": 43,
   "metadata": {
    "collapsed": false
   },
   "outputs": [],
   "source": [
    "normalizedDescVector = descVectors.div(descVectors.sum(axis=1), axis=0)"
   ]
  },
  {
   "cell_type": "code",
   "execution_count": 44,
   "metadata": {
    "collapsed": false
   },
   "outputs": [
    {
     "name": "stdout",
     "output_type": "stream",
     "text": [
      "(10000, 6456)\n"
     ]
    }
   ],
   "source": [
    "print (normalizedDescVector.shape)"
   ]
  },
  {
   "cell_type": "code",
   "execution_count": null,
   "metadata": {
    "collapsed": true
   },
   "outputs": [],
   "source": []
  },
  {
   "cell_type": "code",
   "execution_count": null,
   "metadata": {
    "collapsed": true
   },
   "outputs": [],
   "source": []
  },
  {
   "cell_type": "code",
   "execution_count": null,
   "metadata": {
    "collapsed": true
   },
   "outputs": [],
   "source": []
  },
  {
   "cell_type": "code",
   "execution_count": null,
   "metadata": {
    "collapsed": true
   },
   "outputs": [],
   "source": []
  },
  {
   "cell_type": "code",
   "execution_count": null,
   "metadata": {
    "collapsed": true
   },
   "outputs": [],
   "source": []
  },
  {
   "cell_type": "code",
   "execution_count": null,
   "metadata": {
    "collapsed": true
   },
   "outputs": [],
   "source": []
  },
  {
   "cell_type": "code",
   "execution_count": null,
   "metadata": {
    "collapsed": true
   },
   "outputs": [],
   "source": []
  },
  {
   "cell_type": "code",
   "execution_count": null,
   "metadata": {
    "collapsed": true
   },
   "outputs": [],
   "source": []
  },
  {
   "cell_type": "code",
   "execution_count": null,
   "metadata": {
    "collapsed": true
   },
   "outputs": [],
   "source": []
  },
  {
   "cell_type": "code",
   "execution_count": null,
   "metadata": {
    "collapsed": true
   },
   "outputs": [],
   "source": []
  },
  {
   "cell_type": "code",
   "execution_count": null,
   "metadata": {
    "collapsed": true
   },
   "outputs": [],
   "source": []
  },
  {
   "cell_type": "code",
   "execution_count": null,
   "metadata": {
    "collapsed": true
   },
   "outputs": [],
   "source": []
  },
  {
   "cell_type": "code",
   "execution_count": null,
   "metadata": {
    "collapsed": true
   },
   "outputs": [],
   "source": []
  },
  {
   "cell_type": "code",
   "execution_count": null,
   "metadata": {
    "collapsed": true
   },
   "outputs": [],
   "source": []
  },
  {
   "cell_type": "markdown",
   "metadata": {
    "collapsed": true
   },
   "source": [
    "# Binary representation of images"
   ]
  },
  {
   "cell_type": "code",
   "execution_count": 95,
   "metadata": {
    "collapsed": false
   },
   "outputs": [],
   "source": [
    "mlb = MultiLabelBinarizer()\n",
    "binImages = mlb.fit_transform(consolMatrix)"
   ]
  },
  {
   "cell_type": "markdown",
   "metadata": {},
   "source": [
    "# SVM"
   ]
  },
  {
   "cell_type": "code",
   "execution_count": 45,
   "metadata": {
    "collapsed": true
   },
   "outputs": [],
   "source": [
    "def SVM(train,trainLabel,test):\n",
    "#     clf = SVC()\n",
    "#     clf.fit(train,trainLabel)\n",
    "#     preds = clf.predict(test)\n",
    "    preds = OneVsRestClassifier(LinearSVC(random_state=0)).fit(train, trainLabel).predict(test)\n",
    "    return preds"
   ]
  },
  {
   "cell_type": "code",
   "execution_count": 54,
   "metadata": {
    "collapsed": true
   },
   "outputs": [],
   "source": [
    "def crossValidate(data,labels, classifier):\n",
    "    kf = KFold(len(data),3)\n",
    "    for trainIdx,testIdx in kf:\n",
    "        c = 0\n",
    "        train = np.array([data[idx] for idx in trainIdx])\n",
    "        test = np.array([data[idx] for idx in testIdx])\n",
    "        trainLabels = np.array([labels[idx] for idx in trainIdx])\n",
    "        testLabels = np.array([labels[idx] for idx in testIdx])\n",
    "        print (train.shape,trainLabels.shape)\n",
    "        testPreds = classifier(train,trainLabels,test)\n",
    "        for i in range(len(testPreds)):\n",
    "            if np.array_equal(testPreds[i],testLabels[i]):\n",
    "                c+=1\n",
    "        print (c)\n",
    "        print (float(len(testPreds)))\n",
    "        print (\"Accuracy: \" + str(c/float(len(testPreds))))"
   ]
  },
  {
   "cell_type": "code",
   "execution_count": null,
   "metadata": {
    "collapsed": true
   },
   "outputs": [],
   "source": [
    "# def LookUpFunction(label, allLabelsData):\n",
    "#     clusterMembers = []\n",
    "#     for row in allLabelsData:\n",
    "#         if label == row[-1]:\n",
    "#             clusterMembers.append(row)\n",
    "#     return clusterMembers"
   ]
  },
  {
   "cell_type": "code",
   "execution_count": null,
   "metadata": {
    "collapsed": true
   },
   "outputs": [],
   "source": [
    "#  def MAP(i):\n",
    "#     score = (126 - i)/float(125)\n",
    "#     return score"
   ]
  },
  {
   "cell_type": "code",
   "execution_count": null,
   "metadata": {
    "collapsed": true
   },
   "outputs": [],
   "source": [
    "# def crossValidate1CO(data,labels, classifier):\n",
    "#     kf = KFold(len(data),3)\n",
    "#     totalAvgMap = []\n",
    "#     for trainIdx,testIdx in kf:\n",
    "#         c = 0\n",
    "#         train = np.array([data[idx] for idx in trainIdx])\n",
    "#         test = np.array([data[idx] for idx in testIdx])\n",
    "#         trainLabels = np.array([labels[idx][-1] for idx in trainIdx])\n",
    "#         trainLabelsAll = np.array([labels[idx] for idx in trainIdx])\n",
    "#         testLabels = np.array([labels[idx][-1] for idx in testIdx])\n",
    "#         testLabelsAll = np.array([labels[idx] for idx in testIdx])\n",
    "#         print (train.shape,trainLabels.shape)\n",
    "#         testPreds = classifier(train,trainLabels,test)\n",
    "#         for i in range(len(testPreds)):\n",
    "#             if np.array_equal(testPreds[i],testLabels[i]):\n",
    "#                 c+=1\n",
    "#             clusterMembersFullFeature = lookUpFunction(testPreds[i], testLabelsAll)\n",
    "#             labelFullFeature = testLabelsAll[i]\n",
    "#             mapScores.append(MAP(clusterMembersFullFeature))\n",
    "#         print (c)\n",
    "#         print (float(len(testPreds)))\n",
    "#         print (\"Accuracy: \" + str(c/float(len(testPreds))))"
   ]
  },
  {
   "cell_type": "markdown",
   "metadata": {},
   "source": [
    "# Logistic Regression"
   ]
  },
  {
   "cell_type": "code",
   "execution_count": 46,
   "metadata": {
    "collapsed": false
   },
   "outputs": [],
   "source": [
    "def logRegression(train,trainLabel,test):\n",
    "    preds = OneVsRestClassifier(LogisticRegression(C = .1)).fit(train, trainLabel).predict(test)\n",
    "    return preds"
   ]
  },
  {
   "cell_type": "code",
   "execution_count": 74,
   "metadata": {
    "collapsed": false
   },
   "outputs": [],
   "source": [
    "# crossValidate(allFeatures.values,tagVectors.values, logRegression)"
   ]
  },
  {
   "cell_type": "markdown",
   "metadata": {},
   "source": [
    "# Naive Bayes"
   ]
  },
  {
   "cell_type": "code",
   "execution_count": 47,
   "metadata": {
    "collapsed": true
   },
   "outputs": [],
   "source": [
    "from sklearn.naive_bayes import GaussianNB,BernoulliNB,MultinomialNB"
   ]
  },
  {
   "cell_type": "code",
   "execution_count": 48,
   "metadata": {
    "collapsed": true
   },
   "outputs": [],
   "source": [
    "def naiveBayesG(train,trainLabel,test):\n",
    "    preds = OneVsRestClassifier(GaussianNB()).fit(train, trainLabel).predict(test)\n",
    "    return preds"
   ]
  },
  {
   "cell_type": "code",
   "execution_count": 49,
   "metadata": {
    "collapsed": true
   },
   "outputs": [],
   "source": [
    "def naiveBayesB(train,trainLabel,test):\n",
    "    preds = OneVsRestClassifier(BernoulliNB()).fit(train, trainLabel).predict(test)\n",
    "    return preds"
   ]
  },
  {
   "cell_type": "code",
   "execution_count": 50,
   "metadata": {
    "collapsed": true
   },
   "outputs": [],
   "source": [
    "def naiveBayesM(train,trainLabel,test):\n",
    "    preds = OneVsRestClassifier(MultinomialNB()).fit(train, trainLabel).predict(test)\n",
    "    return preds"
   ]
  },
  {
   "cell_type": "code",
   "execution_count": null,
   "metadata": {
    "collapsed": true
   },
   "outputs": [],
   "source": []
  },
  {
   "cell_type": "markdown",
   "metadata": {},
   "source": [
    "# Random Forest"
   ]
  },
  {
   "cell_type": "code",
   "execution_count": 51,
   "metadata": {
    "collapsed": true
   },
   "outputs": [],
   "source": [
    "from sklearn.ensemble import RandomForestClassifier"
   ]
  },
  {
   "cell_type": "code",
   "execution_count": 52,
   "metadata": {
    "collapsed": true
   },
   "outputs": [],
   "source": [
    "def randomForest(train,trainLabel,test):\n",
    "    preds = OneVsRestClassifier(RandomForestClassifier()).fit(train, trainLabel).predict(test)\n",
    "    return preds"
   ]
  },
  {
   "cell_type": "markdown",
   "metadata": {},
   "source": [
    "# Cross Validation, KNN, and MAP"
   ]
  },
  {
   "cell_type": "code",
   "execution_count": 47,
   "metadata": {
    "collapsed": true
   },
   "outputs": [],
   "source": [
    "def kNN(tags,k,preds):\n",
    "    model = NearestNeighbors(n_neighbors= k , algorithm='kd_tree').fit(tags)\n",
    "    dist,idxs = model.kneighbors(preds)\n",
    "    return dist,idxs\n",
    "\n",
    "def MAP(i):\n",
    "    score = (126 - i)/float(125)\n",
    "    return score"
   ]
  },
  {
   "cell_type": "code",
   "execution_count": null,
   "metadata": {
    "collapsed": true
   },
   "outputs": [],
   "source": [
    "def crossValidate2(data,labels,classifier):\n",
    "    \"\"\"\n",
    "    data = training data\n",
    "    labels = training data labels\n",
    "    algo = algorithmn that creates predictions\n",
    "    \"\"\"\n",
    "    totalAvgMap = []\n",
    "    totalAvgAcc = []\n",
    "    kf =KFold(len(data),3)\n",
    "    for trainIdx,testIdx in kf:\n",
    "        mapScores=[]\n",
    "        c = 0\n",
    "        train = np.array([data[idx] for idx in trainIdx])\n",
    "        test = np.array([data[idx] for idx in testIdx])\n",
    "        trainLabels = np.array([labels[idx] for idx in trainIdx])\n",
    "        testLabels = np.array([labels[idx] for idx in testIdx])\n",
    "        testPreds = classifier(train,trainLabels,test,1)\n",
    "        for i in range(len(testPreds)):\n",
    "            if np.array_equal(testPreds[i],testLabels[i]):\n",
    "                c+=1\n",
    "        dist,kNNPreds = kNN(testLabels,125,testPreds)\n",
    "        for i in range(len(kNNPreds)):\n",
    "            if i in kNNPreds[i]:\n",
    "                rankI = list(kNNPreds[i]).index(i)\n",
    "                mapScores.append(MAP(rankI))\n",
    "            else:\n",
    "                mapScores.append(0)\n",
    "        avgMAP = sum(mapScores)/float(len(mapScores))\n",
    "        print (\"avgMAP: \" + str(avgMAP))\n",
    "        print \"Accuracy: \" + str(c/float(len(testPreds))) + \" ,(\" + str(c) + \"/\" + str(len(testPreds)) + \")\"\n",
    "        totalAvgMap.append(avgMAP)\n",
    "        totalAvgAcc.append(c/float(len(testPreds)))\n",
    "    print \"Average MAP: \" +str(np.array(totalAvgMap).mean())\n",
    "    print \"Average Accuracy: \" + str(np.array(totalAvgAcc).mean())"
   ]
  },
  {
   "cell_type": "code",
   "execution_count": 90,
   "metadata": {
    "collapsed": true
   },
   "outputs": [],
   "source": [
    "def LookUpFunction(label, allLabelsData):\n",
    "    clusterMembers = []\n",
    "    for row in allLabelsData:\n",
    "        if label == row[-1]:\n",
    "            clusterMembers.append(row)\n",
    "    return clusterMembers"
   ]
  },
  {
   "cell_type": "code",
   "execution_count": null,
   "metadata": {
    "collapsed": true
   },
   "outputs": [],
   "source": [
    "def crossValidateCO(data,labels,classifier):\n",
    "    \"\"\"\n",
    "    data = training data\n",
    "    labels = training data labels\n",
    "    algo = algorithmn that creates predictions\n",
    "    \"\"\"\n",
    "    totalAvgMap = []\n",
    "    totalAvgAcc = []\n",
    "    kf =KFold(len(data),3)\n",
    "    for trainIdx,testIdx in kf:\n",
    "        mapScores=[]\n",
    "        c = 0\n",
    "        train = np.array([data[idx] for idx in trainIdx])\n",
    "        test = np.array([data[idx] for idx in testIdx])\n",
    "        trainLabels = np.array([labels[idx][-1] for idx in trainIdx])\n",
    "        trainLabelsAll = np.array([labels[idx] for idx in trainIdx])\n",
    "        testLabels = np.array([labels[idx][-1] for idx in testIdx])\n",
    "        testLabelsAll = np.array([labels[idx] for idx in testIdx])\n",
    "        testPreds = classifier(train,trainLabels,test,1)\n",
    "        for i in range(len(testPreds)):\n",
    "            if np.array_equal(testPreds[i],testLabels[i]):\n",
    "                c+=1\n",
    "        dist,kNNPreds = kNN(testLabelk,125,testPreds)\n",
    "        for i in range\n",
    "        \n",
    "        \n",
    "        for i in range(len(kNNPreds)):\n",
    "            if i in kNNPreds[i]:\n",
    "                rankI = list(kNNPreds[i]).index(i)\n",
    "                mapScores.append(MAP(rankI))\n",
    "            else:\n",
    "                mapScores.append(0)\n",
    "        avgMAP = sum(mapScores)/float(len(mapScores))\n",
    "        print (\"avgMAP: \" + str(avgMAP))\n",
    "        print \"Accuracy: \" + str(c/float(len(testPreds))) + \" ,(\" + str(c) + \"/\" + str(len(testPreds)) + \")\"\n",
    "        totalAvgMap.append(avgMAP)\n",
    "        totalAvgAcc.append(c/float(len(testPreds)))\n",
    "    print (\"Average MAP: \" +str(np.array(totalAvgMap).mean()))\n",
    "    print (\"Average Accuracy: \" + str(np.array(totalAvgAcc).mean()))"
   ]
  },
  {
   "cell_type": "code",
   "execution_count": 82,
   "metadata": {
    "collapsed": true
   },
   "outputs": [],
   "source": [
    "# crossValidate(descVectors.values,tagVectors.values,logRegression)"
   ]
  },
  {
   "cell_type": "markdown",
   "metadata": {},
   "source": [
    "# Using clustered image class labels"
   ]
  },
  {
   "cell_type": "code",
   "execution_count": null,
   "metadata": {
    "collapsed": false
   },
   "outputs": [
    {
     "name": "stdout",
     "output_type": "stream",
     "text": [
      "(6666, 6457) (6666,)\n"
     ]
    }
   ],
   "source": [
    "crossValidate(normalizedDescVector.values, resnetLabels, SVM)"
   ]
  },
  {
   "cell_type": "code",
   "execution_count": null,
   "metadata": {
    "collapsed": true
   },
   "outputs": [],
   "source": [
    "softMaxDF.values[0][-1]"
   ]
  },
  {
   "cell_type": "code",
   "execution_count": 49,
   "metadata": {
    "collapsed": false
   },
   "outputs": [
    {
     "data": {
      "text/plain": [
       "((10000, 6456), 10000)"
      ]
     },
     "execution_count": 49,
     "metadata": {},
     "output_type": "execute_result"
    }
   ],
   "source": [
    "normalizedDescVector.shape, len(resnetLabels)"
   ]
  },
  {
   "cell_type": "code",
   "execution_count": 50,
   "metadata": {
    "collapsed": false
   },
   "outputs": [],
   "source": [
    "clusterDF = normalizedDescVector\n",
    "clusterDF[\"resNet Labels\"] = resnetLabels "
   ]
  },
  {
   "cell_type": "code",
   "execution_count": 51,
   "metadata": {
    "collapsed": false
   },
   "outputs": [
    {
     "data": {
      "text/html": [
       "<div>\n",
       "<table border=\"1\" class=\"dataframe\">\n",
       "  <thead>\n",
       "    <tr style=\"text-align: right;\">\n",
       "      <th></th>\n",
       "      <th>unison</th>\n",
       "      <th>surgic</th>\n",
       "      <th>sprint</th>\n",
       "      <th>op</th>\n",
       "      <th>anim</th>\n",
       "      <th>chip</th>\n",
       "      <th>twig</th>\n",
       "      <th>carniv</th>\n",
       "      <th>scene</th>\n",
       "      <th>interst</th>\n",
       "      <th>...</th>\n",
       "      <th>cab</th>\n",
       "      <th>footlong</th>\n",
       "      <th>fie</th>\n",
       "      <th>analog</th>\n",
       "      <th>ten</th>\n",
       "      <th>dispens</th>\n",
       "      <th>machin</th>\n",
       "      <th>recycl</th>\n",
       "      <th>held</th>\n",
       "      <th>resNet Labels</th>\n",
       "    </tr>\n",
       "  </thead>\n",
       "  <tbody>\n",
       "    <tr>\n",
       "      <th>0</th>\n",
       "      <td>0</td>\n",
       "      <td>0</td>\n",
       "      <td>0</td>\n",
       "      <td>0</td>\n",
       "      <td>0</td>\n",
       "      <td>0</td>\n",
       "      <td>0</td>\n",
       "      <td>0</td>\n",
       "      <td>0</td>\n",
       "      <td>0</td>\n",
       "      <td>...</td>\n",
       "      <td>0</td>\n",
       "      <td>0</td>\n",
       "      <td>0</td>\n",
       "      <td>0</td>\n",
       "      <td>0</td>\n",
       "      <td>0</td>\n",
       "      <td>0</td>\n",
       "      <td>0</td>\n",
       "      <td>0</td>\n",
       "      <td>31</td>\n",
       "    </tr>\n",
       "    <tr>\n",
       "      <th>1</th>\n",
       "      <td>0</td>\n",
       "      <td>0</td>\n",
       "      <td>0</td>\n",
       "      <td>0</td>\n",
       "      <td>0</td>\n",
       "      <td>0</td>\n",
       "      <td>0</td>\n",
       "      <td>0</td>\n",
       "      <td>0</td>\n",
       "      <td>0</td>\n",
       "      <td>...</td>\n",
       "      <td>0</td>\n",
       "      <td>0</td>\n",
       "      <td>0</td>\n",
       "      <td>0</td>\n",
       "      <td>0</td>\n",
       "      <td>0</td>\n",
       "      <td>0</td>\n",
       "      <td>0</td>\n",
       "      <td>0</td>\n",
       "      <td>2</td>\n",
       "    </tr>\n",
       "  </tbody>\n",
       "</table>\n",
       "<p>2 rows × 6457 columns</p>\n",
       "</div>"
      ],
      "text/plain": [
       "   unison  surgic  sprint  op  anim  chip  twig  carniv  scene  interst  \\\n",
       "0       0       0       0   0     0     0     0       0      0        0   \n",
       "1       0       0       0   0     0     0     0       0      0        0   \n",
       "\n",
       "       ...        cab  footlong  fie  analog  ten  dispens  machin  recycl  \\\n",
       "0      ...          0         0    0       0    0        0       0       0   \n",
       "1      ...          0         0    0       0    0        0       0       0   \n",
       "\n",
       "   held  resNet Labels  \n",
       "0     0             31  \n",
       "1     0              2  \n",
       "\n",
       "[2 rows x 6457 columns]"
      ]
     },
     "execution_count": 51,
     "metadata": {},
     "output_type": "execute_result"
    }
   ],
   "source": [
    "clusterDF.head(2)"
   ]
  },
  {
   "cell_type": "code",
   "execution_count": 52,
   "metadata": {
    "collapsed": false
   },
   "outputs": [
    {
     "name": "stdout",
     "output_type": "stream",
     "text": [
      "(6666, 6457) (6666, 80)\n",
      "562\n",
      "3334.0\n",
      "Accuracy: 0.16856628674265148\n",
      "(6667, 6457) (6667, 80)\n",
      "1082\n",
      "3333.0\n",
      "Accuracy: 0.3246324632463246\n",
      "(6667, 6457) (6667, 80)\n",
      "482\n",
      "3333.0\n",
      "Accuracy: 0.14461446144614462\n"
     ]
    }
   ],
   "source": [
    "crossValidate(clusterDF.values, tagVectors.values, SVM)"
   ]
  },
  {
   "cell_type": "markdown",
   "metadata": {
    "collapsed": true
   },
   "source": [
    "# Condensed Images"
   ]
  },
  {
   "cell_type": "code",
   "execution_count": 56,
   "metadata": {
    "collapsed": false
   },
   "outputs": [
    {
     "name": "stdout",
     "output_type": "stream",
     "text": [
      "(6666, 54) (6666, 80)\n",
      "386\n",
      "3334.0\n",
      "Accuracy: 0.11577684463107378\n",
      "(6667, 54) (6667, 80)\n",
      "381\n",
      "3333.0\n",
      "Accuracy: 0.11431143114311432\n",
      "(6667, 54) (6667, 80)\n",
      "377\n",
      "3333.0\n",
      "Accuracy: 0.11311131113111311\n"
     ]
    }
   ],
   "source": [
    "crossValidate(condensImageDF.values,tagVectors.values, SVM)"
   ]
  },
  {
   "cell_type": "code",
   "execution_count": 57,
   "metadata": {
    "collapsed": false
   },
   "outputs": [
    {
     "name": "stdout",
     "output_type": "stream",
     "text": [
      "(6666, 54) (6666, 80)\n",
      "465\n",
      "3334.0\n",
      "Accuracy: 0.13947210557888423\n",
      "(6667, 54) (6667, 80)\n",
      "460\n",
      "3333.0\n",
      "Accuracy: 0.13801380138013802\n",
      "(6667, 54) (6667, 80)\n",
      "457\n",
      "3333.0\n",
      "Accuracy: 0.13711371137113712\n"
     ]
    }
   ],
   "source": [
    "crossValidate(condensImageDF.values,tagVectors.values, randomForest)"
   ]
  },
  {
   "cell_type": "code",
   "execution_count": 58,
   "metadata": {
    "collapsed": false
   },
   "outputs": [
    {
     "name": "stdout",
     "output_type": "stream",
     "text": [
      "(6666, 54) (6666, 80)\n",
      "111\n",
      "3334.0\n",
      "Accuracy: 0.03329334133173365\n",
      "(6667, 54) (6667, 80)\n",
      "103\n",
      "3333.0\n",
      "Accuracy: 0.030903090309030903\n",
      "(6667, 54) (6667, 80)\n",
      "92\n",
      "3333.0\n",
      "Accuracy: 0.027602760276027604\n"
     ]
    }
   ],
   "source": [
    "crossValidate(condensImageDF.values,tagVectors.values, logRegression)"
   ]
  },
  {
   "cell_type": "code",
   "execution_count": 59,
   "metadata": {
    "collapsed": false
   },
   "outputs": [
    {
     "name": "stdout",
     "output_type": "stream",
     "text": [
      "(6666, 54) (6666, 80)\n",
      "17\n",
      "3334.0\n",
      "Accuracy: 0.005098980203959208\n",
      "(6667, 54) (6667, 80)\n",
      "12\n",
      "3333.0\n",
      "Accuracy: 0.0036003600360036\n",
      "(6667, 54) (6667, 80)\n",
      "7\n",
      "3333.0\n",
      "Accuracy: 0.0021002100210021\n"
     ]
    }
   ],
   "source": [
    "crossValidate(condensImageDF.values,tagVectors.values, naiveBayesB)"
   ]
  },
  {
   "cell_type": "code",
   "execution_count": 60,
   "metadata": {
    "collapsed": false
   },
   "outputs": [
    {
     "name": "stdout",
     "output_type": "stream",
     "text": [
      "(6666, 54) (6666, 80)\n",
      "0\n",
      "3334.0\n",
      "Accuracy: 0.0\n",
      "(6667, 54) (6667, 80)\n",
      "0\n",
      "3333.0\n",
      "Accuracy: 0.0\n",
      "(6667, 54) (6667, 80)\n",
      "2\n",
      "3333.0\n",
      "Accuracy: 0.0006000600060006001\n"
     ]
    }
   ],
   "source": [
    "crossValidate(condensImageDF.values,tagVectors.values, naiveBayesG)"
   ]
  },
  {
   "cell_type": "code",
   "execution_count": 61,
   "metadata": {
    "collapsed": false
   },
   "outputs": [
    {
     "name": "stdout",
     "output_type": "stream",
     "text": [
      "(6666, 54) (6666, 80)\n",
      "203\n",
      "3334.0\n",
      "Accuracy: 0.0608878224355129\n",
      "(6667, 54) (6667, 80)\n",
      "196\n",
      "3333.0\n",
      "Accuracy: 0.05880588058805881\n",
      "(6667, 54) (6667, 80)\n",
      "163\n",
      "3333.0\n",
      "Accuracy: 0.048904890489048905\n"
     ]
    }
   ],
   "source": [
    "crossValidate(condensImageDF.values,tagVectors.values, naiveBayesM)"
   ]
  },
  {
   "cell_type": "code",
   "execution_count": null,
   "metadata": {
    "collapsed": true
   },
   "outputs": [],
   "source": []
  },
  {
   "cell_type": "markdown",
   "metadata": {},
   "source": [
    "# All Features "
   ]
  },
  {
   "cell_type": "code",
   "execution_count": 71,
   "metadata": {
    "collapsed": false
   },
   "outputs": [
    {
     "name": "stdout",
     "output_type": "stream",
     "text": [
      "(6666, 1000) (6666, 80)\n",
      "628\n",
      "3334.0\n",
      "Accuracy: 0.1883623275344931\n",
      "(6667, 1000) (6667, 80)\n",
      "597\n",
      "3333.0\n",
      "Accuracy: 0.1791179117911791\n",
      "(6667, 1000) (6667, 80)\n",
      "627\n",
      "3333.0\n",
      "Accuracy: 0.18811881188118812\n"
     ]
    }
   ],
   "source": [
    "crossValidate(softMaxDF.values,tagVectors.values, SVM)"
   ]
  },
  {
   "cell_type": "code",
   "execution_count": 73,
   "metadata": {
    "collapsed": false
   },
   "outputs": [
    {
     "name": "stdout",
     "output_type": "stream",
     "text": [
      "(6666, 1000) (6666, 80)\n",
      "521\n",
      "3334.0\n",
      "Accuracy: 0.15626874625074985\n",
      "(6667, 1000) (6667, 80)\n",
      "493\n",
      "3333.0\n",
      "Accuracy: 0.1479147914791479\n",
      "(6667, 1000) (6667, 80)\n",
      "478\n",
      "3333.0\n",
      "Accuracy: 0.14341434143414342\n"
     ]
    }
   ],
   "source": [
    "crossValidate(softMaxDF.values,tagVectors.values, randomForest)"
   ]
  },
  {
   "cell_type": "markdown",
   "metadata": {},
   "source": [
    "# After PCA on Image"
   ]
  },
  {
   "cell_type": "code",
   "execution_count": 62,
   "metadata": {
    "collapsed": true
   },
   "outputs": [],
   "source": [
    "def reduceDimensions(x,ncomp):\n",
    "    #ncomp = number of components\n",
    "    pca = PCA(ncomp)\n",
    "    pca.fit(x)\n",
    "    newX = pca.transform(x)\n",
    "    return newX"
   ]
  },
  {
   "cell_type": "code",
   "execution_count": 63,
   "metadata": {
    "collapsed": true
   },
   "outputs": [],
   "source": [
    "imageMatrix = softMaxDF.values\n",
    "imagePCAArray= reduceDimensions(imageMatrix,200) #PCA rray\n",
    "PCAimageDF = pd.DataFrame(imagePCAArray)"
   ]
  },
  {
   "cell_type": "code",
   "execution_count": null,
   "metadata": {
    "collapsed": false
   },
   "outputs": [
    {
     "name": "stdout",
     "output_type": "stream",
     "text": [
      "(6666, 200) (6666, 80)\n",
      "585\n",
      "3334.0\n",
      "Accuracy: 0.1754649070185963\n",
      "(6667, 200) (6667, 80)\n",
      "568\n",
      "3333.0\n",
      "Accuracy: 0.1704170417041704\n",
      "(6667, 200) (6667, 80)\n"
     ]
    }
   ],
   "source": [
    "crossValidate(PCAimageDF.values,tagVectors.values, SVM)"
   ]
  },
  {
   "cell_type": "code",
   "execution_count": null,
   "metadata": {
    "collapsed": false
   },
   "outputs": [],
   "source": [
    "crossValidate(PCAimageDF.values,tagVectors.values, logRegression)"
   ]
  },
  {
   "cell_type": "code",
   "execution_count": 100,
   "metadata": {
    "collapsed": false
   },
   "outputs": [],
   "source": [
    "# crossValidate(allFeaturesRedNorm.values,tagVectors.values, logRegression)"
   ]
  },
  {
   "cell_type": "code",
   "execution_count": null,
   "metadata": {
    "collapsed": false
   },
   "outputs": [],
   "source": [
    "crossValidate(PCAimageDF.values,tagVectors.values, randomForest)"
   ]
  },
  {
   "cell_type": "code",
   "execution_count": null,
   "metadata": {
    "collapsed": true
   },
   "outputs": [],
   "source": [
    "crossValidate(PCAimageDF.values,tagVectors.values, naiveBayesG)"
   ]
  },
  {
   "cell_type": "code",
   "execution_count": null,
   "metadata": {
    "collapsed": true
   },
   "outputs": [],
   "source": [
    "crossValidate(PCAimageDF.values,tagVectors.values, naiveBayesB)"
   ]
  },
  {
   "cell_type": "code",
   "execution_count": null,
   "metadata": {
    "collapsed": true
   },
   "outputs": [],
   "source": [
    "crossValidate(PCAimageDF.values,tagVectors.values, naiveBayesM)"
   ]
  },
  {
   "cell_type": "markdown",
   "metadata": {},
   "source": [
    "# After Dropping unecessary features"
   ]
  },
  {
   "cell_type": "code",
   "execution_count": 53,
   "metadata": {
    "collapsed": false
   },
   "outputs": [
    {
     "name": "stdout",
     "output_type": "stream",
     "text": [
      "(6666, 54) (6666, 80)\n",
      "386\n",
      "3334.0\n",
      "Accuracy: 0.11577684463107378\n",
      "(6667, 54) (6667, 80)\n",
      "381\n",
      "3333.0\n",
      "Accuracy: 0.11431143114311432\n",
      "(6667, 54) (6667, 80)\n",
      "377\n",
      "3333.0\n",
      "Accuracy: 0.11311131113111311\n"
     ]
    }
   ],
   "source": [
    "crossValidate(condensImageDF.values,tagVectors.values, SVM)"
   ]
  },
  {
   "cell_type": "code",
   "execution_count": 54,
   "metadata": {
    "collapsed": false
   },
   "outputs": [
    {
     "name": "stdout",
     "output_type": "stream",
     "text": [
      "(6666, 54) (6666, 80)\n",
      "111\n",
      "3334.0\n",
      "Accuracy: 0.03329334133173365\n",
      "(6667, 54) (6667, 80)\n",
      "103\n",
      "3333.0\n",
      "Accuracy: 0.030903090309030903\n",
      "(6667, 54) (6667, 80)\n",
      "92\n",
      "3333.0\n",
      "Accuracy: 0.027602760276027604\n"
     ]
    }
   ],
   "source": [
    "crossValidate(condensImageDF.values,tagVectors.values, logRegression)"
   ]
  },
  {
   "cell_type": "code",
   "execution_count": 67,
   "metadata": {
    "collapsed": false
   },
   "outputs": [
    {
     "name": "stdout",
     "output_type": "stream",
     "text": [
      "(6666, 54) (6666, 80)\n",
      "0\n",
      "3334.0\n",
      "Accuracy: 0.0\n",
      "(6667, 54) (6667, 80)\n",
      "0\n",
      "3333.0\n",
      "Accuracy: 0.0\n",
      "(6667, 54) (6667, 80)\n",
      "2\n",
      "3333.0\n",
      "Accuracy: 0.0006000600060006001\n"
     ]
    }
   ],
   "source": [
    "crossValidate(condensImageDF.values,tagVectors.values, naiveBayesG)"
   ]
  },
  {
   "cell_type": "code",
   "execution_count": 68,
   "metadata": {
    "collapsed": false
   },
   "outputs": [
    {
     "name": "stdout",
     "output_type": "stream",
     "text": [
      "(6666, 54) (6666, 80)\n",
      "17\n",
      "3334.0\n",
      "Accuracy: 0.005098980203959208\n",
      "(6667, 54) (6667, 80)\n",
      "12\n",
      "3333.0\n",
      "Accuracy: 0.0036003600360036\n",
      "(6667, 54) (6667, 80)\n",
      "7\n",
      "3333.0\n",
      "Accuracy: 0.0021002100210021\n"
     ]
    }
   ],
   "source": [
    "crossValidate(condensImageDF.values,tagVectors.values, naiveBayesB)"
   ]
  },
  {
   "cell_type": "code",
   "execution_count": 69,
   "metadata": {
    "collapsed": false
   },
   "outputs": [
    {
     "name": "stdout",
     "output_type": "stream",
     "text": [
      "(6666, 54) (6666, 80)\n",
      "203\n",
      "3334.0\n",
      "Accuracy: 0.0608878224355129\n",
      "(6667, 54) (6667, 80)\n",
      "196\n",
      "3333.0\n",
      "Accuracy: 0.05880588058805881\n",
      "(6667, 54) (6667, 80)\n",
      "163\n",
      "3333.0\n",
      "Accuracy: 0.048904890489048905\n"
     ]
    }
   ],
   "source": [
    "crossValidate(condensImageDF.values,tagVectors.values, naiveBayesM)"
   ]
  },
  {
   "cell_type": "code",
   "execution_count": 70,
   "metadata": {
    "collapsed": false
   },
   "outputs": [
    {
     "name": "stdout",
     "output_type": "stream",
     "text": [
      "(6666, 54) (6666, 80)\n",
      "462\n",
      "3334.0\n",
      "Accuracy: 0.13857228554289142\n",
      "(6667, 54) (6667, 80)\n",
      "451\n",
      "3333.0\n",
      "Accuracy: 0.1353135313531353\n",
      "(6667, 54) (6667, 80)\n",
      "455\n",
      "3333.0\n",
      "Accuracy: 0.13651365136513652\n"
     ]
    }
   ],
   "source": [
    "crossValidate(condensImageDF.values,tagVectors.values, randomForest)"
   ]
  },
  {
   "cell_type": "markdown",
   "metadata": {},
   "source": [
    "# Condensed Image Features + Description Vectors"
   ]
  },
  {
   "cell_type": "code",
   "execution_count": null,
   "metadata": {
    "collapsed": true
   },
   "outputs": [],
   "source": [
    "allFeaturesConNonNorm= pd.concat([DescVectors , condensImageDF], axis = 0)"
   ]
  },
  {
   "cell_type": "code",
   "execution_count": null,
   "metadata": {
    "collapsed": true
   },
   "outputs": [],
   "source": [
    "allFeaturesConNorm = pd.concat([normalizedDescVector , condensImageDF], axis = 0)"
   ]
  },
  {
   "cell_type": "code",
   "execution_count": null,
   "metadata": {
    "collapsed": true
   },
   "outputs": [],
   "source": [
    "crossValidate(callFeaturesConNonNorm.values,tagVectors.values, SVM)"
   ]
  },
  {
   "cell_type": "code",
   "execution_count": null,
   "metadata": {
    "collapsed": true
   },
   "outputs": [],
   "source": [
    "crossValidate(allFeaturesConNorm.values,tagVectors.values, SVM)"
   ]
  },
  {
   "cell_type": "code",
   "execution_count": null,
   "metadata": {
    "collapsed": true
   },
   "outputs": [],
   "source": [
    "crossValidate(callFeaturesConNonNorm.values,tagVectors.values, logRegression)"
   ]
  },
  {
   "cell_type": "code",
   "execution_count": null,
   "metadata": {
    "collapsed": true
   },
   "outputs": [],
   "source": [
    "crossValidate(allFeaturesConNorm.values,tagVectors.values, logRegression)"
   ]
  },
  {
   "cell_type": "code",
   "execution_count": null,
   "metadata": {
    "collapsed": true
   },
   "outputs": [],
   "source": [
    "crossValidate(callFeaturesConNonNorm.values,tagVectors.values, randomForest)"
   ]
  },
  {
   "cell_type": "code",
   "execution_count": null,
   "metadata": {
    "collapsed": true
   },
   "outputs": [],
   "source": [
    "crossValidate(callFeaturesConNorm.values,tagVectors.values, randomForest)"
   ]
  },
  {
   "cell_type": "code",
   "execution_count": null,
   "metadata": {
    "collapsed": true
   },
   "outputs": [],
   "source": [
    "crossValidate(callFeaturesConNonNorm.values,tagVectors.values, naiveBayesG)"
   ]
  },
  {
   "cell_type": "code",
   "execution_count": null,
   "metadata": {
    "collapsed": true
   },
   "outputs": [],
   "source": [
    "crossValidate(callFeaturesConNorm.values,tagVectors.values, naiveBayesG)"
   ]
  },
  {
   "cell_type": "code",
   "execution_count": null,
   "metadata": {
    "collapsed": true
   },
   "outputs": [],
   "source": [
    "crossValidate(callFeaturesConNonNorm.values,tagVectors.values, naiveBayesB)"
   ]
  },
  {
   "cell_type": "code",
   "execution_count": null,
   "metadata": {
    "collapsed": true
   },
   "outputs": [],
   "source": [
    "crossValidate(callFeaturesConNorm.values,tagVectors.values, naiveBayesB)"
   ]
  },
  {
   "cell_type": "code",
   "execution_count": null,
   "metadata": {
    "collapsed": true
   },
   "outputs": [],
   "source": [
    "crossValidate(callFeaturesConNonNorm.values,tagVectors.values, naiveBayesM)"
   ]
  },
  {
   "cell_type": "code",
   "execution_count": null,
   "metadata": {
    "collapsed": true
   },
   "outputs": [],
   "source": [
    "crossValidate(callFeaturesConNorm.values,tagVectors.values, naiveBayesM)"
   ]
  },
  {
   "cell_type": "markdown",
   "metadata": {},
   "source": [
    "# Generate Test Description Vectors"
   ]
  },
  {
   "cell_type": "code",
   "execution_count": 36,
   "metadata": {
    "collapsed": true
   },
   "outputs": [],
   "source": [
    "testDescVectors = binaryVectorizeDescriptions(numTest,descriptionTestFolder,indexedDescBag)"
   ]
  },
  {
   "cell_type": "code",
   "execution_count": 37,
   "metadata": {
    "collapsed": true
   },
   "outputs": [],
   "source": [
    "normalizedTestDescVector =testDescVectors.div(testDescVectors.sum(axis=1), axis=0) "
   ]
  },
  {
   "cell_type": "code",
   "execution_count": 38,
   "metadata": {
    "collapsed": false
   },
   "outputs": [
    {
     "name": "stdout",
     "output_type": "stream",
     "text": [
      "(10000, 6456) (10000, 80) (2000, 6456)\n"
     ]
    }
   ],
   "source": [
    "print (normalizedDescVector.shape,tagVectors.shape,normalizedTestDescVector.shape)"
   ]
  },
  {
   "cell_type": "markdown",
   "metadata": {},
   "source": [
    "# Generate Image Features"
   ]
  },
  {
   "cell_type": "code",
   "execution_count": 40,
   "metadata": {
    "collapsed": false
   },
   "outputs": [],
   "source": [
    "test_features_df  = cleanImageFeatures(\"../../final/data/features_test/features_resnet1000_test.csv\")"
   ]
  },
  {
   "cell_type": "code",
   "execution_count": 41,
   "metadata": {
    "collapsed": false
   },
   "outputs": [
    {
     "data": {
      "text/html": [
       "<div>\n",
       "<table border=\"1\" class=\"dataframe\">\n",
       "  <thead>\n",
       "    <tr style=\"text-align: right;\">\n",
       "      <th></th>\n",
       "      <th>1</th>\n",
       "      <th>2</th>\n",
       "      <th>3</th>\n",
       "      <th>4</th>\n",
       "      <th>5</th>\n",
       "      <th>6</th>\n",
       "      <th>7</th>\n",
       "      <th>8</th>\n",
       "      <th>9</th>\n",
       "      <th>10</th>\n",
       "      <th>...</th>\n",
       "      <th>991</th>\n",
       "      <th>992</th>\n",
       "      <th>993</th>\n",
       "      <th>994</th>\n",
       "      <th>995</th>\n",
       "      <th>996</th>\n",
       "      <th>997</th>\n",
       "      <th>998</th>\n",
       "      <th>999</th>\n",
       "      <th>1000</th>\n",
       "    </tr>\n",
       "  </thead>\n",
       "  <tbody>\n",
       "    <tr>\n",
       "      <th>523</th>\n",
       "      <td>0.000004</td>\n",
       "      <td>0.000020</td>\n",
       "      <td>0.000005</td>\n",
       "      <td>0.000005</td>\n",
       "      <td>0.000008</td>\n",
       "      <td>0.000009</td>\n",
       "      <td>1.787713e-07</td>\n",
       "      <td>0.000004</td>\n",
       "      <td>0.000002</td>\n",
       "      <td>7.082508e-07</td>\n",
       "      <td>...</td>\n",
       "      <td>6.326978e-07</td>\n",
       "      <td>2.368942e-06</td>\n",
       "      <td>6.305951e-06</td>\n",
       "      <td>0.000008</td>\n",
       "      <td>0.000011</td>\n",
       "      <td>0.000070</td>\n",
       "      <td>0.000185</td>\n",
       "      <td>3.289636e-06</td>\n",
       "      <td>0.000068</td>\n",
       "      <td>0.000019</td>\n",
       "    </tr>\n",
       "    <tr>\n",
       "      <th>1485</th>\n",
       "      <td>0.000048</td>\n",
       "      <td>0.000004</td>\n",
       "      <td>0.000011</td>\n",
       "      <td>0.000019</td>\n",
       "      <td>0.000010</td>\n",
       "      <td>0.000050</td>\n",
       "      <td>7.752077e-07</td>\n",
       "      <td>0.000039</td>\n",
       "      <td>0.000026</td>\n",
       "      <td>3.737710e-05</td>\n",
       "      <td>...</td>\n",
       "      <td>1.992100e-04</td>\n",
       "      <td>1.325652e-05</td>\n",
       "      <td>6.158723e-06</td>\n",
       "      <td>0.000024</td>\n",
       "      <td>0.000009</td>\n",
       "      <td>0.000313</td>\n",
       "      <td>0.000046</td>\n",
       "      <td>8.189401e-06</td>\n",
       "      <td>0.000245</td>\n",
       "      <td>0.000044</td>\n",
       "    </tr>\n",
       "    <tr>\n",
       "      <th>798</th>\n",
       "      <td>0.000177</td>\n",
       "      <td>0.000006</td>\n",
       "      <td>0.000019</td>\n",
       "      <td>0.000009</td>\n",
       "      <td>0.000296</td>\n",
       "      <td>0.000209</td>\n",
       "      <td>1.162106e-05</td>\n",
       "      <td>0.000003</td>\n",
       "      <td>0.000002</td>\n",
       "      <td>1.963639e-06</td>\n",
       "      <td>...</td>\n",
       "      <td>2.046373e-06</td>\n",
       "      <td>7.960216e-07</td>\n",
       "      <td>1.174392e-06</td>\n",
       "      <td>0.000008</td>\n",
       "      <td>0.000006</td>\n",
       "      <td>0.000017</td>\n",
       "      <td>0.000214</td>\n",
       "      <td>2.569785e-06</td>\n",
       "      <td>0.000198</td>\n",
       "      <td>0.000255</td>\n",
       "    </tr>\n",
       "    <tr>\n",
       "      <th>1910</th>\n",
       "      <td>0.000013</td>\n",
       "      <td>0.000058</td>\n",
       "      <td>0.000009</td>\n",
       "      <td>0.000007</td>\n",
       "      <td>0.000027</td>\n",
       "      <td>0.000093</td>\n",
       "      <td>6.085262e-06</td>\n",
       "      <td>0.000019</td>\n",
       "      <td>0.000004</td>\n",
       "      <td>6.307517e-06</td>\n",
       "      <td>...</td>\n",
       "      <td>5.351767e-06</td>\n",
       "      <td>6.359755e-06</td>\n",
       "      <td>1.501927e-06</td>\n",
       "      <td>0.000008</td>\n",
       "      <td>0.000008</td>\n",
       "      <td>0.000013</td>\n",
       "      <td>0.000079</td>\n",
       "      <td>2.049569e-06</td>\n",
       "      <td>0.000064</td>\n",
       "      <td>0.000007</td>\n",
       "    </tr>\n",
       "    <tr>\n",
       "      <th>765</th>\n",
       "      <td>0.000012</td>\n",
       "      <td>0.000999</td>\n",
       "      <td>0.000004</td>\n",
       "      <td>0.000006</td>\n",
       "      <td>0.000005</td>\n",
       "      <td>0.000078</td>\n",
       "      <td>1.300293e-06</td>\n",
       "      <td>0.000005</td>\n",
       "      <td>0.000017</td>\n",
       "      <td>5.445326e-07</td>\n",
       "      <td>...</td>\n",
       "      <td>1.537307e-04</td>\n",
       "      <td>2.446943e-06</td>\n",
       "      <td>8.829573e-07</td>\n",
       "      <td>0.000003</td>\n",
       "      <td>0.000001</td>\n",
       "      <td>0.000010</td>\n",
       "      <td>0.000014</td>\n",
       "      <td>3.782963e-07</td>\n",
       "      <td>0.000157</td>\n",
       "      <td>0.000115</td>\n",
       "    </tr>\n",
       "  </tbody>\n",
       "</table>\n",
       "<p>5 rows × 1000 columns</p>\n",
       "</div>"
      ],
      "text/plain": [
       "          1         2         3         4         5         6     \\\n",
       "523   0.000004  0.000020  0.000005  0.000005  0.000008  0.000009   \n",
       "1485  0.000048  0.000004  0.000011  0.000019  0.000010  0.000050   \n",
       "798   0.000177  0.000006  0.000019  0.000009  0.000296  0.000209   \n",
       "1910  0.000013  0.000058  0.000009  0.000007  0.000027  0.000093   \n",
       "765   0.000012  0.000999  0.000004  0.000006  0.000005  0.000078   \n",
       "\n",
       "              7         8         9             10      ...             991   \\\n",
       "523   1.787713e-07  0.000004  0.000002  7.082508e-07    ...     6.326978e-07   \n",
       "1485  7.752077e-07  0.000039  0.000026  3.737710e-05    ...     1.992100e-04   \n",
       "798   1.162106e-05  0.000003  0.000002  1.963639e-06    ...     2.046373e-06   \n",
       "1910  6.085262e-06  0.000019  0.000004  6.307517e-06    ...     5.351767e-06   \n",
       "765   1.300293e-06  0.000005  0.000017  5.445326e-07    ...     1.537307e-04   \n",
       "\n",
       "              992           993       994       995       996       997   \\\n",
       "523   2.368942e-06  6.305951e-06  0.000008  0.000011  0.000070  0.000185   \n",
       "1485  1.325652e-05  6.158723e-06  0.000024  0.000009  0.000313  0.000046   \n",
       "798   7.960216e-07  1.174392e-06  0.000008  0.000006  0.000017  0.000214   \n",
       "1910  6.359755e-06  1.501927e-06  0.000008  0.000008  0.000013  0.000079   \n",
       "765   2.446943e-06  8.829573e-07  0.000003  0.000001  0.000010  0.000014   \n",
       "\n",
       "              998       999       1000  \n",
       "523   3.289636e-06  0.000068  0.000019  \n",
       "1485  8.189401e-06  0.000245  0.000044  \n",
       "798   2.569785e-06  0.000198  0.000255  \n",
       "1910  2.049569e-06  0.000064  0.000007  \n",
       "765   3.782963e-07  0.000157  0.000115  \n",
       "\n",
       "[5 rows x 1000 columns]"
      ]
     },
     "execution_count": 41,
     "metadata": {},
     "output_type": "execute_result"
    }
   ],
   "source": [
    "test_features_df.head(5)"
   ]
  },
  {
   "cell_type": "code",
   "execution_count": 42,
   "metadata": {
    "collapsed": false
   },
   "outputs": [
    {
     "data": {
      "text/plain": [
       "(2000, 6456)"
      ]
     },
     "execution_count": 42,
     "metadata": {},
     "output_type": "execute_result"
    }
   ],
   "source": [
    "testDescVectors.shape"
   ]
  },
  {
   "cell_type": "code",
   "execution_count": 44,
   "metadata": {
    "collapsed": false
   },
   "outputs": [],
   "source": [
    "allFeaturesTest = pd.concat([testDescVectors, test_features_df], axis=1)"
   ]
  },
  {
   "cell_type": "code",
   "execution_count": 45,
   "metadata": {
    "collapsed": false
   },
   "outputs": [
    {
     "data": {
      "text/html": [
       "<div>\n",
       "<table border=\"1\" class=\"dataframe\">\n",
       "  <thead>\n",
       "    <tr style=\"text-align: right;\">\n",
       "      <th></th>\n",
       "      <th>ostrich</th>\n",
       "      <th>mottl</th>\n",
       "      <th>glacier</th>\n",
       "      <th>windsurf</th>\n",
       "      <th>mistleto</th>\n",
       "      <th>shepard</th>\n",
       "      <th>hairdryer</th>\n",
       "      <th>baseb</th>\n",
       "      <th>shiraz</th>\n",
       "      <th>sword</th>\n",
       "      <th>...</th>\n",
       "      <th>991</th>\n",
       "      <th>992</th>\n",
       "      <th>993</th>\n",
       "      <th>994</th>\n",
       "      <th>995</th>\n",
       "      <th>996</th>\n",
       "      <th>997</th>\n",
       "      <th>998</th>\n",
       "      <th>999</th>\n",
       "      <th>1000</th>\n",
       "    </tr>\n",
       "  </thead>\n",
       "  <tbody>\n",
       "    <tr>\n",
       "      <th>0</th>\n",
       "      <td>0</td>\n",
       "      <td>0</td>\n",
       "      <td>0</td>\n",
       "      <td>0</td>\n",
       "      <td>0</td>\n",
       "      <td>0</td>\n",
       "      <td>0</td>\n",
       "      <td>0</td>\n",
       "      <td>0</td>\n",
       "      <td>0</td>\n",
       "      <td>...</td>\n",
       "      <td>7.050232e-06</td>\n",
       "      <td>4.945572e-06</td>\n",
       "      <td>1.822565e-06</td>\n",
       "      <td>1.386467e-04</td>\n",
       "      <td>3.450955e-05</td>\n",
       "      <td>2.083199e-04</td>\n",
       "      <td>7.295125e-04</td>\n",
       "      <td>1.251105e-05</td>\n",
       "      <td>0.000932</td>\n",
       "      <td>7.770224e-06</td>\n",
       "    </tr>\n",
       "    <tr>\n",
       "      <th>1</th>\n",
       "      <td>0</td>\n",
       "      <td>0</td>\n",
       "      <td>0</td>\n",
       "      <td>0</td>\n",
       "      <td>0</td>\n",
       "      <td>0</td>\n",
       "      <td>0</td>\n",
       "      <td>0</td>\n",
       "      <td>0</td>\n",
       "      <td>0</td>\n",
       "      <td>...</td>\n",
       "      <td>5.751894e-06</td>\n",
       "      <td>2.867100e-05</td>\n",
       "      <td>9.202591e-07</td>\n",
       "      <td>5.221174e-04</td>\n",
       "      <td>8.539905e-06</td>\n",
       "      <td>3.405892e-04</td>\n",
       "      <td>1.648446e-03</td>\n",
       "      <td>6.362971e-06</td>\n",
       "      <td>0.000098</td>\n",
       "      <td>1.693950e-06</td>\n",
       "    </tr>\n",
       "    <tr>\n",
       "      <th>2</th>\n",
       "      <td>0</td>\n",
       "      <td>0</td>\n",
       "      <td>0</td>\n",
       "      <td>0</td>\n",
       "      <td>0</td>\n",
       "      <td>0</td>\n",
       "      <td>0</td>\n",
       "      <td>0</td>\n",
       "      <td>0</td>\n",
       "      <td>0</td>\n",
       "      <td>...</td>\n",
       "      <td>1.482548e-08</td>\n",
       "      <td>9.128361e-08</td>\n",
       "      <td>1.555763e-08</td>\n",
       "      <td>1.506080e-07</td>\n",
       "      <td>2.307519e-08</td>\n",
       "      <td>5.023202e-07</td>\n",
       "      <td>7.675554e-07</td>\n",
       "      <td>2.872066e-09</td>\n",
       "      <td>0.000001</td>\n",
       "      <td>2.561154e-08</td>\n",
       "    </tr>\n",
       "    <tr>\n",
       "      <th>3</th>\n",
       "      <td>0</td>\n",
       "      <td>0</td>\n",
       "      <td>0</td>\n",
       "      <td>0</td>\n",
       "      <td>0</td>\n",
       "      <td>0</td>\n",
       "      <td>0</td>\n",
       "      <td>0</td>\n",
       "      <td>0</td>\n",
       "      <td>0</td>\n",
       "      <td>...</td>\n",
       "      <td>1.978170e-07</td>\n",
       "      <td>7.451312e-08</td>\n",
       "      <td>1.432686e-08</td>\n",
       "      <td>2.891520e-08</td>\n",
       "      <td>4.216075e-07</td>\n",
       "      <td>1.751574e-07</td>\n",
       "      <td>1.996038e-06</td>\n",
       "      <td>8.546225e-08</td>\n",
       "      <td>0.000001</td>\n",
       "      <td>1.401783e-04</td>\n",
       "    </tr>\n",
       "    <tr>\n",
       "      <th>4</th>\n",
       "      <td>0</td>\n",
       "      <td>0</td>\n",
       "      <td>0</td>\n",
       "      <td>0</td>\n",
       "      <td>0</td>\n",
       "      <td>0</td>\n",
       "      <td>0</td>\n",
       "      <td>0</td>\n",
       "      <td>0</td>\n",
       "      <td>0</td>\n",
       "      <td>...</td>\n",
       "      <td>1.912408e-05</td>\n",
       "      <td>1.216749e-07</td>\n",
       "      <td>6.246040e-07</td>\n",
       "      <td>1.094127e-06</td>\n",
       "      <td>8.138523e-08</td>\n",
       "      <td>2.130135e-06</td>\n",
       "      <td>6.175514e-05</td>\n",
       "      <td>9.298702e-07</td>\n",
       "      <td>0.000079</td>\n",
       "      <td>1.106171e-03</td>\n",
       "    </tr>\n",
       "  </tbody>\n",
       "</table>\n",
       "<p>5 rows × 7456 columns</p>\n",
       "</div>"
      ],
      "text/plain": [
       "   ostrich  mottl  glacier  windsurf  mistleto  shepard  hairdryer  baseb  \\\n",
       "0        0      0        0         0         0        0          0      0   \n",
       "1        0      0        0         0         0        0          0      0   \n",
       "2        0      0        0         0         0        0          0      0   \n",
       "3        0      0        0         0         0        0          0      0   \n",
       "4        0      0        0         0         0        0          0      0   \n",
       "\n",
       "   shiraz  sword      ...                991           992           993  \\\n",
       "0       0      0      ...       7.050232e-06  4.945572e-06  1.822565e-06   \n",
       "1       0      0      ...       5.751894e-06  2.867100e-05  9.202591e-07   \n",
       "2       0      0      ...       1.482548e-08  9.128361e-08  1.555763e-08   \n",
       "3       0      0      ...       1.978170e-07  7.451312e-08  1.432686e-08   \n",
       "4       0      0      ...       1.912408e-05  1.216749e-07  6.246040e-07   \n",
       "\n",
       "            994           995           996           997           998  \\\n",
       "0  1.386467e-04  3.450955e-05  2.083199e-04  7.295125e-04  1.251105e-05   \n",
       "1  5.221174e-04  8.539905e-06  3.405892e-04  1.648446e-03  6.362971e-06   \n",
       "2  1.506080e-07  2.307519e-08  5.023202e-07  7.675554e-07  2.872066e-09   \n",
       "3  2.891520e-08  4.216075e-07  1.751574e-07  1.996038e-06  8.546225e-08   \n",
       "4  1.094127e-06  8.138523e-08  2.130135e-06  6.175514e-05  9.298702e-07   \n",
       "\n",
       "        999          1000  \n",
       "0  0.000932  7.770224e-06  \n",
       "1  0.000098  1.693950e-06  \n",
       "2  0.000001  2.561154e-08  \n",
       "3  0.000001  1.401783e-04  \n",
       "4  0.000079  1.106171e-03  \n",
       "\n",
       "[5 rows x 7456 columns]"
      ]
     },
     "execution_count": 45,
     "metadata": {},
     "output_type": "execute_result"
    }
   ],
   "source": [
    "allFeaturesTest.head(5)"
   ]
  },
  {
   "cell_type": "code",
   "execution_count": 46,
   "metadata": {
    "collapsed": false
   },
   "outputs": [
    {
     "data": {
      "text/plain": [
       "((10000, 7456), (10000, 80), (2000, 7456))"
      ]
     },
     "execution_count": 46,
     "metadata": {},
     "output_type": "execute_result"
    }
   ],
   "source": [
    "allFeaturesNonNorm.shape, tagVectors.shape, allFeaturesTest.shape"
   ]
  },
  {
   "cell_type": "code",
   "execution_count": 48,
   "metadata": {
    "collapsed": false
   },
   "outputs": [],
   "source": [
    "testPreds = logRegression(allFeaturesNonNorm.values,tagVectors.values,allFeaturesTest.values)"
   ]
  },
  {
   "cell_type": "code",
   "execution_count": 49,
   "metadata": {
    "collapsed": false
   },
   "outputs": [
    {
     "name": "stdout",
     "output_type": "stream",
     "text": [
      "(2000, 80)\n"
     ]
    }
   ],
   "source": [
    "print (testPreds.shape)"
   ]
  },
  {
   "cell_type": "markdown",
   "metadata": {},
   "source": [
    "# Generate Test Tag Vectors"
   ]
  },
  {
   "cell_type": "code",
   "execution_count": 50,
   "metadata": {
    "collapsed": true
   },
   "outputs": [],
   "source": [
    "testTagVectors = getTagVectors(numTest,tagsTestFolder,indexedTagBag)"
   ]
  },
  {
   "cell_type": "markdown",
   "metadata": {},
   "source": [
    "# Use kNN to find the 20 closest tag vectors for each test prediction vector"
   ]
  },
  {
   "cell_type": "code",
   "execution_count": 51,
   "metadata": {
    "collapsed": true
   },
   "outputs": [],
   "source": [
    "def kNN(tags,k,preds):\n",
    "    model = NearestNeighbors(n_neighbors= k , algorithm='kd_tree').fit(tags)\n",
    "    dist,idxs = model.kneighbors(preds)\n",
    "    return dist,idxs"
   ]
  },
  {
   "cell_type": "code",
   "execution_count": 52,
   "metadata": {
    "collapsed": false
   },
   "outputs": [],
   "source": [
    "dist,preds = kNN(testTagVectors,20,testPreds)"
   ]
  },
  {
   "cell_type": "code",
   "execution_count": 53,
   "metadata": {
    "collapsed": true
   },
   "outputs": [],
   "source": [
    "def saveResults(res,name):\n",
    "    f = open(name,'w')\n",
    "    f.write('Descritpion_ID,Top_20_Image_IDs\\n')\n",
    "    for i in range(2000):\n",
    "        f.write(str(i)+'.txt,')\n",
    "        for j in range(20):\n",
    "            if j == 19:\n",
    "                f.write(str(res[i,j])+'.jpg\\n')\n",
    "            else:\n",
    "                f.write(str(res[i,j])+'.jpg ')\n",
    "    f.close()"
   ]
  },
  {
   "cell_type": "code",
   "execution_count": 54,
   "metadata": {
    "collapsed": false
   },
   "outputs": [],
   "source": [
    "saveResults(preds,\"log+allimages+kNN.csv\")"
   ]
  },
  {
   "cell_type": "code",
   "execution_count": null,
   "metadata": {
    "collapsed": true
   },
   "outputs": [],
   "source": []
  }
 ],
 "metadata": {
  "kernelspec": {
   "display_name": "Python 3",
   "language": "python",
   "name": "python3"
  },
  "language_info": {
   "codemirror_mode": {
    "name": "ipython",
    "version": 3
   },
   "file_extension": ".py",
   "mimetype": "text/x-python",
   "name": "python",
   "nbconvert_exporter": "python",
   "pygments_lexer": "ipython3",
   "version": "3.4.5"
  }
 },
 "nbformat": 4,
 "nbformat_minor": 0
}
