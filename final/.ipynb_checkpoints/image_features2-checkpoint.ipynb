{
 "cells": [
  {
   "cell_type": "code",
   "execution_count": 80,
   "metadata": {
    "collapsed": false
   },
   "outputs": [],
   "source": [
    "import pandas as pd\n",
    "import numpy as np\n",
    "import matplotlib.pyplot as plt\n",
    "from collections import Counter\n",
    "from collections import defaultdict\n",
    "from functools import partial\n",
    "from itertools import count\n",
    "from nltk.stem.wordnet import WordNetLemmatizer\n",
    "from nltk.stem import PorterStemmer\n",
    "from nltk.corpus import stopwords\n",
    "from nltk import pos_tag\n",
    "import string\n",
    "import re\n",
    "from sklearn import preprocessing\n",
    "from sklearn.neighbors import NearestNeighbors\n",
    "from sklearn.cross_validation import KFold\n",
    "from sklearn.svm import SVC\n",
    "import re\n",
    "from sklearn.decomposition import PCA\n",
    "from sklearn.multiclass import OneVsRestClassifier\n",
    "from sklearn.svm import LinearSVC,SVC\n",
    "import heapq\n",
    "from sklearn.linear_model import LogisticRegression\n",
    "from sklearn.preprocessing import MultiLabelBinarizer\n",
    "%matplotlib inline"
   ]
  },
  {
   "cell_type": "markdown",
   "metadata": {},
   "source": [
    "# image features cleaning"
   ]
  },
  {
   "cell_type": "code",
   "execution_count": 2,
   "metadata": {
    "collapsed": true
   },
   "outputs": [],
   "source": [
    "features_df = pd.read_csv(\"../../final/data/features_train/features_resnet1000_train.csv\", header = None )"
   ]
  },
  {
   "cell_type": "code",
   "execution_count": 3,
   "metadata": {
    "collapsed": false
   },
   "outputs": [],
   "source": [
    "split= features_df[0].str.split('/', 1, expand=True)"
   ]
  },
  {
   "cell_type": "code",
   "execution_count": 4,
   "metadata": {
    "collapsed": false
   },
   "outputs": [
    {
     "data": {
      "text/html": [
       "<div>\n",
       "<table border=\"1\" class=\"dataframe\">\n",
       "  <thead>\n",
       "    <tr style=\"text-align: right;\">\n",
       "      <th></th>\n",
       "      <th>0</th>\n",
       "      <th>1</th>\n",
       "    </tr>\n",
       "  </thead>\n",
       "  <tbody>\n",
       "    <tr>\n",
       "      <th>0</th>\n",
       "      <td>images_train</td>\n",
       "      <td>5373.jpg</td>\n",
       "    </tr>\n",
       "    <tr>\n",
       "      <th>1</th>\n",
       "      <td>images_train</td>\n",
       "      <td>984.jpg</td>\n",
       "    </tr>\n",
       "    <tr>\n",
       "      <th>2</th>\n",
       "      <td>images_train</td>\n",
       "      <td>7127.jpg</td>\n",
       "    </tr>\n",
       "    <tr>\n",
       "      <th>3</th>\n",
       "      <td>images_train</td>\n",
       "      <td>9609.jpg</td>\n",
       "    </tr>\n",
       "    <tr>\n",
       "      <th>4</th>\n",
       "      <td>images_train</td>\n",
       "      <td>5293.jpg</td>\n",
       "    </tr>\n",
       "  </tbody>\n",
       "</table>\n",
       "</div>"
      ],
      "text/plain": [
       "              0         1\n",
       "0  images_train  5373.jpg\n",
       "1  images_train   984.jpg\n",
       "2  images_train  7127.jpg\n",
       "3  images_train  9609.jpg\n",
       "4  images_train  5293.jpg"
      ]
     },
     "execution_count": 4,
     "metadata": {},
     "output_type": "execute_result"
    }
   ],
   "source": [
    "split.head(5)"
   ]
  },
  {
   "cell_type": "code",
   "execution_count": 8,
   "metadata": {
    "collapsed": false
   },
   "outputs": [],
   "source": [
    "split2= split[1].str.split('.', 1, expand=True)"
   ]
  },
  {
   "cell_type": "code",
   "execution_count": 9,
   "metadata": {
    "collapsed": false
   },
   "outputs": [],
   "source": [
    "del split2[1]"
   ]
  },
  {
   "cell_type": "code",
   "execution_count": 10,
   "metadata": {
    "collapsed": true
   },
   "outputs": [],
   "source": [
    "split2 = split2.rename(columns={0: \"index\"})"
   ]
  },
  {
   "cell_type": "code",
   "execution_count": 11,
   "metadata": {
    "collapsed": false
   },
   "outputs": [],
   "source": [
    "result = pd.concat([split2, features_df], axis=1)"
   ]
  },
  {
   "cell_type": "code",
   "execution_count": 12,
   "metadata": {
    "collapsed": false
   },
   "outputs": [
    {
     "data": {
      "text/html": [
       "<div>\n",
       "<table border=\"1\" class=\"dataframe\">\n",
       "  <thead>\n",
       "    <tr style=\"text-align: right;\">\n",
       "      <th></th>\n",
       "      <th>index</th>\n",
       "      <th>0</th>\n",
       "      <th>1</th>\n",
       "      <th>2</th>\n",
       "      <th>3</th>\n",
       "      <th>4</th>\n",
       "      <th>5</th>\n",
       "      <th>6</th>\n",
       "      <th>7</th>\n",
       "      <th>8</th>\n",
       "      <th>...</th>\n",
       "      <th>991</th>\n",
       "      <th>992</th>\n",
       "      <th>993</th>\n",
       "      <th>994</th>\n",
       "      <th>995</th>\n",
       "      <th>996</th>\n",
       "      <th>997</th>\n",
       "      <th>998</th>\n",
       "      <th>999</th>\n",
       "      <th>1000</th>\n",
       "    </tr>\n",
       "  </thead>\n",
       "  <tbody>\n",
       "    <tr>\n",
       "      <th>0</th>\n",
       "      <td>5373</td>\n",
       "      <td>images_train/5373.jpg</td>\n",
       "      <td>-0.899450</td>\n",
       "      <td>-0.930470</td>\n",
       "      <td>-2.503365</td>\n",
       "      <td>-3.172499</td>\n",
       "      <td>-2.819133</td>\n",
       "      <td>0.992159</td>\n",
       "      <td>-3.698863</td>\n",
       "      <td>0.619991</td>\n",
       "      <td>...</td>\n",
       "      <td>-3.021916</td>\n",
       "      <td>2.214253</td>\n",
       "      <td>-1.382491</td>\n",
       "      <td>1.672911</td>\n",
       "      <td>1.014233</td>\n",
       "      <td>2.599949</td>\n",
       "      <td>2.773284</td>\n",
       "      <td>-2.066632</td>\n",
       "      <td>0.385754</td>\n",
       "      <td>-3.241320</td>\n",
       "    </tr>\n",
       "    <tr>\n",
       "      <th>1</th>\n",
       "      <td>984</td>\n",
       "      <td>images_train/984.jpg</td>\n",
       "      <td>-1.346954</td>\n",
       "      <td>-3.119461</td>\n",
       "      <td>-0.765971</td>\n",
       "      <td>-1.382550</td>\n",
       "      <td>-1.104675</td>\n",
       "      <td>-3.656271</td>\n",
       "      <td>-4.815436</td>\n",
       "      <td>-0.556942</td>\n",
       "      <td>...</td>\n",
       "      <td>0.011003</td>\n",
       "      <td>-3.968805</td>\n",
       "      <td>-2.694711</td>\n",
       "      <td>-4.196480</td>\n",
       "      <td>-2.880234</td>\n",
       "      <td>-1.210742</td>\n",
       "      <td>-1.605143</td>\n",
       "      <td>-4.859987</td>\n",
       "      <td>-0.837670</td>\n",
       "      <td>-0.967604</td>\n",
       "    </tr>\n",
       "    <tr>\n",
       "      <th>2</th>\n",
       "      <td>7127</td>\n",
       "      <td>images_train/7127.jpg</td>\n",
       "      <td>-3.445498</td>\n",
       "      <td>-1.524573</td>\n",
       "      <td>-1.001654</td>\n",
       "      <td>-3.668335</td>\n",
       "      <td>-1.805517</td>\n",
       "      <td>-1.633496</td>\n",
       "      <td>-7.127826</td>\n",
       "      <td>-1.147802</td>\n",
       "      <td>...</td>\n",
       "      <td>-2.991777</td>\n",
       "      <td>-2.628053</td>\n",
       "      <td>-2.971074</td>\n",
       "      <td>-2.537039</td>\n",
       "      <td>-1.707429</td>\n",
       "      <td>1.013672</td>\n",
       "      <td>0.608460</td>\n",
       "      <td>-3.714998</td>\n",
       "      <td>-0.484735</td>\n",
       "      <td>0.138767</td>\n",
       "    </tr>\n",
       "    <tr>\n",
       "      <th>3</th>\n",
       "      <td>9609</td>\n",
       "      <td>images_train/9609.jpg</td>\n",
       "      <td>1.114650</td>\n",
       "      <td>-2.167102</td>\n",
       "      <td>0.097881</td>\n",
       "      <td>-1.336255</td>\n",
       "      <td>0.853483</td>\n",
       "      <td>-0.374885</td>\n",
       "      <td>-2.369090</td>\n",
       "      <td>-2.273191</td>\n",
       "      <td>...</td>\n",
       "      <td>-1.248134</td>\n",
       "      <td>-0.633126</td>\n",
       "      <td>-1.723514</td>\n",
       "      <td>-2.638832</td>\n",
       "      <td>0.097149</td>\n",
       "      <td>4.647974</td>\n",
       "      <td>1.030138</td>\n",
       "      <td>-2.193836</td>\n",
       "      <td>1.044024</td>\n",
       "      <td>0.176043</td>\n",
       "    </tr>\n",
       "    <tr>\n",
       "      <th>4</th>\n",
       "      <td>5293</td>\n",
       "      <td>images_train/5293.jpg</td>\n",
       "      <td>1.602650</td>\n",
       "      <td>-1.505817</td>\n",
       "      <td>3.029409</td>\n",
       "      <td>4.092412</td>\n",
       "      <td>1.711755</td>\n",
       "      <td>6.271253</td>\n",
       "      <td>4.173686</td>\n",
       "      <td>-2.177313</td>\n",
       "      <td>...</td>\n",
       "      <td>-1.285806</td>\n",
       "      <td>-2.266481</td>\n",
       "      <td>-3.898053</td>\n",
       "      <td>2.295787</td>\n",
       "      <td>-1.749552</td>\n",
       "      <td>0.974188</td>\n",
       "      <td>1.258117</td>\n",
       "      <td>-1.975622</td>\n",
       "      <td>-1.278643</td>\n",
       "      <td>-1.941441</td>\n",
       "    </tr>\n",
       "  </tbody>\n",
       "</table>\n",
       "<p>5 rows × 1002 columns</p>\n",
       "</div>"
      ],
      "text/plain": [
       "  index                      0         1         2         3         4  \\\n",
       "0  5373  images_train/5373.jpg -0.899450 -0.930470 -2.503365 -3.172499   \n",
       "1   984   images_train/984.jpg -1.346954 -3.119461 -0.765971 -1.382550   \n",
       "2  7127  images_train/7127.jpg -3.445498 -1.524573 -1.001654 -3.668335   \n",
       "3  9609  images_train/9609.jpg  1.114650 -2.167102  0.097881 -1.336255   \n",
       "4  5293  images_train/5293.jpg  1.602650 -1.505817  3.029409  4.092412   \n",
       "\n",
       "          5         6         7         8    ...          991       992  \\\n",
       "0 -2.819133  0.992159 -3.698863  0.619991    ...    -3.021916  2.214253   \n",
       "1 -1.104675 -3.656271 -4.815436 -0.556942    ...     0.011003 -3.968805   \n",
       "2 -1.805517 -1.633496 -7.127826 -1.147802    ...    -2.991777 -2.628053   \n",
       "3  0.853483 -0.374885 -2.369090 -2.273191    ...    -1.248134 -0.633126   \n",
       "4  1.711755  6.271253  4.173686 -2.177313    ...    -1.285806 -2.266481   \n",
       "\n",
       "        993       994       995       996       997       998       999  \\\n",
       "0 -1.382491  1.672911  1.014233  2.599949  2.773284 -2.066632  0.385754   \n",
       "1 -2.694711 -4.196480 -2.880234 -1.210742 -1.605143 -4.859987 -0.837670   \n",
       "2 -2.971074 -2.537039 -1.707429  1.013672  0.608460 -3.714998 -0.484735   \n",
       "3 -1.723514 -2.638832  0.097149  4.647974  1.030138 -2.193836  1.044024   \n",
       "4 -3.898053  2.295787 -1.749552  0.974188  1.258117 -1.975622 -1.278643   \n",
       "\n",
       "       1000  \n",
       "0 -3.241320  \n",
       "1 -0.967604  \n",
       "2  0.138767  \n",
       "3  0.176043  \n",
       "4 -1.941441  \n",
       "\n",
       "[5 rows x 1002 columns]"
      ]
     },
     "execution_count": 12,
     "metadata": {},
     "output_type": "execute_result"
    }
   ],
   "source": [
    "result.head(5)"
   ]
  },
  {
   "cell_type": "code",
   "execution_count": 13,
   "metadata": {
    "collapsed": true
   },
   "outputs": [],
   "source": [
    "result[\"index\"] = result[\"index\"].astype(float)"
   ]
  },
  {
   "cell_type": "code",
   "execution_count": 14,
   "metadata": {
    "collapsed": false
   },
   "outputs": [],
   "source": [
    "result = result.sort([\"index\"], ascending = 1)"
   ]
  },
  {
   "cell_type": "code",
   "execution_count": 15,
   "metadata": {
    "collapsed": false
   },
   "outputs": [
    {
     "data": {
      "text/html": [
       "<div>\n",
       "<table border=\"1\" class=\"dataframe\">\n",
       "  <thead>\n",
       "    <tr style=\"text-align: right;\">\n",
       "      <th></th>\n",
       "      <th>index</th>\n",
       "      <th>0</th>\n",
       "      <th>1</th>\n",
       "      <th>2</th>\n",
       "      <th>3</th>\n",
       "      <th>4</th>\n",
       "      <th>5</th>\n",
       "      <th>6</th>\n",
       "      <th>7</th>\n",
       "      <th>8</th>\n",
       "      <th>...</th>\n",
       "      <th>991</th>\n",
       "      <th>992</th>\n",
       "      <th>993</th>\n",
       "      <th>994</th>\n",
       "      <th>995</th>\n",
       "      <th>996</th>\n",
       "      <th>997</th>\n",
       "      <th>998</th>\n",
       "      <th>999</th>\n",
       "      <th>1000</th>\n",
       "    </tr>\n",
       "  </thead>\n",
       "  <tbody>\n",
       "    <tr>\n",
       "      <th>6643</th>\n",
       "      <td>0</td>\n",
       "      <td>images_train/0.jpg</td>\n",
       "      <td>-4.552913</td>\n",
       "      <td>-3.339373</td>\n",
       "      <td>0.739805</td>\n",
       "      <td>-1.064960</td>\n",
       "      <td>-0.385821</td>\n",
       "      <td>-1.374796</td>\n",
       "      <td>-3.172979</td>\n",
       "      <td>-1.216543</td>\n",
       "      <td>...</td>\n",
       "      <td>-2.021026</td>\n",
       "      <td>-4.752773</td>\n",
       "      <td>-4.072814</td>\n",
       "      <td>-3.873384</td>\n",
       "      <td>-3.553856</td>\n",
       "      <td>-2.005920</td>\n",
       "      <td>-2.187191</td>\n",
       "      <td>-4.325321</td>\n",
       "      <td>-1.361008</td>\n",
       "      <td>-0.184895</td>\n",
       "    </tr>\n",
       "    <tr>\n",
       "      <th>2273</th>\n",
       "      <td>1</td>\n",
       "      <td>images_train/1.jpg</td>\n",
       "      <td>1.055800</td>\n",
       "      <td>1.345920</td>\n",
       "      <td>-4.621484</td>\n",
       "      <td>-3.391327</td>\n",
       "      <td>-2.474905</td>\n",
       "      <td>-0.765481</td>\n",
       "      <td>-3.783750</td>\n",
       "      <td>-3.479563</td>\n",
       "      <td>...</td>\n",
       "      <td>0.447561</td>\n",
       "      <td>-1.310622</td>\n",
       "      <td>-1.228498</td>\n",
       "      <td>-0.492747</td>\n",
       "      <td>0.690989</td>\n",
       "      <td>1.746380</td>\n",
       "      <td>3.944386</td>\n",
       "      <td>-0.335490</td>\n",
       "      <td>4.469384</td>\n",
       "      <td>-0.193547</td>\n",
       "    </tr>\n",
       "    <tr>\n",
       "      <th>8598</th>\n",
       "      <td>2</td>\n",
       "      <td>images_train/2.jpg</td>\n",
       "      <td>-1.323054</td>\n",
       "      <td>-1.990459</td>\n",
       "      <td>-2.646253</td>\n",
       "      <td>-2.555408</td>\n",
       "      <td>0.194242</td>\n",
       "      <td>0.360438</td>\n",
       "      <td>-2.450288</td>\n",
       "      <td>-1.364834</td>\n",
       "      <td>...</td>\n",
       "      <td>-1.727636</td>\n",
       "      <td>-4.679168</td>\n",
       "      <td>-4.418219</td>\n",
       "      <td>-1.780263</td>\n",
       "      <td>-2.594645</td>\n",
       "      <td>-1.229027</td>\n",
       "      <td>0.516662</td>\n",
       "      <td>-3.346858</td>\n",
       "      <td>0.924743</td>\n",
       "      <td>-0.353018</td>\n",
       "    </tr>\n",
       "    <tr>\n",
       "      <th>9239</th>\n",
       "      <td>3</td>\n",
       "      <td>images_train/3.jpg</td>\n",
       "      <td>1.642971</td>\n",
       "      <td>-0.591986</td>\n",
       "      <td>-2.008492</td>\n",
       "      <td>-1.683242</td>\n",
       "      <td>0.152383</td>\n",
       "      <td>-0.580315</td>\n",
       "      <td>-2.876101</td>\n",
       "      <td>-2.001029</td>\n",
       "      <td>...</td>\n",
       "      <td>2.253989</td>\n",
       "      <td>-1.823335</td>\n",
       "      <td>-0.135379</td>\n",
       "      <td>-2.881580</td>\n",
       "      <td>-1.125049</td>\n",
       "      <td>1.979692</td>\n",
       "      <td>0.571415</td>\n",
       "      <td>-2.186887</td>\n",
       "      <td>2.552499</td>\n",
       "      <td>2.634879</td>\n",
       "    </tr>\n",
       "    <tr>\n",
       "      <th>8410</th>\n",
       "      <td>4</td>\n",
       "      <td>images_train/4.jpg</td>\n",
       "      <td>-0.690964</td>\n",
       "      <td>-3.641853</td>\n",
       "      <td>-1.879540</td>\n",
       "      <td>0.208626</td>\n",
       "      <td>0.236147</td>\n",
       "      <td>-3.154541</td>\n",
       "      <td>-3.594615</td>\n",
       "      <td>0.742241</td>\n",
       "      <td>...</td>\n",
       "      <td>-1.286898</td>\n",
       "      <td>-4.253161</td>\n",
       "      <td>-3.368766</td>\n",
       "      <td>-3.720367</td>\n",
       "      <td>-3.813512</td>\n",
       "      <td>-1.947907</td>\n",
       "      <td>-2.103985</td>\n",
       "      <td>-4.788396</td>\n",
       "      <td>-0.305454</td>\n",
       "      <td>1.142632</td>\n",
       "    </tr>\n",
       "  </tbody>\n",
       "</table>\n",
       "<p>5 rows × 1002 columns</p>\n",
       "</div>"
      ],
      "text/plain": [
       "      index                   0         1         2         3         4  \\\n",
       "6643      0  images_train/0.jpg -4.552913 -3.339373  0.739805 -1.064960   \n",
       "2273      1  images_train/1.jpg  1.055800  1.345920 -4.621484 -3.391327   \n",
       "8598      2  images_train/2.jpg -1.323054 -1.990459 -2.646253 -2.555408   \n",
       "9239      3  images_train/3.jpg  1.642971 -0.591986 -2.008492 -1.683242   \n",
       "8410      4  images_train/4.jpg -0.690964 -3.641853 -1.879540  0.208626   \n",
       "\n",
       "             5         6         7         8    ...          991       992  \\\n",
       "6643 -0.385821 -1.374796 -3.172979 -1.216543    ...    -2.021026 -4.752773   \n",
       "2273 -2.474905 -0.765481 -3.783750 -3.479563    ...     0.447561 -1.310622   \n",
       "8598  0.194242  0.360438 -2.450288 -1.364834    ...    -1.727636 -4.679168   \n",
       "9239  0.152383 -0.580315 -2.876101 -2.001029    ...     2.253989 -1.823335   \n",
       "8410  0.236147 -3.154541 -3.594615  0.742241    ...    -1.286898 -4.253161   \n",
       "\n",
       "           993       994       995       996       997       998       999  \\\n",
       "6643 -4.072814 -3.873384 -3.553856 -2.005920 -2.187191 -4.325321 -1.361008   \n",
       "2273 -1.228498 -0.492747  0.690989  1.746380  3.944386 -0.335490  4.469384   \n",
       "8598 -4.418219 -1.780263 -2.594645 -1.229027  0.516662 -3.346858  0.924743   \n",
       "9239 -0.135379 -2.881580 -1.125049  1.979692  0.571415 -2.186887  2.552499   \n",
       "8410 -3.368766 -3.720367 -3.813512 -1.947907 -2.103985 -4.788396 -0.305454   \n",
       "\n",
       "          1000  \n",
       "6643 -0.184895  \n",
       "2273 -0.193547  \n",
       "8598 -0.353018  \n",
       "9239  2.634879  \n",
       "8410  1.142632  \n",
       "\n",
       "[5 rows x 1002 columns]"
      ]
     },
     "execution_count": 15,
     "metadata": {},
     "output_type": "execute_result"
    }
   ],
   "source": [
    "result.head(5)"
   ]
  },
  {
   "cell_type": "code",
   "execution_count": 16,
   "metadata": {
    "collapsed": false
   },
   "outputs": [],
   "source": [
    "imageDF = result.drop([\"index\", 0], axis=1)"
   ]
  },
  {
   "cell_type": "code",
   "execution_count": 17,
   "metadata": {
    "collapsed": true
   },
   "outputs": [],
   "source": [
    "def softmax(x):\n",
    "    \"\"\"Compute softmax values for each sets of scores in x.\"\"\"\n",
    "    return np.exp(x) / np.sum(np.exp(x), axis=0)"
   ]
  },
  {
   "cell_type": "code",
   "execution_count": 18,
   "metadata": {
    "collapsed": false
   },
   "outputs": [],
   "source": [
    "softMaxDF = imageDF.apply(softmax, axis = 1)"
   ]
  },
  {
   "cell_type": "code",
   "execution_count": 47,
   "metadata": {
    "collapsed": false
   },
   "outputs": [
    {
     "data": {
      "text/html": [
       "<div>\n",
       "<table border=\"1\" class=\"dataframe\">\n",
       "  <thead>\n",
       "    <tr style=\"text-align: right;\">\n",
       "      <th></th>\n",
       "      <th>1</th>\n",
       "      <th>2</th>\n",
       "      <th>3</th>\n",
       "      <th>4</th>\n",
       "      <th>5</th>\n",
       "      <th>6</th>\n",
       "      <th>7</th>\n",
       "      <th>8</th>\n",
       "      <th>9</th>\n",
       "      <th>10</th>\n",
       "      <th>...</th>\n",
       "      <th>991</th>\n",
       "      <th>992</th>\n",
       "      <th>993</th>\n",
       "      <th>994</th>\n",
       "      <th>995</th>\n",
       "      <th>996</th>\n",
       "      <th>997</th>\n",
       "      <th>998</th>\n",
       "      <th>999</th>\n",
       "      <th>1000</th>\n",
       "    </tr>\n",
       "  </thead>\n",
       "  <tbody>\n",
       "    <tr>\n",
       "      <th>6643</th>\n",
       "      <td>4.690518e-07</td>\n",
       "      <td>1.578537e-06</td>\n",
       "      <td>9.328652e-05</td>\n",
       "      <td>1.534686e-05</td>\n",
       "      <td>3.026676e-05</td>\n",
       "      <td>1.125796e-05</td>\n",
       "      <td>1.864312e-06</td>\n",
       "      <td>1.318828e-05</td>\n",
       "      <td>7.214815e-07</td>\n",
       "      <td>2.772918e-05</td>\n",
       "      <td>...</td>\n",
       "      <td>0.000006</td>\n",
       "      <td>3.840809e-07</td>\n",
       "      <td>7.580978e-07</td>\n",
       "      <td>9.254151e-07</td>\n",
       "      <td>1.273813e-06</td>\n",
       "      <td>0.000006</td>\n",
       "      <td>0.000005</td>\n",
       "      <td>5.889290e-07</td>\n",
       "      <td>0.000011</td>\n",
       "      <td>0.000037</td>\n",
       "    </tr>\n",
       "    <tr>\n",
       "      <th>2273</th>\n",
       "      <td>4.467573e-06</td>\n",
       "      <td>5.971302e-06</td>\n",
       "      <td>1.529179e-08</td>\n",
       "      <td>5.232497e-08</td>\n",
       "      <td>1.308296e-07</td>\n",
       "      <td>7.229350e-07</td>\n",
       "      <td>3.534124e-08</td>\n",
       "      <td>4.790586e-08</td>\n",
       "      <td>5.903218e-07</td>\n",
       "      <td>1.991982e-07</td>\n",
       "      <td>...</td>\n",
       "      <td>0.000002</td>\n",
       "      <td>4.191289e-07</td>\n",
       "      <td>4.550022e-07</td>\n",
       "      <td>9.496120e-07</td>\n",
       "      <td>3.101960e-06</td>\n",
       "      <td>0.000009</td>\n",
       "      <td>0.000080</td>\n",
       "      <td>1.111328e-06</td>\n",
       "      <td>0.000136</td>\n",
       "      <td>0.000001</td>\n",
       "    </tr>\n",
       "    <tr>\n",
       "      <th>8598</th>\n",
       "      <td>2.713387e-06</td>\n",
       "      <td>1.392071e-06</td>\n",
       "      <td>7.225265e-07</td>\n",
       "      <td>7.912383e-07</td>\n",
       "      <td>1.237272e-05</td>\n",
       "      <td>1.460976e-05</td>\n",
       "      <td>8.789415e-07</td>\n",
       "      <td>2.602356e-06</td>\n",
       "      <td>1.653813e-06</td>\n",
       "      <td>8.984420e-07</td>\n",
       "      <td>...</td>\n",
       "      <td>0.000002</td>\n",
       "      <td>9.461717e-08</td>\n",
       "      <td>1.228283e-07</td>\n",
       "      <td>1.717705e-06</td>\n",
       "      <td>7.607935e-07</td>\n",
       "      <td>0.000003</td>\n",
       "      <td>0.000017</td>\n",
       "      <td>3.585788e-07</td>\n",
       "      <td>0.000026</td>\n",
       "      <td>0.000007</td>\n",
       "    </tr>\n",
       "    <tr>\n",
       "      <th>9239</th>\n",
       "      <td>1.217408e-04</td>\n",
       "      <td>1.302585e-05</td>\n",
       "      <td>3.159552e-06</td>\n",
       "      <td>4.374011e-06</td>\n",
       "      <td>2.742091e-05</td>\n",
       "      <td>1.317878e-05</td>\n",
       "      <td>1.326868e-06</td>\n",
       "      <td>3.183221e-06</td>\n",
       "      <td>2.773982e-06</td>\n",
       "      <td>1.025100e-05</td>\n",
       "      <td>...</td>\n",
       "      <td>0.000224</td>\n",
       "      <td>3.802230e-06</td>\n",
       "      <td>2.056403e-05</td>\n",
       "      <td>1.319618e-06</td>\n",
       "      <td>7.643639e-06</td>\n",
       "      <td>0.000170</td>\n",
       "      <td>0.000042</td>\n",
       "      <td>2.643319e-06</td>\n",
       "      <td>0.000302</td>\n",
       "      <td>0.000328</td>\n",
       "    </tr>\n",
       "    <tr>\n",
       "      <th>8410</th>\n",
       "      <td>1.894039e-05</td>\n",
       "      <td>9.904532e-07</td>\n",
       "      <td>5.770281e-06</td>\n",
       "      <td>4.656676e-05</td>\n",
       "      <td>4.786610e-05</td>\n",
       "      <td>1.612394e-06</td>\n",
       "      <td>1.038364e-06</td>\n",
       "      <td>7.940026e-05</td>\n",
       "      <td>2.456297e-05</td>\n",
       "      <td>3.643926e-05</td>\n",
       "      <td>...</td>\n",
       "      <td>0.000010</td>\n",
       "      <td>5.374604e-07</td>\n",
       "      <td>1.301471e-06</td>\n",
       "      <td>9.156633e-07</td>\n",
       "      <td>8.342256e-07</td>\n",
       "      <td>0.000005</td>\n",
       "      <td>0.000005</td>\n",
       "      <td>3.147001e-07</td>\n",
       "      <td>0.000028</td>\n",
       "      <td>0.000118</td>\n",
       "    </tr>\n",
       "  </tbody>\n",
       "</table>\n",
       "<p>5 rows × 1000 columns</p>\n",
       "</div>"
      ],
      "text/plain": [
       "              1             2             3             4             5     \\\n",
       "6643  4.690518e-07  1.578537e-06  9.328652e-05  1.534686e-05  3.026676e-05   \n",
       "2273  4.467573e-06  5.971302e-06  1.529179e-08  5.232497e-08  1.308296e-07   \n",
       "8598  2.713387e-06  1.392071e-06  7.225265e-07  7.912383e-07  1.237272e-05   \n",
       "9239  1.217408e-04  1.302585e-05  3.159552e-06  4.374011e-06  2.742091e-05   \n",
       "8410  1.894039e-05  9.904532e-07  5.770281e-06  4.656676e-05  4.786610e-05   \n",
       "\n",
       "              6             7             8             9             10    \\\n",
       "6643  1.125796e-05  1.864312e-06  1.318828e-05  7.214815e-07  2.772918e-05   \n",
       "2273  7.229350e-07  3.534124e-08  4.790586e-08  5.903218e-07  1.991982e-07   \n",
       "8598  1.460976e-05  8.789415e-07  2.602356e-06  1.653813e-06  8.984420e-07   \n",
       "9239  1.317878e-05  1.326868e-06  3.183221e-06  2.773982e-06  1.025100e-05   \n",
       "8410  1.612394e-06  1.038364e-06  7.940026e-05  2.456297e-05  3.643926e-05   \n",
       "\n",
       "        ...         991           992           993           994   \\\n",
       "6643    ...     0.000006  3.840809e-07  7.580978e-07  9.254151e-07   \n",
       "2273    ...     0.000002  4.191289e-07  4.550022e-07  9.496120e-07   \n",
       "8598    ...     0.000002  9.461717e-08  1.228283e-07  1.717705e-06   \n",
       "9239    ...     0.000224  3.802230e-06  2.056403e-05  1.319618e-06   \n",
       "8410    ...     0.000010  5.374604e-07  1.301471e-06  9.156633e-07   \n",
       "\n",
       "              995       996       997           998       999       1000  \n",
       "6643  1.273813e-06  0.000006  0.000005  5.889290e-07  0.000011  0.000037  \n",
       "2273  3.101960e-06  0.000009  0.000080  1.111328e-06  0.000136  0.000001  \n",
       "8598  7.607935e-07  0.000003  0.000017  3.585788e-07  0.000026  0.000007  \n",
       "9239  7.643639e-06  0.000170  0.000042  2.643319e-06  0.000302  0.000328  \n",
       "8410  8.342256e-07  0.000005  0.000005  3.147001e-07  0.000028  0.000118  \n",
       "\n",
       "[5 rows x 1000 columns]"
      ]
     },
     "execution_count": 47,
     "metadata": {},
     "output_type": "execute_result"
    }
   ],
   "source": [
    "softMaxDF.head(5)"
   ]
  },
  {
   "cell_type": "markdown",
   "metadata": {},
   "source": [
    "# Take top 20 columns and one hot encode"
   ]
  },
  {
   "cell_type": "code",
   "execution_count": 76,
   "metadata": {
    "collapsed": true
   },
   "outputs": [],
   "source": [
    "def getMaxClasses(matrix, maxColumns):\n",
    "    ##Not sorted values\n",
    "    consolMatrix = []\n",
    "    for row in matrix:\n",
    "        maxIndArr = np.argpartition(row, -maxColumns)[-maxColumns:]\n",
    "        consolMatrix.append(maxIndArr)\n",
    "    return consolMatrix"
   ]
  },
  {
   "cell_type": "code",
   "execution_count": 78,
   "metadata": {
    "collapsed": false
   },
   "outputs": [],
   "source": [
    "consolMatrix = getMaxClasses(softMaxDF.as_matrix(), 20)"
   ]
  },
  {
   "cell_type": "code",
   "execution_count": 81,
   "metadata": {
    "collapsed": false
   },
   "outputs": [],
   "source": [
    "mlb = MultiLabelBinarizer()\n",
    "binImages20 = mlb.fit_transform(consolMatrix)"
   ]
  },
  {
   "cell_type": "code",
   "execution_count": 82,
   "metadata": {
    "collapsed": true
   },
   "outputs": [],
   "source": [
    "binImages20DF = pd.DataFrame(binImages20)"
   ]
  },
  {
   "cell_type": "code",
   "execution_count": null,
   "metadata": {
    "collapsed": true
   },
   "outputs": [],
   "source": []
  },
  {
   "cell_type": "code",
   "execution_count": null,
   "metadata": {
    "collapsed": true
   },
   "outputs": [],
   "source": []
  },
  {
   "cell_type": "markdown",
   "metadata": {},
   "source": [
    "# Read Files, set train and test "
   ]
  },
  {
   "cell_type": "code",
   "execution_count": 31,
   "metadata": {
    "collapsed": true
   },
   "outputs": [],
   "source": [
    "descriptionTrainFolder = \"../../final/data/descriptions_train\"\n",
    "featuresTrainFolder = \"../../final/data/features_train\"\n",
    "imagesTrainFolder = \"../../final/data/images_train\"\n",
    "tagsTrainFolder = \"../../final/data/tags_train\""
   ]
  },
  {
   "cell_type": "code",
   "execution_count": 32,
   "metadata": {
    "collapsed": true
   },
   "outputs": [],
   "source": [
    "descriptionTestFolder = \"../../final/data/descriptions_test\"\n",
    "featureTestFolder = \"../../final/data/features_test\"\n",
    "imagesTestFolder = \"../../final/data/images_test\"\n",
    "tagsTestFolder = \"../../final/data/tags_test\""
   ]
  },
  {
   "cell_type": "code",
   "execution_count": 21,
   "metadata": {
    "collapsed": true
   },
   "outputs": [],
   "source": [
    "numTrain = 10000\n",
    "numTest = 2000"
   ]
  },
  {
   "cell_type": "code",
   "execution_count": 22,
   "metadata": {
    "collapsed": true
   },
   "outputs": [],
   "source": [
    "def readTagsFile(fileName):\n",
    "    tags = []\n",
    "    f = open(fileName,\"r\")\n",
    "    for line in f:\n",
    "        line = line.split(\":\") # possibly also consider using the keys in each line(vehicle,outdoor etc..)\n",
    "        tag = line[-1].replace(\"\\n\",\"\")\n",
    "        tags.append(tag)\n",
    "    return tags\n",
    "\n",
    "def readDescriptionFile(fileName):\n",
    "    desc = []\n",
    "    f = open(fileName,\"r\")\n",
    "    for line in f:\n",
    "        noPuncSentence = stripPunctuation(line)\n",
    "        desc.append(noPuncSentence)\n",
    "    return desc\n",
    "\n",
    "def stripPunctuation(s):\n",
    "    regex = re.compile('[%s]' % re.escape(string.punctuation))\n",
    "    return regex.sub(' ', s)"
   ]
  },
  {
   "cell_type": "markdown",
   "metadata": {},
   "source": [
    "# Tag Analysis"
   ]
  },
  {
   "cell_type": "code",
   "execution_count": 23,
   "metadata": {
    "collapsed": true
   },
   "outputs": [],
   "source": [
    "def getTagDict(num,tagFolder):\n",
    "    tags = {}\n",
    "    for n in range(num):\n",
    "        f = tagFolder +\"/\" + str(n) + \".txt\"\n",
    "        fileTags = readTagsFile(f)\n",
    "        #newTags = stemTags(fileTags)\n",
    "        for tag in fileTags:\n",
    "            if str(tag) not in tags.keys():\n",
    "                tags[str(tag)] = 0\n",
    "            else:\n",
    "                tags[str(tag)] +=1\n",
    "    return tags"
   ]
  },
  {
   "cell_type": "code",
   "execution_count": 33,
   "metadata": {
    "collapsed": false
   },
   "outputs": [],
   "source": [
    "tagDict = getTagDict(numTrain,tagsTrainFolder)"
   ]
  },
  {
   "cell_type": "code",
   "execution_count": 36,
   "metadata": {
    "collapsed": false
   },
   "outputs": [
    {
     "name": "stdout",
     "output_type": "stream",
     "text": [
      "{'toilet': 287, 'horse': 218, 'toothbrush': 79, 'bed': 314, 'car': 1021, 'clock': 441, 'backpack': 428, 'sink': 389, 'boat': 276, 'banana': 169, 'snowboard': 128, 'truck': 498, 'tennis racket': 293, 'motorcycle': 327, 'umbrella': 357, 'chair': 1029, 'person': 5322, 'bird': 305, 'broccoli': 162, 'suitcase': 188, 'fork': 267, 'dog': 391, 'toaster': 23, 'giraffe': 217, 'bear': 86, 'cell phone': 436, 'bus': 330, 'dining table': 959, 'carrot': 138, 'cow': 177, 'hot dog': 121, 'zebra': 168, 'donut': 117, 'stop sign': 141, 'cup': 746, 'sheep': 122, 'skis': 237, 'scissors': 72, 'hair drier': 11, 'parking meter': 57, 'book': 446, 'sports ball': 339, 'bicycle': 284, 'baseball glove': 198, 'keyboard': 169, 'tie': 305, 'surfboard': 321, 'oven': 246, 'elephant': 178, 'remote': 239, 'vase': 310, 'pizza': 265, 'bottle': 707, 'bowl': 592, 'fire hydrant': 151, 'wine glass': 214, 'train': 330, 'orange': 130, 'airplane': 221, 'frisbee': 194, 'teddy bear': 183, 'kite': 200, 'handbag': 597, 'mouse': 158, 'apple': 106, 'refrigerator': 204, 'cake': 216, 'knife': 331, 'cat': 354, 'microwave': 112, 'spoon': 292, 'traffic light': 327, 'tv': 351, 'couch': 344, 'skateboard': 256, 'bench': 475, 'potted plant': 356, 'laptop': 303, 'sandwich': 207, 'baseball bat': 193}\n"
     ]
    }
   ],
   "source": [
    "print (tagDict)"
   ]
  },
  {
   "cell_type": "code",
   "execution_count": 38,
   "metadata": {
    "collapsed": false
   },
   "outputs": [
    {
     "name": "stdout",
     "output_type": "stream",
     "text": [
      "dict_keys(['toilet', 'horse', 'toothbrush', 'bed', 'car', 'clock', 'backpack', 'sink', 'boat', 'banana', 'snowboard', 'truck', 'tennis racket', 'motorcycle', 'umbrella', 'chair', 'person', 'bird', 'broccoli', 'suitcase', 'fork', 'dog', 'toaster', 'giraffe', 'bear', 'cell phone', 'bus', 'dining table', 'carrot', 'cow', 'hot dog', 'zebra', 'donut', 'stop sign', 'cup', 'sheep', 'skis', 'scissors', 'hair drier', 'parking meter', 'book', 'sports ball', 'bicycle', 'baseball glove', 'keyboard', 'tie', 'surfboard', 'oven', 'elephant', 'remote', 'vase', 'pizza', 'bottle', 'bowl', 'fire hydrant', 'wine glass', 'train', 'orange', 'airplane', 'frisbee', 'teddy bear', 'kite', 'handbag', 'mouse', 'apple', 'refrigerator', 'cake', 'knife', 'cat', 'microwave', 'spoon', 'traffic light', 'tv', 'couch', 'skateboard', 'bench', 'potted plant', 'laptop', 'sandwich', 'baseball bat'])\n"
     ]
    }
   ],
   "source": [
    "print (tagDict.keys())"
   ]
  },
  {
   "cell_type": "code",
   "execution_count": 37,
   "metadata": {
    "collapsed": false
   },
   "outputs": [
    {
     "name": "stdout",
     "output_type": "stream",
     "text": [
      "dict_values([287, 218, 79, 314, 1021, 441, 428, 389, 276, 169, 128, 498, 293, 327, 357, 1029, 5322, 305, 162, 188, 267, 391, 23, 217, 86, 436, 330, 959, 138, 177, 121, 168, 117, 141, 746, 122, 237, 72, 11, 57, 446, 339, 284, 198, 169, 305, 321, 246, 178, 239, 310, 265, 707, 592, 151, 214, 330, 130, 221, 194, 183, 200, 597, 158, 106, 204, 216, 331, 354, 112, 292, 327, 351, 344, 256, 475, 356, 303, 207, 193])\n"
     ]
    }
   ],
   "source": [
    "print (tagDict.values())"
   ]
  },
  {
   "cell_type": "code",
   "execution_count": null,
   "metadata": {
    "collapsed": true
   },
   "outputs": [],
   "source": []
  },
  {
   "cell_type": "code",
   "execution_count": 41,
   "metadata": {
    "collapsed": false
   },
   "outputs": [],
   "source": [
    "def createBag(num,tagFolder):\n",
    "    tags = {}\n",
    "    for n in range(num):\n",
    "        f = tagFolder +\"/\" + str(n) + \".txt\"\n",
    "        fileTags = readTagsFile(f)\n",
    "        #newTags = stemTags(fileTags) - maybe add stemming - Francesco\n",
    "        for t in fileTags:\n",
    "            if t not in tags.keys():\n",
    "                tags[t] = 0\n",
    "    return tags\n",
    "\n",
    "def stemTags(lst):\n",
    "    newTags = []\n",
    "    for word in lst:\n",
    "        stem = str(PorterStemmer().stem(word))\n",
    "        newTags.append(stem)\n",
    "    return newTags\n",
    "\n",
    "def indexBag(bag):\n",
    "    idx = 0\n",
    "    for tag in bag.keys():\n",
    "        bag[tag] = idx\n",
    "        idx+=1\n",
    "    return bag\n",
    "\n",
    "def getTagVectors(num,tagFolder,indexedTagBag):\n",
    "    tagVecs = np.zeros((num,len(indexedTagBag.keys()))) #2D Array of size (file number, len(indexedBagTag.keys))\n",
    "    for n in range(num):\n",
    "        f = tagFolder +\"/\" + str(n) + \".txt\"\n",
    "        fileTags = readTagsFile(f)\n",
    "        #newTags = stemTags(fileTags) - maybe add stemming - Francesco\n",
    "        for tag in fileTags:\n",
    "            if tag in indexedTagBag.keys():\n",
    "                tagVecs[n,indexedTagBag[tag]] = 1\n",
    "            else:\n",
    "                print (str(tag) + \" is not in the tag BOW\")\n",
    "    return pd.DataFrame(tagVecs,columns = indexedTagBag.keys())"
   ]
  },
  {
   "cell_type": "code",
   "execution_count": 42,
   "metadata": {
    "collapsed": true
   },
   "outputs": [],
   "source": [
    "tagBag = createBag(numTrain,tagsTrainFolder)\n",
    "indexedTagBag = indexBag(tagBag)"
   ]
  },
  {
   "cell_type": "code",
   "execution_count": 43,
   "metadata": {
    "collapsed": true
   },
   "outputs": [],
   "source": [
    "tagVectors = getTagVectors(numTrain,tagsTrainFolder,indexedTagBag)"
   ]
  },
  {
   "cell_type": "code",
   "execution_count": 45,
   "metadata": {
    "collapsed": false
   },
   "outputs": [
    {
     "data": {
      "text/plain": [
       "(10000, 80)"
      ]
     },
     "execution_count": 45,
     "metadata": {},
     "output_type": "execute_result"
    }
   ],
   "source": [
    "tagVectors.shape"
   ]
  },
  {
   "cell_type": "markdown",
   "metadata": {},
   "source": [
    "# Descriptions Processing"
   ]
  },
  {
   "cell_type": "code",
   "execution_count": 25,
   "metadata": {
    "collapsed": true
   },
   "outputs": [],
   "source": [
    "def getStopWords():\n",
    "    return set(stopwords.words(\"english\"))\n",
    "\n",
    "def lowerCase(x):\n",
    "    return x.lower()\n",
    "\n",
    "def lemmatize(lmt,x):\n",
    "    return lmt.lemmatize(x)\n",
    "\n",
    "def getPos(line):\n",
    "    return pos_tag(line)\n",
    "\n",
    "def tokenize(line):\n",
    "    return line.split()\n",
    "\n",
    "def stripPunctuation(s):\n",
    "    regex = re.compile('[%s]' % re.escape(string.punctuation))\n",
    "    return regex.sub(' ', s)\n",
    "\n",
    "def stemmer(line):\n",
    "    stemmer = PorterStemmer()\n",
    "    stemmedLine = []\n",
    "    for word in line:\n",
    "        #if pos == \"NN\": #only stem nouns\n",
    "        stem = stemmer.stem(word)\n",
    "        stemmedLine.append(stem)\n",
    "    return stemmedLine \n",
    "\n",
    "def stemmedDescriptions(lst):\n",
    "    stemmedDescriptions = []\n",
    "    for line in lst:\n",
    "        tokenizedLine = tokenize(line)\n",
    "        stemmedDescriptions.append(stemmer(tokenizedLine))\n",
    "    return stemmedDescriptions\n"
   ]
  },
  {
   "cell_type": "code",
   "execution_count": 26,
   "metadata": {
    "collapsed": true
   },
   "outputs": [],
   "source": [
    "def createBag(num,descFolder):\n",
    "    bag = {}\n",
    "    stopWords = getStopWords()\n",
    "    for n in range(num):\n",
    "        f = descFolder +\"/\" + str(n) + \".txt\"\n",
    "        fileDescriptions = readDescriptionFile(f) #2D Array\n",
    "        stemDescriptions = stemmedDescriptions(fileDescriptions) #applying stemming so to aggregate similar words\n",
    "        for desc in stemDescriptions:\n",
    "            for word in desc:\n",
    "                lowerWord = lowerCase(word)\n",
    "                if str(lowerWord) not in bag.keys() and str(lowerWord) != \"\" and str(lowerWord) not in stopWords:\n",
    "                    bag[str(lowerWord)] = 0 \n",
    "    return bag\n",
    "\n",
    "def indexBag(bag):\n",
    "    idx = 0\n",
    "    for tag in bag.keys():\n",
    "        bag[tag] = idx\n",
    "        idx+=1\n",
    "    return bag\n",
    "\n",
    "def binaryVectorizeDescriptions(num,descFolder,indexedDescBag):\n",
    "    stopWords = getStopWords()\n",
    "    featureVectorList = []\n",
    "    for n in range(num):\n",
    "        imageTagVec = [0.0 for tag in range(len(indexedDescBag.keys()))]\n",
    "        f = descFolder +\"/\" + str(n) + \".txt\"\n",
    "        fileDescriptions = readDescriptionFile(f) #2D Array\n",
    "        stemDescriptions = stemmedDescriptions(fileDescriptions) #applying stemming so to aggregate similar words\n",
    "        for desc in stemDescriptions:\n",
    "            for word in desc:\n",
    "                lowerWord = lowerCase(word)\n",
    "                if str(lowerWord) in indexedDescBag.keys() and str(lowerWord) != \"\" and str(lowerWord) not in stopWords:\n",
    "                    imageTagVec[indexedDescBag[str(lowerWord)]] +=1.0\n",
    "        featureVectorList.append(imageTagVec)\n",
    "    return pd.DataFrame(featureVectorList,columns = indexedDescBag.keys())"
   ]
  },
  {
   "cell_type": "code",
   "execution_count": 27,
   "metadata": {
    "collapsed": true
   },
   "outputs": [],
   "source": [
    "descBag = createBag(numTrain,descriptionTrainFolder)\n",
    "indexedDescBag = indexBag(descBag)"
   ]
  },
  {
   "cell_type": "code",
   "execution_count": 28,
   "metadata": {
    "collapsed": true
   },
   "outputs": [],
   "source": [
    "descVectors = binaryVectorizeDescriptions(numTrain,descriptionTrainFolder,indexedDescBag)"
   ]
  },
  {
   "cell_type": "code",
   "execution_count": 29,
   "metadata": {
    "collapsed": true
   },
   "outputs": [],
   "source": [
    "normalizedDescVector = descVectors.div(descVectors.sum(axis=1), axis=0)"
   ]
  },
  {
   "cell_type": "code",
   "execution_count": 30,
   "metadata": {
    "collapsed": false
   },
   "outputs": [
    {
     "name": "stdout",
     "output_type": "stream",
     "text": [
      "(10000, 6456)\n"
     ]
    }
   ],
   "source": [
    "print (normalizedDescVector.shape)"
   ]
  },
  {
   "cell_type": "code",
   "execution_count": 48,
   "metadata": {
    "collapsed": false
   },
   "outputs": [],
   "source": [
    "allFeatures = pd.concat([normalizedDescVector, softMaxDF], axis=1)"
   ]
  },
  {
   "cell_type": "code",
   "execution_count": 59,
   "metadata": {
    "collapsed": false
   },
   "outputs": [],
   "source": [
    "allFeaturesNonNorm =pd.concat([descVectors, softMaxDF], axis=1)"
   ]
  },
  {
   "cell_type": "code",
   "execution_count": 50,
   "metadata": {
    "collapsed": false
   },
   "outputs": [
    {
     "data": {
      "text/html": [
       "<div>\n",
       "<table border=\"1\" class=\"dataframe\">\n",
       "  <thead>\n",
       "    <tr style=\"text-align: right;\">\n",
       "      <th></th>\n",
       "      <th>trampolin</th>\n",
       "      <th>crust</th>\n",
       "      <th>overgrowth</th>\n",
       "      <th>kitten</th>\n",
       "      <th>goblet</th>\n",
       "      <th>inform</th>\n",
       "      <th>martini</th>\n",
       "      <th>itsef</th>\n",
       "      <th>horserac</th>\n",
       "      <th>reb</th>\n",
       "      <th>...</th>\n",
       "      <th>991</th>\n",
       "      <th>992</th>\n",
       "      <th>993</th>\n",
       "      <th>994</th>\n",
       "      <th>995</th>\n",
       "      <th>996</th>\n",
       "      <th>997</th>\n",
       "      <th>998</th>\n",
       "      <th>999</th>\n",
       "      <th>1000</th>\n",
       "    </tr>\n",
       "  </thead>\n",
       "  <tbody>\n",
       "    <tr>\n",
       "      <th>0</th>\n",
       "      <td>0</td>\n",
       "      <td>0</td>\n",
       "      <td>0</td>\n",
       "      <td>0</td>\n",
       "      <td>0</td>\n",
       "      <td>0</td>\n",
       "      <td>0</td>\n",
       "      <td>0</td>\n",
       "      <td>0</td>\n",
       "      <td>0</td>\n",
       "      <td>...</td>\n",
       "      <td>4.147876e-09</td>\n",
       "      <td>7.795882e-07</td>\n",
       "      <td>2.137072e-08</td>\n",
       "      <td>4.536942e-07</td>\n",
       "      <td>2.348028e-07</td>\n",
       "      <td>1.146491e-06</td>\n",
       "      <td>1.363482e-06</td>\n",
       "      <td>1.078203e-08</td>\n",
       "      <td>1.252444e-07</td>\n",
       "      <td>3.330733e-09</td>\n",
       "    </tr>\n",
       "    <tr>\n",
       "      <th>1</th>\n",
       "      <td>0</td>\n",
       "      <td>0</td>\n",
       "      <td>0</td>\n",
       "      <td>0</td>\n",
       "      <td>0</td>\n",
       "      <td>0</td>\n",
       "      <td>0</td>\n",
       "      <td>0</td>\n",
       "      <td>0</td>\n",
       "      <td>0</td>\n",
       "      <td>...</td>\n",
       "      <td>1.153486e-06</td>\n",
       "      <td>2.155777e-08</td>\n",
       "      <td>7.707900e-08</td>\n",
       "      <td>1.716825e-08</td>\n",
       "      <td>6.402719e-08</td>\n",
       "      <td>3.399505e-07</td>\n",
       "      <td>2.291550e-07</td>\n",
       "      <td>8.842370e-09</td>\n",
       "      <td>4.936724e-07</td>\n",
       "      <td>4.335200e-07</td>\n",
       "    </tr>\n",
       "    <tr>\n",
       "      <th>2</th>\n",
       "      <td>0</td>\n",
       "      <td>0</td>\n",
       "      <td>0</td>\n",
       "      <td>0</td>\n",
       "      <td>0</td>\n",
       "      <td>0</td>\n",
       "      <td>0</td>\n",
       "      <td>0</td>\n",
       "      <td>0</td>\n",
       "      <td>0</td>\n",
       "      <td>...</td>\n",
       "      <td>3.043387e-07</td>\n",
       "      <td>4.378452e-07</td>\n",
       "      <td>3.107051e-07</td>\n",
       "      <td>4.795648e-07</td>\n",
       "      <td>1.099367e-06</td>\n",
       "      <td>1.670713e-05</td>\n",
       "      <td>1.114089e-05</td>\n",
       "      <td>1.476612e-07</td>\n",
       "      <td>3.733805e-06</td>\n",
       "      <td>6.965225e-06</td>\n",
       "    </tr>\n",
       "    <tr>\n",
       "      <th>3</th>\n",
       "      <td>0</td>\n",
       "      <td>0</td>\n",
       "      <td>0</td>\n",
       "      <td>0</td>\n",
       "      <td>0</td>\n",
       "      <td>0</td>\n",
       "      <td>0</td>\n",
       "      <td>0</td>\n",
       "      <td>0</td>\n",
       "      <td>0</td>\n",
       "      <td>...</td>\n",
       "      <td>2.947555e-06</td>\n",
       "      <td>5.452003e-06</td>\n",
       "      <td>1.832342e-06</td>\n",
       "      <td>7.336506e-07</td>\n",
       "      <td>1.131646e-05</td>\n",
       "      <td>1.071788e-03</td>\n",
       "      <td>2.876753e-05</td>\n",
       "      <td>1.144850e-06</td>\n",
       "      <td>2.916980e-05</td>\n",
       "      <td>1.224543e-05</td>\n",
       "    </tr>\n",
       "    <tr>\n",
       "      <th>4</th>\n",
       "      <td>0</td>\n",
       "      <td>0</td>\n",
       "      <td>0</td>\n",
       "      <td>0</td>\n",
       "      <td>0</td>\n",
       "      <td>0</td>\n",
       "      <td>0</td>\n",
       "      <td>0</td>\n",
       "      <td>0</td>\n",
       "      <td>0</td>\n",
       "      <td>...</td>\n",
       "      <td>1.603493e-09</td>\n",
       "      <td>6.014030e-10</td>\n",
       "      <td>1.176476e-10</td>\n",
       "      <td>5.761473e-08</td>\n",
       "      <td>1.008474e-09</td>\n",
       "      <td>1.536633e-08</td>\n",
       "      <td>2.041168e-08</td>\n",
       "      <td>8.044219e-10</td>\n",
       "      <td>1.615021e-09</td>\n",
       "      <td>8.323935e-10</td>\n",
       "    </tr>\n",
       "  </tbody>\n",
       "</table>\n",
       "<p>5 rows × 7456 columns</p>\n",
       "</div>"
      ],
      "text/plain": [
       "   trampolin  crust  overgrowth  kitten  goblet  inform  martini  itsef  \\\n",
       "0          0      0           0       0       0       0        0      0   \n",
       "1          0      0           0       0       0       0        0      0   \n",
       "2          0      0           0       0       0       0        0      0   \n",
       "3          0      0           0       0       0       0        0      0   \n",
       "4          0      0           0       0       0       0        0      0   \n",
       "\n",
       "   horserac  reb      ...                991           992           993  \\\n",
       "0         0    0      ...       4.147876e-09  7.795882e-07  2.137072e-08   \n",
       "1         0    0      ...       1.153486e-06  2.155777e-08  7.707900e-08   \n",
       "2         0    0      ...       3.043387e-07  4.378452e-07  3.107051e-07   \n",
       "3         0    0      ...       2.947555e-06  5.452003e-06  1.832342e-06   \n",
       "4         0    0      ...       1.603493e-09  6.014030e-10  1.176476e-10   \n",
       "\n",
       "            994           995           996           997           998  \\\n",
       "0  4.536942e-07  2.348028e-07  1.146491e-06  1.363482e-06  1.078203e-08   \n",
       "1  1.716825e-08  6.402719e-08  3.399505e-07  2.291550e-07  8.842370e-09   \n",
       "2  4.795648e-07  1.099367e-06  1.670713e-05  1.114089e-05  1.476612e-07   \n",
       "3  7.336506e-07  1.131646e-05  1.071788e-03  2.876753e-05  1.144850e-06   \n",
       "4  5.761473e-08  1.008474e-09  1.536633e-08  2.041168e-08  8.044219e-10   \n",
       "\n",
       "            999          1000  \n",
       "0  1.252444e-07  3.330733e-09  \n",
       "1  4.936724e-07  4.335200e-07  \n",
       "2  3.733805e-06  6.965225e-06  \n",
       "3  2.916980e-05  1.224543e-05  \n",
       "4  1.615021e-09  8.323935e-10  \n",
       "\n",
       "[5 rows x 7456 columns]"
      ]
     },
     "execution_count": 50,
     "metadata": {},
     "output_type": "execute_result"
    }
   ],
   "source": [
    "allFeatures.head()"
   ]
  },
  {
   "cell_type": "code",
   "execution_count": null,
   "metadata": {
    "collapsed": true
   },
   "outputs": [],
   "source": []
  },
  {
   "cell_type": "code",
   "execution_count": null,
   "metadata": {
    "collapsed": true
   },
   "outputs": [],
   "source": []
  },
  {
   "cell_type": "markdown",
   "metadata": {},
   "source": [
    "# reducing dimensions of Image Features"
   ]
  },
  {
   "cell_type": "code",
   "execution_count": 83,
   "metadata": {
    "collapsed": true
   },
   "outputs": [],
   "source": [
    "def reduceDimensions(x,ncomp):\n",
    "    #ncomp = number of components\n",
    "    pca = PCA(ncomp)\n",
    "    pca.fit(x)\n",
    "    newX = pca.transform(x)\n",
    "    return newX"
   ]
  },
  {
   "cell_type": "code",
   "execution_count": 85,
   "metadata": {
    "collapsed": false
   },
   "outputs": [],
   "source": [
    "imageMatrix = softMaxDF.values"
   ]
  },
  {
   "cell_type": "code",
   "execution_count": 86,
   "metadata": {
    "collapsed": false
   },
   "outputs": [
    {
     "data": {
      "text/plain": [
       "array([[  4.69051789e-07,   1.57853699e-06,   9.32865186e-05, ...,\n",
       "          5.88929013e-07,   1.14142540e-05,   3.70021713e-05],\n",
       "       [  4.46757322e-06,   5.97130207e-06,   1.52917948e-08, ...,\n",
       "          1.11132751e-06,   1.35697696e-04,   1.28081728e-06]])"
      ]
     },
     "execution_count": 86,
     "metadata": {},
     "output_type": "execute_result"
    }
   ],
   "source": [
    "imageMatrix[0:2]"
   ]
  },
  {
   "cell_type": "code",
   "execution_count": 87,
   "metadata": {
    "collapsed": false
   },
   "outputs": [],
   "source": [
    "imagePCAArray= reduceDimensions(imageMatrix,200) #PCA rray"
   ]
  },
  {
   "cell_type": "code",
   "execution_count": 88,
   "metadata": {
    "collapsed": true
   },
   "outputs": [],
   "source": [
    "PCAimageDF = pd.DataFrame(imagePCAArray)"
   ]
  },
  {
   "cell_type": "code",
   "execution_count": 89,
   "metadata": {
    "collapsed": false
   },
   "outputs": [
    {
     "data": {
      "text/html": [
       "<div>\n",
       "<table border=\"1\" class=\"dataframe\">\n",
       "  <thead>\n",
       "    <tr style=\"text-align: right;\">\n",
       "      <th></th>\n",
       "      <th>0</th>\n",
       "      <th>1</th>\n",
       "      <th>2</th>\n",
       "      <th>3</th>\n",
       "      <th>4</th>\n",
       "      <th>5</th>\n",
       "      <th>6</th>\n",
       "      <th>7</th>\n",
       "      <th>8</th>\n",
       "      <th>9</th>\n",
       "      <th>...</th>\n",
       "      <th>190</th>\n",
       "      <th>191</th>\n",
       "      <th>192</th>\n",
       "      <th>193</th>\n",
       "      <th>194</th>\n",
       "      <th>195</th>\n",
       "      <th>196</th>\n",
       "      <th>197</th>\n",
       "      <th>198</th>\n",
       "      <th>199</th>\n",
       "    </tr>\n",
       "  </thead>\n",
       "  <tbody>\n",
       "    <tr>\n",
       "      <th>0</th>\n",
       "      <td>-0.006241</td>\n",
       "      <td>0.005311</td>\n",
       "      <td>-0.004926</td>\n",
       "      <td>-0.008557</td>\n",
       "      <td>-0.011236</td>\n",
       "      <td>0.005487</td>\n",
       "      <td>-0.008824</td>\n",
       "      <td>-0.009371</td>\n",
       "      <td>0.005629</td>\n",
       "      <td>0.000342</td>\n",
       "      <td>...</td>\n",
       "      <td>-0.018052</td>\n",
       "      <td>-0.003218</td>\n",
       "      <td>-0.001844</td>\n",
       "      <td>0.010277</td>\n",
       "      <td>0.002703</td>\n",
       "      <td>-0.014066</td>\n",
       "      <td>-0.005409</td>\n",
       "      <td>-0.008896</td>\n",
       "      <td>-0.002975</td>\n",
       "      <td>0.019202</td>\n",
       "    </tr>\n",
       "    <tr>\n",
       "      <th>1</th>\n",
       "      <td>-0.006603</td>\n",
       "      <td>-0.014573</td>\n",
       "      <td>-0.011997</td>\n",
       "      <td>-0.011005</td>\n",
       "      <td>-0.022990</td>\n",
       "      <td>-0.005486</td>\n",
       "      <td>-0.027494</td>\n",
       "      <td>-0.026032</td>\n",
       "      <td>-0.029964</td>\n",
       "      <td>0.000023</td>\n",
       "      <td>...</td>\n",
       "      <td>0.000054</td>\n",
       "      <td>0.001378</td>\n",
       "      <td>-0.000688</td>\n",
       "      <td>0.004490</td>\n",
       "      <td>-0.003251</td>\n",
       "      <td>-0.005261</td>\n",
       "      <td>0.002010</td>\n",
       "      <td>0.006070</td>\n",
       "      <td>0.000137</td>\n",
       "      <td>-0.001907</td>\n",
       "    </tr>\n",
       "    <tr>\n",
       "      <th>2</th>\n",
       "      <td>-0.011182</td>\n",
       "      <td>-0.024934</td>\n",
       "      <td>-0.021987</td>\n",
       "      <td>-0.024327</td>\n",
       "      <td>-0.031752</td>\n",
       "      <td>-0.143728</td>\n",
       "      <td>0.155639</td>\n",
       "      <td>0.021238</td>\n",
       "      <td>0.059129</td>\n",
       "      <td>0.366964</td>\n",
       "      <td>...</td>\n",
       "      <td>0.000138</td>\n",
       "      <td>-0.001071</td>\n",
       "      <td>-0.001340</td>\n",
       "      <td>0.000199</td>\n",
       "      <td>0.001546</td>\n",
       "      <td>0.000924</td>\n",
       "      <td>0.000747</td>\n",
       "      <td>0.001018</td>\n",
       "      <td>-0.004037</td>\n",
       "      <td>0.001567</td>\n",
       "    </tr>\n",
       "    <tr>\n",
       "      <th>3</th>\n",
       "      <td>0.004046</td>\n",
       "      <td>-0.015166</td>\n",
       "      <td>0.009521</td>\n",
       "      <td>-0.006536</td>\n",
       "      <td>-0.016325</td>\n",
       "      <td>0.000412</td>\n",
       "      <td>-0.014517</td>\n",
       "      <td>-0.012316</td>\n",
       "      <td>0.005579</td>\n",
       "      <td>0.000069</td>\n",
       "      <td>...</td>\n",
       "      <td>0.008234</td>\n",
       "      <td>-0.000032</td>\n",
       "      <td>0.015108</td>\n",
       "      <td>-0.007963</td>\n",
       "      <td>-0.034638</td>\n",
       "      <td>0.027858</td>\n",
       "      <td>-0.006215</td>\n",
       "      <td>0.031626</td>\n",
       "      <td>-0.030582</td>\n",
       "      <td>-0.007848</td>\n",
       "    </tr>\n",
       "    <tr>\n",
       "      <th>4</th>\n",
       "      <td>0.064056</td>\n",
       "      <td>0.025218</td>\n",
       "      <td>-0.006395</td>\n",
       "      <td>-0.002476</td>\n",
       "      <td>-0.009404</td>\n",
       "      <td>-0.001485</td>\n",
       "      <td>-0.013124</td>\n",
       "      <td>-0.011271</td>\n",
       "      <td>0.005274</td>\n",
       "      <td>-0.000106</td>\n",
       "      <td>...</td>\n",
       "      <td>0.001868</td>\n",
       "      <td>0.002721</td>\n",
       "      <td>-0.000852</td>\n",
       "      <td>-0.000125</td>\n",
       "      <td>0.001921</td>\n",
       "      <td>0.001527</td>\n",
       "      <td>0.001881</td>\n",
       "      <td>-0.000113</td>\n",
       "      <td>0.000253</td>\n",
       "      <td>-0.000431</td>\n",
       "    </tr>\n",
       "  </tbody>\n",
       "</table>\n",
       "<p>5 rows × 200 columns</p>\n",
       "</div>"
      ],
      "text/plain": [
       "        0         1         2         3         4         5         6    \\\n",
       "0 -0.006241  0.005311 -0.004926 -0.008557 -0.011236  0.005487 -0.008824   \n",
       "1 -0.006603 -0.014573 -0.011997 -0.011005 -0.022990 -0.005486 -0.027494   \n",
       "2 -0.011182 -0.024934 -0.021987 -0.024327 -0.031752 -0.143728  0.155639   \n",
       "3  0.004046 -0.015166  0.009521 -0.006536 -0.016325  0.000412 -0.014517   \n",
       "4  0.064056  0.025218 -0.006395 -0.002476 -0.009404 -0.001485 -0.013124   \n",
       "\n",
       "        7         8         9      ...          190       191       192  \\\n",
       "0 -0.009371  0.005629  0.000342    ...    -0.018052 -0.003218 -0.001844   \n",
       "1 -0.026032 -0.029964  0.000023    ...     0.000054  0.001378 -0.000688   \n",
       "2  0.021238  0.059129  0.366964    ...     0.000138 -0.001071 -0.001340   \n",
       "3 -0.012316  0.005579  0.000069    ...     0.008234 -0.000032  0.015108   \n",
       "4 -0.011271  0.005274 -0.000106    ...     0.001868  0.002721 -0.000852   \n",
       "\n",
       "        193       194       195       196       197       198       199  \n",
       "0  0.010277  0.002703 -0.014066 -0.005409 -0.008896 -0.002975  0.019202  \n",
       "1  0.004490 -0.003251 -0.005261  0.002010  0.006070  0.000137 -0.001907  \n",
       "2  0.000199  0.001546  0.000924  0.000747  0.001018 -0.004037  0.001567  \n",
       "3 -0.007963 -0.034638  0.027858 -0.006215  0.031626 -0.030582 -0.007848  \n",
       "4 -0.000125  0.001921  0.001527  0.001881 -0.000113  0.000253 -0.000431  \n",
       "\n",
       "[5 rows x 200 columns]"
      ]
     },
     "execution_count": 89,
     "metadata": {},
     "output_type": "execute_result"
    }
   ],
   "source": [
    "PCAimageDF.head(5)"
   ]
  },
  {
   "cell_type": "code",
   "execution_count": 90,
   "metadata": {
    "collapsed": true
   },
   "outputs": [],
   "source": [
    "allFeaturesRedNorm = pd.concat([normalizedDescVector, softMaxDF], axis=1)"
   ]
  },
  {
   "cell_type": "code",
   "execution_count": 92,
   "metadata": {
    "collapsed": false
   },
   "outputs": [],
   "source": [
    "allFeaturesRed = pd.concat([descVectors, softMaxDF], axis=1)"
   ]
  },
  {
   "cell_type": "code",
   "execution_count": 93,
   "metadata": {
    "collapsed": true
   },
   "outputs": [],
   "source": [
    "allFeaturesTopNorm = pd.concat([normalizedDescVector, binImages20DF], axis=1)"
   ]
  },
  {
   "cell_type": "code",
   "execution_count": 94,
   "metadata": {
    "collapsed": true
   },
   "outputs": [],
   "source": [
    "allFeaturesTop = pd.concat([descVectors, binImages20DF], axis=1)"
   ]
  },
  {
   "cell_type": "markdown",
   "metadata": {
    "collapsed": true
   },
   "source": [
    "# Binary representation of images"
   ]
  },
  {
   "cell_type": "code",
   "execution_count": 95,
   "metadata": {
    "collapsed": false
   },
   "outputs": [],
   "source": [
    "mlb = MultiLabelBinarizer()\n",
    "binImages = mlb.fit_transform(consolMatrix)"
   ]
  },
  {
   "cell_type": "code",
   "execution_count": 96,
   "metadata": {
    "collapsed": false
   },
   "outputs": [
    {
     "data": {
      "text/plain": [
       "993"
      ]
     },
     "execution_count": 96,
     "metadata": {},
     "output_type": "execute_result"
    }
   ],
   "source": [
    "len(binImages[0])"
   ]
  },
  {
   "cell_type": "code",
   "execution_count": 89,
   "metadata": {
    "collapsed": false
   },
   "outputs": [
    {
     "data": {
      "text/plain": [
       "(10000, 1000)"
      ]
     },
     "execution_count": 89,
     "metadata": {},
     "output_type": "execute_result"
    }
   ],
   "source": [
    "binImages.shape"
   ]
  },
  {
   "cell_type": "markdown",
   "metadata": {},
   "source": [
    "# SVM"
   ]
  },
  {
   "cell_type": "code",
   "execution_count": 51,
   "metadata": {
    "collapsed": true
   },
   "outputs": [],
   "source": [
    "def SVM(train,trainLabel,test):\n",
    "#     clf = SVC()\n",
    "#     clf.fit(train,trainLabel)\n",
    "#     preds = clf.predict(test)\n",
    "    preds = OneVsRestClassifier(LinearSVC(random_state=0)).fit(train, trainLabel).predict(test)\n",
    "    return preds"
   ]
  },
  {
   "cell_type": "code",
   "execution_count": 64,
   "metadata": {
    "collapsed": true
   },
   "outputs": [],
   "source": [
    "def crossValidate(data,labels, classifier):\n",
    "    kf = KFold(len(data),3)\n",
    "    for trainIdx,testIdx in kf:\n",
    "        c = 0\n",
    "        train = np.array([data[idx] for idx in trainIdx])\n",
    "        test = np.array([data[idx] for idx in testIdx])\n",
    "        trainLabels = np.array([labels[idx] for idx in trainIdx])\n",
    "        testLabels = np.array([labels[idx] for idx in testIdx])\n",
    "        print (train.shape,trainLabels.shape)\n",
    "        testPreds = classifier(train,trainLabels,test)\n",
    "        for i in range(len(testPreds)):\n",
    "            if np.array_equal(testPreds[i],testLabels[i]):\n",
    "                c+=1\n",
    "        print (c)\n",
    "        print (float(len(testPreds)))\n",
    "        print (\"Accuracy: \" + str(c/float(len(testPreds))))"
   ]
  },
  {
   "cell_type": "code",
   "execution_count": 53,
   "metadata": {
    "collapsed": false
   },
   "outputs": [
    {
     "data": {
      "text/plain": [
       "((10000, 7456), (10000, 80))"
      ]
     },
     "execution_count": 53,
     "metadata": {},
     "output_type": "execute_result"
    }
   ],
   "source": [
    "allFeatures.shape, tagVectors.shape"
   ]
  },
  {
   "cell_type": "code",
   "execution_count": 54,
   "metadata": {
    "collapsed": false
   },
   "outputs": [
    {
     "name": "stdout",
     "output_type": "stream",
     "text": [
      "(6666, 7456) (6666, 80)\n",
      "1246\n",
      "3334.0\n",
      "Accuracy: 0.3737252549490102\n",
      "(6667, 7456) (6667, 80)\n",
      "1301\n",
      "3333.0\n",
      "Accuracy: 0.39033903390339036\n",
      "(6667, 7456) (6667, 80)\n",
      "1278\n",
      "3333.0\n",
      "Accuracy: 0.38343834383438347\n"
     ]
    }
   ],
   "source": [
    "crossValidate(allFeatures.values,tagVectors.values)"
   ]
  },
  {
   "cell_type": "code",
   "execution_count": 60,
   "metadata": {
    "collapsed": false
   },
   "outputs": [
    {
     "name": "stdout",
     "output_type": "stream",
     "text": [
      "(6666, 7456) (6666, 80)\n",
      "955\n",
      "3334.0\n",
      "Accuracy: 0.28644271145770844\n",
      "(6667, 7456) (6667, 80)\n",
      "961\n",
      "3333.0\n",
      "Accuracy: 0.2883288328832883\n",
      "(6667, 7456) (6667, 80)\n",
      "975\n",
      "3333.0\n",
      "Accuracy: 0.2925292529252925\n"
     ]
    }
   ],
   "source": [
    "crossValidate(allFeaturesNonNorm.values,tagVectors.values)"
   ]
  },
  {
   "cell_type": "markdown",
   "metadata": {},
   "source": [
    "# Logistic Regression"
   ]
  },
  {
   "cell_type": "code",
   "execution_count": 72,
   "metadata": {
    "collapsed": false
   },
   "outputs": [],
   "source": [
    "def logRegression(train,trainLabel,test):\n",
    "    preds = OneVsRestClassifier(LogisticRegression()).fit(train, trainLabel).predict(test)\n",
    "    return preds"
   ]
  },
  {
   "cell_type": "code",
   "execution_count": 74,
   "metadata": {
    "collapsed": false
   },
   "outputs": [],
   "source": [
    "# crossValidate(allFeatures.values,tagVectors.values, logRegression)"
   ]
  },
  {
   "cell_type": "code",
   "execution_count": 75,
   "metadata": {
    "collapsed": false
   },
   "outputs": [
    {
     "name": "stdout",
     "output_type": "stream",
     "text": [
      "(6666, 7456) (6666, 80)\n",
      "1298\n",
      "3334.0\n",
      "Accuracy: 0.3893221355728854\n",
      "(6667, 7456) (6667, 80)\n",
      "1329\n",
      "3333.0\n",
      "Accuracy: 0.39873987398739874\n",
      "(6667, 7456) (6667, 80)\n",
      "1303\n",
      "3333.0\n",
      "Accuracy: 0.39093909390939097\n"
     ]
    }
   ],
   "source": [
    "crossValidate(allFeaturesNonNorm.values,tagVectors.values, logRegression)"
   ]
  },
  {
   "cell_type": "markdown",
   "metadata": {},
   "source": [
    "# After PCA on Image"
   ]
  },
  {
   "cell_type": "code",
   "execution_count": 95,
   "metadata": {
    "collapsed": false
   },
   "outputs": [
    {
     "name": "stdout",
     "output_type": "stream",
     "text": [
      "(6666, 7456) (6666, 80)\n",
      "1246\n",
      "3334.0\n",
      "Accuracy: 0.3737252549490102\n",
      "(6667, 7456) (6667, 80)\n",
      "1301\n",
      "3333.0\n",
      "Accuracy: 0.39033903390339036\n",
      "(6667, 7456) (6667, 80)\n",
      "1278\n",
      "3333.0\n",
      "Accuracy: 0.38343834383438347\n"
     ]
    }
   ],
   "source": [
    "crossValidate(allFeaturesRedNorm.values,tagVectors.values, SVM)"
   ]
  },
  {
   "cell_type": "code",
   "execution_count": 98,
   "metadata": {
    "collapsed": false
   },
   "outputs": [
    {
     "name": "stdout",
     "output_type": "stream",
     "text": [
      "(6666, 7456) (6666, 80)\n",
      "955\n",
      "3334.0\n",
      "Accuracy: 0.28644271145770844\n",
      "(6667, 7456) (6667, 80)\n",
      "961\n",
      "3333.0\n",
      "Accuracy: 0.2883288328832883\n",
      "(6667, 7456) (6667, 80)\n",
      "975\n",
      "3333.0\n",
      "Accuracy: 0.2925292529252925\n"
     ]
    }
   ],
   "source": [
    "crossValidate(allFeaturesRed.values,tagVectors.values, SVM)"
   ]
  },
  {
   "cell_type": "code",
   "execution_count": 100,
   "metadata": {
    "collapsed": false
   },
   "outputs": [],
   "source": [
    "# crossValidate(allFeaturesRedNorm.values,tagVectors.values, logRegression)"
   ]
  },
  {
   "cell_type": "code",
   "execution_count": 101,
   "metadata": {
    "collapsed": false
   },
   "outputs": [
    {
     "name": "stdout",
     "output_type": "stream",
     "text": [
      "(6666, 7456) (6666, 80)\n",
      "1298\n",
      "3334.0\n",
      "Accuracy: 0.3893221355728854\n",
      "(6667, 7456) (6667, 80)\n",
      "1329\n",
      "3333.0\n",
      "Accuracy: 0.39873987398739874\n",
      "(6667, 7456) (6667, 80)\n",
      "1303\n",
      "3333.0\n",
      "Accuracy: 0.39093909390939097\n"
     ]
    }
   ],
   "source": [
    "crossValidate(allFeaturesRed.values,tagVectors.values, logRegression)"
   ]
  },
  {
   "cell_type": "markdown",
   "metadata": {},
   "source": [
    "# After One Hot Encoding Top 20 probable classes for each row for Images"
   ]
  },
  {
   "cell_type": "code",
   "execution_count": 96,
   "metadata": {
    "collapsed": false
   },
   "outputs": [
    {
     "name": "stdout",
     "output_type": "stream",
     "text": [
      "(6666, 7449) (6666, 80)\n",
      "664\n",
      "3334.0\n",
      "Accuracy: 0.19916016796640673\n",
      "(6667, 7449) (6667, 80)\n",
      "708\n",
      "3333.0\n",
      "Accuracy: 0.21242124212421243\n",
      "(6667, 7449) (6667, 80)\n",
      "667\n",
      "3333.0\n",
      "Accuracy: 0.2001200120012001\n"
     ]
    }
   ],
   "source": [
    "crossValidate(allFeaturesTopNorm.values,tagVectors.values, SVM)"
   ]
  },
  {
   "cell_type": "code",
   "execution_count": 102,
   "metadata": {
    "collapsed": false
   },
   "outputs": [
    {
     "name": "stdout",
     "output_type": "stream",
     "text": [
      "(6666, 7449) (6666, 80)\n",
      "1001\n",
      "3334.0\n",
      "Accuracy: 0.3002399520095981\n",
      "(6667, 7449) (6667, 80)\n",
      "993\n",
      "3333.0\n",
      "Accuracy: 0.29792979297929795\n",
      "(6667, 7449) (6667, 80)\n",
      "958\n",
      "3333.0\n",
      "Accuracy: 0.28742874287428744\n"
     ]
    }
   ],
   "source": [
    "crossValidate(allFeaturesTop.values,tagVectors.values, SVM)"
   ]
  },
  {
   "cell_type": "code",
   "execution_count": null,
   "metadata": {
    "collapsed": true
   },
   "outputs": [],
   "source": [
    "# crossValidate(allFeaturesTopNorm.values,tagVectors.values, logRegression)"
   ]
  },
  {
   "cell_type": "code",
   "execution_count": 103,
   "metadata": {
    "collapsed": false
   },
   "outputs": [
    {
     "name": "stdout",
     "output_type": "stream",
     "text": [
      "(6666, 7449) (6666, 80)\n",
      "1274\n",
      "3334.0\n",
      "Accuracy: 0.382123575284943\n",
      "(6667, 7449) (6667, 80)\n",
      "1334\n",
      "3333.0\n",
      "Accuracy: 0.4002400240024002\n",
      "(6667, 7449) (6667, 80)\n",
      "1283\n",
      "3333.0\n",
      "Accuracy: 0.38493849384938494\n"
     ]
    }
   ],
   "source": [
    "crossValidate(allFeaturesTop.values,tagVectors.values, logRegression)"
   ]
  },
  {
   "cell_type": "code",
   "execution_count": null,
   "metadata": {
    "collapsed": true
   },
   "outputs": [],
   "source": []
  },
  {
   "cell_type": "markdown",
   "metadata": {},
   "source": [
    "# Using Just Images Features as Input"
   ]
  },
  {
   "cell_type": "code",
   "execution_count": 97,
   "metadata": {
    "collapsed": false
   },
   "outputs": [
    {
     "name": "stdout",
     "output_type": "stream",
     "text": [
      "(6666, 1000) (6666, 80)\n",
      "628\n",
      "3334.0\n",
      "Accuracy: 0.1883623275344931\n",
      "(6667, 1000) (6667, 80)\n",
      "597\n",
      "3333.0\n",
      "Accuracy: 0.1791179117911791\n",
      "(6667, 1000) (6667, 80)\n",
      "627\n",
      "3333.0\n",
      "Accuracy: 0.18811881188118812\n"
     ]
    }
   ],
   "source": [
    "crossValidate(softMaxDF.values,tagVectors.values, SVM)"
   ]
  },
  {
   "cell_type": "code",
   "execution_count": 104,
   "metadata": {
    "collapsed": false
   },
   "outputs": [
    {
     "name": "stdout",
     "output_type": "stream",
     "text": [
      "(6666, 1000) (6666, 80)\n",
      "426\n",
      "3334.0\n",
      "Accuracy: 0.1277744451109778\n",
      "(6667, 1000) (6667, 80)\n",
      "408\n",
      "3333.0\n",
      "Accuracy: 0.1224122412241224\n",
      "(6667, 1000) (6667, 80)\n",
      "406\n",
      "3333.0\n",
      "Accuracy: 0.12181218121812182\n"
     ]
    }
   ],
   "source": [
    "crossValidate(softMaxDF.values,tagVectors.values, logRegression)"
   ]
  },
  {
   "cell_type": "code",
   "execution_count": 105,
   "metadata": {
    "collapsed": false
   },
   "outputs": [
    {
     "name": "stdout",
     "output_type": "stream",
     "text": [
      "(6666, 993) (6666, 80)\n",
      "466\n",
      "3334.0\n",
      "Accuracy: 0.13977204559088183\n",
      "(6667, 993) (6667, 80)\n",
      "487\n",
      "3333.0\n",
      "Accuracy: 0.14611461146114613\n",
      "(6667, 993) (6667, 80)\n",
      "468\n",
      "3333.0\n",
      "Accuracy: 0.1404140414041404\n"
     ]
    }
   ],
   "source": [
    "crossValidate(binImages20DF.values,tagVectors.values, SVM)"
   ]
  },
  {
   "cell_type": "code",
   "execution_count": null,
   "metadata": {
    "collapsed": false
   },
   "outputs": [
    {
     "name": "stdout",
     "output_type": "stream",
     "text": [
      "(6666, 993) (6666, 80)\n",
      "674\n",
      "3334.0\n",
      "Accuracy: 0.20215956808638272\n",
      "(6667, 993) (6667, 80)\n",
      "676\n",
      "3333.0\n",
      "Accuracy: 0.20282028202820282\n",
      "(6667, 993) (6667, 80)\n",
      "671\n",
      "3333.0\n",
      "Accuracy: 0.20132013201320131\n"
     ]
    }
   ],
   "source": [
    "crossValidate(binImages20DF.values,tagVectors.values, logRegression)"
   ]
  },
  {
   "cell_type": "code",
   "execution_count": null,
   "metadata": {
    "collapsed": false
   },
   "outputs": [
    {
     "name": "stdout",
     "output_type": "stream",
     "text": [
      "(6666, 200) (6666, 80)\n"
     ]
    }
   ],
   "source": [
    "crossValidate(PCAimageDF.values,tagVectors.values, SVM)"
   ]
  },
  {
   "cell_type": "code",
   "execution_count": null,
   "metadata": {
    "collapsed": true
   },
   "outputs": [],
   "source": [
    "crossValidate(PCAimageDF.values,tagVectors.values, logRegression)"
   ]
  },
  {
   "cell_type": "code",
   "execution_count": null,
   "metadata": {
    "collapsed": true
   },
   "outputs": [],
   "source": []
  },
  {
   "cell_type": "code",
   "execution_count": null,
   "metadata": {
    "collapsed": true
   },
   "outputs": [],
   "source": []
  },
  {
   "cell_type": "code",
   "execution_count": null,
   "metadata": {
    "collapsed": true
   },
   "outputs": [],
   "source": []
  },
  {
   "cell_type": "code",
   "execution_count": null,
   "metadata": {
    "collapsed": true
   },
   "outputs": [],
   "source": []
  },
  {
   "cell_type": "code",
   "execution_count": null,
   "metadata": {
    "collapsed": true
   },
   "outputs": [],
   "source": []
  }
 ],
 "metadata": {
  "kernelspec": {
   "display_name": "Python 3",
   "language": "python",
   "name": "python3"
  },
  "language_info": {
   "codemirror_mode": {
    "name": "ipython",
    "version": 3
   },
   "file_extension": ".py",
   "mimetype": "text/x-python",
   "name": "python",
   "nbconvert_exporter": "python",
   "pygments_lexer": "ipython3",
   "version": "3.4.5"
  }
 },
 "nbformat": 4,
 "nbformat_minor": 0
}
