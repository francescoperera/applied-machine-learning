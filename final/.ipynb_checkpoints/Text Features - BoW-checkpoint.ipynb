{
 "cells": [
  {
   "cell_type": "markdown",
   "metadata": {},
   "source": [
    "## Library"
   ]
  },
  {
   "cell_type": "code",
   "execution_count": 1,
   "metadata": {
    "collapsed": false
   },
   "outputs": [],
   "source": [
    "import pandas as pd\n",
    "import numpy as np\n",
    "from nltk.stem.wordnet import WordNetLemmatizer\n",
    "from nltk.stem import PorterStemmer\n",
    "from nltk.corpus import stopwords\n",
    "from nltk import pos_tag\n",
    "import string\n",
    "import re\n",
    "from sklearn import preprocessing\n",
    "from sklearn.neighbors import KNeighborsClassifier\n",
    "from sklearn.neighbors import NearestNeighbors"
   ]
  },
  {
   "cell_type": "markdown",
   "metadata": {},
   "source": [
    "## Folder Locations"
   ]
  },
  {
   "cell_type": "markdown",
   "metadata": {},
   "source": [
    "### Train"
   ]
  },
  {
   "cell_type": "code",
   "execution_count": 2,
   "metadata": {
    "collapsed": true
   },
   "outputs": [],
   "source": [
    "descriptionTrainFolder = \"/Users/francescoperera/Desktop/data/descriptions_train\"\n",
    "featuresTrainFolder = \"/Users/francescoperera/Desktop/data/features_train\"\n",
    "imagesTrainFolder = \"/Users/francescoperera/Desktop/data/images_train\"\n",
    "tagsTrainFolder = \"/Users/francescoperera/Desktop/data/tags_train\""
   ]
  },
  {
   "cell_type": "markdown",
   "metadata": {},
   "source": [
    "### Test"
   ]
  },
  {
   "cell_type": "code",
   "execution_count": 3,
   "metadata": {
    "collapsed": true
   },
   "outputs": [],
   "source": [
    "descriptionTestFolder = \"/Users/francescoperera/Desktop/data/descriptions_test\"\n",
    "featuresTestFolder = \"/Users/francescoperera/Desktop/data/features_test\"\n",
    "imagesTestFolder = \"/Users/francescoperera/Desktop/data/images_test\"\n",
    "tagsTestFolder = \"/Users/francescoperera/Desktop/data/tags_test\""
   ]
  },
  {
   "cell_type": "markdown",
   "metadata": {},
   "source": [
    "## Number of Files"
   ]
  },
  {
   "cell_type": "code",
   "execution_count": 4,
   "metadata": {
    "collapsed": true
   },
   "outputs": [],
   "source": [
    "numTrain = 10000\n",
    "numTest = 2000"
   ]
  },
  {
   "cell_type": "markdown",
   "metadata": {},
   "source": [
    "## Read Files"
   ]
  },
  {
   "cell_type": "code",
   "execution_count": 5,
   "metadata": {
    "collapsed": true
   },
   "outputs": [],
   "source": [
    "def readTagsFile(fileName):\n",
    "    tags = []\n",
    "    f = open(fileName,\"r\")\n",
    "    for line in f:\n",
    "        line = line.split(\":\") # possibly also consider using the keys in each line(vehicle,outdoor etc..)\n",
    "        tag = line[-1].replace(\"\\n\",\"\")\n",
    "        tags.append(tag)\n",
    "    return tags\n",
    "\n",
    "def readDescriptionFile(fileName):\n",
    "    desc = []\n",
    "    f = open(fileName,\"r\")\n",
    "    for line in f:\n",
    "        noPuncSentence = stripPunctuation(line.replace(\"\\n\",\"\"))\n",
    "        desc.append(noPuncSentence)\n",
    "    return desc\n",
    "    \n",
    "def stripPunctuation(s):\n",
    "    regex = re.compile('[%s]' % re.escape(string.punctuation))\n",
    "    return regex.sub(' ', s)"
   ]
  },
  {
   "cell_type": "code",
   "execution_count": 8,
   "metadata": {
    "collapsed": false
   },
   "outputs": [],
   "source": [
    "#tags = readTagsFile(tagsTrainFolder +\"/0.txt\")"
   ]
  },
  {
   "cell_type": "code",
   "execution_count": 9,
   "metadata": {
    "collapsed": false
   },
   "outputs": [],
   "source": [
    "#descriptions = readDescriptionFile(descriptionTrainFolder + \"/0.txt\")"
   ]
  },
  {
   "cell_type": "markdown",
   "metadata": {},
   "source": [
    "### Process Descriptions with stemming and POS"
   ]
  },
  {
   "cell_type": "code",
   "execution_count": 6,
   "metadata": {
    "collapsed": false
   },
   "outputs": [],
   "source": [
    "def stemmedDescriptions(lst):\n",
    "    stemmedDescriptions = []\n",
    "    for line in lst:\n",
    "        posLine = pos(line.split(\" \"))\n",
    "        #print posLine\n",
    "        stemmedDescriptions.append(stemmer(posLine))\n",
    "    return stemmedDescriptions\n",
    "\n",
    "def stemmer(line):\n",
    "    stemmer = PorterStemmer()\n",
    "    stemmedLine = []\n",
    "    for word,pos in line:\n",
    "        if pos == \"NN\": # only stem nouns\n",
    "            stem = stemmer.stem(word)\n",
    "            stemmedLine.append(stem)\n",
    "    return stemmedLine \n",
    "\n",
    "def pos(line):\n",
    "    return pos_tag(line)\n",
    "    "
   ]
  },
  {
   "cell_type": "code",
   "execution_count": 11,
   "metadata": {
    "collapsed": false
   },
   "outputs": [],
   "source": [
    "# stemDescriptions = stemmedDescriptions(descriptions)\n",
    "# print stemDescriptions\n",
    "# print descriptions"
   ]
  },
  {
   "cell_type": "code",
   "execution_count": 7,
   "metadata": {
    "collapsed": true
   },
   "outputs": [],
   "source": [
    "def stemTags(lst):\n",
    "    newTags = []\n",
    "    for word in lst:\n",
    "        stem = PorterStemmer().stem(word)\n",
    "        newTags.append(stem)\n",
    "    return newTags "
   ]
  },
  {
   "cell_type": "code",
   "execution_count": 13,
   "metadata": {
    "collapsed": false
   },
   "outputs": [],
   "source": [
    "#print stemTags(tags)"
   ]
  },
  {
   "cell_type": "markdown",
   "metadata": {},
   "source": [
    "### Create bag of words"
   ]
  },
  {
   "cell_type": "code",
   "execution_count": 8,
   "metadata": {
    "collapsed": false
   },
   "outputs": [],
   "source": [
    "def createBag(num,descFolder):\n",
    "    bag = {}\n",
    "    for n in range(num):\n",
    "        f = descFolder +\"/\" + str(n) + \".txt\"\n",
    "        fileDesc = readDescriptionFile(f)\n",
    "        stemDescriptions = stemmedDescriptions(fileDesc)\n",
    "        for desc in stemDescriptions:\n",
    "            for word in desc: #word is in unicode, convert it to string with str()\n",
    "                if str(word) not in bag.keys() and str(word) != \"\":\n",
    "                    bag[str(word)] = 0\n",
    "    return bag\n",
    "\n",
    "def indexBag(bag):\n",
    "    idx = 0\n",
    "    for tag in bag.keys():\n",
    "        bag[tag] = idx\n",
    "        idx+=1\n",
    "    return bag\n",
    "\n",
    "def wordFrequency(num,descFolder,bag):\n",
    "    #for test purposes\n",
    "    nonBagWords = []\n",
    "    count = 0\n",
    "    featureVectorList = []\n",
    "    for n in range(num):\n",
    "        imageFeatureVec = [0.0 for tag in range(len(bag.keys()))]\n",
    "        f = descFolder +\"/\" + str(n) + \".txt\"\n",
    "        fileDescriptions = readDescriptionFile(f) #2D Array\n",
    "        stemDescriptions = stemmedDescriptions(fileDescriptions)\n",
    "        for desc in stemDescriptions:\n",
    "            for word in desc:\n",
    "                if str(word) in bag.keys() and str(word) != \"\":\n",
    "                    imageFeatureVec[bag[str(word)]] +=1.0\n",
    "                else:\n",
    "                    nonBagWords.append(str(word))\n",
    "                    count +=1\n",
    "        #print max(imageFeatureVec) # test\n",
    "        featureVectorList.append(imageFeatureVec)\n",
    "        \n",
    "        \n",
    "    print count # count of words in descriptions not present in bag\n",
    "    return pd.DataFrame(featureVectorList,columns = bag.keys())\n",
    "\n",
    "        "
   ]
  },
  {
   "cell_type": "code",
   "execution_count": 9,
   "metadata": {
    "collapsed": false
   },
   "outputs": [],
   "source": [
    "bagOfWords = createBag(numTrain,descriptionTrainFolder)"
   ]
  },
  {
   "cell_type": "code",
   "execution_count": 10,
   "metadata": {
    "collapsed": false
   },
   "outputs": [
    {
     "name": "stdout",
     "output_type": "stream",
     "text": [
      "4463\n"
     ]
    }
   ],
   "source": [
    "print len(bagOfWords.keys())"
   ]
  },
  {
   "cell_type": "code",
   "execution_count": 11,
   "metadata": {
    "collapsed": false
   },
   "outputs": [
    {
     "name": "stdout",
     "output_type": "stream",
     "text": [
      "33793\n"
     ]
    }
   ],
   "source": [
    "indexedBOW = indexBag(bagOfWords)\n",
    "vectorizedTrain = wordFrequency(numTrain,descriptionTrainFolder,indexedBOW)"
   ]
  },
  {
   "cell_type": "code",
   "execution_count": 12,
   "metadata": {
    "collapsed": false
   },
   "outputs": [
    {
     "name": "stdout",
     "output_type": "stream",
     "text": [
      "(10000, 4463)\n"
     ]
    }
   ],
   "source": [
    "print vectorizedTrain.shape"
   ]
  },
  {
   "cell_type": "code",
   "execution_count": 43,
   "metadata": {
    "collapsed": true
   },
   "outputs": [],
   "source": [
    "# def normalize(df,bag):\n",
    "#     normalizedDf = preprocessing.normalize(df, norm='l1')\n",
    "#     return pd.DataFrame(normalizedDf,columns = bag.keys()).reset_index().drop(\"index\",axis =1)"
   ]
  },
  {
   "cell_type": "code",
   "execution_count": 44,
   "metadata": {
    "collapsed": false
   },
   "outputs": [],
   "source": [
    "# normalizedTrain = normalize(vectorizedTrain,bagOfWords)"
   ]
  },
  {
   "cell_type": "code",
   "execution_count": 45,
   "metadata": {
    "collapsed": false
   },
   "outputs": [
    {
     "name": "stdout",
     "output_type": "stream",
     "text": [
      "(10000, 4463)\n"
     ]
    }
   ],
   "source": [
    "# print normalizedTrain.shape"
   ]
  },
  {
   "cell_type": "code",
   "execution_count": 46,
   "metadata": {
    "collapsed": false
   },
   "outputs": [
    {
     "data": {
      "text/plain": [
       "0    0.25\n",
       "Name: skateboard, dtype: float64"
      ]
     },
     "execution_count": 46,
     "metadata": {},
     "output_type": "execute_result"
    }
   ],
   "source": [
    "# normalizedTrain.head(1)['skateboard']"
   ]
  },
  {
   "cell_type": "code",
   "execution_count": 13,
   "metadata": {
    "collapsed": false
   },
   "outputs": [
    {
     "data": {
      "text/plain": [
       "0    4\n",
       "Name: skateboard, dtype: float64"
      ]
     },
     "execution_count": 13,
     "metadata": {},
     "output_type": "execute_result"
    }
   ],
   "source": [
    "vectorizedTrain.head(1)['skateboard']"
   ]
  },
  {
   "cell_type": "code",
   "execution_count": 14,
   "metadata": {
    "collapsed": false
   },
   "outputs": [
    {
     "name": "stdout",
     "output_type": "stream",
     "text": [
      "['disarray', 'mit', 'birdfeed', 'videogam', 'woodi', 'Night', 'all', 'yellow', 'sleek', 'gag', 'herslf', 'sleep', 'upsid', 'captain', 'hate', 'sore', 'trolley', 'educ', 'vandal', 'tricycl', 'sorri', 'swan', 'sunlit', 'illustr', 'bike', 'ziploc', 'under', 'hedg', 'worth', 'merchant', 'swivel', 'wreath', 'deli', 'blanket', 'rise', 'piti', 'vase', 'hardwar', 'ident', 'lunchmeat', 'jack', 'african', 'rec', 'confetti', 'affect', 'showroom', 'special', 'chapel', 'school', 'gown', 'prize', 'motorcyclist', 'kitchenett', 'wooden', 'showcas', 'kithen', 'formica', 'satchel', 'huddl', 'crotch', 'cutout', 'cheeto', 'barbecu', 'fogi', 'MAN', 'enjoy', 'chew', 'rusti', 'bill', 'hord', 'quilt', 'franc', 'heliport', 'acacia', 'snowwi', 'bacon', 'direct', 'horn', 'chef', 'hors', 'street', 'tether', 'air', 'panda', 'blue', 'blud', 'hide', 'parkland', 'amus', 'asid', 'lightn', 'near', 'asia', 'launch', 'lakesid', 'haze', 'blur', 'trindl', 'net', 'hazi', 'abou', 'crunch', 'Photograph', 'crouch', 'wakeboard', 'men', 'pontoon', 'goalkeep', 'herd', 'met', 'laden', 'china', 'kicker', 'dogwood', 'ment', 'dorm', 'path', 'cardboard', 'mozzarella', 'incom', 'sell', 'daughter', 'salami', 'bowti', 'jail', 'compuit', 'pastur', 'dri', 'credit', 'hydran', 'telelvis', 'smoke', 'spin', 'walkig', 'chateau', 'climber', 'toowoomba', 'pendant', 'barricad', 'golden', 'lavatori', 'mail', 'campaign', 'straw', 'newspap', 'infield', 'spigot', 'homemad', 'strap', 'avenu', 'zombe', 'blockad', 'stern', 'atrium', 'medium', 'temptress', 'handlebar', 'unit', 'plot', 'plow', 'spoke', 'geisha', 'sweater', 'handrail', 'lorri', 'acket', 'turquois', 'corder', 'call', 'calm', 'passport', 'armi', 'inner', 'type', 'broth', 'calf', 'trial', 'paperwork', 'puls', 'relax', 'warp', 'warn', 'phone', 'warm', 'pecan', 'adult', 'atmospher', 'robin', 'turtl', 'hole', 'hold', 'waterloo', 'shoot', 'accid', 'akit', 'word', 'room', 'kraut', 'freeeway', 'setup', 'work', 'roof', 'locker', 'cylc', 'era', 'plunger', 'dove', 'root', 'fortress', 'appropri', 'phrase', 'trestl', 'omelett', 'exterior', 'airstrip', 'give', 'frzbi', 'household', 'lure', 'indic', 'ofa', 'honey', 'liter', 'caution', 'aqua', 'basebal', 'freshen', 'pinto', 'attract', 'Realiti', 'hog', 'hod', 'hoe', 'end', 'thing', 'polic', 'travel', 'slalom', 'fondant', 'ceremoni', 'far', 'hot', 'enforc', 'bunt', 'answer', 'cheetah', 'beach', 'guardrail', 'pizza', 'jewelri', 'hone', 'cheesin', 'mess', 'ladder', 'birdcag', 'desol', 'stroller', 'lab', 'flick', 'befor', 'mesh', 'lay', 'beauti', 'passageway', 'waterfront', 'tenni', 'arch', 'parallel', 'demonstr', 'shirt', 'profess', 'attempt', 'vicin', 'lost', 'harley', 'tulip', 'checkerboard', 'green', 'south', 'rooftop', 'aloud', 'closeup', 'vapor', 'order', 'wind', 'wine', 'incis', 'salon', 'deco', 'ladl', 'deck', 'muffin', 'over', 'orang', 'bunni', 'kithchen', 'cemetari', 'london', 'butcher', 'oven', 'keyboard', 'windshield', 'vari', 'wrought', 'fir', 'gentl', 'fit', 'backpack', 'blown', 'avocado', 'crew', 'hon', 'offic', 'sandwish', 'somewhat', 'fie', 'hillsid', 'hidden', 'carton', 'easier', 'anim', 'tourist', 'duvet', 'promin', 'slate', 'safe', 'rectangl', 'cheesi', 'break', 'band', 'bang', 'telemark', 'rins', 'battl', 'fear', 'wedg', 'Everyon', 'bank', 'bread', 'dingi', 'choic', 'terrac', 'meat', 'oxygen', 'smartphon', 'panini', 'rocki', 'arrow', 'poppi', 'meal', 'bone', 'mean', 'rooom', 'hitchhik', 'hanger', 'poepl', 'mediev', 'garment', 'gymnasium', 'sled', 'turnip', 'hatch', 'afield', 'receptacl', 'logo', 'flock', 'collector', 'array', 'whip', 'velvet', 'cookwar', 'aclock', 'veldt', 'motel', 'diesel', 'mason', 'rd', 're', 'palac', 'Warm', 'debit', 'unkempt', 'washer', 'forti', 'steepl', 'workout', 'barrier', 'windowsil', 'standard', 'ex', 'spill', 'boulevard', 'backlit', 'beear', 'compass', 'kit', 'knit', 'lollipop', 'pantyhos', 'baseman', 'ate', 'teenag', 'selfi', 'angl', 'hull', 'atm', 'suburbia', 'takeout', 'shrubberi', 'shaggi', 'LARG', 'isn', 'soda', 'goate', 'differnt', 'onto', 'bite', 'shorebird', 'pristin', 'teh', 'rang', 'WORK', 'hygien', 'render', 'pyrex', 'grade', 'accent', 'Bunk', 'wast', 'pavillion', 'wash', 'instruct', 'wrapper', 'chevron', 'thick', 'circu', 'hood', 'woodpeck', 'bitten', 'toy', 'hydrant', 'spinach', 'Collag', 'airi', 'top', 'doge', 'tow', 'tot', 'oscilloscop', 'master', 'hydrand', 'dwell', 'toa', 'leach', 'toe', 'urban', 'almond', 'emblem', 'carousel', 'charter', 'sailer', 'gym', 'privaci', 'foccacia', 'camersa', 'western', 'cereal', 'SHIP', 'sepia', 'entre', 'driveway', 'nail', 'trek', 'target', 'avocet', 'hike', 'older', 'tree', 'gator', 'fruiti', 'shower', 'matter', 'congratulatori', 'distancw', 'flame', 'iron', 'seater', 'minut', 'ight', 'mini', 'donkey', 'fashion', 'handkerchief', 'hue', 'runner', 'modern', 'leafi', 'mine', 'ginger', 'raw', 'rat', 'seed', 'manner', 'miniatur', 'Silver', 'kiteboard', 'aisl', 'mint', 'boogi', 'detour', 'ray', 'hoodi', 'luxuri', 'bedspread', 'snow', 'STEP', 'monorail', 'chest', 'wispi', 'chess', 'fuzzi', 'competititon', 'rider', 'davidson', 'cookout', 'even', 'flatscreen', 'canist', 'plenti', 'boxcar', 'Alarm', 'object', 'joust', 'umbella', 'memorabilia', 'marin', 'swiss', 'gravi', 'mouth', 'portion', 'letter', 'phase', 'coin', 'glow', 'webcam', 'don', 'nano', 'grove', 'pointi', 'alarm', 'camp', 'metal', 'dog', 'hospit', 'freeway', 'swamp', 'soupi', 'tech', 'parakeet', 'fron', 'curio', 'sum', 'dot', 'NICE', 'ashor', 'chariot', 'bomb', 'coup', 'crust', 'Someth', 'queen', 'usin', 'shoelac', 'LIVe', 'radio', 'earth', 'ejungl', 'thermomet', 'capitol', 'toast', 'Suitcas', 'leaflet', 'suv', 'quaint', 'menu', 'explain', 'THRE', 'restaur', 'bust', 'sugar', 'bush', 'busi', 'afar', 'desser', 'trundl', 'folder', 'rice', 'plate', 'highchair', 'cappuccino', 'dj', 'patter', 'wiimot', 'recoveri', 'nasti', 'toll', 'stop', 'fluid', 'coast', 'pocket', 'windblown', 'amazon', 'watermelon', 'roundabout', 'cushion', 'report', 'reconstruct', 'oak', 'parachut', 'relish', 'seclus', 'winow', 'bat', 'bar', 'piggi', 'saut', 'boarder', 'pretzel', 'bay', 'sauc', 'bag', 'tighti', 'tole', 'rung', 'gaug', 'steak', 'steal', 'giraff', 'gallon', 'Entranc', 'vampir', 'fair', 'bagag', 'witb', 'liquor', 'schoolbu', 'brontosauru', 'BENCH', 'owman', 'bed', 'outhous', 'weird', 'fluffi', 'bee', 'midst', 'hairbrush', 'subject', 'dishwash', 'guilt', 'away', 'sail', 'gentleman', 'luguag', 'wetsuit', 'mud', 'mug', 'finger', 'herb', 'yogurt', 'drawn', 'approach', 'side', 'jetblu', 'pasturag', 'lodg', 'vitamin', 'lotion', 'toothbrush', 'lazi', 'wear', 'medallion', 'wheelbarrow', 'wth', 'wti', 'advertis', 'mule', 'laze', 'kitchen', 'cop', 'protect', 'planner', 'replac', 'cot', 'cow', 'adolesc', 'peropl', 'workroom', 'bodysuit', 'facet', 'crank', 'pita', 'countri', 'calzon', 'com', 'Compact', 'frizbe', 'tone', 'sheepdog', 'applianc', 'nilla', 'height', 'canyon', 'standingg', 'paradis', 'guid', 'truss', 'ether', 'speak', 'protest', 'bathroom', 'tint', 'beef', 'skatepark', 'chrome', 'fri', 'fro', 'parsley', 'erect', 'beer', 'cud', 'monkey', 'stadium', 'basil', 'skaeboard', 'basin', 'mountainsid', 'tini', 'cub', 'life', 'loft', 'mushroom', 'eastern', 'confin', 'tolley', 'worker', 'hacksaw', 'meatbal', 'snap', 'appletre', 'lift', 'child', 'catch', 'chili', 'pecker', 'hilll', 'handsaw', 'chill', 'tonight', 'init', 'tank', 'servic', 'properti', 'cracker', 'commerci', 'speghetti', 'n', 'aim', 'lizard', 'womqn', 'neat', 'dashboard', 'gla', 'occas', 'deterg', 'baptist', 'anchor', 'savanna', 'onlook', 'graham', 'garag', 'have', 'metropolitan', 'Pictur', 'cano', 'sticker', 'sushi', 'tress', 'player', 'Busi', 'brake', 'cone', 'LOT', 'ia', 'violin', 'warthog', 'trade', 'sever', 'grown', 'precis', 'descent', 'perform', 'border', 'make', 'toaster', 'amount', 'cellophan', 'forehead', 'passov', 'complex', 'patient', 'split', 'jungl', 'prohject', 'costum', 'confection', 'complet', 'wheel', 'overn', 'sittin', 'anchorag', 'whipcream', 'rail', 'rain', 'hand', 'ralli', 'suburb', 'rais', 'ruffl', 'refil', 'aeroplan', 'unicorn', 'tuna', 'overs', 'smoki', 'tune', 'kid', 'butter', 'hearti', 'messeng', 'thr', 'deal', 'ocean', 'Luggag', 'contact', 'shelti', 'mother', 'everyth', 'chandeli', 'campu', 'tha', 'left', 'leaguer', 'camod', 'kale', 'photo', 'laptop', 'expressway', 'rodent', 'fireston', 'human', 'airbag', 'prescript', 'sewag', 'sleepi', 'muzzl', 'languag', 'urin', 'elk', 'polor', 'ham', 'expos', 'interfer', 'waitress', 'hay', 'spread', 'minibu', 'board', 'southwest', 'duffel', 'furri', 'har', 'save', 'hat', 'pharmaci', 'apark', 'Heart', 'preserv', 'mayo', 'mileag', 'bushi', 'vaniti', 'lcd', 'leagu', 'background', 'elabor', 'shadow', 'burnt', 'apart', 'shoulder', 'measur', 'Art', 'gift', 'cooler', 'parka', 'nude', 'hunt', 'mechan', 'gangplank', 'soap', 'pavement', 'hunk', 'mosquito', 'night', 'hung', 'grizzli', 'oncom', 'pillar', 'boarwalk', 'flagpol', 'right', 'juiceri', 'creek', 'crowd', 'cuisin', 'beavh', 'crown', 'dead', 'zoom', 'Beer', 'billboard', 'heritag', 'ici', 'peripheri', 'bottom', 'establish', 'fox', 'og', 'ice', 'rhino', 'eleph', 'fof', 'fog', 'skylight', 'plantain', 'foo', 'avatar', 'cord', 'peek', 'khaki', 'peel', 'ecup', 'corn', 'pose', 'confer', 'binder', 'firemen', 'colleg', 'bolt', 'keeper', 'taker', 'post', 'yorki', 'plug', 'POCKET', 'aboard', 'diner', 'cowboy', 'plum', 'blacksplash', 'o', 'simul', 'trophi', 'festiv', 'dinner', 'afternoon', 'horizon', 'produc', 'mast', 'flatbread', 'blaoon', 'telephon', 'sock', 'float', 'skateboaard', 'bound', 'son', 'down', 'sedan', 'loin', 'tanker', 'wrap', 'stall', 'storag', 'microwav', 'surround', 'monochrom', 'fabric', 'panorama', 'support', 'griaff', 'strom', 'massag', 'sunlight', 'happi', 'forhead', 'stuck', 'minter', 'way', 'wax', 'overhead', 'rela', 'kichen', 'war', 'overhang', 'teddybear', 'fork', 'head', 'countysid', 'amateur', 'form', 'offer', 'forc', 'llittl', 'spirit', 'surveil', 'ford', 'wireless', 'marinara', 'floatat', 'diaper', 'refriger', 'snowi', 'biplan', 'fort', 'nerf', 'pavilion', 'tack', 'wineri', 'getaway', 'Junk', 'vultur', 'dalmat', 'crystal', 'sling', 'sampl', 'peic', 'chirch', 'urn', 'adorn', 'trim', 'trio', 'featur', 'coland', 'alongsid', 'sill', 'toss', 'abstract', 'tournament', 'futur', 'muscular', 'drive', 'cobbler', 'Varieti', 'swatter', 'ship', 'porta', 'mold', 'check', 'shit', 'poodl', 'vista', 'horsss', 'floor', 'tit', 'butterscotch', 'leafless', 'trucker', 'ontop', 'flood', 'tin', 'test', 'tie', 'depot', 'roll', 'ADULT', 'garland', 'handicap', 'wiffl', 'ntop', 'notepad', 'greeneri', 'zipper', 'fell', 'intent', 'award', 'stairwel', 'drawbridg', 'femal', 'receiv', 'bullet', 'glass', 'navel', 'yacht', 'mouthwat', 'hungri', 'jacket', 'montag', 'carriag', 'teeth', 'push', 'grandfath', 'backward', 'playng', 'slope', 'coach', 'chain', 'scultur', 'patina', 'rob', 'raffia', 'rod', 'skit', 'horseback', 'tatami', 'mild', 'skate', 'skim', 'wiiremot', 'skin', 'trashcan', 'convoy', 'chair', 'bomber', 'toothpick', 'milk', 'row', 'zookeep', 'GROUP', 'middl', 'grape', 'lemonad', 'zone', 'flask', 'hump', 'proxim', 'father', 'fist', 'elat', 'tracker', 'yummi', 'tusk', 'aloft', 'doubledeck', 'undon', 'brown', 'sourc', 'string', 'toothpast', 'multistori', 'footboard', 'persona', 'hutch', 'dirtbik', 'knapsack', 'kitten', 'cook', 'ma', 'brows', 'margarita', 'housepl', 'dim', 'din', 'hour', 'policeman', 'die', 'dig', 'gun', 'teat', 'prairi', 'item', 'slopl', 'subway', 'teal', 'team', 'cooki', 'lever', 'guy', 'quich', 'woven', 'round', 'cloudi', 'upper', 'pork', 'blade', 'boxer', 'meadow', 'creatur', 'minion', 'sigh', 'sigm', 'sign', 'hobbyist', 'neglect', 'cost', 'predatori', 'worn', 'takeoff', 'attir', 'bake', 'port', 'bovin', 'appear', 'filler', 'stemwar', 'scaffold', 'wildebeest', 'jetter', 'uniform', 'tarmac', 'curst', 'wors', 'booklet', 'indiffer', 'appeal', 'gazebo', 'swowbaord', 'burn', 'wrestler', 'plad', 'plare', 'amphora', 'clerk', 'makeup', 'french', 'bi', 'water', 'snack', 'griddl', 'leap', 'locat', 'slicer', 'IWTH', 'teacher', 'wait', 'box', 'boy', 'penguin', 'parasol', 'sheriff', 'cheesesteak', 'drift', 'chcocat', 'bow', 'gourd', 'bol', 'cinnamon', 'thirti', 'raccoon', 'extrem', 'bob', 'pillow', 'macintosh', 'tiolet', 'love', 'stet', 'extra', 'tuxedo', 'transpar', 'bonnet', 'kayak', 'peer', 'snowboard', 'lamppost', 'fake', 'marker', 'instal', 'forefront', 'mobil', 'peep', 'market', 'bloodi', 'creami', 'streetcar', 'wand', 'lighthous', 'umbralla', 'saddl', 'univers', 'dude', 'vineyard', 'Lunch', 'live', 'cucumb', 'loung', 'somersault', 'cheeseteak', 'angri', 'thru', 'checkout', 'matador', 'today', 'capit', 'conductor', 'countertop', 'obelisk', 'altar', 'sparkl', 'futon', 'downtown', 'offica', 'tandem', 'accept', 'Round', 'genetalia', 'osprey', 'stain', 'mascot', 'cay', 'bowler', 'German', 'car', 'prepar', 'cap', 'judg', 'focu', 'spaniel', 'cat', 'fli', 'soup', 'frass', 'can', 'cab', 'citru', 'purpos', 'associ', 'streak', 'overpass', 'reflector', 'stream', 'concoct', 'wineglass', 'chip', 'gum', 'drawer', 'crazi', 'abook', 'grassi', 'sharp', 'agenc', 'woodenchair', 'stole', 'occup', 'pink', 'coart', 'wavi', 'multipl', 'winter', 'sailboat', 'hippi', 'chais', 'freezer', 'write', 'Fruit', 'skater', 'fourti', 'tile', 'pathway', 'asphault', 'map', 'product', 'rearview', 'mat', 'breadbowl', 'dive', 'spot', 'PLAYER', 'mac', 'birthday', 'laundri', 'bear', 'date', 'tablecloth', 'headscarf', 'grow', 'man', 'classroom', 'pulley', 'crepe', 'practic', 'liquid', 'porcelin', 'dinosuar', 'wheelchair', 'divid', 'placemat', 'corona', 'st', 'tale', 'inform', 'switch', 'truck', 'lagoon', 'talb', 'basket', 'tall', 'Ship', 'bunk', 'talk', 'cute', 'shield', 'barnyard', 'entryway', 'colt', 'haircut', 'outer', 'graduat', 'larger', 'pitch', 'equip', 'cold', 'cole', 'cola', 'sprinkl', 'group', 'monitor', 'passag', 'comic', 'torn', 'platform', 'window', 'artisan', 'farmer', 'World', 'whirlpool', 'apron', 'non', 'beig', 'recal', 'bulldoz', 'smash', 'automobil', 'recket', 'nation', 'underneath', 'lunch', 'aer', 'longboard', 'safari', 'gate', 'bath', 'twilight', 'ketchup', 'wagon', 'name', 'conveneinc', 'gull', 'perspect', 'drop', 'backsplash', 'oustid', 'magazin', 'ledg', 'rock', 'quarter', 'el', 'en', 'rapper', 'individu', 'macaroni', 'wrestl', 'matress', 'realiti', 'zebra', 'Intersect', 'year', 'girl', 'dispos', 'album', 'oatmeal', 'shown', 'cafeteria', 'space', 'grime', 'sunda', 'baggag', 'Vase', 'profil', 'lad', 'beagl', 'skylin', 'internet', 'foilag', 'pizzeria', 'sensor', 'factori', 'mascara', 'clover', 'Stone', 'Onlook', 'cupcak', 'bookin', 'seventi', 'cart', 'substanc', 'flyer', 'zombi', 'pimp', 'grandma', 'marina', 'restaurannt', 'landfil', 'card', 'care', 'underwear', 'departur', 'furbe', 'califlow', 'waiter', 'furbi', 'punk', 'ostrich', 'motion', 'turn', 'place', 'footwear', 'swing', 'turf', 'widow', 'alcov', 'parrot', 'washroom', 'oper', 'pelican', 'suspend', 'oppon', 'carri', 'Stainless', 'ona', 'potter', 'beverag', 'crib', 'one', 'exposur', 'suspens', 'amidst', 'rink', 'fi', 'oppos', 'picnic', 'ring', 'fight', 'open', 'size', 'sheep', 'law', 'sheet', 'christma', 'district', 'virgin', 'lap', 'caught', 'waist', 'fierc', 'ambul', 'plastic', 'citi', 'assort', 'draft', 'scull', 'circl', 'streetlight', 'murki', 'white', 'conveni', 'hydrogen', 'friend', 'palomino', 'floweri', 'hug', 'skullcap', 'hub', 'hum', 'shawl', 'copi', 'eagl', 'hut', 'cops', 'pnk', 'rainwat', 'enclos', 'gin', 'strack', 'junkyard', 'holder', 'serv', 'wide', 'coyot', 'glossi', 'traverse', 'crack', 'cascad', 'whom', 'midtown', 'r', 'balanc', 'mcclaren', 'posit', 'extinguish', 'oath', 'horserac', 'tractor', 'seri', 'pre', 'coconut', 'lick', 'dollop', 'pastri', 'angel', 'slaw', 'pro', 'nicey', 'alley', 'sad', 'recovey', 'windsurf', 'lamb', 'out', 'stigma', 'breakfast', 'slab', 'sat', 'pleasant', 'squat', 'engin', 'squar', 'Player', 'veteran', 'fribe', 'zoo', 'note', 'motrocycl', 'satellit', 'maintain', 'lion', 'take', 'interior', 'environ', 'noth', 'channel', 'offici', 'surf', 'younger', 'begin', 'printer', 'plaster', 'friz', 'pail', 'winteri', 'track', 'price', 'statu', 'buffet', 'silhouett', 'patrion', 'graffitti', 'champagn', 'billow', 'pair', 'knee', 'bluebird', 'armrest', 'floorboard', 'lawn', 'amtrak', 'rescu', 'dream', 'seafood', 'napkin', 'sale', 'tooth', 'badg', 'sunset', 'backdrop', 'mile', 'grassland', 'statuesqu', 'salt', 'width', 'axl', 'shop', 'perch', 'walkinf', 'shot', 'peperoni', 'show', 'german', 'paasang', 'scoreboard', 'itl', 'beech', 'bright', 'shoe', 'glider', 'southwestern', 'corner', 'label', 'crane', 'ground', 'woolen', 'Woman', 'slop', 'dice', 'fenc', 'PC', 'brige', 'plume', 'pant', 'activ', 'plumb', 'specialti', 'sloe', 'wood', 'black', 'hockey', 'stormi', 'AOn', 'enthusiasm', 'robe', 'wool', 'neath', 'icebox', 'pumpkin', 'hippo', 'pastrami', 'paperback', 'get', 'porridg', 'Punk', 'somebodi', 'frisk', 'outlet', 'lighter', 'Furnitur', 'dye', 'pedest', 'overlook', 'roadster', 'slender', 'pistol', 'consist', 'aluminum', 'leather', 'headphon', 'median', 'borrow', 'caboos', 'checker', 'twelv', 'bison', 'snowsuit', 'convorbelt', 'buy', 'tortilla', 'cheerlead', 'husband', 'user', 'tux', 'learn', 'digusust', 'goup', 'Vultur', 'seat', 'gangster', 'buddha', 'asleep', 'seal', 'cauliflow', 'calendar', 'sport', 'chadeli', 'mutton', 'televis', 'bicyclist', 'ornament', 'lonley', 'manicur', 'broccli', 'thecement', 'behind', 'BOOK', 'bureau', 'Trunk', 'si', 'import', 'vender', 'across', 'jumper', 'oom', 'spars', 'walsk', 'parent', 'livestock', 'soccerbal', 'screen', 'boul', 'supermarket', 'guitar', 'cycl', 'cyce', 'tub', 'comb', 'come', 'tug', 'wheeli', 'smoothi', 'berri', 'nunchuk', 'region', 'ballpark', 'rippl', 'restroom', 'pray', 'tour', 'rugbi', 'mane', 'comet', 'railway', 'rawhid', 'fix', 'WINE', 'concert', 'insignia', 'color', 'overview', 'pot', 'indesicrimin', 'period', 'pop', 'broccolli', 'twin', 'boay', 'anti', 'boar', 'forehand', 'poll', 'sidelin', 'boat', 'turkey', 'mistleto', 'ultim', 'waveless', 'coupl', 'luncheonett', 'swift', 'girraf', 'suicid', 'mark', 'workshop', 'teddi', 'rancher', 'addit', 'eateri', 'motorbik', 'carv', 'graveyard', 'foggi', 'masonri', 'SUIT', 'squash', 'reb', 'tiger', 'STUFF', 'stovetop', 'bmw', 'workspac', 'penn', 'standup', 'WALK', 'impati', 'parasail', 'pilot', 'case', 'shaft', 'crumb', 'ina', 'enclousur', 'mount', 'alter', 'trick', 'cast', 'stacker', 'ratchet', 'lunchtim', 'sandich', 'coco', 'exist', 'mound', 'BUNCH', 'cock', 'vest', 'noel', 'windsail', 'shepard', 'frisbi', 'soil', 'brow', 'ivi', 'destin', 'twisti', 'cluster', 'glaze', 'clutter', 'riversid', 'return', 'waterway', 'nearbi', 'kettl', 'makeov', 'nat', 'helmet', 'pat', 'projector', 'paw', 'pay', 'fender', 'bowl', 'audienc', 'lava', 'trip', 'gentlemen', 'cupola', 'speech', 'fo', 'moustach', 'grain', 'locomot', 'pan', 'oin', 'sweeper', 'oil', 'barefoot', 'foal', 'foam', 'driver', 'someon', 'treadmil', 'weedi', 'sponsor', 'fruit', 'barber', 'gerania', 'cinder', 'scarv', 'cartoon', 'hummingbird', 'Motion', 'drain', 'burrito', 'cherri', 'prari', 'patchwork', 'charger', 'ranch', 'facad', 'sreen', 'media', 'relief', 'toiletri', 'model', 'modem', 'nightim', 'Port', 'frameless', 'coffer', 'taxi', 'summer', 'outdoor', 'pasteri', 'staircas', 'motorcyl', 'money', 'battleship', 'neon', 'rest', 'oxford', 'sprayer', 'kiln', 'kilo', 'touch', 'polish', 'flavor', 'seper', 'speed', 'halfway', 'blow', 'death', 'parad', 'rose', 'estat', 'nap', 'littl', 'silver', 'airfield', 'instrument', 'backround', 'pile', 'knecklac', 'hind', 'scrapbook', 'struck', 'headboard', 'burlap', 'pill', 'skier', 'grip', 'grit', 'around', 'read', 'ruler', 'Teenag', 'ladi', 'seren', 'dark', 'topper', 'chibata', 'temperatur', 'crusti', 'mom', 'telivis', 'stunt', 'railroad', 'Bench', 'fryer', 'rear', 'victori', 'moss', 'arugula', 'clam', 'towel', 'paitn', 'clad', 'pregnant', 'stationari', 'pole', 'server', 'shutter', 'chamber', 'thrower', 'nose', 'clay', 'poolsid', 'tower', 'nice', 'manag', 'auditorium', 'sneaker', 'medal', 'trampolin', 'cabl', 'doll', 'sidwalk', 'ascend', 'l', 'polo', 'lobster', 'STAND', 'weathervan', 'tatoo', 'intact', 'sack', 'mustard', 'freez', 'slice', 'wristband', 'tote', 'tube', 'doggi', 'landscap', 'nook', 'juicer', 'moos', 'spotless', 'exit', 'cabinetri', 'impress', 'smoggi', 'sititng', 'knife', 'CASE', 'eiffel', 'wheat', 'roast', 'power', 'raincoat', 'garbag', 'inspect', 'refere', 'broken', 'escap', 'subaway', 'strainer', 'throw', 'racoon', 'stone', 'ol', 'ace', 'kickflip', 'jeep', 'island', 'craft', 'swimmer', 'tview', 'mixer', 'clcok', 'chop', 'stretch', 'stanc', 'Paper', 'karat', 'stand', 'neighbor', 'roam', 'sevofluran', 'ov', 'underwat', 'ot', 'processor', 'road', 'op', 'mosqu', 'heater', 'effici', 'prohibit', 'slushi', 'whiter', 'diffrrnt', 'garb', 'overgrown', 'Someon', 'cementeri', 'homeless', 'strip', 'agaist', 'claus', 'airlin', 'patron', 'racquet', 'lapel', 'log', 'area', 'jigsaw', 'lon', 'hey', 'start', 'drank', 'peppeoni', 'lot', 'laboratori', 'pinwheel', 'valley', 'machin', 'treat', 'project', 'daytim', 'jug', 'outcrop', 'bundl', 'pitcher', 'concess', 'amongst', 'zeebra', 'bundt', 'spici', 'omelet', 'walkway', 'e', 'mice', 'buggi', 'illus', 'feather', 'witj', 'spice', 'strawberri', 'manuev', 'salomi', 'dirti', 'shirtless', 'potato', 'bucket', 'cool', 'nearest', 'lowercas', 'grass', 'torso', 'outing', 'affection', 'darker', 'aa', 'toilet', 'laugh', 'oxen', 'ad', 'creat', 'deer', 'walki', 'deep', 'britain', 'chalet', 'magdalen', 'file', 'ohu', 'hound', 'dawn', 'film', 'fill', 'turbul', 'hart', 'monsieur', 'reclin', 'seminar', 'idiot', 'personnel', 'paddl', 'puppi', 'hybrid', 'marketplac', 'rubber', 'field', 'summit', 'astronaut', 'oeopl', 'Pointi', 'sculptur', 'sunflow', 'trash', 'juic', 'poor', 'polar', 'poop', 'championship', 'seasid', 'shelter', 'sequenc', 'symbol', 'time', 'midair', 'm', 'cordless', 'passerbi', 'podium', 'panera', 'peak', 'grownup', 'kickbal', 'brass', 'lving', 'peac', 'pool', 'alcohol', 'curvi', 'punch', 'marsh', 'studio', 'escal', 'wife', 'huski', 'groom', 'descript', 'plae', 'cabbag', 'scroll', 'sewer', 'mass', 'castl', 'smirk', 'apparel', 'wake', 'platter', 'mannequin', 'talki', 'motocross', 'skeleton', 'SIT', 'messi', 'laci', 'suburban', 'hamburg', 'dollar', 'surboard', 'month', 'Action', 'slung', 'disc', 'abil', 'parmesan', 'dish', 'follow', 'merchandis', 'disk', 'lace', 'children', 'carpet', 'WOMAN', 'dairi', 'cri', 'tv', 'laid', 'articl', 'tail', 'program', 'th', 'smile', 'crest', 'assist', 'roadway', 'sound', 'scout', 'woman', 'kyack', 'kerchief', 'jetlin', 'soni', 'horror', 'fourt', 'spectat', 'fat', 'blossom', 'util', 'candid', 'fan', 'verg', 'fall', 'veri', 'ticket', 'puffi', 'strang', 'induct', 'wildlif', 'duski', 'harri', 'unrip', 'list', 'trench', 'dinosaur', 'sand', 'tourbu', 'barbwir', 'bathtup', 'snowstor', 'vanilla', 'firefight', 'farmhous', 'homey', 'neighborhood', 'ten', 'tea', 'tricolor', 'tee', 'past', 'burger', 'pressur', 'design', 'hyrdant', 'pass', 'mill', 'ribbon', 'excit', 'dial', 'sleev', 'vw', 'sub', 'microphon', 'clock', 'prohibitori', 'sun', 'section', 'cheesey', 'stool', 'brief', 'public', 'swampi', 'clocktow', 'sur', 'intersect', 'hurdl', 'woma', 'plush', 'contrast', 'movement', 'coca', 'carseat', 'pacif', 'variat', 'surfer', 'fowhawk', 'shouldn', 'uneven', 'dune', 'trunk', 'ver', 'goodby', 'giaraff', 'arena', 'mmm', 'search', 'suiit', 'Comput', 'naval', 'ahead', 'guacamol', 'whine', 'storefront', 'soldier', 'airport', 'hamster', 'pick', 'action', 'narrow', 'creepi', 'medicin', 'alight', 'flash', 'depart', 'uneaten', 'souffl', 'picturesqu', 'transit', 'airway', 'africa', 'SOMEON', 'diswash', 'togeht', 'alpin', 'thought', 'famili', 'beright', 'select', 'keyoard', 'eye', 'buckl', 'sttatu', 'injuri', 'tackl', 'workstat', 'pearl', 'twp', 'splash', 'morn', 'taken', 'raft', 'teen', 'mm', 'diamond', 'door', 'signpost', 'mad', 'batsman', 'baebal', 'flag', 'stick', 'compani', 'riverbank', 'sunshin', 'town', 'grill', 'towl', 'tyke', 'skyscrap', 'hous', 'sleeveless', 'outlin', 'histori', 'mall', 'suckl', 'nine', 'den', 'v', 'warehous', 'male', 'popsicl', 'shark', 'puma', 'heat', 'gallop', 'challeng', 'bidet', 'share', 'tapestri', 'seaplan', 'autumn', 'foodservic', 'compart', 'poni', 'explor', 'partner', 'pond', 'magenta', 'swung', 'dress', 'blac', 'concept', 'filter', 'cours', 'court', 'goal', 'secur', 'speedboat', 'comfort', 'disclaim', 'beehiv', 'mapl', 'Factori', 'quesadilla', 'chopper', 'woung', 'ohoto', 'pleather', 'stir', 'goat', 'tinfoil', 'chubbi', 'plant', 'sandwich', 'glasswar', 'minivan', 'iphon', 'waer', 'reflect', 'plane', 'embrac', 'blood', 'backyard', 'gass', 'gnar', 'bloom', 'plank', 'vintag', 'chute', 'short', 'orchard', 'coat', 'rainstorm', 'doctor', 'racetrack', 'dragon', 'caus', 'coal', 'shore', 'wrench', 'shade', 'cigarett', 'shorn', 'shadi', 'egg', 'patio', 'ding', 'infant', 'headlight', 'mexican', 'help', 'brickwork', 'cubicl', 'artwork', 'mission', 'het', 'auburn', 'held', 'paper', 'cabana', 'pane', 'suffer', 'winger', 'ashtray', 'thirtieth', 'latt', 'style', 'glide', 'birdi', 'inward', 'heron', 'bosom', 'handheld', 'mattress', 'cutin', 'resort', 'version', 'sunken', 'pad', 'soccer', 'hoop', 'Vintag', 'walla', 'tri', 'hairdryer', 'canva', 'frotn', 'yo', 'food', 'sucker', 'trelli', 'yb', 'frisbe', 'lite', 'refridger', 'goos', 'compound', 'foot', 'studi', 'adventur', 'crosscountri', 'bigger', 'tailgat', 'antelop', 'goofi', 'chairlift', 'majolica', 'hook', 'level', 'bestbuy', 'refresh', 'radiat', 'hil', 'tra', 'ecru', 'nightitm', 'armchair', 'trailer', 'lantern', 'choppi', 'jetway', 'Glass', 'weight', 'fish', 'hard', 'ware', 'brother', 'campground', 'dufflebag', 'connect', 'riksha', 'beyond', 'event', 'parlor', 'renaiss', 'flower', 'safeti', 'lipstick', 'candlelight', 'p', 'faux', 'miss', 'trooper', 'fireman', 'pigeon', 'dugout', 'seaport', 'motorhom', 'granola', 'health', 'hill', 'shipment', 'print', 'nest', 'highway', 'foreground', 'pun', 'drink', 'strain', 'pinstrip', 'dirt', 'pud', 'porcelain', 'pug', 'snuggl', 'campfir', 'pub', 'effect', 'cockpit', 'quick', 'base', 'intric', 'acorn', 'skewer', 'put', 'teach', 'ash', 'pup', 'sidewalk', 'cobbleston', 'thrown', 'faucet', 'daisi', 'dip', 'lego', 'FedEx', 'caption', 'circuit', 'bumper', 'fallen', 'undersid', 'bushel', 'feed', 'copper', 'dine', 'swipe', 'wilder', 'feel', 'mise', 'gazel', 'number', 'feeder', 'feet', 'elder', 'sailor', 'done', 'blank', 'bland', 'stabl', 'scallion', 'glitter', 'fanci', 'razor', 'differ', 'afghan', 'guest', 'jet', 'gourmet', 'headset', 'interact', 'bock', 'leash', 'construct', 'collar', 'stork', 'paint', 'stori', 'station', 'contin', 'storm', 'crow', 'mama', 'twenti', 'scheme', 'syrup', 'banana', 'store', 'necklac', 'pare', 'para', 'handsom', 'hotel', 'park', 'greenhous', 'mmmm', 'part', 'zeppelin', 'equp', 'grace', 'uncut', 'surfboard', 'king', 'kind', 'remot', 'pear', 'grey', 'walmart', 'Sausag', 'youth', 'bride', 'groceri', 'bridg', 'stalk', 'crevass', 'bridl', 'consumpt', 'stale', 'martini', 'danc', 'crescent', 'mickey', 'cleaner', 'comput', 'oclock', 'coleslaw', 'danish', 'belli', 'windmil', 'packag', 'passang', 'graffiti', 'blond', 'consol', 'mossi', 'overweight', 'juici', 'backseat', 'lid', 'mountain', 'built', 'Power', 'firsbe', 'eleg', 'self', 'cave', 'trowel', 'couch', 'lit', 'lip', 'build', 'Foot', 'analogu', 'sharpi', 'tool', 'eff', 'zucchini', 'club', 'play', 'thruway', 'cargo', 'unsur', 'onstag', 'eater', 'Miniatur', 'salmon', 'mixtur', 'lavend', 'plat', 'chari', 'yawn', 'brooklyn', 'charm', 'plan', 'softbal', 'tanger', 'hlll', 'suitcas', 'sunhat', 'plag', 'charg', 'escapologist', 'miror', 'clear', 'cover', 'hosipit', 'chester', 'tongu', 'sturdi', 'barren', 'weigh', 'barrel', 'bulletin', 'loveseat', 'golf', 'mmutl', 'asphalt', 'cowgirl', 'spire', 'session', 'birdhous', 'freight', 'hairi', 'fireplac', 'font', 'fine', 'blender', 'penalti', 'access', 'eas', 'keychain', 'dinousur', 'pretti', 'music', 'crawl', 'scooter', 'birdse', 'gooey', 'fastbal', 'ban', 'iPhon', 'discuss', 'boulder', 'snowboad', 'hit', 'reduc', 'palett', 'mein', 'express', 'mainten', 'batter', 'breast', 'basement', 'treed', 'silk', 'banner', 'banquet', 'chimney', 'fluff', 'catcher', 'rollerblad', 'witha', 'antiqu', 'feminin', 'caramel', 'propellor', 'x', 'river', 'gee', 'snowstorm', 'commod', 'sew', 'set', 'art', 'ktichen', 'dump', 'broccoliw', 'ballplay', 'still', 'vine', 'sex', 'celebr', 'diffid', 'see', 'bare', 'scruffi', 'sea', 'peacock', 'portrait', 'bark', 'businesswear', 'SKI', 'arm', 'analog', 'barn', 'trey', 'creme', 'satin', 'someth', 'grandmoth', 'burner', 'crisp', 'pickup', 'enclosur', 'plywood', 'wok', 'sexi', 'envirnon', 'crosswalk', 'experi', 'IMAG', 'kneel', 'piss', 'solo', 'paisley', 'stepl', 'appreci', 'chapstick', 'numer', 's', 'Inform', 'outfit', 'pagoda', 'aircraft', 'po', 'pepsi', 'arrang', 'sailboard', 'purpl', 'centerpiec', 'sceneri', 'f', 'blazer', 'wee', 'archway', 'alon', 'patti', 'roman', 'entertain', 'alot', 'motorcycl', 'carniv', 'whole', 'stoplight', 'lanyard', 'cozi', 'load', 'lookin', 'loaf', 'onward', 'chainlink', 'bell', 'sweet', 'loan', 'forklift', 'crispi', 'pepol', 'newborn', 'LUGGAG', 'badminton', 'church', 'batteri', 'techniqu', 'desktop', 'War', 'belt', 'farmland', 'becom', 'filth', 'kart', 'conveyor', 'damp', 'territori', 'devic', 'empti', 'peeler', 'pc', 'pf', 'dup', 'brick', 'nois', 'pm', 'ram', 'flight', 'champion', 'buck', 'fire', 'imag', 'wet', 'racer', 'beanbag', 'vane', 'demand', 'Basket', 'instructor', 'loom', 'fur', 'look', 'pedestrian', 'frozen', 'straight', 'tip', 'batch', 'fleec', 'rope', 'while', 'kick', 'error', 'fun', 'fleet', 'fixtur', 'brunett', 'pack', 'swim', 'casino', 'mote', 'readi', 'technolog', 'router', 'moto', 'shamrock', 'rim', 'nightstand', 'breez', 'captiv', 'rig', 'rid', 'motorcylc', 'chase', 'grin', 'decor', 'fedora', 'grant', 'browni', 'ewe', 'makeshift', 'funni', 'wierd', 'kimono', 'shag', 'corridor', 'grand', 'dozen', 'vibranc', 'sliver', 'hallway', 'maneuv', 'mop', 'firld', 'lie', 'leopard', 'celebratori', 'cement', 'alert', 'bouttonier', 'dusti', 'moment', 'flown', 'temporari', 'stripe', 'stack', 'elephan', 'brocco', 'sumo', 'travers', 'oddest', 'frizb', 'machineri', 'ampl', 'cellphon', 'entri', 'cheek', 'bouncer', 'Nascar', 'grind', 'pickl', 'person', 'cheer', 'chees', 'elev', 'landmark', 'traffic', 'posh', 'protrud', 'tast', 'spend', 'hotdog', 'roaster', 'doili', 'lugggag', 'navi', 'cheddar', 'guano', 'backflip', 'shape', 'sime', 'world', 'couh', 'forrest', 'jumpsuit', 'rundown', 'halfpip', 'cut', 'goblet', 'tablet', 'cup', 'danger', 'claustrophob', 'grapefruit', 'plateau', 'loos', 'cemeteri', 'rhinocero', 'arden', 'bin', 'sittig', 'australia', 'vendor', 'format', 'botttl', 'bib', 'redibrown', 'game', 'falcon', 'bit', 'droopi', 'overthrown', 'signag', 'cel', 'd', 'semi', 'confront', 'signal', 'glove', 'chow', 'collect', 'coff', 'scape', 'cruis', 'bamboo', 'encount', 'bounci', 'fajita', 'nighttim', 'spring', 'creation', 'TOWER', 'back', 'limb', 'litter', 'palm', 'pall', 'sight', 'mirror', 'origami', 'germani', 'simplebedroom', 'pale', 'cocacola', 'saucer', 'scale', 'chocol', 'cutlet', 'pet', 'prison', 'rucksack', 'per', 'prop', 'pen', 'sick', 'retro', 'tye', 'lark', 'novelti', 'pea', 't', 'pegboard', 'be', 'cameraman', 'flute', 'run', 'cliffsid', 'tuktuk', 'rum', 'rub', 'reach', 'martin', 'tiday', 'rug', 'stem', 'bu', 'step', 'convent', 'stew', 'santa', 'claw', 'alleyway', 'feild', 'major', 'VASE', 'downward', 'vivid', 'shine', 'Distanc', 'sledg', 'materi', 'plaza', 'shini', 'beani', 'turret', 'idl', 'blimp', 'heel', 'spit', 'wicker', 'block', 'Bunch', 'repair', 'eaten', 'plethora', 'visit', 'dispens', 'tofu', 'crash', 'gilt', 'momma', 'pepperoni', 'chang', 'lesson', 'iwth', 'clutch', 'occupi', 'jockey', 'span', 'habitat', 'spam', 'captur', 'lone', 'terrarium', 'fast', 'custom', 'adjac', 'handler', 'includ', 'suit', 'forward', 'chapati', 'chilli', 'baggi', 'perplex', 'poster', 'atop', 'frost', 'cloth', 'link', 'newer', 'delta', 'upright', 'backgroound', 'line', 'calico', 'doo', 'lifeguard', 'yoghurt', 'peopel', 'skull', 'upheld', 'restaraunt', 'up', 'intim', 'un', 'cit', 'jumbo', 'highlight', 'say', 'curv', 'teammat', 'Televis', 'pencil', 'Tv', 'flow', 'convex', 'doesn', 'lectur', 'frisb', 'curb', 'paddock', 'journal', 'cafe', 'yearbook', 'cotton', 'rainbow', 'firehydr', 'lemon', 'riot', 'peach', 'TV', 'titl', 'handmad', 'nick', 'raini', 'bracket', 'librari', 'Student', 'swirl', 'camo', 'drainag', 'tarp', 'graffati', 'mock', 'Man', 'draw', 'cellar', 'scrub', 'clean', 'downi', 'smiley', 'firetruck', 'figurin', 'lens', 'insect', 'TAKe', 'drab', 'competitor', 'gladiat', 'desert', 'lane', 'land', 'fighter', 'mantel', 'cooker', 'dvd', 'age', 'potteri', 'lidless', 'bleacher', 'fresh', 'buffalo', 'hello', 'dvr', 'windi', 'code', 'altitud', 'edg', 'dainti', 'underbrush', 'scratch', 'mayonnais', 'soften', 'bacardi', 'arret', 'gang', 'ga', 'go', 'roadsid', 'moon', 'kate', 'scooper', 'compact', 'gold', 'Parent', 'peanut', 'wizard', 'young', 'send', 'shack', 'visitor', 'sens', 'airplan', 'gravel', 'tequila', 'skiier', 'rag', 'overgrowth', 'random', 'envelop', 'garden', 'sausag', 'dessert', 'duffl', 'wave', 'mous', 'spoon', 'cellular', 'kitti', 'wipe', 'recip', 'diploma', 'linoleum', 'umpir', 'harbor', 'button', 'inclin', 'eve', 'ridg', 'race', 'min', 'ferri', 'ornat', 'rack', 'pleas', 'vehicl', 'smaller', 'womn', 'natur', 'porkchop', 'crop', 'uniqu', 'jump', 'fold', 'helicopt', 'video', 'booth', 'Suit', 'crod', 'stepper', 'spaghetti', 'click', 'decker', 'blackboard', 'sauerkraut', 'wallet', 'bail', 'saw', 'slight', 'ballon', 'cell', 'rotten', 'lumber', 'darklit', 'Line', 'bird', 'whatev', 'celeri', 'leg', 'Light', 'kangaroo', 'scrapper', 'bodt', 'len', 'clawfoot', 'bodi', 'pump', 'intercept', 'let', 'sink', 'sing', 'astrid', 'coverlet', 'tortois', 'cyclist', 'convers', 'metro', 'duncan', 'vacat', 'host', 'scatter', 'skaterboad', 'grassless', 'survey', 'sword', 'buss', 'popcorn', 'climb', 'maker', 'pajama', 'surver', 'employe', 'shovel', 'blizzard', 'heart', 'duct', 'win', 'liqueur', 'emot', 'hoagi', 'wii', 'wih', 'annoy', 'wit', 'French', 'motor', 'duck', 'oval', 'tap', 'gateway', 'cloud', 'lime', 'fireplug', 'roar', 'use', 'fee', 'tar', 'commun', 'snooz', 'theme', 'frog', 'burgundi', 'eleven', 'camera', 'crab', 'panel', 'commut', 'fridg', 'sort', 'charcoal', 'dash', 'parliament', 'JET', 'porch', 'babi', 'kiosk', 'sister', 'mouthwash', 'trail', 'train', 'bullhorn', 'rabbit', 'longhorn', 'gambl', 'iin', 'graffit', 'account', 'retriev', 'salad', 'heard', 'tunnel', 'splinteri', 'ride', 'renov', 'pour', 'unmown', 'donut', 'carrot', 'sporti', 'thin', 'meet', 'balll', 'fetch', 'thie', 'control', 'hip', 'wharf', 'patrol', 'bent', 'pawn', 'do', 'process', 'lock', 'slim', 'rode', 'calcul', 'high', 'luggag', 'tag', 'downhil', 'bend', 'hign', 'onlin', 'tan', 'shrimp', 'skirt', 'hangar', 'egret', 'fboard', 'surfac', 'sip', 'downpour', 'sit', 'trumpet', 'flashlight', 'degre', 'lunchbox', 'lamp', 'forest', 'raacket', 'wolf', 'bandana', 'toddler', 'sin', 'circular', 'fare', 'purs', 'stray', 'cupboard', 'y', 'halter', 'farm', 'watch', 'ox', 'Racecar', 'hazard', 'whippet', 'blusteri', 'notebook', 'upscal', 'attent', 'taco', 'tier', 'footpath', 'ceil', 'terrier', 'autograph', 'tomato', 'villag', 'bakeri', 'bulid', 'bink', 'pike', 'light', 'counter', 'liner', 'linen', 'writ', 'allot', 'allow', 'tilt', 'cattl', 'uphil', 'cutleri', 'adjust', 'TELEVIS', 'movi', 'move', 'meter', 'spatula', 'pine', 'ambianc', 'bunch', 'perfect', 'blakc', 'inlet', 'whit', 'sunni', 'broom', 'cityscap', 'glisten', 'decad', 'holiday', 'grouop', 'dad', 'recept', 'baguett', 'seatbelt', 'pure', 'handl', 'Car', 'nokia', 'tribut', 'dock', 'placid', 'kiss', 'front', 'cage', 'day', 'stroke', 'brocolli', 'mohawk', 'anyth', 'tram', 'scenic', 'cheesecak', 'feast', 'ale', 'slide', 'cocker', 'parasurf', 'companion', 'beneath', 'stock', 'tray', 'emo', 'upward', 'silverwar', 'Storm', 'sandi', 'drizzl', 'greyscal', 'wade', 'sweatshirt', 'patch', 'ipad', 'wander', 'pantri', 'baaebal', 'matt', 'skillet', 'clcktower', 'armor', 'defend', 'cheeseburg', 'sandbox', 'playground', 'lattic', 'herder', 'cutter', 'stun', 'red', 'oblong', 'stare', 'await', 'umbrella', 'insid', 'lakeshor', 'eco', 'utensil', 'ipod', 'templ', 'standalon', 'graze', 'york', 'dumpster', 'van', 'princess', 'wateri', 'tabbi', 'yard', 'architectur', 'g', 'Point', 'neckti', 'paraphernalia', 'skateboard', 'yarn', 'steam', 'stride', 'length', 'shred', 'need', 'outsid', 'presid', 'retail', 'scarf', 'veggi', 'chalkboard', 'airborn', 'steami', 'bouquet', 'squater', 'scene', 'misshapen', 'yello', 'parklet', 'fluoresc', 'owner', 'stump', 'facil', 'grop', 'organ', 'donat', 'potti', 'booti', 'hawk', 'droop', 'plateform', 'unknown', 'laps', 'blowdryer', 'galley', 'system', 'messag', 'frisebe', 'attach', 'clump', 'carnat', 'ton', 'pancak', 'accessori', 'Shirtless', 'cabin', 'beard', 'foami', 'dogg', 'shell', 'stomach', 'gear', 'bulldog', 'shelf', 'peoopl', 'gummi', 'karaok', 'grandpa', 'tissu', 'shelv', 'foliag', 'dreari', 'bulb', 'neck', 'steel', 'bulki', 'photograph', 'cowork', 'ben', 'trike', 'bookcas', 'structur', 'charact', 'unmad', 'backhand', 'steet', 'upclos', 'steep', 'torrent', 'steer', 'bard', 'exhibit', 'function', 'qr', 'barg', 'clip', 'viewer', 'bottl', 'trainer', 'robot', 'tide', 'squadron', 'sundown', 'treelin', 'tabl', 'close', 'Soccer', 'tidi', 'sidecar', 'vace', 'sconc', 'camouflag', 'depict', 'livingroom', 'sprinkler', 'scoop', 'hammer', 'rout', 'briefcas', 'mid', 'outward', 'bagel', 'mix', 'unawar', 'whiil', 'combin', 'visor', 'coke', 'singl', 'soar', 'textur', 'awar', 'hairdress', 'licens', 'camper', 'galleri', 'multitud', 'baseboard', 'awn', 'connectec', 'eight', 'tripod', 'hilltop', 'handbag', 'cabinet', 'sippi', 'class', 'clasp', 'stereo', 'embroideri', 'argyl', 'dens', 'skinni', 'gather', 'offspr', 'casserol', 'face', 'pipe', 'snapshot', 'runaway', 'guinea', 'holstein', 'businessman', 'houseboat', 'apparatu', 'applesauc', 'affair', 'parker', 'kite', 'text', 'stove', 'indoor', 'crate', 'grate', 'biker', 'beg', 'empir', 'bedroom', 'ottoman', 'chicken', 'thicket', 'doughi', 'seagul', 'staff', 'footbal', 'ha', 'bicycl', 'planter', 'tire', 'with', 'anticip', 'jar', 'figur', 'eat', 'gestur', 'Part', 'tape', 'combo', 'fuel', 'piano', 'local', 'hall', 'whle', 'cube', 'starch', 'beat', 'tripl', 'passeng', 'beam', 'beak', 'photographi', 'styrofoam', 'wallpap', 'gray', 'chilidog', 'hitter', 'tobacco', 'colo', 'countrysid', 'perpendicular', 'rage', 'motorboat', 'eyebrow', 'REFLECT', 'stuff', 'gush', 'partit', 'contain', 'grab', 'bannist', 'view', 'unison', 'glacier', 'workbench', 'noodl', 'hardwood', 'smooth', 'frame', 'terrain', 'packet', 'fushia', 'hipster', 'powder', 'solder', 'racket', 'woodland', 'artsi', 'closer', 'feedbag', 'entranc', 'wire', 'superhero', 'panti', 'closet', 'misti', 'pattern', 'turbin', 'segment', 'pate', 'icecream', 'state', 'cloudless', 'progress', 'iguana', 'email', 'tent', 'lf', 'rotweil', 'keg', 'joy', 'barbershop', 'courtyard', 'job', 'grafitti', 'CUT', 'pirat', 'eclips', 'thumb', 'matzah', 'baptism', 'drum', 'sportsmanship', 'joke', 'canopi', 'ramp', 'spray', 'comment', 'confect', 'etc', 'doorway', 'sesam', 'rust', 'lo', 'volley', 'cactu', 'jersey', 'aquarium', 'venu', 'vent', 'co', 'gone', 'wall', 'denim', 'tablw', 'bikini', 'walk', 'Home', 'vend', 'Lot', 'news', 'tasti', 'oakland', 'telescop', 'pound', 'sari', 'second', 'Get', 'gondola', 'polka', 'obstacl', 'compon', 'gaze', 'besid', 'roller', 'yak', 'rump', 'curtain', 'muddi', 'youngster', 'upcom', 'GERMAN', 'am', 'topless', 'ridden', 'bartend', 'togeth', 'bull', 'furnitur', 'balconi', 'caddi', 'bedrol', 'present', 'metermaid', 'plart', 'twist', 'multi', 'plaid', 'mauv', 'forter', 'plain', 'runway', 'demolit', 'tshirt', 'rectangular', 'chalk', 'lichen', 'wild', 'bathtub', 'siti', 'layer', 'purchas', 'ripe', 'lush', 'site', 'lingeri', 'rooster', 'blueberri', 'dag', 'motiv', 'against', 'lightweight', 'fiddl', 'junction', 'swimsuit', 'wreck', 'tattoo', 'whiskey', 'grinder', 'parti', 'balloon', 'skaterboard', 'cross', 'jummp', 'felin', 'member', 'speaker', 'auto', 'underground', 'easi', 'cream', 'sandiwch', 'grandeur', 'competit', 'ball', 'cog', 'mach', 'dusk', 'collag', 'expans', 'bale', 'bald', 'ankl', 'lobbi', 'coffe', 'sauna', 'Decker', 'student', 'dust', 'pedal', 'stair', 'broccoli', 'mosaic', 'pull', 'tyne', 'gutter', 'off', 'center', 'PICTUR', 'i', 'fom', 'overcast', 'well', 'bookbag', 'poultri', 'scissor', 'exampl', 'command', 'disrepair', 'greenvil', 'english', 'audio', 'rush', 'bandanna', 'protector', 'olli', 'taller', 'distanc', 'bye', 'therebi', 'rocket', 'savannah', 'boot', 'half', 'abund', 'flea', 'scrubland', 'breakwat', 'shuttl', 'keypad', 'skill', 'glue', 'parchment', 'prey', 'muti', 'web', 'dinghi', 'claim', 'toilett', 'wed', 'flee', 'point', 'sky', 'lake', 'bench', 'shorelin', 'add', 'peerson', 'citizen', 'adn', 'smart', 'ski', 'match', 'oar', 'curbsid', 'livin', 'admit', 'finch', 'piec', 'haul', 'dryer', 'five', 'BUILD', 'knot', 'desk', 'doughnut', 'tick', 'pier', 'mashpotato', 'residu', 'flamingo', 'resid', 'onion', 'pamphlet', 'sofa', 'litmu', 'clown', 'carefoot', 'edit', 'mustach', 'lose', 'chick', 'sleeper', 'candl', 'soft', 'page', 'candi', 'outfield', 'incens', 'revers', 'glare', 'propel', 'barbequ', 'tge', 'PLAY', 'hail', 'hair', 'vessel', 'daylight', 'growth', 'warmer', 'shabbi', 'convey', 'flush', 'proper', 'home', 'restuar', 'meatloaf', 'transport', 'oneself', 'separ', 'batroom', 'leaf', 'shrub', 'lead', 'leak', 'lean', 'thank', 'blurri', 'pacifi', 'floss', 'fountain', 'leav', 'saucepan', 'expo', 'rale', 'kiddi', 'stairway', 'pepper', 'hose', 'reveal', 'mantl', 'mitt', 'frittata', 'gelatin', 'cove', 'trespass', 'singin', 'slum', 'pasta', 'litterbox', 'stage', 'jam', 'flaki', 'cranberri', 'column', 'headstand', 'jetski', 'fudg', 'rodeo', 'carrier', 'sweat', 'snowmobil', 'disabl', 'owl', 'blind', 'own', 'raquet', 'tight', 'submarin', 'isl', 'guard', 'weather', 'lung', 'brush', 'lettuc', 'waterfal', 'dug', 'hang', 'pooh', 'custard', 'rowboat', 'postal', 'underpass', 'pictur', 'stainless', 'museum', 'rotat', 'oxitu', 'appl', 'vein', 'flyng', 'groomer', 'maze', 'gut', 'vat', 'deliveri', 'plump', 'lookign', 'receipt', 'interest', 'granni', 'brand', 'nametag', 'triangular', 'goali', 'astro', 'ivori', 'bun', 'WEAR', 'arboretum', 'everyon', 'bookshelf', 'overflow', 'ear', 'bug', 'bud', 'eav', 'count', 'hydrofoil', 'made', 'wise', 'cottoni', 'puddl', 'veget', 'thanksgiv', 'ricketi', 'flip', 'whoa', 'record', 'limit', 'hesit', 'monument', 'cake', 'otherwis', 'problem', 'threw', 'condiment', 'display', 'Split', 'milkshak', 'pin', 'redroom', 'int', 'mask', 'handset', 'pie', 'maroon', 'pig', 'seahors', 'boardwalk', 'replica', 'tabletop', 'ink', 'inf', 'penni', 'pit', 'plaqu', 'squirrel', 'booz', 'quot', 'phiss', 'contest', 'Imag', 'coffeepot', 'detail', 'surreal', 'finish', 'book', 'itsef', 'branch', 'varieti', 'wing', 'carrousel', 'ponytail', 'dresser', 'pineappl', 'junk', 'wheeler', 'star', 'draught', 'gaggl', 'foil', 'sandwhich', 'preform', 'nintendo', 'veil', 'basketbal', 'cliff', 'ghost', 'floret', 'amp', 'baker', 'bathrob', 'fest', 'hiker', 'tankini', 'inset', 'emerg', 'fifti', 'sash', 'buoy']\n"
     ]
    }
   ],
   "source": [
    "print bagOfWords.keys()"
   ]
  },
  {
   "cell_type": "markdown",
   "metadata": {},
   "source": [
    "## Use the targetVectorIdx to create a label vector of tags for each image"
   ]
  },
  {
   "cell_type": "code",
   "execution_count": 15,
   "metadata": {
    "collapsed": true
   },
   "outputs": [],
   "source": [
    "def createTagVectorIdxs(num,tagFolder):\n",
    "    tagIdx = {}\n",
    "    idx = 0\n",
    "    for n in range(num):\n",
    "        f = tagFolder +\"/\" + str(n) + \".txt\"\n",
    "        fileTags = readTagsFile(f)\n",
    "        stemmedTags = stemTags(fileTags)\n",
    "        for tag in stemmedTags: #tag is unicode, use str() to remove unicode string\n",
    "            if str(tag) not in tagIdx.keys():\n",
    "                tagIdx[str(tag)] = idx\n",
    "                idx+=1\n",
    "    return tagIdx\n",
    "\n",
    "def createLabelVectors(tagVectorIdxs,tagFolder,num,trainData):\n",
    "    labelVec = []\n",
    "    for n in range(num):\n",
    "        tagVector = [0.0 for tag in range(len(tagVectorIdxs.keys()))]\n",
    "        f = tagFolder +\"/\" + str(n) + \".txt\"\n",
    "        fileTags = readTagsFile(f)\n",
    "        stemmedTags = stemTags(fileTags)\n",
    "        for tag in stemmedTags: #tag is unicode, use str() to remove unicode string\n",
    "            #maybe check that tag is in tagVectorIdxs?\n",
    "            #give weights to each tag in a file based on frequency in trainData (if tag in  columns of trainData)\n",
    "            if str(tag) in list(trainData): #list(trainData) returns list of column names\n",
    "                tagFreq = trainData.iloc[n][str(tag)]\n",
    "            else:\n",
    "                tagFreq = 0\n",
    "            tagVector[tagVectorIdxs[str(tag)]] = tagFreq\n",
    "        labelVec.append(tagVector)\n",
    "    return pd.DataFrame(labelVec,columns = [tagVectorIdxs.keys()[tagVectorIdxs.values().index(i)] for i in range(80) ])"
   ]
  },
  {
   "cell_type": "code",
   "execution_count": 16,
   "metadata": {
    "collapsed": false
   },
   "outputs": [],
   "source": [
    "tagIdxs = createTagVectorIdxs(numTrain,tagsTrainFolder)"
   ]
  },
  {
   "cell_type": "code",
   "execution_count": 17,
   "metadata": {
    "collapsed": false
   },
   "outputs": [
    {
     "name": "stdout",
     "output_type": "stream",
     "text": [
      "{'toilet': 59, 'teddy bear': 45, 'kite': 66, 'train': 35, 'laptop': 22, 'tennis racket': 47, 'sports bal': 43, 'donut': 23, 'snowboard': 33, 'carrot': 9, 'zebra': 65, 'oven': 53, 'keyboard': 18, 'chair': 16, 'couch': 57, 'appl': 75, 'microwav': 52, 'sheep': 74, 'bicycl': 24, 'hors': 51, 'cup': 20, 'tv': 21, 'backpack': 5, 'toaster': 78, 'bowl': 8, 'cell phon': 46, 'bench': 1, 'eleph': 67, 'book': 19, 'boat': 62, 'toothbrush': 73, 'tie': 25, 'airplan': 0, 'ski': 70, 'stop sign': 29, 'knife': 61, 'pizza': 68, 'fork': 55, 'hair drier': 79, 'bottl': 31, 'sandwich': 48, 'umbrella': 56, 'banana': 72, 'parking met': 69, 'orang': 76, 'motorcycl': 39, 'frisbe': 13, 'bear': 63, 'giraff': 38, 'mous': 17, 'bu': 26, 'spoon': 10, 'baseball glov': 28, 'sink': 60, 'refriger': 49, 'handbag': 6, 'suitcas': 27, 'scissor': 77, 'vase': 50, 'bird': 40, 'broccoli': 54, 'potted pl': 36, 'surfboard': 42, 'cow': 64, 'remot': 58, 'baseball bat': 14, 'fire hydr': 44, 'clock': 32, 'skateboard': 2, 'dog': 41, 'bed': 15, 'cat': 37, 'hot dog': 71, 'person': 3, 'dining t': 7, 'truck': 4, 'car': 11, 'cake': 34, 'wine glass': 30, 'traffic light': 12}\n"
     ]
    }
   ],
   "source": [
    "print tagIdxs"
   ]
  },
  {
   "cell_type": "code",
   "execution_count": 18,
   "metadata": {
    "collapsed": false
   },
   "outputs": [],
   "source": [
    "labelTrainDF = createLabelVectors(tagIdxs,tagsTrainFolder,numTrain,vectorizedTrain)"
   ]
  },
  {
   "cell_type": "code",
   "execution_count": 19,
   "metadata": {
    "collapsed": false
   },
   "outputs": [
    {
     "data": {
      "text/html": [
       "<div>\n",
       "<table border=\"1\" class=\"dataframe\">\n",
       "  <thead>\n",
       "    <tr style=\"text-align: right;\">\n",
       "      <th></th>\n",
       "      <th>airplan</th>\n",
       "      <th>bench</th>\n",
       "      <th>skateboard</th>\n",
       "      <th>person</th>\n",
       "      <th>truck</th>\n",
       "      <th>backpack</th>\n",
       "      <th>handbag</th>\n",
       "      <th>dining t</th>\n",
       "      <th>bowl</th>\n",
       "      <th>carrot</th>\n",
       "      <th>...</th>\n",
       "      <th>ski</th>\n",
       "      <th>hot dog</th>\n",
       "      <th>banana</th>\n",
       "      <th>toothbrush</th>\n",
       "      <th>sheep</th>\n",
       "      <th>appl</th>\n",
       "      <th>orang</th>\n",
       "      <th>scissor</th>\n",
       "      <th>toaster</th>\n",
       "      <th>hair drier</th>\n",
       "    </tr>\n",
       "  </thead>\n",
       "  <tbody>\n",
       "    <tr>\n",
       "      <th>0</th>\n",
       "      <td>0</td>\n",
       "      <td>0</td>\n",
       "      <td>4</td>\n",
       "      <td>1</td>\n",
       "      <td>0</td>\n",
       "      <td>0</td>\n",
       "      <td>0</td>\n",
       "      <td>0</td>\n",
       "      <td>0</td>\n",
       "      <td>0</td>\n",
       "      <td>...</td>\n",
       "      <td>0</td>\n",
       "      <td>0</td>\n",
       "      <td>0</td>\n",
       "      <td>0</td>\n",
       "      <td>0</td>\n",
       "      <td>0</td>\n",
       "      <td>0</td>\n",
       "      <td>0</td>\n",
       "      <td>0</td>\n",
       "      <td>0</td>\n",
       "    </tr>\n",
       "    <tr>\n",
       "      <th>1</th>\n",
       "      <td>0</td>\n",
       "      <td>0</td>\n",
       "      <td>0</td>\n",
       "      <td>0</td>\n",
       "      <td>0</td>\n",
       "      <td>0</td>\n",
       "      <td>0</td>\n",
       "      <td>0</td>\n",
       "      <td>3</td>\n",
       "      <td>0</td>\n",
       "      <td>...</td>\n",
       "      <td>0</td>\n",
       "      <td>0</td>\n",
       "      <td>0</td>\n",
       "      <td>0</td>\n",
       "      <td>0</td>\n",
       "      <td>0</td>\n",
       "      <td>0</td>\n",
       "      <td>0</td>\n",
       "      <td>0</td>\n",
       "      <td>0</td>\n",
       "    </tr>\n",
       "  </tbody>\n",
       "</table>\n",
       "<p>2 rows × 80 columns</p>\n",
       "</div>"
      ],
      "text/plain": [
       "   airplan  bench  skateboard  person  truck  backpack  handbag  dining t  \\\n",
       "0        0      0           4       1      0         0        0         0   \n",
       "1        0      0           0       0      0         0        0         0   \n",
       "\n",
       "   bowl  carrot     ...      ski  hot dog  banana  toothbrush  sheep  appl  \\\n",
       "0     0       0     ...        0        0       0           0      0     0   \n",
       "1     3       0     ...        0        0       0           0      0     0   \n",
       "\n",
       "   orang  scissor  toaster  hair drier  \n",
       "0      0        0        0           0  \n",
       "1      0        0        0           0  \n",
       "\n",
       "[2 rows x 80 columns]"
      ]
     },
     "execution_count": 19,
     "metadata": {},
     "output_type": "execute_result"
    }
   ],
   "source": [
    "labelTrainDF.head(2)"
   ]
  },
  {
   "cell_type": "markdown",
   "metadata": {},
   "source": [
    "## Test DataFrames"
   ]
  },
  {
   "cell_type": "code",
   "execution_count": 20,
   "metadata": {
    "collapsed": false
   },
   "outputs": [
    {
     "name": "stdout",
     "output_type": "stream",
     "text": [
      "7263\n"
     ]
    }
   ],
   "source": [
    "vectorizedTest = wordFrequency(numTest,descriptionTestFolder,indexedBOW)"
   ]
  },
  {
   "cell_type": "markdown",
   "metadata": {},
   "source": [
    "the test descriptions have 392 words that are not present in the bag of words from the train."
   ]
  },
  {
   "cell_type": "markdown",
   "metadata": {},
   "source": [
    "## KNN to get labels for the test"
   ]
  },
  {
   "cell_type": "code",
   "execution_count": 21,
   "metadata": {
    "collapsed": true
   },
   "outputs": [],
   "source": [
    "def kNN(arr,k,test):\n",
    "    model = NearestNeighbors(n_neighbors= k , algorithm='kd_tree').fit(arr)\n",
    "    dist,idxs = model.kneighbors(test)\n",
    "    return dist,idxs"
   ]
  },
  {
   "cell_type": "code",
   "execution_count": 22,
   "metadata": {
    "collapsed": true
   },
   "outputs": [],
   "source": [
    "dist,inds = kNN(vectorizedTrain,20,vectorizedTest)"
   ]
  },
  {
   "cell_type": "code",
   "execution_count": 23,
   "metadata": {
    "collapsed": false
   },
   "outputs": [
    {
     "name": "stdout",
     "output_type": "stream",
     "text": [
      "[[1185  974  429 6714 9289 6019 6091 1539 4698  457 2731  492 1856 5266\n",
      "  4506 3565   32  549 3037  842]\n",
      " [6650  747 8242 4532  283 7994  726 3782 9383 8294 8901 5723 3235 5181\n",
      "  5982 5560 8411 2614 2735 2229]]\n"
     ]
    }
   ],
   "source": [
    "print inds[:2]"
   ]
  },
  {
   "cell_type": "code",
   "execution_count": 30,
   "metadata": {
    "collapsed": true
   },
   "outputs": [],
   "source": [
    "def getPredictionLabelVec(preds,trainLabelDF):\n",
    "    trainLabelVec = np.array(trainLabelDF)\n",
    "    predictionsLabelVec = []\n",
    "    for testPred in preds:\n",
    "        labelVec = []\n",
    "        for idx in testPred:\n",
    "            idxVec = trainLabelVec[idx]\n",
    "            labelVec.append(idxVec)\n",
    "        predictionsLabelVec.append(labelVec)\n",
    "    return predictionsLabelVec"
   ]
  },
  {
   "cell_type": "code",
   "execution_count": 34,
   "metadata": {
    "collapsed": false
   },
   "outputs": [],
   "source": [
    "predictionLabelDF = getPredictionLabelVec(inds,labelTrainDF)"
   ]
  },
  {
   "cell_type": "code",
   "execution_count": 41,
   "metadata": {
    "collapsed": false
   },
   "outputs": [
    {
     "name": "stdout",
     "output_type": "stream",
     "text": [
      "[array([ 0.,  0.,  0.,  0.,  0.,  0.,  0.,  0.,  0.,  0.,  0.,  0.,  0.,\n",
      "        0.,  0.,  0.,  0.,  0.,  0.,  0.,  0.,  0.,  0.,  0.,  0.,  0.,\n",
      "        0.,  0.,  0.,  0.,  0.,  0.,  0.,  0.,  0.,  0.,  0.,  0.,  0.,\n",
      "        0.,  0.,  0.,  0.,  0.,  0.,  0.,  0.,  0.,  0.,  0.,  0.,  0.,\n",
      "        0.,  0.,  0.,  0.,  0.,  0.,  0.,  0.,  0.,  0.,  0.,  0.,  0.,\n",
      "        0.,  0.,  0.,  0.,  0.,  0.,  0.,  0.,  0.,  0.,  0.,  0.,  0.,\n",
      "        0.,  0.]), array([ 0.,  0.,  0.,  0.,  0.,  0.,  0.,  0.,  0.,  0.,  0.,  0.,  0.,\n",
      "        0.,  0.,  0.,  0.,  0.,  0.,  0.,  0.,  0.,  0.,  0.,  0.,  0.,\n",
      "        0.,  0.,  0.,  0.,  0.,  0.,  0.,  0.,  0.,  0.,  0.,  0.,  0.,\n",
      "        0.,  0.,  0.,  0.,  0.,  0.,  0.,  0.,  0.,  0.,  0.,  0.,  0.,\n",
      "        0.,  0.,  0.,  0.,  0.,  0.,  0.,  0.,  0.,  0.,  0.,  0.,  0.,\n",
      "        0.,  0.,  0.,  0.,  0.,  0.,  0.,  0.,  0.,  0.,  0.,  0.,  0.,\n",
      "        0.,  0.]), array([ 0.,  0.,  0.,  0.,  0.,  0.,  0.,  0.,  0.,  0.,  0.,  0.,  0.,\n",
      "        0.,  0.,  0.,  0.,  0.,  0.,  0.,  0.,  0.,  0.,  0.,  0.,  0.,\n",
      "        0.,  0.,  0.,  0.,  0.,  0.,  0.,  0.,  0.,  0.,  0.,  0.,  0.,\n",
      "        0.,  0.,  0.,  0.,  0.,  0.,  0.,  0.,  0.,  0.,  0.,  0.,  0.,\n",
      "        0.,  0.,  0.,  0.,  0.,  0.,  0.,  0.,  0.,  0.,  0.,  0.,  0.,\n",
      "        0.,  0.,  0.,  0.,  0.,  0.,  0.,  0.,  0.,  0.,  0.,  0.,  0.,\n",
      "        0.,  0.]), array([ 0.,  0.,  0.,  0.,  0.,  0.,  0.,  0.,  0.,  0.,  0.,  0.,  0.,\n",
      "        0.,  0.,  0.,  0.,  0.,  0.,  0.,  0.,  0.,  0.,  0.,  0.,  0.,\n",
      "        0.,  0.,  0.,  0.,  0.,  0.,  0.,  0.,  0.,  0.,  0.,  0.,  0.,\n",
      "        0.,  0.,  0.,  0.,  0.,  0.,  0.,  0.,  0.,  0.,  0.,  0.,  0.,\n",
      "        0.,  0.,  0.,  0.,  0.,  0.,  0.,  0.,  0.,  0.,  0.,  0.,  0.,\n",
      "        0.,  0.,  0.,  0.,  0.,  0.,  0.,  0.,  0.,  0.,  0.,  0.,  0.,\n",
      "        0.,  0.]), array([ 0.,  0.,  0.,  0.,  0.,  0.,  0.,  0.,  0.,  0.,  0.,  0.,  0.,\n",
      "        0.,  0.,  0.,  0.,  0.,  0.,  0.,  0.,  0.,  0.,  0.,  0.,  0.,\n",
      "        0.,  0.,  0.,  0.,  0.,  0.,  0.,  0.,  0.,  0.,  0.,  0.,  0.,\n",
      "        0.,  0.,  0.,  0.,  0.,  0.,  0.,  0.,  0.,  0.,  0.,  0.,  0.,\n",
      "        0.,  0.,  0.,  0.,  0.,  0.,  0.,  0.,  0.,  0.,  0.,  0.,  0.,\n",
      "        0.,  0.,  0.,  0.,  0.,  0.,  0.,  0.,  0.,  0.,  0.,  0.,  0.,\n",
      "        0.,  0.]), array([ 0.,  0.,  0.,  0.,  0.,  0.,  0.,  0.,  0.,  0.,  0.,  0.,  0.,\n",
      "        0.,  0.,  0.,  0.,  0.,  0.,  0.,  0.,  0.,  0.,  0.,  0.,  0.,\n",
      "        0.,  0.,  0.,  0.,  0.,  0.,  0.,  0.,  0.,  0.,  0.,  0.,  0.,\n",
      "        0.,  0.,  0.,  0.,  0.,  0.,  0.,  0.,  0.,  0.,  0.,  0.,  0.,\n",
      "        0.,  0.,  0.,  0.,  0.,  0.,  0.,  0.,  0.,  0.,  0.,  0.,  0.,\n",
      "        0.,  0.,  0.,  0.,  0.,  0.,  0.,  0.,  0.,  0.,  0.,  0.,  0.,\n",
      "        0.,  0.]), array([ 0.,  0.,  0.,  0.,  0.,  0.,  0.,  0.,  0.,  0.,  0.,  0.,  0.,\n",
      "        0.,  0.,  0.,  0.,  0.,  0.,  0.,  0.,  0.,  0.,  0.,  0.,  0.,\n",
      "        0.,  0.,  0.,  0.,  0.,  0.,  0.,  0.,  0.,  0.,  0.,  0.,  0.,\n",
      "        0.,  0.,  0.,  0.,  0.,  0.,  0.,  0.,  0.,  0.,  0.,  0.,  0.,\n",
      "        0.,  0.,  0.,  0.,  0.,  0.,  0.,  0.,  0.,  0.,  0.,  0.,  0.,\n",
      "        0.,  0.,  0.,  0.,  0.,  0.,  0.,  0.,  0.,  0.,  0.,  0.,  0.,\n",
      "        0.,  0.]), array([ 0.,  0.,  0.,  0.,  0.,  0.,  0.,  0.,  0.,  0.,  0.,  0.,  0.,\n",
      "        0.,  0.,  0.,  0.,  0.,  0.,  0.,  0.,  0.,  0.,  0.,  0.,  0.,\n",
      "        0.,  0.,  0.,  0.,  0.,  0.,  0.,  0.,  0.,  0.,  0.,  0.,  0.,\n",
      "        0.,  0.,  0.,  0.,  0.,  0.,  0.,  0.,  0.,  0.,  0.,  0.,  0.,\n",
      "        0.,  0.,  0.,  0.,  0.,  0.,  0.,  0.,  0.,  0.,  0.,  0.,  0.,\n",
      "        0.,  0.,  0.,  0.,  0.,  0.,  0.,  0.,  0.,  0.,  0.,  0.,  0.,\n",
      "        0.,  0.]), array([ 0.,  0.,  0.,  1.,  0.,  0.,  0.,  0.,  0.,  0.,  0.,  0.,  0.,\n",
      "        0.,  0.,  0.,  0.,  0.,  0.,  0.,  0.,  0.,  0.,  0.,  0.,  0.,\n",
      "        0.,  0.,  0.,  0.,  0.,  0.,  0.,  0.,  0.,  0.,  0.,  0.,  0.,\n",
      "        0.,  0.,  0.,  0.,  0.,  0.,  0.,  0.,  0.,  0.,  0.,  0.,  0.,\n",
      "        0.,  0.,  0.,  0.,  0.,  0.,  0.,  0.,  0.,  0.,  0.,  0.,  0.,\n",
      "        0.,  0.,  0.,  0.,  0.,  0.,  0.,  0.,  0.,  0.,  0.,  0.,  0.,\n",
      "        0.,  0.]), array([ 0.,  0.,  0.,  0.,  0.,  0.,  0.,  0.,  0.,  0.,  0.,  0.,  0.,\n",
      "        0.,  0.,  0.,  0.,  0.,  0.,  0.,  0.,  0.,  0.,  0.,  0.,  0.,\n",
      "        0.,  0.,  0.,  0.,  0.,  0.,  0.,  0.,  0.,  0.,  0.,  0.,  0.,\n",
      "        0.,  0.,  0.,  0.,  0.,  0.,  0.,  0.,  0.,  0.,  0.,  0.,  0.,\n",
      "        0.,  0.,  0.,  0.,  0.,  0.,  0.,  0.,  0.,  0.,  0.,  0.,  0.,\n",
      "        0.,  0.,  0.,  0.,  0.,  0.,  0.,  0.,  0.,  0.,  0.,  0.,  0.,\n",
      "        0.,  0.]), array([ 0.,  0.,  0.,  0.,  0.,  0.,  0.,  0.,  0.,  0.,  0.,  0.,  0.,\n",
      "        0.,  0.,  0.,  0.,  0.,  0.,  0.,  0.,  0.,  0.,  0.,  0.,  0.,\n",
      "        0.,  0.,  0.,  0.,  0.,  0.,  0.,  0.,  0.,  0.,  0.,  0.,  0.,\n",
      "        0.,  0.,  0.,  0.,  0.,  0.,  0.,  0.,  0.,  0.,  0.,  0.,  0.,\n",
      "        0.,  0.,  0.,  0.,  0.,  0.,  0.,  0.,  0.,  0.,  0.,  0.,  0.,\n",
      "        0.,  0.,  0.,  0.,  0.,  0.,  0.,  0.,  0.,  0.,  0.,  0.,  0.,\n",
      "        0.,  0.]), array([ 0.,  0.,  0.,  0.,  0.,  0.,  0.,  0.,  0.,  0.,  0.,  0.,  0.,\n",
      "        0.,  0.,  0.,  1.,  0.,  0.,  0.,  0.,  0.,  0.,  0.,  0.,  0.,\n",
      "        0.,  0.,  0.,  0.,  0.,  0.,  0.,  0.,  0.,  0.,  0.,  0.,  0.,\n",
      "        0.,  0.,  0.,  0.,  0.,  0.,  0.,  0.,  0.,  0.,  0.,  0.,  0.,\n",
      "        0.,  0.,  0.,  0.,  0.,  0.,  0.,  0.,  0.,  0.,  0.,  0.,  0.,\n",
      "        0.,  0.,  0.,  0.,  0.,  0.,  0.,  0.,  0.,  0.,  0.,  0.,  0.,\n",
      "        0.,  0.]), array([ 0.,  0.,  0.,  0.,  0.,  0.,  0.,  0.,  0.,  0.,  0.,  0.,  0.,\n",
      "        0.,  0.,  0.,  0.,  0.,  0.,  0.,  0.,  0.,  0.,  0.,  0.,  0.,\n",
      "        0.,  0.,  0.,  0.,  0.,  0.,  0.,  0.,  0.,  0.,  0.,  0.,  0.,\n",
      "        0.,  0.,  0.,  0.,  0.,  0.,  0.,  0.,  0.,  0.,  0.,  0.,  0.,\n",
      "        0.,  0.,  0.,  0.,  0.,  0.,  0.,  0.,  0.,  0.,  0.,  0.,  0.,\n",
      "        0.,  0.,  0.,  0.,  0.,  0.,  0.,  0.,  0.,  0.,  0.,  0.,  0.,\n",
      "        0.,  0.]), array([ 0.,  0.,  0.,  0.,  0.,  0.,  0.,  0.,  0.,  0.,  0.,  0.,  0.,\n",
      "        0.,  0.,  0.,  0.,  0.,  0.,  0.,  0.,  0.,  0.,  0.,  0.,  0.,\n",
      "        0.,  0.,  0.,  0.,  0.,  0.,  0.,  0.,  0.,  0.,  0.,  0.,  0.,\n",
      "        0.,  0.,  0.,  0.,  0.,  0.,  0.,  0.,  0.,  0.,  0.,  0.,  0.,\n",
      "        0.,  0.,  0.,  0.,  0.,  0.,  0.,  0.,  0.,  0.,  0.,  0.,  0.,\n",
      "        0.,  0.,  0.,  0.,  0.,  0.,  0.,  0.,  0.,  0.,  0.,  0.,  0.,\n",
      "        0.,  0.]), array([ 0.,  0.,  0.,  0.,  0.,  0.,  0.,  0.,  0.,  0.,  0.,  0.,  0.,\n",
      "        0.,  0.,  0.,  0.,  0.,  0.,  0.,  0.,  0.,  0.,  0.,  0.,  0.,\n",
      "        0.,  0.,  0.,  0.,  0.,  0.,  0.,  0.,  0.,  0.,  0.,  0.,  0.,\n",
      "        0.,  0.,  0.,  0.,  0.,  0.,  0.,  0.,  0.,  0.,  0.,  0.,  0.,\n",
      "        0.,  0.,  0.,  0.,  0.,  0.,  0.,  0.,  0.,  0.,  0.,  0.,  0.,\n",
      "        0.,  0.,  0.,  0.,  0.,  0.,  0.,  0.,  0.,  0.,  0.,  0.,  0.,\n",
      "        0.,  0.]), array([ 0.,  0.,  0.,  0.,  0.,  0.,  0.,  0.,  0.,  0.,  0.,  0.,  0.,\n",
      "        0.,  0.,  0.,  0.,  0.,  0.,  0.,  0.,  0.,  0.,  0.,  0.,  0.,\n",
      "        0.,  0.,  0.,  0.,  0.,  0.,  0.,  0.,  0.,  0.,  0.,  0.,  0.,\n",
      "        0.,  0.,  0.,  0.,  0.,  0.,  0.,  0.,  0.,  0.,  0.,  0.,  0.,\n",
      "        0.,  0.,  0.,  0.,  0.,  0.,  0.,  0.,  0.,  0.,  0.,  0.,  0.,\n",
      "        0.,  0.,  0.,  0.,  0.,  0.,  0.,  0.,  0.,  0.,  0.,  0.,  0.,\n",
      "        0.,  0.]), array([ 0.,  0.,  0.,  0.,  0.,  0.,  0.,  0.,  0.,  0.,  0.,  0.,  0.,\n",
      "        0.,  0.,  0.,  0.,  0.,  0.,  0.,  0.,  0.,  0.,  0.,  0.,  0.,\n",
      "        0.,  0.,  0.,  0.,  0.,  0.,  0.,  0.,  0.,  0.,  0.,  0.,  0.,\n",
      "        0.,  0.,  0.,  0.,  0.,  0.,  0.,  0.,  0.,  0.,  0.,  0.,  0.,\n",
      "        0.,  0.,  0.,  0.,  0.,  0.,  0.,  0.,  0.,  0.,  0.,  0.,  0.,\n",
      "        0.,  0.,  0.,  0.,  0.,  0.,  0.,  0.,  0.,  0.,  0.,  0.,  0.,\n",
      "        0.,  0.]), array([ 0.,  0.,  0.,  1.,  0.,  0.,  0.,  0.,  0.,  0.,  0.,  0.,  0.,\n",
      "        0.,  0.,  0.,  0.,  0.,  0.,  0.,  0.,  0.,  0.,  0.,  0.,  0.,\n",
      "        0.,  0.,  0.,  0.,  0.,  0.,  0.,  0.,  0.,  0.,  0.,  0.,  0.,\n",
      "        0.,  0.,  0.,  0.,  0.,  0.,  0.,  0.,  0.,  0.,  0.,  0.,  0.,\n",
      "        0.,  0.,  0.,  0.,  0.,  0.,  0.,  0.,  0.,  0.,  0.,  0.,  0.,\n",
      "        0.,  0.,  0.,  0.,  0.,  0.,  0.,  0.,  0.,  0.,  0.,  0.,  0.,\n",
      "        0.,  0.]), array([ 0.,  0.,  0.,  0.,  0.,  0.,  0.,  0.,  0.,  0.,  0.,  0.,  0.,\n",
      "        0.,  0.,  0.,  0.,  0.,  0.,  0.,  1.,  0.,  0.,  0.,  0.,  0.,\n",
      "        0.,  0.,  0.,  0.,  0.,  0.,  0.,  0.,  0.,  0.,  0.,  0.,  0.,\n",
      "        0.,  0.,  0.,  0.,  0.,  0.,  0.,  0.,  0.,  0.,  0.,  0.,  0.,\n",
      "        0.,  0.,  0.,  0.,  0.,  0.,  0.,  0.,  0.,  0.,  0.,  0.,  0.,\n",
      "        0.,  0.,  0.,  0.,  0.,  0.,  0.,  0.,  0.,  0.,  0.,  0.,  0.,\n",
      "        0.,  0.]), array([ 0.,  0.,  0.,  0.,  0.,  0.,  0.,  0.,  0.,  0.,  0.,  0.,  0.,\n",
      "        0.,  0.,  0.,  0.,  0.,  0.,  0.,  0.,  0.,  0.,  0.,  0.,  0.,\n",
      "        0.,  0.,  0.,  0.,  0.,  0.,  0.,  0.,  0.,  0.,  0.,  0.,  0.,\n",
      "        0.,  0.,  0.,  0.,  0.,  0.,  0.,  0.,  0.,  0.,  0.,  0.,  0.,\n",
      "        0.,  0.,  0.,  0.,  0.,  0.,  0.,  0.,  0.,  0.,  0.,  0.,  0.,\n",
      "        0.,  0.,  0.,  0.,  0.,  0.,  0.,  0.,  0.,  0.,  0.,  0.,  0.,\n",
      "        0.,  0.])]\n"
     ]
    }
   ],
   "source": [
    "print predictionLabelDF[0]"
   ]
  },
  {
   "cell_type": "code",
   "execution_count": 39,
   "metadata": {
    "collapsed": false
   },
   "outputs": [
    {
     "data": {
      "text/plain": [
       "airplan          0\n",
       "bench            0\n",
       "skateboard       0\n",
       "person           0\n",
       "truck            0\n",
       "backpack         0\n",
       "handbag          0\n",
       "dining t         0\n",
       "bowl             0\n",
       "carrot           0\n",
       "spoon            0\n",
       "car              0\n",
       "traffic light    0\n",
       "frisbe           0\n",
       "baseball bat     0\n",
       "bed              0\n",
       "chair            0\n",
       "mous             0\n",
       "keyboard         0\n",
       "book             0\n",
       "cup              0\n",
       "tv               0\n",
       "laptop           0\n",
       "donut            0\n",
       "bicycl           0\n",
       "tie              0\n",
       "bu               0\n",
       "suitcas          0\n",
       "baseball glov    0\n",
       "stop sign        0\n",
       "                ..\n",
       "vase             0\n",
       "hors             0\n",
       "microwav         0\n",
       "oven             0\n",
       "broccoli         0\n",
       "fork             0\n",
       "umbrella         0\n",
       "couch            0\n",
       "remot            0\n",
       "toilet           0\n",
       "sink             0\n",
       "knife            0\n",
       "boat             0\n",
       "bear             0\n",
       "cow              0\n",
       "zebra            0\n",
       "kite             0\n",
       "eleph            0\n",
       "pizza            0\n",
       "parking met      0\n",
       "ski              0\n",
       "hot dog          0\n",
       "banana           0\n",
       "toothbrush       0\n",
       "sheep            0\n",
       "appl             0\n",
       "orang            0\n",
       "scissor          0\n",
       "toaster          0\n",
       "hair drier       0\n",
       "Name: 1185, dtype: float64"
      ]
     },
     "execution_count": 39,
     "metadata": {},
     "output_type": "execute_result"
    }
   ],
   "source": [
    "labelTrainDF.iloc[1185]"
   ]
  },
  {
   "cell_type": "code",
   "execution_count": null,
   "metadata": {
    "collapsed": true
   },
   "outputs": [],
   "source": []
  }
 ],
 "metadata": {
  "kernelspec": {
   "display_name": "Python 2",
   "language": "python",
   "name": "python2"
  },
  "language_info": {
   "codemirror_mode": {
    "name": "ipython",
    "version": 2
   },
   "file_extension": ".py",
   "mimetype": "text/x-python",
   "name": "python",
   "nbconvert_exporter": "python",
   "pygments_lexer": "ipython2",
   "version": "2.7.11"
  }
 },
 "nbformat": 4,
 "nbformat_minor": 0
}
