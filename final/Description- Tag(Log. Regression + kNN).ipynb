{
 "cells": [
  {
   "cell_type": "markdown",
   "metadata": {},
   "source": [
    "## Imports"
   ]
  },
  {
   "cell_type": "code",
   "execution_count": 96,
   "metadata": {
    "collapsed": false
   },
   "outputs": [],
   "source": [
    "import pandas as pd\n",
    "import numpy as np\n",
    "import matplotlib.pyplot as plt\n",
    "from collections import Counter\n",
    "from collections import defaultdict\n",
    "from functools import partial\n",
    "from itertools import count\n",
    "from nltk.stem.wordnet import WordNetLemmatizer\n",
    "from nltk.stem import PorterStemmer\n",
    "from nltk.corpus import stopwords\n",
    "from nltk import pos_tag\n",
    "import string\n",
    "import re\n",
    "from sklearn import preprocessing\n",
    "from sklearn.feature_extraction.text import CountVectorizer\n",
    "from sklearn.feature_extraction.text import TfidfVectorizer\n",
    "from sklearn.neighbors import NearestNeighbors\n",
    "from sklearn.linear_model import LogisticRegression\n",
    "from sklearn.cross_validation import StratifiedKFold\n",
    "from sklearn.svm import LinearSVC,SVC\n",
    "from sklearn.decomposition import PCA\n",
    "from sklearn.ensemble import RandomForestClassifier\n",
    "from sklearn.multiclass import OneVsRestClassifier\n",
    "from sklearn.naive_bayes import GaussianNB,BernoulliNB,MultinomialNB\n",
    "%matplotlib inline"
   ]
  },
  {
   "cell_type": "markdown",
   "metadata": {},
   "source": [
    "## Train Folders"
   ]
  },
  {
   "cell_type": "code",
   "execution_count": 2,
   "metadata": {
    "collapsed": true
   },
   "outputs": [],
   "source": [
    "descriptionTrainFolder = \"/Users/francescoperera/Desktop/data/descriptions_train\"\n",
    "featuresTrainFolder = \"/Users/francescoperera/Desktop/data/features_train\"\n",
    "imagesTrainFolder = \"/Users/francescoperera/Desktop/data/images_train\"\n",
    "tagsTrainFolder = \"/Users/francescoperera/Desktop/data/tags_train\""
   ]
  },
  {
   "cell_type": "markdown",
   "metadata": {},
   "source": [
    "## Test Folders"
   ]
  },
  {
   "cell_type": "code",
   "execution_count": 3,
   "metadata": {
    "collapsed": true
   },
   "outputs": [],
   "source": [
    "descriptionTestFolder = \"/Users/francescoperera/Desktop/data/descriptions_test\"\n",
    "featuresTestFolder = \"/Users/francescoperera/Desktop/data/features_test\"\n",
    "imagesTestFolder = \"/Users/francescoperera/Desktop/data/images_test\"\n",
    "tagsTestFolder = \"/Users/francescoperera/Desktop/data/tags_test\""
   ]
  },
  {
   "cell_type": "markdown",
   "metadata": {},
   "source": [
    "## Number of files"
   ]
  },
  {
   "cell_type": "code",
   "execution_count": 4,
   "metadata": {
    "collapsed": true
   },
   "outputs": [],
   "source": [
    "numTrain = 10000\n",
    "numTest = 2000"
   ]
  },
  {
   "cell_type": "markdown",
   "metadata": {},
   "source": [
    "## Read Files"
   ]
  },
  {
   "cell_type": "code",
   "execution_count": 5,
   "metadata": {
    "collapsed": true
   },
   "outputs": [],
   "source": [
    "def readTagsFile(fileName):\n",
    "    tags = []\n",
    "    f = open(fileName,\"r\")\n",
    "    for line in f:\n",
    "        line = line.split(\":\") # possibly also consider using the keys in each line(vehicle,outdoor etc..)\n",
    "        tag = line[-1].replace(\"\\n\",\"\")\n",
    "        tags.append(tag)\n",
    "    return tags\n",
    "\n",
    "def readDescriptionFile(fileName):\n",
    "    desc = []\n",
    "    f = open(fileName,\"r\")\n",
    "    for line in f:\n",
    "        noPuncSentence = stripPunctuation(line)\n",
    "        desc.append(noPuncSentence)\n",
    "    return desc\n",
    "\n",
    "def stripPunctuation(s):\n",
    "    regex = re.compile('[%s]' % re.escape(string.punctuation))\n",
    "    return regex.sub(' ', s)"
   ]
  },
  {
   "cell_type": "markdown",
   "metadata": {},
   "source": [
    "## Tags Analysis"
   ]
  },
  {
   "cell_type": "code",
   "execution_count": 6,
   "metadata": {
    "collapsed": true
   },
   "outputs": [],
   "source": [
    "def getTagDict(num,tagFolder):\n",
    "    tags = {}\n",
    "    for n in range(num):\n",
    "        f = tagFolder +\"/\" + str(n) + \".txt\"\n",
    "        fileTags = readTagsFile(f)\n",
    "        #newTags = stemTags(fileTags)\n",
    "        for tag in fileTags:\n",
    "            if str(tag) not in tags.keys():\n",
    "                tags[str(tag)] = 0\n",
    "            else:\n",
    "                tags[str(tag)] +=1\n",
    "    return tags"
   ]
  },
  {
   "cell_type": "code",
   "execution_count": 7,
   "metadata": {
    "collapsed": true
   },
   "outputs": [],
   "source": [
    "tagDict = getTagDict(numTrain,tagsTrainFolder)"
   ]
  },
  {
   "cell_type": "code",
   "execution_count": 8,
   "metadata": {
    "collapsed": false
   },
   "outputs": [
    {
     "name": "stdout",
     "output_type": "stream",
     "text": [
      "{'toilet': 287, 'fire hydrant': 151, 'sports ball': 339, 'bicycle': 284, 'kite': 200, 'laptop': 303, 'potted plant': 356, 'tennis racket': 293, 'teddy bear': 183, 'donut': 117, 'snowboard': 128, 'carrot': 138, 'motorcycle': 327, 'oven': 246, 'keyboard': 169, 'scissors': 72, 'chair': 1029, 'couch': 344, 'mouse': 158, 'airplane': 221, 'boat': 276, 'apple': 106, 'sheep': 122, 'horse': 218, 'sandwich': 207, 'banana': 169, 'cup': 746, 'tv': 351, 'backpack': 428, 'toaster': 23, 'bowl': 592, 'microwave': 112, 'bench': 475, 'book': 446, 'elephant': 178, 'orange': 130, 'tie': 305, 'stop sign': 141, 'knife': 331, 'pizza': 265, 'fork': 267, 'hair drier': 11, 'frisbee': 194, 'umbrella': 357, 'parking meter': 57, 'bus': 330, 'suitcase': 188, 'bear': 86, 'vase': 310, 'toothbrush': 79, 'spoon': 292, 'train': 330, 'sink': 389, 'wine glass': 214, 'handbag': 597, 'cell phone': 436, 'bird': 305, 'broccoli': 162, 'refrigerator': 204, 'remote': 239, 'surfboard': 321, 'cow': 177, 'dining table': 959, 'hot dog': 121, 'car': 1021, 'clock': 441, 'skateboard': 256, 'dog': 391, 'bed': 314, 'cat': 354, 'person': 5322, 'skis': 237, 'giraffe': 217, 'truck': 498, 'bottle': 707, 'baseball bat': 193, 'cake': 216, 'baseball glove': 198, 'traffic light': 327, 'zebra': 168}\n"
     ]
    }
   ],
   "source": [
    "print tagDict"
   ]
  },
  {
   "cell_type": "code",
   "execution_count": 9,
   "metadata": {
    "collapsed": false
   },
   "outputs": [
    {
     "name": "stdout",
     "output_type": "stream",
     "text": [
      "['toilet', 'fire hydrant', 'sports ball', 'bicycle', 'kite', 'laptop', 'potted plant', 'tennis racket', 'teddy bear', 'donut', 'snowboard', 'carrot', 'motorcycle', 'oven', 'keyboard', 'scissors', 'chair', 'couch', 'mouse', 'airplane', 'boat', 'apple', 'sheep', 'horse', 'sandwich', 'banana', 'cup', 'tv', 'backpack', 'toaster', 'bowl', 'microwave', 'bench', 'book', 'elephant', 'orange', 'tie', 'stop sign', 'knife', 'pizza', 'fork', 'hair drier', 'frisbee', 'umbrella', 'parking meter', 'bus', 'suitcase', 'bear', 'vase', 'toothbrush', 'spoon', 'train', 'sink', 'wine glass', 'handbag', 'cell phone', 'bird', 'broccoli', 'refrigerator', 'remote', 'surfboard', 'cow', 'dining table', 'hot dog', 'car', 'clock', 'skateboard', 'dog', 'bed', 'cat', 'person', 'skis', 'giraffe', 'truck', 'bottle', 'baseball bat', 'cake', 'baseball glove', 'traffic light', 'zebra']\n"
     ]
    }
   ],
   "source": [
    "print list(tagDict.keys())"
   ]
  },
  {
   "cell_type": "code",
   "execution_count": 10,
   "metadata": {
    "collapsed": false
   },
   "outputs": [
    {
     "name": "stdout",
     "output_type": "stream",
     "text": [
      "[287, 151, 339, 284, 200, 303, 356, 293, 183, 117, 128, 138, 327, 246, 169, 72, 1029, 344, 158, 221, 276, 106, 122, 218, 207, 169, 746, 351, 428, 23, 592, 112, 475, 446, 178, 130, 305, 141, 331, 265, 267, 11, 194, 357, 57, 330, 188, 86, 310, 79, 292, 330, 389, 214, 597, 436, 305, 162, 204, 239, 321, 177, 959, 121, 1021, 441, 256, 391, 314, 354, 5322, 237, 217, 498, 707, 193, 216, 198, 327, 168]\n"
     ]
    }
   ],
   "source": [
    "print list(tagDict.values())"
   ]
  },
  {
   "cell_type": "code",
   "execution_count": 11,
   "metadata": {
    "collapsed": true
   },
   "outputs": [],
   "source": [
    "def plotTagFrequency(d):\n",
    "    plt.figure(figsize=(18, 16), dpi= 80, facecolor='w', edgecolor='k')\n",
    "    plt.bar(range(len(d)), list(d.values()), align='center')\n",
    "    plt.xticks(range(len(d)), list(d.keys()), rotation=90)"
   ]
  },
  {
   "cell_type": "code",
   "execution_count": 12,
   "metadata": {
    "collapsed": false
   },
   "outputs": [
    {
     "data": {
      "image/png": "[encoded data removed]",
      "text/plain": [
       "<matplotlib.figure.Figure at 0x103da72d0>"
      ]
     },
     "metadata": {},
     "output_type": "display_data"
    }
   ],
   "source": [
    "plotTagFrequency(tagDict)"
   ]
  },
  {
   "cell_type": "markdown",
   "metadata": {},
   "source": [
    "The least frequent tags are easier to use in classification, whereas more frequent tags are harder to use to point to a specific image. This could help us understand which tags are more important than others when trying to determine the best tag out of a tie."
   ]
  },
  {
   "cell_type": "code",
   "execution_count": 13,
   "metadata": {
    "collapsed": true
   },
   "outputs": [],
   "source": [
    "def plotTagNormalizeFrequency(d):\n",
    "    newValues = [freq/float(sum(d.values())) for freq in list(d.values())]\n",
    "    plt.figure(figsize=(18, 16), dpi= 80, facecolor='w', edgecolor='k')\n",
    "    plt.bar(range(len(d)), newValues, align='center')\n",
    "    plt.xticks(range(len(d)), list(d.keys()), rotation=90)"
   ]
  },
  {
   "cell_type": "code",
   "execution_count": 14,
   "metadata": {
    "collapsed": false
   },
   "outputs": [
    {
     "data": {
      "image/png": "[encoded data removed]",
      "text/plain": [
       "<matplotlib.figure.Figure at 0x10a4ba310>"
      ]
     },
     "metadata": {},
     "output_type": "display_data"
    }
   ],
   "source": [
    "plotTagNormalizeFrequency(tagDict)"
   ]
  },
  {
   "cell_type": "code",
   "execution_count": 15,
   "metadata": {
    "collapsed": false
   },
   "outputs": [
    {
     "name": "stdout",
     "output_type": "stream",
     "text": [
      "0.036167445784\n"
     ]
    }
   ],
   "source": [
    "print tagDict['chair']/float(sum(tagDict.values()))"
   ]
  },
  {
   "cell_type": "markdown",
   "metadata": {},
   "source": [
    "## Generate Tag Vector"
   ]
  },
  {
   "cell_type": "code",
   "execution_count": 16,
   "metadata": {
    "collapsed": false
   },
   "outputs": [],
   "source": [
    "def createBag(num,tagFolder):\n",
    "    tags = {}\n",
    "    for n in range(num):\n",
    "        f = tagFolder +\"/\" + str(n) + \".txt\"\n",
    "        fileTags = readTagsFile(f)\n",
    "        #newTags = stemTags(fileTags) - maybe add stemming - Francesco\n",
    "        for t in fileTags:\n",
    "            if t not in tags.keys():\n",
    "                tags[t] = 0\n",
    "    return tags\n",
    "\n",
    "def stemTags(lst):\n",
    "    newTags = []\n",
    "    for word in lst:\n",
    "        stem = str(PorterStemmer().stem(word))\n",
    "        newTags.append(stem)\n",
    "    return newTags\n",
    "\n",
    "def indexBag(bag):\n",
    "    idx = 0\n",
    "    for tag in bag.keys():\n",
    "        bag[tag] = idx\n",
    "        idx+=1\n",
    "    return bag\n",
    "\n",
    "def getTagVectors(num,tagFolder,indexedTagBag):\n",
    "    tagVecs = np.zeros((num,len(indexedTagBag.keys()))) #2D Array of size (file number, len(indexedBagTag.keys))\n",
    "    for n in range(num):\n",
    "        f = tagFolder +\"/\" + str(n) + \".txt\"\n",
    "        fileTags = readTagsFile(f)\n",
    "        #newTags = stemTags(fileTags) - maybe add stemming - Francesco\n",
    "        for tag in fileTags:\n",
    "            if tag in indexedTagBag.keys():\n",
    "                tagVecs[n,indexedTagBag[tag]] = 1\n",
    "            else:\n",
    "                print str(tag) + \" is not in the tag BOW\"\n",
    "    return pd.DataFrame(tagVecs,columns = indexedTagBag.keys())"
   ]
  },
  {
   "cell_type": "code",
   "execution_count": 17,
   "metadata": {
    "collapsed": true
   },
   "outputs": [],
   "source": [
    "tagBag = createBag(numTrain,tagsTrainFolder)\n",
    "indexedTagBag = indexBag(tagBag)"
   ]
  },
  {
   "cell_type": "code",
   "execution_count": 18,
   "metadata": {
    "collapsed": false
   },
   "outputs": [
    {
     "name": "stdout",
     "output_type": "stream",
     "text": [
      "(10000, 80)\n"
     ]
    }
   ],
   "source": [
    "tagVectors = getTagVectors(numTrain,tagsTrainFolder,indexedTagBag)\n",
    "print tagVectors.shape"
   ]
  },
  {
   "cell_type": "markdown",
   "metadata": {},
   "source": [
    "\n",
    "\n",
    "## Description Processing"
   ]
  },
  {
   "cell_type": "code",
   "execution_count": 19,
   "metadata": {
    "collapsed": false
   },
   "outputs": [],
   "source": [
    "def getStopWords():\n",
    "    return set(stopwords.words(\"english\"))\n",
    "\n",
    "def lowerCase(x):\n",
    "    return x.lower()\n",
    "\n",
    "def lemmatize(lmt,x):\n",
    "    return lmt.lemmatize(x)\n",
    "\n",
    "def getPos(line):\n",
    "    return pos_tag(line)\n",
    "\n",
    "def tokenize(line):\n",
    "    return line.split()\n",
    "\n",
    "def stripPunctuation(s):\n",
    "    regex = re.compile('[%s]' % re.escape(string.punctuation))\n",
    "    return regex.sub(' ', s)\n",
    "\n",
    "def stemmer(line):\n",
    "    stemmer = PorterStemmer()\n",
    "    stemmedLine = []\n",
    "    for word in line:\n",
    "        #if pos == \"NN\": #only stem nouns\n",
    "        stem = stemmer.stem(word)\n",
    "        stemmedLine.append(stem)\n",
    "    return stemmedLine \n",
    "\n",
    "def stemmedDescriptions(lst):\n",
    "    stemmedDescriptions = []\n",
    "    for line in lst:\n",
    "        tokenizedLine = tokenize(line)\n",
    "        stemmedDescriptions.append(stemmer(tokenizedLine))\n",
    "    return stemmedDescriptions\n"
   ]
  },
  {
   "cell_type": "code",
   "execution_count": 20,
   "metadata": {
    "collapsed": false
   },
   "outputs": [],
   "source": [
    "def createBag(num,descFolder):\n",
    "    bag = {}\n",
    "    stopWords = getStopWords()\n",
    "    for n in range(num):\n",
    "        f = descFolder +\"/\" + str(n) + \".txt\"\n",
    "        fileDescriptions = readDescriptionFile(f) #2D Array\n",
    "        stemDescriptions = stemmedDescriptions(fileDescriptions) #applying stemming so to aggregate similar words\n",
    "        for desc in stemDescriptions:\n",
    "            for word in desc:\n",
    "                lowerWord = lowerCase(word)\n",
    "                if str(lowerWord) not in bag.keys() and str(lowerWord) != \"\" and str(lowerWord) not in stopWords:\n",
    "                    bag[str(lowerWord)] = 0 \n",
    "    return bag\n",
    "\n",
    "def indexBag(bag):\n",
    "    idx = 0\n",
    "    for tag in bag.keys():\n",
    "        bag[tag] = idx\n",
    "        idx+=1\n",
    "    return bag\n",
    "\n",
    "def binaryVectorizeDescriptions(num,descFolder,indexedDescBag):\n",
    "    stopWords = getStopWords()\n",
    "    featureVectorList = []\n",
    "    for n in range(num):\n",
    "        imageTagVec = [0.0 for tag in range(len(indexedDescBag.keys()))]\n",
    "        f = descFolder +\"/\" + str(n) + \".txt\"\n",
    "        fileDescriptions = readDescriptionFile(f) #2D Array\n",
    "        stemDescriptions = stemmedDescriptions(fileDescriptions) #applying stemming so to aggregate similar words\n",
    "        for desc in stemDescriptions:\n",
    "            for word in desc:\n",
    "                lowerWord = lowerCase(word)\n",
    "                if str(lowerWord) in indexedDescBag.keys() and str(lowerWord) != \"\" and str(lowerWord) not in stopWords:\n",
    "                    imageTagVec[indexedDescBag[str(lowerWord)]] +=1.0\n",
    "        featureVectorList.append(imageTagVec)\n",
    "    return pd.DataFrame(featureVectorList,columns = indexedDescBag.keys())\n",
    "\n",
    "def tfIdfVectorizeDecriptions(num,descFolder):\n",
    "    \"\"\"\n",
    "    this technique will be very sparse - consider using dimensionality reduction here\n",
    "    \"\"\"\n",
    "    tf = TfidfVectorizer(analyzer='word', \n",
    "                         ngram_range=(1,1), \n",
    "                         min_df = 1,\n",
    "                         stop_words = 'english',\n",
    "                         lowercase = True) #add norm=\"l1\" or \"l2\" to normalize vectors\n",
    "    descCorpus = []\n",
    "    for n in range(num):\n",
    "        f = descFolder +\"/\" + str(n) + \".txt\"\n",
    "        fileDescriptions = readDescriptionFile(f) #2D Array\n",
    "        stemDescriptions = stemmedDescriptions(fileDescriptions) #applying stemming so to aggregate similar words\n",
    "        for desc in stemDescriptions:\n",
    "            descCorpus.append(\" \".join(desc))\n",
    "    return tf,tf.fit_transform(descCorpus) #TfIdfVectorizer uses unicode strings for column names.\n",
    "    #return tf"
   ]
  },
  {
   "cell_type": "code",
   "execution_count": 21,
   "metadata": {
    "collapsed": false
   },
   "outputs": [],
   "source": [
    "descBag = createBag(numTrain,descriptionTrainFolder)\n",
    "indexedDescBag = indexBag(descBag)"
   ]
  },
  {
   "cell_type": "code",
   "execution_count": 22,
   "metadata": {
    "collapsed": false
   },
   "outputs": [],
   "source": [
    "descVectors = binaryVectorizeDescriptions(numTrain,descriptionTrainFolder,indexedDescBag) #binary feature representation"
   ]
  },
  {
   "cell_type": "code",
   "execution_count": 23,
   "metadata": {
    "collapsed": false
   },
   "outputs": [
    {
     "name": "stdout",
     "output_type": "stream",
     "text": [
      "(10000, 6456)\n"
     ]
    }
   ],
   "source": [
    "print descVectors.shape"
   ]
  },
  {
   "cell_type": "code",
   "execution_count": 24,
   "metadata": {
    "collapsed": true
   },
   "outputs": [],
   "source": [
    "normalizedDescVector = descVectors.div(descVectors.sum(axis=1), axis=0)"
   ]
  },
  {
   "cell_type": "code",
   "execution_count": 25,
   "metadata": {
    "collapsed": false
   },
   "outputs": [
    {
     "name": "stdout",
     "output_type": "stream",
     "text": [
      "0.161290322581\n"
     ]
    }
   ],
   "source": [
    "print normalizedDescVector.iloc[0]['tabl']"
   ]
  },
  {
   "cell_type": "code",
   "execution_count": 25,
   "metadata": {
    "collapsed": false
   },
   "outputs": [],
   "source": [
    "#tfIDFObj,descTFIDF = tfIdfVectorizeDecriptions(numTrain,descriptionTrainFolder)"
   ]
  },
  {
   "cell_type": "code",
   "execution_count": 26,
   "metadata": {
    "collapsed": false
   },
   "outputs": [
    {
     "name": "stdout",
     "output_type": "stream",
     "text": [
      "[u'00', u'05', u'10', u'103', u'106', u'11', u'12', u'12th', u'13th', u'142053', u'15', u'1802', u'1830', u'1917', u'1929', u'1932', u'1950', u'1960', u'1969', u'19th', u'1st', u'20', u'2013', u'23', u'238', u'25', u'29', u'2am', u'2x4', u'30', u'30th', u'31', u'32', u'35', u'360', u'38', u'39', u'3d', u'3rd', u'40', u'43', u'44', u'48', u'480', u'4pm', u'50', u'51', u'53', u'535', u'55', u'551', u'5th', u'600', u'6am', u'6pm', u'6th', u'747', u'75', u'750', u'7th', u'80', u'800', u'811', u'84', u'89', u'95th', u'aa', u'abandon', u'abdomen', u'abil', u'abl', u'abll', u'abnorm', u'aboard', u'abook', u'abou', u'abov', u'abraham', u'abreast', u'abstract', u'abund', u'abyss', u'acacia', u'academ', u'acceler', u'accent', u'accept', u'access', u'accessori', u'accid', u'accompani', u'account', u'accumul', u'ace', u'achiev', u'acket', u'acknowledg', u'aclock', u'acm', u'acorn', u'acrobat', u'act', u'action', u'activ', u'actor', u'actual', u'ad', u'add', u'addit', u'address', u'adjac', u'adjoin', u'adjust', u'admir', u'admit', u'adn', u'adolesc', u'ador', u'adorn', u'adult', u'advanc', u'adventur', u'advertis', u'advis', u'aer', u'aerial', u'aeroplan', u'afar', u'affair', u'affect', u'affection', u'affix', u'afghan', u'afield', u'afraid', u'africa', u'african', u'afro', u'afterburn', u'afternoon', u'agaist', u'age', u'agenc', u'aggress', u'agit', u'ago', u'ahead', u'aim', u'air', u'airbag', u'airborn', u'aircraft', u'airfield', u'airi', u'airlin', u'airplan', u'airport', u'airstrip', u'airway', u'aisl', u'ajar', u'akit', u'akureyri', u'al', u'alarm', u'album', u'alcohol', u'alcov', u'ale', u'alert', u'alertli', u'alfalfa', u'alien', u'alight', u'alley', u'alleyway', u'alli', u'allot', u'allow', u'almond', u'aloft', u'alon', u'alongsid', u'alot', u'aloud', u'alpin', u'alreadi', u'altar', u'alter', u'altitud', u'aluminum', u'alway', u'alyeska', u'amanda', u'amateur', u'amazon', u'ambianc', u'ambl', u'ambul', u'america', u'american', u'amid', u'amidst', u'amish', u'amp', u'amphora', u'ampl', u'amtrack', u'amtrak', u'amus', u'ana', u'analog', u'analogu', u'anchor', u'anchorag', u'anchovi', u'ancient', u'angel', u'angl', u'angri', u'angrili', u'ani', u'anim', u'ankl', u'ann', u'announc', u'annoy', u'anoth', u'answer', u'antelop', u'anti', u'anticip', u'antiqu', u'anyth', u'anywher', u'aon', u'apark', u'apart', u'apia', u'apparatu', u'apparel', u'appeal', u'appear', u'appet', u'appl', u'applaud', u'applesauc', u'appletre', u'applianc', u'appreci', u'apprehens', u'approach', u'appropri', u'approxim', u'april', u'apron', u'aqua', u'aquarium', u'arab', u'arabia', u'arboretum', u'arch', u'archaeolog', u'architectur', u'archway', u'arden', u'area', u'aren', u'arena', u'arendt', u'argu', u'argyl', u'arial', u'arid', u'arizona', u'arm', u'armchair', u'armi', u'armor', u'armour', u'armrest', u'arnaud', u'arr', u'arrang', u'array', u'arret', u'arriv', u'arrow', u'art', u'articl', u'articul', u'artifact', u'artifici', u'artisan', u'artist', u'artsi', u'artwork', u'arugula', u'ascend', u'ash', u'ashor', u'ashtray', u'asia', u'asian', u'asid', u'ask', u'askew', u'asleep', u'asoort', u'asparagu', u'asphalt', u'asphault', u'assembl', u'assess', u'assist', u'associ', u'assort', u'assur', u'astabl', u'astound', u'astrid', u'astro', u'astronaut', u'ate', u'athlet', u'atlant', u'atlanta', u'atm', u'atmospher', u'atop', u'atrium', u'attach', u'attack', u'attempt', u'attend', u'attende', u'attent', u'attest', u'attic', u'attir', u'attract', u'auburn', u'audienc', u'audio', u'auditorium', u'aurora', u'aussi', u'australia', u'australian', u'authent', u'auto', u'autograph', u'automat', u'automobil', u'autumn', u'av', u'avail', u'avas', u'avatar', u'ave', u'avenu', u'avidli', u'avocado', u'avocet', u'avoid', u'await', u'awar', u'award', u'away', u'awkwardli', u'awn', u'axe', u'axl', u'baaebal', u'babi', u'bacardi', u'backdrop', u'backflip', u'backgroound', u'background', u'backhand', u'backlit', u'backpack', u'backround', u'backseat', u'backsid', u'backsplash', u'backward', u'backyard', u'bacon', u'bad', u'badg', u'badli', u'badminton', u'bae', u'baebal', u'bag', u'bagag', u'bagel', u'baggag', u'baggi', u'baguett', u'bail', u'bake', u'baker', u'bakeri', u'bakewar', u'balanc', u'balconi', u'bald', u'bale', u'ball', u'balll', u'ballon', u'balloon', u'ballpark', u'ballplay', u'ballston', u'baloon', u'bamboo', u'ban', u'banana', u'band', u'bandana', u'bandanna', u'bang', u'bank', u'banna', u'bannana', u'banner', u'bannist', u'banquet', u'baptism', u'baptist', u'bar', u'barack', u'barb', u'barbecu', u'barbequ', u'barber', u'barbershop', u'barbwir', u'bard', u'bare', u'barefoot', u'barg', u'bark', u'barn', u'barnyard', u'baromet', u'barrack', u'barrel', u'barren', u'barricad', u'barrier', u'barstool', u'bartend', u'base', u'baseb', u'basebal', u'baseboard', u'baseman', u'basement', u'basic', u'basil', u'basin', u'bask', u'basket', u'basketbal', u'bat', u'batch', u'bath', u'bathrob', u'bathroom', u'bathtub', u'bathtup', u'batman', u'batroom', u'batsman', u'batter', u'batteri', u'battl', u'battleship', u'bauminghausstrass', u'baxter', u'bay', u'bbq', u'beach', u'beachgoer', u'bead', u'beagl', u'beak', u'beal', u'beam', u'bean', u'beanbag', u'beani', u'bear', u'beard', u'beat', u'beaten', u'beauti', u'beavh', u'becam', u'becaus', u'becom', u'bed', u'bedrol', u'bedroom', u'bedsid', u'bedspead', u'bedspread', u'bee', u'beear', u'beech', u'beef', u'beehiv', u'beer', u'beet', u'befor', u'beg', u'begin', u'beig', u'beigh', u'beign', u'belch', u'bell', u'bellevu', u'belli', u'belong', u'belov', u'belt', u'ben', u'bench', u'bend', u'beneath', u'benefici', u'benefit', u'bent', u'bento', u'beright', u'berri', u'berth', u'besid', u'best', u'bestbuy', u'better', u'beverag', u'bi', u'bib', u'bicolor', u'bicycl', u'bicyclist', u'bide', u'bidet', u'big', u'bigger', u'bike', u'biker', u'bikini', u'billboard', u'billow', u'bin', u'binder', u'bink', u'biplan', u'bird', u'birdcag', u'birdfeed', u'birdhous', u'birdi', u'birdse', u'birthday', u'biscuit', u'bisect', u'bison', u'bit', u'bite', u'bitten', u'bitti', u'bke', u'bl', u'blac', u'black', u'blackberri', u'blackbird', u'blackboard', u'blacksplash', u'blade', u'blakc', u'bland', u'blank', u'blanket', u'blaoon', u'blazer', u'bld', u'bleacher', u'blend', u'blender', u'blened', u'bli', u'blimp', u'blind', u'blinder', u'blizzard', u'block', u'blockad', u'blond', u'blood', u'bloodi', u'bloom', u'blossom', u'blow', u'blowdryer', u'blown', u'blud', u'blue', u'blueberri', u'bluebird', u'bluish', u'blur', u'blurri', u'blusteri', u'blvd', u'bmw', u'bnsf', u'bo9i', u'boar', u'board', u'boarder', u'boardwalk', u'boarwalk', u'boat', u'boater', u'boay', u'bob', u'bobbl', u'bock', u'bodi', u'bodt', u'bodysuit', u'boil', u'bol', u'bold', u'bolt', u'bomb', u'bomber', u'bond', u'bone', u'bonnet', u'bonni', u'bonsecour', u'boogi', u'book', u'bookbag', u'bookcas', u'bookend', u'bookin', u'booklet', u'bookshelf', u'bookshelv', u'boot', u'booth', u'booti', u'booz', u'bord', u'border', u'bore', u'borrow', u'bosch', u'bosom', u'boston', u'bottl', u'botttl', u'boul', u'boulder', u'boulevard', u'bounc', u'bouncer', u'bounci', u'bound', u'boundari', u'bouquet', u'bouttonier', u'bovin', u'bow', u'bowel', u'bowl', u'bowler', u'bowti', u'box', u'boxcar', u'boxer', u'boy', u'boze', u'bra', u'brace', u'bracelet', u'bracket', u'brake', u'branch', u'brand', u'brass', u'brave', u'brawl', u'braze', u'bread', u'breadbowl', u'breadstick', u'break', u'breakfast', u'breakwat', u'breast', u'breastfeed', u'bred', u'breez', u'brick', u'brickwork', u'bridal', u'bride', u'bridg', u'bridl', u'brief', u'briefcas', u'brige', u'bright', u'brighten', u'brightli', u'brilliant', u'bring', u'bristl', u'britain', u'british', u'bro', u'broad', u'broadli', u'broadway', u'broccli', u'brocco', u'broccoli', u'broccoliw', u'broccolli', u'brochur', u'brocolli', u'broken', u'brokerli', u'brontosauru', u'brooklyn', u'broom', u'broth', u'brother', u'brought', u'brow', u'brown', u'browni', u'brownish', u'brows', u'bruis', u'brunett', u'brush', u'brushi', u'brussel', u'bu', u'bubbl', u'buck', u'bucket', u'buckl', u'bud', u'budda', u'buddha', u'budweis', u'buffalo', u'buffet', u'bug', u'buggi', u'bugl', u'build', u'built', u'bulb', u'buld', u'bulid', u'bulki', u'bull', u'bulldog', u'bulldoz', u'bullet', u'bulletin', u'bullhorn', u'bullpen', u'bum', u'bump', u'bumper', u'bun', u'bunch', u'bundl', u'bundt', u'bunk', u'bunkb', u'bunni', u'bunt', u'buoy', u'bureau', u'burger', u'burgundi', u'buri', u'burlap', u'burli', u'burn', u'burner', u'burnt', u'burrito', u'buse', u'bush', u'bushel', u'bushi', u'busi', u'businessman', u'businessmen', u'businesswear', u'buss', u'bust', u'butcher', u'butt', u'butter', u'butterfli', u'butterscotch', u'button', u'buy', u'bye', u'cab', u'cabana', u'cabbag', u'cabin', u'cabinet', u'cabinetri', u'cabl', u'caboos', u'cactu', u'caddi', u'cafe', u'cafeteria', u'cage', u'cainet', u'cake', u'cal', u'calcul', u'calendar', u'calf', u'calico', u'califlow', u'california', u'calm', u'calmli', u'calv', u'calzon', u'cam', u'camden', u'came', u'camel', u'camera', u'cameraman', u'cameramen', u'camersa', u'camo', u'camod', u'camouflag', u'camp', u'campaign', u'camper', u'campfir', u'campground', u'campu', u'canada', u'canadian', u'canadien', u'canal', u'candi', u'candid', u'candl', u'candlelight', u'cane', u'canist', u'cano', u'canopi', u'canva', u'canyon', u'cap', u'capit', u'capitol', u'cappuccino', u'captain', u'caption', u'captiv', u'captur', u'car', u'caramel', u'carb', u'card', u'cardboard', u'cardin', u'care', u'carebear', u'careen', u'carefoot', u'caress', u'cargo', u'carlisl', u'carnat', u'carniv', u'carolina', u'carousel', u'carpet', u'carri', u'carriag', u'carrier', u'carrot', u'carrousel', u'carrrot', u'carseat', u'cart', u'carton', u'cartoon', u'cartridg', u'carv', u'cascad', u'case', u'casino', u'casserol', u'cast', u'castl', u'casual', u'cat', u'catawba', u'catch', u'catcher', u'cater', u'cathedr', u'cattl', u'caucasian', u'caught', u'cauliflow', u'caus', u'caution', u'cautious', u'cave', u'cay', u'cb', u'cd', u'ce', u'ceil', u'cel', u'celebr', u'celebratori', u'celeri', u'cell', u'cellar', u'cellophan', u'cellphon', u'cellular', u'celtic', u'cement', u'cementeri', u'cemetari', u'cemeteri', u'cent', u'center', u'centerpiec', u'centimet', u'centr', u'central', u'centuri', u'ceram', u'cereal', u'ceremoni', u'certain', u'certainli', u'cgi', u'chadeli', u'chai', u'chain', u'chainlink', u'chair', u'chairlift', u'chais', u'chalet', u'chalk', u'chalkboard', u'challeng', u'chamber', u'champagn', u'champion', u'championship', u'chandeli', u'chang', u'channel', u'chapati', u'chapel', u'chapstick', u'charact', u'charcoal', u'charg', u'charger', u'chari', u'chariot', u'charlton', u'charm', u'charter', u'chase', u'chat', u'chateau', u'chay', u'chcocat', u'check', u'checker', u'checkerboard', u'checkout', u'cheddar', u'cheek', u'cheer', u'cheerio', u'cheerlead', u'chees', u'cheeseburg', u'cheesecak', u'cheesesteak', u'cheeseteak', u'cheesey', u'cheesi', u'cheesin', u'cheetah', u'cheeto', u'chef', u'chemic', u'cherri', u'chess', u'chest', u'chester', u'chevi', u'chevron', u'chew', u'chibata', u'chicago', u'chicat', u'chick', u'chicken', u'child', u'childern', u'children', u'chili', u'chilidog', u'chill', u'chilli', u'chimney', u'china', u'chines', u'chip', u'chiquita', u'chir', u'chirch', u'chive', u'chldren', u'chli', u'choclat', u'chocol', u'choic', u'chomp', u'choos', u'chop', u'chopper', u'choppi', u'chopstick', u'chow', u'christma', u'chrome', u'chubbi', u'chuck', u'chug', u'chunk', u'church', u'chute', u'cigarett', u'ciggoret', u'cinder', u'cinnamon', u'circl', u'circu', u'circuit', u'circular', u'cit', u'citi', u'citizen', u'citru', u'cityscap', u'civil', u'clad', u'claim', u'clam', u'clap', u'clasp', u'class', u'classic', u'classroom', u'clau', u'claus', u'claustrophob', u'claw', u'clawfoot', u'clay', u'clcktower', u'clcok', u'clean', u'cleaner', u'clear', u'clearest', u'clearli', u'clemson', u'clench', u'cleopatra', u'clerk', u'click', u'cliff', u'cliffsid', u'climb', u'climber', u'cling', u'clip', u'clipboard', u'clo', u'cloak', u'clock', u'clockpost', u'clocktow', u'clog', u'close', u'closer', u'closest', u'closet', u'closeup', u'cloth', u'cloud', u'cloudi', u'cloudless', u'clover', u'clown', u'club', u'clue', u'clump', u'cluster', u'clutch', u'clutter', u'clydesdal', u'coach', u'coal', u'coart', u'coast', u'coastal', u'coat', u'cobbl', u'cobbler', u'cobbleston', u'coca', u'cocacola', u'cock', u'cockatiel', u'cocker', u'cockpit', u'coco', u'coconut', u'code', u'coff', u'coffe', u'coffeepot', u'coffer', u'cog', u'coin', u'coke', u'cola', u'coland', u'cold', u'cole', u'coleslaw', u'collag', u'collar', u'colleagu', u'collect', u'collector', u'colleg', u'colli', u'collid', u'colo', u'coloni', u'color', u'colt', u'column', u'com', u'comb', u'combin', u'combo', u'come', u'comet', u'comfort', u'comfti', u'comic', u'command', u'commemor', u'comment', u'commerci', u'commod', u'common', u'commun', u'commut', u'compact', u'compani', u'companion', u'compar', u'compart', u'compass', u'compet', u'competit', u'competititon', u'competitor', u'compil', u'complement', u'complet', u'complex', u'compon', u'componet', u'composit', u'compound', u'compuit', u'comput', u'concentr', u'concept', u'concert', u'concess', u'concoct', u'concret', u'condiment', u'condit', u'conductor', u'cone', u'confect', u'confection', u'confer', u'confetti', u'confin', u'confront', u'confus', u'congest', u'congratulatori', u'congreg', u'connect', u'connectec', u'conquer', u'conret', u'consciou', u'consist', u'consol', u'construct', u'consum', u'consumpt', u'conta', u'contact', u'contain', u'contan', u'contempl', u'contemporari', u'contend', u'content', u'contest', u'contin', u'continu', u'contort', u'contrapt', u'contrast', u'control', u'conveneinc', u'conveni', u'convent', u'conver', u'convers', u'convert', u'convex', u'convey', u'conveyor', u'convorbelt', u'convoy', u'cook', u'cooker', u'cooki', u'cookout', u'cookwar', u'cool', u'cooler', u'coor', u'coordin', u'cop', u'copi', u'copper', u'cops', u'coral', u'cord', u'corder', u'cordless', u'corn', u'corner', u'corona', u'corp', u'corral', u'correct', u'corridor', u'corrug', u'cosmet', u'cost', u'costum', u'cot', u'cotton', u'cottoni', u'couch', u'couh', u'coulson', u'count', u'counter', u'countertop', u'countri', u'countrysid', u'countysid', u'coup', u'coupl', u'cours', u'court', u'courtyard', u'cove', u'cover', u'coveral', u'coverlet', u'cow', u'cowboy', u'cowgirl', u'cowork', u'coxswain', u'coyot', u'cozi', u'crab', u'crack', u'cracker', u'cradl', u'craft', u'cram', u'cramp', u'cranberri', u'crane', u'crank', u'crash', u'crate', u'crawl', u'crazi', u'cream', u'creami', u'creas', u'creat', u'creation', u'creativ', u'creatur', u'credit', u'creek', u'creepi', u'creme', u'crepe', u'crescent', u'crest', u'crevass', u'crew', u'cri', u'crib', u'crisp', u'crispi', u'crochet', u'crod', u'croissant', u'crook', u'crop', u'croqu', u'cross', u'crossbon', u'crosscountri', u'crosswalk', u'crotch', u'crouch', u'crouton', u'crow', u'crowd', u'crown', u'cruelli', u'cruis', u'crumb', u'crumbl', u'crumpl', u'crunch', u'crush', u'crust', u'crusti', u'crystal', u'ct', u'cub', u'cubbi', u'cube', u'cubic', u'cubicl', u'cucumb', u'cud', u'cuddl', u'cuisin', u'cumin', u'cup', u'cupboard', u'cupcak', u'cupola', u'curb', u'curbsid', u'curio', u'curiou', u'curious', u'curl', u'curler', u'curli', u'curmudgeonli', u'current', u'curs', u'curst', u'curtain', u'curv', u'curvi', u'cushion', u'custard', u'custom', u'cut', u'cute', u'cutin', u'cutleri', u'cutlet', u'cutom', u'cutout', u'cutter', u'cv', u'cyce', u'cycl', u'cyclist', u'cylc', u'cylindr', u'cymbal', u'dad', u'daffodil', u'dag', u'daili', u'dainti', u'dairi', u'daisi', u'dalmat', u'dalmatian', u'damag', u'damp', u'danc', u'danger', u'dangl', u'danish', u'dare', u'dark', u'darken', u'darker', u'darkli', u'darklit', u'darth', u'dash', u'dashboard', u'date', u'daughter', u'davi', u'david', u'davidson', u'dawn', u'day', u'dayb', u'daylight', u'daytim', u'dc', u'dead', u'deal', u'death', u'debit', u'debri', u'decad', u'decal', u'decid', u'deck', u'decker', u'deco', u'decor', u'deep', u'deepli', u'deer', u'defec', u'defect', u'defenc', u'defend', u'defens', u'definit', u'deftli', u'degre', u'del', u'deli', u'delic', u'delici', u'deliv', u'deliveri', u'delta', u'demand', u'demolish', u'demolit', u'demon', u'demonstr', u'demur', u'den', u'denim', u'dens', u'dent', u'dental', u'deodor', u'depart', u'departur', u'depict', u'deplan', u'deploy', u'depot', u'derail', u'derelict', u'descend', u'descent', u'describ', u'descript', u'desert', u'design', u'desk', u'desktop', u'desol', u'despic', u'despit', u'despond', u'dess', u'desser', u'dessert', u'destin', u'destroy', u'deter', u'deterg', u'determin', u'detour', u'develop', u'devic', u'devil', u'devis', u'diagon', u'dial', u'diamond', u'diamondback', u'diaper', u'dice', u'did', u'die', u'diesel', u'diet', u'differ', u'differnt', u'difficult', u'diffid', u'diffrrnt', u'dig', u'digit', u'digusust', u'dilapid', u'dim', u'dimension', u'dimli', u'din', u'dine', u'diner', u'ding', u'dinghi', u'dingi', u'dinner', u'dinosaur', u'dinosuar', u'dinousur', u'dip', u'diplay', u'diploma', u'direct', u'directli', u'directon', u'directori', u'dirt', u'dirtbik', u'dirti', u'disabl', u'disarray', u'disc', u'discard', u'disclaim', u'disco', u'discuss', u'disembodi', u'dish', u'dishevel', u'dishwash', u'disk', u'dismal', u'dismount', u'disorderli', u'disorgan', u'dispens', u'dispensari', u'dispensor', u'dispers', u'display', u'dispos', u'disrepair', u'dissembl', u'distanc', u'distancw', u'distant', u'distantli', u'distinct', u'distort', u'district', u'diswash', u'dive', u'divers', u'divid', u'dizzi', u'dj', u'dock', u'docku', u'doctor', u'dodg', u'doe', u'doesn', u'dog', u'doge', u'dogg', u'doggi', u'dogwood', u'doili', u'doll', u'dollar', u'dolli', u'dollop', u'dolphin', u'dome', u'domest', u'domin', u'don', u'donat', u'donkey', u'donut', u'doo', u'door', u'doorway', u'dora', u'dorm', u'dot', u'doubl', u'doubledeck', u'dough', u'doughi', u'doughnout', u'doughnut', u'dougnut', u'dove', u'dowel', u'downhil', u'downi', u'downpour', u'downstair', u'downtown', u'downward', u'dozen', u'dr', u'drab', u'draft', u'drag', u'dragon', u'dragonfli', u'drain', u'drainag', u'dramat', u'drank', u'drap', u'drape', u'draught', u'draw', u'drawbridg', u'drawer', u'drawn', u'dreadlock', u'dream', u'dreari', u'drench', u'dress', u'dressd', u'dresser', u'dri', u'drift', u'drink', u'drive', u'driven', u'driver', u'driveway', u'drizzl', u'droop', u'droopi', u'drop', u'droplet', u'drug', u'drum', u'drummer', u'dryer', u'dual', u'dubai', u'dubious', u'dublin', u'duck', u'duckl', u'duct', u'dude', u'duffel', u'duffl', u'dufflebag', u'dug', u'dugout', u'duke', u'dull', u'dump', u'dumpl', u'dumpster', u'duncan', u'dune', u'dunk', u'dunkin', u'dup', u'duplic', u'dure', u'dusk', u'duski', u'dust', u'dusti', u'dutch', u'duti', u'duvet', u'dvd', u'dvr', u'dwarf', u'dwell', u'dy', u'dye', u'eachoth', u'eager', u'eagerli', u'eagl', u'ear', u'earbud', u'earli', u'earlier', u'earphon', u'earth', u'eas', u'easi', u'easier', u'east', u'easter', u'eastern', u'eat', u'eaten', u'eater', u'eateri', u'eav', u'eccentr', u'eclect', u'eclips', u'eclos', u'eco', u'ecohopp', u'ecru', u'ecup', u'ed', u'edg', u'edibl', u'edit', u'educ', u'eff', u'effect', u'effici', u'egg', u'eggplant', u'egret', u'eguip', u'egypt', u'eiffel', u'eighteen', u'ejoy', u'ejungl', u'el', u'elabor', u'elat', u'elbow', u'elder', u'elderi', u'elderli', u'electon', u'electr', u'electron', u'elef', u'eleg', u'elegantli', u'element', u'eleph', u'elephan', u'elev', u'elizabeth', u'elizbeth', u'elk', u'ellington', u'elm', u'els', u'email', u'embark', u'embed', u'embellish', u'ember', u'emblem', u'embrac', u'embroid', u'embroideri', u'emerg', u'emmers', u'emo', u'emot', u'emperor', u'empir', u'employe', u'empti', u'en', u'enbrac', u'encas', u'encircl', u'enclos', u'enclosur', u'enclousur', u'encompass', u'encount', u'end', u'energet', u'enforc', u'engag', u'engin', u'england', u'english', u'engulf', u'enjoy', u'enjoyingplay', u'enorm', u'enter', u'entertain', u'enthusiasm', u'enthusiast', u'entir', u'entitl', u'entranc', u'entre', u'entri', u'entryway', u'envelop', u'envirnon', u'environ', u'ep', u'equal', u'equestrian', u'equip', u'equp', u'era', u'erect', u'ericsson', u'erot', u'error', u'erupt', u'escal', u'escap', u'escapologist', u'especi', u'essenti', u'establish', u'estat', u'ether', u'ethnic', u'euclid', u'europ', u'european', u'eve', u'event', u'evergreen', u'everi', u'everyon', u'everyth', u'everywher', u'evict', u'ewe', u'ex', u'exactli', u'examin', u'exampl', u'exchang', u'excit', u'excitedli', u'exclaim', u'execut', u'exercis', u'exhaust', u'exhibit', u'exist', u'exit', u'exot', u'expans', u'expect', u'expend', u'expens', u'experi', u'experiment', u'expir', u'explain', u'explor', u'expo', u'expos', u'exposur', u'express', u'expressway', u'extend', u'exterior', u'extern', u'extinguish', u'extra', u'extravag', u'extrem', u'eye', u'eyebrow', u'eyeglass', u'fabric', u'facad', u'face', u'facet', u'facial', u'facil', u'factori', u'fade', u'fair', u'fairli', u'fajita', u'fake', u'falcon', u'falk', u'fall', u'fallen', u'famili', u'famou', u'fan', u'fanci', u'fantasi', u'far', u'fare', u'farm', u'farmer', u'farmhous', u'farmland', u'fashion', u'fasion', u'fast', u'fastbal', u'fasten', u'faster', u'fastest', u'fat', u'fatal', u'father', u'fatigu', u'fatten', u'faucet', u'faux', u'favor', u'favorit', u'fboard', u'fear', u'feast', u'feather', u'featur', u'fecal', u'fece', u'fed', u'feder', u'fedex', u'fedora', u'fee', u'feed', u'feedbag', u'feeder', u'feel', u'feet', u'feild', u'felin', u'fell', u'fellow', u'femal', u'feminin', u'fenc', u'fender', u'fern', u'ferrari', u'ferri', u'fest', u'festiv', u'fetch', u'fetlock', u'fi', u'fiddl', u'fie', u'field', u'fielder', u'fierc', u'fiesta', u'fifti', u'fight', u'fighter', u'figur', u'figurin', u'fiil', u'file', u'filler', u'film', u'filter', u'filth', u'filthi', u'final', u'finch', u'fine', u'finest', u'finger', u'finish', u'fir', u'firefight', u'firehydr', u'fireman', u'firemen', u'fireplac', u'fireplug', u'fireston', u'firetruck', u'firld', u'firsbe', u'fish', u'fishermen', u'fist', u'fit', u'fitz', u'fix', u'fixtur', u'flag', u'flagpol', u'flail', u'flaki', u'flame', u'flamingo', u'flank', u'flap', u'flash', u'flashlight', u'flask', u'flat', u'flatb', u'flatbread', u'flatscreen', u'flatten', u'flavor', u'flea', u'flee', u'fleec', u'fleet', u'flex', u'fli', u'flick', u'flight', u'fling', u'flip', u'float', u'floatat', u'flock', u'flood', u'floor', u'floorboard', u'flop', u'floral', u'floret', u'florida', u'floss', u'flote', u'flour', u'flow', u'flower', u'floweri', u'flown', u'fluf', u'fluff', u'fluffi', u'fluid', u'fluoresc', u'flush', u'flute', u'flyer', u'flyi', u'flyng', u'fo', u'foal', u'foam', u'foami', u'focal', u'foccacia', u'focu', u'focus', u'fof', u'fog', u'foggi', u'fogi', u'foil', u'foilag', u'fold', u'folder', u'foliag', u'folk', u'follow', u'fom', u'fondant', u'font', u'foo', u'food', u'foodservic', u'foodstuff', u'foot', u'footbal', u'footboard', u'foothil', u'footlong', u'footpath', u'footwear', u'forag', u'forc', u'ford', u'forefront', u'foreground', u'forehand', u'forehead', u'foreign', u'forest', u'forgot', u'forhead', u'fork', u'forklift', u'forlornli', u'form', u'formal', u'format', u'formica', u'forrest', u'fort', u'forter', u'forth', u'forti', u'fortress', u'forward', u'fountain', u'fourt', u'fourth', u'fourti', u'fowhawk', u'fox', u'foxi', u'frame', u'frameless', u'franc', u'francisco', u'frank', u'frass', u'freak', u'freckl', u'free', u'freebe', u'freeeway', u'freeli', u'freeway', u'freez', u'freezer', u'freight', u'french', u'frequent', u'fresh', u'freshen', u'freshli', u'fri', u'fribe', u'friday', u'fridg', u'friend', u'friendli', u'fright', u'frisb', u'frisbe', u'frisbi', u'frisebe', u'frisk', u'frittata', u'friz', u'frizb', u'frizbe', u'frizzi', u'fro', u'frog', u'frolick', u'fron', u'frontal', u'frost', u'frothi', u'frotn', u'frown', u'frozen', u'fruit', u'fruiti', u'frumpl', u'fryer', u'frzbi', u'ftwo', u'fudg', u'fuel', u'fulli', u'fumbl', u'fun', u'function', u'funni', u'fur', u'furbe', u'furbi', u'furious', u'furnish', u'furnitur', u'furri', u'furrow', u'fuschia', u'fushia', u'futon', u'futur', u'futurist', u'fuzzi', u'ga', u'gadget', u'gag', u'gaggl', u'galleri', u'galley', u'gallon', u'gallop', u'gambl', u'game', u'gang', u'gangplank', u'gangster', u'garag', u'garb', u'garbag', u'garden', u'garland', u'garlic', u'garment', u'garnish', u'gass', u'gate', u'gateway', u'gather', u'gator', u'gaug', u'gaze', u'gazebo', u'gazel', u'gear', u'gee', u'gees', u'geisha', u'gelatin', u'gener', u'genetalia', u'gentl', u'gentleman', u'gentlemen', u'gentli', u'gerania', u'gerard', u'german', u'germani', u'gestur', u'getaway', u'geyer', u'ghost', u'giant', u'giaraff', u'gift', u'gigant', u'gild', u'gilt', u'gin', u'ginger', u'gingersnap', u'girafe', u'giraff', u'girioff', u'girl', u'girraf', u'given', u'gla', u'glacier', u'gladiat', u'glamour', u'glare', u'glass', u'glasswar', u'glaze', u'gleeful', u'glide', u'glider', u'glimmer', u'glisten', u'glitter', u'glori', u'glossi', u'glove', u'glow', u'glue', u'gnar', u'gnaw', u'goal', u'goali', u'goalkeep', u'goat', u'goate', u'goblet', u'godzilla', u'goe', u'goer', u'goggl', u'gold', u'golden', u'golf', u'gondola', u'gone', u'goo', u'good', u'goodby', u'goodi', u'goodmay', u'gooey', u'goofi', u'googl', u'goos', u'gordon', u'gorgeou', u'gosl', u'got', u'gothic', u'gotten', u'goup', u'gourd', u'gourmet', u'gown', u'grab', u'grabb', u'grace', u'grade', u'gradual', u'graduat', u'graffati', u'graffit', u'graffiti', u'graffitti', u'grafitti', u'graham', u'grain', u'grand', u'grandeur', u'grandfath', u'grandma', u'grandmoth', u'grandpa', u'granit', u'granni', u'granola', u'grant', u'grape', u'grapefruit', u'graph', u'graphic', u'grasp', u'grass', u'grassi', u'grassland', u'grassless', u'grate', u'gravel', u'graveyard', u'gravi', u'gray', u'grayish', u'graze', u'greas', u'great', u'gree', u'greek', u'green', u'greeneri', u'greengroc', u'greenhous', u'greenish', u'greenvil', u'greenwich', u'greet', u'grey', u'greyscal', u'griaff', u'grid', u'griddl', u'griffin', u'grill', u'grimac', u'grime', u'grin', u'grind', u'grinder', u'grip', u'grisli', u'grit', u'grizzli', u'grocer', u'groceri', u'groom', u'groomer', u'grop', u'ground', u'grouop', u'group', u'groupflier', u'grove', u'grow', u'grown', u'grownup', u'growth', u'guacamol', u'guano', u'guard', u'guardrail', u'guernsey', u'guest', u'guid', u'guilt', u'guin', u'guinea', u'guiness', u'guitar', u'gull', u'gulli', u'gum', u'gummi', u'gun', u'gush', u'gut', u'gutter', u'guy', u'gym', u'gymnasium', u'gymnast', u'ha', u'habitat', u'hacksaw', u'hail', u'hair', u'hairbrush', u'haircut', u'hairdress', u'hairdryer', u'hairi', u'half', u'halfpip', u'halfway', u'hall', u'halloween', u'hallway', u'halt', u'halter', u'halv', u'ham', u'hamburg', u'hammer', u'hamster', u'hand', u'handbag', u'handheld', u'handicap', u'handkerchief', u'handl', u'handlebar', u'handler', u'handmad', u'handrail', u'handsaw', u'handset', u'handsom', u'hang', u'hangar', u'hanger', u'hangglid', u'hannah', u'haphazardli', u'happen', u'happi', u'happili', u'har', u'harbor', u'hard', u'hardhat', u'hardli', u'hardwar', u'hardwood', u'harley', u'harri', u'hart', u'hastili', u'hat', u'hatch', u'hate', u'haul', u'hawaiian', u'hawk', u'hay', u'hazard', u'haze', u'hazepad', u'hazi', u'head', u'headboard', u'headlight', u'headphon', u'headscarf', u'headset', u'headstand', u'health', u'healthi', u'hear', u'heard', u'heart', u'hearth', u'hearti', u'heat', u'heater', u'heavi', u'heavili', u'hedg', u'heel', u'hefti', u'height', u'held', u'helicopt', u'heliport', u'hell', u'hello', u'helmet', u'help', u'herb', u'herd', u'herder', u'heritag', u'heron', u'herslf', u'hesit', u'het', u'hey', u'hi', u'hidden', u'hide', u'high', u'highchair', u'higher', u'highli', u'highlight', u'highris', u'highway', u'hign', u'hike', u'hiker', u'hil', u'hill', u'hilli', u'hilll', u'hillsid', u'hilltop', u'hilton', u'hind', u'hing', u'hip', u'hippi', u'hippo', u'hipster', u'hiss', u'histor', u'histori', u'hit', u'hitch', u'hitchhik', u'hitter', u'hlave', u'hlll', u'ho', u'hoagi', u'hoarder', u'hobbyist', u'hocken', u'hockey', u'hod', u'hode', u'hoe', u'hog', u'hoist', u'hold', u'holder', u'hole', u'holiday', u'holidng', u'holli', u'hollywood', u'holstein', u'home', u'homebas', u'homeless', u'homemad', u'homepl', u'homey', u'hon', u'hone', u'honey', u'hood', u'hoodi', u'hook', u'hoop', u'hop', u'hope', u'hor', u'hord', u'horizon', u'horizont', u'horn', u'horribl', u'horror', u'hors', u'horseback', u'horserac', u'horsss', u'hose', u'hosipit', u'hospit', u'host', u'hot', u'hotdog', u'hotel', u'hound', u'hour', u'hous', u'houseboat', u'household', u'housepl', u'hover', u'howl', u'hub', u'huddl', u'hue', u'hug', u'huge', u'hull', u'hum', u'human', u'humbl', u'humidifi', u'hummingbird', u'humong', u'humor', u'hump', u'hunch', u'hundr', u'hung', u'hungri', u'hunk', u'hunker', u'hunt', u'hurdl', u'hurl', u'hurt', u'husband', u'hush', u'huski', u'hussein', u'hut', u'hutch', u'hybrid', u'hydran', u'hydrand', u'hydrant', u'hydrofoil', u'hydrogen', u'hygien', u'hyrandt', u'hyrdant', u'hyundai', u'ia', u'ice', u'icebox', u'icecream', u'ici', u'icolor', u'icon', u'id', u'idaho', u'ideal', u'ident', u'identifi', u'idiot', u'idl', u'idli', u'ight', u'ignor', u'igrind', u'iguana', u'ii', u'iin', u'illeg', u'illumin', u'illus', u'illustr', u'imac', u'imag', u'immers', u'impati', u'implant', u'implement', u'import', u'impos', u'impoverish', u'impress', u'impromptu', u'improv', u'ina', u'incens', u'inch', u'incis', u'inclin', u'includ', u'incom', u'incred', u'indefinit', u'indesicrimin', u'india', u'indian', u'indianapoli', u'indic', u'indiffer', u'indirect', u'individu', u'indoor', u'induct', u'industri', u'inf', u'infant', u'infield', u'inflat', u'inform', u'infront', u'ing', u'ingredi', u'ingried', u'inhal', u'init', u'initi', u'injuri', u'ink', u'inlaid', u'inlet', u'inlin', u'inlud', u'inn', u'inner', u'insect', u'insert', u'inset', u'insid', u'insignia', u'insist', u'inspect', u'instal', u'instead', u'instruct', u'instructor', u'instrument', u'int', u'intact', u'intend', u'intens', u'intent', u'interact', u'intercept', u'interconnect', u'interfer', u'interior', u'interlock', u'intern', u'internet', u'intersect', u'interst', u'intertwin', u'interview', u'intim', u'intric', u'intrigu', u'invert', u'investig', u'invit', u'involv', u'inward', u'ipad', u'iphon', u'ipod', u'iron', u'irv', u'isdo', u'isl', u'island', u'isn', u'ist', u'iswait', u'itali', u'italian', u'item', u'ith', u'itl', u'itsef', u'ivi', u'ivori', u'iwth', u'jack', u'jacket', u'jackpot', u'jackson', u'jail', u'jal', u'jalepeno', u'jam', u'jame', u'janitor', u'japan', u'japanes', u'jar', u'jaragua', u'jean', u'jeep', u'jelli', u'jersey', u'jet', u'jetblu', u'jetlin', u'jetski', u'jetter', u'jetway', u'jewelri', u'jewish', u'jigsaw', u'job', u'jocket', u'jockey', u'jog', u'join', u'joke', u'jokingli', u'jordan', u'journal', u'joust', u'joy', u'joyc', u'joystick', u'jr', u'judg', u'jug', u'juggl', u'juic', u'juicer', u'juiceri', u'juici', u'julien', u'jumbl', u'jumbo', u'jummp', u'jump', u'jumper', u'jumpsuit', u'junction', u'june', u'jungl', u'junior', u'junk', u'junkyard', u'just', u'justic', u'jut', u'juvenil', u'juxtapos', u'kabob', u'kalakau', u'kalakaua', u'kale', u'kangaroo', u'karaok', u'karat', u'kart', u'kate', u'kauai', u'kawasaki', u'kayak', u'keeper', u'keg', u'kept', u'kerchief', u'kernel', u'ketchup', u'kettl', u'key', u'keyboard', u'keychain', u'keyoard', u'keypad', u'khaki', u'kichen', u'kick', u'kickbal', u'kicker', u'kickflip', u'kickstand', u'kid', u'kiddi', u'kidlington', u'kill', u'kiln', u'kilo', u'kilt', u'kimono', u'kind', u'king', u'kingdom', u'kiosk', u'kiss', u'kit', u'kitboard', u'kitchen', u'kitchenett', u'kite', u'kiteboard', u'kitesurf', u'kithchen', u'kithen', u'kitteh', u'kitten', u'kitti', u'kiwi', u'klm', u'knack', u'knapsack', u'kneal', u'knecklac', u'knee', u'kneel', u'knick', u'knife', u'knight', u'knit', u'knitti', u'knive', u'knob', u'knock', u'knot', u'know', u'kraut', u'ktichen', u'kyack', u'la', u'lab', u'labcoat', u'label', u'laboratori', u'labrador', u'lace', u'laci', u'lack', u'lad', u'ladder', u'lade', u'ladel', u'laden', u'ladi', u'ladl', u'lager', u'lagoon', u'laid', u'lake', u'lakeshor', u'lakesid', u'lama', u'lamb', u'lamp', u'lamppost', u'land', u'landfil', u'landmark', u'landscap', u'lane', u'languag', u'lantern', u'lanyard', u'lap', u'lapel', u'laps', u'laptop', u'lar', u'larg', u'larger', u'largest', u'lark', u'lash', u'latch', u'late', u'latest', u'latt', u'lattic', u'laugar', u'laugh', u'launch', u'laundri', u'lava', u'lavatori', u'lavend', u'lavishli', u'law', u'lawn', u'lay', u'layer', u'laze', u'lazi', u'lazili', u'lcd', u'leach', u'lead', u'leaf', u'leafi', u'leafless', u'leaflet', u'leagu', u'leaguer', u'leak', u'leaki', u'lean', u'leap', u'learn', u'leash', u'leather', u'leav', u'lectern', u'lectur', u'led', u'ledg', u'leek', u'left', u'leftov', u'leg', u'legal', u'leggo', u'lego', u'leisur', u'leizan', u'lemon', u'lemonad', u'len', u'length', u'lens', u'leopard', u'lession', u'lesson', u'let', u'letter', u'lettuc', u'level', u'lever', u'lf', u'liberti', u'librari', u'licens', u'lichen', u'lick', u'lid', u'lidless', u'lie', u'life', u'lifeguard', u'lift', u'light', u'lighter', u'lighthous', u'lightli', u'lightn', u'lightweight', u'like', u'lili', u'lilypad', u'limb', u'lime', u'limit', u'lincoln', u'line', u'linen', u'liner', u'lineup', u'linger', u'lingeri', u'lingu', u'link', u'linoleum', u'lion', u'lip', u'lipstick', u'liqueur', u'liquid', u'liquor', u'list', u'listen', u'lit', u'lite', u'liter', u'litl', u'litmu', u'litter', u'litterbox', u'littl', u'live', u'livestock', u'livin', u'livingroom', u'lizard', u'llittl', u'lloyd', u'lo', u'load', u'loaf', u'loan', u'loav', u'lobbi', u'lobster', u'local', u'locat', u'lock', u'locker', u'locomot', u'lodg', u'loft', u'log', u'logo', u'loin', u'loiter', u'loll', u'lolli', u'lollipop', u'lon', u'london', u'lone', u'long', u'longboard', u'longhorn', u'lonley', u'look', u'lookign', u'lookin', u'loom', u'loop', u'loos', u'loosen', u'lope', u'lorri', u'lose', u'lost', u'lot', u'lotion', u'loung', u'love', u'lover', u'loveseat', u'low', u'lower', u'lowercas', u'luca', u'lucki', u'ludicr', u'lufthansa', u'lugga', u'luggag', u'lugggag', u'luguag', u'luigi', u'luke', u'lumber', u'lump', u'lunch', u'lunchbox', u'luncheonett', u'lunchmeat', u'lunchtim', u'lung', u'lurch', u'lure', u'lush', u'lushli', u'luther', u'luxuri', u'lving', u'lyign', u'ma', u'mac', u'macaroni', u'macaw', u'macbook', u'mach', u'machet', u'machin', u'machineri', u'macintosh', u'mad', u'madison', u'madli', u'magalawa', u'magazin', u'magdalen', u'magenta', u'magnet', u'maid', u'mail', u'mailbox', u'main', u'mainli', u'maintain', u'mainten', u'majest', u'majolica', u'major', u'make', u'makeov', u'maker', u'makeshift', u'makeup', u'malaysia', u'malaysian', u'male', u'mall', u'mama', u'man', u'manag', u'manchest', u'mane', u'maneuv', u'mango', u'mani', u'manicur', u'manipul', u'mannequin', u'manner', u'mantel', u'manti', u'mantl', u'manual', u'manuev', u'manufactur', u'map', u'mapl', u'mar', u'marbl', u'march', u'marcp', u'margarita', u'margin', u'marilyn', u'marin', u'marina', u'marinara', u'mario', u'mark', u'marker', u'market', u'marketplac', u'marlboro', u'maroon', u'marri', u'marsh', u'marshi', u'martin', u'martini', u'masai', u'mascara', u'mascot', u'mash', u'mashpotato', u'mask', u'mason', u'masonri', u'mass', u'massachusett', u'massag', u'massiv', u'mast', u'master', u'mastercard', u'mat', u'matador', u'match', u'mate', u'materi', u'matress', u'matt', u'matter', u'mattress', u'matzah', u'mauv', u'mayb', u'mayo', u'mayonnais', u'maze', u'mcclaren', u'mcdonald', u'meadow', u'meal', u'mean', u'meander', u'measur', u'meat', u'meatbal', u'meatloaf', u'mechan', u'medal', u'medallion', u'media', u'median', u'medic', u'medicin', u'mediev', u'medit', u'medium', u'meet', u'mein', u'melon', u'melt', u'member', u'memorabilia', u'memori', u'men', u'ment', u'menu', u'merced', u'merchandis', u'merchant', u'merri', u'merrick', u'mesh', u'mess', u'messag', u'messeng', u'messi', u'messili', u'met', u'metal', u'meter', u'metermaid', u'metro', u'metropolitan', u'mexican', u'mgm', u'mi', u'mice', u'michigan', u'mickey', u'microphon', u'microscop', u'microsoft', u'microwav', u'mid', u'midair', u'middl', u'midsiz', u'midst', u'midtown', u'midwestern', u'mild', u'mile', u'mileag', u'militari', u'milk', u'milker', u'milki', u'milkshak', u'mimick', u'min', u'mini', u'miniatur', u'minibu', u'minim', u'minimalist', u'minion', u'minivan', u'minor', u'mint', u'minter', u'minut', u'miror', u'mirror', u'miscellan', u'mischiev', u'mise', u'mishap', u'mismatch', u'miss', u'misshapen', u'missil', u'mission', u'misti', u'mistleto', u'mit', u'mitchel', u'mitt', u'mix', u'mixer', u'mixtur', u'mlb', u'mm', u'mmm', u'mmmm', u'mmutl', u'mobel', u'mobil', u'mock', u'mode', u'model', u'modem', u'modern', u'modest', u'modif', u'modifi', u'mohawk', u'mold', u'mom', u'moment', u'momma', u'money', u'monitor', u'monkey', u'monochrom', u'monorail', u'monro', u'monsieur', u'monster', u'mont', u'montag', u'month', u'monument', u'moon', u'moor', u'moos', u'mop', u'mope', u'morgan', u'moritz', u'morn', u'morningsid', u'mosaic', u'mosqu', u'mosquito', u'moss', u'mossi', u'mostli', u'mote', u'motel', u'mother', u'motif', u'motion', u'motiv', u'moto', u'motocross', u'motocycl', u'motor', u'motorbik', u'motorboat', u'motorcycl', u'motorcyclist', u'motorcyl', u'motorcylc', u'motorhom', u'motorist', u'motorola', u'motrocycl', u'mottl', u'motto', u'mound', u'mount', u'mountain', u'mountainsid', u'mountaintop', u'mous', u'moustach', u'mouth', u'mouthwash', u'mouthwat', u'movabl', u'movement', u'movi', u'mow', u'mozzarella', u'mp3', u'mr', u'mri', u'mta', u'mud', u'muddi', u'muffin', u'mug', u'mule', u'mulholland', u'multi', u'multicolor', u'multilevel', u'multipl', u'multiscreen', u'multistori', u'multitask', u'multitud', u'mum', u'munch', u'municip', u'mural', u'murder', u'murki', u'muscl', u'muscular', u'museum', u'mush', u'mushroom', u'music', u'musician', u'mustach', u'mustang', u'mustard', u'mustic', u'mutant', u'muti', u'mutton', u'muzzl', u'mystic', u'mythic', u'nack', u'naha', u'nail', u'nake', u'nalbandyan', u'nametag', u'nano', u'nap', u'napkin', u'narrow', u'nasa', u'nascar', u'nashvil', u'nasti', u'nat', u'nathan', u'nation', u'nationwid', u'nativ', u'nattili', u'natur', u'naturalist', u'naval', u'navel', u'navi', u'navig', u'ne', u'neapolitan', u'near', u'nearbi', u'nearest', u'nearli', u'neat', u'neath', u'neatli', u'necess', u'necessari', u'neck', u'necklac', u'neckti', u'need', u'needl', u'neg', u'neglect', u'neighbor', u'neighborhood', u'neon', u'nerf', u'nervous', u'nest', u'nestl', u'net', u'neutral', u'nevada', u'new', u'newborn', u'newer', u'newestappli', u'newli', u'newport', u'news', u'newspap', u'nibbl', u'nic', u'nice', u'nicey', u'nick', u'night', u'nightim', u'nightitm', u'nightstand', u'nighttim', u'nilla', u'ninja', u'nintendo', u'nobodi', u'noch', u'noel', u'nois', u'nokia', u'non', u'noodl', u'nook', u'nordic', u'norfolk', u'normal', u'north', u'norway', u'nose', u'note', u'notebook', u'notepad', u'noth', u'notic', u'notif', u'novel', u'novelti', u'nowher', u'nozzl', u'ntop', u'nude', u'number', u'numer', u'numeri', u'nun', u'nunchuk', u'nurs', u'nurtur', u'nut', u'nutriti', u'nutti', u'nuzzl', u'ny', u'nypd', u'oak', u'oakland', u'oar', u'oark', u'oat', u'oath', u'oatmeal', u'obama', u'obelisk', u'obes', u'object', u'oblong', u'obscur', u'observ', u'observantli', u'observatori', u'obstacl', u'obvious', u'occas', u'occup', u'occupi', u'occur', u'ocean', u'oclock', u'octopu', u'octopus', u'odd', u'oddest', u'oddli', u'oeopl', u'oeurv', u'ofa', u'offer', u'offic', u'offica', u'offici', u'offload', u'offspr', u'og', u'oh', u'ohoto', u'ohu', u'oil', u'oin', u'ol', u'old', u'olden', u'older', u'oliv', u'olli', u'olymp', u'om', u'omelet', u'omelett', u'omin', u'ona', u'onc', u'oncom', u'oneself', u'onion', u'onli', u'onlin', u'onlook', u'onsi', u'onsid', u'onstag', u'onth', u'ontop', u'onward', u'oom', u'op', u'open', u'oper', u'opera', u'oppon', u'oppos', u'opposit', u'option', u'orang', u'orchard', u'orchid', u'order', u'orderli', u'ordinari', u'ordurb', u'organ', u'orgasm', u'orient', u'origami', u'ornament', u'ornat', u'os', u'oscilloscop', u'osprey', u'ostrich', u'ot', u'otherwis', u'otter', u'ottoman', u'oustid', u'outbuild', u'outcrop', u'outdat', u'outdoor', u'outer', u'outfield', u'outfit', u'outhous', u'outing', u'outlandish', u'outlet', u'outlin', u'outrun', u'outsid', u'outskirt', u'outstretch', u'outward', u'ov', u'oval', u'oven', u'overal', u'overcast', u'overflow', u'overgrown', u'overgrowth', u'overhang', u'overhead', u'overheard', u'overload', u'overlook', u'overn', u'overpass', u'overs', u'overse', u'overshadow', u'overstuf', u'overtaken', u'overthrown', u'overturn', u'overview', u'overweight', u'owl', u'owman', u'owner', u'ox', u'oxen', u'oxford', u'oxitu', u'oxygen', u'pa', u'paasang', u'pacif', u'pacifi', u'pack', u'packag', u'packet', u'pad', u'paddington', u'paddl', u'paddock', u'page', u'pagoda', u'paid', u'pail', u'paint', u'pair', u'paisley', u'paitn', u'pajama', u'palac', u'pale', u'palett', u'pall', u'palm', u'palomino', u'pamphlet', u'pan', u'pancak', u'panda', u'pane', u'panel', u'panera', u'panini', u'panoram', u'panorama', u'pant', u'panti', u'pantri', u'pantyhos', u'paoakalani', u'paper', u'paperback', u'paperwork', u'para', u'parachut', u'parad', u'paradis', u'paraglid', u'parakeet', u'parallel', u'paraphernalia', u'parasail', u'paraski', u'parasol', u'parasurf', u'parchment', u'parcial', u'pare', u'parent', u'pari', u'park', u'parka', u'parker', u'parkland', u'parklet', u'parliament', u'parlor', u'parmesan', u'parrot', u'parsley', u'partak', u'parti', u'partial', u'particip', u'particular', u'particularli', u'partit', u'partli', u'partner', u'paso', u'pass', u'passag', u'passageway', u'passang', u'passeng', u'passerbi', u'passion', u'passov', u'passport', u'past', u'pasta', u'pasteri', u'pasti', u'pastrami', u'pastri', u'pastur', u'pasturag', u'pat', u'patch', u'patchwork', u'pate', u'path', u'pathway', u'patient', u'patina', u'patio', u'patrion', u'patriot', u'patrol', u'patron', u'patten', u'patter', u'pattern', u'patti', u'paul', u'paus', u'pave', u'pavement', u'paver', u'pavilion', u'pavillion', u'paw', u'pawn', u'pay', u'pc', u'pe', u'pea', u'peac', u'peach', u'peacock', u'peak', u'peal', u'peanut', u'pear', u'pearl', u'pebbl', u'pecan', u'peck', u'pecker', u'pedal', u'peddler', u'pedest', u'pedestrian', u'pee', u'peek', u'peel', u'peeler', u'peep', u'peepe', u'peer', u'peerson', u'pegboard', u'peic', u'pelican', u'pellegrino', u'pellet', u'pembrok', u'pen', u'penalti', u'pencil', u'pendant', u'penguin', u'peni', u'penn', u'penni', u'pensiv', u'peol', u'peoopl', u'peopel', u'peopl', u'peperoni', u'pepol', u'peppeoni', u'pepper', u'pepperoni', u'pepsi', u'perch', u'perfect', u'perfectli', u'perferm', u'perform', u'perhap', u'period', u'peripher', u'peripheri', u'peropl', u'perpendicular', u'perplex', u'persian', u'person', u'persona', u'personifi', u'personnel', u'personnelfrom', u'perspect', u'perus', u'pesto', u'pet', u'petal', u'peter', u'pew', u'pf', u'pharmaci', u'phase', u'philadelphia', u'philli', u'phiss', u'pho', u'phone', u'photo', u'photograph', u'photographi', u'photograpoh', u'photoshop', u'phrase', u'physic', u'piano', u'pic', u'pick', u'pickl', u'pickup', u'picnic', u'pictcher', u'pictur', u'picturesqu', u'pidgeon', u'pie', u'piec', u'piecc', u'pier', u'pierc', u'pig', u'pigeon', u'piggi', u'pigtail', u'pikachu', u'pike', u'pile', u'piler', u'pilgrim', u'pill', u'pillar', u'pillow', u'pilot', u'pimp', u'pin', u'pine', u'pineappl', u'pink', u'pinstrip', u'pint', u'pinto', u'pinwheel', u'pipe', u'pirat', u'piss', u'pistol', u'pit', u'pita', u'pitbul', u'pitch', u'pitcher', u'piti', u'pizza', u'pizzeria', u'pl', u'placard', u'place', u'placemat', u'placid', u'placidli', u'plad', u'plae', u'plag', u'plaid', u'plain', u'plaint', u'plan', u'plane', u'plank', u'planner', u'plant', u'plantain', u'planter', u'plaqu', u'plare', u'plart', u'plaster', u'plastic', u'plat', u'plate', u'plateau', u'plateform', u'platform', u'platter', u'play', u'player', u'playground', u'playng', u'playpen', u'playstat', u'plaza', u'pleas', u'pleasant', u'pleather', u'plenti', u'plethora', u'pli', u'plier', u'plod', u'plot', u'plow', u'plowig', u'plu', u'plug', u'plum', u'plumb', u'plume', u'plump', u'plunger', u'plush', u'plushi', u'plywood', u'pm', u'pnk', u'po', u'pocket', u'pod', u'podem', u'podium', u'poepl', u'point', u'pointi', u'pois', u'poke', u'pokemon', u'polar', u'polaroid', u'pole', u'polic', u'policeman', u'policemen', u'polish', u'polit', u'politician', u'polka', u'poll', u'polo', u'polor', u'polythen', u'pomegran', u'pond', u'poni', u'pontoon', u'ponytail', u'poodl', u'pooh', u'pool', u'poolsid', u'poop', u'poor', u'poorli', u'pop', u'popcorn', u'poppi', u'popsicl', u'popul', u'popular', u'porcelain', u'porcelin', u'porch', u'pore', u'pork', u'porkchop', u'pornographi', u'porridg', u'port', u'porta', u'portabl', u'portion', u'portola', u'portrait', u'portugues', u'pose', u'posh', u'posit', u'possess', u'possibl', u'post', u'postal', u'poster', u'postur', u'pot', u'potato', u'potter', u'potteri', u'potti', u'pouch', u'poultri', u'pound', u'pour', u'powder', u'power', u'powerboat', u'practic', u'prairi', u'pranc', u'prari', u'pray', u'pre', u'preced', u'precis', u'predat', u'predatori', u'preen', u'preform', u'pregnant', u'preiss', u'prep', u'prepair', u'prepar', u'prescript', u'present', u'preserv', u'presid', u'press', u'pressur', u'pretend', u'pretti', u'pretzel', u'prey', u'price', u'priest', u'priestli', u'primarili', u'prime', u'princ', u'princess', u'pringl', u'print', u'printer', u'prison', u'pristin', u'privaci', u'privat', u'prize', u'pro', u'probabl', u'probe', u'problem', u'proceed', u'process', u'procession', u'processor', u'produc', u'product', u'profess', u'profession', u'profil', u'program', u'progress', u'prohibit', u'prohibitori', u'prohject', u'project', u'projector', u'promin', u'promot', u'prop', u'propel', u'propellor', u'proper', u'properti', u'propperli', u'protect', u'protector', u'protest', u'protrud', u'proudli', u'prove', u'provid', u'prowl', u'proxim', u'pru13', u'pub', u'public', u'pucker', u'pud', u'puddl', u'puffi', u'pug', u'pull', u'pulley', u'pullout', u'puls', u'puma', u'pump', u'pumpkin', u'pun', u'punch', u'punk', u'pup', u'puppeh', u'puppi', u'purchas', u'pure', u'purpl', u'purpos', u'purs', u'pursu', u'push', u'pushkin', u'pyramid', u'pyrex', u'qr', u'quaint', u'quarteer', u'quarter', u'queen', u'queensland', u'quesadilla', u'question', u'quich', u'quick', u'quickli', u'quiet', u'quietli', u'quilt', u'quit', u'quot', u'raacket', u'rabbit', u'raccoon', u'race', u'racecar', u'racer', u'racetrack', u'rack', u'racket', u'racoon', u'racquet', u'radiat', u'radio', u'radish', u'raffia', u'raft', u'rafter', u'rag', u'rage', u'raid', u'rail', u'railjet', u'railroad', u'railway', u'rain', u'rainbow', u'raincoat', u'raini', u'rainier', u'rainstorm', u'rainwat', u'rais', u'raisin', u'rale', u'ralli', u'ram', u'rambuncti', u'ramen', u'ramp', u'ranch', u'rancher', u'random', u'rang', u'rap', u'rapid', u'rapidli', u'rapper', u'raquet', u'rare', u'raspberri', u'rat', u'ratchet', u'raw', u'rawhid', u'ray', u'razor', u'rd', u'reach', u'react', u'read', u'readi', u'real', u'realiti', u'realli', u'rear', u'rearview', u'reb', u'rebutton', u'rec', u'recal', u'receipt', u'receiv', u'recent', u'recept', u'receptacl', u'receptionist', u'recip', u'recket', u'reclin', u'recogniz', u'reconstruct', u'record', u'recov', u'recoveri', u'recovey', u'recreat', u'rectangl', u'rectangular', u'recycl', u'red', u'reddish', u'redecor', u'redhead', u'redibrown', u'redroom', u'reduc', u'reed', u'reenactor', u'refer', u'refere', u'refg', u'refil', u'reflect', u'reflector', u'refresh', u'refridger', u'refriger', u'refurbish', u'regard', u'region', u'regular', u'reign', u'rein', u'reject', u'rel', u'rela', u'relat', u'relax', u'releas', u'relic', u'relief', u'reliev', u'religi', u'relish', u'remain', u'remnant', u'remodel', u'remodl', u'remold', u'remot', u'remov', u'renaiss', u'render', u'renov', u'rent', u'rental', u'repair', u'replac', u'replica', u'report', u'repres', u'requir', u'rescu', u'resembl', u'resid', u'residenti', u'residu', u'resort', u'respect', u'respond', u'rest', u'restaraunt', u'restaur', u'restaurannt', u'restor', u'restrauant', u'restroom', u'restuar', u'restur', u'result', u'retail', u'retriev', u'retro', u'retrofit', u'return', u'reuben', u'reveal', u'revers', u'review', u'revolutionari', u'revolv', u'rhino', u'rhinocero', u'rib', u'ribbon', u'rice', u'richmond', u'ricketi', u'rid', u'ridden', u'ride', u'rider', u'ridg', u'ridicul', u'ridid', u'rig', u'right', u'riksha', u'rim', u'rind', u'ring', u'rink', u'rins', u'riot', u'rip', u'ripe', u'ripen', u'rippavilla', u'rippl', u'rise', u'risen', u'rive', u'river', u'riverbank', u'riversid', u'rmap', u'road', u'roadsid', u'roadsign', u'roadster', u'roadway', u'roadwork', u'roam', u'roar', u'roast', u'roaster', u'rob', u'robbin', u'robe', u'robin', u'robot', u'rock', u'rockaway', u'rocket', u'rocki', u'rod', u'rode', u'rodent', u'rodeo', u'roger', u'roja', u'role', u'roll', u'roller', u'rollerblad', u'rom', u'roman', u'romanseco', u'romant', u'rome', u'romp', u'roof', u'rooftop', u'room', u'rooom', u'rooster', u'root', u'rope', u'rose', u'roseburg', u'rosemari', u'rosi', u'rot', u'rotat', u'rotten', u'rotweil', u'rough', u'roughli', u'round', u'roundabout', u'rout', u'router', u'row', u'rowboat', u'rower', u'rox', u'royal', u'rred', u'rub', u'rubber', u'rubbish', u'rucksack', u'rue', u'ruffl', u'rug', u'rugbi', u'ruin', u'rule', u'ruler', u'rum', u'rump', u'rumpl', u'run', u'runaway', u'rundown', u'rung', u'runner', u'runni', u'runway', u'rural', u'rush', u'rust', u'rusti', u'rustic', u'rustl', u'rut', u'rv', u'sack', u'sad', u'saddl', u'saddlebag', u'sadli', u'safari', u'safe', u'safeti', u'said', u'sail', u'sailboard', u'sailboat', u'sailer', u'sailor', u'saint', u'sakt', u'salad', u'salami', u'sale', u'salmon', u'salomi', u'salon', u'salt', u'saltin', u'salut', u'salvag', u'sam', u'sampl', u'san', u'sanction', u'sanctuari', u'sand', u'sandal', u'sandbox', u'sandi', u'sandich', u'sandiwch', u'sandl', u'sandwhich', u'sandwich', u'sandwish', u'sanitari', u'santa', u'santuari', u'sarcast', u'sari', u'sash', u'sassoon', u'sat', u'satchel', u'satellit', u'satin', u'satisfi', u'satur', u'sauc', u'saucepan', u'saucer', u'saudi', u'sauerkraut', u'sauna', u'sausag', u'saut', u'saute', u'savanna', u'savannah', u'save', u'saw', u'say', u'scaffold', u'scale', u'scallion', u'scape', u'scare', u'scarf', u'scari', u'scarv', u'scatter', u'scear', u'scene', u'sceneri', u'scenic', u'schedul', u'scheme', u'school', u'schoolbu', u'schwarz', u'scibbl', u'scisor', u'scissor', u'sconc', u'scone', u'scoop', u'scooper', u'scooter', u'score', u'scoreboard', u'scott', u'scout', u'scowl', u'scrambl', u'scrap', u'scrapbook', u'scrapper', u'scratch', u'screen', u'scribbl', u'scroll', u'scrub', u'scrubbi', u'scrubland', u'scruffi', u'scrunch', u'scull', u'sculptur', u'scultur', u'sdot', u'sea', u'seafood', u'seagul', u'seahors', u'seal', u'seamen', u'seaplan', u'seaport', u'sear', u'search', u'seasid', u'season', u'seat', u'seatbelt', u'seater', u'seattl', u'seawe', u'seclud', u'seclus', u'second', u'section', u'secur', u'sedan', u'seder', u'seduct', u'seed', u'seeley', u'seemingli', u'seen', u'seer', u'segment', u'segul', u'seiko', u'select', u'self', u'selfi', u'sell', u'seller', u'semi', u'seminar', u'send', u'senior', u'sens', u'sensor', u'separ', u'seper', u'sepia', u'sequenc', u'seren', u'seri', u'seriou', u'serrat', u'serv', u'server', u'servic', u'sesam', u'session', u'set', u'setup', u'seven', u'seventi', u'sever', u'sevofluran', u'sew', u'sewag', u'sewer', u'sex', u'sexi', u'sgn', u'shabbi', u'shack', u'shade', u'shadi', u'shadow', u'shaft', u'shag', u'shaggi', u'shake', u'shallow', u'shampoo', u'shamrock', u'shanghai', u'shap', u'shape', u'share', u'shark', u'sharp', u'sharpi', u'sharpli', u'shave', u'shawl', u'shear', u'shed', u'sheep', u'sheepdog', u'sheer', u'sheet', u'shelf', u'shell', u'shelter', u'shelti', u'shelv', u'shepard', u'shepherd', u'sherd', u'sheriff', u'shi', u'shield', u'shiloh', u'shin', u'shine', u'shini', u'ship', u'shipment', u'shiraz', u'shirt', u'shirtless', u'shishkabob', u'shit', u'sho', u'shock', u'shoe', u'shoelac', u'shoot', u'shop', u'shopper', u'shore', u'shorebird', u'shorelin', u'shorn', u'short', u'shorten', u'shot', u'shoulder', u'shouldn', u'shout', u'shovel', u'showcas', u'shower', u'shown', u'showroom', u'shred', u'shrimp', u'shroud', u'shrub', u'shrubberi', u'shudder', u'shut', u'shutter', u'shuttl', u'si', u'siames', u'sick', u'sickli', u'sidecar', u'sidelin', u'sidewalk', u'sideway', u'sidwalk', u'sig', u'sigh', u'sight', u'sightse', u'sigm', u'sign', u'signag', u'signal', u'signatur', u'signifi', u'signific', u'signpost', u'siit', u'silhouet', u'silhouett', u'silk', u'sill', u'silli', u'silver', u'silverwar', u'sime', u'similar', u'similarli', u'simmer', u'simpl', u'simplebedroom', u'simplist', u'simul', u'simultan', u'sin', u'sinc', u'sing', u'singapor', u'singin', u'singl', u'sinist', u'sink', u'sip', u'sippi', u'sister', u'sit', u'site', u'siti', u'sititng', u'sitt', u'sittig', u'sittin', u'situat', u'size', u'skaeboard', u'skate', u'skateboaard', u'skateboard', u'skatepark', u'skater', u'skaterboad', u'skaterboard', u'skee', u'skeleton', u'skewer', u'ski', u'skie', u'skier', u'skii', u'skiier', u'skill', u'skillet', u'skim', u'skin', u'sking', u'skinni', u'skirt', u'skit', u'skull', u'skullcap', u'sky', u'skylight', u'skylin', u'skyscrap', u'slab', u'slalom', u'slam', u'slant', u'slat', u'slate', u'slaw', u'sled', u'sledg', u'sleek', u'sleep', u'sleeper', u'sleepi', u'sleepili', u'sleev', u'sleeveless', u'sleigh', u'slender', u'sleve', u'sli', u'slice', u'slicer', u'slick', u'slid', u'slide', u'slight', u'slightli', u'slim', u'sling', u'slipper', u'sliver', u'sloe', u'slop', u'slope', u'slopl', u'slot', u'slouch', u'slow', u'slowli', u'slug', u'slum', u'slump', u'slung', u'slushi', u'slyli', u'smal', u'small', u'smaller', u'smallest', u'smart', u'smartest', u'smartphon', u'smash', u'smear', u'smell', u'smile', u'smiley', u'smirk', u'smith', u'smoggi', u'smoke', u'smoki', u'smooch', u'smooth', u'smoothi', u'smother', u'snack', u'snail', u'snap', u'snapshot', u'snarl', u'snatch', u'sneak', u'sneaker', u'snif', u'sniff', u'snoop', u'snoot', u'snooz', u'snout', u'snow', u'snowboad', u'snowboard', u'snowcap', u'snowi', u'snowmobil', u'snowplow', u'snowsho', u'snowstor', u'snowstorm', u'snowsuit', u'snowwi', u'snuggl', u'snugli', u'soak', u'soap', u'soar', u'sob', u'soccer', u'soccerbal', u'soccor', u'social', u'sock', u'socket', u'soda', u'sofa', u'soft', u'softbal', u'soften', u'soil', u'solar', u'sold', u'solder', u'soldier', u'solemn', u'solo', u'somebodi', u'someon', u'somersault', u'someth', u'somewhat', u'somewher', u'son', u'sone', u'song', u'songbird', u'soni', u'soon', u'sophist', u'sore', u'soriano', u'sorri', u'sort', u'souffl', u'sound', u'soundli', u'soup', u'soupi', u'sour', u'sourc', u'south', u'southern', u'southwest', u'southwestern', u'sox', u'space', u'spacial', u'spaciou', u'spaghetti', u'spam', u'span', u'spaniel', u'spanish', u'sparkl', u'sparrow', u'spars', u'spatula', u'speak', u'speaker', u'spear', u'speci', u'special', u'specialti', u'speckl', u'spectat', u'speech', u'speed', u'speedboat', u'speghetti', u'spell', u'spencer', u'spend', u'spew', u'spheric', u'spice', u'spici', u'spigot', u'spike', u'spiki', u'spill', u'spin', u'spinach', u'spiral', u'spire', u'spirit', u'spit', u'splash', u'splatter', u'splay', u'splice', u'splinteri', u'split', u'spoke', u'sponsor', u'spoon', u'sport', u'sporti', u'sportsmanship', u'spot', u'spotless', u'spout', u'sprawl', u'spray', u'sprayer', u'spraypaint', u'spread', u'sprig', u'spring', u'sprink', u'sprinkl', u'sprinkler', u'sprint', u'sprout', u'squadron', u'squar', u'squash', u'squat', u'squater', u'squeez', u'squirrel', u'sreen', u'st', u'stab', u'stabl', u'stabuck', u'stack', u'stacker', u'stadium', u'staff', u'stage', u'stain', u'stainless', u'stair', u'staircas', u'stairway', u'stairwel', u'stale', u'stalk', u'stall', u'stanc', u'stand', u'standalon', u'standard', u'standingg', u'standng', u'standup', u'stane', u'star', u'starbuck', u'starch', u'stare', u'stark', u'start', u'state', u'station', u'stationari', u'statu', u'statuesqu', u'statuett', u'stay', u'steak', u'steal', u'steam', u'steami', u'steel', u'steep', u'steepl', u'steer', u'steet', u'stella', u'stem', u'stemwar', u'step', u'stepl', u'stepper', u'stereo', u'stern', u'stet', u'stew', u'stewart', u'stick', u'sticker', u'sticki', u'stigma', u'stilt', u'stir', u'stock', u'stockpil', u'stoic', u'stole', u'stomach', u'stone', u'stood', u'stool', u'stoop', u'stop', u'stope', u'stoplight', u'storag', u'store', u'storefront', u'stori', u'stork', u'storm', u'stormi', u'stormtroop', u'stott', u'stove', u'stovetop', u'stow', u'str', u'strack', u'straddl', u'strafz', u'straight', u'straighten', u'strain', u'strainer', u'strand', u'strang', u'strap', u'straw', u'strawberri', u'stray', u'streak', u'stream', u'streamer', u'streamlin', u'street', u'streetcar', u'streetin', u'streetlight', u'strenuou', u'stretch', u'strewn', u'stride', u'strike', u'string', u'strip', u'stripe', u'stroke', u'stroll', u'stroller', u'strom', u'strong', u'struck', u'structur', u'struggl', u'strung', u'stsnding', u'sttatu', u'stting', u'stuck', u'stud', u'student', u'studi', u'studio', u'stuf', u'stuff', u'stump', u'stun', u'stunt', u'stupid', u'sturdi', u'style', u'stylish', u'styliz', u'styrofoam', u'sub', u'subaru', u'subaway', u'subject', u'submarin', u'submerg', u'substanc', u'subtitl', u'subtli', u'suburb', u'suburban', u'suburbia', u'subway', u'succul', u'suck', u'sucker', u'suckingl', u'suckl', u'suess', u'suffer', u'sugar', u'sugari', u'suggest', u'suicid', u'suiit', u'suit', u'suitcas', u'suitecas', u'sum', u'summer', u'summit', u'sumo', u'sun', u'sunbath', u'sunbeam', u'sunburn', u'sunda', u'sundown', u'sundri', u'sunflow', u'sunglass', u'sunhat', u'sunken', u'sunlight', u'sunlit', u'sunni', u'sunset', u'sunshad', u'sunshin', u'super', u'superhero', u'superimpos', u'supermarket', u'suppli', u'support', u'sur', u'surboard', u'sure', u'surf', u'surfac', u'surfboard', u'surfer', u'surgic', u'surmount', u'surpris', u'surreal', u'surround', u'surrounds', u'surveil', u'surver', u'survey', u'surviv', u'sushi', u'suspend', u'suspens', u'suspici', u'suv', u'suzuki', u'sw', u'swallow', u'swamp', u'swamphen', u'swampi', u'swan', u'swarvoski', u'swat', u'swatter', u'sweat', u'sweater', u'sweatshirt', u'sweep', u'sweeper', u'sweet', u'swell', u'swept', u'swift', u'swiftli', u'swign', u'swim', u'swimmer', u'swimsuit', u'swing', u'swipe', u'swirl', u'swirli', u'swish', u'swiss', u'switch', u'swivel', u'swoop', u'sword', u'swowbaord', u'swung', u'sydney', u'symbol', u'syrup', u'tabbi', u'tabl', u'tablecloth', u'tablet', u'tabletop', u'tablw', u'tack', u'tackl', u'taco', u'tag', u'taht', u'tail', u'tailgat', u'taken', u'takeoff', u'takeout', u'taker', u'talb', u'tale', u'talent', u'talk', u'talki', u'tall', u'taller', u'tan', u'tandem', u'tanger', u'tangerin', u'tangl', u'tank', u'tanker', u'tankini', u'tap', u'tape', u'tapestri', u'tar', u'target', u'tarmac', u'tarp', u'tasbl', u'tast', u'tasti', u'tatami', u'tatoo', u'tattoo', u'taxi', u'te', u'tea', u'teach', u'teacher', u'teal', u'team', u'teammat', u'tear', u'teat', u'tech', u'technician', u'techniqu', u'technolog', u'teddi', u'teddybear', u'tee', u'teen', u'teenag', u'teeter', u'teeth', u'teh', u'telegraph', u'telelvis', u'telemark', u'telephon', u'telescop', u'televis', u'telivis', u'tell', u'temperatur', u'templ', u'temporari', u'tempt', u'temptress', u'tend', u'tenderli', u'tenn', u'tenni', u'tension', u'tent', u'tequila', u'termin', u'terrac', u'terrain', u'terrarium', u'terrestri', u'terribl', u'terrier', u'territori', u'test', u'tether', u'text', u'textbook', u'textur', u'tge', u'th', u'tha', u'thame', u'thank', u'thanksgiv', u'thecement', u'thee', u'theme', u'themselv', u'theori', u'ther', u'therebi', u'thermo', u'thermomet', u'thi', u'thi8', u'thicket', u'thickli', u'thie', u'thier', u'thigh', u'thing', u'think', u'thirti', u'thirtieth', u'thoma', u'thought', u'thr', u'thre', u'threw', u'throw', u'thrower', u'thrown', u'thruway', u'thse', u'thumb', u'thumbnail', u'ti', u'tiara', u'tibetan', u'tick', u'ticket', u'tidal', u'tiday', u'tide', u'tidi', u'tie', u'tier', u'tiger', u'tight', u'tighti', u'tightli', u'tile', u'tilt', u'time', u'tin', u'tinfoil', u'tini', u'tinker', u'tint', u'tiolet', u'tip', u'tire', u'tissu', u'tit', u'titan', u'titl', u'toa', u'toast', u'toaster', u'tobacco', u'today', u'toddler', u'toe', u'tofu', u'togeht', u'togeth', u'togethr', u'toiler', u'toilet', u'toiletri', u'toilett', u'tole', u'tolet', u'toliet', u'toll', u'tolley', u'tomato', u'tomot', u'ton', u'tone', u'tong', u'tongu', u'tonic', u'tonight', u'took', u'tool', u'toolsh', u'tootbrush', u'tooth', u'toothbrush', u'toothi', u'toothpast', u'toothpick', u'toowoomba', u'topic', u'topless', u'topper', u'torch', u'tore', u'torn', u'torrent', u'torso', u'tortilla', u'tortois', u'toss', u'tot', u'total', u'tote', u'touch', u'tough', u'tour', u'tourbu', u'tourer', u'tourist', u'tournament', u'tow', u'towel', u'tower', u'towl', u'town', u'townhous', u'toy', u'tra', u'track', u'tracker', u'tractor', u'trade', u'tradit', u'traffic', u'trail', u'trailer', u'train', u'trainer', u'tram', u'trampl', u'trampolin', u'transit', u'translat', u'transmit', u'transpar', u'transport', u'trap', u'trash', u'trashcan', u'travel', u'travers', u'traverse', u'travi', u'tray', u'treadmil', u'treat', u'tree', u'treed', u'treelin', u'treetop', u'trek', u'trelli', u'trench', u'trenchcoat', u'trespass', u'tress', u'trestl', u'trey', u'tri', u'trial', u'triangular', u'tribut', u'trick', u'tricki', u'tricolor', u'tricycl', u'trike', u'trim', u'trindl', u'trinket', u'trio', u'trip', u'tripl', u'tripod', u'triumph', u'trod', u'trolley', u'trolli', u'trooper', u'trophi', u'tropic', u'trot', u'trough', u'trowel', u'truck', u'trucker', u'trudg', u'true', u'truli', u'trumpet', u'trundl', u'trunk', u'truss', u'ts', u'tsa', u'tshirt', u'tub', u'tube', u'tuck', u'tue', u'tug', u'tugboat', u'tuktuk', u'tulip', u'tumbl', u'tuna', u'tune', u'tunnel', u'tupperwar', u'turbin', u'turbul', u'turf', u'turkey', u'turn', u'turnip', u'turntabl', u'turquois', u'turret', u'turtl', u'tusk', u'tussl', u'tux', u'tuxedo', u'tv', u'tview', u'twelv', u'twenti', u'twig', u'twilight', u'twin', u'twirl', u'twist', u'twisti', u'twp', u'tye', u'tyke', u'tyler', u'tyne', u'tyneal', u'type', u'typic', u'udder', u'ugli', u'uk', u'ultim', u'ulyss', u'umbella', u'umbralla', u'umbrealla', u'umbrella', u'ump', u'umpir', u'unabl', u'unattach', u'unattend', u'unattract', u'unawar', u'unbak', u'unbutton', u'unclear', u'uncook', u'uncov', u'uncut', u'undecor', u'underbelli', u'underbrush', u'undergo', u'underground', u'underneath', u'underpass', u'undersid', u'underwat', u'underwear', u'undon', u'undress', u'uneaten', u'uneven', u'unfinish', u'unfold', u'unfurnish', u'unhappi', u'unhealthi', u'unicorn', u'unidentifi', u'uniform', u'unimped', u'uninvit', u'union', u'uniqu', u'unison', u'unit', u'univers', u'unkempt', u'unknown', u'unload', u'unmad', u'unman', u'unmark', u'unmatch', u'unmow', u'unmown', u'unoccupi', u'unopen', u'unpack', u'unpav', u'unpeel', u'unplug', u'unrecogniz', u'unrip', u'unripen', u'unsmil', u'unsur', u'unti', u'unto', u'untouch', u'unus', u'unusu', u'unwelcom', u'unwrap', u'unzip', u'upclos', u'upcom', u'updat', u'upend', u'upheld', u'uphil', u'upholst', u'upper', u'upright', u'upscal', u'upset', u'upsid', u'upstair', u'upturn', u'upward', u'urban', u'urg', u'urin', u'urn', u'usa', u'usabl', u'usb', u'use', u'user', u'usin', u'utensil', u'util', u'utter', u'vacant', u'vacat', u'vace', u'vacuum', u'vader', u'valentin', u'valley', u'valv', u'vampir', u'van', u'vandal', u'vane', u'vanilla', u'vaniti', u'vapor', u'vari', u'variat', u'varieti', u'variou', u'various', u'varnish', u'vase', u'vast', u'vat', u'vcr', u'vega', u'vegan', u'veget', u'vegetarian', u'veggi', u'vehement', u'vehicl', u'veil', u'vein', u'veldt', u'velvet', u'vend', u'vender', u'vendor', u'vent', u'venu', u'ver', u'verg', u'veri', u'version', u'vertic', u'vespa', u'vessel', u'vest', u'veteran', u'vibranc', u'vicin', u'viciou', u'victori', u'victoria', u'victorian', u'vidal', u'video', u'videogam', u'vietnames', u'view', u'viewabl', u'viewer', u'vigor', u'villag', u'vine', u'vineyard', u'vintag', u'violet', u'violin', u'virgin', u'virginia', u'visibl', u'visit', u'visitor', u'visor', u'vista', u'visual', u'vitamin', u'vivid', u'vliet', u'volkswagen', u'volley', u'volunt', u'vultur', u'vw', u'wa', u'wade', u'wader', u'waer', u'wafer', u'waffl', u'wag', u'wagon', u'waist', u'wait', u'waiter', u'waitress', u'wake', u'wakeboard', u'wale', u'walk', u'walker', u'walki', u'walkig', u'walkinf', u'walkingfern', u'walkl', u'walkway', u'wall', u'walla', u'wallet', u'wallow', u'wallpap', u'walmart', u'walnut', u'walsk', u'wand', u'wander', u'want', u'war', u'ware', u'warehous', u'warili', u'warm', u'warmer', u'warmli', u'warn', u'warp', u'warrior', u'wart', u'warthog', u'wash', u'washer', u'washington', u'washroom', u'wast', u'watch', u'watcher', u'water', u'waterboard', u'waterfal', u'waterfront', u'watergun', u'wateri', u'waterloo', u'watermelon', u'watersk', u'waterski', u'watersurf', u'waterway', u'watrer', u'wave', u'waveless', u'wavi', u'wawtch', u'wax', u'way', u'weapon', u'wear', u'weather', u'weathervan', u'web', u'webcam', u'websit', u'wed', u'wedg', u'wee', u'weed', u'weedi', u'week', u'weigh', u'weight', u'weiner', u'weird', u'weirdli', u'went', u'western', u'westminst', u'wet', u'wetsuit', u'wharf', u'whatev', u'wheat', u'wheel', u'wheelbarrow', u'wheelchair', u'wheeler', u'wheeli', u'whi', u'whiil', u'whine', u'whip', u'whipcream', u'whippet', u'whirlpool', u'whisker', u'whiskey', u'whit', u'white', u'whitecap', u'whiter', u'whiti', u'whizz', u'whle', u'whoa', u'wicker', u'wide', u'widow', u'width', u'wiener', u'wierd', u'wife', u'wiffl', u'wih', u'wii', u'wiimot', u'wiiremot', u'wild', u'wildebeest', u'wilder', u'wildflow', u'wildlif', u'wilson', u'wilt', u'win', u'wind', u'windblown', u'windham', u'windi', u'windmil', u'window', u'windowsil', u'windsail', u'windshield', u'windsor', u'windsurf', u'wine', u'wineglass', u'wineri', u'wing', u'winger', u'winni', u'winow', u'winter', u'winteri', u'wipe', u'wire', u'wireless', u'wisconsin', u'wise', u'wish', u'wispi', u'wit', u'witb', u'witha', u'witj', u'wizard', u'wnjoy', u'wok', u'woke', u'wolf', u'woma', u'woman', u'womanish', u'women', u'womn', u'womqn', u'won', u'wonder', u'wondrou', u'wood', u'wooden', u'woodenchair', u'woodi', u'woodland', u'woodpeck', u'wool', u'woolen', u'wooli', u'woolli', u'word', u'work', u'workbench', u'worker', u'workman', u'workout', u'workroom', u'workshop', u'workspac', u'workstat', u'world', u'worldli', u'worn', u'worri', u'wors', u'worth', u'worthi', u'woung', u'woven', u'wrap', u'wrape', u'wrapper', u'wreath', u'wreck', u'wrench', u'wrest', u'wrestl', u'wrestler', u'wright', u'wrinkl', u'wristband', u'writ', u'write', u'written', u'wrong', u'wrought', u'wth', u'wti', u'wwf', u'wwii', u'yacht', u'yak', u'yam', u'yanke', u'yard', u'yarn', u'yawn', u'yb', u'year', u'yearbook', u'yell', u'yello', u'yellow', u'yishun', u'yo', u'yoghurt', u'yogurt', u'yong', u'york', u'yorki', u'young', u'younger', u'youngest', u'youngster', u'youth', u'youtub', u'yucki', u'yummi', u'zebra', u'zebroid', u'zeebra', u'zeit', u'zeppelin', u'zero', u'zeut', u'zieber', u'zip', u'ziploc', u'zipper', u'zombe', u'zombi', u'zone', u'zoo', u'zookeep', u'zoom', u'zucchini']\n"
     ]
    }
   ],
   "source": [
    "#print tfIDFObj.get_feature_names()"
   ]
  },
  {
   "cell_type": "code",
   "execution_count": 27,
   "metadata": {
    "collapsed": false
   },
   "outputs": [
    {
     "name": "stdout",
     "output_type": "stream",
     "text": [
      "(50194, 6344)\n"
     ]
    }
   ],
   "source": [
    "#print descTFIDF.toarray().shape #toarray() converts this to a np array"
   ]
  },
  {
   "cell_type": "code",
   "execution_count": 26,
   "metadata": {
    "collapsed": false
   },
   "outputs": [
    {
     "name": "stdout",
     "output_type": "stream",
     "text": [
      "start\n"
     ]
    }
   ],
   "source": [
    "print \"start\""
   ]
  },
  {
   "cell_type": "code",
   "execution_count": 28,
   "metadata": {
    "collapsed": true
   },
   "outputs": [],
   "source": [
    "# descTFIDFArray = descTFIDF.toarray()\n",
    "# zeroColsIdx = np.where(~descTFIDFArray.any(axis=1))[0] #list of columns indices in descTFIDFArray that include all 0s."
   ]
  },
  {
   "cell_type": "code",
   "execution_count": 58,
   "metadata": {
    "collapsed": true
   },
   "outputs": [],
   "source": [
    "def reduceDimensions(x,ncomp):\n",
    "    #ncomp = number of components\n",
    "    pca = PCA(ncomp)\n",
    "    pca.fit(x)\n",
    "    newX = pca.transform(x)\n",
    "    return newX"
   ]
  },
  {
   "cell_type": "code",
   "execution_count": null,
   "metadata": {
    "collapsed": false,
    "scrolled": true
   },
   "outputs": [],
   "source": [
    "descPCAArray= reduceDimensions(descTFIDFArray,500) #PCA rray"
   ]
  },
  {
   "cell_type": "code",
   "execution_count": null,
   "metadata": {
    "collapsed": false
   },
   "outputs": [],
   "source": [
    "print descPCAArray.shape,descTFIDFArray.shape"
   ]
  },
  {
   "cell_type": "markdown",
   "metadata": {},
   "source": [
    "## Classifiers"
   ]
  },
  {
   "cell_type": "code",
   "execution_count": 60,
   "metadata": {
    "collapsed": true
   },
   "outputs": [],
   "source": [
    "def SVM(train,trainLabel,test):\n",
    "#     clf = SVC()\n",
    "#     clf.fit(train,trainLabel)\n",
    "#     preds = clf.predict(test)\n",
    "    preds = OneVsRestClassifier(LinearSVC(random_state=0)).fit(train, trainLabel).predict(test)\n",
    "    return preds"
   ]
  },
  {
   "cell_type": "code",
   "execution_count": 110,
   "metadata": {
    "collapsed": true
   },
   "outputs": [],
   "source": [
    "def logRegression(train,trainLabel,test,cVal=None):\n",
    "    preds = OneVsRestClassifier(LogisticRegression(C=cVal,penalty=\"l1\")).fit(train, trainLabel).predict(test)\n",
    "    return preds"
   ]
  },
  {
   "cell_type": "code",
   "execution_count": 97,
   "metadata": {
    "collapsed": true
   },
   "outputs": [],
   "source": [
    "def randomForest(train,trainLabel,test):\n",
    "    preds = OneVsRestClassifier(RandomForestClassifier()).fit(train, trainLabel).predict(test)\n",
    "    return preds"
   ]
  },
  {
   "cell_type": "code",
   "execution_count": 107,
   "metadata": {
    "collapsed": true
   },
   "outputs": [],
   "source": [
    "def naiveBayes(train,trainLabel,test):\n",
    "    preds = OneVsRestClassifier(BernoulliNB()).fit(train, trainLabel).predict(test)\n",
    "    return preds"
   ]
  },
  {
   "cell_type": "code",
   "execution_count": 35,
   "metadata": {
    "collapsed": false
   },
   "outputs": [
    {
     "name": "stdout",
     "output_type": "stream",
     "text": [
      "(10000, 6456)\n"
     ]
    }
   ],
   "source": [
    "print descVectors.shape"
   ]
  },
  {
   "cell_type": "code",
   "execution_count": 36,
   "metadata": {
    "collapsed": false
   },
   "outputs": [
    {
     "name": "stdout",
     "output_type": "stream",
     "text": [
      "[[ 0.  0.]\n",
      " [ 0.  1.]\n",
      " [ 0.  0.]]\n"
     ]
    }
   ],
   "source": [
    "print tagVectors.values[:3,10:12]"
   ]
  },
  {
   "cell_type": "code",
   "execution_count": 37,
   "metadata": {
    "collapsed": false
   },
   "outputs": [
    {
     "name": "stdout",
     "output_type": "stream",
     "text": [
      "[[ 0.  0.  0. ...,  0.  0.  0.]\n",
      " [ 0.  0.  0. ...,  0.  0.  0.]\n",
      " [ 0.  0.  0. ...,  0.  1.  0.]\n",
      " ..., \n",
      " [ 0.  0.  0. ...,  0.  0.  0.]\n",
      " [ 0.  0.  0. ...,  0.  0.  0.]\n",
      " [ 0.  0.  0. ...,  0.  0.  0.]]\n"
     ]
    }
   ],
   "source": [
    "print tagVectors.values"
   ]
  },
  {
   "cell_type": "markdown",
   "metadata": {},
   "source": [
    "## Use kNN to find the 20 closest tag vectors for each test prediction vector"
   ]
  },
  {
   "cell_type": "code",
   "execution_count": 85,
   "metadata": {
    "collapsed": true
   },
   "outputs": [],
   "source": [
    "def kNN(tags,k,preds):\n",
    "    model = NearestNeighbors(n_neighbors= k , algorithm='kd_tree').fit(tags)\n",
    "    dist,idxs = model.kneighbors(preds)\n",
    "    return dist,idxs\n",
    "\n",
    "def MAP(i):\n",
    "    score = (21 - i)/float(20)\n",
    "    return score"
   ]
  },
  {
   "cell_type": "code",
   "execution_count": 103,
   "metadata": {
    "collapsed": true
   },
   "outputs": [],
   "source": [
    "def crossValidate(data,labels,classifier):\n",
    "    \"\"\"\n",
    "    data = training data\n",
    "    labels = training data labels\n",
    "    algo = algorithmn that creates predictions\n",
    "    \"\"\"\n",
    "    totalAvgMap = []\n",
    "    totalAvgAcc = []\n",
    "    kf = KFold(len(data),3)\n",
    "    for trainIdx,testIdx in kf:\n",
    "        mapScores=[]\n",
    "        c = 0\n",
    "        train = np.array([data[idx] for idx in trainIdx])\n",
    "        test = np.array([data[idx] for idx in testIdx])\n",
    "        trainLabels = np.array([labels[idx] for idx in trainIdx])\n",
    "        testLabels = np.array([labels[idx] for idx in testIdx])\n",
    "        testPreds = classifier(train,trainLabels,test)\n",
    "        for i in range(len(testPreds)):\n",
    "            if np.array_equal(testPreds[i],testLabels[i]):\n",
    "                c+=1\n",
    "        dist,kNNPreds = kNN(testLabels,20,testPreds)\n",
    "        for i in range(len(kNNPreds)):\n",
    "            if i in kNNPreds[i]:\n",
    "                rankI = list(kNNPreds[i]).index(i)\n",
    "                mapScores.append(MAP(rankI))\n",
    "            else:\n",
    "                mapScores.append(0)\n",
    "        avgMAP = sum(mapScores)/float(len(mapScores))\n",
    "        print \"avgMAP: \" + str(avgMAP)\n",
    "        print \"Accuracy: \" + str(c/float(len(testPreds))) + \" ,(\" + str(c) + \"/\" + str(len(testPreds)) + \")\"\n",
    "        totalAvgMap.append(avgMAP)\n",
    "        totalAvgAcc.append(c/float(len(testPreds)))\n",
    "    print \"Average MAP: \" +str(np.array(totalAvgMap).mean())\n",
    "    print \"Average Accuracy: \" + str(np.array(totalAvgAcc).mean())"
   ]
  },
  {
   "cell_type": "code",
   "execution_count": 108,
   "metadata": {
    "collapsed": false
   },
   "outputs": [
    {
     "name": "stdout",
     "output_type": "stream",
     "text": [
      "(10000, 6456) (10000, 80)\n",
      "avgMAP: 0.0640521895621\n",
      "Accuracy: 0.0941811637672 ,(314/3334)\n",
      "avgMAP: 0.0627512751275\n",
      "Accuracy: 0.0954095409541 ,(318/3333)\n",
      "avgMAP: 0.05799579958\n",
      "Accuracy: 0.0828082808281 ,(276/3333)\n",
      "Average MAP: <built-in method mean of numpy.ndarray object at 0x10a790da0>\n",
      "Average Accuracy: <built-in method mean of numpy.ndarray object at 0x10a790da0>\n"
     ]
    }
   ],
   "source": [
    "print descVectors.values.shape,tagVectors.values.shape\n",
    "crossValidate(descVectors.values,tagVectors.values,naiveBayes)"
   ]
  },
  {
   "cell_type": "code",
   "execution_count": 109,
   "metadata": {
    "collapsed": false
   },
   "outputs": [
    {
     "name": "stdout",
     "output_type": "stream",
     "text": [
      "avgMAP: 0.0640521895621\n",
      "Accuracy: 0.0941811637672 ,(314/3334)\n",
      "avgMAP: 0.0627512751275\n",
      "Accuracy: 0.0954095409541 ,(318/3333)\n",
      "avgMAP: 0.05799579958\n",
      "Accuracy: 0.0828082808281 ,(276/3333)\n",
      "Average MAP: <built-in method mean of numpy.ndarray object at 0x10b92ac60>\n",
      "Average Accuracy: <built-in method mean of numpy.ndarray object at 0x10b92ac60>\n"
     ]
    }
   ],
   "source": [
    "crossValidate(normalizedDescVector.values,tagVectors.values,naiveBayes)"
   ]
  },
  {
   "cell_type": "code",
   "execution_count": 113,
   "metadata": {
    "collapsed": false
   },
   "outputs": [],
   "source": [
    "def fineTuneLogRegression(C):\n",
    "    bestC = 0\n",
    "    bestAcc = 0\n",
    "    for cVal in C:\n",
    "        totalAvgMap = []\n",
    "        totalAvgAcc = []\n",
    "        kf = KFold(len(data),3)\n",
    "        for trainIdx,testIdx in kf:\n",
    "            mapScores=[]\n",
    "            c = 0\n",
    "            train = np.array([data[idx] for idx in trainIdx])\n",
    "            test = np.array([data[idx] for idx in testIdx])\n",
    "            trainLabels = np.array([labels[idx] for idx in trainIdx])\n",
    "            testLabels = np.array([labels[idx] for idx in testIdx])\n",
    "            testPreds = LogRegression(train,trainLabels,test)\n",
    "            for i in range(len(testPreds)):\n",
    "                if np.array_equal(testPreds[i],testLabels[i]):\n",
    "                    c+=1\n",
    "            dist,kNNPreds = kNN(testLabels,20,testPreds)\n",
    "            for i in range(len(kNNPreds)):\n",
    "                if i in kNNPreds[i]:\n",
    "                    rankI = list(kNNPreds[i]).index(i)\n",
    "                    mapScores.append(MAP(rankI))\n",
    "                else:\n",
    "                    mapScores.append(0)\n",
    "            avgMAP = sum(mapScores)/float(len(mapScores))\n",
    "            acc = c/float(len(testPreds))\n",
    "            print \"avgMAP: \" + str(avgMAP)\n",
    "            print \"Accuracy: \" + str(acc) + \" ,(\" + str(c) + \"/\" + str(len(testPreds)) + \")\"\n",
    "            totalAvgMap.append(avgMAP)\n",
    "            totalAvgAcc.append(acc)\n",
    "            \n",
    "            if acc > bestAcc:\n",
    "                bestAcc = acc\n",
    "                bestC = cVal\n",
    "        print \"Average MAP: \" +str(np.array(totalAvgMap).mean())\n",
    "        print \"Average Accuracy: \" + str(np.array(totalAvgAcc).mean())\n",
    "    print \"The best C value was \" + str(bestC) + \"with an accuracy of \" + str(bestAcc)\n",
    "    return bestC"
   ]
  },
  {
   "cell_type": "code",
   "execution_count": null,
   "metadata": {
    "collapsed": true
   },
   "outputs": [],
   "source": [
    "bestC = fineTuneLogRegression([\"0\"])"
   ]
  },
  {
   "cell_type": "markdown",
   "metadata": {},
   "source": [
    "## Generate  Test Description Vectors"
   ]
  },
  {
   "cell_type": "code",
   "execution_count": null,
   "metadata": {
    "collapsed": true
   },
   "outputs": [],
   "source": [
    "testDescVectors = binaryVectorizeDescriptions(numTest,descriptionTestFolder,indexedDescBag)"
   ]
  },
  {
   "cell_type": "code",
   "execution_count": null,
   "metadata": {
    "collapsed": true
   },
   "outputs": [],
   "source": [
    "normalizedTestDescVector = testDescVectors.div(testDescVectors.sum(axis=1), axis=0) "
   ]
  },
  {
   "cell_type": "markdown",
   "metadata": {},
   "source": [
    "## Run classifiers on test data"
   ]
  },
  {
   "cell_type": "code",
   "execution_count": null,
   "metadata": {
    "collapsed": true
   },
   "outputs": [],
   "source": [
    "print normalizedDescVector.shape,tagVectors.shape,normalizedTestDescVector.shape"
   ]
  },
  {
   "cell_type": "code",
   "execution_count": null,
   "metadata": {
    "collapsed": true
   },
   "outputs": [],
   "source": [
    "testPreds = randomForest(descVectors.values,tagVectors.values,testDescVectors.values)"
   ]
  },
  {
   "cell_type": "code",
   "execution_count": null,
   "metadata": {
    "collapsed": true
   },
   "outputs": [],
   "source": [
    "print testPreds.shape"
   ]
  },
  {
   "cell_type": "code",
   "execution_count": null,
   "metadata": {
    "collapsed": true
   },
   "outputs": [],
   "source": [
    "print testPreds[:50]"
   ]
  },
  {
   "cell_type": "markdown",
   "metadata": {},
   "source": [
    "## Generate Test Tag Vectors¶"
   ]
  },
  {
   "cell_type": "code",
   "execution_count": null,
   "metadata": {
    "collapsed": true
   },
   "outputs": [],
   "source": [
    "testTagVectors = getTagVectors(numTest,tagsTestFolder,indexedTagBag)"
   ]
  },
  {
   "cell_type": "markdown",
   "metadata": {},
   "source": [
    "## Run kNN on test data"
   ]
  },
  {
   "cell_type": "code",
   "execution_count": null,
   "metadata": {
    "collapsed": true
   },
   "outputs": [],
   "source": [
    "dist,preds = kNN(testTagVectors,20,testPreds)"
   ]
  },
  {
   "cell_type": "code",
   "execution_count": 75,
   "metadata": {
    "collapsed": false
   },
   "outputs": [
    {
     "name": "stdout",
     "output_type": "stream",
     "text": [
      "[[  36  292 1743 ...,  760  250  594]\n",
      " [1156 1341 1529 ...,  589  607 1208]\n",
      " [1208 1033 1437 ...,   10   67   85]\n",
      " ..., \n",
      " [1218 1660 1535 ...,   71   75   36]\n",
      " [1535 1429 1660 ...,    7   55   28]\n",
      " [1208 1033 1437 ...,   10   67   85]]\n"
     ]
    }
   ],
   "source": [
    "print preds"
   ]
  },
  {
   "cell_type": "code",
   "execution_count": 76,
   "metadata": {
    "collapsed": false
   },
   "outputs": [
    {
     "data": {
      "text/plain": [
       "array([[  36,  292, 1743,  359, 1131, 1231,  942,  152,   95,  255,  949,\n",
       "          50,  388,  484,  141,  897,  311,  760,  250,  594],\n",
       "       [1156, 1341, 1529,  763,  435,  784, 1027, 1030,  452,  753,  809,\n",
       "         833,  948, 1059,  758, 1033,  542,  589,  607, 1208],\n",
       "       [1208, 1033, 1437, 1421, 1030, 1340, 1648, 1574,  763, 1027,  452,\n",
       "         860, 1059,  607,  784, 1475,   90,   10,   67,   85],\n",
       "       [1218, 1660, 1535,  897, 1429,  152, 1135,  141,   16,   63,    2,\n",
       "          57,   33,    7,   55,   12,   28,   71,   75,   36],\n",
       "       [1218, 1660, 1535,  897, 1429,  152, 1135,  141,   16,   63,    2,\n",
       "          57,   33,    7,   55,   12,   28,   71,   75,   36]])"
      ]
     },
     "execution_count": 76,
     "metadata": {},
     "output_type": "execute_result"
    }
   ],
   "source": [
    "preds[:5]"
   ]
  },
  {
   "cell_type": "markdown",
   "metadata": {},
   "source": [
    "## Save Results"
   ]
  },
  {
   "cell_type": "code",
   "execution_count": null,
   "metadata": {
    "collapsed": true
   },
   "outputs": [],
   "source": [
    "def saveResults(res,name):\n",
    "    f = open(name,'w')\n",
    "    f.write('Descritpion_ID,Top_20_Image_IDs\\n')\n",
    "    for i in xrange(2000):\n",
    "        f.write(str(i)+'.txt,')\n",
    "        for j in xrange(20):\n",
    "            if j == 19:\n",
    "                f.write(str(res[i,j])+'.jpg\\n')\n",
    "            else:\n",
    "                f.write(str(res[i,j])+'.jpg ')\n",
    "    f.close()"
   ]
  },
  {
   "cell_type": "code",
   "execution_count": 77,
   "metadata": {
    "collapsed": true
   },
   "outputs": [],
   "source": [
    "saveResults(preds,\"randomForest+kNN.csv\")"
   ]
  },
  {
   "cell_type": "code",
   "execution_count": 101,
   "metadata": {
    "collapsed": false
   },
   "outputs": [
    {
     "data": {
      "text/plain": [
       "'\\nRankings:\\n'"
      ]
     },
     "execution_count": 101,
     "metadata": {},
     "output_type": "execute_result"
    }
   ],
   "source": [
    "\"\"\"\n",
    "\n",
    "Rankings:\n",
    "1) Logistic Regression (on non normalized description vectors)\n",
    "2) SVM(linear) (on normalized description vectors)\n",
    "3) Random Forest\n",
    "4) Naive Bayes\n",
    "5)\n",
    "\n",
    "\"\"\""
   ]
  },
  {
   "cell_type": "code",
   "execution_count": null,
   "metadata": {
    "collapsed": true
   },
   "outputs": [],
   "source": []
  }
 ],
 "metadata": {
  "kernelspec": {
   "display_name": "Python 2",
   "language": "python",
   "name": "python2"
  },
  "language_info": {
   "codemirror_mode": {
    "name": "ipython",
    "version": 2
   },
   "file_extension": ".py",
   "mimetype": "text/x-python",
   "name": "python",
   "nbconvert_exporter": "python",
   "pygments_lexer": "ipython2",
   "version": "2.7.11"
  }
 },
 "nbformat": 4,
 "nbformat_minor": 0
}
