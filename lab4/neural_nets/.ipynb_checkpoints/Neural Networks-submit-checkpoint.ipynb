{
 "cells": [
  {
   "cell_type": "code",
   "execution_count": 1,
   "metadata": {
    "collapsed": true
   },
   "outputs": [],
   "source": [
    "import numpy as np\n",
    "import matplotlib.pyplot as plt\n",
    "%matplotlib inline"
   ]
  },
  {
   "cell_type": "markdown",
   "metadata": {},
   "source": [
    "# 2. Neural networks as function approximators"
   ]
  },
  {
   "cell_type": "code",
   "execution_count": 2,
   "metadata": {
    "collapsed": true
   },
   "outputs": [],
   "source": [
    "#http://neuralnetworksanddeeplearning.com/chap4.html\n",
    "## The inspiration for the number of layers, and weights and biases comes from this link\n",
    "\n",
    "def ReLU(x):\n",
    "    return np.maximum(x,0) "
   ]
  },
  {
   "cell_type": "code",
   "execution_count": 6,
   "metadata": {
    "collapsed": false
   },
   "outputs": [],
   "source": [
    "# Here we define the weights and biases for each of our layers \n",
    "\n",
    "## Weights and biases for layer 1\n",
    "w1 = np.array([2,float(5)/3,float(5)/3,float(11)/3,float(5)/3]) #\n",
    "b1 = np.array([-2,float(-10)/3,float(-25)/3,-22,-15]) \n",
    "\n",
    "\n",
    "## weights and biases for layer 2\n",
    "w2 = np.array([1,-1,1,-1,1])\n",
    "b2 = 0\n",
    "\n",
    "# Input array of x's between 1 and 100\n",
    "x = np.linspace(0, 10, 100)\n"
   ]
  },
  {
   "cell_type": "code",
   "execution_count": 7,
   "metadata": {
    "collapsed": false
   },
   "outputs": [],
   "source": [
    "outputArr = []\n",
    "# Forward propagation\n",
    "for i in range(len(x)):\n",
    "    z1 = np.array(x[i]).dot(w1) + b1\n",
    "    a1 = ReLU(z1)\n",
    "    a2 = a1.dot(w2) +b2\n",
    "    outputArr.append(a2)"
   ]
  },
  {
   "cell_type": "code",
   "execution_count": 9,
   "metadata": {
    "collapsed": false
   },
   "outputs": [
    {
     "data": {
      "image/png": "[encoded data removed]",
      "text/plain": [
       "<matplotlib.figure.Figure at 0x105be23c8>"
      ]
     },
     "metadata": {},
     "output_type": "display_data"
    },
    {
     "data": {
      "text/plain": [
       "<matplotlib.figure.Figure at 0x105c08da0>"
      ]
     },
     "metadata": {},
     "output_type": "display_data"
    }
   ],
   "source": [
    "# Plot the input versus the output to generate the pride rock graph/ function\n",
    "plt.plot(x, outputArr)\n",
    "plt.axis([0, 10, -1, 6])\n",
    "plt.xlabel('Input')\n",
    "plt.ylabel('Output')\n",
    "plt.title('\"Pride Rock\"')\n",
    "plt.grid(True)\n",
    "plt.show()\n",
    "plt.savefig(\"pride_rock.jpg\")"
   ]
  },
  {
   "cell_type": "markdown",
   "metadata": {},
   "source": [
    "# 3. Approximating images with neural networks"
   ]
  },
  {
   "cell_type": "markdown",
   "metadata": {},
   "source": [
    "#### a) Describe the structure of the network. How many layers does this network have? What is the purpose of each layer?"
   ]
  },
  {
   "cell_type": "markdown",
   "metadata": {},
   "source": [
    "This network has 9 layers. The first layer, or the input layer, takes in a pixel as x and y. Then, there are 7 deep hidden layers, each of which has 20 ReLUs. Each layer is fully connected to the layer that comes before it, and the layer that comes after it. The final or 9th layer is the output layer, which is represented as a regression. The output layer has 3 neurons, each of which ouptuts a respective r,g,b value of the pixels used in the input. The hidden layers take the x, y pixel inputs, and transform the data for output the layer to operate on.\n"
   ]
  },
  {
   "cell_type": "markdown",
   "metadata": {},
   "source": [
    "#### b) What does “Loss” mean here? What is the actual loss function? You may need to consult the source code, which is available on Github."
   ]
  },
  {
   "cell_type": "markdown",
   "metadata": {},
   "source": [
    "Loss here means the difference betweenthe approximated image and the input image. Looking at the source code in the \"convnet_layers_loss.js\" file in the backward function, which represents back propagation, gradient descent is computed. For each step and backward pass, the loss function is the negative log likelihood. \"// loss is the class negative log likelihood : return -Math.log(this.es[y]);\" Each calculation of loss is used for the gradient descent update: \"loss += 0.5*dy*dy;\""
   ]
  },
  {
   "cell_type": "markdown",
   "metadata": {},
   "source": [
    "#### c) Plot the loss over time, after letting it run for 5,000 iterations. How good does the network eventually get? "
   ]
  },
  {
   "cell_type": "code",
   "execution_count": 11,
   "metadata": {
    "collapsed": true
   },
   "outputs": [],
   "source": [
    "lossArr = [.09, .02, .02,  .016, .013, .012, .011, .011, .0104, .0102, .009, .0089, .0085, .0079, .0077, .0075, .0074, \\\n",
    "       .0073, .0070, .0067, .0065, .0065, .0063, .0064, .0064, .0061, .0061, .0062, .0061, .0057, .0052]"
   ]
  },
  {
   "cell_type": "code",
   "execution_count": 12,
   "metadata": {
    "collapsed": false
   },
   "outputs": [],
   "source": [
    "iterArr = [40, 198, 299, 339, 499, 598, 698, 798, 898, 999, 1099, 1299, 1699, 1785, 1988, 2098, 2300, 2498, 2698, \\\n",
    "          2898, 3098, 3395, 3500, 3645, 3793, 4214, 4299, 4468, 4698, 4748, 5099]"
   ]
  },
  {
   "cell_type": "code",
   "execution_count": 13,
   "metadata": {
    "collapsed": false
   },
   "outputs": [
    {
     "name": "stderr",
     "output_type": "stream",
     "text": [
      "//anaconda/lib/python3.4/site-packages/matplotlib/collections.py:590: FutureWarning: elementwise comparison failed; returning scalar instead, but in the future will perform elementwise comparison\n",
      "  if self._edgecolors == str('face'):\n"
     ]
    },
    {
     "data": {
      "image/png": "[encoded data removed]",
      "text/plain": [
       "<matplotlib.figure.Figure at 0x105eefda0>"
      ]
     },
     "metadata": {},
     "output_type": "display_data"
    }
   ],
   "source": [
    "plt.scatter(iterArr, lossArr , s=20)\n",
    "plt.savefig(\"iter vs. loss.jpg\")"
   ]
  },
  {
   "cell_type": "markdown",
   "metadata": {},
   "source": [
    "We see that after 5,000 iterations, eventually the loss gets down to as low as .0052. It starts off at .1, and very quickly drops off to .02. Then, with each round of itertions it slowly approached .0052. "
   ]
  },
  {
   "cell_type": "markdown",
   "metadata": {},
   "source": [
    "#### d. Can you make the network converge to a lower loss function by lowering the learning rate every 1,000 iterations? (Some learning rate schedules, for example, halve the learning rate every n iterations. Does this technique let the network converge to a lower training loss?)"
   ]
  },
  {
   "cell_type": "markdown",
   "metadata": {},
   "source": [
    "Yes, if you lower the learning rate every 1000 iterations you do indeed see that the loss decreases more quickly, and that you end up with a lower loss rate overall after 5000 iterations. Starting with a learning rate of .01, at 40 iterations, the loss is .09. Then, at 1000 iteraions, I lowered the loss rate to .00398. At 2000 iterations with this new learning rate, the loss was already .0052, which is already lower than the loss rate we saw above. At 2000 iterations, I again lowered the learning rate to .0011, which led to a loss of .0039 at 3000 iterations. At 3000 iterations, I lowered the learning rate to .0007, which led to a loss of .0037 at 4000 iterations. At 4000 iterations I lowered the learning rate to .00039, which led to a loss of .0036 at 5000 iterations. "
   ]
  },
  {
   "cell_type": "markdown",
   "metadata": {},
   "source": [
    "#### e. Lesion study. The text box contains a small snippet of Javascript code that initializes the network. You can change the network structure by clicking the “Reload network” button, which simply evaluates the code. Let’s perform some brain surgery: Try commenting out each layer, one by one. Report some results: How many layers can you drop before the accuracy drops below a useful value? How few hidden units can you get away with before quality drops noticeably?"
   ]
  },
  {
   "cell_type": "markdown",
   "metadata": {},
   "source": [
    "We can drop 4 hidden layers before we notice a drop in accuracy. With 3 hidden layers (4 dropped),  the approximation of the image is still quite good, and the loss still converges to .0068 after 5000 iterations. However, if we remove 5 hidden layers, with only 2 hidden layers, the accuracy drops drastically to a loss rate of .012 after 5000 iterations, and the approxiation of the image is quite poor. If we leave only 1 hidden layer by removing 6 layers, the accuracy drops to a loss rate of .024. To put percents behind these, when we go from 7 inner layers to 5 inner layers, the accuracy drops by 9.6%, and when we go from 5 to 3 the accuracy drops by 19.3%. When we go from 3 to 2, that is when we see the largest drop in accuracy- a 76.5% reduction in accuracy. Then, when we go from 2 to 1, we see that that the accuracy rate drops by 100%. "
   ]
  },
  {
   "cell_type": "markdown",
   "metadata": {},
   "source": [
    "#### f. Try adding a few layers by copy+pasting lines in the network definition. Can you noticeably increase the accuracy of the network?"
   ]
  },
  {
   "cell_type": "markdown",
   "metadata": {},
   "source": [
    "We added 2 more layers, and the network trains much more slowly, with a slight decrease in performance (.0053 vs. .0052) When I add in 2 additional layers (4 extra total), the training is painfully slow. Even if we decrease the learning rate with every 1000th iteration as we did above, the loss is still the same as when we have 4 less layers (.0036 versus .0036). Thus, by adding in extra layers, we do not see any increase in performance; in fact we see a decrease in performance since the nework takes much longer to train. For this particular data set, it seems that having between 5-8 middle layers is the appropriate amount of layers. You can have as little as 3 hidden layers, wihout really sacrificing performance and adding more than 7 does not increase performance. If you are optimizing for training time, you might choose less layers. "
   ]
  },
  {
   "cell_type": "code",
   "execution_count": null,
   "metadata": {
    "collapsed": true
   },
   "outputs": [],
   "source": []
  }
 ],
 "metadata": {
  "kernelspec": {
   "display_name": "Python 3",
   "language": "python",
   "name": "python3"
  },
  "language_info": {
   "codemirror_mode": {
    "name": "ipython",
    "version": 3
   },
   "file_extension": ".py",
   "mimetype": "text/x-python",
   "name": "python",
   "nbconvert_exporter": "python",
   "pygments_lexer": "ipython3",
   "version": "3.4.5"
  }
 },
 "nbformat": 4,
 "nbformat_minor": 0
}
