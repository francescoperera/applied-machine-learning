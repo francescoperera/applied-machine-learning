{
 "cells": [
  {
   "cell_type": "code",
   "execution_count": 4,
   "metadata": {
    "collapsed": true
   },
   "outputs": [],
   "source": [
    "import numpy as np"
   ]
  },
  {
   "cell_type": "code",
   "execution_count": 6,
   "metadata": {
    "collapsed": false
   },
   "outputs": [
    {
     "name": "stdout",
     "output_type": "stream",
     "text": [
      "[[1 2 3]\n",
      " [3 4 5]\n",
      " [5 4 3]\n",
      " [0 2 4]\n",
      " [1 3 5]] [[1 3 5 0 1]\n",
      " [2 4 4 2 3]\n",
      " [3 5 3 4 5]]\n"
     ]
    }
   ],
   "source": [
    "M = np.array([[1,2,3],[3,4,5],[5,4,3],[0,2,4],[1,3,5]])\n",
    "print M"
   ]
  },
  {
   "cell_type": "markdown",
   "metadata": {},
   "source": [
    "##  (a) Compute M^TM and MM^T"
   ]
  },
  {
   "cell_type": "code",
   "execution_count": 11,
   "metadata": {
    "collapsed": false
   },
   "outputs": [
    {
     "name": "stdout",
     "output_type": "stream",
     "text": [
      "[[36 37 38]\n",
      " [37 49 61]\n",
      " [38 61 84]]\n",
      "\n",
      "[[14 26 22 16 22]\n",
      " [26 50 46 28 40]\n",
      " [22 46 50 20 32]\n",
      " [16 28 20 20 26]\n",
      " [22 40 32 26 35]]\n"
     ]
    }
   ],
   "source": [
    "MTM = np.dot(M.T,M)\n",
    "MMT = np.dot(M,M.T)\n",
    "print MTM\n",
    "print \n",
    "print MMT"
   ]
  },
  {
   "cell_type": "markdown",
   "metadata": {},
   "source": [
    "## (b) and (c) Find eigenvalues and eigenvectors"
   ]
  },
  {
   "cell_type": "code",
   "execution_count": 17,
   "metadata": {
    "collapsed": false
   },
   "outputs": [
    {
     "name": "stdout",
     "output_type": "stream",
     "text": [
      "The eigenvalues for MTM are:\n",
      "[  1.53566996e+02   1.54330035e+01   2.99519331e-15]\n",
      "\n",
      "The matrix of eigenvector for MTM is:\n",
      "[[-0.40928285 -0.81597848  0.40824829]\n",
      " [-0.56345932 -0.12588456 -0.81649658]\n",
      " [-0.7176358   0.56420935  0.40824829]]\n"
     ]
    }
   ],
   "source": [
    "MTMEigenVals, MTMEigenVecs = np.linalg.eig(MTM)\n",
    "print \"The eigenvalues for MTM are:\"\n",
    "print MTMEigenVals\n",
    "print\n",
    "print \"The matrix of eigenvector for MTM is:\"\n",
    "print MTMEigenVecs"
   ]
  },
  {
   "cell_type": "code",
   "execution_count": 18,
   "metadata": {
    "collapsed": false
   },
   "outputs": [
    {
     "name": "stdout",
     "output_type": "stream",
     "text": [
      "The eigenvalues for MMT are:\n",
      "[  1.53566996e+02  -2.11358437e-15   1.54330035e+01  -2.52896572e-15\n",
      "  -2.76412233e-16]\n",
      "\n",
      "The matrix of eigenvector for MMT is:\n",
      "[[ 0.29769568  0.94131607 -0.15906393 -0.78507929  0.00659428]\n",
      " [ 0.57050856 -0.17481584  0.0332003  -0.08351207 -0.04149694]\n",
      " [ 0.52074297 -0.04034212  0.73585663  0.08794197 -0.11286076]\n",
      " [ 0.32257847 -0.18826321 -0.5103921  -0.11763897 -0.72117937]\n",
      " [ 0.45898491 -0.21515796 -0.41425998  0.59590563  0.68220032]]\n"
     ]
    }
   ],
   "source": [
    "MMTEigenVals, MMTEigenVecs = np.linalg.eig(MMT)\n",
    "print \"The eigenvalues for MMT are:\"\n",
    "print MMTEigenVals\n",
    "print\n",
    "print \"The matrix of eigenvector for MMT is:\"\n",
    "print MMTEigenVecs"
   ]
  },
  {
   "cell_type": "markdown",
   "metadata": {},
   "source": [
    "the eigenvectors in MTMEigenVecs and MMTEigenVecs are the columns\n",
    "in these matrices\n"
   ]
  },
  {
   "cell_type": "markdown",
   "metadata": {},
   "source": [
    "## (d)  Find the SVD"
   ]
  },
  {
   "cell_type": "code",
   "execution_count": 32,
   "metadata": {
    "collapsed": false
   },
   "outputs": [
    {
     "name": "stdout",
     "output_type": "stream",
     "text": [
      "[[ 0.29769568 -0.15906393]\n",
      " [ 0.57050856  0.0332003 ]\n",
      " [ 0.52074297  0.73585663]\n",
      " [ 0.32257847 -0.5103921 ]\n",
      " [ 0.45898491 -0.41425998]]\n"
     ]
    }
   ],
   "source": [
    "\"\"\"\n",
    "For MTM, drop the third eigenvalue as it very close to 0.Hence,drop\n",
    "the third row in MTMEigenVecs.\n",
    "\n",
    "For MMT, drop the second,fourth and fifth eigenvalue as\n",
    "it very close to 0. Hence, also drop the corresponding rows in\n",
    "MMTEigenVecs.\n",
    "\"\"\"\n",
    "newMTMEigenVals = MTMEigenVals[:-1]\n",
    "newMTMEigenVecs = numpy.delete(MTMEigenVecs,(2),axis = 0)\n",
    "\n",
    "newMMTEigenVals = numpy.delete(MMTEigenVals,(1,3,4),axis = 0)\n",
    "newMMTEigenVecs = numpy.delete(MMTEigenVecs,(1,3,4),axis = 1)\n",
    "print newMMTEigenVecs"
   ]
  },
  {
   "cell_type": "code",
   "execution_count": 36,
   "metadata": {
    "collapsed": false
   },
   "outputs": [
    {
     "name": "stdout",
     "output_type": "stream",
     "text": [
      "[[ 12.39221516   0.           0.        ]\n",
      " [  0.           3.92848616   0.        ]\n",
      " [  0.           0.           0.        ]\n",
      " [  0.           0.           0.        ]\n",
      " [  0.           0.           0.        ]]\n"
     ]
    }
   ],
   "source": [
    "D = np.zeros((5,3))\n",
    "D[0][0] = np.sqrt(newMTMEigenVals[0])\n",
    "D[1][1] = np.sqrt(newMTMEigenVals[1])\n",
    "print D"
   ]
  },
  {
   "cell_type": "code",
   "execution_count": 45,
   "metadata": {
    "collapsed": false
   },
   "outputs": [
    {
     "name": "stdout",
     "output_type": "stream",
     "text": [
      "[[ 0.29769568 -0.15906393]\n",
      " [ 0.57050856  0.0332003 ]\n",
      " [ 0.52074297  0.73585663]\n",
      " [ 0.32257847 -0.5103921 ]\n",
      " [ 0.45898491 -0.41425998]]\n",
      "\n",
      "[[-0.40928285 -0.56345932]\n",
      " [-0.81597848 -0.12588456]\n",
      " [ 0.40824829 -0.81649658]]\n"
     ]
    }
   ],
   "source": [
    "U = newMMTEigenVecs\n",
    "V = newMTMEigenVecs.T\n",
    "\n",
    "print U \n",
    "print \n",
    "print V"
   ]
  },
  {
   "cell_type": "code",
   "execution_count": 57,
   "metadata": {
    "collapsed": false
   },
   "outputs": [
    {
     "name": "stdout",
     "output_type": "stream",
     "text": [
      "[[ 0.29769568]\n",
      " [ 0.57050856]\n",
      " [ 0.52074297]\n",
      " [ 0.32257847]\n",
      " [ 0.45898491]]\n"
     ]
    }
   ],
   "source": [
    "print U[:,:1]"
   ]
  },
  {
   "cell_type": "markdown",
   "metadata": {},
   "source": [
    "## e) Approximation"
   ]
  },
  {
   "cell_type": "code",
   "execution_count": 59,
   "metadata": {
    "collapsed": false
   },
   "outputs": [
    {
     "name": "stdout",
     "output_type": "stream",
     "text": [
      "[[-1.509889   -3.01023347  1.5060724 ]\n",
      " [-2.89357443 -5.76885757  2.88626023]\n",
      " [-2.64116728 -5.26563883  2.63449111]\n",
      " [-1.63609257 -3.26184284  1.63195696]\n",
      " [-2.32793529 -4.64115489  2.32205088]]\n"
     ]
    }
   ],
   "source": [
    "\"\"\"\n",
    "For the approximation use choose the biggest eigenvalue,\n",
    "the first column from V and the first\n",
    "\"\"\"\n",
    "Approx = np.dot(U[:,:1],np.dot(D[0][0],V[:,:1].T))\n",
    "print Approx"
   ]
  },
  {
   "cell_type": "markdown",
   "metadata": {},
   "source": [
    "## f) energy of the original singular value"
   ]
  },
  {
   "cell_type": "code",
   "execution_count": 60,
   "metadata": {
    "collapsed": false
   },
   "outputs": [
    {
     "name": "stdout",
     "output_type": "stream",
     "text": [
      "0.908680452426\n"
     ]
    }
   ],
   "source": [
    "energy = (D[0][0]**2)/((D[0][0]**2)+(D[1][1]**2))\n",
    "print energy"
   ]
  },
  {
   "cell_type": "code",
   "execution_count": null,
   "metadata": {
    "collapsed": true
   },
   "outputs": [],
   "source": []
  }
 ],
 "metadata": {
  "kernelspec": {
   "display_name": "Python 2",
   "language": "python",
   "name": "python2"
  },
  "language_info": {
   "codemirror_mode": {
    "name": "ipython",
    "version": 2
   },
   "file_extension": ".py",
   "mimetype": "text/x-python",
   "name": "python",
   "nbconvert_exporter": "python",
   "pygments_lexer": "ipython2",
   "version": "2.7.11"
  }
 },
 "nbformat": 4,
 "nbformat_minor": 0
}
