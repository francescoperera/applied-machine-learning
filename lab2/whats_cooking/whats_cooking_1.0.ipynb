{
 "cells": [
  {
   "cell_type": "code",
   "execution_count": 1,
   "metadata": {
    "collapsed": true
   },
   "outputs": [],
   "source": [
    "import numpy as np\n",
    "import csv\n",
    "from sklearn.cross_validation import cross_val_score\n",
    "from sklearn.linear_model import LogisticRegression\n",
    "from sklearn.externals import joblib\n",
    "from sklearn.metrics import roc_curve, auc\n",
    "from sklearn.cross_validation import train_test_split\n",
    "from sklearn.cross_validation import StratifiedKFold\n",
    "from scipy import interp\n",
    "from  matplotlib import pyplot as plt\n",
    "from sklearn import cross_validation\n",
    "import pandas as pd\n",
    "from sklearn.metrics import roc_auc_score\n",
    "from sklearn import metrics, preprocessing\n",
    "import pickle\n",
    "import matplotlib.pyplot as plt\n",
    "import matplotlib.cm as cm\n",
    "%matplotlib inline"
   ]
  },
  {
   "cell_type": "code",
   "execution_count": 2,
   "metadata": {
    "collapsed": false
   },
   "outputs": [],
   "source": [
    "df = pd.read_json(\"~/Documents/AML/HW2/train.json\")"
   ]
  },
  {
   "cell_type": "code",
   "execution_count": 3,
   "metadata": {
    "collapsed": false
   },
   "outputs": [
    {
     "data": {
      "text/html": [
       "<div>\n",
       "<table border=\"1\" class=\"dataframe\">\n",
       "  <thead>\n",
       "    <tr style=\"text-align: right;\">\n",
       "      <th></th>\n",
       "      <th>cuisine</th>\n",
       "      <th>id</th>\n",
       "      <th>ingredients</th>\n",
       "    </tr>\n",
       "  </thead>\n",
       "  <tbody>\n",
       "    <tr>\n",
       "      <th>39769</th>\n",
       "      <td>irish</td>\n",
       "      <td>29109</td>\n",
       "      <td>[light brown sugar, granulated sugar, butter, ...</td>\n",
       "    </tr>\n",
       "    <tr>\n",
       "      <th>39770</th>\n",
       "      <td>italian</td>\n",
       "      <td>11462</td>\n",
       "      <td>[KRAFT Zesty Italian Dressing, purple onion, b...</td>\n",
       "    </tr>\n",
       "    <tr>\n",
       "      <th>39771</th>\n",
       "      <td>irish</td>\n",
       "      <td>2238</td>\n",
       "      <td>[eggs, citrus fruit, raisins, sourdough starte...</td>\n",
       "    </tr>\n",
       "    <tr>\n",
       "      <th>39772</th>\n",
       "      <td>chinese</td>\n",
       "      <td>41882</td>\n",
       "      <td>[boneless chicken skinless thigh, minced garli...</td>\n",
       "    </tr>\n",
       "    <tr>\n",
       "      <th>39773</th>\n",
       "      <td>mexican</td>\n",
       "      <td>2362</td>\n",
       "      <td>[green chile, jalapeno chilies, onions, ground...</td>\n",
       "    </tr>\n",
       "  </tbody>\n",
       "</table>\n",
       "</div>"
      ],
      "text/plain": [
       "       cuisine     id                                        ingredients\n",
       "39769    irish  29109  [light brown sugar, granulated sugar, butter, ...\n",
       "39770  italian  11462  [KRAFT Zesty Italian Dressing, purple onion, b...\n",
       "39771    irish   2238  [eggs, citrus fruit, raisins, sourdough starte...\n",
       "39772  chinese  41882  [boneless chicken skinless thigh, minced garli...\n",
       "39773  mexican   2362  [green chile, jalapeno chilies, onions, ground..."
      ]
     },
     "execution_count": 3,
     "metadata": {},
     "output_type": "execute_result"
    }
   ],
   "source": [
    "df.tail(5)"
   ]
  },
  {
   "cell_type": "code",
   "execution_count": 4,
   "metadata": {
    "collapsed": false
   },
   "outputs": [],
   "source": [
    "numCuisineInst = df.groupby(['cuisine']).agg(['count'])"
   ]
  },
  {
   "cell_type": "code",
   "execution_count": 5,
   "metadata": {
    "collapsed": false
   },
   "outputs": [
    {
     "data": {
      "text/html": [
       "<div>\n",
       "<table border=\"1\" class=\"dataframe\">\n",
       "  <thead>\n",
       "    <tr>\n",
       "      <th></th>\n",
       "      <th>id</th>\n",
       "      <th>ingredients</th>\n",
       "    </tr>\n",
       "    <tr>\n",
       "      <th></th>\n",
       "      <th>count</th>\n",
       "      <th>count</th>\n",
       "    </tr>\n",
       "    <tr>\n",
       "      <th>cuisine</th>\n",
       "      <th></th>\n",
       "      <th></th>\n",
       "    </tr>\n",
       "  </thead>\n",
       "  <tbody>\n",
       "    <tr>\n",
       "      <th>brazilian</th>\n",
       "      <td>467</td>\n",
       "      <td>467</td>\n",
       "    </tr>\n",
       "    <tr>\n",
       "      <th>british</th>\n",
       "      <td>804</td>\n",
       "      <td>804</td>\n",
       "    </tr>\n",
       "    <tr>\n",
       "      <th>cajun_creole</th>\n",
       "      <td>1546</td>\n",
       "      <td>1546</td>\n",
       "    </tr>\n",
       "    <tr>\n",
       "      <th>chinese</th>\n",
       "      <td>2673</td>\n",
       "      <td>2673</td>\n",
       "    </tr>\n",
       "    <tr>\n",
       "      <th>filipino</th>\n",
       "      <td>755</td>\n",
       "      <td>755</td>\n",
       "    </tr>\n",
       "    <tr>\n",
       "      <th>french</th>\n",
       "      <td>2646</td>\n",
       "      <td>2646</td>\n",
       "    </tr>\n",
       "    <tr>\n",
       "      <th>greek</th>\n",
       "      <td>1175</td>\n",
       "      <td>1175</td>\n",
       "    </tr>\n",
       "    <tr>\n",
       "      <th>indian</th>\n",
       "      <td>3003</td>\n",
       "      <td>3003</td>\n",
       "    </tr>\n",
       "    <tr>\n",
       "      <th>irish</th>\n",
       "      <td>667</td>\n",
       "      <td>667</td>\n",
       "    </tr>\n",
       "    <tr>\n",
       "      <th>italian</th>\n",
       "      <td>7838</td>\n",
       "      <td>7838</td>\n",
       "    </tr>\n",
       "    <tr>\n",
       "      <th>jamaican</th>\n",
       "      <td>526</td>\n",
       "      <td>526</td>\n",
       "    </tr>\n",
       "    <tr>\n",
       "      <th>japanese</th>\n",
       "      <td>1423</td>\n",
       "      <td>1423</td>\n",
       "    </tr>\n",
       "    <tr>\n",
       "      <th>korean</th>\n",
       "      <td>830</td>\n",
       "      <td>830</td>\n",
       "    </tr>\n",
       "    <tr>\n",
       "      <th>mexican</th>\n",
       "      <td>6438</td>\n",
       "      <td>6438</td>\n",
       "    </tr>\n",
       "    <tr>\n",
       "      <th>moroccan</th>\n",
       "      <td>821</td>\n",
       "      <td>821</td>\n",
       "    </tr>\n",
       "    <tr>\n",
       "      <th>russian</th>\n",
       "      <td>489</td>\n",
       "      <td>489</td>\n",
       "    </tr>\n",
       "    <tr>\n",
       "      <th>southern_us</th>\n",
       "      <td>4320</td>\n",
       "      <td>4320</td>\n",
       "    </tr>\n",
       "    <tr>\n",
       "      <th>spanish</th>\n",
       "      <td>989</td>\n",
       "      <td>989</td>\n",
       "    </tr>\n",
       "    <tr>\n",
       "      <th>thai</th>\n",
       "      <td>1539</td>\n",
       "      <td>1539</td>\n",
       "    </tr>\n",
       "    <tr>\n",
       "      <th>vietnamese</th>\n",
       "      <td>825</td>\n",
       "      <td>825</td>\n",
       "    </tr>\n",
       "  </tbody>\n",
       "</table>\n",
       "</div>"
      ],
      "text/plain": [
       "                id ingredients\n",
       "             count       count\n",
       "cuisine                       \n",
       "brazilian      467         467\n",
       "british        804         804\n",
       "cajun_creole  1546        1546\n",
       "chinese       2673        2673\n",
       "filipino       755         755\n",
       "french        2646        2646\n",
       "greek         1175        1175\n",
       "indian        3003        3003\n",
       "irish          667         667\n",
       "italian       7838        7838\n",
       "jamaican       526         526\n",
       "japanese      1423        1423\n",
       "korean         830         830\n",
       "mexican       6438        6438\n",
       "moroccan       821         821\n",
       "russian        489         489\n",
       "southern_us   4320        4320\n",
       "spanish        989         989\n",
       "thai          1539        1539\n",
       "vietnamese     825         825"
      ]
     },
     "execution_count": 5,
     "metadata": {},
     "output_type": "execute_result"
    }
   ],
   "source": [
    "numCuisineInst"
   ]
  },
  {
   "cell_type": "code",
   "execution_count": 14,
   "metadata": {
    "collapsed": false
   },
   "outputs": [],
   "source": [
    "# df.ingredients.nunique()\n",
    "# Gives error because the list is not hashable\n",
    "# ways to solve it, loop through every single item as a matrix, and create a dictionary, or create a hash map, or "
   ]
  },
  {
   "cell_type": "code",
   "execution_count": 6,
   "metadata": {
    "collapsed": false
   },
   "outputs": [],
   "source": [
    "ingredients_list = df['ingredients'].as_matrix()"
   ]
  },
  {
   "cell_type": "code",
   "execution_count": 7,
   "metadata": {
    "collapsed": false
   },
   "outputs": [
    {
     "data": {
      "text/plain": [
       "array([ ['romaine lettuce', 'black olives', 'grape tomatoes', 'garlic', 'pepper', 'purple onion', 'seasoning', 'garbanzo beans', 'feta cheese crumbles'],\n",
       "       ['plain flour', 'ground pepper', 'salt', 'tomatoes', 'ground black pepper', 'thyme', 'eggs', 'green tomatoes', 'yellow corn meal', 'milk', 'vegetable oil']], dtype=object)"
      ]
     },
     "execution_count": 7,
     "metadata": {},
     "output_type": "execute_result"
    }
   ],
   "source": [
    "ingredients_list[0:2]"
   ]
  },
  {
   "cell_type": "code",
   "execution_count": 8,
   "metadata": {
    "collapsed": false
   },
   "outputs": [
    {
     "data": {
      "text/plain": [
       "39774"
      ]
     },
     "execution_count": 8,
     "metadata": {},
     "output_type": "execute_result"
    }
   ],
   "source": [
    "len(ingredients_list)"
   ]
  },
  {
   "cell_type": "code",
   "execution_count": 9,
   "metadata": {
    "collapsed": false
   },
   "outputs": [],
   "source": [
    "ingredientDict = dict()"
   ]
  },
  {
   "cell_type": "code",
   "execution_count": 10,
   "metadata": {
    "collapsed": false
   },
   "outputs": [],
   "source": [
    "for item in ingredients_list:\n",
    "    for ingredient in item:\n",
    "        if ingredient in ingredientDict:\n",
    "            ingredientDict[ingredient] +=1\n",
    "        else:\n",
    "            ingredientDict[ingredient] =1"
   ]
  },
  {
   "cell_type": "code",
   "execution_count": 11,
   "metadata": {
    "collapsed": false
   },
   "outputs": [
    {
     "data": {
      "text/plain": [
       "6714"
      ]
     },
     "execution_count": 11,
     "metadata": {},
     "output_type": "execute_result"
    }
   ],
   "source": [
    "len(ingredientDict)"
   ]
  },
  {
   "cell_type": "code",
   "execution_count": 12,
   "metadata": {
    "collapsed": true
   },
   "outputs": [],
   "source": [
    "consolidated_list = list(ingredientDict.keys())"
   ]
  },
  {
   "cell_type": "code",
   "execution_count": 13,
   "metadata": {
    "collapsed": false
   },
   "outputs": [
    {
     "name": "stdout",
     "output_type": "stream",
     "text": [
      "['canned tuna', 'turkey breakfast sausage']\n"
     ]
    }
   ],
   "source": [
    "print (consolidated_list[0:2])"
   ]
  },
  {
   "cell_type": "code",
   "execution_count": 14,
   "metadata": {
    "collapsed": false
   },
   "outputs": [],
   "source": [
    "blank_data = np.empty((len(ingredients_list), len(consolidated_list)))"
   ]
  },
  {
   "cell_type": "code",
   "execution_count": 15,
   "metadata": {
    "collapsed": false
   },
   "outputs": [
    {
     "data": {
      "text/plain": [
       "array([[ 0.,  0.,  0., ...,  0.,  0.,  0.],\n",
       "       [ 0.,  0.,  0., ...,  0.,  0.,  0.]])"
      ]
     },
     "execution_count": 15,
     "metadata": {},
     "output_type": "execute_result"
    }
   ],
   "source": [
    "blank_data[0:2]"
   ]
  },
  {
   "cell_type": "code",
   "execution_count": 16,
   "metadata": {
    "collapsed": false
   },
   "outputs": [],
   "source": [
    "df_one_hot_encode = pd.DataFrame(blank_data , columns=consolidated_list)"
   ]
  },
  {
   "cell_type": "code",
   "execution_count": 17,
   "metadata": {
    "collapsed": false
   },
   "outputs": [
    {
     "data": {
      "text/html": [
       "<div>\n",
       "<table border=\"1\" class=\"dataframe\">\n",
       "  <thead>\n",
       "    <tr style=\"text-align: right;\">\n",
       "      <th></th>\n",
       "      <th>canned tuna</th>\n",
       "      <th>turkey breakfast sausage</th>\n",
       "      <th>ice</th>\n",
       "      <th>liquorice</th>\n",
       "      <th>boneless beef roast</th>\n",
       "      <th>yellow mustard seeds</th>\n",
       "      <th>low-fat crème fraîche</th>\n",
       "      <th>fresh thyme</th>\n",
       "      <th>popcorn</th>\n",
       "      <th>carnitas</th>\n",
       "      <th>...</th>\n",
       "      <th>vodka sauce</th>\n",
       "      <th>gobo root</th>\n",
       "      <th>chipped beef</th>\n",
       "      <th>cut up chicken</th>\n",
       "      <th>medjool date</th>\n",
       "      <th>napa cabbage leaves</th>\n",
       "      <th>curry powder</th>\n",
       "      <th>paneer</th>\n",
       "      <th>reduced sodium chicken stock</th>\n",
       "      <th>habanero hot sauce</th>\n",
       "    </tr>\n",
       "  </thead>\n",
       "  <tbody>\n",
       "    <tr>\n",
       "      <th>0</th>\n",
       "      <td>0</td>\n",
       "      <td>0</td>\n",
       "      <td>0</td>\n",
       "      <td>0</td>\n",
       "      <td>0</td>\n",
       "      <td>0</td>\n",
       "      <td>0</td>\n",
       "      <td>0</td>\n",
       "      <td>0</td>\n",
       "      <td>0</td>\n",
       "      <td>...</td>\n",
       "      <td>0</td>\n",
       "      <td>0</td>\n",
       "      <td>0</td>\n",
       "      <td>0</td>\n",
       "      <td>0</td>\n",
       "      <td>0</td>\n",
       "      <td>0</td>\n",
       "      <td>0</td>\n",
       "      <td>0</td>\n",
       "      <td>0</td>\n",
       "    </tr>\n",
       "    <tr>\n",
       "      <th>1</th>\n",
       "      <td>0</td>\n",
       "      <td>0</td>\n",
       "      <td>0</td>\n",
       "      <td>0</td>\n",
       "      <td>0</td>\n",
       "      <td>0</td>\n",
       "      <td>0</td>\n",
       "      <td>0</td>\n",
       "      <td>0</td>\n",
       "      <td>0</td>\n",
       "      <td>...</td>\n",
       "      <td>0</td>\n",
       "      <td>0</td>\n",
       "      <td>0</td>\n",
       "      <td>0</td>\n",
       "      <td>0</td>\n",
       "      <td>0</td>\n",
       "      <td>0</td>\n",
       "      <td>0</td>\n",
       "      <td>0</td>\n",
       "      <td>0</td>\n",
       "    </tr>\n",
       "    <tr>\n",
       "      <th>2</th>\n",
       "      <td>0</td>\n",
       "      <td>0</td>\n",
       "      <td>0</td>\n",
       "      <td>0</td>\n",
       "      <td>0</td>\n",
       "      <td>0</td>\n",
       "      <td>0</td>\n",
       "      <td>0</td>\n",
       "      <td>0</td>\n",
       "      <td>0</td>\n",
       "      <td>...</td>\n",
       "      <td>0</td>\n",
       "      <td>0</td>\n",
       "      <td>0</td>\n",
       "      <td>0</td>\n",
       "      <td>0</td>\n",
       "      <td>0</td>\n",
       "      <td>0</td>\n",
       "      <td>0</td>\n",
       "      <td>0</td>\n",
       "      <td>0</td>\n",
       "    </tr>\n",
       "    <tr>\n",
       "      <th>3</th>\n",
       "      <td>0</td>\n",
       "      <td>0</td>\n",
       "      <td>0</td>\n",
       "      <td>0</td>\n",
       "      <td>0</td>\n",
       "      <td>0</td>\n",
       "      <td>0</td>\n",
       "      <td>0</td>\n",
       "      <td>0</td>\n",
       "      <td>0</td>\n",
       "      <td>...</td>\n",
       "      <td>0</td>\n",
       "      <td>0</td>\n",
       "      <td>0</td>\n",
       "      <td>0</td>\n",
       "      <td>0</td>\n",
       "      <td>0</td>\n",
       "      <td>0</td>\n",
       "      <td>0</td>\n",
       "      <td>0</td>\n",
       "      <td>0</td>\n",
       "    </tr>\n",
       "    <tr>\n",
       "      <th>4</th>\n",
       "      <td>0</td>\n",
       "      <td>0</td>\n",
       "      <td>0</td>\n",
       "      <td>0</td>\n",
       "      <td>0</td>\n",
       "      <td>0</td>\n",
       "      <td>0</td>\n",
       "      <td>0</td>\n",
       "      <td>0</td>\n",
       "      <td>0</td>\n",
       "      <td>...</td>\n",
       "      <td>0</td>\n",
       "      <td>0</td>\n",
       "      <td>0</td>\n",
       "      <td>0</td>\n",
       "      <td>0</td>\n",
       "      <td>0</td>\n",
       "      <td>0</td>\n",
       "      <td>0</td>\n",
       "      <td>0</td>\n",
       "      <td>0</td>\n",
       "    </tr>\n",
       "  </tbody>\n",
       "</table>\n",
       "<p>5 rows × 6714 columns</p>\n",
       "</div>"
      ],
      "text/plain": [
       "   canned tuna  turkey breakfast sausage  ice  liquorice  boneless beef roast  \\\n",
       "0            0                         0    0          0                    0   \n",
       "1            0                         0    0          0                    0   \n",
       "2            0                         0    0          0                    0   \n",
       "3            0                         0    0          0                    0   \n",
       "4            0                         0    0          0                    0   \n",
       "\n",
       "   yellow mustard seeds  low-fat crème fraîche  fresh thyme  popcorn  \\\n",
       "0                     0                      0            0        0   \n",
       "1                     0                      0            0        0   \n",
       "2                     0                      0            0        0   \n",
       "3                     0                      0            0        0   \n",
       "4                     0                      0            0        0   \n",
       "\n",
       "   carnitas         ...          vodka sauce  gobo root  chipped beef  \\\n",
       "0         0         ...                    0          0             0   \n",
       "1         0         ...                    0          0             0   \n",
       "2         0         ...                    0          0             0   \n",
       "3         0         ...                    0          0             0   \n",
       "4         0         ...                    0          0             0   \n",
       "\n",
       "   cut up chicken  medjool date  napa cabbage leaves  curry powder  paneer  \\\n",
       "0               0             0                    0             0       0   \n",
       "1               0             0                    0             0       0   \n",
       "2               0             0                    0             0       0   \n",
       "3               0             0                    0             0       0   \n",
       "4               0             0                    0             0       0   \n",
       "\n",
       "   reduced sodium chicken stock  habanero hot sauce  \n",
       "0                             0                   0  \n",
       "1                             0                   0  \n",
       "2                             0                   0  \n",
       "3                             0                   0  \n",
       "4                             0                   0  \n",
       "\n",
       "[5 rows x 6714 columns]"
      ]
     },
     "execution_count": 17,
     "metadata": {},
     "output_type": "execute_result"
    }
   ],
   "source": [
    "# df_one_hot_encode = df_one_hot_encode.fillna(0)\n",
    "df_one_hot_encode.head(5)"
   ]
  },
  {
   "cell_type": "code",
   "execution_count": 18,
   "metadata": {
    "collapsed": false
   },
   "outputs": [
    {
     "name": "stdout",
     "output_type": "stream",
     "text": [
      "i=  0 ; j=  0 ;  romaine lettuce\n",
      "i=  0 ; j=  1 ;  black olives\n",
      "i=  0 ; j=  2 ;  grape tomatoes\n",
      "i=  0 ; j=  3 ;  garlic\n",
      "i=  0 ; j=  4 ;  pepper\n",
      "i=  0 ; j=  5 ;  purple onion\n",
      "i=  0 ; j=  6 ;  seasoning\n",
      "i=  0 ; j=  7 ;  garbanzo beans\n",
      "i=  0 ; j=  8 ;  feta cheese crumbles\n",
      "i=  1 ; j=  9 ;  milk\n",
      "i=  1 ; j=  10 ;  vegetable oil\n",
      "i=  2 ; j=  11 ;  chicken livers\n",
      "i=  4 ; j=  12 ;  passata\n",
      "i=  4 ; j=  13 ;  oil\n",
      "i=  4 ; j=  14 ;  ground cumin\n",
      "i=  4 ; j=  15 ;  boneless chicken skinless thigh\n",
      "i=  4 ; j=  16 ;  garam masala\n",
      "i=  4 ; j=  17 ;  double cream\n",
      "i=  4 ; j=  18 ;  natural yogurt\n",
      "i=  4 ; j=  19 ;  bay leaf\n",
      "i=  55 ; j=  20 ;  all-purpose flour\n",
      "i=  55 ; j=  21 ;  ground beef\n",
      "i=  251 ; j=  22 ;  tomato ketchup\n",
      "i=  251 ; j=  23 ;  coriander\n",
      "i=  294 ; j=  24 ;  garlic\n",
      "i=  294 ; j=  25 ;  filet\n",
      "i=  294 ; j=  26 ;  thyme leaves\n",
      "i=  294 ; j=  27 ;  chipotles in adobo\n",
      "i=  294 ; j=  28 ;  unsweetened cocoa powder\n",
      "i=  294 ; j=  29 ;  black pepper\n",
      "i=  294 ; j=  30 ;  honey\n",
      "i=  294 ; j=  31 ;  boneless skinless chicken breasts\n",
      "i=  294 ; j=  32 ;  heavy cream\n",
      "i=  294 ; j=  33 ;  cracked black pepper\n",
      "i=  294 ; j=  34 ;  coffee beans\n",
      "i=  294 ; j=  35 ;  garlic cloves\n",
      "i=  294 ; j=  36 ;  steak\n",
      "i=  294 ; j=  37 ;  onions\n",
      "i=  345 ; j=  38 ;  chili garlic paste\n",
      "i=  345 ; j=  39 ;  white sugar\n",
      "i=  10513 ; j=  40 ;  french fried onions\n",
      "i=  10513 ; j=  41 ;  ricotta cheese\n",
      "i=  10513 ; j=  42 ;  fresh green bean\n",
      "i=  10513 ; j=  43 ;  chicken stock cubes\n",
      "i=  10513 ; j=  44 ;  broccoli\n",
      "i=  10513 ; j=  45 ;  tortilla chips\n",
      "i=  10513 ; j=  46 ;  shredded mozzarella cheese\n",
      "i=  10513 ; j=  47 ;  ground turkey\n",
      "i=  10513 ; j=  48 ;  cabbage\n",
      "i=  15289 ; j=  49 ;  fresh basil\n",
      "i=  15289 ; j=  50 ;  fresh leav spinach\n",
      "i=  15289 ; j=  51 ;  water\n",
      "i=  15289 ; j=  52 ;  sun-dried tomatoes\n",
      "i=  15289 ; j=  53 ;  ground pepper\n",
      "i=  15289 ; j=  54 ;  grated parmesan cheese\n",
      "i=  15289 ; j=  55 ;  boneless skinless chicken breasts\n",
      "i=  15289 ; j=  56 ;  chicken cutlets\n",
      "i=  15289 ; j=  57 ;  butter\n",
      "i=  15289 ; j=  58 ;  multi-grain penne pasta\n",
      "i=  15289 ; j=  59 ;  extra-virgin olive oil\n",
      "i=  15289 ; j=  60 ;  cilantro leaves\n",
      "i=  15289 ; j=  61 ;  green pepper\n",
      "i=  15289 ; j=  62 ;  shredded mozzarella cheese\n",
      "i=  15289 ; j=  63 ;  fresh parsley\n",
      "i=  15289 ; j=  64 ;  spaghetti\n"
     ]
    }
   ],
   "source": [
    "i = 0\n",
    "j = 0\n",
    "while i < len(ingredients_list):\n",
    "    while j < len(ingredients_list[i]):\n",
    "        df_one_hot_encode.set_value(i, ingredients_list[i][j], 1)\n",
    "        print(\"i= \" , i, \"; j= \",  j, \"; \", ingredients_list[i][j])\n",
    "        j+=1\n",
    "    i+=1"
   ]
  },
  {
   "cell_type": "code",
   "execution_count": 19,
   "metadata": {
    "collapsed": false
   },
   "outputs": [
    {
     "data": {
      "text/plain": [
       "9"
      ]
     },
     "execution_count": 19,
     "metadata": {},
     "output_type": "execute_result"
    }
   ],
   "source": [
    "len(ingredients_list[0])"
   ]
  },
  {
   "cell_type": "code",
   "execution_count": 20,
   "metadata": {
    "collapsed": false
   },
   "outputs": [
    {
     "data": {
      "text/plain": [
       "'black olives'"
      ]
     },
     "execution_count": 20,
     "metadata": {},
     "output_type": "execute_result"
    }
   ],
   "source": [
    "ingredients_list[0][1]"
   ]
  },
  {
   "cell_type": "code",
   "execution_count": 114,
   "metadata": {
    "collapsed": false
   },
   "outputs": [],
   "source": [
    "# df_one_hot_encode.set_value(3, 'pecan halves', 0)"
   ]
  },
  {
   "cell_type": "code",
   "execution_count": 21,
   "metadata": {
    "collapsed": false
   },
   "outputs": [
    {
     "data": {
      "text/html": [
       "<div>\n",
       "<table border=\"1\" class=\"dataframe\">\n",
       "  <thead>\n",
       "    <tr style=\"text-align: right;\">\n",
       "      <th></th>\n",
       "      <th>canned tuna</th>\n",
       "      <th>turkey breakfast sausage</th>\n",
       "      <th>ice</th>\n",
       "      <th>liquorice</th>\n",
       "      <th>boneless beef roast</th>\n",
       "      <th>yellow mustard seeds</th>\n",
       "      <th>low-fat crème fraîche</th>\n",
       "      <th>fresh thyme</th>\n",
       "      <th>popcorn</th>\n",
       "      <th>carnitas</th>\n",
       "      <th>...</th>\n",
       "      <th>vodka sauce</th>\n",
       "      <th>gobo root</th>\n",
       "      <th>chipped beef</th>\n",
       "      <th>cut up chicken</th>\n",
       "      <th>medjool date</th>\n",
       "      <th>napa cabbage leaves</th>\n",
       "      <th>curry powder</th>\n",
       "      <th>paneer</th>\n",
       "      <th>reduced sodium chicken stock</th>\n",
       "      <th>habanero hot sauce</th>\n",
       "    </tr>\n",
       "  </thead>\n",
       "  <tbody>\n",
       "    <tr>\n",
       "      <th>0</th>\n",
       "      <td>0</td>\n",
       "      <td>0</td>\n",
       "      <td>0</td>\n",
       "      <td>0</td>\n",
       "      <td>0</td>\n",
       "      <td>0</td>\n",
       "      <td>0</td>\n",
       "      <td>0</td>\n",
       "      <td>0</td>\n",
       "      <td>0</td>\n",
       "      <td>...</td>\n",
       "      <td>0</td>\n",
       "      <td>0</td>\n",
       "      <td>0</td>\n",
       "      <td>0</td>\n",
       "      <td>0</td>\n",
       "      <td>0</td>\n",
       "      <td>0</td>\n",
       "      <td>0</td>\n",
       "      <td>0</td>\n",
       "      <td>0</td>\n",
       "    </tr>\n",
       "    <tr>\n",
       "      <th>1</th>\n",
       "      <td>0</td>\n",
       "      <td>0</td>\n",
       "      <td>0</td>\n",
       "      <td>0</td>\n",
       "      <td>0</td>\n",
       "      <td>0</td>\n",
       "      <td>0</td>\n",
       "      <td>0</td>\n",
       "      <td>0</td>\n",
       "      <td>0</td>\n",
       "      <td>...</td>\n",
       "      <td>0</td>\n",
       "      <td>0</td>\n",
       "      <td>0</td>\n",
       "      <td>0</td>\n",
       "      <td>0</td>\n",
       "      <td>0</td>\n",
       "      <td>0</td>\n",
       "      <td>0</td>\n",
       "      <td>0</td>\n",
       "      <td>0</td>\n",
       "    </tr>\n",
       "    <tr>\n",
       "      <th>2</th>\n",
       "      <td>0</td>\n",
       "      <td>0</td>\n",
       "      <td>0</td>\n",
       "      <td>0</td>\n",
       "      <td>0</td>\n",
       "      <td>0</td>\n",
       "      <td>0</td>\n",
       "      <td>0</td>\n",
       "      <td>0</td>\n",
       "      <td>0</td>\n",
       "      <td>...</td>\n",
       "      <td>0</td>\n",
       "      <td>0</td>\n",
       "      <td>0</td>\n",
       "      <td>0</td>\n",
       "      <td>0</td>\n",
       "      <td>0</td>\n",
       "      <td>0</td>\n",
       "      <td>0</td>\n",
       "      <td>0</td>\n",
       "      <td>0</td>\n",
       "    </tr>\n",
       "    <tr>\n",
       "      <th>3</th>\n",
       "      <td>0</td>\n",
       "      <td>0</td>\n",
       "      <td>0</td>\n",
       "      <td>0</td>\n",
       "      <td>0</td>\n",
       "      <td>0</td>\n",
       "      <td>0</td>\n",
       "      <td>0</td>\n",
       "      <td>0</td>\n",
       "      <td>0</td>\n",
       "      <td>...</td>\n",
       "      <td>0</td>\n",
       "      <td>0</td>\n",
       "      <td>0</td>\n",
       "      <td>0</td>\n",
       "      <td>0</td>\n",
       "      <td>0</td>\n",
       "      <td>0</td>\n",
       "      <td>0</td>\n",
       "      <td>0</td>\n",
       "      <td>0</td>\n",
       "    </tr>\n",
       "    <tr>\n",
       "      <th>4</th>\n",
       "      <td>0</td>\n",
       "      <td>0</td>\n",
       "      <td>0</td>\n",
       "      <td>0</td>\n",
       "      <td>0</td>\n",
       "      <td>0</td>\n",
       "      <td>0</td>\n",
       "      <td>0</td>\n",
       "      <td>0</td>\n",
       "      <td>0</td>\n",
       "      <td>...</td>\n",
       "      <td>0</td>\n",
       "      <td>0</td>\n",
       "      <td>0</td>\n",
       "      <td>0</td>\n",
       "      <td>0</td>\n",
       "      <td>0</td>\n",
       "      <td>0</td>\n",
       "      <td>0</td>\n",
       "      <td>0</td>\n",
       "      <td>0</td>\n",
       "    </tr>\n",
       "  </tbody>\n",
       "</table>\n",
       "<p>5 rows × 6714 columns</p>\n",
       "</div>"
      ],
      "text/plain": [
       "   canned tuna  turkey breakfast sausage  ice  liquorice  boneless beef roast  \\\n",
       "0            0                         0    0          0                    0   \n",
       "1            0                         0    0          0                    0   \n",
       "2            0                         0    0          0                    0   \n",
       "3            0                         0    0          0                    0   \n",
       "4            0                         0    0          0                    0   \n",
       "\n",
       "   yellow mustard seeds  low-fat crème fraîche  fresh thyme  popcorn  \\\n",
       "0                     0                      0            0        0   \n",
       "1                     0                      0            0        0   \n",
       "2                     0                      0            0        0   \n",
       "3                     0                      0            0        0   \n",
       "4                     0                      0            0        0   \n",
       "\n",
       "   carnitas         ...          vodka sauce  gobo root  chipped beef  \\\n",
       "0         0         ...                    0          0             0   \n",
       "1         0         ...                    0          0             0   \n",
       "2         0         ...                    0          0             0   \n",
       "3         0         ...                    0          0             0   \n",
       "4         0         ...                    0          0             0   \n",
       "\n",
       "   cut up chicken  medjool date  napa cabbage leaves  curry powder  paneer  \\\n",
       "0               0             0                    0             0       0   \n",
       "1               0             0                    0             0       0   \n",
       "2               0             0                    0             0       0   \n",
       "3               0             0                    0             0       0   \n",
       "4               0             0                    0             0       0   \n",
       "\n",
       "   reduced sodium chicken stock  habanero hot sauce  \n",
       "0                             0                   0  \n",
       "1                             0                   0  \n",
       "2                             0                   0  \n",
       "3                             0                   0  \n",
       "4                             0                   0  \n",
       "\n",
       "[5 rows x 6714 columns]"
      ]
     },
     "execution_count": 21,
     "metadata": {},
     "output_type": "execute_result"
    }
   ],
   "source": [
    "df_one_hot_encode.head(5)"
   ]
  },
  {
   "cell_type": "code",
   "execution_count": 22,
   "metadata": {
    "collapsed": false
   },
   "outputs": [],
   "source": [
    "df = df.drop( ['ingredients', 'id'],axis=1)"
   ]
  },
  {
   "cell_type": "code",
   "execution_count": 23,
   "metadata": {
    "collapsed": true
   },
   "outputs": [],
   "source": [
    "df_full = pd.concat((df, df_one_hot_encode),axis=1)"
   ]
  },
  {
   "cell_type": "code",
   "execution_count": 24,
   "metadata": {
    "collapsed": false
   },
   "outputs": [
    {
     "data": {
      "text/html": [
       "<div>\n",
       "<table border=\"1\" class=\"dataframe\">\n",
       "  <thead>\n",
       "    <tr style=\"text-align: right;\">\n",
       "      <th></th>\n",
       "      <th>cuisine</th>\n",
       "      <th>canned tuna</th>\n",
       "      <th>turkey breakfast sausage</th>\n",
       "      <th>ice</th>\n",
       "      <th>liquorice</th>\n",
       "      <th>boneless beef roast</th>\n",
       "      <th>yellow mustard seeds</th>\n",
       "      <th>low-fat crème fraîche</th>\n",
       "      <th>fresh thyme</th>\n",
       "      <th>popcorn</th>\n",
       "      <th>...</th>\n",
       "      <th>vodka sauce</th>\n",
       "      <th>gobo root</th>\n",
       "      <th>chipped beef</th>\n",
       "      <th>cut up chicken</th>\n",
       "      <th>medjool date</th>\n",
       "      <th>napa cabbage leaves</th>\n",
       "      <th>curry powder</th>\n",
       "      <th>paneer</th>\n",
       "      <th>reduced sodium chicken stock</th>\n",
       "      <th>habanero hot sauce</th>\n",
       "    </tr>\n",
       "  </thead>\n",
       "  <tbody>\n",
       "    <tr>\n",
       "      <th>0</th>\n",
       "      <td>greek</td>\n",
       "      <td>0</td>\n",
       "      <td>0</td>\n",
       "      <td>0</td>\n",
       "      <td>0</td>\n",
       "      <td>0</td>\n",
       "      <td>0</td>\n",
       "      <td>0</td>\n",
       "      <td>0</td>\n",
       "      <td>0</td>\n",
       "      <td>...</td>\n",
       "      <td>0</td>\n",
       "      <td>0</td>\n",
       "      <td>0</td>\n",
       "      <td>0</td>\n",
       "      <td>0</td>\n",
       "      <td>0</td>\n",
       "      <td>0</td>\n",
       "      <td>0</td>\n",
       "      <td>0</td>\n",
       "      <td>0</td>\n",
       "    </tr>\n",
       "    <tr>\n",
       "      <th>1</th>\n",
       "      <td>southern_us</td>\n",
       "      <td>0</td>\n",
       "      <td>0</td>\n",
       "      <td>0</td>\n",
       "      <td>0</td>\n",
       "      <td>0</td>\n",
       "      <td>0</td>\n",
       "      <td>0</td>\n",
       "      <td>0</td>\n",
       "      <td>0</td>\n",
       "      <td>...</td>\n",
       "      <td>0</td>\n",
       "      <td>0</td>\n",
       "      <td>0</td>\n",
       "      <td>0</td>\n",
       "      <td>0</td>\n",
       "      <td>0</td>\n",
       "      <td>0</td>\n",
       "      <td>0</td>\n",
       "      <td>0</td>\n",
       "      <td>0</td>\n",
       "    </tr>\n",
       "    <tr>\n",
       "      <th>2</th>\n",
       "      <td>filipino</td>\n",
       "      <td>0</td>\n",
       "      <td>0</td>\n",
       "      <td>0</td>\n",
       "      <td>0</td>\n",
       "      <td>0</td>\n",
       "      <td>0</td>\n",
       "      <td>0</td>\n",
       "      <td>0</td>\n",
       "      <td>0</td>\n",
       "      <td>...</td>\n",
       "      <td>0</td>\n",
       "      <td>0</td>\n",
       "      <td>0</td>\n",
       "      <td>0</td>\n",
       "      <td>0</td>\n",
       "      <td>0</td>\n",
       "      <td>0</td>\n",
       "      <td>0</td>\n",
       "      <td>0</td>\n",
       "      <td>0</td>\n",
       "    </tr>\n",
       "    <tr>\n",
       "      <th>3</th>\n",
       "      <td>indian</td>\n",
       "      <td>0</td>\n",
       "      <td>0</td>\n",
       "      <td>0</td>\n",
       "      <td>0</td>\n",
       "      <td>0</td>\n",
       "      <td>0</td>\n",
       "      <td>0</td>\n",
       "      <td>0</td>\n",
       "      <td>0</td>\n",
       "      <td>...</td>\n",
       "      <td>0</td>\n",
       "      <td>0</td>\n",
       "      <td>0</td>\n",
       "      <td>0</td>\n",
       "      <td>0</td>\n",
       "      <td>0</td>\n",
       "      <td>0</td>\n",
       "      <td>0</td>\n",
       "      <td>0</td>\n",
       "      <td>0</td>\n",
       "    </tr>\n",
       "    <tr>\n",
       "      <th>4</th>\n",
       "      <td>indian</td>\n",
       "      <td>0</td>\n",
       "      <td>0</td>\n",
       "      <td>0</td>\n",
       "      <td>0</td>\n",
       "      <td>0</td>\n",
       "      <td>0</td>\n",
       "      <td>0</td>\n",
       "      <td>0</td>\n",
       "      <td>0</td>\n",
       "      <td>...</td>\n",
       "      <td>0</td>\n",
       "      <td>0</td>\n",
       "      <td>0</td>\n",
       "      <td>0</td>\n",
       "      <td>0</td>\n",
       "      <td>0</td>\n",
       "      <td>0</td>\n",
       "      <td>0</td>\n",
       "      <td>0</td>\n",
       "      <td>0</td>\n",
       "    </tr>\n",
       "  </tbody>\n",
       "</table>\n",
       "<p>5 rows × 6715 columns</p>\n",
       "</div>"
      ],
      "text/plain": [
       "       cuisine  canned tuna  turkey breakfast sausage  ice  liquorice  \\\n",
       "0        greek            0                         0    0          0   \n",
       "1  southern_us            0                         0    0          0   \n",
       "2     filipino            0                         0    0          0   \n",
       "3       indian            0                         0    0          0   \n",
       "4       indian            0                         0    0          0   \n",
       "\n",
       "   boneless beef roast  yellow mustard seeds  low-fat crème fraîche  \\\n",
       "0                    0                     0                      0   \n",
       "1                    0                     0                      0   \n",
       "2                    0                     0                      0   \n",
       "3                    0                     0                      0   \n",
       "4                    0                     0                      0   \n",
       "\n",
       "   fresh thyme  popcorn         ...          vodka sauce  gobo root  \\\n",
       "0            0        0         ...                    0          0   \n",
       "1            0        0         ...                    0          0   \n",
       "2            0        0         ...                    0          0   \n",
       "3            0        0         ...                    0          0   \n",
       "4            0        0         ...                    0          0   \n",
       "\n",
       "   chipped beef  cut up chicken  medjool date  napa cabbage leaves  \\\n",
       "0             0               0             0                    0   \n",
       "1             0               0             0                    0   \n",
       "2             0               0             0                    0   \n",
       "3             0               0             0                    0   \n",
       "4             0               0             0                    0   \n",
       "\n",
       "   curry powder  paneer  reduced sodium chicken stock  habanero hot sauce  \n",
       "0             0       0                             0                   0  \n",
       "1             0       0                             0                   0  \n",
       "2             0       0                             0                   0  \n",
       "3             0       0                             0                   0  \n",
       "4             0       0                             0                   0  \n",
       "\n",
       "[5 rows x 6715 columns]"
      ]
     },
     "execution_count": 24,
     "metadata": {},
     "output_type": "execute_result"
    }
   ],
   "source": [
    "df_full.head(5)"
   ]
  },
  {
   "cell_type": "code",
   "execution_count": 25,
   "metadata": {
    "collapsed": false
   },
   "outputs": [],
   "source": [
    "df_full['cuisine'] = pd.factorize(df_full['cuisine'])[0]"
   ]
  },
  {
   "cell_type": "code",
   "execution_count": 26,
   "metadata": {
    "collapsed": false
   },
   "outputs": [
    {
     "data": {
      "text/html": [
       "<div>\n",
       "<table border=\"1\" class=\"dataframe\">\n",
       "  <thead>\n",
       "    <tr style=\"text-align: right;\">\n",
       "      <th></th>\n",
       "      <th>cuisine</th>\n",
       "      <th>canned tuna</th>\n",
       "      <th>turkey breakfast sausage</th>\n",
       "      <th>ice</th>\n",
       "      <th>liquorice</th>\n",
       "      <th>boneless beef roast</th>\n",
       "      <th>yellow mustard seeds</th>\n",
       "      <th>low-fat crème fraîche</th>\n",
       "      <th>fresh thyme</th>\n",
       "      <th>popcorn</th>\n",
       "      <th>...</th>\n",
       "      <th>vodka sauce</th>\n",
       "      <th>gobo root</th>\n",
       "      <th>chipped beef</th>\n",
       "      <th>cut up chicken</th>\n",
       "      <th>medjool date</th>\n",
       "      <th>napa cabbage leaves</th>\n",
       "      <th>curry powder</th>\n",
       "      <th>paneer</th>\n",
       "      <th>reduced sodium chicken stock</th>\n",
       "      <th>habanero hot sauce</th>\n",
       "    </tr>\n",
       "  </thead>\n",
       "  <tbody>\n",
       "    <tr>\n",
       "      <th>39769</th>\n",
       "      <td>16</td>\n",
       "      <td>0</td>\n",
       "      <td>0</td>\n",
       "      <td>0</td>\n",
       "      <td>0</td>\n",
       "      <td>0</td>\n",
       "      <td>0</td>\n",
       "      <td>0</td>\n",
       "      <td>0</td>\n",
       "      <td>0</td>\n",
       "      <td>...</td>\n",
       "      <td>0</td>\n",
       "      <td>0</td>\n",
       "      <td>0</td>\n",
       "      <td>0</td>\n",
       "      <td>0</td>\n",
       "      <td>0</td>\n",
       "      <td>0</td>\n",
       "      <td>0</td>\n",
       "      <td>0</td>\n",
       "      <td>0</td>\n",
       "    </tr>\n",
       "    <tr>\n",
       "      <th>39770</th>\n",
       "      <td>6</td>\n",
       "      <td>0</td>\n",
       "      <td>0</td>\n",
       "      <td>0</td>\n",
       "      <td>0</td>\n",
       "      <td>0</td>\n",
       "      <td>0</td>\n",
       "      <td>0</td>\n",
       "      <td>0</td>\n",
       "      <td>0</td>\n",
       "      <td>...</td>\n",
       "      <td>0</td>\n",
       "      <td>0</td>\n",
       "      <td>0</td>\n",
       "      <td>0</td>\n",
       "      <td>0</td>\n",
       "      <td>0</td>\n",
       "      <td>0</td>\n",
       "      <td>0</td>\n",
       "      <td>0</td>\n",
       "      <td>0</td>\n",
       "    </tr>\n",
       "    <tr>\n",
       "      <th>39771</th>\n",
       "      <td>16</td>\n",
       "      <td>0</td>\n",
       "      <td>0</td>\n",
       "      <td>0</td>\n",
       "      <td>0</td>\n",
       "      <td>0</td>\n",
       "      <td>0</td>\n",
       "      <td>0</td>\n",
       "      <td>0</td>\n",
       "      <td>0</td>\n",
       "      <td>...</td>\n",
       "      <td>0</td>\n",
       "      <td>0</td>\n",
       "      <td>0</td>\n",
       "      <td>0</td>\n",
       "      <td>0</td>\n",
       "      <td>0</td>\n",
       "      <td>0</td>\n",
       "      <td>0</td>\n",
       "      <td>0</td>\n",
       "      <td>0</td>\n",
       "    </tr>\n",
       "    <tr>\n",
       "      <th>39772</th>\n",
       "      <td>8</td>\n",
       "      <td>0</td>\n",
       "      <td>0</td>\n",
       "      <td>0</td>\n",
       "      <td>0</td>\n",
       "      <td>0</td>\n",
       "      <td>0</td>\n",
       "      <td>0</td>\n",
       "      <td>0</td>\n",
       "      <td>0</td>\n",
       "      <td>...</td>\n",
       "      <td>0</td>\n",
       "      <td>0</td>\n",
       "      <td>0</td>\n",
       "      <td>0</td>\n",
       "      <td>0</td>\n",
       "      <td>0</td>\n",
       "      <td>0</td>\n",
       "      <td>0</td>\n",
       "      <td>0</td>\n",
       "      <td>0</td>\n",
       "    </tr>\n",
       "    <tr>\n",
       "      <th>39773</th>\n",
       "      <td>7</td>\n",
       "      <td>0</td>\n",
       "      <td>0</td>\n",
       "      <td>0</td>\n",
       "      <td>0</td>\n",
       "      <td>0</td>\n",
       "      <td>0</td>\n",
       "      <td>0</td>\n",
       "      <td>0</td>\n",
       "      <td>0</td>\n",
       "      <td>...</td>\n",
       "      <td>0</td>\n",
       "      <td>0</td>\n",
       "      <td>0</td>\n",
       "      <td>0</td>\n",
       "      <td>0</td>\n",
       "      <td>0</td>\n",
       "      <td>0</td>\n",
       "      <td>0</td>\n",
       "      <td>0</td>\n",
       "      <td>0</td>\n",
       "    </tr>\n",
       "  </tbody>\n",
       "</table>\n",
       "<p>5 rows × 6715 columns</p>\n",
       "</div>"
      ],
      "text/plain": [
       "       cuisine  canned tuna  turkey breakfast sausage  ice  liquorice  \\\n",
       "39769       16            0                         0    0          0   \n",
       "39770        6            0                         0    0          0   \n",
       "39771       16            0                         0    0          0   \n",
       "39772        8            0                         0    0          0   \n",
       "39773        7            0                         0    0          0   \n",
       "\n",
       "       boneless beef roast  yellow mustard seeds  low-fat crème fraîche  \\\n",
       "39769                    0                     0                      0   \n",
       "39770                    0                     0                      0   \n",
       "39771                    0                     0                      0   \n",
       "39772                    0                     0                      0   \n",
       "39773                    0                     0                      0   \n",
       "\n",
       "       fresh thyme  popcorn         ...          vodka sauce  gobo root  \\\n",
       "39769            0        0         ...                    0          0   \n",
       "39770            0        0         ...                    0          0   \n",
       "39771            0        0         ...                    0          0   \n",
       "39772            0        0         ...                    0          0   \n",
       "39773            0        0         ...                    0          0   \n",
       "\n",
       "       chipped beef  cut up chicken  medjool date  napa cabbage leaves  \\\n",
       "39769             0               0             0                    0   \n",
       "39770             0               0             0                    0   \n",
       "39771             0               0             0                    0   \n",
       "39772             0               0             0                    0   \n",
       "39773             0               0             0                    0   \n",
       "\n",
       "       curry powder  paneer  reduced sodium chicken stock  habanero hot sauce  \n",
       "39769             0       0                             0                   0  \n",
       "39770             0       0                             0                   0  \n",
       "39771             0       0                             0                   0  \n",
       "39772             0       0                             0                   0  \n",
       "39773             0       0                             0                   0  \n",
       "\n",
       "[5 rows x 6715 columns]"
      ]
     },
     "execution_count": 26,
     "metadata": {},
     "output_type": "execute_result"
    }
   ],
   "source": [
    "df_full.tail(5)"
   ]
  },
  {
   "cell_type": "code",
   "execution_count": 27,
   "metadata": {
    "collapsed": true
   },
   "outputs": [],
   "source": [
    "df_full = df_full.dropna()"
   ]
  },
  {
   "cell_type": "code",
   "execution_count": 28,
   "metadata": {
    "collapsed": false
   },
   "outputs": [
    {
     "data": {
      "text/html": [
       "<div>\n",
       "<table border=\"1\" class=\"dataframe\">\n",
       "  <thead>\n",
       "    <tr style=\"text-align: right;\">\n",
       "      <th></th>\n",
       "      <th>cuisine</th>\n",
       "      <th>canned tuna</th>\n",
       "      <th>turkey breakfast sausage</th>\n",
       "      <th>ice</th>\n",
       "      <th>liquorice</th>\n",
       "      <th>boneless beef roast</th>\n",
       "      <th>yellow mustard seeds</th>\n",
       "      <th>low-fat crème fraîche</th>\n",
       "      <th>fresh thyme</th>\n",
       "      <th>popcorn</th>\n",
       "      <th>...</th>\n",
       "      <th>vodka sauce</th>\n",
       "      <th>gobo root</th>\n",
       "      <th>chipped beef</th>\n",
       "      <th>cut up chicken</th>\n",
       "      <th>medjool date</th>\n",
       "      <th>napa cabbage leaves</th>\n",
       "      <th>curry powder</th>\n",
       "      <th>paneer</th>\n",
       "      <th>reduced sodium chicken stock</th>\n",
       "      <th>habanero hot sauce</th>\n",
       "    </tr>\n",
       "  </thead>\n",
       "  <tbody>\n",
       "    <tr>\n",
       "      <th>39769</th>\n",
       "      <td>16</td>\n",
       "      <td>0</td>\n",
       "      <td>0</td>\n",
       "      <td>0</td>\n",
       "      <td>0</td>\n",
       "      <td>0</td>\n",
       "      <td>0</td>\n",
       "      <td>0</td>\n",
       "      <td>0</td>\n",
       "      <td>0</td>\n",
       "      <td>...</td>\n",
       "      <td>0</td>\n",
       "      <td>0</td>\n",
       "      <td>0</td>\n",
       "      <td>0</td>\n",
       "      <td>0</td>\n",
       "      <td>0</td>\n",
       "      <td>0</td>\n",
       "      <td>0</td>\n",
       "      <td>0</td>\n",
       "      <td>0</td>\n",
       "    </tr>\n",
       "    <tr>\n",
       "      <th>39770</th>\n",
       "      <td>6</td>\n",
       "      <td>0</td>\n",
       "      <td>0</td>\n",
       "      <td>0</td>\n",
       "      <td>0</td>\n",
       "      <td>0</td>\n",
       "      <td>0</td>\n",
       "      <td>0</td>\n",
       "      <td>0</td>\n",
       "      <td>0</td>\n",
       "      <td>...</td>\n",
       "      <td>0</td>\n",
       "      <td>0</td>\n",
       "      <td>0</td>\n",
       "      <td>0</td>\n",
       "      <td>0</td>\n",
       "      <td>0</td>\n",
       "      <td>0</td>\n",
       "      <td>0</td>\n",
       "      <td>0</td>\n",
       "      <td>0</td>\n",
       "    </tr>\n",
       "    <tr>\n",
       "      <th>39771</th>\n",
       "      <td>16</td>\n",
       "      <td>0</td>\n",
       "      <td>0</td>\n",
       "      <td>0</td>\n",
       "      <td>0</td>\n",
       "      <td>0</td>\n",
       "      <td>0</td>\n",
       "      <td>0</td>\n",
       "      <td>0</td>\n",
       "      <td>0</td>\n",
       "      <td>...</td>\n",
       "      <td>0</td>\n",
       "      <td>0</td>\n",
       "      <td>0</td>\n",
       "      <td>0</td>\n",
       "      <td>0</td>\n",
       "      <td>0</td>\n",
       "      <td>0</td>\n",
       "      <td>0</td>\n",
       "      <td>0</td>\n",
       "      <td>0</td>\n",
       "    </tr>\n",
       "    <tr>\n",
       "      <th>39772</th>\n",
       "      <td>8</td>\n",
       "      <td>0</td>\n",
       "      <td>0</td>\n",
       "      <td>0</td>\n",
       "      <td>0</td>\n",
       "      <td>0</td>\n",
       "      <td>0</td>\n",
       "      <td>0</td>\n",
       "      <td>0</td>\n",
       "      <td>0</td>\n",
       "      <td>...</td>\n",
       "      <td>0</td>\n",
       "      <td>0</td>\n",
       "      <td>0</td>\n",
       "      <td>0</td>\n",
       "      <td>0</td>\n",
       "      <td>0</td>\n",
       "      <td>0</td>\n",
       "      <td>0</td>\n",
       "      <td>0</td>\n",
       "      <td>0</td>\n",
       "    </tr>\n",
       "    <tr>\n",
       "      <th>39773</th>\n",
       "      <td>7</td>\n",
       "      <td>0</td>\n",
       "      <td>0</td>\n",
       "      <td>0</td>\n",
       "      <td>0</td>\n",
       "      <td>0</td>\n",
       "      <td>0</td>\n",
       "      <td>0</td>\n",
       "      <td>0</td>\n",
       "      <td>0</td>\n",
       "      <td>...</td>\n",
       "      <td>0</td>\n",
       "      <td>0</td>\n",
       "      <td>0</td>\n",
       "      <td>0</td>\n",
       "      <td>0</td>\n",
       "      <td>0</td>\n",
       "      <td>0</td>\n",
       "      <td>0</td>\n",
       "      <td>0</td>\n",
       "      <td>0</td>\n",
       "    </tr>\n",
       "  </tbody>\n",
       "</table>\n",
       "<p>5 rows × 6715 columns</p>\n",
       "</div>"
      ],
      "text/plain": [
       "       cuisine  canned tuna  turkey breakfast sausage  ice  liquorice  \\\n",
       "39769       16            0                         0    0          0   \n",
       "39770        6            0                         0    0          0   \n",
       "39771       16            0                         0    0          0   \n",
       "39772        8            0                         0    0          0   \n",
       "39773        7            0                         0    0          0   \n",
       "\n",
       "       boneless beef roast  yellow mustard seeds  low-fat crème fraîche  \\\n",
       "39769                    0                     0                      0   \n",
       "39770                    0                     0                      0   \n",
       "39771                    0                     0                      0   \n",
       "39772                    0                     0                      0   \n",
       "39773                    0                     0                      0   \n",
       "\n",
       "       fresh thyme  popcorn         ...          vodka sauce  gobo root  \\\n",
       "39769            0        0         ...                    0          0   \n",
       "39770            0        0         ...                    0          0   \n",
       "39771            0        0         ...                    0          0   \n",
       "39772            0        0         ...                    0          0   \n",
       "39773            0        0         ...                    0          0   \n",
       "\n",
       "       chipped beef  cut up chicken  medjool date  napa cabbage leaves  \\\n",
       "39769             0               0             0                    0   \n",
       "39770             0               0             0                    0   \n",
       "39771             0               0             0                    0   \n",
       "39772             0               0             0                    0   \n",
       "39773             0               0             0                    0   \n",
       "\n",
       "       curry powder  paneer  reduced sodium chicken stock  habanero hot sauce  \n",
       "39769             0       0                             0                   0  \n",
       "39770             0       0                             0                   0  \n",
       "39771             0       0                             0                   0  \n",
       "39772             0       0                             0                   0  \n",
       "39773             0       0                             0                   0  \n",
       "\n",
       "[5 rows x 6715 columns]"
      ]
     },
     "execution_count": 28,
     "metadata": {},
     "output_type": "execute_result"
    }
   ],
   "source": [
    "df_full.tail(5)"
   ]
  },
  {
   "cell_type": "code",
   "execution_count": 29,
   "metadata": {
    "collapsed": false
   },
   "outputs": [],
   "source": [
    "Y = df_full['cuisine'].as_matrix()"
   ]
  },
  {
   "cell_type": "code",
   "execution_count": 30,
   "metadata": {
    "collapsed": true
   },
   "outputs": [],
   "source": [
    "X =df_full.iloc[:,1:].values"
   ]
  },
  {
   "cell_type": "code",
   "execution_count": 31,
   "metadata": {
    "collapsed": false
   },
   "outputs": [
    {
     "name": "stdout",
     "output_type": "stream",
     "text": [
      "X shape is:  (39774, 6714) Y shape is (39774,)\n"
     ]
    }
   ],
   "source": [
    "print (\"X shape is: \", X.shape, \"Y shape is\" , Y.shape, )"
   ]
  },
  {
   "cell_type": "code",
   "execution_count": 32,
   "metadata": {
    "collapsed": false
   },
   "outputs": [
    {
     "data": {
      "text/plain": [
       "(False, False)"
      ]
     },
     "execution_count": 32,
     "metadata": {},
     "output_type": "execute_result"
    }
   ],
   "source": [
    "##make sure there are no nan values\n",
    "np.any(np.isnan(X)), np.any(np.isnan(Y))"
   ]
  },
  {
   "cell_type": "code",
   "execution_count": 35,
   "metadata": {
    "collapsed": false
   },
   "outputs": [
    {
     "name": "stdout",
     "output_type": "stream",
     "text": [
      "True\n"
     ]
    }
   ],
   "source": [
    "if 1 in X:\n",
    "    print(True)"
   ]
  },
  {
   "cell_type": "code",
   "execution_count": 36,
   "metadata": {
    "collapsed": false
   },
   "outputs": [],
   "source": [
    "X_train, X_test, Y_train, Y_test = cross_validation.train_test_split(\n",
    "    X, Y, test_size=0.25, random_state=42)"
   ]
  },
  {
   "cell_type": "code",
   "execution_count": 37,
   "metadata": {
    "collapsed": false
   },
   "outputs": [
    {
     "data": {
      "text/plain": [
       "0.19609814963797265"
      ]
     },
     "execution_count": 37,
     "metadata": {},
     "output_type": "execute_result"
    }
   ],
   "source": [
    "clf = LogisticRegression(C=1, multi_class= 'ovr')\n",
    "clf.fit((X_train),Y_train)\n",
    "clf.score((X_test),Y_test)"
   ]
  },
  {
   "cell_type": "code",
   "execution_count": 38,
   "metadata": {
    "collapsed": true
   },
   "outputs": [],
   "source": [
    "from sklearn.naive_bayes import GaussianNB\n",
    "gnb = GaussianNB()\n",
    "y_pred = gnb.fit(X_train, Y_train).predict(X_test)"
   ]
  },
  {
   "cell_type": "code",
   "execution_count": 39,
   "metadata": {
    "collapsed": false
   },
   "outputs": [
    {
     "name": "stdout",
     "output_type": "stream",
     "text": [
      "Number of mislabeled points out of a total %d points : %d (array([ 0.,  0.,  0., ...,  0.,  0.,  0.]), 8882)\n"
     ]
    }
   ],
   "source": [
    "print(\"Number of mislabeled points out of a total %d points : %d\", (X_test[0],(Y_test != y_pred).sum()))"
   ]
  },
  {
   "cell_type": "code",
   "execution_count": 40,
   "metadata": {
    "collapsed": false
   },
   "outputs": [
    {
     "name": "stdout",
     "output_type": "stream",
     "text": [
      "Number of mislabeled points out of a total %d points : %d (array([ 0.,  0.,  0., ...,  0.,  0.,  0.]), 0.89320193081255028)\n"
     ]
    }
   ],
   "source": [
    "from sklearn.naive_bayes import BernoulliNB\n",
    "bnb = BernoulliNB()\n",
    "y_pred_bnb = bnb.fit(X_train, Y_train).predict(X_test)\n",
    "print(\"Number of mislabeled points out of a total %d points : %d\", (X_test[0],((Y_test != y_pred).sum())/len(Y_test)))"
   ]
  },
  {
   "cell_type": "code",
   "execution_count": 42,
   "metadata": {
    "collapsed": false
   },
   "outputs": [
    {
     "data": {
      "text/html": [
       "<div>\n",
       "<table border=\"1\" class=\"dataframe\">\n",
       "  <thead>\n",
       "    <tr style=\"text-align: right;\">\n",
       "      <th></th>\n",
       "      <th>cuisine</th>\n",
       "      <th>canned tuna</th>\n",
       "      <th>turkey breakfast sausage</th>\n",
       "      <th>ice</th>\n",
       "      <th>liquorice</th>\n",
       "      <th>boneless beef roast</th>\n",
       "      <th>yellow mustard seeds</th>\n",
       "      <th>low-fat crème fraîche</th>\n",
       "      <th>fresh thyme</th>\n",
       "      <th>popcorn</th>\n",
       "      <th>...</th>\n",
       "      <th>vodka sauce</th>\n",
       "      <th>gobo root</th>\n",
       "      <th>chipped beef</th>\n",
       "      <th>cut up chicken</th>\n",
       "      <th>medjool date</th>\n",
       "      <th>napa cabbage leaves</th>\n",
       "      <th>curry powder</th>\n",
       "      <th>paneer</th>\n",
       "      <th>reduced sodium chicken stock</th>\n",
       "      <th>habanero hot sauce</th>\n",
       "    </tr>\n",
       "  </thead>\n",
       "  <tbody>\n",
       "    <tr>\n",
       "      <th>0</th>\n",
       "      <td>0</td>\n",
       "      <td>0</td>\n",
       "      <td>0</td>\n",
       "      <td>0</td>\n",
       "      <td>0</td>\n",
       "      <td>0</td>\n",
       "      <td>0</td>\n",
       "      <td>0</td>\n",
       "      <td>0</td>\n",
       "      <td>0</td>\n",
       "      <td>...</td>\n",
       "      <td>0</td>\n",
       "      <td>0</td>\n",
       "      <td>0</td>\n",
       "      <td>0</td>\n",
       "      <td>0</td>\n",
       "      <td>0</td>\n",
       "      <td>0</td>\n",
       "      <td>0</td>\n",
       "      <td>0</td>\n",
       "      <td>0</td>\n",
       "    </tr>\n",
       "    <tr>\n",
       "      <th>1</th>\n",
       "      <td>1</td>\n",
       "      <td>0</td>\n",
       "      <td>0</td>\n",
       "      <td>0</td>\n",
       "      <td>0</td>\n",
       "      <td>0</td>\n",
       "      <td>0</td>\n",
       "      <td>0</td>\n",
       "      <td>0</td>\n",
       "      <td>0</td>\n",
       "      <td>...</td>\n",
       "      <td>0</td>\n",
       "      <td>0</td>\n",
       "      <td>0</td>\n",
       "      <td>0</td>\n",
       "      <td>0</td>\n",
       "      <td>0</td>\n",
       "      <td>0</td>\n",
       "      <td>0</td>\n",
       "      <td>0</td>\n",
       "      <td>0</td>\n",
       "    </tr>\n",
       "    <tr>\n",
       "      <th>2</th>\n",
       "      <td>2</td>\n",
       "      <td>0</td>\n",
       "      <td>0</td>\n",
       "      <td>0</td>\n",
       "      <td>0</td>\n",
       "      <td>0</td>\n",
       "      <td>0</td>\n",
       "      <td>0</td>\n",
       "      <td>0</td>\n",
       "      <td>0</td>\n",
       "      <td>...</td>\n",
       "      <td>0</td>\n",
       "      <td>0</td>\n",
       "      <td>0</td>\n",
       "      <td>0</td>\n",
       "      <td>0</td>\n",
       "      <td>0</td>\n",
       "      <td>0</td>\n",
       "      <td>0</td>\n",
       "      <td>0</td>\n",
       "      <td>0</td>\n",
       "    </tr>\n",
       "    <tr>\n",
       "      <th>3</th>\n",
       "      <td>3</td>\n",
       "      <td>0</td>\n",
       "      <td>0</td>\n",
       "      <td>0</td>\n",
       "      <td>0</td>\n",
       "      <td>0</td>\n",
       "      <td>0</td>\n",
       "      <td>0</td>\n",
       "      <td>0</td>\n",
       "      <td>0</td>\n",
       "      <td>...</td>\n",
       "      <td>0</td>\n",
       "      <td>0</td>\n",
       "      <td>0</td>\n",
       "      <td>0</td>\n",
       "      <td>0</td>\n",
       "      <td>0</td>\n",
       "      <td>0</td>\n",
       "      <td>0</td>\n",
       "      <td>0</td>\n",
       "      <td>0</td>\n",
       "    </tr>\n",
       "    <tr>\n",
       "      <th>4</th>\n",
       "      <td>3</td>\n",
       "      <td>0</td>\n",
       "      <td>0</td>\n",
       "      <td>0</td>\n",
       "      <td>0</td>\n",
       "      <td>0</td>\n",
       "      <td>0</td>\n",
       "      <td>0</td>\n",
       "      <td>0</td>\n",
       "      <td>0</td>\n",
       "      <td>...</td>\n",
       "      <td>0</td>\n",
       "      <td>0</td>\n",
       "      <td>0</td>\n",
       "      <td>0</td>\n",
       "      <td>0</td>\n",
       "      <td>0</td>\n",
       "      <td>0</td>\n",
       "      <td>0</td>\n",
       "      <td>0</td>\n",
       "      <td>0</td>\n",
       "    </tr>\n",
       "  </tbody>\n",
       "</table>\n",
       "<p>5 rows × 6715 columns</p>\n",
       "</div>"
      ],
      "text/plain": [
       "   cuisine  canned tuna  turkey breakfast sausage  ice  liquorice  \\\n",
       "0        0            0                         0    0          0   \n",
       "1        1            0                         0    0          0   \n",
       "2        2            0                         0    0          0   \n",
       "3        3            0                         0    0          0   \n",
       "4        3            0                         0    0          0   \n",
       "\n",
       "   boneless beef roast  yellow mustard seeds  low-fat crème fraîche  \\\n",
       "0                    0                     0                      0   \n",
       "1                    0                     0                      0   \n",
       "2                    0                     0                      0   \n",
       "3                    0                     0                      0   \n",
       "4                    0                     0                      0   \n",
       "\n",
       "   fresh thyme  popcorn         ...          vodka sauce  gobo root  \\\n",
       "0            0        0         ...                    0          0   \n",
       "1            0        0         ...                    0          0   \n",
       "2            0        0         ...                    0          0   \n",
       "3            0        0         ...                    0          0   \n",
       "4            0        0         ...                    0          0   \n",
       "\n",
       "   chipped beef  cut up chicken  medjool date  napa cabbage leaves  \\\n",
       "0             0               0             0                    0   \n",
       "1             0               0             0                    0   \n",
       "2             0               0             0                    0   \n",
       "3             0               0             0                    0   \n",
       "4             0               0             0                    0   \n",
       "\n",
       "   curry powder  paneer  reduced sodium chicken stock  habanero hot sauce  \n",
       "0             0       0                             0                   0  \n",
       "1             0       0                             0                   0  \n",
       "2             0       0                             0                   0  \n",
       "3             0       0                             0                   0  \n",
       "4             0       0                             0                   0  \n",
       "\n",
       "[5 rows x 6715 columns]"
      ]
     },
     "execution_count": 42,
     "metadata": {},
     "output_type": "execute_result"
    }
   ],
   "source": [
    "df_full.head(5)"
   ]
  },
  {
   "cell_type": "code",
   "execution_count": null,
   "metadata": {
    "collapsed": true
   },
   "outputs": [],
   "source": []
  }
 ],
 "metadata": {
  "kernelspec": {
   "display_name": "Python 3",
   "language": "python",
   "name": "python3"
  },
  "language_info": {
   "codemirror_mode": {
    "name": "ipython",
    "version": 3
   },
   "file_extension": ".py",
   "mimetype": "text/x-python",
   "name": "python",
   "nbconvert_exporter": "python",
   "pygments_lexer": "ipython3",
   "version": "3.4.4"
  }
 },
 "nbformat": 4,
 "nbformat_minor": 0
}
