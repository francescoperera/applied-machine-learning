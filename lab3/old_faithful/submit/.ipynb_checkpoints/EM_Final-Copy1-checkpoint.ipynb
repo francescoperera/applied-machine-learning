{
 "cells": [
  {
   "cell_type": "code",
   "execution_count": 1,
   "metadata": {
    "collapsed": true
   },
   "outputs": [],
   "source": [
    "%matplotlib inline"
   ]
  },
  {
   "cell_type": "code",
   "execution_count": 2,
   "metadata": {
    "collapsed": true
   },
   "outputs": [],
   "source": [
    "import numpy as np\n",
    "import csv\n",
    "import matplotlib\n",
    "from  matplotlib import pyplot as plt\n",
    "import pandas as pd\n",
    "from matplotlib.collections import LineCollection\n",
    "from sklearn.covariance import empirical_covariance\n",
    "from sklearn.cluster import KMeans"
   ]
  },
  {
   "cell_type": "code",
   "execution_count": 3,
   "metadata": {
    "collapsed": true
   },
   "outputs": [],
   "source": [
    "df = pd.read_csv(\"data.csv\")"
   ]
  },
  {
   "cell_type": "code",
   "execution_count": 4,
   "metadata": {
    "collapsed": false
   },
   "outputs": [
    {
     "data": {
      "text/html": [
       "<div>\n",
       "<table border=\"1\" class=\"dataframe\">\n",
       "  <thead>\n",
       "    <tr style=\"text-align: right;\">\n",
       "      <th></th>\n",
       "      <th>eruptions</th>\n",
       "      <th>waiting</th>\n",
       "    </tr>\n",
       "  </thead>\n",
       "  <tbody>\n",
       "    <tr>\n",
       "      <th>0</th>\n",
       "      <td>3.600</td>\n",
       "      <td>79</td>\n",
       "    </tr>\n",
       "    <tr>\n",
       "      <th>1</th>\n",
       "      <td>1.800</td>\n",
       "      <td>54</td>\n",
       "    </tr>\n",
       "    <tr>\n",
       "      <th>2</th>\n",
       "      <td>3.333</td>\n",
       "      <td>74</td>\n",
       "    </tr>\n",
       "    <tr>\n",
       "      <th>3</th>\n",
       "      <td>2.283</td>\n",
       "      <td>62</td>\n",
       "    </tr>\n",
       "    <tr>\n",
       "      <th>4</th>\n",
       "      <td>4.533</td>\n",
       "      <td>85</td>\n",
       "    </tr>\n",
       "  </tbody>\n",
       "</table>\n",
       "</div>"
      ],
      "text/plain": [
       "   eruptions  waiting\n",
       "0      3.600       79\n",
       "1      1.800       54\n",
       "2      3.333       74\n",
       "3      2.283       62\n",
       "4      4.533       85"
      ]
     },
     "execution_count": 4,
     "metadata": {},
     "output_type": "execute_result"
    }
   ],
   "source": [
    "df.head(5)"
   ]
  },
  {
   "cell_type": "code",
   "execution_count": 5,
   "metadata": {
    "collapsed": true
   },
   "outputs": [],
   "source": [
    "##normalize the data\n",
    "#https://gist.github.com/perrygeo/4512375\n",
    "def scale_linear_bycolumn(rawpoints, high=1.0, low=0.0):\n",
    "    mins = np.min(rawpoints, axis=0)\n",
    "    maxs = np.max(rawpoints, axis=0)\n",
    "    rng = maxs - mins\n",
    "    return high - (((high - low) * (maxs - rawpoints)) / rng)"
   ]
  },
  {
   "cell_type": "code",
   "execution_count": 6,
   "metadata": {
    "collapsed": false
   },
   "outputs": [],
   "source": [
    "df['eruptions'] = scale_linear_bycolumn(df['eruptions'])\n",
    "df['waiting'] = scale_linear_bycolumn(df['waiting'])"
   ]
  },
  {
   "cell_type": "markdown",
   "metadata": {},
   "source": [
    "# A )"
   ]
  },
  {
   "cell_type": "markdown",
   "metadata": {},
   "source": [
    "If you set all covariance matrices to σ2I (i.e., spherical) and drive σ2 to 0, this produces hard assignments. Therefore, when we run K-means, it’s as if we’re doing GMM with EM but instead of letting each cluster have its own covariance matrix, they all have to be round covariance matrices and we make σ2 tiny so there’s no longer any notion of shared membership between clusters."
   ]
  },
  {
   "cell_type": "code",
   "execution_count": 7,
   "metadata": {
    "collapsed": true
   },
   "outputs": [],
   "source": [
    "X = df.as_matrix()"
   ]
  },
  {
   "cell_type": "code",
   "execution_count": 7,
   "metadata": {
    "collapsed": false
   },
   "outputs": [
    {
     "data": {
      "text/html": [
       "<div>\n",
       "<table border=\"1\" class=\"dataframe\">\n",
       "  <thead>\n",
       "    <tr style=\"text-align: right;\">\n",
       "      <th></th>\n",
       "      <th>eruptions</th>\n",
       "      <th>waiting</th>\n",
       "    </tr>\n",
       "  </thead>\n",
       "  <tbody>\n",
       "    <tr>\n",
       "      <th>0</th>\n",
       "      <td>0.571429</td>\n",
       "      <td>0.679245</td>\n",
       "    </tr>\n",
       "    <tr>\n",
       "      <th>1</th>\n",
       "      <td>0.057143</td>\n",
       "      <td>0.207547</td>\n",
       "    </tr>\n",
       "    <tr>\n",
       "      <th>2</th>\n",
       "      <td>0.495143</td>\n",
       "      <td>0.584906</td>\n",
       "    </tr>\n",
       "    <tr>\n",
       "      <th>3</th>\n",
       "      <td>0.195143</td>\n",
       "      <td>0.358491</td>\n",
       "    </tr>\n",
       "    <tr>\n",
       "      <th>4</th>\n",
       "      <td>0.838000</td>\n",
       "      <td>0.792453</td>\n",
       "    </tr>\n",
       "  </tbody>\n",
       "</table>\n",
       "</div>"
      ],
      "text/plain": [
       "   eruptions   waiting\n",
       "0   0.571429  0.679245\n",
       "1   0.057143  0.207547\n",
       "2   0.495143  0.584906\n",
       "3   0.195143  0.358491\n",
       "4   0.838000  0.792453"
      ]
     },
     "execution_count": 7,
     "metadata": {},
     "output_type": "execute_result"
    }
   ],
   "source": [
    "df.head(5)"
   ]
  },
  {
   "cell_type": "markdown",
   "metadata": {},
   "source": [
    "# B)"
   ]
  },
  {
   "cell_type": "code",
   "execution_count": 9,
   "metadata": {
    "collapsed": false
   },
   "outputs": [
    {
     "name": "stderr",
     "output_type": "stream",
     "text": [
      "//anaconda/lib/python3.4/site-packages/matplotlib/collections.py:590: FutureWarning: elementwise comparison failed; returning scalar instead, but in the future will perform elementwise comparison\n",
      "  if self._edgecolors == str('face'):\n"
     ]
    },
    {
     "data": {
      "image/png": "[encoded data removed]",
      "text/plain": [
       "<matplotlib.figure.Figure at 0x1096c4160>"
      ]
     },
     "metadata": {},
     "output_type": "display_data"
    }
   ],
   "source": [
    "# pd.df.plot.scatter( x='eruptions', y='waiting')\n",
    "plot1 = df.plot(kind='scatter', x='eruptions', y='waiting')\n",
    "fig = plot1.get_figure()\n",
    "fig.savefig('scatter1.png')"
   ]
  },
  {
   "cell_type": "markdown",
   "metadata": {},
   "source": [
    "# C)"
   ]
  },
  {
   "cell_type": "code",
   "execution_count": 18,
   "metadata": {
    "collapsed": false
   },
   "outputs": [],
   "source": [
    "from scipy.stats import multivariate_normal\n",
    "\n",
    "def GMM (X, df, k=2,  mu1=None, cov1=None, mu2=None, cov2=None, pi_cons=None):\n",
    "    df = df[['eruptions', 'waiting']]\n",
    "    # get N, the number of rows, and d, the number of features/ columns\n",
    "    N,d = X.shape\n",
    "\n",
    "    ##initialize the mean centers\n",
    "    centers = X[np.random.choice(range(X.shape[0]), k, replace=False) , : ]\n",
    "    if mu1 is None: mu1 = centers[0]\n",
    "    if mu2 is None: mu2 = centers[1]\n",
    "\n",
    "    ##initialize the covariance matrices as some factor * the identity matrix of size 2 * 2\n",
    "    if cov1 is None: cov1 = np.random.random() * np.eye(k)\n",
    "    if cov2 is None: cov2 = np.random.random() * np.eye(k)\n",
    "\n",
    "    ## Initialize our pi constant for our mixing proportions to a random number \n",
    "    if pi_cons is None: pi_cons = np.random.random()\n",
    "\n",
    "#     print (\"initial mu1, mu2: \", mu1, \", \" , mu2, \" initial cov1, cov2: \", cov1, \", \", cov2 )\n",
    "\n",
    "    ###Initialize the multivariate random variables for each mean and cov\n",
    "    var1 = multivariate_normal(mean=mu1, cov=cov1)\n",
    "    var2 = multivariate_normal(mean=mu2, cov=cov2)\n",
    "    \n",
    "\n",
    "    ##initialize the responsibility matrix given the mean, cov, and pdf for each gaussian\n",
    "    resp = pi_cons*var2.pdf(df) / ((1-pi_cons)*var1.pdf(df) + pi_cons*var2.pdf(df))\n",
    "    resp = np.array([resp])\n",
    "\n",
    "    mu1_arr = np.array([mu1])\n",
    "    mu2_arr = np.array([mu2])\n",
    "\n",
    "    eps = 0.0001\n",
    "    diff_pi_cons = 1\n",
    "    num_iters =0\n",
    "\n",
    "    while diff_pi_cons > eps:\n",
    "\n",
    "        num_iters += 1\n",
    "#         print(\"num_iters\", num_iters)\n",
    "        ###############\n",
    "        ### M-step: ###\n",
    "        ##########################################\n",
    "        ## Compute weighted means and variances ##\n",
    "        ##########################################\n",
    "\n",
    "        mu1 = sum((1-resp).dot(df)) / sum(sum(1-resp))\n",
    "        cov1 = np.diag(sum((1-resp).dot(np.square(df-mu1))) / sum(sum(1-resp)))\n",
    "        if np.count_nonzero(np.less(cov1, eps * np.eye(k))) > 0:\n",
    "            cov1 = np.random.random() * np.eye(k)\n",
    "\n",
    "        mu2 = sum(resp.dot(df)) / sum(sum(resp))\n",
    "        cov2 = np.diag(sum(resp.dot(np.square(df-mu2))) / sum(sum(resp)))\n",
    "        if np.count_nonzero(np.less(cov2, eps * np.eye(k))) > 0:\n",
    "            cov2 = np.random.random() * np.eye(k)\n",
    "\n",
    "        mu1_arr = np.append(mu1_arr, [mu1], axis=0)\n",
    "        mu2_arr = np.append(mu2_arr, [mu2], axis=0)\n",
    "\n",
    "#         print (\"MSTEP mu1, mu2: \", mu1, \", \" , mu2 )\n",
    "#         print (\" MSTEP cov1, cov2: \", cov1, \", \", cov2 )\n",
    "\n",
    "        prev_pi_cons = pi_cons\n",
    "        pi_cons = sum(sum(resp)) / len(df)\n",
    "        \n",
    "#         print (\" MSTEP prev_pi_cons, pi_cons: \", prev_pi_cons, \", \", pi_cons)\n",
    "\n",
    "        ############\n",
    "        ## E-Step:##\n",
    "        ###############################################################\n",
    "        ## Compute responsibilities given the new mean and variance ###\n",
    "        ###############################################################\n",
    "\n",
    "\n",
    "        var1 = multivariate_normal(mean=mu1, cov=cov1)\n",
    "        var2 = multivariate_normal(mean=mu2, cov=cov2)\n",
    "        resp = pi_cons*var2.pdf(df) / ((1-pi_cons)*var1.pdf(df) + pi_cons*var2.pdf(df))\n",
    "        resp = np.array([resp])\n",
    "\n",
    "        diff_pi_cons = abs(prev_pi_cons - pi_cons)\n",
    "#         print (\"diff after iteration \" , diff)\n",
    "\n",
    "    return mu1, mu2, num_iters, mu1_arr, mu2_arr\n",
    "    "
   ]
  },
  {
   "cell_type": "markdown",
   "metadata": {},
   "source": [
    "# i) "
   ]
  },
  {
   "cell_type": "code",
   "execution_count": 19,
   "metadata": {
    "collapsed": false
   },
   "outputs": [],
   "source": [
    "mu1, mu2, num_iters, mu1_arr, mu2_arr = GMM(X, df)"
   ]
  },
  {
   "cell_type": "code",
   "execution_count": 23,
   "metadata": {
    "collapsed": false
   },
   "outputs": [
    {
     "name": "stderr",
     "output_type": "stream",
     "text": [
      "//anaconda/lib/python3.4/site-packages/matplotlib/collections.py:590: FutureWarning: elementwise comparison failed; returning scalar instead, but in the future will perform elementwise comparison\n",
      "  if self._edgecolors == str('face'):\n"
     ]
    },
    {
     "data": {
      "image/png": "[encoded data removed]",
      "text/plain": [
       "<matplotlib.figure.Figure at 0x10a2125f8>"
      ]
     },
     "metadata": {},
     "output_type": "display_data"
    }
   ],
   "source": [
    "colors = ['r' for x in range(len(mu1_arr))] + ['g' for x in range(len(mu2_arr))]\n",
    "x = np.concatenate((mu1_arr[:,0],mu2_arr[:,0]), axis=0)\n",
    "y = np.concatenate((mu1_arr[:,1],mu2_arr[:,1]), axis=0)\n",
    "ax = plt.gca()\n",
    "ax.scatter(x , y, c=colors, alpha=0.8)\n",
    "plt.savefig(\"trajectory_c.png\")"
   ]
  },
  {
   "cell_type": "code",
   "execution_count": 22,
   "metadata": {
    "collapsed": false
   },
   "outputs": [
    {
     "data": {
      "text/plain": [
       "<matplotlib.figure.Figure at 0x10a32e400>"
      ]
     },
     "metadata": {},
     "output_type": "display_data"
    }
   ],
   "source": []
  },
  {
   "cell_type": "code",
   "execution_count": 26,
   "metadata": {
    "collapsed": true
   },
   "outputs": [],
   "source": [
    "def get_distribution(n):\n",
    "    i = 0\n",
    "    iteration_arr = []\n",
    "    while i < n :\n",
    "        mu1, mu2, num_iters,  mu1_arr, mu2_arr = GMM(X,df)\n",
    "        iteration_arr.append(num_iters)\n",
    "        i += 1\n",
    "    iter_dist = pd.Series(iteration_arr)\n",
    "    iter_dist.value_counts()\n",
    "    ax = iter_dist.hist()\n",
    "    fig = ax.get_figure()\n",
    "    fig.savefig('iteration_dist_a.png')\n",
    "    \n",
    "        "
   ]
  },
  {
   "cell_type": "code",
   "execution_count": 27,
   "metadata": {
    "collapsed": false
   },
   "outputs": [
    {
     "data": {
      "image/png": "[encoded data removed]",
      "text/plain": [
       "<matplotlib.figure.Figure at 0x10a27c518>"
      ]
     },
     "metadata": {},
     "output_type": "display_data"
    }
   ],
   "source": [
    "get_distribution (50)"
   ]
  },
  {
   "cell_type": "markdown",
   "metadata": {},
   "source": [
    "# D)"
   ]
  },
  {
   "cell_type": "code",
   "execution_count": 30,
   "metadata": {
    "collapsed": true
   },
   "outputs": [],
   "source": [
    "def GMM_KMeans(k = 2):\n",
    "    ##RUN KMEANS ##\n",
    "    ## initialize K means using scikitlearn\n",
    "    kmeans = KMeans(n_clusters=k)\n",
    "    ## fit K means to the data, and then get the labels from the hard cluster assignments, and append this to our df\n",
    "    df['label'] = kmeans.fit_predict(df[['eruptions', 'waiting']])\n",
    "    \n",
    "    ## GET the mean centers and covariance matrices using maximum likelihood ##\n",
    "    ## Get the mean centers from K means\n",
    "    mu1_kmeans = kmeans.cluster_centers_[0]\n",
    "    mu2_kmeans = kmeans.cluster_centers_[1]\n",
    "    ##get the empirical covariance from the data using the maximum likelihood of the labels \n",
    "    ## cov1 is driven by label 0\n",
    "    cov1_kmeans = empirical_covariance(df[df['label']==0][['eruptions', 'waiting']])\n",
    "    #cov2 is driven by label 1\n",
    "    cov2_kmeans = empirical_covariance(df[df['label']==1][['eruptions', 'waiting']])\n",
    "    ## the mixing constant is the average of the labels \n",
    "    pi_const_kmeans = float(np.sum(df['label']))/len(df['label'])\n",
    "    \n",
    "    ## Run GMM with the parameters initialized from Kmeans and maximum likelihood ##\n",
    "    mu_em1, mu_em2, num_iters_em, mu1_arr, mu2_arr = GMM (X, df, k=2,  mu1=mu1_kmeans, cov1=cov1_kmeans,\n",
    "                                        mu2= mu2_kmeans, cov2=cov2_kmeans, pi_cons=pi_const_kmeans)\n",
    "    return mu_em1, mu_em2, num_iters_em, mu1_arr, mu2_arr"
   ]
  },
  {
   "cell_type": "code",
   "execution_count": 31,
   "metadata": {
    "collapsed": true
   },
   "outputs": [],
   "source": [
    "mu_km1, mu_km2, num_iters_km, mu1_km_arr, mu2_km_arr = GMM_KMeans(k = 2)"
   ]
  },
  {
   "cell_type": "code",
   "execution_count": 32,
   "metadata": {
    "collapsed": false
   },
   "outputs": [
    {
     "name": "stderr",
     "output_type": "stream",
     "text": [
      "//anaconda/lib/python3.4/site-packages/matplotlib/collections.py:590: FutureWarning: elementwise comparison failed; returning scalar instead, but in the future will perform elementwise comparison\n",
      "  if self._edgecolors == str('face'):\n"
     ]
    },
    {
     "data": {
      "image/png": "[encoded data removed]",
      "text/plain": [
       "<matplotlib.figure.Figure at 0x10a3e9470>"
      ]
     },
     "metadata": {},
     "output_type": "display_data"
    }
   ],
   "source": [
    "colors = ['r' for x in range(len(mu1_km_arr))] + ['g' for x in range(len(mu2_km_arr))]\n",
    "x = np.concatenate((mu1_km_arr[:,0],mu2_km_arr[:,0]), axis=0)\n",
    "y = np.concatenate((mu1_km_arr[:,1],mu2_km_arr[:,1]), axis=0)\n",
    "ax = plt.gca()\n",
    "ax.scatter(x , y, c=colors, alpha=0.8)\n",
    "# plt.show()\n",
    "plt.savefig(\"trajectory_d.png\")"
   ]
  },
  {
   "cell_type": "code",
   "execution_count": 33,
   "metadata": {
    "collapsed": false
   },
   "outputs": [],
   "source": [
    "def get_distribution_kMeans(n):\n",
    "    i = 0\n",
    "    iteration_arr = []\n",
    "    while i < n :\n",
    "        mu_new1, mu2_new2, num_iters_new, mu1_new_arr, mu2_new_arr  = GMM_KMeans(k = 2)\n",
    "        iteration_arr.append(num_iters_new)\n",
    "        i += 1\n",
    "#     iter_dist = pd.Series(iteration_arr)\n",
    "#     iter_dist.value_counts()\n",
    "#     iter_dist.hist()\n",
    "    return iteration_arr"
   ]
  },
  {
   "cell_type": "code",
   "execution_count": 34,
   "metadata": {
    "collapsed": false
   },
   "outputs": [],
   "source": [
    "iteration_arr = get_distribution_kMeans(50)"
   ]
  },
  {
   "cell_type": "code",
   "execution_count": 35,
   "metadata": {
    "collapsed": false
   },
   "outputs": [
    {
     "data": {
      "text/plain": [
       "3    50\n",
       "dtype: int64"
      ]
     },
     "execution_count": 35,
     "metadata": {},
     "output_type": "execute_result"
    }
   ],
   "source": [
    "iter_dist = pd.Series(iteration_arr)\n",
    "iter_dist.value_counts()"
   ]
  },
  {
   "cell_type": "code",
   "execution_count": 36,
   "metadata": {
    "collapsed": false
   },
   "outputs": [
    {
     "data": {
      "image/png": "[encoded data removed]",
      "text/plain": [
       "<matplotlib.figure.Figure at 0x10a2bff60>"
      ]
     },
     "metadata": {},
     "output_type": "display_data"
    }
   ],
   "source": [
    "\n",
    "# iter_dist.hist()\n",
    "ax1 = iter_dist.hist()\n",
    "fig = ax1.get_figure()\n",
    "fig.savefig('iteration_dist_d.png')"
   ]
  },
  {
   "cell_type": "code",
   "execution_count": null,
   "metadata": {
    "collapsed": true
   },
   "outputs": [],
   "source": []
  }
 ],
 "metadata": {
  "kernelspec": {
   "display_name": "Python 3",
   "language": "python",
   "name": "python3"
  },
  "language_info": {
   "codemirror_mode": {
    "name": "ipython",
    "version": 3
   },
   "file_extension": ".py",
   "mimetype": "text/x-python",
   "name": "python",
   "nbconvert_exporter": "python",
   "pygments_lexer": "ipython3",
   "version": "3.4.5"
  }
 },
 "nbformat": 4,
 "nbformat_minor": 0
}
