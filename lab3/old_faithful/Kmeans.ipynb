{
 "cells": [
  {
   "cell_type": "code",
   "execution_count": 5,
   "metadata": {
    "collapsed": true
   },
   "outputs": [],
   "source": [
    "%matplotlib inline"
   ]
  },
  {
   "cell_type": "code",
   "execution_count": 10,
   "metadata": {
    "collapsed": true
   },
   "outputs": [],
   "source": [
    "import numpy as np\n",
    "import csv\n",
    "import matplotlib\n",
    "from  matplotlib import pyplot as plt\n",
    "# from sklearn import cross_validation\n",
    "import pandas as pd\n",
    "from sklearn.metrics import roc_auc_score\n",
    "from sklearn import metrics, preprocessing\n",
    "import pickle\n",
    "import numpy.linalg as la\n",
    "import random"
   ]
  },
  {
   "cell_type": "code",
   "execution_count": 6,
   "metadata": {
    "collapsed": true
   },
   "outputs": [],
   "source": [
    "df = pd.read_csv(\"data.csv\")"
   ]
  },
  {
   "cell_type": "code",
   "execution_count": 7,
   "metadata": {
    "collapsed": false
   },
   "outputs": [
    {
     "data": {
      "text/html": [
       "<div>\n",
       "<table border=\"1\" class=\"dataframe\">\n",
       "  <thead>\n",
       "    <tr style=\"text-align: right;\">\n",
       "      <th></th>\n",
       "      <th>eruptions</th>\n",
       "      <th>waiting</th>\n",
       "    </tr>\n",
       "  </thead>\n",
       "  <tbody>\n",
       "    <tr>\n",
       "      <th>0</th>\n",
       "      <td>3.600</td>\n",
       "      <td>79</td>\n",
       "    </tr>\n",
       "    <tr>\n",
       "      <th>1</th>\n",
       "      <td>1.800</td>\n",
       "      <td>54</td>\n",
       "    </tr>\n",
       "    <tr>\n",
       "      <th>2</th>\n",
       "      <td>3.333</td>\n",
       "      <td>74</td>\n",
       "    </tr>\n",
       "    <tr>\n",
       "      <th>3</th>\n",
       "      <td>2.283</td>\n",
       "      <td>62</td>\n",
       "    </tr>\n",
       "    <tr>\n",
       "      <th>4</th>\n",
       "      <td>4.533</td>\n",
       "      <td>85</td>\n",
       "    </tr>\n",
       "  </tbody>\n",
       "</table>\n",
       "</div>"
      ],
      "text/plain": [
       "   eruptions  waiting\n",
       "0      3.600       79\n",
       "1      1.800       54\n",
       "2      3.333       74\n",
       "3      2.283       62\n",
       "4      4.533       85"
      ]
     },
     "execution_count": 7,
     "metadata": {},
     "output_type": "execute_result"
    }
   ],
   "source": [
    "df.head(5)"
   ]
  },
  {
   "cell_type": "code",
   "execution_count": 34,
   "metadata": {
    "collapsed": true
   },
   "outputs": [],
   "source": [
    "X= df.as_matrix()"
   ]
  },
  {
   "cell_type": "code",
   "execution_count": null,
   "metadata": {
    "collapsed": true
   },
   "outputs": [],
   "source": [
    "class K Means:\n",
    "    def __init__(n_clusters , max_iter):\n",
    "        self.k = n_clusters ## number of clusters\n",
    "        self.max_iter = max_iter ## number of iterations\n",
    "    def fit_KMeans(self, data):\n",
    "        cluster_center = X[np.random.choice(n, self.k, False), :]"
   ]
  },
  {
   "cell_type": "code",
   "execution_count": 83,
   "metadata": {
    "collapsed": false
   },
   "outputs": [],
   "source": []
  },
  {
   "cell_type": "code",
   "execution_count": 27,
   "metadata": {
    "collapsed": false
   },
   "outputs": [],
   "source": [
    "def calcJ (data , centers ):\n",
    "    diffsq = ((centers[:,np.newaxis,:]) - data)**2\n",
    "    return np.sum(np.min(np.sum(diffsq ,axis=2), axis=0))\n",
    "def kmeans (data ,k = 2 , n = 5 ):\n",
    "    # Initialize centers and list J to track performance metric\n",
    "    centers = data [np.random.choice(range(data.shape[0]),k, replace=False) , : ]\n",
    "    J = []\n",
    "    #repeat n times \n",
    "    for iteration in range(n):\n",
    "        #Find center that each observation is closest to\n",
    "        sqdistances = np.sum((centers[:,np.newaxis, :] - data)**2, axis=2) \n",
    "        closest =np.argmin(sqdistances, axis = 0)\n",
    "        ##Calculate J and append to list J \n",
    "        J.append(calcJ(data,centers))\n",
    "        #Update cluster centers \n",
    "        for i in range(k):\n",
    "            ## get the average of distance from each data point to its center\n",
    "            centers[i, :] = data[closest ==i, :].mean(axis=0)\n",
    "        J.append(calcJ(data,centers))\n",
    "        return centers, J, closest"
   ]
  },
  {
   "cell_type": "code",
   "execution_count": 57,
   "metadata": {
    "collapsed": false
   },
   "outputs": [],
   "source": [
    "centers, J,closest = kmeans(X, 2, 10)"
   ]
  },
  {
   "cell_type": "code",
   "execution_count": 58,
   "metadata": {
    "collapsed": false
   },
   "outputs": [
    {
     "data": {
      "text/plain": [
       "array([[  4.37731522,  84.48913043],\n",
       "       [  3.03313333,  63.95      ]])"
      ]
     },
     "execution_count": 58,
     "metadata": {},
     "output_type": "execute_result"
    }
   ],
   "source": [
    "centers"
   ]
  },
  {
   "cell_type": "code",
   "execution_count": 59,
   "metadata": {
    "collapsed": false
   },
   "outputs": [
    {
     "data": {
      "text/plain": [
       "[56596.954101000003, 17979.045594406154]"
      ]
     },
     "execution_count": 59,
     "metadata": {},
     "output_type": "execute_result"
    }
   ],
   "source": [
    "J"
   ]
  },
  {
   "cell_type": "code",
   "execution_count": 60,
   "metadata": {
    "collapsed": false
   },
   "outputs": [
    {
     "data": {
      "text/plain": [
       "array([1, 1, 1, 1, 0, 1, 0, 0, 1, 0, 1, 0, 1, 1, 0, 1, 1, 0, 1, 1, 1, 1, 1,\n",
       "       1, 1, 0, 1, 1, 1, 1, 1, 1, 1, 0, 1, 1, 1, 0, 1, 0, 0, 1, 0, 1, 1, 0,\n",
       "       1, 1, 0, 1, 1, 0, 1, 0, 1, 0, 1, 1, 1, 0, 1, 0, 1, 0, 1, 0, 1, 1, 1,\n",
       "       1, 0, 1, 1, 1, 1, 1, 1, 1, 1, 0, 1, 0, 1, 1, 1, 0, 1, 0, 1, 0, 1, 0,\n",
       "       1, 1, 1, 1, 0, 1, 1, 0, 1, 0, 1, 0, 0, 1, 0, 1, 0, 0, 1, 1, 0, 1, 1,\n",
       "       0, 1, 0, 1, 0, 1, 1, 1, 1, 0, 0, 1, 0, 1, 0, 1, 0, 1, 0, 1, 0, 1, 0,\n",
       "       1, 1, 0, 1, 0, 1, 1, 1, 0, 1, 0, 1, 1, 1, 1, 0, 1, 1, 0, 0, 1, 0, 1,\n",
       "       0, 1, 1, 1, 1, 1, 0, 1, 0, 1, 1, 1, 1, 0, 0, 1, 1, 0, 1, 1, 1, 0, 0,\n",
       "       1, 1, 0, 1, 0, 1, 0, 1, 1, 0, 1, 0, 0, 1, 1, 1, 1, 0, 0, 1, 1, 1, 1,\n",
       "       0, 1, 0, 1, 0, 1, 1, 1, 1, 1, 0, 1, 1, 1, 0, 1, 1, 1, 1, 1, 1, 1, 1,\n",
       "       1, 1, 0, 1, 0, 1, 1, 1, 1, 1, 1, 1, 0, 1, 0, 0, 1, 0, 1, 1, 1, 0, 1,\n",
       "       1, 0, 0, 1, 0, 1, 1, 1, 0, 1, 0, 1, 1, 1, 0, 1, 0, 1, 1])"
      ]
     },
     "execution_count": 60,
     "metadata": {},
     "output_type": "execute_result"
    }
   ],
   "source": [
    "closest"
   ]
  },
  {
   "cell_type": "code",
   "execution_count": 61,
   "metadata": {
    "collapsed": false
   },
   "outputs": [
    {
     "name": "stderr",
     "output_type": "stream",
     "text": [
      "//anaconda/lib/python3.4/site-packages/matplotlib/collections.py:590: FutureWarning: elementwise comparison failed; returning scalar instead, but in the future will perform elementwise comparison\n",
      "  if self._edgecolors == str('face'):\n"
     ]
    },
    {
     "data": {
      "image/png": "[encoded data removed]",
      "text/plain": [
       "<matplotlib.figure.Figure at 0x1090e0048>"
      ]
     },
     "metadata": {},
     "output_type": "display_data"
    }
   ],
   "source": [
    "colors = ['r' if i==0 else 'g' for i in closest]\n",
    "ax = plt.gca()\n",
    "ax.scatter(X[:,0], X[:,1], c=colors, alpha=0.8)\n",
    "plt.show()"
   ]
  },
  {
   "cell_type": "code",
   "execution_count": 81,
   "metadata": {
    "collapsed": true
   },
   "outputs": [],
   "source": [
    "centers2, J2,closest2 = kmeans(X, 2, 100)"
   ]
  },
  {
   "cell_type": "code",
   "execution_count": 82,
   "metadata": {
    "collapsed": false
   },
   "outputs": [
    {
     "name": "stderr",
     "output_type": "stream",
     "text": [
      "//anaconda/lib/python3.4/site-packages/matplotlib/collections.py:590: FutureWarning: elementwise comparison failed; returning scalar instead, but in the future will perform elementwise comparison\n",
      "  if self._edgecolors == str('face'):\n"
     ]
    },
    {
     "data": {
      "image/png": "[encoded data removed]",
      "text/plain": [
       "<matplotlib.figure.Figure at 0x10904ddd8>"
      ]
     },
     "metadata": {},
     "output_type": "display_data"
    }
   ],
   "source": [
    "colors = ['r' if i==0 else 'g' for i in closest2]\n",
    "ax = plt.gca()\n",
    "ax.scatter(X[:,0], X[:,1], c=colors, alpha=0.8)\n",
    "plt.show()"
   ]
  },
  {
   "cell_type": "code",
   "execution_count": null,
   "metadata": {
    "collapsed": true
   },
   "outputs": [],
   "source": []
  },
  {
   "cell_type": "markdown",
   "metadata": {},
   "source": [
    "As the number of iterations increases the clustering gets better"
   ]
  },
  {
   "cell_type": "code",
   "execution_count": null,
   "metadata": {
    "collapsed": true
   },
   "outputs": [],
   "source": []
  },
  {
   "cell_type": "code",
   "execution_count": null,
   "metadata": {
    "collapsed": true
   },
   "outputs": [],
   "source": []
  },
  {
   "cell_type": "code",
   "execution_count": null,
   "metadata": {
    "collapsed": true
   },
   "outputs": [],
   "source": []
  },
  {
   "cell_type": "code",
   "execution_count": null,
   "metadata": {
    "collapsed": true
   },
   "outputs": [],
   "source": []
  },
  {
   "cell_type": "code",
   "execution_count": null,
   "metadata": {
    "collapsed": true
   },
   "outputs": [],
   "source": []
  },
  {
   "cell_type": "code",
   "execution_count": null,
   "metadata": {
    "collapsed": true
   },
   "outputs": [],
   "source": []
  },
  {
   "cell_type": "code",
   "execution_count": null,
   "metadata": {
    "collapsed": true
   },
   "outputs": [],
   "source": []
  },
  {
   "cell_type": "code",
   "execution_count": 49,
   "metadata": {
    "collapsed": false
   },
   "outputs": [],
   "source": [
    "cluster1 = []\n",
    "cluster2 = []\n",
    "m =0\n",
    "while m < len(closest):\n",
    "    if closest[m] ==0:\n",
    "        cluster1.append(X[m])\n",
    "    else:\n",
    "        cluster2.append(X[m])\n",
    "    m +=1"
   ]
  },
  {
   "cell_type": "code",
   "execution_count": null,
   "metadata": {
    "collapsed": true
   },
   "outputs": [],
   "source": [
    "df.plot(kind='scatter', x='eruptions', y='waiting')"
   ]
  },
  {
   "cell_type": "code",
   "execution_count": null,
   "metadata": {
    "collapsed": true
   },
   "outputs": [],
   "source": [
    "import numpy as np\n",
    "from mpl_toolkits.mplot3d import Axes3D\n",
    "import matplotlib.pyplot as plt\n",
    "\n",
    "\n",
    "fig = plt.figure()\n",
    "ax = fig.add_subplot(111, projection='3d')\n",
    "n = 100\n",
    "for c, m, zl, zh in [('r', 'o', -50, -25), ('b', '^', -30, -5)]:\n",
    "    xs = X[0]\n",
    "    ys = X[1]\n",
    "    zs = 10\n",
    "    ax.scatter(xs, ys, zs, c=c, marker=m)\n",
    "\n",
    "ax.set_xlabel('X Label')\n",
    "ax.set_ylabel('Y Label')\n",
    "ax.set_zlabel('Z Label')\n",
    "\n",
    "plt.show()\n"
   ]
  },
  {
   "cell_type": "code",
   "execution_count": null,
   "metadata": {
    "collapsed": true
   },
   "outputs": [],
   "source": [
    "Axes3D.scatter(xs, ys, zs=0, zdir='z', s=20, c=None, depthshade=True, *args, **kwargs)"
   ]
  },
  {
   "cell_type": "code",
   "execution_count": 32,
   "metadata": {
    "collapsed": false
   },
   "outputs": [
    {
     "data": {
      "text/plain": [
       "272"
      ]
     },
     "execution_count": 32,
     "metadata": {},
     "output_type": "execute_result"
    }
   ],
   "source": [
    "len(closest)"
   ]
  },
  {
   "cell_type": "code",
   "execution_count": 11,
   "metadata": {
    "collapsed": false
   },
   "outputs": [],
   "source": [
    "def getFirstMeans(trainData,k):\n",
    "    firstMeans = []\n",
    "    idxs = [x for x in range(len(trainData))]\n",
    "    meanIdxs = random.sample(idxs,k)\n",
    "    for idx in meanIdxs:\n",
    "        firstMeans.append(trainData.iloc[idx].values)\n",
    "    return firstMeans\n",
    "\n",
    "def clustering(trainData,clusterMeans,k):\n",
    "    rowIdxs = [i for i in range(len(trainData))]\n",
    "    clusters = []\n",
    "    for num in range(k):\n",
    "        clusters.append([])\n",
    "    \n",
    "    for row in rowIdxs :\n",
    "        distances = []\n",
    "        for mean in clusterMeans:\n",
    "            dist = np.linalg.norm(trainData.iloc[row] - mean)\n",
    "            distances.append(dist)\n",
    "        clusterIdx = np.argmin(distances)\n",
    "        \n",
    "        clusters[clusterIdx].append(row)\n",
    "    return clusters\n",
    "    \n",
    "def newMeans(trainData,clusters):\n",
    "    means = []\n",
    "    for cluster in clusters:\n",
    "        clusterMean = np.mean(trainData.iloc[cluster])\n",
    "        means.append(clusterMean)\n",
    "    return means\n",
    "\n",
    "def KMeans(trainData,k):\n",
    "    iters = 0\n",
    "    initMeans = getFirstMeans(trainData,k)\n",
    "    clusters1 = clustering(trainData,initMeans,k)\n",
    "    means1 =  newMeans(trainData,clusters1)\n",
    "    clusters2 = clustering(trainData,means1,k)\n",
    "    means2 = newMeans(trainData,clusters2)\n",
    "    \n",
    "    while clusters1 != clusters2:\n",
    "        print (\"iteration: \" + str(iters+1))\n",
    "        clusters1 = clustering(trainData,means2,k)\n",
    "        means1 = newMeans(trainData,clusters1)\n",
    "        clusters2 = clustering(trainData,means1,k)\n",
    "        means2 = newMeans(trainData,clusters2)\n",
    "        iters += 1\n",
    "    \n",
    "    return clusters2"
   ]
  },
  {
   "cell_type": "code",
   "execution_count": 77,
   "metadata": {
    "collapsed": false
   },
   "outputs": [
    {
     "name": "stdout",
     "output_type": "stream",
     "text": [
      "iteration: 1\n",
      "iteration: 2\n"
     ]
    }
   ],
   "source": [
    "k = 2\n",
    "kMeansCluster = KMeans(df,k)"
   ]
  },
  {
   "cell_type": "code",
   "execution_count": 78,
   "metadata": {
    "collapsed": false
   },
   "outputs": [],
   "source": [
    "cluster1 = kMeansCluster[0]\n",
    "cluster2 = kMeansCluster[1]"
   ]
  },
  {
   "cell_type": "code",
   "execution_count": 71,
   "metadata": {
    "collapsed": false
   },
   "outputs": [],
   "source": [
    "clusters = np.zeros(len(cluster1)+len(cluster2))"
   ]
  },
  {
   "cell_type": "code",
   "execution_count": 79,
   "metadata": {
    "collapsed": false
   },
   "outputs": [],
   "source": [
    "for item in cluster1:\n",
    "    clusters[item] = 0\n",
    "for item in cluster2:\n",
    "    clusters[item] = 1"
   ]
  },
  {
   "cell_type": "code",
   "execution_count": 80,
   "metadata": {
    "collapsed": false
   },
   "outputs": [
    {
     "name": "stderr",
     "output_type": "stream",
     "text": [
      "//anaconda/lib/python3.4/site-packages/matplotlib/collections.py:590: FutureWarning: elementwise comparison failed; returning scalar instead, but in the future will perform elementwise comparison\n",
      "  if self._edgecolors == str('face'):\n"
     ]
    },
    {
     "data": {
      "image/png": "[encoded data removed]",
      "text/plain": [
       "<matplotlib.figure.Figure at 0x10986cd30>"
      ]
     },
     "metadata": {},
     "output_type": "display_data"
    }
   ],
   "source": [
    "colors = ['r' if i==0 else 'g' for i in clusters]\n",
    "ax = plt.gca()\n",
    "ax.scatter(X[:,0], X[:,1], c=colors, alpha=0.8)\n",
    "plt.show()"
   ]
  },
  {
   "cell_type": "code",
   "execution_count": null,
   "metadata": {
    "collapsed": true
   },
   "outputs": [],
   "source": []
  },
  {
   "cell_type": "code",
   "execution_count": null,
   "metadata": {
    "collapsed": true
   },
   "outputs": [],
   "source": []
  },
  {
   "cell_type": "code",
   "execution_count": 47,
   "metadata": {
    "collapsed": false
   },
   "outputs": [
    {
     "data": {
      "text/plain": [
       "[1,\n",
       " 3,\n",
       " 5,\n",
       " 8,\n",
       " 10,\n",
       " 13,\n",
       " 15,\n",
       " 16,\n",
       " 18,\n",
       " 20,\n",
       " 21,\n",
       " 26,\n",
       " 32,\n",
       " 35,\n",
       " 36,\n",
       " 38,\n",
       " 41,\n",
       " 43,\n",
       " 46,\n",
       " 47,\n",
       " 49,\n",
       " 52,\n",
       " 54,\n",
       " 57,\n",
       " 60,\n",
       " 62,\n",
       " 64,\n",
       " 68,\n",
       " 71,\n",
       " 74,\n",
       " 76,\n",
       " 83,\n",
       " 88,\n",
       " 90,\n",
       " 92,\n",
       " 94,\n",
       " 98,\n",
       " 100,\n",
       " 102,\n",
       " 105,\n",
       " 107,\n",
       " 111,\n",
       " 114,\n",
       " 116,\n",
       " 118,\n",
       " 120,\n",
       " 123,\n",
       " 126,\n",
       " 128,\n",
       " 130,\n",
       " 132,\n",
       " 134,\n",
       " 136,\n",
       " 138,\n",
       " 141,\n",
       " 145,\n",
       " 147,\n",
       " 149,\n",
       " 152,\n",
       " 158,\n",
       " 160,\n",
       " 162,\n",
       " 164,\n",
       " 166,\n",
       " 168,\n",
       " 170,\n",
       " 171,\n",
       " 177,\n",
       " 180,\n",
       " 184,\n",
       " 187,\n",
       " 189,\n",
       " 191,\n",
       " 198,\n",
       " 200,\n",
       " 203,\n",
       " 205,\n",
       " 208,\n",
       " 212,\n",
       " 214,\n",
       " 216,\n",
       " 218,\n",
       " 220,\n",
       " 222,\n",
       " 231,\n",
       " 233,\n",
       " 235,\n",
       " 236,\n",
       " 239,\n",
       " 241,\n",
       " 243,\n",
       " 246,\n",
       " 248,\n",
       " 250,\n",
       " 258,\n",
       " 262,\n",
       " 264,\n",
       " 265,\n",
       " 268,\n",
       " 270]"
      ]
     },
     "execution_count": 47,
     "metadata": {},
     "output_type": "execute_result"
    }
   ],
   "source": []
  },
  {
   "cell_type": "code",
   "execution_count": null,
   "metadata": {
    "collapsed": true
   },
   "outputs": [],
   "source": []
  }
 ],
 "metadata": {
  "kernelspec": {
   "display_name": "Python 3",
   "language": "python",
   "name": "python3"
  },
  "language_info": {
   "codemirror_mode": {
    "name": "ipython",
    "version": 3
   },
   "file_extension": ".py",
   "mimetype": "text/x-python",
   "name": "python",
   "nbconvert_exporter": "python",
   "pygments_lexer": "ipython3",
   "version": "3.4.5"
  }
 },
 "nbformat": 4,
 "nbformat_minor": 0
}
