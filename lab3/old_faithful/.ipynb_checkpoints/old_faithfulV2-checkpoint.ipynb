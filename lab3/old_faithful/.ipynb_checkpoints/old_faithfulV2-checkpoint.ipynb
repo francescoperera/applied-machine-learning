{
 "cells": [
  {
   "cell_type": "code",
   "execution_count": 1,
   "metadata": {
    "collapsed": true
   },
   "outputs": [],
   "source": [
    "%matplotlib inline"
   ]
  },
  {
   "cell_type": "code",
   "execution_count": 2,
   "metadata": {
    "collapsed": false
   },
   "outputs": [],
   "source": [
    "import numpy as np\n",
    "import csv\n",
    "import matplotlib\n",
    "from  matplotlib import pyplot as plt\n",
    "# from sklearn import cross_validation\n",
    "import pandas as pd\n",
    "from sklearn.metrics import roc_auc_score\n",
    "from sklearn import metrics, preprocessing\n",
    "import pickle"
   ]
  },
  {
   "cell_type": "code",
   "execution_count": 3,
   "metadata": {
    "collapsed": false
   },
   "outputs": [],
   "source": [
    "df = pd.read_csv(\"data.csv\")"
   ]
  },
  {
   "cell_type": "code",
   "execution_count": 4,
   "metadata": {
    "collapsed": false
   },
   "outputs": [
    {
     "data": {
      "text/html": [
       "<div>\n",
       "<table border=\"1\" class=\"dataframe\">\n",
       "  <thead>\n",
       "    <tr style=\"text-align: right;\">\n",
       "      <th></th>\n",
       "      <th>eruptions</th>\n",
       "      <th>waiting</th>\n",
       "    </tr>\n",
       "  </thead>\n",
       "  <tbody>\n",
       "    <tr>\n",
       "      <th>0</th>\n",
       "      <td>3.600</td>\n",
       "      <td>79</td>\n",
       "    </tr>\n",
       "    <tr>\n",
       "      <th>1</th>\n",
       "      <td>1.800</td>\n",
       "      <td>54</td>\n",
       "    </tr>\n",
       "    <tr>\n",
       "      <th>2</th>\n",
       "      <td>3.333</td>\n",
       "      <td>74</td>\n",
       "    </tr>\n",
       "    <tr>\n",
       "      <th>3</th>\n",
       "      <td>2.283</td>\n",
       "      <td>62</td>\n",
       "    </tr>\n",
       "    <tr>\n",
       "      <th>4</th>\n",
       "      <td>4.533</td>\n",
       "      <td>85</td>\n",
       "    </tr>\n",
       "  </tbody>\n",
       "</table>\n",
       "</div>"
      ],
      "text/plain": [
       "   eruptions  waiting\n",
       "0      3.600       79\n",
       "1      1.800       54\n",
       "2      3.333       74\n",
       "3      2.283       62\n",
       "4      4.533       85"
      ]
     },
     "execution_count": 4,
     "metadata": {},
     "output_type": "execute_result"
    }
   ],
   "source": [
    "df.head(5)"
   ]
  },
  {
   "cell_type": "code",
   "execution_count": 5,
   "metadata": {
    "collapsed": true
   },
   "outputs": [],
   "source": [
    "x = pd.Series(df['eruptions'])\n",
    "y = pd.Series(df['waiting'])"
   ]
  },
  {
   "cell_type": "code",
   "execution_count": 6,
   "metadata": {
    "collapsed": false
   },
   "outputs": [
    {
     "data": {
      "text/plain": [
       "<matplotlib.axes._subplots.AxesSubplot at 0x108e6a748>"
      ]
     },
     "execution_count": 6,
     "metadata": {},
     "output_type": "execute_result"
    },
    {
     "name": "stderr",
     "output_type": "stream",
     "text": [
      "//anaconda/lib/python3.4/site-packages/matplotlib/collections.py:590: FutureWarning: elementwise comparison failed; returning scalar instead, but in the future will perform elementwise comparison\n",
      "  if self._edgecolors == str('face'):\n"
     ]
    },
    {
     "data": {
      "image/png": "[encoded data removed]",
      "text/plain": [
       "<matplotlib.figure.Figure at 0x108dfe898>"
      ]
     },
     "metadata": {},
     "output_type": "display_data"
    }
   ],
   "source": [
    "# pd.df.plot.scatter( x='eruptions', y='waiting')\n",
    "df.plot(kind='scatter', x='eruptions', y='waiting')"
   ]
  },
  {
   "cell_type": "code",
   "execution_count": 7,
   "metadata": {
    "collapsed": true
   },
   "outputs": [],
   "source": [
    "# from sklearn.cross_validation import train_test_split\n",
    "# train, test = train_test_split(df, test_size = 0.2)"
   ]
  },
  {
   "cell_type": "code",
   "execution_count": 38,
   "metadata": {
    "collapsed": false
   },
   "outputs": [],
   "source": [
    "# X = train.as_matrix()"
   ]
  },
  {
   "cell_type": "code",
   "execution_count": 39,
   "metadata": {
    "collapsed": true
   },
   "outputs": [],
   "source": [
    "# test = train.as_matrix()"
   ]
  },
  {
   "cell_type": "code",
   "execution_count": 8,
   "metadata": {
    "collapsed": true
   },
   "outputs": [],
   "source": [
    "X= df.as_matrix()"
   ]
  },
  {
   "cell_type": "code",
   "execution_count": 9,
   "metadata": {
    "collapsed": false
   },
   "outputs": [
    {
     "data": {
      "text/plain": [
       "array([[  3.6  ,  79.   ],\n",
       "       [  1.8  ,  54.   ],\n",
       "       [  3.333,  74.   ],\n",
       "       [  2.283,  62.   ],\n",
       "       [  4.533,  85.   ]])"
      ]
     },
     "execution_count": 9,
     "metadata": {},
     "output_type": "execute_result"
    }
   ],
   "source": [
    "X[0:5]"
   ]
  },
  {
   "cell_type": "code",
   "execution_count": 69,
   "metadata": {
    "collapsed": true
   },
   "outputs": [],
   "source": [
    "# For code below: looks like I could get access to the coordinates and to the iterations in the below method\n",
    "# https://gist.github.com/bistaumanga/6023716"
   ]
  },
  {
   "cell_type": "code",
   "execution_count": 10,
   "metadata": {
    "collapsed": true
   },
   "outputs": [],
   "source": [
    "\n",
    "class GMM:\n",
    "    \n",
    "    def __init__(self, k = 3, eps = 0.0001):\n",
    "        self.k = k ## number of clusters\n",
    "        self.eps = eps ## threshold to stop `epsilon`\n",
    "        \n",
    "        # All parameters from fitting/learning are kept in a named tuple\n",
    "        from collections import namedtuple\n",
    "    \n",
    "    def fit_EM(self, X, max_iters = 1000):\n",
    "        \n",
    "        # n = number of data-points, d = dimension of data points        \n",
    "        n, d = X.shape\n",
    "        \n",
    "        # randomly choose the starting centroids/means \n",
    "        ## as 3 of the points from datasets        \n",
    "        mu = X[np.random.choice(n, self.k, False), :]\n",
    "        \n",
    "        # initialize the covariance matrices for each gaussians\n",
    "        Sigma= [np.eye(d)] * self.k\n",
    "        print(\"Sigma\", Sigma)\n",
    "        \n",
    "        # initialize the probabilities/weights for each gaussians\n",
    "        w = [1./self.k] * self.k\n",
    "        print (\"W\", w)\n",
    "        \n",
    "        # responsibility matrix is initialized to all zeros\n",
    "        # we have responsibility for each of n points for eack of k gaussians\n",
    "        R = np.zeros((n, self.k))\n",
    "        print (\"responsibility matrix\", R)\n",
    "        \n",
    "        ### log_likelihoods\n",
    "        log_likelihoods = []\n",
    "        \n",
    "        P = lambda mu, s: np.linalg.det(s) ** -.5 ** (2 * np.pi) ** (-X.shape[1]/2.) \\\n",
    "                * np.exp(-.5 * np.einsum('ij, ij -> i',\\\n",
    "                        X - mu, np.dot(np.linalg.inv(s) , (X - mu).T).T ) ) \n",
    "                        \n",
    "        # Iterate till max_iters iterations        \n",
    "        while len(log_likelihoods) < max_iters:\n",
    "            \n",
    "            # E - Step\n",
    "            \n",
    "            ## Vectorized implementation of e-step equation to calculate the \n",
    "            ## membership for each of k -gaussians\n",
    "            for k in range(self.k):\n",
    "                R[:, k] = w[k] * P(mu[k], Sigma[k])\n",
    "\n",
    "            ### Likelihood computation\n",
    "            log_likelihood = np.sum(np.log(np.sum(R, axis = 1)))\n",
    "            print(\"log likelihood\", log_likelihood)\n",
    "            log_likelihoods.append(log_likelihood)\n",
    "            \n",
    "            \n",
    "            ## Normalize so that the responsibility matrix is row stochastic\n",
    "            R = (R.T / np.sum(R, axis = 1)).T\n",
    "            \n",
    "            ## The number of datapoints belonging to each gaussian            \n",
    "            N_ks = np.sum(R, axis = 0)\n",
    "            print (\"num data points belonging to each guassian\", N_ks)\n",
    "            \n",
    "            \n",
    "            # M Step\n",
    "            ## calculate the new mean and covariance for each gaussian by \n",
    "            ## utilizing the new responsibilities\n",
    "            for k in range(self.k):\n",
    "                \n",
    "                ## means\n",
    "                mu[k] = 1. / N_ks[k] * np.sum(R[:, k] * X.T, axis = 1).T\n",
    "                x_mu = np.matrix(X - mu[k])\n",
    "                \n",
    "                ## covariances\n",
    "                Sigma[k] = np.array(1 / N_ks[k] * np.dot(np.multiply(x_mu.T,  R[:, k]), x_mu))\n",
    "                \n",
    "                ## and finally the probabilities\n",
    "                w[k] = 1. / n * N_ks[k]\n",
    "            # check for onvergence\n",
    "            if len(log_likelihoods) < 2 : continue\n",
    "            if np.abs(log_likelihood - log_likelihoods[-2]) < self.eps: break\n",
    "        \n",
    "        ## bind all results together\n",
    "        from collections import namedtuple\n",
    "        self.params = namedtuple('params', ['mu', 'Sigma', 'w', 'log_likelihoods', 'num_iters'])\n",
    "        self.params.mu = mu\n",
    "        self.params.Sigma = Sigma\n",
    "        self.params.w = w\n",
    "        self.params.log_likelihoods = log_likelihoods\n",
    "        self.params.num_iters = len(log_likelihoods)       \n",
    "        \n",
    "        print(\"self.params, \" , self.params)\n",
    "        return self.params\n",
    "    \n",
    "    def plot_log_likelihood(self):\n",
    "        import pylab as plt\n",
    "        plt.plot(self.params.log_likelihoods)\n",
    "        plt.title('Log Likelihood vs iteration plot')\n",
    "        plt.xlabel('Iterations')\n",
    "        plt.ylabel('log likelihood')\n",
    "        plt.show()\n",
    "    \n",
    "    def predict(self, x):\n",
    "        p = lambda mu, s : np.linalg.det(s) ** - 0.5 * (2 * np.pi) **\\\n",
    "                (-len(x)/2) * np.exp( -0.5 * np.dot(x - mu , \\\n",
    "                        np.dot(np.linalg.inv(s) , x - mu)))\n",
    "        probs = np.array([w * p(mu, s) for mu, s, w in \\\n",
    "            zip(self.params.mu, self.params.Sigma, self.params.w)])\n",
    "        return probs/np.sum(probs)"
   ]
  },
  {
   "cell_type": "code",
   "execution_count": 17,
   "metadata": {
    "collapsed": false
   },
   "outputs": [],
   "source": [
    "gmm = GMM(2, 0.0001 )"
   ]
  },
  {
   "cell_type": "code",
   "execution_count": 18,
   "metadata": {
    "collapsed": false
   },
   "outputs": [
    {
     "name": "stdout",
     "output_type": "stream",
     "text": [
      "Sigma [array([[ 1.,  0.],\n",
      "       [ 0.,  1.]]), array([[ 1.,  0.],\n",
      "       [ 0.,  1.]])]\n",
      "W [0.5, 0.5]\n",
      "responsibility matrix [[ 0.  0.]\n",
      " [ 0.  0.]\n",
      " [ 0.  0.]\n",
      " [ 0.  0.]\n",
      " [ 0.  0.]\n",
      " [ 0.  0.]\n",
      " [ 0.  0.]\n",
      " [ 0.  0.]\n",
      " [ 0.  0.]\n",
      " [ 0.  0.]\n",
      " [ 0.  0.]\n",
      " [ 0.  0.]\n",
      " [ 0.  0.]\n",
      " [ 0.  0.]\n",
      " [ 0.  0.]\n",
      " [ 0.  0.]\n",
      " [ 0.  0.]\n",
      " [ 0.  0.]\n",
      " [ 0.  0.]\n",
      " [ 0.  0.]\n",
      " [ 0.  0.]\n",
      " [ 0.  0.]\n",
      " [ 0.  0.]\n",
      " [ 0.  0.]\n",
      " [ 0.  0.]\n",
      " [ 0.  0.]\n",
      " [ 0.  0.]\n",
      " [ 0.  0.]\n",
      " [ 0.  0.]\n",
      " [ 0.  0.]\n",
      " [ 0.  0.]\n",
      " [ 0.  0.]\n",
      " [ 0.  0.]\n",
      " [ 0.  0.]\n",
      " [ 0.  0.]\n",
      " [ 0.  0.]\n",
      " [ 0.  0.]\n",
      " [ 0.  0.]\n",
      " [ 0.  0.]\n",
      " [ 0.  0.]\n",
      " [ 0.  0.]\n",
      " [ 0.  0.]\n",
      " [ 0.  0.]\n",
      " [ 0.  0.]\n",
      " [ 0.  0.]\n",
      " [ 0.  0.]\n",
      " [ 0.  0.]\n",
      " [ 0.  0.]\n",
      " [ 0.  0.]\n",
      " [ 0.  0.]\n",
      " [ 0.  0.]\n",
      " [ 0.  0.]\n",
      " [ 0.  0.]\n",
      " [ 0.  0.]\n",
      " [ 0.  0.]\n",
      " [ 0.  0.]\n",
      " [ 0.  0.]\n",
      " [ 0.  0.]\n",
      " [ 0.  0.]\n",
      " [ 0.  0.]\n",
      " [ 0.  0.]\n",
      " [ 0.  0.]\n",
      " [ 0.  0.]\n",
      " [ 0.  0.]\n",
      " [ 0.  0.]\n",
      " [ 0.  0.]\n",
      " [ 0.  0.]\n",
      " [ 0.  0.]\n",
      " [ 0.  0.]\n",
      " [ 0.  0.]\n",
      " [ 0.  0.]\n",
      " [ 0.  0.]\n",
      " [ 0.  0.]\n",
      " [ 0.  0.]\n",
      " [ 0.  0.]\n",
      " [ 0.  0.]\n",
      " [ 0.  0.]\n",
      " [ 0.  0.]\n",
      " [ 0.  0.]\n",
      " [ 0.  0.]\n",
      " [ 0.  0.]\n",
      " [ 0.  0.]\n",
      " [ 0.  0.]\n",
      " [ 0.  0.]\n",
      " [ 0.  0.]\n",
      " [ 0.  0.]\n",
      " [ 0.  0.]\n",
      " [ 0.  0.]\n",
      " [ 0.  0.]\n",
      " [ 0.  0.]\n",
      " [ 0.  0.]\n",
      " [ 0.  0.]\n",
      " [ 0.  0.]\n",
      " [ 0.  0.]\n",
      " [ 0.  0.]\n",
      " [ 0.  0.]\n",
      " [ 0.  0.]\n",
      " [ 0.  0.]\n",
      " [ 0.  0.]\n",
      " [ 0.  0.]\n",
      " [ 0.  0.]\n",
      " [ 0.  0.]\n",
      " [ 0.  0.]\n",
      " [ 0.  0.]\n",
      " [ 0.  0.]\n",
      " [ 0.  0.]\n",
      " [ 0.  0.]\n",
      " [ 0.  0.]\n",
      " [ 0.  0.]\n",
      " [ 0.  0.]\n",
      " [ 0.  0.]\n",
      " [ 0.  0.]\n",
      " [ 0.  0.]\n",
      " [ 0.  0.]\n",
      " [ 0.  0.]\n",
      " [ 0.  0.]\n",
      " [ 0.  0.]\n",
      " [ 0.  0.]\n",
      " [ 0.  0.]\n",
      " [ 0.  0.]\n",
      " [ 0.  0.]\n",
      " [ 0.  0.]\n",
      " [ 0.  0.]\n",
      " [ 0.  0.]\n",
      " [ 0.  0.]\n",
      " [ 0.  0.]\n",
      " [ 0.  0.]\n",
      " [ 0.  0.]\n",
      " [ 0.  0.]\n",
      " [ 0.  0.]\n",
      " [ 0.  0.]\n",
      " [ 0.  0.]\n",
      " [ 0.  0.]\n",
      " [ 0.  0.]\n",
      " [ 0.  0.]\n",
      " [ 0.  0.]\n",
      " [ 0.  0.]\n",
      " [ 0.  0.]\n",
      " [ 0.  0.]\n",
      " [ 0.  0.]\n",
      " [ 0.  0.]\n",
      " [ 0.  0.]\n",
      " [ 0.  0.]\n",
      " [ 0.  0.]\n",
      " [ 0.  0.]\n",
      " [ 0.  0.]\n",
      " [ 0.  0.]\n",
      " [ 0.  0.]\n",
      " [ 0.  0.]\n",
      " [ 0.  0.]\n",
      " [ 0.  0.]\n",
      " [ 0.  0.]\n",
      " [ 0.  0.]\n",
      " [ 0.  0.]\n",
      " [ 0.  0.]\n",
      " [ 0.  0.]\n",
      " [ 0.  0.]\n",
      " [ 0.  0.]\n",
      " [ 0.  0.]\n",
      " [ 0.  0.]\n",
      " [ 0.  0.]\n",
      " [ 0.  0.]\n",
      " [ 0.  0.]\n",
      " [ 0.  0.]\n",
      " [ 0.  0.]\n",
      " [ 0.  0.]\n",
      " [ 0.  0.]\n",
      " [ 0.  0.]\n",
      " [ 0.  0.]\n",
      " [ 0.  0.]\n",
      " [ 0.  0.]\n",
      " [ 0.  0.]\n",
      " [ 0.  0.]\n",
      " [ 0.  0.]\n",
      " [ 0.  0.]\n",
      " [ 0.  0.]\n",
      " [ 0.  0.]\n",
      " [ 0.  0.]\n",
      " [ 0.  0.]\n",
      " [ 0.  0.]\n",
      " [ 0.  0.]\n",
      " [ 0.  0.]\n",
      " [ 0.  0.]\n",
      " [ 0.  0.]\n",
      " [ 0.  0.]\n",
      " [ 0.  0.]\n",
      " [ 0.  0.]\n",
      " [ 0.  0.]\n",
      " [ 0.  0.]\n",
      " [ 0.  0.]\n",
      " [ 0.  0.]\n",
      " [ 0.  0.]\n",
      " [ 0.  0.]\n",
      " [ 0.  0.]\n",
      " [ 0.  0.]\n",
      " [ 0.  0.]\n",
      " [ 0.  0.]\n",
      " [ 0.  0.]\n",
      " [ 0.  0.]\n",
      " [ 0.  0.]\n",
      " [ 0.  0.]\n",
      " [ 0.  0.]\n",
      " [ 0.  0.]\n",
      " [ 0.  0.]\n",
      " [ 0.  0.]\n",
      " [ 0.  0.]\n",
      " [ 0.  0.]\n",
      " [ 0.  0.]\n",
      " [ 0.  0.]\n",
      " [ 0.  0.]\n",
      " [ 0.  0.]\n",
      " [ 0.  0.]\n",
      " [ 0.  0.]\n",
      " [ 0.  0.]\n",
      " [ 0.  0.]\n",
      " [ 0.  0.]\n",
      " [ 0.  0.]\n",
      " [ 0.  0.]\n",
      " [ 0.  0.]\n",
      " [ 0.  0.]\n",
      " [ 0.  0.]\n",
      " [ 0.  0.]\n",
      " [ 0.  0.]\n",
      " [ 0.  0.]\n",
      " [ 0.  0.]\n",
      " [ 0.  0.]\n",
      " [ 0.  0.]\n",
      " [ 0.  0.]\n",
      " [ 0.  0.]\n",
      " [ 0.  0.]\n",
      " [ 0.  0.]\n",
      " [ 0.  0.]\n",
      " [ 0.  0.]\n",
      " [ 0.  0.]\n",
      " [ 0.  0.]\n",
      " [ 0.  0.]\n",
      " [ 0.  0.]\n",
      " [ 0.  0.]\n",
      " [ 0.  0.]\n",
      " [ 0.  0.]\n",
      " [ 0.  0.]\n",
      " [ 0.  0.]\n",
      " [ 0.  0.]\n",
      " [ 0.  0.]\n",
      " [ 0.  0.]\n",
      " [ 0.  0.]\n",
      " [ 0.  0.]\n",
      " [ 0.  0.]\n",
      " [ 0.  0.]\n",
      " [ 0.  0.]\n",
      " [ 0.  0.]\n",
      " [ 0.  0.]\n",
      " [ 0.  0.]\n",
      " [ 0.  0.]\n",
      " [ 0.  0.]\n",
      " [ 0.  0.]\n",
      " [ 0.  0.]\n",
      " [ 0.  0.]\n",
      " [ 0.  0.]\n",
      " [ 0.  0.]\n",
      " [ 0.  0.]\n",
      " [ 0.  0.]\n",
      " [ 0.  0.]\n",
      " [ 0.  0.]\n",
      " [ 0.  0.]\n",
      " [ 0.  0.]\n",
      " [ 0.  0.]\n",
      " [ 0.  0.]\n",
      " [ 0.  0.]\n",
      " [ 0.  0.]\n",
      " [ 0.  0.]\n",
      " [ 0.  0.]]\n",
      "log likelihood -8161.28625142\n",
      "num data points belonging to each guassian [ 102.99525014  169.00474986]\n",
      "log likelihood -824.550438256\n",
      "num data points belonging to each guassian [ 100.13668758  171.86331242]\n",
      "log likelihood -791.676083957\n",
      "num data points belonging to each guassian [  97.76802604  174.23197396]\n",
      "log likelihood -777.036635475\n",
      "num data points belonging to each guassian [  97.03381547  174.96618453]\n",
      "log likelihood -774.311639701\n",
      "num data points belonging to each guassian [  96.9032302  175.0967698]\n",
      "log likelihood -774.219971473\n",
      "num data points belonging to each guassian [  96.87951806  175.12048194]\n",
      "log likelihood -774.232054688\n",
      "num data points belonging to each guassian [  96.87515872  175.12484128]\n",
      "log likelihood -774.235117112\n",
      "num data points belonging to each guassian [  96.87435439  175.12564561]\n",
      "log likelihood -774.235706936\n",
      "num data points belonging to each guassian [  96.87420587  175.12579413]\n",
      "log likelihood -774.235816643\n",
      "num data points belonging to each guassian [  96.87417844  175.12582156]\n",
      "log likelihood -774.23583693\n",
      "num data points belonging to each guassian [  96.87417337  175.12582663]\n",
      "self.params,  <class '__main__.params'>\n"
     ]
    }
   ],
   "source": [
    "gmm_fitted = gmm.fit_EM(X, max_iters = 1000)"
   ]
  },
  {
   "cell_type": "code",
   "execution_count": 19,
   "metadata": {
    "collapsed": false
   },
   "outputs": [
    {
     "name": "stdout",
     "output_type": "stream",
     "text": [
      "[-8161.28625142497, -824.55043825587347, -791.67608395669458, -777.03663547542931, -774.3116397007642, -774.21997147263619, -774.23205468797664, -774.23511711249, -774.23570693627676, -774.23581664260473, -774.23583693003036]\n"
     ]
    }
   ],
   "source": [
    "print (gmm_fitted.log_likelihoods)\n",
    "import pylab as plt    \n",
    "from matplotlib.patches import Ellipse"
   ]
  },
  {
   "cell_type": "code",
   "execution_count": 20,
   "metadata": {
    "collapsed": true
   },
   "outputs": [],
   "source": [
    "def plot_ellipse(pos, cov, nstd=2, ax=None, **kwargs):\n",
    "        def eigsorted(cov):\n",
    "            vals, vecs = np.linalg.eigh(cov)\n",
    "            order = vals.argsort()[::-1]\n",
    "            return vals[order], vecs[:,order]\n",
    "    \n",
    "        if ax is None:\n",
    "            ax = plt.gca()\n",
    "    \n",
    "        vals, vecs = eigsorted(cov)\n",
    "        theta = np.degrees(np.arctan2(*vecs[:,0][::-1]))\n",
    "    \n",
    "        # Width and height are \"full\" widths, not radius\n",
    "        width, height = 2 * nstd * np.sqrt(abs(vals))\n",
    "        ellip = Ellipse(xy=pos, width=width, height=height, angle=theta, **kwargs)\n",
    "    \n",
    "        ax.add_artist(ellip)\n",
    "        return ellip"
   ]
  },
  {
   "cell_type": "code",
   "execution_count": 21,
   "metadata": {
    "collapsed": true
   },
   "outputs": [],
   "source": [
    "def show(X, mu, cov):\n",
    "\n",
    "    plt.cla()\n",
    "    K = len(mu) # number of clusters\n",
    "    colors = ['b', 'k', 'g', 'c', 'm', 'y', 'r']\n",
    "    plt.plot(X.T[0], X.T[1], 'm*')\n",
    "    for k in range(K):\n",
    "        plot_ellipse(mu[k], cov[k],  alpha=0.6, color = colors[k % len(colors)])  \n",
    "\n",
    "\n"
   ]
  },
  {
   "cell_type": "code",
   "execution_count": 22,
   "metadata": {
    "collapsed": false
   },
   "outputs": [
    {
     "data": {
      "image/png": "[encoded data removed]",
      "text/plain": [
       "<matplotlib.figure.Figure at 0x10934d240>"
      ]
     },
     "metadata": {},
     "output_type": "display_data"
    }
   ],
   "source": [
    "fig = plt.figure(figsize = (13, 6))\n",
    "fig.add_subplot(121)\n",
    "show(X, gmm_fitted.mu, gmm_fitted.Sigma)\n",
    "fig.add_subplot(122)\n",
    "plt.plot(np.array(gmm_fitted.log_likelihoods))\n",
    "plt.title('Log Likelihood vs iteration plot')\n",
    "plt.xlabel('Iterations')\n",
    "plt.ylabel('log likelihood')\n",
    "plt.show()\n",
    "# print gmm.predict(np.array([1, 2]))"
   ]
  },
  {
   "cell_type": "code",
   "execution_count": null,
   "metadata": {
    "collapsed": true
   },
   "outputs": [],
   "source": []
  }
 ],
 "metadata": {
  "kernelspec": {
   "display_name": "Python 3",
   "language": "python",
   "name": "python3"
  },
  "language_info": {
   "codemirror_mode": {
    "name": "ipython",
    "version": 3
   },
   "file_extension": ".py",
   "mimetype": "text/x-python",
   "name": "python",
   "nbconvert_exporter": "python",
   "pygments_lexer": "ipython3",
   "version": "3.4.5"
  }
 },
 "nbformat": 4,
 "nbformat_minor": 0
}
