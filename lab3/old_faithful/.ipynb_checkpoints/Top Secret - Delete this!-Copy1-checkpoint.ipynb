{
 "cells": [
  {
   "cell_type": "code",
   "execution_count": 25,
   "metadata": {
    "collapsed": false
   },
   "outputs": [],
   "source": [
    "%matplotlib inline\n",
    "import numpy as np\n",
    "import pandas as pd\n",
    "%matplotlib inline \n",
    "from  matplotlib import pyplot as plt\n",
    "from matplotlib.collections import LineCollection"
   ]
  },
  {
   "cell_type": "code",
   "execution_count": 3,
   "metadata": {
    "collapsed": false
   },
   "outputs": [],
   "source": [
    "#https://gist.github.com/perrygeo/4512375\n",
    "def scale_linear_bycolumn(rawpoints, high=1.0, low=0.0):\n",
    "    mins = np.min(rawpoints, axis=0)\n",
    "    maxs = np.max(rawpoints, axis=0)\n",
    "    rng = maxs - mins\n",
    "    return high - (((high - low) * (maxs - rawpoints)) / rng)"
   ]
  },
  {
   "cell_type": "code",
   "execution_count": 7,
   "metadata": {
    "collapsed": false
   },
   "outputs": [
    {
     "name": "stdout",
     "output_type": "stream",
     "text": [
      "   eruptions  waiting\n",
      "0      3.600       79\n",
      "1      1.800       54\n",
      "2      3.333       74\n",
      "3      2.283       62\n",
      "4      4.533       85\n",
      "5      2.883       55\n",
      "6      4.700       88\n",
      "7      3.600       85\n",
      "8      1.950       51\n",
      "9      4.350       85\n"
     ]
    },
    {
     "data": {
      "text/plain": [
       "<matplotlib.axes._subplots.AxesSubplot at 0x10712b050>"
      ]
     },
     "execution_count": 7,
     "metadata": {},
     "output_type": "execute_result"
    },
    {
     "data": {
      "image/png": "[encoded data removed]",
      "text/plain": [
       "<matplotlib.figure.Figure at 0x106971290>"
      ]
     },
     "metadata": {},
     "output_type": "display_data"
    }
   ],
   "source": [
    "df = pd.read_csv('data.csv')\n",
    "print df.head(10)\n",
    "df['eruptions'] = scale_linear_bycolumn(df['eruptions'])\n",
    "df['waiting'] = scale_linear_bycolumn(df['waiting'])\n",
    "df.plot(kind='scatter', x='eruptions', y='waiting')"
   ]
  },
  {
   "cell_type": "code",
   "execution_count": 22,
   "metadata": {
    "collapsed": true
   },
   "outputs": [],
   "source": [
    "from scipy.stats import multivariate_normal\n",
    "\n",
    "def gmm_mixture(df, mu1=None, cov1=None, mu2=None, cov2=None, p_mix=None):\n",
    "    df = df[['eruptions', 'waiting']]\n",
    "    # Take initial guesses for mean vectors, covariance matrices,\n",
    "    # and mixing proportion\n",
    "    if mu1 is None: mu1 = np.random.random(2)\n",
    "    if cov1 is None: cov1 = np.random.random() * np.eye(2)\n",
    "    if mu2 is None: mu2 = np.random.random(2)\n",
    "    if cov2 is None: cov2 = np.random.random() * np.eye(2)\n",
    "    if p_mix is None: p_mix = np.random.random()\n",
    "    \n",
    "#     print \"RANDOM STEP\"\n",
    "#     print \"random mu1 is \" + str(mu1)\n",
    "#     print \"random cov1 is \" + str(cov1)\n",
    "#     print \"random mu2 is \" + str(mu2)\n",
    "#     print \"random cov2 is \" + str(cov2)\n",
    "    \n",
    "    # E-step: Compute responsibilities\n",
    "    var1 = multivariate_normal(mean=mu1, cov=cov1)\n",
    "    var2 = multivariate_normal(mean=mu2, cov=cov2)\n",
    "    resp = p_mix*var2.pdf(df) / ((1-p_mix)*var1.pdf(df) + p_mix*var2.pdf(df))\n",
    "    resp = np.array([resp])\n",
    "\n",
    "    mu1_arr = np.array([mu1])\n",
    "    mu2_arr = np.array([mu2])\n",
    "#     print resp.shape\n",
    "#     print \"First E-step\"\n",
    "#     print \"var1 is \" + str(var1)\n",
    "#     print \"var2 is \" + str(var1)\n",
    "#     print \"resp is \" + str(np.mean(resp))\n",
    "#     print \"p_mix is  \" + str(p_mix)\n",
    "    \n",
    "#     print \"Mu Arrays 1 and 2\"\n",
    "#     print mu1_arr\n",
    "#     print mu2_arr\n",
    "    \n",
    "\n",
    "    diff = 1\n",
    "    epsilon = 0.0001\n",
    "    while diff > epsilon:\n",
    "        # M-step: compute weighted means and variances\n",
    "        mu1 = sum((1-resp).dot(df)) / sum(sum(1-resp))\n",
    "        cov1 = np.diag(sum((1-resp).dot(np.square(df-mu1))) / sum(sum(1-resp)))\n",
    "        if np.count_nonzero(np.less(cov1, epsilon * np.eye(2))) > 0:\n",
    "            cov1 = np.random.random() * np.eye(2)\n",
    "\n",
    "        mu2 = sum(resp.dot(df)) / sum(sum(resp))\n",
    "        cov2 = np.diag(sum(resp.dot(np.square(df-mu2))) / sum(sum(resp)))\n",
    "        if np.count_nonzero(np.less(cov2, epsilon * np.eye(2))) > 0:\n",
    "            cov2 = np.random.random() * np.eye(2)\n",
    "        \n",
    "#         print \"M-step just finished bitch!\"\n",
    "#         print \"mu1 is \" + str(mu1)\n",
    "#         print \"cov1 is \" + str(cov1)\n",
    "#         print \"mu2 is \" + str(mu2)\n",
    "#         print \"cov2 is \" + str(cov2)\n",
    "        \n",
    "        mu1_arr = np.append(mu1_arr, [mu1], axis=0)\n",
    "        mu2_arr = np.append(mu2_arr, [mu2], axis=0)\n",
    "        \n",
    "        old_p_mix = p_mix\n",
    "        p_mix = sum(sum(resp)) / len(df)\n",
    "        #print \"p mix muthafuckas : \" + str(p_mix)\n",
    "        \n",
    "#         print \"Middle step\"\n",
    "#         print sum(sum(resp)),len(df),sum(resp)\n",
    "        \n",
    "        # E-step: Compute responsibilities\n",
    "        var1 = multivariate_normal(mean=mu1, cov=cov1)\n",
    "        var2 = multivariate_normal(mean=mu2, cov=cov2)\n",
    "        resp = p_mix*var2.pdf(df) / ((1-p_mix)*var1.pdf(df) + p_mix*var2.pdf(df))\n",
    "        resp = np.array([resp])\n",
    "        \n",
    "#         print \"E-step just finished bitch!\"\n",
    "#         print \"var1 is \" + str(var1)\n",
    "#         print \"var2 is \" + str(var1)\n",
    "        #print \"resp is \" + str(np.mean(resp))\n",
    "#         print \"p_mix is  \" + str(p_mix)\n",
    "        diff = abs(p_mix - old_p_mix)\n",
    "#         print diff\n",
    "    return mu1_arr, mu2_arr"
   ]
  },
  {
   "cell_type": "code",
   "execution_count": 23,
   "metadata": {
    "collapsed": false
   },
   "outputs": [
    {
     "data": {
      "text/plain": [
       "(array([[ 0.04094354,  0.8571542 ],\n",
       "        [ 0.72895302,  0.67467999],\n",
       "        [ 0.78097284,  0.71118351],\n",
       "        [ 0.78654974,  0.71347133],\n",
       "        [ 0.78037753,  0.70863162],\n",
       "        [ 0.77504824,  0.70343075],\n",
       "        [ 0.77047524,  0.69900476],\n",
       "        [ 0.76899454,  0.69792364],\n",
       "        [ 0.76888448,  0.69784728],\n",
       "        [ 0.7688777 ,  0.69784222]]), array([[ 0.09980079,  0.22646395],\n",
       "        [ 0.42227601,  0.43475535],\n",
       "        [ 0.31562486,  0.35520168],\n",
       "        [ 0.20297502,  0.27171922],\n",
       "        [ 0.1563582 ,  0.23669759],\n",
       "        [ 0.13886588,  0.22545741],\n",
       "        [ 0.12795499,  0.21902266],\n",
       "        [ 0.12527501,  0.21697555],\n",
       "        [ 0.12512736,  0.21685463],\n",
       "        [ 0.12511925,  0.21684855]]))"
      ]
     },
     "execution_count": 23,
     "metadata": {},
     "output_type": "execute_result"
    }
   ],
   "source": [
    "gmm_mixture(df)"
   ]
  },
  {
   "cell_type": "code",
   "execution_count": 26,
   "metadata": {
    "collapsed": false
   },
   "outputs": [
    {
     "name": "stdout",
     "output_type": "stream",
     "text": [
      "[ 0.1251209   0.21684978]\n",
      "[ 0.76887909  0.69784327]\n"
     ]
    },
    {
     "data": {
      "image/png": "[encoded data removed]",
      "text/plain": [
       "<matplotlib.figure.Figure at 0x108cdd190>"
      ]
     },
     "metadata": {},
     "output_type": "display_data"
    },
    {
     "data": {
      "text/plain": [
       "array([[<matplotlib.axes._subplots.AxesSubplot object at 0x10721e4d0>]], dtype=object)"
      ]
     },
     "execution_count": 26,
     "metadata": {},
     "output_type": "execute_result"
    },
    {
     "data": {
      "image/png": "[encoded data removed]",
      "text/plain": [
       "<matplotlib.figure.Figure at 0x1071a7150>"
      ]
     },
     "metadata": {},
     "output_type": "display_data"
    }
   ],
   "source": [
    "trajectories = []\n",
    "for i in range(50):\n",
    "    trajectories.append(gmm_mixture(df))\n",
    "\n",
    "# http://stackoverflow.com/questions/8945699/gnuplot-linecolor-variable-in-matplotlib/18516488#18516488\n",
    "fig = plt.figure()\n",
    "\n",
    "for i in trajectories[0]:\n",
    "    print i[-1]\n",
    "    points = np.array(i).T.reshape(-1, 1, 2)\n",
    "    segments = np.concatenate([points[:-1], points[1:]], axis=1)\n",
    "\n",
    "    lc = LineCollection(segments, cmap=plt.get_cmap('Spectral'),\n",
    "                        norm=plt.Normalize(1, len(i)))\n",
    "    lc.set_array(np.arange(1,len(i)+1))\n",
    "    lc.set_linewidth(2)\n",
    "\n",
    "    plt.gca().add_collection(lc)\n",
    "\n",
    "axcb = fig.colorbar(lc)\n",
    "axcb.set_label('iterations')\n",
    "\n",
    "plt.show()\n",
    "pd.DataFrame([len(trajectory[0]) for trajectory in trajectories], columns=['iterations']).hist()\n"
   ]
  },
  {
   "cell_type": "code",
   "execution_count": null,
   "metadata": {
    "collapsed": true
   },
   "outputs": [],
   "source": []
  }
 ],
 "metadata": {
  "kernelspec": {
   "display_name": "Python 3",
   "language": "python",
   "name": "python3"
  },
  "language_info": {
   "codemirror_mode": {
    "name": "ipython",
    "version": 3
   },
   "file_extension": ".py",
   "mimetype": "text/x-python",
   "name": "python",
   "nbconvert_exporter": "python",
   "pygments_lexer": "ipython3",
   "version": "3.4.5"
  }
 },
 "nbformat": 4,
 "nbformat_minor": 0
}
