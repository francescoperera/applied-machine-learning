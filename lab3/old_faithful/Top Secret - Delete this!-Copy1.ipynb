{
 "cells": [
  {
   "cell_type": "code",
   "execution_count": 1,
   "metadata": {
    "collapsed": false
   },
   "outputs": [],
   "source": [
    "%matplotlib inline\n",
    "import numpy as np\n",
    "import pandas as pd\n",
    "%matplotlib inline \n",
    "from  matplotlib import pyplot as plt\n",
    "from matplotlib.collections import LineCollection"
   ]
  },
  {
   "cell_type": "code",
   "execution_count": 2,
   "metadata": {
    "collapsed": false
   },
   "outputs": [],
   "source": [
    "#https://gist.github.com/perrygeo/4512375\n",
    "def scale_linear_bycolumn(rawpoints, high=1.0, low=0.0):\n",
    "    mins = np.min(rawpoints, axis=0)\n",
    "    maxs = np.max(rawpoints, axis=0)\n",
    "    rng = maxs - mins\n",
    "    return high - (((high - low) * (maxs - rawpoints)) / rng)"
   ]
  },
  {
   "cell_type": "code",
   "execution_count": 4,
   "metadata": {
    "collapsed": false
   },
   "outputs": [
    {
     "data": {
      "text/plain": [
       "<matplotlib.axes._subplots.AxesSubplot at 0x104330588>"
      ]
     },
     "execution_count": 4,
     "metadata": {},
     "output_type": "execute_result"
    },
    {
     "name": "stderr",
     "output_type": "stream",
     "text": [
      "//anaconda/lib/python3.4/site-packages/matplotlib/collections.py:590: FutureWarning: elementwise comparison failed; returning scalar instead, but in the future will perform elementwise comparison\n",
      "  if self._edgecolors == str('face'):\n"
     ]
    },
    {
     "data": {
      "image/png": "[encoded data removed]",
      "text/plain": [
       "<matplotlib.figure.Figure at 0x104e557f0>"
      ]
     },
     "metadata": {},
     "output_type": "display_data"
    }
   ],
   "source": [
    "df = pd.read_csv('data.csv')\n",
    "df.head(5)\n",
    "df['eruptions'] = scale_linear_bycolumn(df['eruptions'])\n",
    "df['waiting'] = scale_linear_bycolumn(df['waiting'])\n",
    "df.plot(kind='scatter', x='eruptions', y='waiting')"
   ]
  },
  {
   "cell_type": "code",
   "execution_count": 5,
   "metadata": {
    "collapsed": true
   },
   "outputs": [],
   "source": [
    "from scipy.stats import multivariate_normal\n",
    "\n",
    "def gmm_mixture(df, mu1=None, cov1=None, mu2=None, cov2=None, p_mix=None):\n",
    "    df = df[['eruptions', 'waiting']]\n",
    "    # Take initial guesses for mean vectors, covariance matrices,\n",
    "    # and mixing proportion\n",
    "    if mu1 is None: mu1 = np.random.random(2)\n",
    "    if cov1 is None: cov1 = np.random.random() * np.eye(2)\n",
    "    if mu2 is None: mu2 = np.random.random(2)\n",
    "    if cov2 is None: cov2 = np.random.random() * np.eye(2)\n",
    "    if p_mix is None: p_mix = np.random.random()\n",
    "    \n",
    "#     print \"RANDOM STEP\"\n",
    "#     print \"random mu1 is \" + str(mu1)\n",
    "#     print \"random cov1 is \" + str(cov1)\n",
    "#     print \"random mu2 is \" + str(mu2)\n",
    "#     print \"random cov2 is \" + str(cov2)\n",
    "    \n",
    "    # E-step: Compute responsibilities\n",
    "    var1 = multivariate_normal(mean=mu1, cov=cov1)\n",
    "    var2 = multivariate_normal(mean=mu2, cov=cov2)\n",
    "    resp = p_mix*var2.pdf(df) / ((1-p_mix)*var1.pdf(df) + p_mix*var2.pdf(df))\n",
    "    resp = np.array([resp])\n",
    "\n",
    "    mu1_arr = np.array([mu1])\n",
    "    mu2_arr = np.array([mu2])\n",
    "#     print resp.shape\n",
    "#     print \"First E-step\"\n",
    "#     print \"var1 is \" + str(var1)\n",
    "#     print \"var2 is \" + str(var1)\n",
    "#     print \"resp is \" + str(np.mean(resp))\n",
    "#     print \"p_mix is  \" + str(p_mix)\n",
    "    \n",
    "#     print \"Mu Arrays 1 and 2\"\n",
    "#     print mu1_arr\n",
    "#     print mu2_arr\n",
    "    \n",
    "\n",
    "    diff = 1\n",
    "    epsilon = 0.0001\n",
    "    while diff > epsilon:\n",
    "        # M-step: compute weighted means and variances\n",
    "        mu1 = sum((1-resp).dot(df)) / sum(sum(1-resp))\n",
    "        cov1 = np.diag(sum((1-resp).dot(np.square(df-mu1))) / sum(sum(1-resp)))\n",
    "        if np.count_nonzero(np.less(cov1, epsilon * np.eye(2))) > 0:\n",
    "            cov1 = np.random.random() * np.eye(2)\n",
    "\n",
    "        mu2 = sum(resp.dot(df)) / sum(sum(resp))\n",
    "        cov2 = np.diag(sum(resp.dot(np.square(df-mu2))) / sum(sum(resp)))\n",
    "        if np.count_nonzero(np.less(cov2, epsilon * np.eye(2))) > 0:\n",
    "            cov2 = np.random.random() * np.eye(2)\n",
    "        \n",
    "#         print \"M-step just finished bitch!\"\n",
    "#         print \"mu1 is \" + str(mu1)\n",
    "#         print \"cov1 is \" + str(cov1)\n",
    "#         print \"mu2 is \" + str(mu2)\n",
    "#         print \"cov2 is \" + str(cov2)\n",
    "        \n",
    "        mu1_arr = np.append(mu1_arr, [mu1], axis=0)\n",
    "        mu2_arr = np.append(mu2_arr, [mu2], axis=0)\n",
    "        \n",
    "        old_p_mix = p_mix\n",
    "        p_mix = sum(sum(resp)) / len(df)\n",
    "        #print \"p mix muthafuckas : \" + str(p_mix)\n",
    "        \n",
    "#         print \"Middle step\"\n",
    "#         print sum(sum(resp)),len(df),sum(resp)\n",
    "        \n",
    "        # E-step: Compute responsibilities\n",
    "        var1 = multivariate_normal(mean=mu1, cov=cov1)\n",
    "        var2 = multivariate_normal(mean=mu2, cov=cov2)\n",
    "        resp = p_mix*var2.pdf(df) / ((1-p_mix)*var1.pdf(df) + p_mix*var2.pdf(df))\n",
    "        resp = np.array([resp])\n",
    "        \n",
    "#         print \"E-step just finished bitch!\"\n",
    "#         print \"var1 is \" + str(var1)\n",
    "#         print \"var2 is \" + str(var1)\n",
    "        #print \"resp is \" + str(np.mean(resp))\n",
    "#         print \"p_mix is  \" + str(p_mix)\n",
    "        diff = abs(p_mix - old_p_mix)\n",
    "#         print diff\n",
    "    return mu1_arr, mu2_arr"
   ]
  },
  {
   "cell_type": "code",
   "execution_count": 6,
   "metadata": {
    "collapsed": false
   },
   "outputs": [
    {
     "data": {
      "text/plain": [
       "(array([[ 0.71366555,  0.16754317],\n",
       "        [ 0.52752293,  0.49814573],\n",
       "        [ 0.50721081,  0.49900296],\n",
       "        [ 0.47445735,  0.47512718],\n",
       "        [ 0.40809701,  0.4239187 ],\n",
       "        [ 0.29515071,  0.33921591],\n",
       "        [ 0.18057872,  0.25480791],\n",
       "        [ 0.14752927,  0.23049127],\n",
       "        [ 0.1335068 ,  0.22235201],\n",
       "        [ 0.12605386,  0.2176335 ],\n",
       "        [ 0.12516748,  0.21688576],\n",
       "        [ 0.1251215 ,  0.21685023]]), array([[ 0.85547522,  0.55455215],\n",
       "        [ 0.5512597 ,  0.55469123],\n",
       "        [ 0.57154782,  0.55373788],\n",
       "        [ 0.60416878,  0.57750752],\n",
       "        [ 0.66801445,  0.62675454],\n",
       "        [ 0.75185078,  0.68918714],\n",
       "        [ 0.77944759,  0.70806697],\n",
       "        [ 0.77778643,  0.70638553],\n",
       "        [ 0.7728884 ,  0.70127813],\n",
       "        [ 0.76947375,  0.69823933],\n",
       "        [ 0.76891676,  0.69787076],\n",
       "        [ 0.76887959,  0.69784364]]))"
      ]
     },
     "execution_count": 6,
     "metadata": {},
     "output_type": "execute_result"
    }
   ],
   "source": [
    "gmm_mixture(df)"
   ]
  },
  {
   "cell_type": "code",
   "execution_count": 26,
   "metadata": {
    "collapsed": false
   },
   "outputs": [
    {
     "name": "stdout",
     "output_type": "stream",
     "text": [
      "[ 0.1251209   0.21684978]\n",
      "[ 0.76887909  0.69784327]\n"
     ]
    },
    {
     "data": {
      "image/png": "[encoded data removed]",
      "text/plain": [
       "<matplotlib.figure.Figure at 0x108cdd190>"
      ]
     },
     "metadata": {},
     "output_type": "display_data"
    },
    {
     "data": {
      "text/plain": [
       "array([[<matplotlib.axes._subplots.AxesSubplot object at 0x10721e4d0>]], dtype=object)"
      ]
     },
     "execution_count": 26,
     "metadata": {},
     "output_type": "execute_result"
    },
    {
     "data": {
      "image/png": "[encoded data removed]",
      "text/plain": [
       "<matplotlib.figure.Figure at 0x1071a7150>"
      ]
     },
     "metadata": {},
     "output_type": "display_data"
    }
   ],
   "source": [
    "trajectories = []\n",
    "for i in range(50):\n",
    "    trajectories.append(gmm_mixture(df))\n",
    "\n",
    "# http://stackoverflow.com/questions/8945699/gnuplot-linecolor-variable-in-matplotlib/18516488#18516488\n",
    "fig = plt.figure()\n",
    "\n",
    "for i in trajectories[0]:\n",
    "    print i[-1]\n",
    "    points = np.array(i).T.reshape(-1, 1, 2)\n",
    "    segments = np.concatenate([points[:-1], points[1:]], axis=1)\n",
    "\n",
    "    lc = LineCollection(segments, cmap=plt.get_cmap('Spectral'),\n",
    "                        norm=plt.Normalize(1, len(i)))\n",
    "    lc.set_array(np.arange(1,len(i)+1))\n",
    "    lc.set_linewidth(2)\n",
    "\n",
    "    plt.gca().add_collection(lc)\n",
    "\n",
    "axcb = fig.colorbar(lc)\n",
    "axcb.set_label('iterations')\n",
    "\n",
    "plt.show()\n",
    "pd.DataFrame([len(trajectory[0]) for trajectory in trajectories], columns=['iterations']).hist()\n"
   ]
  },
  {
   "cell_type": "code",
   "execution_count": null,
   "metadata": {
    "collapsed": true
   },
   "outputs": [],
   "source": []
  }
 ],
 "metadata": {
  "kernelspec": {
   "display_name": "Python 3",
   "language": "python",
   "name": "python3"
  },
  "language_info": {
   "codemirror_mode": {
    "name": "ipython",
    "version": 3
   },
   "file_extension": ".py",
   "mimetype": "text/x-python",
   "name": "python",
   "nbconvert_exporter": "python",
   "pygments_lexer": "ipython3",
   "version": "3.4.5"
  }
 },
 "nbformat": 4,
 "nbformat_minor": 0
}
