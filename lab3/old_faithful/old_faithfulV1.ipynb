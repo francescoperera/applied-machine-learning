{
 "cells": [
  {
   "cell_type": "code",
   "execution_count": 19,
   "metadata": {
    "collapsed": true
   },
   "outputs": [],
   "source": [
    "%matplotlib inline"
   ]
  },
  {
   "cell_type": "code",
   "execution_count": 2,
   "metadata": {
    "collapsed": false
   },
   "outputs": [],
   "source": [
    "import numpy as np\n",
    "import csv\n",
    "from sklearn.cross_validation import cross_val_score\n",
    "import matplotlib\n",
    "from  matplotlib import pyplot as plt\n",
    "# from sklearn import cross_validation\n",
    "import pandas as pd\n",
    "from sklearn.metrics import roc_auc_score\n",
    "from sklearn import metrics, preprocessing\n",
    "import pickle"
   ]
  },
  {
   "cell_type": "code",
   "execution_count": 3,
   "metadata": {
    "collapsed": false
   },
   "outputs": [],
   "source": [
    "df = pd.read_csv(\"data.csv\")"
   ]
  },
  {
   "cell_type": "code",
   "execution_count": 4,
   "metadata": {
    "collapsed": false
   },
   "outputs": [
    {
     "data": {
      "text/html": [
       "<div>\n",
       "<table border=\"1\" class=\"dataframe\">\n",
       "  <thead>\n",
       "    <tr style=\"text-align: right;\">\n",
       "      <th></th>\n",
       "      <th>eruptions</th>\n",
       "      <th>waiting</th>\n",
       "    </tr>\n",
       "  </thead>\n",
       "  <tbody>\n",
       "    <tr>\n",
       "      <th>0</th>\n",
       "      <td>3.600</td>\n",
       "      <td>79</td>\n",
       "    </tr>\n",
       "    <tr>\n",
       "      <th>1</th>\n",
       "      <td>1.800</td>\n",
       "      <td>54</td>\n",
       "    </tr>\n",
       "    <tr>\n",
       "      <th>2</th>\n",
       "      <td>3.333</td>\n",
       "      <td>74</td>\n",
       "    </tr>\n",
       "    <tr>\n",
       "      <th>3</th>\n",
       "      <td>2.283</td>\n",
       "      <td>62</td>\n",
       "    </tr>\n",
       "    <tr>\n",
       "      <th>4</th>\n",
       "      <td>4.533</td>\n",
       "      <td>85</td>\n",
       "    </tr>\n",
       "  </tbody>\n",
       "</table>\n",
       "</div>"
      ],
      "text/plain": [
       "   eruptions  waiting\n",
       "0      3.600       79\n",
       "1      1.800       54\n",
       "2      3.333       74\n",
       "3      2.283       62\n",
       "4      4.533       85"
      ]
     },
     "execution_count": 4,
     "metadata": {},
     "output_type": "execute_result"
    }
   ],
   "source": [
    "df.head(5)"
   ]
  },
  {
   "cell_type": "code",
   "execution_count": 19,
   "metadata": {
    "collapsed": true
   },
   "outputs": [],
   "source": [
    "x = pd.Series(df['eruptions'])\n",
    "y = pd.Series(df['waiting'])"
   ]
  },
  {
   "cell_type": "code",
   "execution_count": 20,
   "metadata": {
    "collapsed": false
   },
   "outputs": [
    {
     "data": {
      "text/plain": [
       "<matplotlib.axes._subplots.AxesSubplot at 0x10d001f60>"
      ]
     },
     "execution_count": 20,
     "metadata": {},
     "output_type": "execute_result"
    },
    {
     "name": "stderr",
     "output_type": "stream",
     "text": [
      "//anaconda/lib/python3.4/site-packages/matplotlib/collections.py:590: FutureWarning: elementwise comparison failed; returning scalar instead, but in the future will perform elementwise comparison\n",
      "  if self._edgecolors == str('face'):\n"
     ]
    },
    {
     "data": {
      "image/png": "[encoded data removed]",
      "text/plain": [
       "<matplotlib.figure.Figure at 0x10d001550>"
      ]
     },
     "metadata": {},
     "output_type": "display_data"
    }
   ],
   "source": [
    "# pd.df.plot.scatter( x='eruptions', y='waiting')\n",
    "df.plot(kind='scatter', x='eruptions', y='waiting')"
   ]
  },
  {
   "cell_type": "code",
   "execution_count": 36,
   "metadata": {
    "collapsed": true
   },
   "outputs": [],
   "source": [
    "# from sklearn.cross_validation import train_test_split\n",
    "# train, test = train_test_split(df, test_size = 0.2)"
   ]
  },
  {
   "cell_type": "code",
   "execution_count": 60,
   "metadata": {
    "collapsed": false
   },
   "outputs": [],
   "source": [
    "from sklearn import datasets\n",
    "from sklearn.mixture import GaussianMixture as gmix\n",
    "from sklearn.model_selection import StratifiedKFold"
   ]
  },
  {
   "cell_type": "code",
   "execution_count": 38,
   "metadata": {
    "collapsed": false
   },
   "outputs": [],
   "source": [
    "# X = train.as_matrix()"
   ]
  },
  {
   "cell_type": "code",
   "execution_count": 39,
   "metadata": {
    "collapsed": true
   },
   "outputs": [],
   "source": [
    "# test = train.as_matrix()"
   ]
  },
  {
   "cell_type": "code",
   "execution_count": 49,
   "metadata": {
    "collapsed": true
   },
   "outputs": [],
   "source": [
    "X= df.as_matrix()"
   ]
  },
  {
   "cell_type": "code",
   "execution_count": 50,
   "metadata": {
    "collapsed": false
   },
   "outputs": [
    {
     "data": {
      "text/plain": [
       "array([[  3.6  ,  79.   ],\n",
       "       [  1.8  ,  54.   ],\n",
       "       [  3.333,  74.   ],\n",
       "       [  2.283,  62.   ],\n",
       "       [  4.533,  85.   ]])"
      ]
     },
     "execution_count": 50,
     "metadata": {},
     "output_type": "execute_result"
    }
   ],
   "source": [
    "X[0:5]"
   ]
  },
  {
   "cell_type": "code",
   "execution_count": 61,
   "metadata": {
    "collapsed": true
   },
   "outputs": [],
   "source": [
    "model = gmix(2, max_iter=100,\n",
    "                        covariance_type='spherical')"
   ]
  },
  {
   "cell_type": "code",
   "execution_count": 52,
   "metadata": {
    "collapsed": true
   },
   "outputs": [],
   "source": [
    "fittedGMM= model.fit(X)"
   ]
  },
  {
   "cell_type": "code",
   "execution_count": 53,
   "metadata": {
    "collapsed": false
   },
   "outputs": [],
   "source": [
    "AIC = model.aic(X)\n",
    "BIC = model.bic(X)"
   ]
  },
  {
   "cell_type": "code",
   "execution_count": 54,
   "metadata": {
    "collapsed": false
   },
   "outputs": [
    {
     "data": {
      "text/plain": [
       "(3433.0586604260725, 3458.2992748901443)"
      ]
     },
     "execution_count": 54,
     "metadata": {},
     "output_type": "execute_result"
    }
   ],
   "source": [
    "AIC,BIC"
   ]
  },
  {
   "cell_type": "code",
   "execution_count": 55,
   "metadata": {
    "collapsed": false
   },
   "outputs": [
    {
     "data": {
      "text/plain": [
       "-6.28503430225381"
      ]
     },
     "execution_count": 55,
     "metadata": {},
     "output_type": "execute_result"
    }
   ],
   "source": [
    "fittedGMM.score(X)"
   ]
  },
  {
   "cell_type": "code",
   "execution_count": 56,
   "metadata": {
    "collapsed": false
   },
   "outputs": [
    {
     "data": {
      "text/plain": [
       "GaussianMixture(covariance_type='spherical', init_params='kmeans',\n",
       "        max_iter=100, means_init=None, n_components=2, n_init=1,\n",
       "        precisions_init=None, random_state=None, reg_covar=1e-06,\n",
       "        tol=0.001, verbose=0, verbose_interval=10, warm_start=False,\n",
       "        weights_init=None)"
      ]
     },
     "execution_count": 56,
     "metadata": {},
     "output_type": "execute_result"
    }
   ],
   "source": [
    "fittedGMM"
   ]
  },
  {
   "cell_type": "code",
   "execution_count": 33,
   "metadata": {
    "collapsed": false
   },
   "outputs": [
    {
     "ename": "AttributeError",
     "evalue": "'GaussianMixture' object has no attribute 'means'",
     "output_type": "error",
     "traceback": [
      "\u001b[0;31m---------------------------------------------------------------------------\u001b[0m",
      "\u001b[0;31mAttributeError\u001b[0m                            Traceback (most recent call last)",
      "\u001b[0;32m<ipython-input-33-bdb77898da7f>\u001b[0m in \u001b[0;36m<module>\u001b[0;34m()\u001b[0m\n\u001b[0;32m----> 1\u001b[0;31m \u001b[0mprint\u001b[0m \u001b[0;34m(\u001b[0m\u001b[0mfittedGMM\u001b[0m\u001b[0;34m.\u001b[0m\u001b[0mmeans\u001b[0m\u001b[0;34m)\u001b[0m\u001b[0;34m\u001b[0m\u001b[0m\n\u001b[0m",
      "\u001b[0;31mAttributeError\u001b[0m: 'GaussianMixture' object has no attribute 'means'"
     ]
    }
   ],
   "source": [
    "print (fittedGMM.means)\n",
    "# http://www.nehalemlabs.net/prototype/blog/2014/04/03/quick-introduction-to-gaussian-mixture-models-with-python/"
   ]
  },
  {
   "cell_type": "code",
   "execution_count": 57,
   "metadata": {
    "collapsed": false
   },
   "outputs": [
    {
     "name": "stderr",
     "output_type": "stream",
     "text": [
      "//anaconda/lib/python3.4/site-packages/matplotlib/collections.py:590: FutureWarning: elementwise comparison failed; returning scalar instead, but in the future will perform elementwise comparison\n",
      "  if self._edgecolors == str('face'):\n"
     ]
    },
    {
     "data": {
      "image/png": "[encoded data removed]",
      "text/plain": [
       "<matplotlib.figure.Figure at 0x10d5b3630>"
      ]
     },
     "metadata": {},
     "output_type": "display_data"
    }
   ],
   "source": [
    "colors = ['r' if i==0 else 'g' for i in fittedGMM.predict(X)]\n",
    "ax = plt.gca()\n",
    "ax.scatter(X[:,0], X[:,1], c=colors, alpha=0.8)\n",
    "plt.show()"
   ]
  },
  {
   "cell_type": "code",
   "execution_count": null,
   "metadata": {
    "collapsed": true
   },
   "outputs": [],
   "source": []
  },
  {
   "cell_type": "code",
   "execution_count": null,
   "metadata": {
    "collapsed": true
   },
   "outputs": [],
   "source": []
  },
  {
   "cell_type": "code",
   "execution_count": null,
   "metadata": {
    "collapsed": true
   },
   "outputs": [],
   "source": []
  },
  {
   "cell_type": "code",
   "execution_count": null,
   "metadata": {
    "collapsed": true
   },
   "outputs": [],
   "source": []
  },
  {
   "cell_type": "code",
   "execution_count": null,
   "metadata": {
    "collapsed": true
   },
   "outputs": [],
   "source": []
  },
  {
   "cell_type": "code",
   "execution_count": 18,
   "metadata": {
    "collapsed": false
   },
   "outputs": [
    {
     "name": "stdout",
     "output_type": "stream",
     "text": [
      "1\n",
      "2\n",
      "3\n",
      "4\n",
      "5\n",
      "6\n",
      "7\n",
      "8\n",
      "9\n",
      "10\n",
      "11\n",
      "12\n",
      "13\n",
      "best fit converged: True\n",
      "BIC: n_components =  2\n"
     ]
    }
   ],
   "source": [
    "# Compute GMM models & AIC/BIC\n",
    "N = np.arange(1, 14)\n",
    "\n",
    "\n",
    "def compute_GMM(N, covariance_type='full', n_iter=1000):\n",
    "    models = [None for n in N]\n",
    "    for i in range(len(N)):\n",
    "        print (N[i])\n",
    "        models[i] = GMM(n_components=N[i], max_iter=n_iter,\n",
    "                        covariance_type=covariance_type)\n",
    "        models[i].fit(X)\n",
    "    return models\n",
    "\n",
    "models = compute_GMM(N)\n",
    "\n",
    "AIC = [m.aic(X) for m in models]\n",
    "BIC = [m.bic(X) for m in models]\n",
    "\n",
    "i_best = np.argmin(BIC)\n",
    "gmm_best = models[i_best]\n",
    "print (\"best fit converged:\", gmm_best.converged_)\n",
    "print (\"BIC: n_components =  %i\" % N[i_best])\n",
    "\n",
    "# http://www.astroml.org/book_figures/chapter6/fig_EM_metallicity.html\n"
   ]
  },
  {
   "cell_type": "code",
   "execution_count": 22,
   "metadata": {
    "collapsed": false
   },
   "outputs": [],
   "source": [
    "eruptions_bins = 51\n",
    "waiting_bins = 51\n",
    "H, eruptions_bins, waiting_bins = np.histogram2d(df['eruptions'], df['waiting'],\n",
    "                                          (eruptions_bins, waiting_bins))"
   ]
  },
  {
   "cell_type": "code",
   "execution_count": 69,
   "metadata": {
    "collapsed": true
   },
   "outputs": [],
   "source": [
    "# For code below: looks like I could get access to the coordinates and to the iterations in the below method\n",
    "# https://gist.github.com/bistaumanga/6023716"
   ]
  },
  {
   "cell_type": "code",
   "execution_count": 78,
   "metadata": {
    "collapsed": true
   },
   "outputs": [],
   "source": [
    "\n",
    "class GMM:\n",
    "    \n",
    "    def __init__(self, k = 3, eps = 0.0001):\n",
    "        self.k = k ## number of clusters\n",
    "        self.eps = eps ## threshold to stop `epsilon`\n",
    "        \n",
    "        # All parameters from fitting/learning are kept in a named tuple\n",
    "        from collections import namedtuple\n",
    "    \n",
    "    def fit_EM(self, X, max_iters = 1000):\n",
    "        \n",
    "        # n = number of data-points, d = dimension of data points        \n",
    "        n, d = X.shape\n",
    "        \n",
    "        # randomly choose the starting centroids/means \n",
    "        ## as 3 of the points from datasets        \n",
    "        mu = X[np.random.choice(n, self.k, False), :]\n",
    "        \n",
    "        # initialize the covariance matrices for each gaussians\n",
    "        Sigma= [np.eye(d)] * self.k\n",
    "        print(\"Sigma\", Sigma)\n",
    "        \n",
    "        # initialize the probabilities/weights for each gaussians\n",
    "        w = [1./self.k] * self.k\n",
    "        print (\"W\", w)\n",
    "        \n",
    "        # responsibility matrix is initialized to all zeros\n",
    "        # we have responsibility for each of n points for eack of k gaussians\n",
    "        R = np.zeros((n, self.k))\n",
    "        print (\"responsibility matrix\", R)\n",
    "        \n",
    "        ### log_likelihoods\n",
    "        log_likelihoods = []\n",
    "        \n",
    "        P = lambda mu, s: np.linalg.det(s) ** -.5 ** (2 * np.pi) ** (-X.shape[1]/2.) \\\n",
    "                * np.exp(-.5 * np.einsum('ij, ij -> i',\\\n",
    "                        X - mu, np.dot(np.linalg.inv(s) , (X - mu).T).T ) ) \n",
    "                        \n",
    "        # Iterate till max_iters iterations        \n",
    "        while len(log_likelihoods) < max_iters:\n",
    "            \n",
    "            # E - Step\n",
    "            \n",
    "            ## Vectorized implementation of e-step equation to calculate the \n",
    "            ## membership for each of k -gaussians\n",
    "            for k in range(self.k):\n",
    "                R[:, k] = w[k] * P(mu[k], Sigma[k])\n",
    "\n",
    "            ### Likelihood computation\n",
    "            log_likelihood = np.sum(np.log(np.sum(R, axis = 1)))\n",
    "            print(\"log likelihood\", log_likelihood)\n",
    "            log_likelihoods.append(log_likelihood)\n",
    "            \n",
    "            \n",
    "            ## Normalize so that the responsibility matrix is row stochastic\n",
    "            R = (R.T / np.sum(R, axis = 1)).T\n",
    "            \n",
    "            ## The number of datapoints belonging to each gaussian            \n",
    "            N_ks = np.sum(R, axis = 0)\n",
    "            print (\"num data points belonging to each guassian\", N_ks)\n",
    "            \n",
    "            \n",
    "            # M Step\n",
    "            ## calculate the new mean and covariance for each gaussian by \n",
    "            ## utilizing the new responsibilities\n",
    "            for k in range(self.k):\n",
    "                \n",
    "                ## means\n",
    "                mu[k] = 1. / N_ks[k] * np.sum(R[:, k] * X.T, axis = 1).T\n",
    "                x_mu = np.matrix(X - mu[k])\n",
    "                \n",
    "                ## covariances\n",
    "                Sigma[k] = np.array(1 / N_ks[k] * np.dot(np.multiply(x_mu.T,  R[:, k]), x_mu))\n",
    "                \n",
    "                ## and finally the probabilities\n",
    "                w[k] = 1. / n * N_ks[k]\n",
    "            # check for onvergence\n",
    "            if len(log_likelihoods) < 2 : continue\n",
    "            if np.abs(log_likelihood - log_likelihoods[-2]) < self.eps: break\n",
    "        \n",
    "        ## bind all results together\n",
    "        from collections import namedtuple\n",
    "        self.params = namedtuple('params', ['mu', 'Sigma', 'w', 'log_likelihoods', 'num_iters'])\n",
    "        self.params.mu = mu\n",
    "        self.params.Sigma = Sigma\n",
    "        self.params.w = w\n",
    "        self.params.log_likelihoods = log_likelihoods\n",
    "        self.params.num_iters = len(log_likelihoods)       \n",
    "        \n",
    "        print(\"self.params, \" , self.params)\n",
    "        return self.params\n",
    "    \n",
    "    def plot_log_likelihood(self):\n",
    "        import pylab as plt\n",
    "        plt.plot(self.params.log_likelihoods)\n",
    "        plt.title('Log Likelihood vs iteration plot')\n",
    "        plt.xlabel('Iterations')\n",
    "        plt.ylabel('log likelihood')\n",
    "        plt.show()\n",
    "    \n",
    "    def predict(self, x):\n",
    "        p = lambda mu, s : np.linalg.det(s) ** - 0.5 * (2 * np.pi) **\\\n",
    "                (-len(x)/2) * np.exp( -0.5 * np.dot(x - mu , \\\n",
    "                        np.dot(np.linalg.inv(s) , x - mu)))\n",
    "        probs = np.array([w * p(mu, s) for mu, s, w in \\\n",
    "            zip(self.params.mu, self.params.Sigma, self.params.w)])\n",
    "        return probs/np.sum(probs)"
   ]
  },
  {
   "cell_type": "code",
   "execution_count": 79,
   "metadata": {
    "collapsed": true
   },
   "outputs": [],
   "source": [
    "gmm = GMM( )"
   ]
  },
  {
   "cell_type": "code",
   "execution_count": 80,
   "metadata": {
    "collapsed": false
   },
   "outputs": [
    {
     "name": "stdout",
     "output_type": "stream",
     "text": [
      "Sigma [array([[ 1.,  0.],\n",
      "       [ 0.,  1.]]), array([[ 1.,  0.],\n",
      "       [ 0.,  1.]]), array([[ 1.,  0.],\n",
      "       [ 0.,  1.]])]\n",
      "W [0.3333333333333333, 0.3333333333333333, 0.3333333333333333]\n",
      "responsibility matrix [[ 0.  0.  0.]\n",
      " [ 0.  0.  0.]\n",
      " [ 0.  0.  0.]\n",
      " [ 0.  0.  0.]\n",
      " [ 0.  0.  0.]\n",
      " [ 0.  0.  0.]\n",
      " [ 0.  0.  0.]\n",
      " [ 0.  0.  0.]\n",
      " [ 0.  0.  0.]\n",
      " [ 0.  0.  0.]\n",
      " [ 0.  0.  0.]\n",
      " [ 0.  0.  0.]\n",
      " [ 0.  0.  0.]\n",
      " [ 0.  0.  0.]\n",
      " [ 0.  0.  0.]\n",
      " [ 0.  0.  0.]\n",
      " [ 0.  0.  0.]\n",
      " [ 0.  0.  0.]\n",
      " [ 0.  0.  0.]\n",
      " [ 0.  0.  0.]\n",
      " [ 0.  0.  0.]\n",
      " [ 0.  0.  0.]\n",
      " [ 0.  0.  0.]\n",
      " [ 0.  0.  0.]\n",
      " [ 0.  0.  0.]\n",
      " [ 0.  0.  0.]\n",
      " [ 0.  0.  0.]\n",
      " [ 0.  0.  0.]\n",
      " [ 0.  0.  0.]\n",
      " [ 0.  0.  0.]\n",
      " [ 0.  0.  0.]\n",
      " [ 0.  0.  0.]\n",
      " [ 0.  0.  0.]\n",
      " [ 0.  0.  0.]\n",
      " [ 0.  0.  0.]\n",
      " [ 0.  0.  0.]\n",
      " [ 0.  0.  0.]\n",
      " [ 0.  0.  0.]\n",
      " [ 0.  0.  0.]\n",
      " [ 0.  0.  0.]\n",
      " [ 0.  0.  0.]\n",
      " [ 0.  0.  0.]\n",
      " [ 0.  0.  0.]\n",
      " [ 0.  0.  0.]\n",
      " [ 0.  0.  0.]\n",
      " [ 0.  0.  0.]\n",
      " [ 0.  0.  0.]\n",
      " [ 0.  0.  0.]\n",
      " [ 0.  0.  0.]\n",
      " [ 0.  0.  0.]\n",
      " [ 0.  0.  0.]\n",
      " [ 0.  0.  0.]\n",
      " [ 0.  0.  0.]\n",
      " [ 0.  0.  0.]\n",
      " [ 0.  0.  0.]\n",
      " [ 0.  0.  0.]\n",
      " [ 0.  0.  0.]\n",
      " [ 0.  0.  0.]\n",
      " [ 0.  0.  0.]\n",
      " [ 0.  0.  0.]\n",
      " [ 0.  0.  0.]\n",
      " [ 0.  0.  0.]\n",
      " [ 0.  0.  0.]\n",
      " [ 0.  0.  0.]\n",
      " [ 0.  0.  0.]\n",
      " [ 0.  0.  0.]\n",
      " [ 0.  0.  0.]\n",
      " [ 0.  0.  0.]\n",
      " [ 0.  0.  0.]\n",
      " [ 0.  0.  0.]\n",
      " [ 0.  0.  0.]\n",
      " [ 0.  0.  0.]\n",
      " [ 0.  0.  0.]\n",
      " [ 0.  0.  0.]\n",
      " [ 0.  0.  0.]\n",
      " [ 0.  0.  0.]\n",
      " [ 0.  0.  0.]\n",
      " [ 0.  0.  0.]\n",
      " [ 0.  0.  0.]\n",
      " [ 0.  0.  0.]\n",
      " [ 0.  0.  0.]\n",
      " [ 0.  0.  0.]\n",
      " [ 0.  0.  0.]\n",
      " [ 0.  0.  0.]\n",
      " [ 0.  0.  0.]\n",
      " [ 0.  0.  0.]\n",
      " [ 0.  0.  0.]\n",
      " [ 0.  0.  0.]\n",
      " [ 0.  0.  0.]\n",
      " [ 0.  0.  0.]\n",
      " [ 0.  0.  0.]\n",
      " [ 0.  0.  0.]\n",
      " [ 0.  0.  0.]\n",
      " [ 0.  0.  0.]\n",
      " [ 0.  0.  0.]\n",
      " [ 0.  0.  0.]\n",
      " [ 0.  0.  0.]\n",
      " [ 0.  0.  0.]\n",
      " [ 0.  0.  0.]\n",
      " [ 0.  0.  0.]\n",
      " [ 0.  0.  0.]\n",
      " [ 0.  0.  0.]\n",
      " [ 0.  0.  0.]\n",
      " [ 0.  0.  0.]\n",
      " [ 0.  0.  0.]\n",
      " [ 0.  0.  0.]\n",
      " [ 0.  0.  0.]\n",
      " [ 0.  0.  0.]\n",
      " [ 0.  0.  0.]\n",
      " [ 0.  0.  0.]\n",
      " [ 0.  0.  0.]\n",
      " [ 0.  0.  0.]\n",
      " [ 0.  0.  0.]\n",
      " [ 0.  0.  0.]\n",
      " [ 0.  0.  0.]\n",
      " [ 0.  0.  0.]\n",
      " [ 0.  0.  0.]\n",
      " [ 0.  0.  0.]\n",
      " [ 0.  0.  0.]\n",
      " [ 0.  0.  0.]\n",
      " [ 0.  0.  0.]\n",
      " [ 0.  0.  0.]\n",
      " [ 0.  0.  0.]\n",
      " [ 0.  0.  0.]\n",
      " [ 0.  0.  0.]\n",
      " [ 0.  0.  0.]\n",
      " [ 0.  0.  0.]\n",
      " [ 0.  0.  0.]\n",
      " [ 0.  0.  0.]\n",
      " [ 0.  0.  0.]\n",
      " [ 0.  0.  0.]\n",
      " [ 0.  0.  0.]\n",
      " [ 0.  0.  0.]\n",
      " [ 0.  0.  0.]\n",
      " [ 0.  0.  0.]\n",
      " [ 0.  0.  0.]\n",
      " [ 0.  0.  0.]\n",
      " [ 0.  0.  0.]\n",
      " [ 0.  0.  0.]\n",
      " [ 0.  0.  0.]\n",
      " [ 0.  0.  0.]\n",
      " [ 0.  0.  0.]\n",
      " [ 0.  0.  0.]\n",
      " [ 0.  0.  0.]\n",
      " [ 0.  0.  0.]\n",
      " [ 0.  0.  0.]\n",
      " [ 0.  0.  0.]\n",
      " [ 0.  0.  0.]\n",
      " [ 0.  0.  0.]\n",
      " [ 0.  0.  0.]\n",
      " [ 0.  0.  0.]\n",
      " [ 0.  0.  0.]\n",
      " [ 0.  0.  0.]\n",
      " [ 0.  0.  0.]\n",
      " [ 0.  0.  0.]\n",
      " [ 0.  0.  0.]\n",
      " [ 0.  0.  0.]\n",
      " [ 0.  0.  0.]\n",
      " [ 0.  0.  0.]\n",
      " [ 0.  0.  0.]\n",
      " [ 0.  0.  0.]\n",
      " [ 0.  0.  0.]\n",
      " [ 0.  0.  0.]\n",
      " [ 0.  0.  0.]\n",
      " [ 0.  0.  0.]\n",
      " [ 0.  0.  0.]\n",
      " [ 0.  0.  0.]\n",
      " [ 0.  0.  0.]\n",
      " [ 0.  0.  0.]\n",
      " [ 0.  0.  0.]\n",
      " [ 0.  0.  0.]\n",
      " [ 0.  0.  0.]\n",
      " [ 0.  0.  0.]\n",
      " [ 0.  0.  0.]\n",
      " [ 0.  0.  0.]\n",
      " [ 0.  0.  0.]\n",
      " [ 0.  0.  0.]\n",
      " [ 0.  0.  0.]\n",
      " [ 0.  0.  0.]\n",
      " [ 0.  0.  0.]\n",
      " [ 0.  0.  0.]\n",
      " [ 0.  0.  0.]\n",
      " [ 0.  0.  0.]\n",
      " [ 0.  0.  0.]\n",
      " [ 0.  0.  0.]\n",
      " [ 0.  0.  0.]\n",
      " [ 0.  0.  0.]\n",
      " [ 0.  0.  0.]\n",
      " [ 0.  0.  0.]\n",
      " [ 0.  0.  0.]\n",
      " [ 0.  0.  0.]\n",
      " [ 0.  0.  0.]\n",
      " [ 0.  0.  0.]\n",
      " [ 0.  0.  0.]\n",
      " [ 0.  0.  0.]\n",
      " [ 0.  0.  0.]\n",
      " [ 0.  0.  0.]\n",
      " [ 0.  0.  0.]\n",
      " [ 0.  0.  0.]\n",
      " [ 0.  0.  0.]\n",
      " [ 0.  0.  0.]\n",
      " [ 0.  0.  0.]\n",
      " [ 0.  0.  0.]\n",
      " [ 0.  0.  0.]\n",
      " [ 0.  0.  0.]\n",
      " [ 0.  0.  0.]\n",
      " [ 0.  0.  0.]\n",
      " [ 0.  0.  0.]\n",
      " [ 0.  0.  0.]\n",
      " [ 0.  0.  0.]\n",
      " [ 0.  0.  0.]\n",
      " [ 0.  0.  0.]\n",
      " [ 0.  0.  0.]\n",
      " [ 0.  0.  0.]\n",
      " [ 0.  0.  0.]\n",
      " [ 0.  0.  0.]\n",
      " [ 0.  0.  0.]\n",
      " [ 0.  0.  0.]\n",
      " [ 0.  0.  0.]\n",
      " [ 0.  0.  0.]\n",
      " [ 0.  0.  0.]\n",
      " [ 0.  0.  0.]\n",
      " [ 0.  0.  0.]\n",
      " [ 0.  0.  0.]\n",
      " [ 0.  0.  0.]\n",
      " [ 0.  0.  0.]\n",
      " [ 0.  0.  0.]\n",
      " [ 0.  0.  0.]\n",
      " [ 0.  0.  0.]\n",
      " [ 0.  0.  0.]\n",
      " [ 0.  0.  0.]\n",
      " [ 0.  0.  0.]\n",
      " [ 0.  0.  0.]\n",
      " [ 0.  0.  0.]\n",
      " [ 0.  0.  0.]\n",
      " [ 0.  0.  0.]\n",
      " [ 0.  0.  0.]\n",
      " [ 0.  0.  0.]\n",
      " [ 0.  0.  0.]\n",
      " [ 0.  0.  0.]\n",
      " [ 0.  0.  0.]\n",
      " [ 0.  0.  0.]\n",
      " [ 0.  0.  0.]\n",
      " [ 0.  0.  0.]\n",
      " [ 0.  0.  0.]\n",
      " [ 0.  0.  0.]\n",
      " [ 0.  0.  0.]\n",
      " [ 0.  0.  0.]\n",
      " [ 0.  0.  0.]\n",
      " [ 0.  0.  0.]\n",
      " [ 0.  0.  0.]\n",
      " [ 0.  0.  0.]\n",
      " [ 0.  0.  0.]\n",
      " [ 0.  0.  0.]\n",
      " [ 0.  0.  0.]\n",
      " [ 0.  0.  0.]\n",
      " [ 0.  0.  0.]\n",
      " [ 0.  0.  0.]\n",
      " [ 0.  0.  0.]\n",
      " [ 0.  0.  0.]\n",
      " [ 0.  0.  0.]\n",
      " [ 0.  0.  0.]\n",
      " [ 0.  0.  0.]\n",
      " [ 0.  0.  0.]\n",
      " [ 0.  0.  0.]\n",
      " [ 0.  0.  0.]\n",
      " [ 0.  0.  0.]\n",
      " [ 0.  0.  0.]\n",
      " [ 0.  0.  0.]\n",
      " [ 0.  0.  0.]\n",
      " [ 0.  0.  0.]\n",
      " [ 0.  0.  0.]]\n",
      "log likelihood -3933.54173257\n",
      "num data points belonging to each guassian [ 84.94276879  97.34383154  89.71339967]\n",
      "log likelihood -732.394889893\n",
      "num data points belonging to each guassian [  71.67320051  106.88541238   93.4413871 ]\n",
      "log likelihood -723.606155146\n",
      "num data points belonging to each guassian [  63.99144229  112.73592384   95.27263387]\n",
      "log likelihood -722.403830446\n",
      "num data points belonging to each guassian [  60.79806696  115.33587288   95.86606016]\n",
      "log likelihood -724.024096805\n",
      "num data points belonging to each guassian [  59.62794794  116.35404599   96.01800607]\n",
      "log likelihood -725.69687767\n",
      "num data points belonging to each guassian [  59.20498377  116.7362974    96.05871883]\n",
      "log likelihood -726.886593975\n",
      "num data points belonging to each guassian [  59.07138157  116.85912515   96.06949328]\n",
      "log likelihood -727.738319917\n",
      "num data points belonging to each guassian [  59.05365963  116.87455564   96.07178474]\n",
      "log likelihood -728.381186984\n",
      "num data points belonging to each guassian [  59.08013114  116.84819251   96.07167635]\n",
      "log likelihood -728.890509186\n",
      "num data points belonging to each guassian [  59.11873383  116.81036291   96.07090326]\n",
      "log likelihood -729.310216514\n",
      "num data points belonging to each guassian [  59.15414067  116.77593438   96.06992495]\n",
      "log likelihood -729.667014658\n",
      "num data points belonging to each guassian [  59.17869967  116.75246947   96.06883087]\n",
      "log likelihood -729.977793838\n",
      "num data points belonging to each guassian [  59.18856012  116.74382755   96.06761233]\n",
      "log likelihood -730.253606709\n",
      "num data points belonging to each guassian [  59.18187527  116.75188227   96.06624246]\n",
      "log likelihood -730.501912764\n",
      "num data points belonging to each guassian [  59.15789984  116.77740257   96.06469758]\n",
      "log likelihood -730.72790014\n",
      "num data points belonging to each guassian [  59.11650564  116.82053322   96.06296114]\n",
      "log likelihood -730.935289295\n",
      "num data points belonging to each guassian [  59.05790829  116.88106882   96.06102289]\n",
      "log likelihood -731.126833083\n",
      "num data points belonging to each guassian [  58.98250817  116.95861459   96.05887724]\n",
      "log likelihood -731.304633395\n",
      "num data points belonging to each guassian [  58.89079624  117.05268205   96.05652172]\n",
      "log likelihood -731.470344629\n",
      "num data points belonging to each guassian [  58.78329818  117.16274598   96.05395584]\n",
      "log likelihood -731.625306219\n",
      "num data points belonging to each guassian [  58.66054164  117.28827805   96.05118031]\n",
      "log likelihood -731.770630201\n",
      "num data points belonging to each guassian [  58.52303748  117.42876612   96.04819641]\n",
      "log likelihood -731.907259958\n",
      "num data points belonging to each guassian [  58.37126962  117.58372473   96.04500565]\n",
      "log likelihood -732.036010343\n",
      "num data points belonging to each guassian [  58.20569011  117.75270036   96.04160953]\n",
      "log likelihood -732.15759562\n",
      "num data points belonging to each guassian [  58.02671737  117.93527331   96.03800932]\n",
      "log likelihood -732.272649372\n",
      "num data points belonging to each guassian [  57.83473619  118.1310578    96.03420601]\n",
      "log likelihood -732.381739038\n",
      "num data points belonging to each guassian [  57.63009886  118.33970094   96.0302002 ]\n",
      "log likelihood -732.485376808\n",
      "num data points belonging to each guassian [  57.4131268   118.56088116   96.02599204]\n",
      "log likelihood -732.584028014\n",
      "num data points belonging to each guassian [  57.18411243  118.79430632   96.02158125]\n",
      "log likelihood -732.678117768\n",
      "num data points belonging to each guassian [  56.94332109  119.0397119    96.01696702]\n",
      "log likelihood -732.768036353\n",
      "num data points belonging to each guassian [  56.69099284  119.29685912   96.01214804]\n",
      "log likelihood -732.854143708\n",
      "num data points belonging to each guassian [  56.42734424  119.56553327   96.00712249]\n",
      "log likelihood -732.936773234\n",
      "num data points belonging to each guassian [  56.15256985  119.84554222   96.00188794]\n",
      "log likelihood -733.016235099\n",
      "num data points belonging to each guassian [  55.86684356  120.13671505   95.99644139]\n",
      "log likelihood -733.092819154\n",
      "num data points belonging to each guassian [  55.57031975  120.43890102   95.99077923]\n",
      "log likelihood -733.166797546\n",
      "num data points belonging to each guassian [  55.26313415  120.75196869   95.98489716]\n",
      "log likelihood -733.2384271\n",
      "num data points belonging to each guassian [  54.94540457  121.07580528   95.97879015]\n",
      "log likelihood -733.307951512\n",
      "num data points belonging to each guassian [  54.61723125  121.41031634   95.9724524 ]\n",
      "log likelihood -733.375603408\n",
      "num data points belonging to each guassian [  54.27869712  121.75542562   95.96587726]\n",
      "log likelihood -733.441606292\n",
      "num data points belonging to each guassian [  53.92986761  122.11107528   95.95905711]\n",
      "log likelihood -733.506176424\n",
      "num data points belonging to each guassian [  53.57079033  122.47722639   95.95198328]\n",
      "log likelihood -733.569524647\n",
      "num data points belonging to each guassian [  53.20149433  122.85385975   95.94464592]\n",
      "log likelihood -733.6318582\n",
      "num data points belonging to each guassian [  52.82198903  123.24097714   95.93703383]\n",
      "log likelihood -733.693382535\n",
      "num data points belonging to each guassian [  52.43226276  123.63860293   95.9291343 ]\n",
      "log likelihood -733.754303175\n",
      "num data points belonging to each guassian [  52.03228089  124.04678625   95.92093286]\n",
      "log likelihood -733.814827633\n",
      "num data points belonging to each guassian [  51.62198335  124.46560362   95.91241302]\n",
      "log likelihood -733.875167434\n",
      "num data points belonging to each guassian [  51.20128172  124.8951623    95.90355598]\n",
      "log likelihood -733.935540268\n",
      "num data points belonging to each guassian [  50.77005544  125.33560438   95.89434018]\n",
      "log likelihood -733.996172329\n",
      "num data points belonging to each guassian [  50.32814741  125.78711172   95.88474087]\n",
      "log likelihood -734.057300873\n",
      "num data points belonging to each guassian [  49.87535847  126.24991204   95.87472949]\n",
      "log likelihood -734.119177074\n",
      "num data points belonging to each guassian [  49.41144085  126.7242862    95.86427296]\n",
      "log likelihood -734.182069229\n",
      "num data points belonging to each guassian [  48.93609013  127.2105771    95.85333277]\n",
      "log likelihood -734.246266408\n",
      "num data points belonging to each guassian [  48.44893563  127.70920052   95.84186384]\n",
      "log likelihood -734.31208265\n",
      "num data points belonging to each guassian [  47.94952862  128.22065829   95.82981309]\n",
      "log likelihood -734.37986182\n",
      "num data points belonging to each guassian [  47.43732801  128.74555442   95.81711758]\n",
      "log likelihood -734.449983281\n",
      "num data points belonging to each guassian [  46.91168277  129.28461506   95.80370217]\n",
      "log likelihood -734.52286854\n",
      "num data points belonging to each guassian [  46.37181039  129.83871319   95.78947642]\n",
      "log likelihood -734.598989071\n",
      "num data points belonging to each guassian [  45.81676998  130.40889949   95.77433053]\n",
      "log likelihood -734.678875524\n",
      "num data points belonging to each guassian [  45.24542887  130.99644124   95.75812989]\n",
      "log likelihood -734.763128508\n",
      "num data points belonging to each guassian [  44.6564204   131.60287186   95.74070774]\n",
      "log likelihood -734.852431099\n",
      "num data points belonging to each guassian [  44.04809042  132.23005452   95.72185506]\n",
      "log likelihood -734.947563023\n",
      "num data points belonging to each guassian [  43.41842871  132.88026483   95.70130646]\n",
      "log likelihood -735.049416028\n",
      "num data points belonging to each guassian [  42.76498023  133.55629954   95.67872022]\n",
      "log likelihood -735.159009043\n",
      "num data points belonging to each guassian [  42.0847294   134.26162124   95.65364936]\n",
      "log likelihood -735.27749969\n",
      "num data points belonging to each guassian [  41.37394764  135.00055327   95.62549909]\n",
      "log likelihood -735.406184563\n",
      "num data points belonging to each guassian [  40.62799127  135.77854578   95.59346296]\n",
      "log likelihood -735.546471906\n",
      "num data points belonging to each guassian [  39.84103228  136.60254258   95.55642513]\n",
      "log likelihood -735.699791907\n",
      "num data points belonging to each guassian [  39.0057001   137.48149149   95.51280841]\n",
      "log likelihood -735.867370835\n",
      "num data points belonging to each guassian [  38.11260962  138.42705513   95.46033525]\n",
      "log likelihood -736.049712947\n",
      "num data points belonging to each guassian [  37.14975751  139.45458909   95.3956534 ]\n",
      "log likelihood -736.24546482\n",
      "num data points belonging to each guassian [  36.10179899  140.58443019   95.31377081]\n",
      "log likelihood -736.449018641\n",
      "num data points belonging to each guassian [  34.94930498  141.84338791   95.20730712]\n",
      "log likelihood -736.645778417\n",
      "num data points belonging to each guassian [  33.66828976  143.26579362   95.06591662]\n",
      "log likelihood -736.804266984\n",
      "num data points belonging to each guassian [  32.23065733  144.89191316   94.87742951]\n",
      "log likelihood -736.869031802\n",
      "num data points belonging to each guassian [  30.60719433  146.75820428   94.63460139]\n",
      "log likelihood -736.775433717\n",
      "num data points belonging to each guassian [  28.77882264  148.87118141   94.34999595]\n",
      "log likelihood -736.519486391\n",
      "num data points belonging to each guassian [  26.76756986  151.16907865   94.06335149]\n",
      "log likelihood -736.226848988\n",
      "num data points belonging to each guassian [  24.67087153  153.51349978   93.81562869]\n",
      "log likelihood -736.056073642\n",
      "num data points belonging to each guassian [  22.63516055  155.74547385   93.6193656 ]\n",
      "log likelihood -736.040761044\n",
      "num data points belonging to each guassian [  20.78503818  157.74917824   93.46578358]\n",
      "log likelihood -736.114429668\n",
      "num data points belonging to each guassian [  19.18898731  159.46834339   93.34266931]\n",
      "log likelihood -736.203200896\n",
      "num data points belonging to each guassian [  17.86517103  160.89361349   93.24121548]\n",
      "log likelihood -736.258428271\n",
      "num data points belonging to each guassian [  16.79858005  162.04544699   93.15597296]\n",
      "log likelihood -736.255498545\n",
      "num data points belonging to each guassian [  15.95655779  162.95992369   93.08351853]\n",
      "log likelihood -736.188170622\n",
      "num data points belonging to each guassian [  15.30005117  163.67839744   93.02155138]\n",
      "log likelihood -736.063387842\n",
      "num data points belonging to each guassian [  14.79076565  164.24079441   92.96843994]\n",
      "log likelihood -735.895998789\n",
      "num data points belonging to each guassian [  14.39502142  164.68200499   92.92297359]\n",
      "log likelihood -735.703671967\n",
      "num data points belonging to each guassian [  14.08524921  165.03055817   92.88419262]\n",
      "log likelihood -735.502904059\n",
      "num data points belonging to each guassian [  13.84000477  165.3087243    92.85127092]\n",
      "log likelihood -735.306681619\n",
      "num data points belonging to each guassian [  13.64320376  165.53334458   92.82345166]\n",
      "log likelihood -735.123725361\n",
      "num data points belonging to each guassian [  13.48306706  165.71690672   92.80002622]\n",
      "log likelihood -734.958836194\n",
      "num data points belonging to each guassian [  13.35107301  165.86858883   92.78033816]\n",
      "log likelihood -734.813780673\n",
      "num data points belonging to each guassian [  13.24106291  165.99514223   92.76379486]\n",
      "log likelihood -734.688282494\n",
      "num data points belonging to each guassian [  13.1485455   166.10157808   92.74987642]\n",
      "log likelihood -734.580875987\n",
      "num data points belonging to each guassian [  13.0701895   166.19167238   92.73813812]\n",
      "log likelihood -734.489534073\n",
      "num data points belonging to each guassian [  13.0034693   166.26832377   92.72820694]\n",
      "log likelihood -734.412077244\n",
      "num data points belonging to each guassian [  12.94642457  166.33380124   92.71977419]\n",
      "log likelihood -734.346410249\n",
      "num data points belonging to each guassian [  12.89749944  166.38991402   92.71258654]\n",
      "log likelihood -734.290639849\n",
      "num data points belonging to each guassian [  12.85543518  166.43812799   92.70643683]\n",
      "log likelihood -734.243118463\n",
      "num data points belonging to each guassian [  12.81919774  166.47964652   92.70115574]\n",
      "log likelihood -734.202445912\n",
      "num data points belonging to each guassian [  12.78792783  166.51546759   92.69660458]\n",
      "log likelihood -734.167450134\n",
      "num data points belonging to each guassian [  12.76090543  166.5464252    92.69266936]\n",
      "log likelihood -734.137159351\n",
      "num data points belonging to each guassian [  12.73752371  166.57322028   92.68925601]\n",
      "log likelihood -734.110772531\n",
      "num data points belonging to each guassian [  12.71726913  166.59644435   92.68628652]\n",
      "log likelihood -734.087631601\n",
      "num data points belonging to each guassian [  12.69970588  166.61659818   92.68369594]\n",
      "log likelihood -734.067196838\n",
      "num data points belonging to each guassian [  12.68446336  166.63410669   92.68142995]\n",
      "log likelihood -734.049025828\n",
      "num data points belonging to each guassian [  12.67122583  166.64933118   92.67944299]\n",
      "log likelihood -734.032755846\n",
      "num data points belonging to each guassian [  12.65972395  166.6625794    92.67769665]\n",
      "log likelihood -734.018089304\n",
      "num data points belonging to each guassian [  12.64972758  166.67411388   92.67615854]\n",
      "log likelihood -734.004781795\n",
      "num data points belonging to each guassian [  12.64103978  166.68415904   92.67480118]\n",
      "log likelihood -733.992632344\n",
      "num data points belonging to each guassian [  12.63349175  166.69290699   92.67360126]\n",
      "log likelihood -733.981475451\n",
      "num data points belonging to each guassian [  12.6269385   166.70052259   92.67253891]\n",
      "log likelihood -733.971174617\n",
      "num data points belonging to each guassian [  12.62125527  166.70714757   92.67159716]\n",
      "log likelihood -733.961617069\n",
      "num data points belonging to each guassian [  12.61633443  166.71290407   92.6707615 ]\n",
      "log likelihood -733.952709456\n",
      "num data points belonging to each guassian [  12.6120829   166.71789765   92.67001945]\n",
      "log likelihood -733.944374343\n",
      "num data points belonging to each guassian [  12.60841999  166.72221976   92.66936025]\n",
      "log likelihood -733.936547342\n",
      "num data points belonging to each guassian [  12.6052755   166.72594987   92.66877463]\n",
      "log likelihood -733.929174759\n",
      "num data points belonging to each guassian [  12.60258824  166.72915725   92.66825451]\n",
      "log likelihood -733.922211681\n",
      "num data points belonging to each guassian [  12.60030465  166.73190247   92.66779287]\n",
      "log likelihood -733.915620388\n",
      "num data points belonging to each guassian [  12.59837775  166.73423866   92.66738359]\n",
      "log likelihood -733.909369068\n",
      "num data points belonging to each guassian [  12.59676617  166.73621256   92.66702126]\n",
      "log likelihood -733.903430744\n",
      "num data points belonging to each guassian [  12.59543341  166.73786544   92.66670115]\n",
      "log likelihood -733.897782407\n",
      "num data points belonging to each guassian [  12.59434714  166.73923383   92.66641904]\n",
      "log likelihood -733.892404298\n",
      "num data points belonging to each guassian [  12.59347865  166.74035015   92.6661712 ]\n",
      "log likelihood -733.887279313\n",
      "num data points belonging to each guassian [  12.59280242  166.74124329   92.66595429]\n",
      "log likelihood -733.882392523\n",
      "num data points belonging to each guassian [  12.59229567  166.74193902   92.66576532]\n",
      "log likelihood -733.877730778\n",
      "num data points belonging to each guassian [  12.59193804  166.74246037   92.6656016 ]\n",
      "log likelihood -733.873282383\n",
      "num data points belonging to each guassian [  12.59171131  166.74282799   92.6654607 ]\n",
      "log likelihood -733.869036829\n",
      "num data points belonging to each guassian [  12.59159915  166.74306041   92.66534043]\n",
      "log likelihood -733.864984586\n",
      "num data points belonging to each guassian [  12.59158693  166.74317428   92.66523879]\n",
      "log likelihood -733.861116921\n",
      "num data points belonging to each guassian [  12.59166149  166.74318456   92.66515395]\n",
      "log likelihood -733.85742576\n",
      "num data points belonging to each guassian [  12.59181102  166.74310472   92.66508426]\n",
      "log likelihood -733.853903576\n",
      "num data points belonging to each guassian [  12.59202493  166.74294687   92.6650282 ]\n",
      "log likelihood -733.850543297\n",
      "num data points belonging to each guassian [  12.59229372  166.7427219    92.66498438]\n",
      "log likelihood -733.847338234\n",
      "num data points belonging to each guassian [  12.59260884  166.74243963   92.66495153]\n",
      "log likelihood -733.844282026\n",
      "num data points belonging to each guassian [  12.59296267  166.74210884   92.66492849]\n",
      "log likelihood -733.841368591\n",
      "num data points belonging to each guassian [  12.59334838  166.74173745   92.66491418]\n",
      "log likelihood -733.838592098\n",
      "num data points belonging to each guassian [  12.59375987  166.74133251   92.66490762]\n",
      "log likelihood -733.835946934\n",
      "num data points belonging to each guassian [  12.59419171  166.74090038   92.66490791]\n",
      "log likelihood -733.833427689\n",
      "num data points belonging to each guassian [  12.59463909  166.74044667   92.66491424]\n",
      "log likelihood -733.831029135\n",
      "num data points belonging to each guassian [  12.59509772  166.73997643   92.66492584]\n",
      "log likelihood -733.82874622\n",
      "num data points belonging to each guassian [  12.59556385  166.73949411   92.66494203]\n",
      "log likelihood -733.826574055\n",
      "num data points belonging to each guassian [  12.59603416  166.73900365   92.66496219]\n",
      "log likelihood -733.824507909\n",
      "num data points belonging to each guassian [  12.59650575  166.73850852   92.66498573]\n",
      "log likelihood -733.822543206\n",
      "num data points belonging to each guassian [  12.59697609  166.73801176   92.66501214]\n",
      "log likelihood -733.820675519\n",
      "num data points belonging to each guassian [  12.59744301  166.73751604   92.66504096]\n",
      "log likelihood -733.818900567\n",
      "num data points belonging to each guassian [  12.59790461  166.73702365   92.66507174]\n",
      "log likelihood -733.817214217\n",
      "num data points belonging to each guassian [  12.59835931  166.73653658   92.66510411]\n",
      "log likelihood -733.815612473\n",
      "num data points belonging to each guassian [  12.59880574  166.73605653   92.66513773]\n",
      "log likelihood -733.814091486\n",
      "num data points belonging to each guassian [  12.59924278  166.73558495   92.66517228]\n",
      "log likelihood -733.812647541\n",
      "num data points belonging to each guassian [  12.59966949  166.73512303   92.66520748]\n",
      "log likelihood -733.811277063\n",
      "num data points belonging to each guassian [  12.60008514  166.73467177   92.66524309]\n",
      "log likelihood -733.809976608\n",
      "num data points belonging to each guassian [  12.60048912  166.73423198   92.6652789 ]\n",
      "log likelihood -733.80874287\n",
      "num data points belonging to each guassian [  12.60088098  166.73380431   92.66531471]\n",
      "log likelihood -733.807572667\n",
      "num data points belonging to each guassian [  12.6012604   166.73338925   92.66535035]\n",
      "log likelihood -733.80646295\n",
      "num data points belonging to each guassian [  12.60162716  166.73298716   92.66538567]\n",
      "log likelihood -733.80541079\n",
      "num data points belonging to each guassian [  12.60198114  166.7325983    92.66542056]\n",
      "log likelihood -733.804413383\n",
      "num data points belonging to each guassian [  12.6023223  166.7322228   92.6654549]\n",
      "log likelihood -733.803468043\n",
      "num data points belonging to each guassian [  12.60265068  166.73186072   92.6654886 ]\n",
      "log likelihood -733.802572198\n",
      "num data points belonging to each guassian [  12.60296637  166.73151206   92.66552158]\n",
      "log likelihood -733.80172339\n",
      "num data points belonging to each guassian [  12.60326952  166.73117671   92.66555378]\n",
      "log likelihood -733.800919268\n",
      "num data points belonging to each guassian [  12.60356032  166.73085453   92.66558514]\n",
      "log likelihood -733.800157587\n",
      "num data points belonging to each guassian [  12.60383902  166.73054534   92.66561564]\n",
      "log likelihood -733.799436206\n",
      "num data points belonging to each guassian [  12.60410587  166.7302489    92.66564522]\n",
      "log likelihood -733.798753079\n",
      "num data points belonging to each guassian [  12.60436117  166.72996495   92.66567388]\n",
      "log likelihood -733.798106257\n",
      "num data points belonging to each guassian [  12.60460521  166.72969319   92.6657016 ]\n",
      "log likelihood -733.797493881\n",
      "num data points belonging to each guassian [  12.60483834  166.7294333    92.66572836]\n",
      "log likelihood -733.796914182\n",
      "num data points belonging to each guassian [  12.60506088  166.72918495   92.66575417]\n",
      "log likelihood -733.796365473\n",
      "num data points belonging to each guassian [  12.60527318  166.7289478    92.66577902]\n",
      "log likelihood -733.795846149\n",
      "num data points belonging to each guassian [  12.60547559  166.72872147   92.66580293]\n",
      "log likelihood -733.795354684\n",
      "num data points belonging to each guassian [  12.60566847  166.72850562   92.66582591]\n",
      "log likelihood -733.794889625\n",
      "num data points belonging to each guassian [  12.60585217  166.72829987   92.66584796]\n",
      "log likelihood -733.794449592\n",
      "num data points belonging to each guassian [  12.60602703  166.72810386   92.66586911]\n",
      "log likelihood -733.794033272\n",
      "num data points belonging to each guassian [  12.60619341  166.72791721   92.66588938]\n",
      "log likelihood -733.793639418\n",
      "num data points belonging to each guassian [  12.60635166  166.72773956   92.66590878]\n",
      "log likelihood -733.793266846\n",
      "num data points belonging to each guassian [  12.6065021   166.72757056   92.66592734]\n",
      "log likelihood -733.792914429\n",
      "num data points belonging to each guassian [  12.60664508  166.72740985   92.66594507]\n",
      "log likelihood -733.792581101\n",
      "num data points belonging to each guassian [  12.60678091  166.72725707   92.66596202]\n",
      "log likelihood -733.792265847\n",
      "num data points belonging to each guassian [  12.6069099   166.7271119    92.66597819]\n",
      "log likelihood -733.791967705\n",
      "num data points belonging to each guassian [  12.60703237  166.726974     92.66599362]\n",
      "log likelihood -733.791685764\n",
      "num data points belonging to each guassian [  12.60714861  166.72684305   92.66600834]\n",
      "log likelihood -733.791419157\n",
      "num data points belonging to each guassian [  12.6072589   166.72671874   92.66602236]\n",
      "log likelihood -733.791167064\n",
      "num data points belonging to each guassian [  12.60736353  166.72660076   92.66603571]\n",
      "log likelihood -733.790928706\n",
      "num data points belonging to each guassian [  12.60746276  166.72648881   92.66604843]\n",
      "log likelihood -733.790703345\n",
      "num data points belonging to each guassian [  12.60755684  166.72638263   92.66606053]\n",
      "log likelihood -733.790490283\n",
      "num data points belonging to each guassian [  12.60764603  166.72628193   92.66607204]\n",
      "log likelihood -733.790288857\n",
      "num data points belonging to each guassian [  12.60773056  166.72618646   92.66608298]\n",
      "log likelihood -733.790098439\n",
      "num data points belonging to each guassian [  12.60781066  166.72609596   92.66609338]\n",
      "log likelihood -733.789918434\n",
      "num data points belonging to each guassian [  12.60788655  166.72601018   92.66610326]\n",
      "log likelihood -733.78974828\n",
      "num data points belonging to each guassian [  12.60795844  166.72592891   92.66611265]\n",
      "log likelihood -733.789587442\n",
      "num data points belonging to each guassian [  12.60802653  166.72585191   92.66612157]\n",
      "log likelihood -733.789435416\n",
      "num data points belonging to each guassian [  12.608091    166.72577897   92.66613003]\n",
      "log likelihood -733.789291723\n",
      "num data points belonging to each guassian [  12.60815205  166.72570989   92.66613806]\n",
      "log likelihood -733.789155911\n",
      "num data points belonging to each guassian [  12.60820985  166.72564448   92.66614568]\n",
      "log likelihood -733.789027551\n",
      "num data points belonging to each guassian [  12.60826456  166.72558254   92.6661529 ]\n",
      "log likelihood -733.788906238\n",
      "num data points belonging to each guassian [  12.60831634  166.7255239    92.66615976]\n",
      "log likelihood -733.788791586\n",
      "num data points belonging to each guassian [  12.60836534  166.7254684    92.66616625]\n",
      "log likelihood -733.788683235\n",
      "num data points belonging to each guassian [  12.60841172  166.72541587   92.66617241]\n",
      "log likelihood -733.788580838\n",
      "num data points belonging to each guassian [  12.6084556   166.72536615   92.66617825]\n",
      "log likelihood -733.788484072\n",
      "num data points belonging to each guassian [  12.60849711  166.72531911   92.66618378]\n",
      "self.params,  <class '__main__.params'>\n"
     ]
    }
   ],
   "source": [
    "gmm_fitted = gmm.fit_EM(X, max_iters = 1000)"
   ]
  },
  {
   "cell_type": "code",
   "execution_count": 67,
   "metadata": {
    "collapsed": false
   },
   "outputs": [
    {
     "data": {
      "image/png": "[encoded data removed]",
      "text/plain": [
       "<matplotlib.figure.Figure at 0x10d44d7f0>"
      ]
     },
     "metadata": {},
     "output_type": "display_data"
    }
   ],
   "source": [
    "gmm.plot_log_likelihood()"
   ]
  },
  {
   "cell_type": "code",
   "execution_count": null,
   "metadata": {
    "collapsed": true
   },
   "outputs": [],
   "source": []
  }
 ],
 "metadata": {
  "kernelspec": {
   "display_name": "Python 3",
   "language": "python",
   "name": "python3"
  },
  "language_info": {
   "codemirror_mode": {
    "name": "ipython",
    "version": 3
   },
   "file_extension": ".py",
   "mimetype": "text/x-python",
   "name": "python",
   "nbconvert_exporter": "python",
   "pygments_lexer": "ipython3",
   "version": "3.4.5"
  }
 },
 "nbformat": 4,
 "nbformat_minor": 0
}
