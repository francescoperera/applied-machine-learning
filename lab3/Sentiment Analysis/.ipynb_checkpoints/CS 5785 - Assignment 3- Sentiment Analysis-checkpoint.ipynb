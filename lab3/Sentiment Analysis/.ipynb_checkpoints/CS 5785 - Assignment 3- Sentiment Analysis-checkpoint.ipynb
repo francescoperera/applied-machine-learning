{
 "cells": [
  {
   "cell_type": "markdown",
   "metadata": {},
   "source": [
    "## Imports"
   ]
  },
  {
   "cell_type": "code",
   "execution_count": 2,
   "metadata": {
    "collapsed": false
   },
   "outputs": [],
   "source": [
    "import pandas as pd\n",
    "import numpy as np\n",
    "from nltk.stem.wordnet import WordNetLemmatizer\n",
    "from nltk.corpus import stopwords\n",
    "import string\n",
    "import re"
   ]
  },
  {
   "cell_type": "markdown",
   "metadata": {},
   "source": [
    "## 1a. Download and  load Data"
   ]
  },
  {
   "cell_type": "code",
   "execution_count": 11,
   "metadata": {
    "collapsed": true
   },
   "outputs": [],
   "source": [
    "#File Locations\n",
    "amazonFileName = \"sentiment labelled sentences/amazon_cells_labelled.txt\"\n",
    "yelpFileName = \"sentiment labelled sentences/yelp_labelled.txt\"\n",
    "imdbFileName = \"sentiment labelled sentences/imdb_labelled.txt\""
   ]
  },
  {
   "cell_type": "code",
   "execution_count": 159,
   "metadata": {
    "collapsed": true
   },
   "outputs": [],
   "source": [
    "#Special case - imdb, both tabs and newlines need to be taken care of\n",
    "def cleanFile(fname):\n",
    "    f = open(fname,\"r\")\n",
    "    cleanOutput=[]\n",
    "    for line in f:\n",
    "        line = line.replace(\"\\n\",\"\")\n",
    "        cleanOutput.append(line.split(\"\\t\"))\n",
    "    return cleanOutput"
   ]
  },
  {
   "cell_type": "code",
   "execution_count": 160,
   "metadata": {
    "collapsed": false
   },
   "outputs": [],
   "source": [
    "#Import Data into Pandas\n",
    "amazon = pd.read_csv(amazonFileName, sep=\"\\t\",header=None).dropna().reset_index().drop(\"index\",axis =1)\n",
    "yelp = pd.read_csv(yelpFileName, sep=\"\\t\", header=None,encoding=\"utf-8\").dropna().reset_index().drop(\"index\", axis=1)\n",
    "\n",
    "cleanImdb = cleanFile(imdbFileName)\n",
    "imdb = pd.DataFrame(cleanImdb)"
   ]
  },
  {
   "cell_type": "code",
   "execution_count": 161,
   "metadata": {
    "collapsed": false
   },
   "outputs": [
    {
     "name": "stdout",
     "output_type": "stream",
     "text": [
      "                                                     0  1\n",
      "0    So there is no way for me to plug it in here i...  0\n",
      "1                          Good case, Excellent value.  1\n",
      "2                               Great for the jawbone.  1\n",
      "3    Tied to charger for conversations lasting more...  0\n",
      "4                                    The mic is great.  1\n",
      "5    I have to jiggle the plug to get it to line up...  0\n",
      "6    If you have several dozen or several hundred c...  0\n",
      "7          If you are Razr owner...you must have this!  1\n",
      "8                  Needless to say, I wasted my money.  0\n",
      "9                     What a waste of money and time!.  0\n",
      "10                     And the sound quality is great.  1\n",
      "11   He was very impressed when going from the orig...  1\n",
      "12   If the two were seperated by a mere 5+ ft I st...  0\n",
      "13                            Very good quality though  1\n",
      "14   The design is very odd, as the ear \"clip\" is n...  0\n",
      "15   Highly recommend for any one who has a blue to...  1\n",
      "16                 I advise EVERYONE DO NOT BE FOOLED!  0\n",
      "17                                    So Far So Good!.  1\n",
      "18                                       Works great!.  1\n",
      "19   It clicks into place in a way that makes you w...  0\n",
      "20   I went on Motorola's website and followed all ...  0\n",
      "21   I bought this to use with my Kindle Fire and a...  1\n",
      "22            The commercials are the most misleading.  0\n",
      "23   I have yet to run this new battery below two b...  1\n",
      "24   I bought it for my mother and she had a proble...  0\n",
      "25                Great Pocket PC / phone combination.  1\n",
      "26   I've owned this phone for 7 months now and can...  1\n",
      "27   I didn't think that the instructions provided ...  0\n",
      "28   People couldnt hear me talk and I had to pull ...  0\n",
      "29                                Doesn't hold charge.  0\n",
      "..                                                 ... ..\n",
      "970  I plugged it in only to find out not a darn th...  0\n",
      "971                                 Excellent product.  1\n",
      "972                        Earbud piece breaks easily.  0\n",
      "973                                     Lousy product.  0\n",
      "974  This phone tries very hard to do everything bu...  0\n",
      "975  It is the best charger I have seen on the mark...  1\n",
      "976                                  SWEETEST PHONE!!!  1\n",
      "977             :-)Oh, the charger seems to work fine.  1\n",
      "978  It fits so securely that the ear hook does not...  1\n",
      "979                                 Not enough volume.  0\n",
      "980                Echo Problem....Very unsatisfactory  0\n",
      "981  you could only take 2 videos at a time and the...  0\n",
      "982                            don't waste your money.  0\n",
      "983  I am going to have to be the first to negative...  0\n",
      "984  Adapter does not provide enough charging current.  0\n",
      "985  There was so much hype over this phone that I ...  0\n",
      "986  You also cannot take pictures with it in the c...  0\n",
      "987                            Phone falls out easily.  0\n",
      "988  It didn't work, people can not hear me when I ...  0\n",
      "989  The text messaging feature is really tricky to...  0\n",
      "990  I'm really disappointed all I have now is a ch...  0\n",
      "991                                Painful on the ear.  0\n",
      "992                   Lasted one day and then blew up.  0\n",
      "993                                      disappointed.  0\n",
      "994                              Kind of flops around.  0\n",
      "995  The screen does get smudged easily because it ...  0\n",
      "996  What a piece of junk.. I lose more calls on th...  0\n",
      "997                       Item Does Not Match Picture.  0\n",
      "998  The only thing that disappoint me is the infra...  0\n",
      "999  You can not answer calls with the unit, never ...  0\n",
      "\n",
      "[1000 rows x 2 columns]\n"
     ]
    }
   ],
   "source": [
    "print amazon"
   ]
  },
  {
   "cell_type": "markdown",
   "metadata": {},
   "source": [
    "## 1.b Preprocessing Strategy"
   ]
  },
  {
   "cell_type": "code",
   "execution_count": 162,
   "metadata": {
    "collapsed": false
   },
   "outputs": [],
   "source": [
    "def lowerCase(x):\n",
    "    \"\"\"\n",
    "    x is a string. Every letter in x is turned to lowercase\n",
    "    \"\"\"\n",
    "    return x.lower()\n",
    "\n",
    "def lemmatize(lmt,x):\n",
    "    \"\"\"\n",
    "    It takes a word x and the lemmatizer lmt from nltk. Lmt lemmatizes x\n",
    "    \"\"\"\n",
    "    return lmt.lemmatize(x)\n",
    "\n",
    "def stripPunctuation(s):\n",
    "    \"\"\"\n",
    "    It takes a string x and uses regular expression library to remove punctuation from it.\n",
    "    Reference: https://www.quora.com/How-do-I-remove-punctuation-from-a-Python-string\n",
    "    \"\"\"\n",
    "    regex = re.compile('[%s]' % re.escape(string.punctuation))\n",
    "    return regex.sub(' ', s)\n",
    "\n",
    "\n",
    "def getStopWords():\n",
    "    # Do all stop words need to be excluded. Should we keep negatives like no or not? - Francesco 10/29.\n",
    "    return set(stopwords.words(\"english\")) \n",
    "\n",
    "def preProcessing(x):\n",
    "    processedString = []\n",
    "    lemmatizer = WordNetLemmatizer()\n",
    "    stopWords = getStopWords()\n",
    "    xLowerCase = lowerCase(x)\n",
    "    xWithoutPunct = stripPunctuation(xLowerCase)\n",
    "    \n",
    "    for word in xWithoutPunct.split():\n",
    "        try:\n",
    "            if unicode(word) not in stopWords:\n",
    "                lemmatizedWord = lemmatize(lemmatizer, unicode(word))\n",
    "                processedString.append(str(lemmatizedWord))\n",
    "        except (UnicodeDecodeError, UnicodeEncodeError):\n",
    "            print \"UnicodeDecodeError: \" + word\n",
    "       \n",
    "    return processedString    "
   ]
  },
  {
   "cell_type": "code",
   "execution_count": 163,
   "metadata": {
    "collapsed": false
   },
   "outputs": [
    {
     "name": "stdout",
     "output_type": "stream",
     "text": [
      "UnicodeDecodeError: fiancé\n",
      "UnicodeDecodeError: café\n",
      "UnicodeDecodeError: crêpe\n",
      "UnicodeDecodeError: puréed\n",
      "UnicodeDecodeError: \n",
      "UnicodeDecodeError: québec\n",
      "UnicodeDecodeError: is",
      "was\n",
      "UnicodeDecodeError: \n",
      "UnicodeDecodeError: clichés\n",
      "UnicodeDecodeError: clichés\n",
      "UnicodeDecodeError: aurvåg\n",
      "UnicodeDecodeError: \n",
      "UnicodeDecodeError: problemsthe\n",
      "UnicodeDecodeError: \n",
      "UnicodeDecodeError: clichés\n",
      "UnicodeDecodeError: \n",
      "UnicodeDecodeError: seeing",
      "\n"
     ]
    }
   ],
   "source": [
    "\"\"\"\n",
    "Apply the preprocessing method on the sentences in the amazon,yelp and imdb dataframes.\n",
    "\"\"\"\n",
    "amazon[0] = amazon[0].map(preProcessing)\n",
    "yelp[0] = yelp[0].map(preProcessing)\n",
    "imdb[0] = imdb[0].map(preProcessing)"
   ]
  },
  {
   "cell_type": "code",
   "execution_count": 196,
   "metadata": {
    "collapsed": false
   },
   "outputs": [],
   "source": [
    "\"\"\"\n",
    "The label values in the imdb dataframe need to casted to ints\n",
    "\"\"\"\n",
    "imdb[1] = imdb[1].map(int)"
   ]
  },
  {
   "cell_type": "markdown",
   "metadata": {},
   "source": [
    "## 1.c Split training and testing set"
   ]
  },
  {
   "cell_type": "markdown",
   "metadata": {},
   "source": [
    "### Amazon"
   ]
  },
  {
   "cell_type": "code",
   "execution_count": 186,
   "metadata": {
    "collapsed": false
   },
   "outputs": [],
   "source": [
    "amazonPositiveTrain = amazon[amazon[1] == 1].head(400)\n",
    "amazonPositiveTest = amazon[amazon[1] == 1].head(100)\n",
    "amazonNegativeTrain = amazon[amazon[1] == 0].head(400)\n",
    "amazonNegativeTest = amazon[amazon[1] == 0].head(100)"
   ]
  },
  {
   "cell_type": "markdown",
   "metadata": {},
   "source": [
    "### Yelp"
   ]
  },
  {
   "cell_type": "code",
   "execution_count": 187,
   "metadata": {
    "collapsed": true
   },
   "outputs": [],
   "source": [
    "yelpPositiveTrain = yelp[yelp[1] == 1].head(400)\n",
    "yelpPositiveTest = yelp[yelp[1] == 1].head(100)\n",
    "yelpNegativeTrain = yelp[yelp[1] == 0].head(400)\n",
    "yelpNegativeTest = yelp[yelp[1] == 0].head(100)"
   ]
  },
  {
   "cell_type": "markdown",
   "metadata": {},
   "source": [
    "### Imdb"
   ]
  },
  {
   "cell_type": "code",
   "execution_count": 197,
   "metadata": {
    "collapsed": true
   },
   "outputs": [],
   "source": [
    "imdbPositiveTrain = imdb[imdb[1] == 1].head(400)\n",
    "imdbPositiveTest = imdb[imdb[1] == 1].head(100)\n",
    "imdbNegativeTrain = imdb[imdb[1] == 0].head(400)\n",
    "imdbNegativeTest = imdb[imdb[1] == 0].head(100)"
   ]
  },
  {
   "cell_type": "code",
   "execution_count": 198,
   "metadata": {
    "collapsed": true
   },
   "outputs": [],
   "source": [
    "trainFrames = [amazonPositiveTrain,amazonNegativeTrain,\n",
    "               yelpPositiveTrain,yelpNegativeTrain,\n",
    "               imdbPositiveTrain,imdbNegativeTrain]\n",
    "\n",
    "testFrames = [amazonPositiveTest,amazonNegativeTest,\n",
    "              yelpPositiveTest,yelpNegativeTest,\n",
    "              imdbPositiveTest,imdbNegativeTest]\n",
    "\n",
    "trainDF = pd.concat(trainFrames).reset_index().drop(\"index\",axis=1)\n",
    "testDF =  pd.concat(testFrames).reset_index().drop(\"index\",axis=1)"
   ]
  },
  {
   "cell_type": "code",
   "execution_count": 199,
   "metadata": {
    "collapsed": false
   },
   "outputs": [
    {
     "name": "stdout",
     "output_type": "stream",
     "text": [
      "(2400, 2)\n",
      "(600, 2)\n"
     ]
    }
   ],
   "source": [
    "print trainDF.shape\n",
    "print testDF.shape"
   ]
  },
  {
   "cell_type": "markdown",
   "metadata": {},
   "source": [
    "## 1.d Bag of Words model"
   ]
  },
  {
   "cell_type": "code",
   "execution_count": 260,
   "metadata": {
    "collapsed": false
   },
   "outputs": [],
   "source": [
    "def generateBag(reviews):\n",
    "    \"\"\"\n",
    "    words is a list of words. The function creates a dictionary of unique words\n",
    "    \"\"\"\n",
    "    wordBag ={}\n",
    "    for review in reviews:\n",
    "        for word in review:\n",
    "            if word not in wordBag.keys():\n",
    "                wordBag[word] = 0\n",
    "    return wordBag\n",
    "\n",
    "def indexBag(bag):\n",
    "    \"\"\"\n",
    "    bag is the input. The function essentially assigns an index for each word in the bag.The index will be needed\n",
    "    for counting the frequency of its word and create the correct feature vector.\n",
    "    \"\"\"\n",
    "    idx = 0\n",
    "    for word in bag.keys():\n",
    "        bag[word] = idx\n",
    "        idx+=1\n",
    "    return bag\n",
    "\n",
    "def wordFrequency(reviews,bag):\n",
    "    \"\"\"\n",
    "    iterates through a review and using the bag, it returns the feature vector of the review.\n",
    "    \"\"\"\n",
    "    featureVectorList = []\n",
    "    for review in reviews:\n",
    "        featureVec = [0 for uniqueWord in range(0,len(bag.keys()))]\n",
    "        for word in review:\n",
    "            if word in bag.keys():\n",
    "                #update the value in featureVec whose index is found in bag[word]\n",
    "                featureVec[bag[word]]+=1\n",
    "            else:\n",
    "                print \"Error: \" + word + \" is not in the bag.\"\n",
    "        featureVectorList.append(featureVec)\n",
    "    return pd.DataFrame(featureVectorList,columns = bag.keys())"
   ]
  },
  {
   "cell_type": "code",
   "execution_count": 255,
   "metadata": {
    "collapsed": false
   },
   "outputs": [],
   "source": [
    "#generate bag only from Training Data\n",
    "bagOfWords = generateBag(trainDF[0].tolist())\n",
    "indexedBag = indexBag(bagOfWords)"
   ]
  },
  {
   "cell_type": "code",
   "execution_count": 261,
   "metadata": {
    "collapsed": false
   },
   "outputs": [],
   "source": [
    "#generate all the feature vectors for Training and Test Data\n",
    "trainingVecs = wordFrequency(trainDF[0].tolist(),indexedBag)\n",
    "testVecs = wordFrequency(testDF[0].tolist(),indexedBag)"
   ]
  },
  {
   "cell_type": "code",
   "execution_count": 263,
   "metadata": {
    "collapsed": false
   },
   "outputs": [
    {
     "name": "stdout",
     "output_type": "stream",
     "text": [
      "   limited  versatile  secondly  magnetic  personally  bear  yellow  sleek  \\\n",
      "0        0          0         0         0           0     0       0      0   \n",
      "1        0          0         0         0           0     0       0      0   \n",
      "\n",
      "   four  sleep   ...     jewel  forgetting  portion  pandering  compete  \\\n",
      "0     0      0   ...         0           0        0          0        0   \n",
      "1     0      0   ...         0           0        0          0        0   \n",
      "\n",
      "   monstrous  searched  yell  abhor  jawbone  \n",
      "0          0         0     0      0        0  \n",
      "1          0         0     0      0        1  \n",
      "\n",
      "[2 rows x 4075 columns]\n"
     ]
    }
   ],
   "source": [
    "#Report feature vectors any two reviews\n",
    "print trainingVecs.head(2)"
   ]
  },
  {
   "cell_type": "markdown",
   "metadata": {},
   "source": [
    "## 1.e Postprocessing Strategy"
   ]
  },
  {
   "cell_type": "code",
   "execution_count": null,
   "metadata": {
    "collapsed": true
   },
   "outputs": [],
   "source": []
  },
  {
   "cell_type": "code",
   "execution_count": null,
   "metadata": {
    "collapsed": true
   },
   "outputs": [],
   "source": []
  },
  {
   "cell_type": "code",
   "execution_count": null,
   "metadata": {
    "collapsed": true
   },
   "outputs": [],
   "source": []
  },
  {
   "cell_type": "code",
   "execution_count": null,
   "metadata": {
    "collapsed": true
   },
   "outputs": [],
   "source": []
  },
  {
   "cell_type": "markdown",
   "metadata": {},
   "source": []
  }
 ],
 "metadata": {
  "kernelspec": {
   "display_name": "Python 2",
   "language": "python",
   "name": "python2"
  },
  "language_info": {
   "codemirror_mode": {
    "name": "ipython",
    "version": 2
   },
   "file_extension": ".py",
   "mimetype": "text/x-python",
   "name": "python",
   "nbconvert_exporter": "python",
   "pygments_lexer": "ipython2",
   "version": "2.7.11"
  }
 },
 "nbformat": 4,
 "nbformat_minor": 0
}
