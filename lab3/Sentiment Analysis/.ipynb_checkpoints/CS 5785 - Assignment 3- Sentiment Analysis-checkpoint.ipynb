{
 "cells": [
  {
   "cell_type": "markdown",
   "metadata": {},
   "source": [
    "## Imports"
   ]
  },
  {
   "cell_type": "code",
   "execution_count": 65,
   "metadata": {
    "collapsed": false
   },
   "outputs": [],
   "source": [
    "import pandas as pd\n",
    "import numpy as np\n",
    "from nltk.stem.wordnet import WordNetLemmatizer\n",
    "from nltk.corpus import stopwords\n",
    "import string\n",
    "import re\n",
    "from sklearn import preprocessing\n",
    "import random\n",
    "from sklearn import linear_model\n",
    "from sklearn.metrics import confusion_matrix\n",
    "import scipy"
   ]
  },
  {
   "cell_type": "markdown",
   "metadata": {},
   "source": [
    "## 1a. Download and  load Data"
   ]
  },
  {
   "cell_type": "code",
   "execution_count": 2,
   "metadata": {
    "collapsed": true
   },
   "outputs": [],
   "source": [
    "#File Locations\n",
    "amazonFileName = \"sentiment labelled sentences/amazon_cells_labelled.txt\"\n",
    "yelpFileName = \"sentiment labelled sentences/yelp_labelled.txt\"\n",
    "imdbFileName = \"sentiment labelled sentences/imdb_labelled.txt\""
   ]
  },
  {
   "cell_type": "code",
   "execution_count": 3,
   "metadata": {
    "collapsed": true
   },
   "outputs": [],
   "source": [
    "#Special case - imdb, both tabs and newlines need to be taken care of\n",
    "def cleanFile(fname):\n",
    "    f = open(fname,\"r\")\n",
    "    cleanOutput=[]\n",
    "    for line in f:\n",
    "        line = line.replace(\"\\n\",\"\")\n",
    "        cleanOutput.append(line.split(\"\\t\"))\n",
    "    return cleanOutput"
   ]
  },
  {
   "cell_type": "code",
   "execution_count": 4,
   "metadata": {
    "collapsed": false
   },
   "outputs": [],
   "source": [
    "#Import Data into Pandas\n",
    "amazon = pd.read_csv(amazonFileName, sep=\"\\t\",header=None).dropna().reset_index().drop(\"index\",axis =1)\n",
    "yelp = pd.read_csv(yelpFileName, sep=\"\\t\", header=None,encoding=\"utf-8\").dropna().reset_index().drop(\"index\", axis=1)\n",
    "\n",
    "cleanImdb = cleanFile(imdbFileName)\n",
    "imdb = pd.DataFrame(cleanImdb)"
   ]
  },
  {
   "cell_type": "code",
   "execution_count": 5,
   "metadata": {
    "collapsed": false
   },
   "outputs": [
    {
     "name": "stdout",
     "output_type": "stream",
     "text": [
      "                                                     0  1\n",
      "0    So there is no way for me to plug it in here i...  0\n",
      "1                          Good case, Excellent value.  1\n",
      "2                               Great for the jawbone.  1\n",
      "3    Tied to charger for conversations lasting more...  0\n",
      "4                                    The mic is great.  1\n",
      "5    I have to jiggle the plug to get it to line up...  0\n",
      "6    If you have several dozen or several hundred c...  0\n",
      "7          If you are Razr owner...you must have this!  1\n",
      "8                  Needless to say, I wasted my money.  0\n",
      "9                     What a waste of money and time!.  0\n",
      "10                     And the sound quality is great.  1\n",
      "11   He was very impressed when going from the orig...  1\n",
      "12   If the two were seperated by a mere 5+ ft I st...  0\n",
      "13                            Very good quality though  1\n",
      "14   The design is very odd, as the ear \"clip\" is n...  0\n",
      "15   Highly recommend for any one who has a blue to...  1\n",
      "16                 I advise EVERYONE DO NOT BE FOOLED!  0\n",
      "17                                    So Far So Good!.  1\n",
      "18                                       Works great!.  1\n",
      "19   It clicks into place in a way that makes you w...  0\n",
      "20   I went on Motorola's website and followed all ...  0\n",
      "21   I bought this to use with my Kindle Fire and a...  1\n",
      "22            The commercials are the most misleading.  0\n",
      "23   I have yet to run this new battery below two b...  1\n",
      "24   I bought it for my mother and she had a proble...  0\n",
      "25                Great Pocket PC / phone combination.  1\n",
      "26   I've owned this phone for 7 months now and can...  1\n",
      "27   I didn't think that the instructions provided ...  0\n",
      "28   People couldnt hear me talk and I had to pull ...  0\n",
      "29                                Doesn't hold charge.  0\n",
      "..                                                 ... ..\n",
      "970  I plugged it in only to find out not a darn th...  0\n",
      "971                                 Excellent product.  1\n",
      "972                        Earbud piece breaks easily.  0\n",
      "973                                     Lousy product.  0\n",
      "974  This phone tries very hard to do everything bu...  0\n",
      "975  It is the best charger I have seen on the mark...  1\n",
      "976                                  SWEETEST PHONE!!!  1\n",
      "977             :-)Oh, the charger seems to work fine.  1\n",
      "978  It fits so securely that the ear hook does not...  1\n",
      "979                                 Not enough volume.  0\n",
      "980                Echo Problem....Very unsatisfactory  0\n",
      "981  you could only take 2 videos at a time and the...  0\n",
      "982                            don't waste your money.  0\n",
      "983  I am going to have to be the first to negative...  0\n",
      "984  Adapter does not provide enough charging current.  0\n",
      "985  There was so much hype over this phone that I ...  0\n",
      "986  You also cannot take pictures with it in the c...  0\n",
      "987                            Phone falls out easily.  0\n",
      "988  It didn't work, people can not hear me when I ...  0\n",
      "989  The text messaging feature is really tricky to...  0\n",
      "990  I'm really disappointed all I have now is a ch...  0\n",
      "991                                Painful on the ear.  0\n",
      "992                   Lasted one day and then blew up.  0\n",
      "993                                      disappointed.  0\n",
      "994                              Kind of flops around.  0\n",
      "995  The screen does get smudged easily because it ...  0\n",
      "996  What a piece of junk.. I lose more calls on th...  0\n",
      "997                       Item Does Not Match Picture.  0\n",
      "998  The only thing that disappoint me is the infra...  0\n",
      "999  You can not answer calls with the unit, never ...  0\n",
      "\n",
      "[1000 rows x 2 columns]\n"
     ]
    }
   ],
   "source": [
    "print amazon"
   ]
  },
  {
   "cell_type": "markdown",
   "metadata": {},
   "source": [
    "## 1.b Preprocessing Strategy"
   ]
  },
  {
   "cell_type": "code",
   "execution_count": 6,
   "metadata": {
    "collapsed": false
   },
   "outputs": [],
   "source": [
    "def lowerCase(x):\n",
    "    \"\"\"\n",
    "    x is a string. Every letter in x is turned to lowercase\n",
    "    \"\"\"\n",
    "    return x.lower()\n",
    "\n",
    "def lemmatize(lmt,x):\n",
    "    \"\"\"\n",
    "    It takes a word x and the lemmatizer lmt from nltk. Lmt lemmatizes x\n",
    "    \"\"\"\n",
    "    return lmt.lemmatize(x)\n",
    "\n",
    "def stripPunctuation(s):\n",
    "    \"\"\"\n",
    "    It takes a string x and uses regular expression library to remove punctuation from it.\n",
    "    Reference: https://www.quora.com/How-do-I-remove-punctuation-from-a-Python-string\n",
    "    \"\"\"\n",
    "    regex = re.compile('[%s]' % re.escape(string.punctuation))\n",
    "    return regex.sub(' ', s)\n",
    "\n",
    "\n",
    "def getStopWords():\n",
    "    # Do all stop words need to be excluded. Should we keep negatives like no or not? - Francesco 10/29.\n",
    "    return set(stopwords.words(\"english\")) \n",
    "\n",
    "def preProcessing(x):\n",
    "    processedString = []\n",
    "    lemmatizer = WordNetLemmatizer()\n",
    "    stopWords = getStopWords()\n",
    "    xLowerCase = lowerCase(x)\n",
    "    xWithoutPunct = stripPunctuation(xLowerCase)\n",
    "    \n",
    "    for word in xWithoutPunct.split():\n",
    "        try:\n",
    "            if unicode(word) not in stopWords:\n",
    "                lemmatizedWord = lemmatize(lemmatizer, unicode(word))\n",
    "                processedString.append(str(lemmatizedWord))\n",
    "        except (UnicodeDecodeError, UnicodeEncodeError):\n",
    "            print \"UnicodeDecodeError: \" + word\n",
    "       \n",
    "    return processedString    "
   ]
  },
  {
   "cell_type": "code",
   "execution_count": 7,
   "metadata": {
    "collapsed": false
   },
   "outputs": [
    {
     "name": "stdout",
     "output_type": "stream",
     "text": [
      "UnicodeDecodeError: fiancé\n",
      "UnicodeDecodeError: café\n",
      "UnicodeDecodeError: crêpe\n",
      "UnicodeDecodeError: puréed\n",
      "UnicodeDecodeError: \n",
      "UnicodeDecodeError: québec\n",
      "UnicodeDecodeError: is",
      "was\n",
      "UnicodeDecodeError: \n",
      "UnicodeDecodeError: clichés\n",
      "UnicodeDecodeError: clichés\n",
      "UnicodeDecodeError: aurvåg\n",
      "UnicodeDecodeError: \n",
      "UnicodeDecodeError: problemsthe\n",
      "UnicodeDecodeError: \n",
      "UnicodeDecodeError: clichés\n",
      "UnicodeDecodeError: \n",
      "UnicodeDecodeError: seeing",
      "\n"
     ]
    }
   ],
   "source": [
    "\"\"\"\n",
    "Apply the preprocessing method on the sentences in the amazon,yelp and imdb dataframes.\n",
    "\"\"\"\n",
    "amazon[0] = amazon[0].map(preProcessing)\n",
    "yelp[0] = yelp[0].map(preProcessing)\n",
    "imdb[0] = imdb[0].map(preProcessing)"
   ]
  },
  {
   "cell_type": "code",
   "execution_count": 8,
   "metadata": {
    "collapsed": false
   },
   "outputs": [],
   "source": [
    "\"\"\"\n",
    "The label values in the imdb dataframe need to casted to ints\n",
    "\"\"\"\n",
    "imdb[1] = imdb[1].map(int)"
   ]
  },
  {
   "cell_type": "markdown",
   "metadata": {},
   "source": [
    "## 1.c Split training and testing set"
   ]
  },
  {
   "cell_type": "markdown",
   "metadata": {},
   "source": [
    "### Amazon"
   ]
  },
  {
   "cell_type": "code",
   "execution_count": 9,
   "metadata": {
    "collapsed": false
   },
   "outputs": [],
   "source": [
    "amazonPositiveTrain = amazon[amazon[1] == 1].head(400)\n",
    "amazonPositiveTest = amazon[amazon[1] == 1].head(100)\n",
    "amazonNegativeTrain = amazon[amazon[1] == 0].head(400)\n",
    "amazonNegativeTest = amazon[amazon[1] == 0].head(100)"
   ]
  },
  {
   "cell_type": "markdown",
   "metadata": {},
   "source": [
    "### Yelp"
   ]
  },
  {
   "cell_type": "code",
   "execution_count": 10,
   "metadata": {
    "collapsed": true
   },
   "outputs": [],
   "source": [
    "yelpPositiveTrain = yelp[yelp[1] == 1].head(400)\n",
    "yelpPositiveTest = yelp[yelp[1] == 1].head(100)\n",
    "yelpNegativeTrain = yelp[yelp[1] == 0].head(400)\n",
    "yelpNegativeTest = yelp[yelp[1] == 0].head(100)"
   ]
  },
  {
   "cell_type": "markdown",
   "metadata": {},
   "source": [
    "### Imdb"
   ]
  },
  {
   "cell_type": "code",
   "execution_count": 11,
   "metadata": {
    "collapsed": true
   },
   "outputs": [],
   "source": [
    "imdbPositiveTrain = imdb[imdb[1] == 1].head(400)\n",
    "imdbPositiveTest = imdb[imdb[1] == 1].head(100)\n",
    "imdbNegativeTrain = imdb[imdb[1] == 0].head(400)\n",
    "imdbNegativeTest = imdb[imdb[1] == 0].head(100)"
   ]
  },
  {
   "cell_type": "code",
   "execution_count": 12,
   "metadata": {
    "collapsed": true
   },
   "outputs": [],
   "source": [
    "trainFrames = [amazonPositiveTrain,amazonNegativeTrain,\n",
    "               yelpPositiveTrain,yelpNegativeTrain,\n",
    "               imdbPositiveTrain,imdbNegativeTrain]\n",
    "\n",
    "testFrames = [amazonPositiveTest,amazonNegativeTest,\n",
    "              yelpPositiveTest,yelpNegativeTest,\n",
    "              imdbPositiveTest,imdbNegativeTest]\n",
    "\n",
    "trainDF = pd.concat(trainFrames).reset_index().drop(\"index\",axis=1)\n",
    "testDF =  pd.concat(testFrames).reset_index().drop(\"index\",axis=1)"
   ]
  },
  {
   "cell_type": "code",
   "execution_count": 13,
   "metadata": {
    "collapsed": false
   },
   "outputs": [
    {
     "name": "stdout",
     "output_type": "stream",
     "text": [
      "(2400, 2)\n",
      "(600, 2)\n"
     ]
    }
   ],
   "source": [
    "print trainDF.shape\n",
    "print testDF.shape"
   ]
  },
  {
   "cell_type": "markdown",
   "metadata": {},
   "source": [
    "## 1.d Bag of Words model"
   ]
  },
  {
   "cell_type": "code",
   "execution_count": 14,
   "metadata": {
    "collapsed": false
   },
   "outputs": [],
   "source": [
    "def generateBag(reviews):\n",
    "    \"\"\"\n",
    "    words is a list of words. The function creates a dictionary of unique words\n",
    "    \"\"\"\n",
    "    wordBag ={}\n",
    "    for review in reviews:\n",
    "        for word in review:\n",
    "            if word not in wordBag.keys():\n",
    "                wordBag[word] = 0\n",
    "    return wordBag\n",
    "\n",
    "def indexBag(bag):\n",
    "    \"\"\"\n",
    "    bag is the input. The function essentially assigns an index for each word in the bag.The index will be needed\n",
    "    for counting the frequency of its word and create the correct feature vector.\n",
    "    \"\"\"\n",
    "    idx = 0\n",
    "    for word in bag.keys():\n",
    "        bag[word] = idx\n",
    "        idx+=1\n",
    "    return bag\n",
    "\n",
    "def wordFrequency(reviews,bag):\n",
    "    \"\"\"\n",
    "    iterates through a review and using the bag, it returns the feature vector of the review.\n",
    "    \"\"\"\n",
    "    featureVectorList = []\n",
    "    for review in reviews:\n",
    "        featureVec = [0.0 for uniqueWord in range(0,len(bag.keys()))]\n",
    "        for word in review:\n",
    "            if word in bag.keys():\n",
    "                #update the value in featureVec whose index is found in bag[word]\n",
    "                featureVec[bag[word]]+=1.0\n",
    "            else:\n",
    "                print \"Error: \" + word + \" is not in the bag.\"\n",
    "        featureVectorList.append(featureVec)\n",
    "    return pd.DataFrame(featureVectorList,columns = bag.keys())"
   ]
  },
  {
   "cell_type": "code",
   "execution_count": 15,
   "metadata": {
    "collapsed": false
   },
   "outputs": [],
   "source": [
    "#generate bag only from Training Data\n",
    "bagOfWords = generateBag(trainDF[0].tolist())\n",
    "indexedBag = indexBag(bagOfWords)"
   ]
  },
  {
   "cell_type": "code",
   "execution_count": 16,
   "metadata": {
    "collapsed": false
   },
   "outputs": [],
   "source": [
    "#generate all the feature vectors for Training and Test Data\n",
    "trainingVecs = wordFrequency(trainDF[0].tolist(),indexedBag)\n",
    "testVecs = wordFrequency(testDF[0].tolist(),indexedBag)"
   ]
  },
  {
   "cell_type": "code",
   "execution_count": 17,
   "metadata": {
    "collapsed": false
   },
   "outputs": [
    {
     "name": "stdout",
     "output_type": "stream",
     "text": [
      "   limited  versatile  secondly  magnetic  personally  bear  yellow  sleek  \\\n",
      "0        0          0         0         0           0     0       0      0   \n",
      "1        0          0         0         0           0     0       0      0   \n",
      "\n",
      "   four  sleep   ...     jewel  forgetting  portion  pandering  compete  \\\n",
      "0     0      0   ...         0           0        0          0        0   \n",
      "1     0      0   ...         0           0        0          0        0   \n",
      "\n",
      "   monstrous  searched  yell  abhor  jawbone  \n",
      "0          0         0     0      0        0  \n",
      "1          0         0     0      0        1  \n",
      "\n",
      "[2 rows x 4075 columns]\n"
     ]
    }
   ],
   "source": [
    "#Report feature vectors any two reviews\n",
    "print trainingVecs.head(2)"
   ]
  },
  {
   "cell_type": "markdown",
   "metadata": {},
   "source": [
    "## 1.e Postprocessing Strategy"
   ]
  },
  {
   "cell_type": "code",
   "execution_count": 18,
   "metadata": {
    "collapsed": true
   },
   "outputs": [],
   "source": [
    "### L1 or lasso was chosen as the normalization method because it best suits sparse data.\n",
    "def normalize(df):\n",
    "    normalizedDf = preprocessing.normalize(df, norm='l1')\n",
    "    return pd.DataFrame(normalizedDf)"
   ]
  },
  {
   "cell_type": "code",
   "execution_count": 19,
   "metadata": {
    "collapsed": false
   },
   "outputs": [],
   "source": [
    "normalizedTraining = normalize(trainingVecs)\n",
    "normalizedTest = normalize(testVecs)"
   ]
  },
  {
   "cell_type": "markdown",
   "metadata": {},
   "source": [
    "## 1.f Training set clustering (K-means implementation)"
   ]
  },
  {
   "cell_type": "code",
   "execution_count": 20,
   "metadata": {
    "collapsed": false
   },
   "outputs": [],
   "source": [
    "def getFirstMeans(trainData,k):\n",
    "    firstMeans = []\n",
    "    idxs = [x for x in range(len(trainData))]\n",
    "    meanIdxs = random.sample(idxs,k)\n",
    "    for idx in meanIdxs:\n",
    "        firstMeans.append(trainData.iloc[idx].values)\n",
    "    return firstMeans\n",
    "\n",
    "def clustering(trainData,clusterMeans,k):\n",
    "    rowIdxs = [i for i in range(len(trainData))]\n",
    "    clusters = []\n",
    "    for num in range(k):\n",
    "        clusters.append([])\n",
    "    \n",
    "    for row in rowIdxs :\n",
    "        distances = []\n",
    "        for mean in clusterMeans:\n",
    "            dist = np.linalg.norm(trainData.iloc[row] - mean)\n",
    "            distances.append(dist)\n",
    "        clusterIdx = np.argmin(distances)\n",
    "        \n",
    "        clusters[clusterIdx].append(row)\n",
    "    return clusters\n",
    "    \n",
    "def newMeans(trainData,clusters):\n",
    "    means = []\n",
    "    for cluster in clusters:\n",
    "        clusterMean = np.mean(trainData.iloc[cluster])\n",
    "        means.append(clusterMean)\n",
    "    return means\n",
    "\n",
    "def KMeans(trainData,k):\n",
    "    iters = 0\n",
    "    initMeans = getFirstMeans(trainData,k)\n",
    "    clusters1 = clustering(trainData,initMeans,k)\n",
    "    means1 =  newMeans(trainData,clusters1)\n",
    "    clusters2 = clustering(trainData,means1,k)\n",
    "    means2 = newMeans(trainData,clusters2)\n",
    "    \n",
    "    while clusters1 != clusters2:\n",
    "        print \"iteration: \" + str(iters+1)\n",
    "        clusters1 = clustering(trainData,means2,k)\n",
    "        means1 = newMeans(trainData,clusters1)\n",
    "        clusters2 = clustering(trainData,means1,k)\n",
    "        means2 = newMeans(trainData,clusters2)\n",
    "        iters += 1\n",
    "    \n",
    "    return clusters2\n",
    "\n",
    "    \n",
    "    \n",
    "    "
   ]
  },
  {
   "cell_type": "code",
   "execution_count": 21,
   "metadata": {
    "collapsed": false
   },
   "outputs": [
    {
     "name": "stdout",
     "output_type": "stream",
     "text": [
      "iteration: 1\n",
      "iteration: 2\n",
      "iteration: 3\n"
     ]
    }
   ],
   "source": [
    "k = 2\n",
    "kMeansCluster = KMeans(normalizedTraining,k)"
   ]
  },
  {
   "cell_type": "markdown",
   "metadata": {},
   "source": [
    "### Report Results"
   ]
  },
  {
   "cell_type": "code",
   "execution_count": 22,
   "metadata": {
    "collapsed": false
   },
   "outputs": [],
   "source": [
    "def displayResults(dfTrain,clusters):\n",
    "    dfTrain[1] = dfTrain[1].map(int)\n",
    "    for i,cluster in enumerate(clusters):\n",
    "        clusterData = dfTrain.iloc[cluster]\n",
    "        clusterData[1] = clusterData[1].map(int)\n",
    "        print\n",
    "        print \"Number of points in cluster \" + str(i) + \" :\"  + str(len(cluster))\n",
    "        print \"Number of 1s in cluster \" + str(i) + \" :\" + str(clusterData[clusterData[1] == 1].shape[0])\n",
    "        print \"percent of 1s in  cluster \" + str(i) + \" :\" + str((clusterData[clusterData[1] == 1].shape[0])/float(len(cluster))) \n",
    "        print \"Number of 0s in cluster \" + str(i) + \" :\" + str(clusterData[clusterData[1] == 0].shape[0])\n",
    "        print \"percent of 0s in cluster \" +  str(i) + \" :\" + str((clusterData[clusterData[1] == 0].shape[0])/float(len(cluster)))"
   ]
  },
  {
   "cell_type": "code",
   "execution_count": 23,
   "metadata": {
    "collapsed": false,
    "scrolled": true
   },
   "outputs": [
    {
     "name": "stdout",
     "output_type": "stream",
     "text": [
      "\n",
      "Number of points in cluster 0 :101\n",
      "Number of 1s in cluster 0 :60\n",
      "percent of 1s in  cluster 0 :0.594059405941\n",
      "Number of 0s in cluster 0 :41\n",
      "percent of 0s in cluster 0 :0.405940594059\n",
      "\n",
      "Number of points in cluster 1 :2299\n",
      "Number of 1s in cluster 1 :1140\n",
      "percent of 1s in  cluster 1 :0.495867768595\n",
      "Number of 0s in cluster 1 :1159\n",
      "percent of 0s in cluster 1 :0.504132231405\n"
     ]
    },
    {
     "name": "stderr",
     "output_type": "stream",
     "text": [
      "/Users/francescoperera/anaconda/lib/python2.7/site-packages/ipykernel/__main__.py:5: SettingWithCopyWarning: \n",
      "A value is trying to be set on a copy of a slice from a DataFrame.\n",
      "Try using .loc[row_indexer,col_indexer] = value instead\n",
      "\n",
      "See the caveats in the documentation: http://pandas.pydata.org/pandas-docs/stable/indexing.html#indexing-view-versus-copy\n"
     ]
    }
   ],
   "source": [
    "displayResults(trainDF,kMeansCluster)"
   ]
  },
  {
   "cell_type": "markdown",
   "metadata": {},
   "source": [
    "## 1.g Sentiment prediction"
   ]
  },
  {
   "cell_type": "code",
   "execution_count": 39,
   "metadata": {
    "collapsed": false
   },
   "outputs": [],
   "source": [
    "def logisticRegression(trainVecs,trainLabels,testVecs,testLabels):\n",
    "    model = linear_model.LogisticRegression()\n",
    "    modelFit = model.fit(trainVecs, trainLabels)\n",
    "    score = modelFit.score(testVecs, testLabels)\n",
    "    pred = modelFit.predict(testVecs)\n",
    "    confusionMatrix = confusion_matrix(pred, testLabels)\n",
    "    return score,confusionMatrix"
   ]
  },
  {
   "cell_type": "code",
   "execution_count": 40,
   "metadata": {
    "collapsed": false
   },
   "outputs": [],
   "source": [
    "score,confusionMatrix = logisticRegression(normalizedTraining,trainDF[1],normalizedTest,testDF[1])"
   ]
  },
  {
   "cell_type": "code",
   "execution_count": 41,
   "metadata": {
    "collapsed": false
   },
   "outputs": [
    {
     "name": "stdout",
     "output_type": "stream",
     "text": [
      "0.843333333333\n",
      "[[270  64]\n",
      " [ 30 236]]\n"
     ]
    }
   ],
   "source": [
    "print score\n",
    "print confusionMatrix"
   ]
  },
  {
   "cell_type": "markdown",
   "metadata": {},
   "source": [
    "## 1.h N-gram model"
   ]
  },
  {
   "cell_type": "code",
   "execution_count": 45,
   "metadata": {
    "collapsed": false
   },
   "outputs": [],
   "source": [
    "def generateBiGramDict(reviews):\n",
    "    \"\"\"\n",
    "    words is a list of words. The function creates a dictionary of unique words\n",
    "    \"\"\"\n",
    "    biGramDict ={}\n",
    "    for review in reviews:\n",
    "        for i in range(len(review)-1):\n",
    "            biGram= review[i] + \" \" + review[i+1]\n",
    "            if biGram not in  biGramDict.keys():\n",
    "                biGramDict[biGram] = 0\n",
    "    return biGramDict\n",
    "\n",
    "def indexBiGram(d):\n",
    "    \"\"\"\n",
    "    bag is the input. The function essentially assigns an index for each word in the bag.The index will be needed\n",
    "    for counting the frequency of its word and create the correct feature vector.\n",
    "    \"\"\"\n",
    "    idx = 0\n",
    "    for biGram in d.keys():\n",
    "        d[biGram] = idx\n",
    "        idx+=1\n",
    "    return d\n",
    "\n",
    "def biGramFrequency(reviews,d):\n",
    "    \"\"\"\n",
    "    iterates through a review and using the bag, it returns the feature vector of the review.\n",
    "    \"\"\"\n",
    "    featureVectorList = []\n",
    "    for review in reviews:\n",
    "        featureVec = [0.0 for uniqueWord in range(0,len(d.keys()))]\n",
    "        for i in range(len(review)-1):\n",
    "            biGram= review[i] + \" \" + review[i+1]\n",
    "            if biGram in d.keys():\n",
    "                #update the value in featureVec whose index is found in bag[word]\n",
    "                featureVec[d[biGram]]+=1.0\n",
    "            else:\n",
    "                print \"Error: \" + biGram + \" not in dictionary.\"\n",
    "        featureVectorList.append(featureVec)\n",
    "    return pd.DataFrame(featureVectorList,columns = d.keys())"
   ]
  },
  {
   "cell_type": "code",
   "execution_count": 46,
   "metadata": {
    "collapsed": false
   },
   "outputs": [],
   "source": [
    "#generate bag only from Training Data\n",
    "biGramDict = generateBiGramDict(trainDF[0].tolist())\n",
    "indexedBiGram = indexBiGram(biGramDict)"
   ]
  },
  {
   "cell_type": "code",
   "execution_count": 49,
   "metadata": {
    "collapsed": false
   },
   "outputs": [],
   "source": [
    "#generate all the feature vectors for Training and Test Data\n",
    "biGramTrainingVecs = biGramFrequency(trainDF[0].tolist(),indexedBiGram)\n",
    "biGramTestVecs = biGramFrequency(testDF[0].tolist(),indexedBiGram)"
   ]
  },
  {
   "cell_type": "code",
   "execution_count": 50,
   "metadata": {
    "collapsed": false
   },
   "outputs": [
    {
     "name": "stdout",
     "output_type": "stream",
     "text": [
      "   tension medical  give chill  clock docking  scratched protective  \\\n",
      "0                0           0              0                     0   \n",
      "1                0           0              0                     0   \n",
      "\n",
      "   problem others  expression feeling  except cole  played period  \\\n",
      "0               0                   0            0              0   \n",
      "1               0                   0            0              0   \n",
      "\n",
      "   friend enjoy  eaten multiple     ...      lucy bell  phone mp3  slow take  \\\n",
      "0             0               0     ...              0          0          0   \n",
      "1             0               0     ...              0          0          0   \n",
      "\n",
      "   day week  must shakespear  touching character  barely lukewarm  headset pc  \\\n",
      "0         0                0                   0                0           0   \n",
      "1         0                0                   0                0           0   \n",
      "\n",
      "   later returned  prime time  \n",
      "0               0           0  \n",
      "1               0           0  \n",
      "\n",
      "[2 rows x 11173 columns]\n"
     ]
    }
   ],
   "source": [
    "#Report feature vectors any two reviews\n",
    "print biGramTrainingVecs.head(2)"
   ]
  },
  {
   "cell_type": "markdown",
   "metadata": {},
   "source": [
    "### Run Logistic Regression on the normalized train and test vectors obtained from the Bi Gram model"
   ]
  },
  {
   "cell_type": "code",
   "execution_count": 51,
   "metadata": {
    "collapsed": true
   },
   "outputs": [],
   "source": [
    "normalizedBiGramTrainingVecs = normalize(biGramTrainingVecs)\n",
    "normalizedBiGramTestVecs = normalize(biGramTestVecs)"
   ]
  },
  {
   "cell_type": "code",
   "execution_count": 56,
   "metadata": {
    "collapsed": true
   },
   "outputs": [],
   "source": [
    "biGramScore,biGramConfusionMatrix = logisticRegression(normalizedBiGramTrainingVecs,trainDF[1],\n",
    "                                                       normalizedBiGramTestVecs,testDF[1])"
   ]
  },
  {
   "cell_type": "code",
   "execution_count": 57,
   "metadata": {
    "collapsed": false
   },
   "outputs": [
    {
     "name": "stdout",
     "output_type": "stream",
     "text": [
      "0.976666666667\n",
      "[[300  14]\n",
      " [  0 286]]\n"
     ]
    }
   ],
   "source": [
    "print biGramScore\n",
    "print biGramConfusionMatrix"
   ]
  },
  {
   "cell_type": "markdown",
   "metadata": {},
   "source": [
    "## 1.i PCA for bag of words model."
   ]
  },
  {
   "cell_type": "markdown",
   "metadata": {
    "collapsed": true
   },
   "source": [
    "### PCA Algorithm"
   ]
  },
  {
   "cell_type": "markdown",
   "metadata": {
    "collapsed": true
   },
   "source": [
    "1. Center the data by subtracting the mean from it.\n",
    "2. Calculate the covariance matrix.\n",
    "3. Calculate the eigenvectors of the covariance matrix."
   ]
  },
  {
   "cell_type": "code",
   "execution_count": 60,
   "metadata": {
    "collapsed": true
   },
   "outputs": [],
   "source": [
    "def center(x,mean):\n",
    "    for row in x:\n",
    "        row -= mean\n",
    "    return x"
   ]
  },
  {
   "cell_type": "code",
   "execution_count": 61,
   "metadata": {
    "collapsed": true
   },
   "outputs": [],
   "source": [
    "trainingMean = normalizedTraining.mean()\n",
    "testMean = normalizedTest.mean()"
   ]
  },
  {
   "cell_type": "code",
   "execution_count": 62,
   "metadata": {
    "collapsed": true
   },
   "outputs": [],
   "source": [
    "centeredTraining = center(normalizedTraining,trainingMean)\n",
    "centeredTest = center(normalizedTest,testMean)"
   ]
  },
  {
   "cell_type": "code",
   "execution_count": 66,
   "metadata": {
    "collapsed": false
   },
   "outputs": [],
   "source": [
    "#compute SVD to get the eigenvectors and the eigenvalues\n",
    "UTrain,DTrain, VTrain = scipy.linalg.svd(centeredTraining, full_matrices=False)\n",
    "UTest, DTest, VTest = scipy.linalg.svd(centeredTest, full_matrices=False)"
   ]
  },
  {
   "cell_type": "code",
   "execution_count": null,
   "metadata": {
    "collapsed": true
   },
   "outputs": [],
   "source": []
  },
  {
   "cell_type": "markdown",
   "metadata": {},
   "source": []
  }
 ],
 "metadata": {
  "kernelspec": {
   "display_name": "Python 2",
   "language": "python",
   "name": "python2"
  },
  "language_info": {
   "codemirror_mode": {
    "name": "ipython",
    "version": 2
   },
   "file_extension": ".py",
   "mimetype": "text/x-python",
   "name": "python",
   "nbconvert_exporter": "python",
   "pygments_lexer": "ipython2",
   "version": "2.7.11"
  }
 },
 "nbformat": 4,
 "nbformat_minor": 0
}
